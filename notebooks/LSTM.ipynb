{
 "cells": [
  {
   "cell_type": "markdown",
   "id": "48834b53-803c-4dfb-aa11-e0d5c792977e",
   "metadata": {},
   "source": [
    "# Description"
   ]
  },
  {
   "cell_type": "markdown",
   "id": "685275d5-526d-49ce-8127-6e29257ecc4e",
   "metadata": {},
   "source": [
    "A simple character-level RNN to generate new bits of text"
   ]
  },
  {
   "cell_type": "markdown",
   "id": "b4d9eb22-9084-4760-a3ca-c0d01ce6b838",
   "metadata": {},
   "source": [
    "\n",
    "# Reading and preprocessing text"
   ]
  },
  {
   "cell_type": "markdown",
   "id": "006942f8-d068-4453-a746-f9f837f3e177",
   "metadata": {},
   "source": [
    "First we will read the text from the file and remove portions from the beginning and the end (these contain certain descriptions of the Gutenberg project)."
   ]
  },
  {
   "cell_type": "code",
   "execution_count": 1,
   "id": "773540cd-facd-4efa-951c-225eea68bcf9",
   "metadata": {},
   "outputs": [],
   "source": [
    "\n",
    " ## Reading and processing text\n",
    "with open('preprocessed_dataset.txt', 'r', encoding=\"utf8\") as fp: smiles=fp.read()\n",
    "\n",
    "smile_set = set(smiles)"
   ]
  },
  {
   "cell_type": "code",
   "execution_count": 2,
   "id": "247930b7-c9ca-41e3-91a6-d40aae9edfdd",
   "metadata": {},
   "outputs": [],
   "source": [
    "import numpy as np\n",
    "\n",
    "text = smiles\n",
    "char_set = smile_set  # removes duplicates -> get unique characters"
   ]
  },
  {
   "cell_type": "code",
   "execution_count": 3,
   "id": "9e6ebc48-9f99-4828-8897-d8ecccd40b9a",
   "metadata": {},
   "outputs": [
    {
     "name": "stdout",
     "output_type": "stream",
     "text": [
      "Text Length: 5547397\n",
      "Unique characters: 31\n"
     ]
    }
   ],
   "source": [
    "print(f\"Text Length: {len(text)}\")\n",
    "print(f\"Unique characters: {len(char_set)}\")"
   ]
  },
  {
   "cell_type": "markdown",
   "id": "872528fb-8d89-4ccc-821d-6228b3092844",
   "metadata": {},
   "source": [
    "Now we need to convert this data to numeric format. To do this, we will create a simple Python dictionary that maps each character to an integer. We will also need a reverse mapping to convert the results of our model back to text."
   ]
  },
  {
   "cell_type": "code",
   "execution_count": 4,
   "id": "f3eec34b-d225-42d4-8fe2-b051129e6ad7",
   "metadata": {},
   "outputs": [],
   "source": [
    "chars_sorted = sorted(char_set)\n",
    "char2int = {ch:i for i,ch in enumerate(chars_sorted)}\n",
    "# int2chr = {i:ch for i,ch in enumerate(chars_sorted)}\n",
    "char_array = np.array(chars_sorted) # more efficient than dict"
   ]
  },
  {
   "cell_type": "code",
   "execution_count": 8,
   "id": "a5f5f9fa-702b-4124-b458-9ad737e524a3",
   "metadata": {},
   "outputs": [
    {
     "name": "stdout",
     "output_type": "stream",
     "text": [
      "Text encoded shape:  (5547397,)\n",
      "CC[C@H]1C[C@@H](OC(=O == Encoding ==> [14 14 21 14 12 16 23  7 14 21 14 12 12 16 23  2 19 14  2 11 19]\n",
      "[14 14 21 14 12 16 23  7 14 21 14 12 12 16 23  2 19 14  2 11 19] == Reverse ==> CC[C@H]1C[C@@H](OC(=O\n"
     ]
    }
   ],
   "source": [
    "text_encoded = np.array([char2int[ch] for ch in text], dtype=np.int32)\n",
    "print(\"Text encoded shape: \", text_encoded.shape)\n",
    "print(f\"{text[:21]} == Encoding ==> {text_encoded[:21]}\")\n",
    "print(text_encoded[:21], \"== Reverse ==>\", \"\".join(char_array[text_encoded[:21]]))"
   ]
  },
  {
   "cell_type": "markdown",
   "id": "9842b2f6-c571-41e5-9698-e0e9e338acdf",
   "metadata": {},
   "source": [
    "For the text generation task, we can formulate the problem as a classification task. Since we have 85 unique characters, it becomes a *multiclass* classification task"
   ]
  },
  {
   "cell_type": "markdown",
   "id": "1e9df989-e26d-4599-9311-97630091d9d1",
   "metadata": {},
   "source": [
    "We will clip the sequence length to 40. Longer length is better, but RNN will have problems capturing *long-range* dependencies. Sequence length is a hyperparameter optimization porblem, which we have to evaluate empirically."
   ]
  },
  {
   "cell_type": "code",
   "execution_count": 9,
   "id": "dec3b705-d7ef-4e4c-b485-bfb33fe6ca6c",
   "metadata": {},
   "outputs": [],
   "source": [
    "import torch\n",
    "from torch.utils.data import Dataset"
   ]
  },
  {
   "cell_type": "markdown",
   "id": "3cd2f7f0-a5e7-4bef-87ee-d2eb48cee2c4",
   "metadata": {},
   "source": [
    "We will split text into chunks of size 41. The first 40 character will form input sequence *x*, and the last 40 will form the taregt sequence *y* (since target is just offset by 1)."
   ]
  },
  {
   "cell_type": "code",
   "execution_count": 10,
   "id": "cfd9ffb6-53c2-4421-b863-7cd4cd43b297",
   "metadata": {},
   "outputs": [],
   "source": [
    "seq_length = 40 # hyperparameter\n",
    "chunk_size = seq_length + 1\n",
    "text_chunks = [text_encoded[i:i+chunk_size] for i in range(len(text_encoded) - chunk_size+1)]"
   ]
  },
  {
   "cell_type": "code",
   "execution_count": 11,
   "id": "f8a03ee3-8d6b-4a0d-a034-1f5485d728a0",
   "metadata": {},
   "outputs": [],
   "source": [
    "class TextDataset(Dataset):\n",
    "    def __init__(self, text_chunks):\n",
    "        self.text_chunks = text_chunks\n",
    "\n",
    "    def __len__(self):\n",
    "        return len(self.text_chunks)\n",
    "\n",
    "    def __getitem__(self, idx):\n",
    "        text_chunk = self.text_chunks[idx]\n",
    "        return text_chunk[:-1], text_chunk[1:].long()"
   ]
  },
  {
   "cell_type": "code",
   "execution_count": 10,
   "id": "e7199be7-dfea-4e12-adba-663a2c38831e",
   "metadata": {},
   "outputs": [
    {
     "name": "stdout",
     "output_type": "stream",
     "text": [
      "Input (x):  'CC[C@H]1C[C@@H](OC(=O)COc2ccc([N+](=O)[O'\n",
      "Target (y):  'C[C@H]1C[C@@H](OC(=O)COc2ccc([N+](=O)[O-'\n",
      "\n",
      "Input (x):  'C[C@H]1C[C@@H](OC(=O)COc2ccc([N+](=O)[O-'\n",
      "Target (y):  '[C@H]1C[C@@H](OC(=O)COc2ccc([N+](=O)[O-]'\n",
      "\n"
     ]
    },
    {
     "name": "stderr",
     "output_type": "stream",
     "text": [
      "/var/folders/fp/n6tyvsqs38bcnkzxj_x61ctw0000gn/T/ipykernel_27516/3452713142.py:1: UserWarning: Creating a tensor from a list of numpy.ndarrays is extremely slow. Please consider converting the list to a single numpy.ndarray with numpy.array() before converting to a tensor. (Triggered internally at /Users/runner/work/pytorch/pytorch/pytorch/torch/csrc/utils/tensor_new.cpp:278.)\n",
      "  seq_dataset = TextDataset(torch.tensor(text_chunks))\n"
     ]
    }
   ],
   "source": [
    "seq_dataset = TextDataset(torch.tensor(text_chunks))\n",
    "\n",
    "for i, (seq, target) in enumerate(seq_dataset):\n",
    "    print(\"Input (x): \", repr(\"\".join(char_array[seq])))\n",
    "    print(\"Target (y): \", repr(\"\".join(char_array[target])))\n",
    "    print()\n",
    "    if i == 1: \n",
    "        break"
   ]
  },
  {
   "cell_type": "code",
   "execution_count": 11,
   "id": "4a9f36b5-87d3-4dc1-b36c-176ac2c8e815",
   "metadata": {},
   "outputs": [],
   "source": [
    "# Transform into minibatches\n",
    "from torch.utils.data import DataLoader\n",
    "batch_size = 64\n",
    "torch.manual_seed(1)\n",
    "seq_dl = DataLoader(seq_dataset, batch_size=batch_size, shuffle=True, drop_last=True)"
   ]
  },
  {
   "cell_type": "markdown",
   "id": "9d2d882c-3119-463f-93f3-c2882f407192",
   "metadata": {},
   "source": [
    "The `drop_last` argument drops the last non-full batch of each worker’s iterable-style dataset replica i.e. the `drop_last=True` parameter ignores the last batch (when the number of examples in your dataset is not divisible by your `batch_size`) while `drop_last=False` will make the last batch smaller than your `batch_size`."
   ]
  },
  {
   "cell_type": "markdown",
   "id": "7e4eaba8-5f97-433b-ab92-c1a8f3c6ab68",
   "metadata": {},
   "source": [
    "# Building a character-level RNN model"
   ]
  },
  {
   "cell_type": "code",
   "execution_count": 12,
   "id": "33f195fc-763c-4239-98f7-b1c618de052c",
   "metadata": {},
   "outputs": [],
   "source": [
    "import torch.nn as nn\n",
    "class RNN(nn.Module):\n",
    "    def __init__(self, vocab_size, embed_dim, rnn_hidden_size):\n",
    "        super().__init__()\n",
    "        self.rnn_hidden_size = rnn_hidden_size\n",
    "        self.embedding = nn.Embedding(vocab_size, embed_dim)\n",
    "        self.rnn = nn.LSTM(embed_dim, rnn_hidden_size, batch_first=True)\n",
    "        self.fc = nn.Linear(rnn_hidden_size, vocab_size)\n",
    "\n",
    "    def forward(self, x, hidden, cell):\n",
    "        out = self.embedding(x).unsqueeze(1)\n",
    "        out, (hidden, cell) = self.rnn(out, (hidden, cell))\n",
    "        out = self.fc(out).reshape(out.size(0), -1)\n",
    "        return out, hidden, cell\n",
    "\n",
    "    def init_hidden(self, batch_size):\n",
    "        hidden = torch.zeros(1, batch_size, self.rnn_hidden_size)\n",
    "        cell = torch.zeros(1, batch_size, self.rnn_hidden_size)\n",
    "        return hidden, cell"
   ]
  },
  {
   "cell_type": "markdown",
   "id": "210d3fa2-4abf-473f-9a2b-b56eb88c2072",
   "metadata": {},
   "source": [
    "We are taking `logits` as output so that we can sample from the model predictions in order to generate new text."
   ]
  },
  {
   "cell_type": "code",
   "execution_count": 13,
   "id": "0b6ceeac-5ac0-4e05-a38a-9474ccf0690e",
   "metadata": {},
   "outputs": [
    {
     "data": {
      "text/plain": [
       "RNN(\n",
       "  (embedding): Embedding(31, 256)\n",
       "  (rnn): LSTM(256, 512, batch_first=True)\n",
       "  (fc): Linear(in_features=512, out_features=31, bias=True)\n",
       ")"
      ]
     },
     "execution_count": 13,
     "metadata": {},
     "output_type": "execute_result"
    }
   ],
   "source": [
    "# Create RNN model\n",
    "vocab_size = len(char_array)\n",
    "embed_dim = 256\n",
    "rnn_hidden_size = 512\n",
    "torch.manual_seed(1)\n",
    "model = RNN(vocab_size, embed_dim, rnn_hidden_size)\n",
    "model"
   ]
  },
  {
   "cell_type": "markdown",
   "id": "4fdcfe15-aabf-4bce-9db9-cf6bc243e857",
   "metadata": {},
   "source": [
    "# Train the model"
   ]
  },
  {
   "cell_type": "code",
   "execution_count": 16,
   "id": "6f2d59f3-b212-44a0-a51a-d0f836f42421",
   "metadata": {},
   "outputs": [
    {
     "name": "stderr",
     "output_type": "stream",
     "text": [
      "/Users/sefunmibodun/anaconda3/envs/dami/lib/python3.12/site-packages/tqdm/auto.py:21: TqdmWarning: IProgress not found. Please update jupyter and ipywidgets. See https://ipywidgets.readthedocs.io/en/stable/user_install.html\n",
      "  from .autonotebook import tqdm as notebook_tqdm\n"
     ]
    }
   ],
   "source": [
    "# Define loss and optimizer\n",
    "loss_fn = nn.CrossEntropyLoss()\n",
    "optimizer = torch.optim.Adam(model.parameters(), lr=0.005)"
   ]
  },
  {
   "cell_type": "code",
   "execution_count": 19,
   "id": "17456c1d-11e2-424d-8426-5cb3d6b9c99f",
   "metadata": {},
   "outputs": [],
   "source": [
    "device = \"mps\" if torch.backends.mps.is_available() else \"cpu\""
   ]
  },
  {
   "cell_type": "code",
   "execution_count": 17,
   "id": "1c5822dc-a98b-4e87-b3a6-5cc30adc94cc",
   "metadata": {
    "scrolled": true
   },
   "outputs": [
    {
     "name": "stderr",
     "output_type": "stream",
     "text": [
      "  0%|                                        | 1/2000 [00:02<1:21:53,  2.46s/it]"
     ]
    },
    {
     "name": "stdout",
     "output_type": "stream",
     "text": [
      "Epoch 0 loss: 3.4536\n"
     ]
    },
    {
     "name": "stderr",
     "output_type": "stream",
     "text": [
      "  1%|▍                                        | 21/2000 [00:07<08:12,  4.02it/s]"
     ]
    },
    {
     "name": "stdout",
     "output_type": "stream",
     "text": [
      "Epoch 20 loss: 0.9224\n"
     ]
    },
    {
     "name": "stderr",
     "output_type": "stream",
     "text": [
      "  2%|▊                                        | 41/2000 [00:12<08:05,  4.04it/s]"
     ]
    },
    {
     "name": "stdout",
     "output_type": "stream",
     "text": [
      "Epoch 40 loss: 0.7789\n"
     ]
    },
    {
     "name": "stderr",
     "output_type": "stream",
     "text": [
      "  3%|█▎                                       | 61/2000 [00:17<07:53,  4.09it/s]"
     ]
    },
    {
     "name": "stdout",
     "output_type": "stream",
     "text": [
      "Epoch 60 loss: 0.7210\n"
     ]
    },
    {
     "name": "stderr",
     "output_type": "stream",
     "text": [
      "  4%|█▋                                       | 81/2000 [00:22<07:59,  4.00it/s]"
     ]
    },
    {
     "name": "stdout",
     "output_type": "stream",
     "text": [
      "Epoch 80 loss: 0.7187\n"
     ]
    },
    {
     "name": "stderr",
     "output_type": "stream",
     "text": [
      "  5%|██                                      | 101/2000 [00:27<07:47,  4.06it/s]"
     ]
    },
    {
     "name": "stdout",
     "output_type": "stream",
     "text": [
      "Epoch 100 loss: 0.7317\n"
     ]
    },
    {
     "name": "stderr",
     "output_type": "stream",
     "text": [
      "  6%|██▍                                     | 121/2000 [00:32<07:49,  4.00it/s]"
     ]
    },
    {
     "name": "stdout",
     "output_type": "stream",
     "text": [
      "Epoch 120 loss: 0.7131\n"
     ]
    },
    {
     "name": "stderr",
     "output_type": "stream",
     "text": [
      "  7%|██▊                                     | 141/2000 [00:37<07:34,  4.09it/s]"
     ]
    },
    {
     "name": "stdout",
     "output_type": "stream",
     "text": [
      "Epoch 140 loss: 0.6484\n"
     ]
    },
    {
     "name": "stderr",
     "output_type": "stream",
     "text": [
      "  8%|███▏                                    | 161/2000 [00:42<07:32,  4.06it/s]"
     ]
    },
    {
     "name": "stdout",
     "output_type": "stream",
     "text": [
      "Epoch 160 loss: 0.6539\n"
     ]
    },
    {
     "name": "stderr",
     "output_type": "stream",
     "text": [
      "  9%|███▌                                    | 181/2000 [00:47<07:42,  3.93it/s]"
     ]
    },
    {
     "name": "stdout",
     "output_type": "stream",
     "text": [
      "Epoch 180 loss: 0.6586\n"
     ]
    },
    {
     "name": "stderr",
     "output_type": "stream",
     "text": [
      " 10%|████                                    | 201/2000 [00:52<07:50,  3.82it/s]"
     ]
    },
    {
     "name": "stdout",
     "output_type": "stream",
     "text": [
      "Epoch 200 loss: 0.6130\n"
     ]
    },
    {
     "name": "stderr",
     "output_type": "stream",
     "text": [
      " 11%|████▍                                   | 221/2000 [00:57<07:37,  3.89it/s]"
     ]
    },
    {
     "name": "stdout",
     "output_type": "stream",
     "text": [
      "Epoch 220 loss: 0.6058\n"
     ]
    },
    {
     "name": "stderr",
     "output_type": "stream",
     "text": [
      " 12%|████▊                                   | 241/2000 [01:02<07:39,  3.83it/s]"
     ]
    },
    {
     "name": "stdout",
     "output_type": "stream",
     "text": [
      "Epoch 240 loss: 0.6643\n"
     ]
    },
    {
     "name": "stderr",
     "output_type": "stream",
     "text": [
      " 13%|█████▏                                  | 261/2000 [01:08<07:38,  3.79it/s]"
     ]
    },
    {
     "name": "stdout",
     "output_type": "stream",
     "text": [
      "Epoch 260 loss: 0.6348\n"
     ]
    },
    {
     "name": "stderr",
     "output_type": "stream",
     "text": [
      " 14%|█████▌                                  | 281/2000 [01:13<07:30,  3.81it/s]"
     ]
    },
    {
     "name": "stdout",
     "output_type": "stream",
     "text": [
      "Epoch 280 loss: 0.6415\n"
     ]
    },
    {
     "name": "stderr",
     "output_type": "stream",
     "text": [
      " 15%|██████                                  | 301/2000 [01:18<07:34,  3.74it/s]"
     ]
    },
    {
     "name": "stdout",
     "output_type": "stream",
     "text": [
      "Epoch 300 loss: 0.6259\n"
     ]
    },
    {
     "name": "stderr",
     "output_type": "stream",
     "text": [
      " 16%|██████▍                                 | 321/2000 [01:24<07:33,  3.70it/s]"
     ]
    },
    {
     "name": "stdout",
     "output_type": "stream",
     "text": [
      "Epoch 320 loss: 0.6166\n"
     ]
    },
    {
     "name": "stderr",
     "output_type": "stream",
     "text": [
      " 17%|██████▊                                 | 341/2000 [01:29<07:25,  3.72it/s]"
     ]
    },
    {
     "name": "stdout",
     "output_type": "stream",
     "text": [
      "Epoch 340 loss: 0.5888\n"
     ]
    },
    {
     "name": "stderr",
     "output_type": "stream",
     "text": [
      " 18%|███████▏                                | 361/2000 [01:35<07:41,  3.55it/s]"
     ]
    },
    {
     "name": "stdout",
     "output_type": "stream",
     "text": [
      "Epoch 360 loss: 0.6343\n"
     ]
    },
    {
     "name": "stderr",
     "output_type": "stream",
     "text": [
      " 19%|███████▌                                | 381/2000 [01:40<07:19,  3.68it/s]"
     ]
    },
    {
     "name": "stdout",
     "output_type": "stream",
     "text": [
      "Epoch 380 loss: 0.6164\n"
     ]
    },
    {
     "name": "stderr",
     "output_type": "stream",
     "text": [
      " 20%|████████                                | 401/2000 [01:45<07:14,  3.68it/s]"
     ]
    },
    {
     "name": "stdout",
     "output_type": "stream",
     "text": [
      "Epoch 400 loss: 0.5828\n"
     ]
    },
    {
     "name": "stderr",
     "output_type": "stream",
     "text": [
      " 21%|████████▍                               | 421/2000 [01:51<07:15,  3.62it/s]"
     ]
    },
    {
     "name": "stdout",
     "output_type": "stream",
     "text": [
      "Epoch 420 loss: 0.6136\n"
     ]
    },
    {
     "name": "stderr",
     "output_type": "stream",
     "text": [
      " 22%|████████▊                               | 441/2000 [01:56<07:10,  3.62it/s]"
     ]
    },
    {
     "name": "stdout",
     "output_type": "stream",
     "text": [
      "Epoch 440 loss: 0.6036\n"
     ]
    },
    {
     "name": "stderr",
     "output_type": "stream",
     "text": [
      " 23%|█████████▏                              | 461/2000 [02:02<07:08,  3.59it/s]"
     ]
    },
    {
     "name": "stdout",
     "output_type": "stream",
     "text": [
      "Epoch 460 loss: 0.6386\n"
     ]
    },
    {
     "name": "stderr",
     "output_type": "stream",
     "text": [
      " 24%|█████████▌                              | 481/2000 [02:08<07:18,  3.47it/s]"
     ]
    },
    {
     "name": "stdout",
     "output_type": "stream",
     "text": [
      "Epoch 480 loss: 0.6019\n"
     ]
    },
    {
     "name": "stderr",
     "output_type": "stream",
     "text": [
      " 25%|██████████                              | 501/2000 [02:14<07:01,  3.55it/s]"
     ]
    },
    {
     "name": "stdout",
     "output_type": "stream",
     "text": [
      "Epoch 500 loss: 0.6082\n"
     ]
    },
    {
     "name": "stderr",
     "output_type": "stream",
     "text": [
      " 26%|██████████▍                             | 521/2000 [02:20<07:01,  3.51it/s]"
     ]
    },
    {
     "name": "stdout",
     "output_type": "stream",
     "text": [
      "Epoch 520 loss: 0.6070\n"
     ]
    },
    {
     "name": "stderr",
     "output_type": "stream",
     "text": [
      " 27%|██████████▊                             | 541/2000 [02:25<06:46,  3.59it/s]"
     ]
    },
    {
     "name": "stdout",
     "output_type": "stream",
     "text": [
      "Epoch 540 loss: 0.6127\n"
     ]
    },
    {
     "name": "stderr",
     "output_type": "stream",
     "text": [
      " 28%|███████████▏                            | 561/2000 [02:31<06:56,  3.45it/s]"
     ]
    },
    {
     "name": "stdout",
     "output_type": "stream",
     "text": [
      "Epoch 560 loss: 0.5870\n"
     ]
    },
    {
     "name": "stderr",
     "output_type": "stream",
     "text": [
      " 29%|███████████▌                            | 581/2000 [02:36<06:36,  3.58it/s]"
     ]
    },
    {
     "name": "stdout",
     "output_type": "stream",
     "text": [
      "Epoch 580 loss: 0.5577\n"
     ]
    },
    {
     "name": "stderr",
     "output_type": "stream",
     "text": [
      " 30%|████████████                            | 601/2000 [02:42<06:30,  3.58it/s]"
     ]
    },
    {
     "name": "stdout",
     "output_type": "stream",
     "text": [
      "Epoch 600 loss: 0.6345\n"
     ]
    },
    {
     "name": "stderr",
     "output_type": "stream",
     "text": [
      " 31%|████████████▍                           | 621/2000 [02:48<06:29,  3.54it/s]"
     ]
    },
    {
     "name": "stdout",
     "output_type": "stream",
     "text": [
      "Epoch 620 loss: 0.5995\n"
     ]
    },
    {
     "name": "stderr",
     "output_type": "stream",
     "text": [
      " 32%|████████████▊                           | 641/2000 [02:53<06:25,  3.53it/s]"
     ]
    },
    {
     "name": "stdout",
     "output_type": "stream",
     "text": [
      "Epoch 640 loss: 0.5646\n"
     ]
    },
    {
     "name": "stderr",
     "output_type": "stream",
     "text": [
      " 33%|█████████████▏                          | 661/2000 [02:59<06:16,  3.56it/s]"
     ]
    },
    {
     "name": "stdout",
     "output_type": "stream",
     "text": [
      "Epoch 660 loss: 0.5562\n"
     ]
    },
    {
     "name": "stderr",
     "output_type": "stream",
     "text": [
      " 34%|█████████████▌                          | 681/2000 [03:05<06:07,  3.58it/s]"
     ]
    },
    {
     "name": "stdout",
     "output_type": "stream",
     "text": [
      "Epoch 680 loss: 0.5846\n"
     ]
    },
    {
     "name": "stderr",
     "output_type": "stream",
     "text": [
      " 35%|██████████████                          | 701/2000 [03:10<06:12,  3.49it/s]"
     ]
    },
    {
     "name": "stdout",
     "output_type": "stream",
     "text": [
      "Epoch 700 loss: 0.5877\n"
     ]
    },
    {
     "name": "stderr",
     "output_type": "stream",
     "text": [
      " 36%|██████████████▍                         | 721/2000 [03:16<06:02,  3.52it/s]"
     ]
    },
    {
     "name": "stdout",
     "output_type": "stream",
     "text": [
      "Epoch 720 loss: 0.5925\n"
     ]
    },
    {
     "name": "stderr",
     "output_type": "stream",
     "text": [
      " 37%|██████████████▊                         | 741/2000 [03:22<05:55,  3.54it/s]"
     ]
    },
    {
     "name": "stdout",
     "output_type": "stream",
     "text": [
      "Epoch 740 loss: 0.5687\n"
     ]
    },
    {
     "name": "stderr",
     "output_type": "stream",
     "text": [
      " 38%|███████████████▏                        | 761/2000 [03:27<05:47,  3.57it/s]"
     ]
    },
    {
     "name": "stdout",
     "output_type": "stream",
     "text": [
      "Epoch 760 loss: 0.5867\n"
     ]
    },
    {
     "name": "stderr",
     "output_type": "stream",
     "text": [
      " 39%|███████████████▌                        | 781/2000 [03:33<05:47,  3.51it/s]"
     ]
    },
    {
     "name": "stdout",
     "output_type": "stream",
     "text": [
      "Epoch 780 loss: 0.5734\n"
     ]
    },
    {
     "name": "stderr",
     "output_type": "stream",
     "text": [
      " 40%|████████████████                        | 801/2000 [03:39<05:37,  3.55it/s]"
     ]
    },
    {
     "name": "stdout",
     "output_type": "stream",
     "text": [
      "Epoch 800 loss: 0.5990\n"
     ]
    },
    {
     "name": "stderr",
     "output_type": "stream",
     "text": [
      " 41%|████████████████▍                       | 821/2000 [03:44<05:41,  3.45it/s]"
     ]
    },
    {
     "name": "stdout",
     "output_type": "stream",
     "text": [
      "Epoch 820 loss: 0.5792\n"
     ]
    },
    {
     "name": "stderr",
     "output_type": "stream",
     "text": [
      " 42%|████████████████▊                       | 841/2000 [03:50<05:27,  3.54it/s]"
     ]
    },
    {
     "name": "stdout",
     "output_type": "stream",
     "text": [
      "Epoch 840 loss: 0.5740\n"
     ]
    },
    {
     "name": "stderr",
     "output_type": "stream",
     "text": [
      " 43%|█████████████████▏                      | 861/2000 [03:56<05:21,  3.54it/s]"
     ]
    },
    {
     "name": "stdout",
     "output_type": "stream",
     "text": [
      "Epoch 860 loss: 0.5869\n"
     ]
    },
    {
     "name": "stderr",
     "output_type": "stream",
     "text": [
      " 44%|█████████████████▌                      | 881/2000 [04:01<05:20,  3.49it/s]"
     ]
    },
    {
     "name": "stdout",
     "output_type": "stream",
     "text": [
      "Epoch 880 loss: 0.5650\n"
     ]
    },
    {
     "name": "stderr",
     "output_type": "stream",
     "text": [
      " 45%|██████████████████                      | 901/2000 [04:07<05:17,  3.46it/s]"
     ]
    },
    {
     "name": "stdout",
     "output_type": "stream",
     "text": [
      "Epoch 900 loss: 0.5516\n"
     ]
    },
    {
     "name": "stderr",
     "output_type": "stream",
     "text": [
      " 46%|██████████████████▍                     | 921/2000 [04:13<05:02,  3.57it/s]"
     ]
    },
    {
     "name": "stdout",
     "output_type": "stream",
     "text": [
      "Epoch 920 loss: 0.5278\n"
     ]
    },
    {
     "name": "stderr",
     "output_type": "stream",
     "text": [
      " 47%|██████████████████▊                     | 941/2000 [04:18<04:59,  3.53it/s]"
     ]
    },
    {
     "name": "stdout",
     "output_type": "stream",
     "text": [
      "Epoch 940 loss: 0.5545\n"
     ]
    },
    {
     "name": "stderr",
     "output_type": "stream",
     "text": [
      " 48%|███████████████████▏                    | 961/2000 [04:24<05:04,  3.41it/s]"
     ]
    },
    {
     "name": "stdout",
     "output_type": "stream",
     "text": [
      "Epoch 960 loss: 0.5676\n"
     ]
    },
    {
     "name": "stderr",
     "output_type": "stream",
     "text": [
      " 49%|███████████████████▌                    | 981/2000 [04:30<05:01,  3.38it/s]"
     ]
    },
    {
     "name": "stdout",
     "output_type": "stream",
     "text": [
      "Epoch 980 loss: 0.5674\n"
     ]
    },
    {
     "name": "stderr",
     "output_type": "stream",
     "text": [
      " 50%|███████████████████▌                   | 1001/2000 [04:36<05:00,  3.33it/s]"
     ]
    },
    {
     "name": "stdout",
     "output_type": "stream",
     "text": [
      "Epoch 1000 loss: 0.5764\n"
     ]
    },
    {
     "name": "stderr",
     "output_type": "stream",
     "text": [
      " 51%|███████████████████▉                   | 1021/2000 [04:42<05:00,  3.26it/s]"
     ]
    },
    {
     "name": "stdout",
     "output_type": "stream",
     "text": [
      "Epoch 1020 loss: 0.5438\n"
     ]
    },
    {
     "name": "stderr",
     "output_type": "stream",
     "text": [
      " 52%|████████████████████▎                  | 1041/2000 [04:49<04:58,  3.21it/s]"
     ]
    },
    {
     "name": "stdout",
     "output_type": "stream",
     "text": [
      "Epoch 1040 loss: 0.5607\n"
     ]
    },
    {
     "name": "stderr",
     "output_type": "stream",
     "text": [
      " 53%|████████████████████▋                  | 1061/2000 [04:55<05:03,  3.10it/s]"
     ]
    },
    {
     "name": "stdout",
     "output_type": "stream",
     "text": [
      "Epoch 1060 loss: 0.5761\n"
     ]
    },
    {
     "name": "stderr",
     "output_type": "stream",
     "text": [
      " 54%|█████████████████████                  | 1081/2000 [05:02<05:00,  3.06it/s]"
     ]
    },
    {
     "name": "stdout",
     "output_type": "stream",
     "text": [
      "Epoch 1080 loss: 0.5644\n"
     ]
    },
    {
     "name": "stderr",
     "output_type": "stream",
     "text": [
      " 55%|█████████████████████▍                 | 1101/2000 [05:08<05:01,  2.98it/s]"
     ]
    },
    {
     "name": "stdout",
     "output_type": "stream",
     "text": [
      "Epoch 1100 loss: 0.5684\n"
     ]
    },
    {
     "name": "stderr",
     "output_type": "stream",
     "text": [
      " 56%|█████████████████████▊                 | 1121/2000 [05:15<05:11,  2.83it/s]"
     ]
    },
    {
     "name": "stdout",
     "output_type": "stream",
     "text": [
      "Epoch 1120 loss: 0.5650\n"
     ]
    },
    {
     "name": "stderr",
     "output_type": "stream",
     "text": [
      " 57%|██████████████████████▏                | 1141/2000 [05:22<04:55,  2.91it/s]"
     ]
    },
    {
     "name": "stdout",
     "output_type": "stream",
     "text": [
      "Epoch 1140 loss: 0.5245\n"
     ]
    },
    {
     "name": "stderr",
     "output_type": "stream",
     "text": [
      " 58%|██████████████████████▋                | 1161/2000 [05:29<04:56,  2.83it/s]"
     ]
    },
    {
     "name": "stdout",
     "output_type": "stream",
     "text": [
      "Epoch 1160 loss: 0.5377\n"
     ]
    },
    {
     "name": "stderr",
     "output_type": "stream",
     "text": [
      " 59%|███████████████████████                | 1181/2000 [05:36<04:52,  2.80it/s]"
     ]
    },
    {
     "name": "stdout",
     "output_type": "stream",
     "text": [
      "Epoch 1180 loss: 0.5683\n"
     ]
    },
    {
     "name": "stderr",
     "output_type": "stream",
     "text": [
      " 60%|███████████████████████▍               | 1201/2000 [05:43<04:45,  2.80it/s]"
     ]
    },
    {
     "name": "stdout",
     "output_type": "stream",
     "text": [
      "Epoch 1200 loss: 0.5706\n"
     ]
    },
    {
     "name": "stderr",
     "output_type": "stream",
     "text": [
      " 61%|███████████████████████▊               | 1221/2000 [05:51<04:44,  2.74it/s]"
     ]
    },
    {
     "name": "stdout",
     "output_type": "stream",
     "text": [
      "Epoch 1220 loss: 0.5567\n"
     ]
    },
    {
     "name": "stderr",
     "output_type": "stream",
     "text": [
      " 62%|████████████████████████▏              | 1241/2000 [05:58<04:40,  2.70it/s]"
     ]
    },
    {
     "name": "stdout",
     "output_type": "stream",
     "text": [
      "Epoch 1240 loss: 0.5670\n"
     ]
    },
    {
     "name": "stderr",
     "output_type": "stream",
     "text": [
      " 63%|████████████████████████▌              | 1261/2000 [06:06<04:44,  2.60it/s]"
     ]
    },
    {
     "name": "stdout",
     "output_type": "stream",
     "text": [
      "Epoch 1260 loss: 0.5304\n"
     ]
    },
    {
     "name": "stderr",
     "output_type": "stream",
     "text": [
      " 64%|████████████████████████▉              | 1281/2000 [06:14<05:20,  2.24it/s]"
     ]
    },
    {
     "name": "stdout",
     "output_type": "stream",
     "text": [
      "Epoch 1280 loss: 0.5573\n"
     ]
    },
    {
     "name": "stderr",
     "output_type": "stream",
     "text": [
      " 65%|█████████████████████████▎             | 1301/2000 [06:24<07:32,  1.55it/s]"
     ]
    },
    {
     "name": "stdout",
     "output_type": "stream",
     "text": [
      "Epoch 1300 loss: 0.5621\n"
     ]
    },
    {
     "name": "stderr",
     "output_type": "stream",
     "text": [
      " 66%|█████████████████████████▊             | 1321/2000 [06:35<06:29,  1.74it/s]"
     ]
    },
    {
     "name": "stdout",
     "output_type": "stream",
     "text": [
      "Epoch 1320 loss: 0.5249\n"
     ]
    },
    {
     "name": "stderr",
     "output_type": "stream",
     "text": [
      " 67%|██████████████████████████▏            | 1341/2000 [06:44<04:51,  2.26it/s]"
     ]
    },
    {
     "name": "stdout",
     "output_type": "stream",
     "text": [
      "Epoch 1340 loss: 0.5461\n"
     ]
    },
    {
     "name": "stderr",
     "output_type": "stream",
     "text": [
      " 68%|██████████████████████████▌            | 1361/2000 [06:53<04:27,  2.39it/s]"
     ]
    },
    {
     "name": "stdout",
     "output_type": "stream",
     "text": [
      "Epoch 1360 loss: 0.5359\n"
     ]
    },
    {
     "name": "stderr",
     "output_type": "stream",
     "text": [
      " 69%|██████████████████████████▉            | 1381/2000 [07:03<04:46,  2.16it/s]"
     ]
    },
    {
     "name": "stdout",
     "output_type": "stream",
     "text": [
      "Epoch 1380 loss: 0.5481\n"
     ]
    },
    {
     "name": "stderr",
     "output_type": "stream",
     "text": [
      " 70%|███████████████████████████▎           | 1401/2000 [07:13<04:22,  2.28it/s]"
     ]
    },
    {
     "name": "stdout",
     "output_type": "stream",
     "text": [
      "Epoch 1400 loss: 0.5509\n"
     ]
    },
    {
     "name": "stderr",
     "output_type": "stream",
     "text": [
      " 71%|███████████████████████████▋           | 1421/2000 [07:23<04:18,  2.24it/s]"
     ]
    },
    {
     "name": "stdout",
     "output_type": "stream",
     "text": [
      "Epoch 1420 loss: 0.5376\n"
     ]
    },
    {
     "name": "stderr",
     "output_type": "stream",
     "text": [
      " 72%|████████████████████████████           | 1441/2000 [07:34<04:36,  2.02it/s]"
     ]
    },
    {
     "name": "stdout",
     "output_type": "stream",
     "text": [
      "Epoch 1440 loss: 0.5512\n"
     ]
    },
    {
     "name": "stderr",
     "output_type": "stream",
     "text": [
      " 73%|████████████████████████████▍          | 1461/2000 [07:42<03:41,  2.44it/s]"
     ]
    },
    {
     "name": "stdout",
     "output_type": "stream",
     "text": [
      "Epoch 1460 loss: 0.5398\n"
     ]
    },
    {
     "name": "stderr",
     "output_type": "stream",
     "text": [
      " 74%|████████████████████████████▉          | 1481/2000 [07:51<03:47,  2.29it/s]"
     ]
    },
    {
     "name": "stdout",
     "output_type": "stream",
     "text": [
      "Epoch 1480 loss: 0.5687\n"
     ]
    },
    {
     "name": "stderr",
     "output_type": "stream",
     "text": [
      " 75%|█████████████████████████████▎         | 1501/2000 [07:59<03:28,  2.40it/s]"
     ]
    },
    {
     "name": "stdout",
     "output_type": "stream",
     "text": [
      "Epoch 1500 loss: 0.5302\n"
     ]
    },
    {
     "name": "stderr",
     "output_type": "stream",
     "text": [
      " 76%|█████████████████████████████▋         | 1521/2000 [08:08<03:19,  2.40it/s]"
     ]
    },
    {
     "name": "stdout",
     "output_type": "stream",
     "text": [
      "Epoch 1520 loss: 0.5646\n"
     ]
    },
    {
     "name": "stderr",
     "output_type": "stream",
     "text": [
      " 77%|██████████████████████████████         | 1541/2000 [08:17<03:23,  2.25it/s]"
     ]
    },
    {
     "name": "stdout",
     "output_type": "stream",
     "text": [
      "Epoch 1540 loss: 0.5400\n"
     ]
    },
    {
     "name": "stderr",
     "output_type": "stream",
     "text": [
      " 78%|██████████████████████████████▍        | 1561/2000 [08:25<03:10,  2.31it/s]"
     ]
    },
    {
     "name": "stdout",
     "output_type": "stream",
     "text": [
      "Epoch 1560 loss: 0.5178\n"
     ]
    },
    {
     "name": "stderr",
     "output_type": "stream",
     "text": [
      " 79%|██████████████████████████████▊        | 1581/2000 [08:35<03:10,  2.19it/s]"
     ]
    },
    {
     "name": "stdout",
     "output_type": "stream",
     "text": [
      "Epoch 1580 loss: 0.5583\n"
     ]
    },
    {
     "name": "stderr",
     "output_type": "stream",
     "text": [
      " 80%|███████████████████████████████▏       | 1601/2000 [08:45<03:55,  1.70it/s]"
     ]
    },
    {
     "name": "stdout",
     "output_type": "stream",
     "text": [
      "Epoch 1600 loss: 0.5255\n"
     ]
    },
    {
     "name": "stderr",
     "output_type": "stream",
     "text": [
      " 81%|███████████████████████████████▌       | 1621/2000 [08:54<03:23,  1.86it/s]"
     ]
    },
    {
     "name": "stdout",
     "output_type": "stream",
     "text": [
      "Epoch 1620 loss: 0.5423\n"
     ]
    },
    {
     "name": "stderr",
     "output_type": "stream",
     "text": [
      " 82%|███████████████████████████████▉       | 1641/2000 [09:04<02:45,  2.17it/s]"
     ]
    },
    {
     "name": "stdout",
     "output_type": "stream",
     "text": [
      "Epoch 1640 loss: 0.5369\n"
     ]
    },
    {
     "name": "stderr",
     "output_type": "stream",
     "text": [
      " 83%|████████████████████████████████▍      | 1661/2000 [09:14<02:57,  1.91it/s]"
     ]
    },
    {
     "name": "stdout",
     "output_type": "stream",
     "text": [
      "Epoch 1660 loss: 0.5250\n"
     ]
    },
    {
     "name": "stderr",
     "output_type": "stream",
     "text": [
      " 84%|████████████████████████████████▊      | 1681/2000 [09:25<03:46,  1.41it/s]"
     ]
    },
    {
     "name": "stdout",
     "output_type": "stream",
     "text": [
      "Epoch 1680 loss: 0.5376\n"
     ]
    },
    {
     "name": "stderr",
     "output_type": "stream",
     "text": [
      " 85%|█████████████████████████████████▏     | 1701/2000 [09:35<02:20,  2.13it/s]"
     ]
    },
    {
     "name": "stdout",
     "output_type": "stream",
     "text": [
      "Epoch 1700 loss: 0.5565\n"
     ]
    },
    {
     "name": "stderr",
     "output_type": "stream",
     "text": [
      " 86%|█████████████████████████████████▌     | 1721/2000 [09:44<02:15,  2.07it/s]"
     ]
    },
    {
     "name": "stdout",
     "output_type": "stream",
     "text": [
      "Epoch 1720 loss: 0.5251\n"
     ]
    },
    {
     "name": "stderr",
     "output_type": "stream",
     "text": [
      " 87%|█████████████████████████████████▉     | 1741/2000 [09:54<02:00,  2.16it/s]"
     ]
    },
    {
     "name": "stdout",
     "output_type": "stream",
     "text": [
      "Epoch 1740 loss: 0.5386\n"
     ]
    },
    {
     "name": "stderr",
     "output_type": "stream",
     "text": [
      " 88%|██████████████████████████████████▎    | 1761/2000 [10:03<01:51,  2.15it/s]"
     ]
    },
    {
     "name": "stdout",
     "output_type": "stream",
     "text": [
      "Epoch 1760 loss: 0.5409\n"
     ]
    },
    {
     "name": "stderr",
     "output_type": "stream",
     "text": [
      " 89%|██████████████████████████████████▋    | 1781/2000 [10:13<01:42,  2.13it/s]"
     ]
    },
    {
     "name": "stdout",
     "output_type": "stream",
     "text": [
      "Epoch 1780 loss: 0.5371\n"
     ]
    },
    {
     "name": "stderr",
     "output_type": "stream",
     "text": [
      " 90%|███████████████████████████████████    | 1801/2000 [10:23<01:42,  1.95it/s]"
     ]
    },
    {
     "name": "stdout",
     "output_type": "stream",
     "text": [
      "Epoch 1800 loss: 0.5495\n"
     ]
    },
    {
     "name": "stderr",
     "output_type": "stream",
     "text": [
      " 91%|███████████████████████████████████▌   | 1821/2000 [10:33<01:28,  2.03it/s]"
     ]
    },
    {
     "name": "stdout",
     "output_type": "stream",
     "text": [
      "Epoch 1820 loss: 0.5356\n"
     ]
    },
    {
     "name": "stderr",
     "output_type": "stream",
     "text": [
      " 92%|███████████████████████████████████▉   | 1841/2000 [10:42<01:15,  2.11it/s]"
     ]
    },
    {
     "name": "stdout",
     "output_type": "stream",
     "text": [
      "Epoch 1840 loss: 0.5198\n"
     ]
    },
    {
     "name": "stderr",
     "output_type": "stream",
     "text": [
      " 93%|████████████████████████████████████▎  | 1861/2000 [10:53<01:10,  1.98it/s]"
     ]
    },
    {
     "name": "stdout",
     "output_type": "stream",
     "text": [
      "Epoch 1860 loss: 0.5734\n"
     ]
    },
    {
     "name": "stderr",
     "output_type": "stream",
     "text": [
      " 94%|████████████████████████████████████▋  | 1881/2000 [11:04<01:05,  1.81it/s]"
     ]
    },
    {
     "name": "stdout",
     "output_type": "stream",
     "text": [
      "Epoch 1880 loss: 0.5493\n"
     ]
    },
    {
     "name": "stderr",
     "output_type": "stream",
     "text": [
      " 95%|█████████████████████████████████████  | 1901/2000 [11:16<00:59,  1.66it/s]"
     ]
    },
    {
     "name": "stdout",
     "output_type": "stream",
     "text": [
      "Epoch 1900 loss: 0.5270\n"
     ]
    },
    {
     "name": "stderr",
     "output_type": "stream",
     "text": [
      " 96%|█████████████████████████████████████▍ | 1921/2000 [11:28<00:46,  1.70it/s]"
     ]
    },
    {
     "name": "stdout",
     "output_type": "stream",
     "text": [
      "Epoch 1920 loss: 0.5181\n"
     ]
    },
    {
     "name": "stderr",
     "output_type": "stream",
     "text": [
      " 97%|█████████████████████████████████████▊ | 1941/2000 [11:39<00:32,  1.84it/s]"
     ]
    },
    {
     "name": "stdout",
     "output_type": "stream",
     "text": [
      "Epoch 1940 loss: 0.5169\n"
     ]
    },
    {
     "name": "stderr",
     "output_type": "stream",
     "text": [
      " 98%|██████████████████████████████████████▏| 1961/2000 [11:52<00:26,  1.46it/s]"
     ]
    },
    {
     "name": "stdout",
     "output_type": "stream",
     "text": [
      "Epoch 1960 loss: 0.5629\n"
     ]
    },
    {
     "name": "stderr",
     "output_type": "stream",
     "text": [
      " 99%|██████████████████████████████████████▋| 1981/2000 [12:03<00:10,  1.87it/s]"
     ]
    },
    {
     "name": "stdout",
     "output_type": "stream",
     "text": [
      "Epoch 1980 loss: 0.5303\n"
     ]
    },
    {
     "name": "stderr",
     "output_type": "stream",
     "text": [
      "100%|███████████████████████████████████████| 2000/2000 [12:13<00:00,  2.73it/s]\n"
     ]
    }
   ],
   "source": [
    "from tqdm import tqdm\n",
    "\n",
    "\n",
    "num_epochs = 2000\n",
    "torch.manual_seed(1)\n",
    "\n",
    "model.to(device)\n",
    "for epoch in tqdm(range(num_epochs)):\n",
    "    model.train()\n",
    "    hidden, cell = model.init_hidden(batch_size)\n",
    "    hidden, cell = hidden.to(device), cell.to(device)\n",
    "    seq_batch, target_batch = next(iter(seq_dl))\n",
    "    seq_batch, target_batch = seq_batch.to(device), target_batch.to(device)\n",
    "    optimizer.zero_grad()\n",
    "    loss = 0\n",
    "    for c in range(seq_length):\n",
    "        pred, hidden, cell = model(seq_batch[:, c], hidden, cell)\n",
    "        loss += loss_fn(pred, target_batch[:, c])\n",
    "    loss.backward()\n",
    "    optimizer.step()\n",
    "    loss = loss.item() / seq_length\n",
    "    if epoch % 20 == 0:\n",
    "        print(f\"Epoch {epoch} loss: {loss:.4f}\")"
   ]
  },
  {
   "cell_type": "code",
   "execution_count": 18,
   "id": "62b042fb-21a1-45da-a8ae-86c40a8c912f",
   "metadata": {},
   "outputs": [],
   "source": [
    "torch.save(model.state_dict(), \"./model.pt\")"
   ]
  },
  {
   "cell_type": "code",
   "execution_count": 20,
   "id": "9e6b1fa3-7f84-4bb4-bdf8-0f9e6e5f8f1d",
   "metadata": {},
   "outputs": [
    {
     "data": {
      "text/plain": [
       "<All keys matched successfully>"
      ]
     },
     "execution_count": 20,
     "metadata": {},
     "output_type": "execute_result"
    }
   ],
   "source": [
    "model.load_state_dict(torch.load(\"./model.pt\"))"
   ]
  },
  {
   "cell_type": "code",
   "execution_count": 30,
   "id": "ddb1fd7d-9b6b-4a6b-80e7-f4d1d174ee01",
   "metadata": {},
   "outputs": [
    {
     "data": {
      "text/plain": [
       "RNN(\n",
       "  (embedding): Embedding(31, 256)\n",
       "  (rnn): LSTM(256, 512, batch_first=True)\n",
       "  (fc): Linear(in_features=512, out_features=31, bias=True)\n",
       ")"
      ]
     },
     "execution_count": 30,
     "metadata": {},
     "output_type": "execute_result"
    }
   ],
   "source": [
    "model.to(device)"
   ]
  },
  {
   "cell_type": "markdown",
   "id": "d118032f-057d-4271-82c0-1e4ef48b807b",
   "metadata": {},
   "source": [
    "# Evaluation phase - generating new text"
   ]
  },
  {
   "cell_type": "markdown",
   "id": "1fdfb499-8d70-416a-b871-8ae8c62be4f5",
   "metadata": {},
   "source": [
    "The RNN model we trained in the previous section returnss the logits of size 85 for each unique character, which can be converted to probabilities via softmax. One simple way to generate text is to choose the character with the highest logit value. In other words, you pick the character that the model believes is the most likely next character based on its training.\n",
    "\n",
    "However, always selecting the character with the highest likelihood can result in repetitive and less interesting text. To make the text more diverse and less predictable, it's better to randomly sample from the model's output probabilities. This means you don't always choose the character with the highest probability; you make a random choice based on the distribution of probabilities.\n",
    "\n",
    "PyTorch already provides a class, `torch.distributions.categorical.Categorical`, which we can use to draw random samples from a categorical distribution."
   ]
  },
  {
   "cell_type": "code",
   "execution_count": 41,
   "id": "17449673-b332-4129-8341-8eb3b4627c0a",
   "metadata": {},
   "outputs": [],
   "source": [
    "from torch.distributions.categorical import Categorical\n",
    "from tqdm import tqdm\n",
    "device = \"mps\" if torch.backends.mps.is_available() else \"cpu\"\n",
    "\n",
    "def sample(model, starting_str, max_length=100000, scale_factor=1.0):\n",
    "    \"\"\"\n",
    "    starting_str: short starting string\n",
    "    max_length: max length of generated text\n",
    "    \"\"\"\n",
    "\n",
    "    encoded_input = torch.tensor([char2int[s] for s in starting_str])\n",
    "    encoded_input = torch.reshape(encoded_input, (1, -1))\n",
    "    generated_str = starting_str # initially set it equal to the input str\n",
    "\n",
    "    model.eval()\n",
    "    hidden, cell = model.init_hidden(batch_size=1)\n",
    "    hidden = hidden.to(device)\n",
    "    encoded_input = encoded_input.to(device)\n",
    "    cell = cell.to(device)\n",
    "    for c in range(len(starting_str)-1):\n",
    "        _, hidden, cell = model(encoded_input[:, c].view(1), hidden, cell)\n",
    "    last_char = encoded_input[:, -1]\n",
    "    for i in tqdm(range(max_length)):\n",
    "        logits, hidden, cell = model(last_char.view(1), hidden, cell)\n",
    "        logits = torch.squeeze(logits, 0)\n",
    "        scaled_logits = logits * scale_factor\n",
    "        m = Categorical(logits=scaled_logits)\n",
    "        last_char = m.sample()\n",
    "        generated_str += str(char_array[last_char])\n",
    "\n",
    "    return generated_str"
   ]
  },
  {
   "cell_type": "code",
   "execution_count": 42,
   "id": "7edf9d40-43f8-4698-baa9-6decdbbcd300",
   "metadata": {},
   "outputs": [],
   "source": [
    "import torch\n",
    "\n",
    "if torch.backends.mps.is_available():\n",
    "    torch.mps.empty_cache()\n"
   ]
  },
  {
   "cell_type": "code",
   "execution_count": 43,
   "id": "4b97d6ce-d952-4005-b759-9b141e1cd340",
   "metadata": {},
   "outputs": [
    {
     "name": "stderr",
     "output_type": "stream",
     "text": [
      "100%|██████████████████████████████████| 100000/100000 [11:40<00:00, 142.74it/s]\n"
     ]
    }
   ],
   "source": [
    "torch.manual_seed(1)\n",
    "smiles = sample(model, starting_str=\"C\")"
   ]
  },
  {
   "cell_type": "code",
   "execution_count": 44,
   "id": "2c94ceba-61ee-493b-95a9-1752726286ca",
   "metadata": {},
   "outputs": [],
   "source": [
    "list_of_smiles = []\n",
    "\n",
    "for smiles in smiles.split(\"\\n\"):\n",
    "    list_of_smiles.append(smiles)"
   ]
  },
  {
   "cell_type": "code",
   "execution_count": 45,
   "id": "91dc1e1c-ca16-4839-82a2-c9b964e2fc83",
   "metadata": {
    "scrolled": true
   },
   "outputs": [
    {
     "name": "stderr",
     "output_type": "stream",
     "text": [
      "[14:43:37] SMILES Parse Error: syntax error while parsing: C@H]1C[C@@H](O)CN[C@@H](C)c1ccc([N+](=O)[O-])cc1Cl\n",
      "[14:43:37] SMILES Parse Error: Failed parsing SMILES 'C@H]1C[C@@H](O)CN[C@@H](C)c1ccc([N+](=O)[O-])cc1Cl' for input: 'C@H]1C[C@@H](O)CN[C@@H](C)c1ccc([N+](=O)[O-])cc1Cl'\n",
      "[14:43:37] SMILES Parse Error: extra open parentheses for input: 'CCOC(=O)c1ccc(N[C@@H](c2ccc([N+](=O)[O-])cc2)n1'\n",
      "[14:43:37] SMILES Parse Error: extra close parentheses while parsing: CCN(CCNc1ccccc1)(CC(=O)O)C(=O)O)c1cccc([N+](=O)[O-])c1)C1CCOCC1\n",
      "[14:43:37] SMILES Parse Error: Failed parsing SMILES 'CCN(CCNc1ccccc1)(CC(=O)O)C(=O)O)c1cccc([N+](=O)[O-])c1)C1CCOCC1' for input: 'CCN(CCNc1ccccc1)(CC(=O)O)C(=O)O)c1cccc([N+](=O)[O-])c1)C1CCOCC1'\n",
      "[14:43:37] SMILES Parse Error: extra close parentheses while parsing: CCn1nc(C)c(C(=O)NC/C=C/CNc2ccccc2)C1)c1ccccc1[N+](=O)[O-]\n",
      "[14:43:37] SMILES Parse Error: Failed parsing SMILES 'CCn1nc(C)c(C(=O)NC/C=C/CNc2ccccc2)C1)c1ccccc1[N+](=O)[O-]' for input: 'CCn1nc(C)c(C(=O)NC/C=C/CNc2ccccc2)C1)c1ccccc1[N+](=O)[O-]'\n",
      "[14:43:37] SMILES Parse Error: extra open parentheses for input: 'CC[C@@](C)(c1noc(-c2ccc([N+](=O)[O-])cc2)C1'\n",
      "[14:43:37] SMILES Parse Error: extra close parentheses while parsing: CC1(C)CCN(C(=O)[C@@H]2CO[C@@H](C)C2)c([N+](=O)[O-])cc1)C1CC1\n",
      "[14:43:37] SMILES Parse Error: Failed parsing SMILES 'CC1(C)CCN(C(=O)[C@@H]2CO[C@@H](C)C2)c([N+](=O)[O-])cc1)C1CC1' for input: 'CC1(C)CCN(C(=O)[C@@H]2CO[C@@H](C)C2)c([N+](=O)[O-])cc1)C1CC1'\n",
      "[14:43:37] SMILES Parse Error: extra close parentheses while parsing: CCOC(=O)COC(=O)CCc1nncsc1C(=O)OCCOc1ccc([N+](=O)[O-])cc1)C(=O)O\n",
      "[14:43:37] SMILES Parse Error: Failed parsing SMILES 'CCOC(=O)COC(=O)CCc1nncsc1C(=O)OCCOc1ccc([N+](=O)[O-])cc1)C(=O)O' for input: 'CCOC(=O)COC(=O)CCc1nncsc1C(=O)OCCOc1ccc([N+](=O)[O-])cc1)C(=O)O'\n",
      "[14:43:37] Can't kekulize mol.  Unkekulized atoms: 4 5 6\n",
      "[14:43:37] Can't kekulize mol.  Unkekulized atoms: 23 27 28\n",
      "[14:43:37] SMILES Parse Error: unclosed ring for input: 'CCOc1c(C(=O)NS(=O)(=O)c1cc([N+](=O)[O-])ccc1OC)[C@H]1CCO[C@@]2(CCOC2)C1'\n",
      "[14:43:37] Can't kekulize mol.  Unkekulized atoms: 5 6 7\n",
      "[14:43:37] SMILES Parse Error: extra open parentheses for input: 'CCC[C@H](C)N1CCN(c2ccc([N+](=O)[O-])c(-c3ccnc(O)c3c2)OC1'\n",
      "[14:43:37] Can't kekulize mol.  Unkekulized atoms: 16 17 19\n",
      "[14:43:37] SMILES Parse Error: syntax error while parsing: CCCC1(C(=O)NC[C@@H]2C[C@](1O)(CCC(=O)O)cc1[N+](=O)[O-]\n",
      "[14:43:37] SMILES Parse Error: Failed parsing SMILES 'CCCC1(C(=O)NC[C@@H]2C[C@](1O)(CCC(=O)O)cc1[N+](=O)[O-]' for input: 'CCCC1(C(=O)NC[C@@H]2C[C@](1O)(CCC(=O)O)cc1[N+](=O)[O-]'\n",
      "[14:43:37] SMILES Parse Error: extra open parentheses for input: 'CC(C)CN1CCN(C(=O)c2csc(s2)c1[N+](=O)[O-]'\n",
      "[14:43:37] Can't kekulize mol.  Unkekulized atoms: 2 3 4 5 6\n",
      "[14:43:37] SMILES Parse Error: extra open parentheses for input: 'CC(C)(C(=O)N1CCN(c2cccc([N+](=O)[O-])c2)C[C@@H]1C'\n",
      "[14:43:37] Can't kekulize mol.  Unkekulized atoms: 3 4 5 6 18\n",
      "[14:43:37] SMILES Parse Error: extra close parentheses while parsing: CC(C)n1cncc1CNC(=O)C(C)(C)c1ccc([N+](=O)[O-])cc1)n1ccc2c(=O)ccc2c1\n",
      "[14:43:37] SMILES Parse Error: Failed parsing SMILES 'CC(C)n1cncc1CNC(=O)C(C)(C)c1ccc([N+](=O)[O-])cc1)n1ccc2c(=O)ccc2c1' for input: 'CC(C)n1cncc1CNC(=O)C(C)(C)c1ccc([N+](=O)[O-])cc1)n1ccc2c(=O)ccc2c1'\n",
      "[14:43:37] SMILES Parse Error: extra open parentheses for input: 'CC[C@@H](C)[C@@H](NS(=O)(=O)c1ccc([N+](=O)[O-])c(C)c1'\n",
      "[14:43:37] SMILES Parse Error: extra open parentheses for input: 'CC(C)C[C@H](NS(=O)(=O)c1cc(Cl)ccc1[N+](=O)[O-]'\n",
      "[14:43:37] SMILES Parse Error: extra close parentheses while parsing: CCc1[nH]nc(C(=O)N(C2CC2)C(N)=O)cc1[N+](=O)[O-])C(=O)NC1CCCC1\n",
      "[14:43:37] SMILES Parse Error: Failed parsing SMILES 'CCc1[nH]nc(C(=O)N(C2CC2)C(N)=O)cc1[N+](=O)[O-])C(=O)NC1CCCC1' for input: 'CCc1[nH]nc(C(=O)N(C2CC2)C(N)=O)cc1[N+](=O)[O-])C(=O)NC1CCCC1'\n",
      "[14:43:37] SMILES Parse Error: unclosed ring for input: 'CCO[C@@H]1CC[C@@H](OCC)CN1C(=O)Cn1ncc2cc([N+](=O)[O-])cc([N+](=O)[O-])c1'\n",
      "[14:43:37] Can't kekulize mol.  Unkekulized atoms: 5 6 7 16 20\n",
      "[14:43:37] SMILES Parse Error: extra close parentheses while parsing: CCn1nnc(C)c1COC(=O)c1cccc([N+](=O)[O-])c1)CC2\n",
      "[14:43:37] SMILES Parse Error: Failed parsing SMILES 'CCn1nnc(C)c1COC(=O)c1cccc([N+](=O)[O-])c1)CC2' for input: 'CCn1nnc(C)c1COC(=O)c1cccc([N+](=O)[O-])c1)CC2'\n",
      "[14:43:37] SMILES Parse Error: extra open parentheses for input: 'CCc1nn(C)c(N2C[C@@H](C)[C@@H](NC(=O)Cc3ccc([N+](=O)[O-])cc3n2)C[C@H]1C'\n",
      "[14:43:37] SMILES Parse Error: extra open parentheses for input: 'CCO[C@@H]1CCCN(CCc2nc(Oc3ccc([N+](=O)[O-])cc3)CC1'\n",
      "[14:43:37] SMILES Parse Error: extra open parentheses for input: 'CC(=O)c1ccc(N2CCN(c3ccc(Cl)cc3[N+](=O)[O-])C[C@@H]2C1'\n",
      "[14:43:37] SMILES Parse Error: unclosed ring for input: 'CCn1ccnc1C(=O)N1CCN(c2cccc(F)c2[N+](=O)[O-])C1CCC1'\n",
      "[14:43:37] Can't kekulize mol.  Unkekulized atoms: 19\n",
      "[14:43:37] SMILES Parse Error: extra open parentheses for input: 'CC(C)Cn1c([C@@H](c2ccc([N+](=O)[O-])c(-c3nccn3)OCCO3)n1'\n",
      "[14:43:37] SMILES Parse Error: extra close parentheses while parsing: CCN(CCCN(C)c1cc(C)[nH]cc1C)c1nccc(C)c1[N+](=O)[O-])C1CCOCC1\n",
      "[14:43:37] SMILES Parse Error: Failed parsing SMILES 'CCN(CCCN(C)c1cc(C)[nH]cc1C)c1nccc(C)c1[N+](=O)[O-])C1CCOCC1' for input: 'CCN(CCCN(C)c1cc(C)[nH]cc1C)c1nccc(C)c1[N+](=O)[O-])C1CCOCC1'\n",
      "[14:43:37] SMILES Parse Error: syntax error while parsing: CC(C)(C)/C=C\\c1ccc([N+](=O-])[nH]12\n",
      "[14:43:37] SMILES Parse Error: Failed parsing SMILES 'CC(C)(C)/C=C\\c1ccc([N+](=O-])[nH]12' for input: 'CC(C)(C)/C=C\\c1ccc([N+](=O-])[nH]12'\n",
      "[14:43:37] SMILES Parse Error: extra close parentheses while parsing: CCCN(Cn1cc([N+](=O)[O-])cn1)c1ccc(F)cn1)[C@H]1CCN(C)CC1\n",
      "[14:43:37] SMILES Parse Error: Failed parsing SMILES 'CCCN(Cn1cc([N+](=O)[O-])cn1)c1ccc(F)cn1)[C@H]1CCN(C)CC1' for input: 'CCCN(Cn1cc([N+](=O)[O-])cn1)c1ccc(F)cn1)[C@H]1CCN(C)CC1'\n",
      "[14:43:37] Can't kekulize mol.  Unkekulized atoms: 2 3 4 5 19\n",
      "[14:43:37] SMILES Parse Error: extra open parentheses for input: 'CC(C)CN(C(=O)CSCc1cccc([N+](=O)[O-])c1C'\n",
      "[14:43:37] SMILES Parse Error: extra open parentheses for input: 'CCN(CCCNC(=O)C1(C(=O)OCC/C=C\\c2cccc([N+](=O)[O-])c2)CCN1CCCCCOC'\n",
      "[14:43:37] Can't kekulize mol.  Unkekulized atoms: 3 4 6\n",
      "[14:43:37] Can't kekulize mol.  Unkekulized atoms: 4 5 6 7 8\n",
      "[14:43:37] SMILES Parse Error: extra close parentheses while parsing: CCOc1cc(C(=O)OCc2nnc3ccc([N+](=O)[O-])cc3F)C2)n1\n",
      "[14:43:37] SMILES Parse Error: Failed parsing SMILES 'CCOc1cc(C(=O)OCc2nnc3ccc([N+](=O)[O-])cc3F)C2)n1' for input: 'CCOc1cc(C(=O)OCc2nnc3ccc([N+](=O)[O-])cc3F)C2)n1'\n",
      "[14:43:37] SMILES Parse Error: extra close parentheses while parsing: CCCc1[nH]nc(C(=O)NCc2ccccc2)c1[N+](=O)[O-])C(C)C\n",
      "[14:43:37] SMILES Parse Error: Failed parsing SMILES 'CCCc1[nH]nc(C(=O)NCc2ccccc2)c1[N+](=O)[O-])C(C)C' for input: 'CCCc1[nH]nc(C(=O)NCc2ccccc2)c1[N+](=O)[O-])C(C)C'\n",
      "[14:43:37] SMILES Parse Error: extra close parentheses while parsing: CC1(C)CC(C(=O)NCCCN(C)c2ccc([N+](=O)[O-])cc2)nc2ccc(F)cc2)C[C@H](C)O1\n",
      "[14:43:37] SMILES Parse Error: Failed parsing SMILES 'CC1(C)CC(C(=O)NCCCN(C)c2ccc([N+](=O)[O-])cc2)nc2ccc(F)cc2)C[C@H](C)O1' for input: 'CC1(C)CC(C(=O)NCCCN(C)c2ccc([N+](=O)[O-])cc2)nc2ccc(F)cc2)C[C@H](C)O1'\n",
      "[14:43:37] Can't kekulize mol.  Unkekulized atoms: 20\n",
      "[14:43:37] SMILES Parse Error: extra open parentheses for input: 'CC(C)CN1CCN([C@H]2CCN([C@H](c3ccccc4)n2)c([N+](=O)[O-])cc1OC'\n",
      "[14:43:37] SMILES Parse Error: unclosed ring for input: 'CC[C@@H](c1ccc([N+](=O)[O-])c[nH]1)C[C@@H]1C(=O)OCC(=O)N1CC1'\n",
      "[14:43:37] SMILES Parse Error: extra close parentheses while parsing: CCn1nc(C)c(C(=O)NCCOc2ccc([N+](=O)[O-])o2)ccc2OCOCC2)c1\n",
      "[14:43:37] SMILES Parse Error: Failed parsing SMILES 'CCn1nc(C)c(C(=O)NCCOc2ccc([N+](=O)[O-])o2)ccc2OCOCC2)c1' for input: 'CCn1nc(C)c(C(=O)NCCOc2ccc([N+](=O)[O-])o2)ccc2OCOCC2)c1'\n",
      "[14:43:37] SMILES Parse Error: extra close parentheses while parsing: CC(C)(C)C(=O)N1CCN(C2CC2)C1)c1ccc(C)c([N+](=O)[O-])c1C\n",
      "[14:43:37] SMILES Parse Error: Failed parsing SMILES 'CC(C)(C)C(=O)N1CCN(C2CC2)C1)c1ccc(C)c([N+](=O)[O-])c1C' for input: 'CC(C)(C)C(=O)N1CCN(C2CC2)C1)c1ccc(C)c([N+](=O)[O-])c1C'\n",
      "[14:43:37] SMILES Parse Error: extra close parentheses while parsing: CCC(=O)C[C@H](C)NC(=O)[C@](C)(N)c1ccc([N+](=O)[O-])cc1)C1CC1\n",
      "[14:43:37] SMILES Parse Error: Failed parsing SMILES 'CCC(=O)C[C@H](C)NC(=O)[C@](C)(N)c1ccc([N+](=O)[O-])cc1)C1CC1' for input: 'CCC(=O)C[C@H](C)NC(=O)[C@](C)(N)c1ccc([N+](=O)[O-])cc1)C1CC1'\n",
      "[14:43:37] Can't kekulize mol.  Unkekulized atoms: 2 3 4\n",
      "[14:43:37] Can't kekulize mol.  Unkekulized atoms: 3 4 5 6 7\n",
      "[14:43:37] SMILES Parse Error: extra open parentheses for input: 'CC[C@@H](C(=O)O[C@@H]1CCSC1'\n",
      "[14:43:37] SMILES Parse Error: unclosed ring for input: 'CCc1cccc(C(=O)N[C@H]2C[C@H](C)N2CCC(=O)CO2)cc1[N+](=O)[O-]'\n",
      "[14:43:37] SMILES Parse Error: extra close parentheses while parsing: CCc1n[nH]c(CC)c1CNC(=O)c1cc(F)cc([N+](=O)[O-])c1)C(=O)OCc1c(C)CCOCC2\n",
      "[14:43:37] SMILES Parse Error: Failed parsing SMILES 'CCc1n[nH]c(CC)c1CNC(=O)c1cc(F)cc([N+](=O)[O-])c1)C(=O)OCc1c(C)CCOCC2' for input: 'CCc1n[nH]c(CC)c1CNC(=O)c1cc(F)cc([N+](=O)[O-])c1)C(=O)OCc1c(C)CCOCC2'\n",
      "[14:43:37] Can't kekulize mol.  Unkekulized atoms: 5 6 7 8 9\n",
      "[14:43:37] SMILES Parse Error: ring closure 1 duplicates bond between atom 1 and atom 16 for input: 'CC1(Nc2ccc(C(=O)OC)cc3[N+](=O)[O-])o1=O'\n",
      "[14:43:37] Can't kekulize mol.  Unkekulized atoms: 9 10 12\n",
      "[14:43:37] SMILES Parse Error: extra open parentheses for input: 'CCC[C@@H]1CCCN(c2nnc(-c3ccc([N+](=O)[O-])cc3c2OCCO3)[C@@H](CC)CO1'\n",
      "[14:43:37] SMILES Parse Error: unclosed ring for input: 'CCC1CN(C(=O)c2ccc(N3C2=O)c([N+](=O)[O-])cc2)CC1'\n",
      "[14:43:37] SMILES Parse Error: unclosed ring for input: 'CCO[C@@H]1C[C@H]1CN1CCN(C(=O)c2cc3c(cc2[N+](=O)[O-])OCO2)C1'\n",
      "[14:43:37] Can't kekulize mol.  Unkekulized atoms: 4 5 7\n",
      "[14:43:37] SMILES Parse Error: extra close parentheses while parsing: CCN(C(=O)c1n[nH]c2ccccc21)n1cc([N+](=O)[O-])c(-c2ccc(OC)cc2)c1F)C(C)C\n",
      "[14:43:37] SMILES Parse Error: Failed parsing SMILES 'CCN(C(=O)c1n[nH]c2ccccc21)n1cc([N+](=O)[O-])c(-c2ccc(OC)cc2)c1F)C(C)C' for input: 'CCN(C(=O)c1n[nH]c2ccccc21)n1cc([N+](=O)[O-])c(-c2ccc(OC)cc2)c1F)C(C)C'\n",
      "[14:43:37] SMILES Parse Error: extra open parentheses for input: 'CC(C)[C@](C)(NC[C@@H]1CCN(c2cccc(N)c2[N+](=O)[O-])CC1=O'\n",
      "[14:43:37] SMILES Parse Error: extra close parentheses while parsing: CC(C)(C)CO[C@@H](CCO)C(=O)NCCc1cccc([N+](=O)[O-])c1)c1cccc(C)n1\n",
      "[14:43:37] SMILES Parse Error: Failed parsing SMILES 'CC(C)(C)CO[C@@H](CCO)C(=O)NCCc1cccc([N+](=O)[O-])c1)c1cccc(C)n1' for input: 'CC(C)(C)CO[C@@H](CCO)C(=O)NCCc1cccc([N+](=O)[O-])c1)c1cccc(C)n1'\n",
      "[14:43:37] SMILES Parse Error: unclosed ring for input: 'CC(=O)NCC1CCN(C(=O)c2ccns2)C1CCC1'\n",
      "[14:43:37] SMILES Parse Error: extra open parentheses for input: 'CC[C@@H](C)[C@@H](NC(=O)OCc1oncc1C(F)(F)F'\n",
      "[14:43:37] Can't kekulize mol.  Unkekulized atoms: 5 6 7\n",
      "[14:43:37] SMILES Parse Error: unclosed ring for input: 'CCOC[C@@H]1CCN(S(=O)(=O)c2ccc([N+](=O)[O-])cc2)C(=O)N1CCCOC1'\n",
      "[14:43:37] SMILES Parse Error: unclosed ring for input: 'CCOC1(C)CCCN(c2ccc(C(N)=O)cc2[N+](=O)[O-])C1CC1'\n",
      "[14:43:37] SMILES Parse Error: extra close parentheses while parsing: CCN(C[C@@H](O)Cc1ccccc1)c1ncccc1OC)C1CC1\n",
      "[14:43:37] SMILES Parse Error: Failed parsing SMILES 'CCN(C[C@@H](O)Cc1ccccc1)c1ncccc1OC)C1CC1' for input: 'CCN(C[C@@H](O)Cc1ccccc1)c1ncccc1OC)C1CC1'\n",
      "[14:43:37] Can't kekulize mol.  Unkekulized atoms: 9 10 11 12 22\n",
      "[14:43:37] Can't kekulize mol.  Unkekulized atoms: 19\n",
      "[14:43:37] SMILES Parse Error: extra close parentheses while parsing: CC(C)c1nnsn1)c1ncc(C(=O)OC)cc1[N+](=O)[O-])C(F)C\n",
      "[14:43:37] SMILES Parse Error: Failed parsing SMILES 'CC(C)c1nnsn1)c1ncc(C(=O)OC)cc1[N+](=O)[O-])C(F)C' for input: 'CC(C)c1nnsn1)c1ncc(C(=O)OC)cc1[N+](=O)[O-])C(F)C'\n",
      "[14:43:37] SMILES Parse Error: extra open parentheses for input: 'CCN(C(=O)Cc1cc([N+](=O)[O-])c(C)cc1F'\n",
      "[14:43:37] SMILES Parse Error: extra open parentheses for input: 'CC[C@](NC(=O)COc1ccc([N+](=O)[O-])cc1F'\n",
      "[14:43:37] SMILES Parse Error: extra close parentheses while parsing: CC(C)[C@@H]1NC(=O)CCC(=O)Nc2cc([N+](=O)[O-])ccc2C)CC1\n",
      "[14:43:37] SMILES Parse Error: Failed parsing SMILES 'CC(C)[C@@H]1NC(=O)CCC(=O)Nc2cc([N+](=O)[O-])ccc2C)CC1' for input: 'CC(C)[C@@H]1NC(=O)CCC(=O)Nc2cc([N+](=O)[O-])ccc2C)CC1'\n",
      "[14:43:37] Can't kekulize mol.  Unkekulized atoms: 16 20 21\n",
      "[14:43:37] SMILES Parse Error: extra close parentheses while parsing: CCOC(=O)Cc1ccc(N(CCCC(=O)OC)C2CC2)c([N+](=O)[O-])c1)CCC2\n",
      "[14:43:37] SMILES Parse Error: Failed parsing SMILES 'CCOC(=O)Cc1ccc(N(CCCC(=O)OC)C2CC2)c([N+](=O)[O-])c1)CCC2' for input: 'CCOC(=O)Cc1ccc(N(CCCC(=O)OC)C2CC2)c([N+](=O)[O-])c1)CCC2'\n",
      "[14:43:37] SMILES Parse Error: extra open parentheses for input: 'CCCOC(=O)[C@@H](OC(=O)c1csc(-c2cccc([N+](=O)[O-])c2)C1'\n",
      "[14:43:37] Can't kekulize mol.  Unkekulized atoms: 3 4 5\n",
      "[14:43:37] Can't kekulize mol.  Unkekulized atoms: 13 14 16 20 21\n",
      "[14:43:37] SMILES Parse Error: extra open parentheses for input: 'CC(C)(C(=O)N1CCC(Nc2cccc(C(=O)OC)c2[N+](=O)[O-])C1'\n",
      "[14:43:37] SMILES Parse Error: extra close parentheses while parsing: CC(C)n1c(C(=O)Nc2cc(C)ccc2)c1[N+](=O)[O-])CC2\n",
      "[14:43:37] SMILES Parse Error: Failed parsing SMILES 'CC(C)n1c(C(=O)Nc2cc(C)ccc2)c1[N+](=O)[O-])CC2' for input: 'CC(C)n1c(C(=O)Nc2cc(C)ccc2)c1[N+](=O)[O-])CC2'\n",
      "[14:43:37] SMILES Parse Error: extra close parentheses while parsing: CCCN1CCC(OC[C@@H](C)[N+](=O)[O-])c1O)C[C@H]1CS(=O)(C)C1\n",
      "[14:43:37] SMILES Parse Error: Failed parsing SMILES 'CCCN1CCC(OC[C@@H](C)[N+](=O)[O-])c1O)C[C@H]1CS(=O)(C)C1' for input: 'CCCN1CCC(OC[C@@H](C)[N+](=O)[O-])c1O)C[C@H]1CS(=O)(C)C1'\n",
      "[14:43:37] SMILES Parse Error: extra close parentheses while parsing: CCOc1cccc(CC(=O)Nc2cc(C)cc(F)c2)C1)[N+](=O)[O-]\n",
      "[14:43:37] SMILES Parse Error: Failed parsing SMILES 'CCOc1cccc(CC(=O)Nc2cc(C)cc(F)c2)C1)[N+](=O)[O-]' for input: 'CCOc1cccc(CC(=O)Nc2cc(C)cc(F)c2)C1)[N+](=O)[O-]'\n",
      "[14:43:37] SMILES Parse Error: extra close parentheses while parsing: CC(C)[C@H](CNC(=O)OCc1ccccc1)c1ncc(C)cc1[N+](=O)[O-])OCOCO2\n",
      "[14:43:37] SMILES Parse Error: Failed parsing SMILES 'CC(C)[C@H](CNC(=O)OCc1ccccc1)c1ncc(C)cc1[N+](=O)[O-])OCOCO2' for input: 'CC(C)[C@H](CNC(=O)OCc1ccccc1)c1ncc(C)cc1[N+](=O)[O-])OCOCO2'\n",
      "[14:43:37] SMILES Parse Error: extra close parentheses while parsing: CC[C@H](C)C(=O)NC(=O)CSC)c1[N+](=O)[O-]\n",
      "[14:43:37] SMILES Parse Error: Failed parsing SMILES 'CC[C@H](C)C(=O)NC(=O)CSC)c1[N+](=O)[O-]' for input: 'CC[C@H](C)C(=O)NC(=O)CSC)c1[N+](=O)[O-]'\n",
      "[14:43:37] SMILES Parse Error: unclosed ring for input: 'CCS[C@@H]1CC(=O)Nc1cc(C)cc([N+](=O)[O-])c1C(=O)OC[C@H]1CCCN(Cc2cccc([N+](=O)[O-])c2)C1=O'\n",
      "[14:43:37] Can't kekulize mol.  Unkekulized atoms: 4 5 6\n",
      "[14:43:37] SMILES Parse Error: extra close parentheses while parsing: CC(=O)N[C@H]1C[C@@H]2[N+](=O)[O-])n1\n",
      "[14:43:37] SMILES Parse Error: Failed parsing SMILES 'CC(=O)N[C@H]1C[C@@H]2[N+](=O)[O-])n1' for input: 'CC(=O)N[C@H]1C[C@@H]2[N+](=O)[O-])n1'\n",
      "[14:43:37] Can't kekulize mol.  Unkekulized atoms: 19\n",
      "[14:43:37] SMILES Parse Error: extra close parentheses while parsing: CCN(CCNC(=O)c1ccncc1)c1ccc([N+](=O)[O-])cc1)C1CC1)C1CC1\n",
      "[14:43:37] SMILES Parse Error: Failed parsing SMILES 'CCN(CCNC(=O)c1ccncc1)c1ccc([N+](=O)[O-])cc1)C1CC1)C1CC1' for input: 'CCN(CCNC(=O)c1ccncc1)c1ccc([N+](=O)[O-])cc1)C1CC1)C1CC1'\n",
      "[14:43:37] SMILES Parse Error: extra open parentheses for input: 'CC[C@@](C)(CNC(=O)COc1ccc(N2CCC[C@@H](OC)C2)c([N+](=O)[O-])c1'\n",
      "[14:43:37] SMILES Parse Error: extra close parentheses while parsing: CC(C)n1cncn1)c1ccc([N+](=O)[O-])cc1)S(C)(=O)=O\n",
      "[14:43:37] SMILES Parse Error: Failed parsing SMILES 'CC(C)n1cncn1)c1ccc([N+](=O)[O-])cc1)S(C)(=O)=O' for input: 'CC(C)n1cncn1)c1ccc([N+](=O)[O-])cc1)S(C)(=O)=O'\n",
      "[14:43:37] SMILES Parse Error: unclosed ring for input: 'CC(C)Oc1ccc(CN2C(=O)CN[C@@H](C)c2nccc(C)c2[N+](=O)[O-])C1'\n",
      "[14:43:37] SMILES Parse Error: extra close parentheses while parsing: CC[C@]1(C)NC(=O)[C@@H]1[N+](=O)[O-])[C@@H](C)Sc1cccc([N+](=O)[O-])c1)OC\n",
      "[14:43:37] SMILES Parse Error: Failed parsing SMILES 'CC[C@]1(C)NC(=O)[C@@H]1[N+](=O)[O-])[C@@H](C)Sc1cccc([N+](=O)[O-])c1)OC' for input: 'CC[C@]1(C)NC(=O)[C@@H]1[N+](=O)[O-])[C@@H](C)Sc1cccc([N+](=O)[O-])c1)OC'\n",
      "[14:43:37] Can't kekulize mol.  Unkekulized atoms: 23 24 25 26 27 28 29\n",
      "[14:43:37] SMILES Parse Error: extra close parentheses while parsing: CCN(CCCNC(=O)Cn1ccc2cc([N+](=O)[O-])ccc21)n1)C1CC1\n",
      "[14:43:37] SMILES Parse Error: Failed parsing SMILES 'CCN(CCCNC(=O)Cn1ccc2cc([N+](=O)[O-])ccc21)n1)C1CC1' for input: 'CCN(CCCNC(=O)Cn1ccc2cc([N+](=O)[O-])ccc21)n1)C1CC1'\n",
      "[14:43:37] SMILES Parse Error: unclosed ring for input: 'CCN(CCNC(=O)[C@@H](C)C1)c1nccc(C)c1[N+](=O)[O-]'\n",
      "[14:43:37] SMILES Parse Error: extra close parentheses while parsing: CC1(C)C[C@@H](NC(=O)Cn2ncc3ccc([N+](=O)[O-])cc3)n2)CCOC1\n",
      "[14:43:37] SMILES Parse Error: Failed parsing SMILES 'CC1(C)C[C@@H](NC(=O)Cn2ncc3ccc([N+](=O)[O-])cc3)n2)CCOC1' for input: 'CC1(C)C[C@@H](NC(=O)Cn2ncc3ccc([N+](=O)[O-])cc3)n2)CCOC1'\n",
      "[14:43:37] Can't kekulize mol.  Unkekulized atoms: 9 13 14 15 16 20 21\n",
      "[14:43:37] SMILES Parse Error: ring closure 1 duplicates bond between atom 1 and atom 21 for input: 'CC1(C(=O)N(CCO)CCNCc2ccccc2[N+](=O)[O-])C1'\n",
      "[14:43:37] SMILES Parse Error: extra close parentheses while parsing: CCOC(=O)NC[C@H](NC(=O)c1cnccc1C)c1ccc([N+](=O)[O-])cc1)Cc1nnc2c1\n",
      "[14:43:37] SMILES Parse Error: Failed parsing SMILES 'CCOC(=O)NC[C@H](NC(=O)c1cnccc1C)c1ccc([N+](=O)[O-])cc1)Cc1nnc2c1' for input: 'CCOC(=O)NC[C@H](NC(=O)c1cnccc1C)c1ccc([N+](=O)[O-])cc1)Cc1nnc2c1'\n",
      "[14:43:37] SMILES Parse Error: unclosed ring for input: 'CCCc1[nH]nc(C(=O)Nc2cnn(C(=O)NCCNc2ccccc2)C1)n1nc(C)nc1s1CC[C@H](O)C(=O)OC'\n",
      "[14:43:37] SMILES Parse Error: extra close parentheses while parsing: CCC(=O)c1ccccc1CNC(=O)Cn1ccc2cc([N+](=O)[O-])ccc21)S(C)(=O)=O\n",
      "[14:43:37] SMILES Parse Error: Failed parsing SMILES 'CCC(=O)c1ccccc1CNC(=O)Cn1ccc2cc([N+](=O)[O-])ccc21)S(C)(=O)=O' for input: 'CCC(=O)c1ccccc1CNC(=O)Cn1ccc2cc([N+](=O)[O-])ccc21)S(C)(=O)=O'\n",
      "[14:43:37] SMILES Parse Error: extra close parentheses while parsing: CC(C)(C)OC(=O)N(C)CCNC(=O)c1cccc(C)n1)c1ccc([N+](=O)[O-])cc1)C(=O)O\n",
      "[14:43:37] SMILES Parse Error: Failed parsing SMILES 'CC(C)(C)OC(=O)N(C)CCNC(=O)c1cccc(C)n1)c1ccc([N+](=O)[O-])cc1)C(=O)O' for input: 'CC(C)(C)OC(=O)N(C)CCNC(=O)c1cccc(C)n1)c1ccc([N+](=O)[O-])cc1)C(=O)O'\n",
      "[14:43:37] SMILES Parse Error: unclosed ring for input: 'CCOC(=O)c1ccnc(N[C@@H](CC)CC(=O)OC)c1ccc([N+](=O)[O-])cn1'\n",
      "[14:43:37] Can't kekulize mol.  Unkekulized atoms: 3 4 5 29 30\n",
      "[14:43:37] SMILES Parse Error: extra open parentheses for input: 'CC(C)(C(=O)N1C[C@H](C)N1CC(C)(C)C1'\n",
      "[14:43:37] Can't kekulize mol.  Unkekulized atoms: 2 3 4 5 9 21 22\n",
      "[14:43:37] SMILES Parse Error: extra open parentheses for input: 'CCN(CCNCc1ccc(C(F)(F)F)cc1[N+](=O)[O-]'\n",
      "[14:43:37] Can't kekulize mol.  Unkekulized atoms: 10 11 12 13 14\n",
      "[14:43:37] SMILES Parse Error: extra close parentheses while parsing: CC(=O)N1C[C@@H]2CCC[C@@H](C(=O)NCc3cccc([N+](=O)[O-])c3)C2=O)CC1\n",
      "[14:43:37] SMILES Parse Error: Failed parsing SMILES 'CC(=O)N1C[C@@H]2CCC[C@@H](C(=O)NCc3cccc([N+](=O)[O-])c3)C2=O)CC1' for input: 'CC(=O)N1C[C@@H]2CCC[C@@H](C(=O)NCc3cccc([N+](=O)[O-])c3)C2=O)CC1'\n",
      "[14:43:37] SMILES Parse Error: extra close parentheses while parsing: CCCOCCNC(=O)c1cc([N+](=O)[O-])ccc1OCCOC)C(=O)c1cnncc1C\n",
      "[14:43:37] SMILES Parse Error: Failed parsing SMILES 'CCCOCCNC(=O)c1cc([N+](=O)[O-])ccc1OCCOC)C(=O)c1cnncc1C' for input: 'CCCOCCNC(=O)c1cc([N+](=O)[O-])ccc1OCCOC)C(=O)c1cnncc1C'\n",
      "[14:43:37] Can't kekulize mol.  Unkekulized atoms: 18\n",
      "[14:43:37] SMILES Parse Error: extra close parentheses while parsing: CCN(CCC)C(=O)COC(=O)[C@H](C)C1CC)c1cc(C)ccc1[N+](=O)[O-]\n",
      "[14:43:37] SMILES Parse Error: Failed parsing SMILES 'CCN(CCC)C(=O)COC(=O)[C@H](C)C1CC)c1cc(C)ccc1[N+](=O)[O-]' for input: 'CCN(CCC)C(=O)COC(=O)[C@H](C)C1CC)c1cc(C)ccc1[N+](=O)[O-]'\n",
      "[14:43:37] Can't kekulize mol.  Unkekulized atoms: 2 3 6 23 24\n",
      "[14:43:37] SMILES Parse Error: extra close parentheses while parsing: CC(C)CN(CCOC1CC2)[N+](=O)[O-])c1\n",
      "[14:43:37] SMILES Parse Error: Failed parsing SMILES 'CC(C)CN(CCOC1CC2)[N+](=O)[O-])c1' for input: 'CC(C)CN(CCOC1CC2)[N+](=O)[O-])c1'\n",
      "[14:43:37] SMILES Parse Error: extra close parentheses while parsing: CCC(C)(C)NC(=O)Cn1cc(Br)nc1)c1ncc(C)cc1[N+](=O)[O-])C1=OCOCCO1\n",
      "[14:43:37] SMILES Parse Error: Failed parsing SMILES 'CCC(C)(C)NC(=O)Cn1cc(Br)nc1)c1ncc(C)cc1[N+](=O)[O-])C1=OCOCCO1' for input: 'CCC(C)(C)NC(=O)Cn1cc(Br)nc1)c1ncc(C)cc1[N+](=O)[O-])C1=OCOCCO1'\n",
      "[14:43:37] SMILES Parse Error: extra open parentheses for input: 'CCCN(CCNCC(=O)Nc1cc([N+](=O)[O-])cnc1N'\n",
      "[14:43:37] Can't kekulize mol.  Unkekulized atoms: 4 5 6 7 18\n",
      "[14:43:37] SMILES Parse Error: extra close parentheses while parsing: CCOC(=O)c1c(NCCCO2)cccc1[N+](=O)[O-])C1CC1\n",
      "[14:43:37] SMILES Parse Error: Failed parsing SMILES 'CCOC(=O)c1c(NCCCO2)cccc1[N+](=O)[O-])C1CC1' for input: 'CCOC(=O)c1c(NCCCO2)cccc1[N+](=O)[O-])C1CC1'\n",
      "[14:43:37] Can't kekulize mol.  Unkekulized atoms: 3 4 5 6 12 13 14\n",
      "[14:43:37] SMILES Parse Error: extra close parentheses while parsing: CCc1[nH]nc(C(=O)NCCc2nc3ccc(C)o4)o3)n2)c1)[N+](=O)[O-]\n",
      "[14:43:37] SMILES Parse Error: Failed parsing SMILES 'CCc1[nH]nc(C(=O)NCCc2nc3ccc(C)o4)o3)n2)c1)[N+](=O)[O-]' for input: 'CCc1[nH]nc(C(=O)NCCc2nc3ccc(C)o4)o3)n2)c1)[N+](=O)[O-]'\n",
      "[14:43:37] SMILES Parse Error: unclosed ring for input: 'CCCCCNC(=O)NCCN1Cc1ccc([N+](=O)[O-])cc1'\n",
      "[14:43:37] SMILES Parse Error: unclosed ring for input: 'CC[C@H](Cc1ccc([N+](=O)[O-])cc1)CC2'\n",
      "[14:43:37] SMILES Parse Error: extra close parentheses while parsing: CC2(C)CCC[C@H]1OCCCO1)C(=O)c1ccc(O)cc1[N+](=O)[O-]\n",
      "[14:43:37] SMILES Parse Error: Failed parsing SMILES 'CC2(C)CCC[C@H]1OCCCO1)C(=O)c1ccc(O)cc1[N+](=O)[O-]' for input: 'CC2(C)CCC[C@H]1OCCCO1)C(=O)c1ccc(O)cc1[N+](=O)[O-]'\n",
      "[14:43:37] SMILES Parse Error: extra close parentheses while parsing: CC(=CSc1ccccc1F)C(=O)CC(=O)Cn1ccc2cc([N+](=O)[O-])ccc21)C1CC1\n",
      "[14:43:37] SMILES Parse Error: Failed parsing SMILES 'CC(=CSc1ccccc1F)C(=O)CC(=O)Cn1ccc2cc([N+](=O)[O-])ccc21)C1CC1' for input: 'CC(=CSc1ccccc1F)C(=O)CC(=O)Cn1ccc2cc([N+](=O)[O-])ccc21)C1CC1'\n",
      "[14:43:37] SMILES Parse Error: unclosed ring for input: 'CC(C)Oc1nc(NCC(=O)Nc2ccc([N+](=O)[O-])c3nonc2)C1'\n",
      "[14:43:37] SMILES Parse Error: extra close parentheses while parsing: CCn1c(-c2cscc2)n1)[N+](=O)[O-]\n",
      "[14:43:37] SMILES Parse Error: Failed parsing SMILES 'CCn1c(-c2cscc2)n1)[N+](=O)[O-]' for input: 'CCn1c(-c2cscc2)n1)[N+](=O)[O-]'\n",
      "[14:43:37] SMILES Parse Error: extra open parentheses for input: 'CCCN(CCNC(=O)[C@H]1C[C@@H](Nc2ccc([N+](=O)[O-])cc2F)cn1'\n",
      "[14:43:37] SMILES Parse Error: unclosed ring for input: 'CCN(C(=O)c1cc2c(c([N+](=O)[O-])[nH]1)c1ccoc1)C1CN(C)CCCC1'\n",
      "[14:43:37] SMILES Parse Error: extra open parentheses for input: 'CCN1C[C@@H](C(=O)N[C@H](C(=O)N[C@@H]2CCN(c3ccccc3[N+](=O)[O-])C2)o1'\n",
      "[14:43:37] SMILES Parse Error: extra close parentheses while parsing: CCC[C@@H](C)NC(=O)COC(=O)Cc1c[nH]c2cccc([N+](=O)[O-])c2)(CCOC)C1)Oc1ccccc1\n",
      "[14:43:37] SMILES Parse Error: Failed parsing SMILES 'CCC[C@@H](C)NC(=O)COC(=O)Cc1c[nH]c2cccc([N+](=O)[O-])c2)(CCOC)C1)Oc1ccccc1' for input: 'CCC[C@@H](C)NC(=O)COC(=O)Cc1c[nH]c2cccc([N+](=O)[O-])c2)(CCOC)C1)Oc1ccccc1'\n",
      "[14:43:37] Can't kekulize mol.  Unkekulized atoms: 13 14 15 17 19\n",
      "[14:43:37] SMILES Parse Error: extra close parentheses while parsing: CCO[C@@H]1CCCN(C(=O)[C@H]2CCc3cccc([N+](=O)[O-])c3)CC3)C1=O\n",
      "[14:43:37] SMILES Parse Error: Failed parsing SMILES 'CCO[C@@H]1CCCN(C(=O)[C@H]2CCc3cccc([N+](=O)[O-])c3)CC3)C1=O' for input: 'CCO[C@@H]1CCCN(C(=O)[C@H]2CCc3cccc([N+](=O)[O-])c3)CC3)C1=O'\n",
      "[14:43:37] Can't kekulize mol.  Unkekulized atoms: 4 5 6 22 23\n",
      "[14:43:37] SMILES Parse Error: extra close parentheses while parsing: CCO[C@H]1CCN(S(=O)(=O)c2cccc([N+](=O)[O-])c2)C2CC2)OCCO1\n",
      "[14:43:37] SMILES Parse Error: Failed parsing SMILES 'CCO[C@H]1CCN(S(=O)(=O)c2cccc([N+](=O)[O-])c2)C2CC2)OCCO1' for input: 'CCO[C@H]1CCN(S(=O)(=O)c2cccc([N+](=O)[O-])c2)C2CC2)OCCO1'\n",
      "[14:43:37] Can't kekulize mol.  Unkekulized atoms: 15 16 17 18 22\n",
      "[14:43:37] SMILES Parse Error: extra close parentheses while parsing: CC[C@H]1C(=O)N2CCN(C3CC3)CCC2)c1[N+](=O)[O-]\n",
      "[14:43:37] SMILES Parse Error: Failed parsing SMILES 'CC[C@H]1C(=O)N2CCN(C3CC3)CCC2)c1[N+](=O)[O-]' for input: 'CC[C@H]1C(=O)N2CCN(C3CC3)CCC2)c1[N+](=O)[O-]'\n",
      "[14:43:37] SMILES Parse Error: unclosed ring for input: 'CCOC(=O)c1cc(C(=O)N[C@H]2C[C@H]2CCNCCOCC2)c1[N+](=O)[O-]'\n",
      "[14:43:37] SMILES Parse Error: extra close parentheses while parsing: CC(C)(C)C(=O)N(Cc1ccccc1)NC(=O)Cn1cnc2cc([N+](=O)[O-])ccc12)C1CCCC1\n",
      "[14:43:37] SMILES Parse Error: Failed parsing SMILES 'CC(C)(C)C(=O)N(Cc1ccccc1)NC(=O)Cn1cnc2cc([N+](=O)[O-])ccc12)C1CCCC1' for input: 'CC(C)(C)C(=O)N(Cc1ccccc1)NC(=O)Cn1cnc2cc([N+](=O)[O-])ccc12)C1CCCC1'\n",
      "[14:43:37] Can't kekulize mol.  Unkekulized atoms: 4 5 7\n",
      "[14:43:37] SMILES Parse Error: extra close parentheses while parsing: CC(C)c1nn(C)c(N2CCOC(F)(F)c2)c2cc([N+](=O)[O-])ccc2Cl)CO1\n",
      "[14:43:37] SMILES Parse Error: Failed parsing SMILES 'CC(C)c1nn(C)c(N2CCOC(F)(F)c2)c2cc([N+](=O)[O-])ccc2Cl)CO1' for input: 'CC(C)c1nn(C)c(N2CCOC(F)(F)c2)c2cc([N+](=O)[O-])ccc2Cl)CO1'\n",
      "[14:43:37] Can't kekulize mol.  Unkekulized atoms: 3 4 6\n",
      "[14:43:37] Can't kekulize mol.  Unkekulized atoms: 12 13 14 18 27\n",
      "[14:43:37] Can't kekulize mol.  Unkekulized atoms: 10 11 12 13 19\n",
      "[14:43:37] SMILES Parse Error: syntax error while parsing: CCOc1cc(C(=O)N2CC(c3cccc([N+o3)n4)CC2)CCN1C(=O)c1ccc([N+](=O)[O-])cc1\n",
      "[14:43:37] SMILES Parse Error: Failed parsing SMILES 'CCOc1cc(C(=O)N2CC(c3cccc([N+o3)n4)CC2)CCN1C(=O)c1ccc([N+](=O)[O-])cc1' for input: 'CCOc1cc(C(=O)N2CC(c3cccc([N+o3)n4)CC2)CCN1C(=O)c1ccc([N+](=O)[O-])cc1'\n",
      "[14:43:37] Can't kekulize mol.  Unkekulized atoms: 5 6 7 8 21\n",
      "[14:43:37] SMILES Parse Error: extra close parentheses while parsing: CCOC1CC(N(C)S(=O)(=O)c2ccc(C)c([N+](=O)[O-])c2)c1CCC(C)C)c1nncn1CCOC\n",
      "[14:43:37] SMILES Parse Error: Failed parsing SMILES 'CCOC1CC(N(C)S(=O)(=O)c2ccc(C)c([N+](=O)[O-])c2)c1CCC(C)C)c1nncn1CCOC' for input: 'CCOC1CC(N(C)S(=O)(=O)c2ccc(C)c([N+](=O)[O-])c2)c1CCC(C)C)c1nncn1CCOC'\n",
      "[14:43:37] SMILES Parse Error: extra close parentheses while parsing: CCCc1cc(CN2CC[S@+]([O-])[O-])cc2)CC1=O\n",
      "[14:43:37] SMILES Parse Error: Failed parsing SMILES 'CCCc1cc(CN2CC[S@+]([O-])[O-])cc2)CC1=O' for input: 'CCCc1cc(CN2CC[S@+]([O-])[O-])cc2)CC1=O'\n",
      "[14:43:37] SMILES Parse Error: extra close parentheses while parsing: CC(C)CCCC(=O)N(CCO)CCNc1ccnc(O)c1[N+](=O)[O-])[C@@H](O)C(F)(F)F\n",
      "[14:43:37] SMILES Parse Error: Failed parsing SMILES 'CC(C)CCCC(=O)N(CCO)CCNc1ccnc(O)c1[N+](=O)[O-])[C@@H](O)C(F)(F)F' for input: 'CC(C)CCCC(=O)N(CCO)CCNc1ccnc(O)c1[N+](=O)[O-])[C@@H](O)C(F)(F)F'\n",
      "[14:43:37] Can't kekulize mol.  Unkekulized atoms: 5 6 7\n",
      "[14:43:37] SMILES Parse Error: unclosed ring for input: 'CC(C)(C)C(=O)N1CCC[C@@H](NCc2ccc(C(N)=O)cc3[N+](=O)[O-])C[C@@H]1C'\n",
      "[14:43:37] SMILES Parse Error: extra close parentheses while parsing: CCN(CCNc1ccc([N+](=O)[O-])cc1)C(=O)NCCc1cnc(C)nc1O)C(C)C\n",
      "[14:43:37] SMILES Parse Error: Failed parsing SMILES 'CCN(CCNc1ccc([N+](=O)[O-])cc1)C(=O)NCCc1cnc(C)nc1O)C(C)C' for input: 'CCN(CCNc1ccc([N+](=O)[O-])cc1)C(=O)NCCc1cnc(C)nc1O)C(C)C'\n",
      "[14:43:37] SMILES Parse Error: extra close parentheses while parsing: CCN(CCNc1ccc([N+](=O)[O-])cc1)C(=O)NCCc1nc2ccnn2CCCC2)C1\n",
      "[14:43:37] SMILES Parse Error: Failed parsing SMILES 'CCN(CCNc1ccc([N+](=O)[O-])cc1)C(=O)NCCc1nc2ccnn2CCCC2)C1' for input: 'CCN(CCNc1ccc([N+](=O)[O-])cc1)C(=O)NCCc1nc2ccnn2CCCC2)C1'\n",
      "[14:43:37] SMILES Parse Error: unclosed ring for input: 'CCN(CC(=O)NCCCN(C)c1ccc([N+](=O)[O-])cc1OC)C2'\n",
      "[14:43:37] SMILES Parse Error: extra open parentheses for input: 'CC(=O)NC(C)C1(CCNc2nccc(-c2ncc(C)cc2[N+](=O)[O-])n1'\n",
      "[14:43:37] SMILES Parse Error: extra open parentheses for input: 'CC(C)Oc1cccc(CNC(=O)c2cccc(Cn3cc([N+](=O)[O-])ccc3C2)CC1'\n",
      "[14:43:37] Can't kekulize mol.  Unkekulized atoms: 11 12 13 19 20\n",
      "[14:43:37] SMILES Parse Error: extra close parentheses while parsing: CCN1CCn2c([N+](=O)[O-])cc(C(N)=O)n2C)C1\n",
      "[14:43:37] SMILES Parse Error: Failed parsing SMILES 'CCN1CCn2c([N+](=O)[O-])cc(C(N)=O)n2C)C1' for input: 'CCN1CCn2c([N+](=O)[O-])cc(C(N)=O)n2C)C1'\n",
      "[14:43:37] SMILES Parse Error: unclosed ring for input: 'CCOC1CC2(CCCN2C(=O)COC(C)(C)C2)c1[N+](=O)[O-]'\n",
      "[14:43:37] Can't kekulize mol.  Unkekulized atoms: 3 4 5 6 20 21 22\n",
      "[14:43:37] SMILES Parse Error: extra close parentheses while parsing: CCc1ncn(CC(=O)OCc2ccc([N+](=O)[O-])cc2Cl)[C@@H]2C1)C(C)(C)C1=O\n",
      "[14:43:37] SMILES Parse Error: Failed parsing SMILES 'CCc1ncn(CC(=O)OCc2ccc([N+](=O)[O-])cc2Cl)[C@@H]2C1)C(C)(C)C1=O' for input: 'CCc1ncn(CC(=O)OCc2ccc([N+](=O)[O-])cc2Cl)[C@@H]2C1)C(C)(C)C1=O'\n",
      "[14:43:37] SMILES Parse Error: extra close parentheses while parsing: CC(C)[C@@H](C)CN1S(=O)(=O)c1ccc([N+](=O)[O-])cc1)C1CC1\n",
      "[14:43:37] SMILES Parse Error: Failed parsing SMILES 'CC(C)[C@@H](C)CN1S(=O)(=O)c1ccc([N+](=O)[O-])cc1)C1CC1' for input: 'CC(C)[C@@H](C)CN1S(=O)(=O)c1ccc([N+](=O)[O-])cc1)C1CC1'\n",
      "[14:43:37] SMILES Parse Error: extra close parentheses while parsing: CC1(C)CCN[C@@H]1CC(=O)Nc1ccc(Cl)cc1[N+](=O)[O-])\n",
      "[14:43:37] SMILES Parse Error: Failed parsing SMILES 'CC1(C)CCN[C@@H]1CC(=O)Nc1ccc(Cl)cc1[N+](=O)[O-])' for input: 'CC1(C)CCN[C@@H]1CC(=O)Nc1ccc(Cl)cc1[N+](=O)[O-])'\n",
      "[14:43:37] Can't kekulize mol.  Unkekulized atoms: 3 4 6 12 13\n",
      "[14:43:37] SMILES Parse Error: unclosed ring for input: 'CC1(C)C(=O)NCCNC1CCN(Cc2ccc([N+](=O)[O-])cc2)C1'\n",
      "[14:43:37] SMILES Parse Error: extra open parentheses for input: 'CC[C@H](NC(=O)c1ccc(N3C[C@@H](Nc3c([N+](=O)[O-])ccc32)c1'\n",
      "[14:43:37] SMILES Parse Error: unclosed ring for input: 'CC(C)(C)OC(=O)CN(Cc1cccc([N+](=O)[O-])c1)CCC1'\n",
      "[14:43:37] SMILES Parse Error: unclosed ring for input: 'CC[C@@H](Cc1ccccc1)CCN(Cn1nc(C)ccc1[N+](=O)[O-])N1CC1COCC1'\n",
      "[14:43:37] Can't kekulize mol.  Unkekulized atoms: 8 9 10 11 15\n",
      "[14:43:37] SMILES Parse Error: extra open parentheses for input: 'CCC[C@@H](NC(=O)c1ccc(Cn2cc([N+](=O)[O-])o2)c1'\n",
      "[14:43:37] Can't kekulize mol.  Unkekulized atoms: 8 9 10 12 13 17 18\n",
      "[14:43:37] Can't kekulize mol.  Unkekulized atoms: 4 5 6\n",
      "[14:43:37] SMILES Parse Error: extra close parentheses while parsing: CC(C)(C)OC(=O)CCC[C@@H](C)S(=O)(=O)CCNC(=O)[C@@H](C)c1ccc([N+](=O)[O-])cc1)C(C)C\n",
      "[14:43:37] SMILES Parse Error: Failed parsing SMILES 'CC(C)(C)OC(=O)CCC[C@@H](C)S(=O)(=O)CCNC(=O)[C@@H](C)c1ccc([N+](=O)[O-])cc1)C(C)C' for input: 'CC(C)(C)OC(=O)CCC[C@@H](C)S(=O)(=O)CCNC(=O)[C@@H](C)c1ccc([N+](=O)[O-])cc1)C(C)C'\n",
      "[14:43:37] Can't kekulize mol.  Unkekulized atoms: 12 13 14 15 19\n",
      "[14:43:37] SMILES Parse Error: extra open parentheses for input: 'CCOc1ccccc(CNCCn2ccc(CNC(=O)c3nn(C)nc3cc2)c1[N+](=O)[O-]'\n",
      "[14:43:37] SMILES Parse Error: extra close parentheses while parsing: CCN(CCNC(=O)c1cc(C(=O)O)cc([N+](=O)[O-])c1)n1cccn1)c1ncccc1OC\n",
      "[14:43:37] SMILES Parse Error: Failed parsing SMILES 'CCN(CCNC(=O)c1cc(C(=O)O)cc([N+](=O)[O-])c1)n1cccn1)c1ncccc1OC' for input: 'CCN(CCNC(=O)c1cc(C(=O)O)cc([N+](=O)[O-])c1)n1cccn1)c1ncccc1OC'\n",
      "[14:43:37] SMILES Parse Error: extra close parentheses while parsing: CCOCc1cc(C(=O)N[C@@H](CO)c2nccn2C)c2ccc([N+](=O)[O-])cc2)n1\n",
      "[14:43:37] SMILES Parse Error: Failed parsing SMILES 'CCOCc1cc(C(=O)N[C@@H](CO)c2nccn2C)c2ccc([N+](=O)[O-])cc2)n1' for input: 'CCOCc1cc(C(=O)N[C@@H](CO)c2nccn2C)c2ccc([N+](=O)[O-])cc2)n1'\n",
      "[14:43:37] SMILES Parse Error: unclosed ring for input: 'CCOC(=O)c1ccc(NC(=O)Cc2cc(F)ccc2OCCOCC2)c1[N+](=O)[O-]'\n",
      "[14:43:37] SMILES Parse Error: extra open parentheses for input: 'CCN(C(=O)[C@H]1CCCN2C1=O'\n",
      "[14:43:37] SMILES Parse Error: extra close parentheses while parsing: CC1(C)[C@@H](OC)C2)c1[N+](=O)[O-]\n",
      "[14:43:37] SMILES Parse Error: Failed parsing SMILES 'CC1(C)[C@@H](OC)C2)c1[N+](=O)[O-]' for input: 'CC1(C)[C@@H](OC)C2)c1[N+](=O)[O-]'\n",
      "[14:43:37] SMILES Parse Error: extra close parentheses while parsing: CCN1CC[C@]2(CCOCC3)CC2)c1[N+](=O)[O-]\n",
      "[14:43:37] SMILES Parse Error: Failed parsing SMILES 'CCN1CC[C@]2(CCOCC3)CC2)c1[N+](=O)[O-]' for input: 'CCN1CC[C@]2(CCOCC3)CC2)c1[N+](=O)[O-]'\n",
      "[14:43:37] Can't kekulize mol.  Unkekulized atoms: 4 5 6\n",
      "[14:43:37] SMILES Parse Error: extra close parentheses while parsing: CCCN(CCNC(=O)c1ccn)c1)c1ccc([N+](=O)[O-])cc1F\n",
      "[14:43:37] SMILES Parse Error: Failed parsing SMILES 'CCCN(CCNC(=O)c1ccn)c1)c1ccc([N+](=O)[O-])cc1F' for input: 'CCCN(CCNC(=O)c1ccn)c1)c1ccc([N+](=O)[O-])cc1F'\n",
      "[14:43:37] SMILES Parse Error: extra close parentheses while parsing: CCc1ccc(CNC(=O)C(=O)Nc2ccc([N+](=O)[O-]3[nH]c3cccc([N+](=O)[O-])c3)n2)nn1)Oc1ccccc1\n",
      "[14:43:37] SMILES Parse Error: Failed parsing SMILES 'CCc1ccc(CNC(=O)C(=O)Nc2ccc([N+](=O)[O-]3[nH]c3cccc([N+](=O)[O-])c3)n2)nn1)Oc1ccccc1' for input: 'CCc1ccc(CNC(=O)C(=O)Nc2ccc([N+](=O)[O-]3[nH]c3cccc([N+](=O)[O-])c3)n2)nn1)Oc1ccccc1'\n",
      "[14:43:37] SMILES Parse Error: unclosed ring for input: 'CC(C)(C)CCN(C)C(=O)COC(=O)c1cc([N+](=O)[O-])c(N2CCOCC2)cc1NC(=O)OCC(=O)N1CC(C)(C)[C@H](OC)C(=O)O'\n",
      "[14:43:37] Can't kekulize mol.  Unkekulized atoms: 3 5 6\n",
      "[14:43:37] Can't kekulize mol.  Unkekulized atoms: 9 10 11 12 16\n",
      "[14:43:37] Can't kekulize mol.  Unkekulized atoms: 9 10 11\n",
      "[14:43:37] SMILES Parse Error: unclosed ring for input: 'CC[C@@H]1CN(S(=O)(=O)c2cccc([N+](=O)[O-])c2)Oc1cccc(Cl)c1'\n",
      "[14:43:37] SMILES Parse Error: unclosed ring for input: 'CCCN(CC(N)=O)C(=O)Nc1cc([N+](=O)[O-])ccc11CCNC2'\n",
      "[14:43:37] SMILES Parse Error: extra close parentheses while parsing: CCn1cc(CNC(=O)c2cc([N+](=O)[O-])cc3F)C2)CCOC1\n",
      "[14:43:37] SMILES Parse Error: Failed parsing SMILES 'CCn1cc(CNC(=O)c2cc([N+](=O)[O-])cc3F)C2)CCOC1' for input: 'CCn1cc(CNC(=O)c2cc([N+](=O)[O-])cc3F)C2)CCOC1'\n",
      "[14:43:37] SMILES Parse Error: extra close parentheses while parsing: CCCc1cc(C(=O)NC2(C(=O)O)CCOCC3)cc2[N+](=O)[O-])C1=O\n",
      "[14:43:37] SMILES Parse Error: Failed parsing SMILES 'CCCc1cc(C(=O)NC2(C(=O)O)CCOCC3)cc2[N+](=O)[O-])C1=O' for input: 'CCCc1cc(C(=O)NC2(C(=O)O)CCOCC3)cc2[N+](=O)[O-])C1=O'\n",
      "[14:43:37] SMILES Parse Error: unclosed ring for input: 'CC(C)n1cnn2C1CCN(C(=O)CCCOC(F)F)cc1[N+](=O)[O-]'\n",
      "[14:43:37] Can't kekulize mol.  Unkekulized atoms: 9 10 12 18 19\n",
      "[14:43:37] SMILES Parse Error: unclosed ring for input: 'CCCC[C@@H]1CN(C(=O)c2ccc3c(n2)CCSC2)c1[N+](=O)[O-]'\n",
      "[14:43:37] SMILES Parse Error: extra close parentheses while parsing: CCc1cccc(=O)c1[N+](=O)[O-])C(=O)c1noc(COC)c(C)c1\n",
      "[14:43:37] SMILES Parse Error: Failed parsing SMILES 'CCc1cccc(=O)c1[N+](=O)[O-])C(=O)c1noc(COC)c(C)c1' for input: 'CCc1cccc(=O)c1[N+](=O)[O-])C(=O)c1noc(COC)c(C)c1'\n",
      "[14:43:37] Can't kekulize mol.  Unkekulized atoms: 15 16 17 18 28\n",
      "[14:43:37] SMILES Parse Error: extra open parentheses for input: 'CC(C)(C(=O)N1CCCN(Cn2ccc([N+](=O)[O-])n2)cc1F'\n",
      "[14:43:37] Can't kekulize mol.  Unkekulized atoms: 22 23 24\n",
      "[14:43:37] Can't kekulize mol.  Unkekulized atoms: 3 5 6\n",
      "[14:43:37] Can't kekulize mol.  Unkekulized atoms: 8 9 10 24 25\n",
      "[14:43:37] SMILES Parse Error: extra close parentheses while parsing: CC[C@@](COC)[C@H](C)NS(=O)(=O)c1cc(F)cc([N+](=O)[O-])c1)n1ccnc1O)C1CCOCC1\n",
      "[14:43:37] SMILES Parse Error: Failed parsing SMILES 'CC[C@@](COC)[C@H](C)NS(=O)(=O)c1cc(F)cc([N+](=O)[O-])c1)n1ccnc1O)C1CCOCC1' for input: 'CC[C@@](COC)[C@H](C)NS(=O)(=O)c1cc(F)cc([N+](=O)[O-])c1)n1ccnc1O)C1CCOCC1'\n",
      "[14:43:37] SMILES Parse Error: extra close parentheses while parsing: CCO[C@@H]1C[C@](O)(CNCc2cccc([N+](=O)[O-])c3)CC2)cc1\n",
      "[14:43:37] SMILES Parse Error: Failed parsing SMILES 'CCO[C@@H]1C[C@](O)(CNCc2cccc([N+](=O)[O-])c3)CC2)cc1' for input: 'CCO[C@@H]1C[C@](O)(CNCc2cccc([N+](=O)[O-])c3)CC2)cc1'\n",
      "[14:43:37] SMILES Parse Error: extra close parentheses while parsing: CC(C)CCO[C@@H](C)C(=O)NCCNc1ccccc1[N+](=O)[O-])S(C)(=O)=O\n",
      "[14:43:37] SMILES Parse Error: Failed parsing SMILES 'CC(C)CCO[C@@H](C)C(=O)NCCNc1ccccc1[N+](=O)[O-])S(C)(=O)=O' for input: 'CC(C)CCO[C@@H](C)C(=O)NCCNc1ccccc1[N+](=O)[O-])S(C)(=O)=O'\n",
      "[14:43:37] Can't kekulize mol.  Unkekulized atoms: 20 21 22\n",
      "[14:43:37] SMILES Parse Error: extra close parentheses while parsing: CC(C)[C@@H](NCc1cc(C(=O)OC)cc(C)c1[N+](=O)[O-])N1CCC=CCN1)C(=O)O\n",
      "[14:43:37] SMILES Parse Error: Failed parsing SMILES 'CC(C)[C@@H](NCc1cc(C(=O)OC)cc(C)c1[N+](=O)[O-])N1CCC=CCN1)C(=O)O' for input: 'CC(C)[C@@H](NCc1cc(C(=O)OC)cc(C)c1[N+](=O)[O-])N1CCC=CCN1)C(=O)O'\n",
      "[14:43:37] SMILES Parse Error: unclosed ring for input: 'CC1(C)[C@H]2CN(S(=O)(=O)c2ccc([N+](=O)[O-])cc2O)CC1'\n",
      "[14:43:37] Can't kekulize mol.  Unkekulized atoms: 3 4 5 6 28\n",
      "[14:43:37] Can't kekulize mol.  Unkekulized atoms: 19 20 21\n",
      "[14:43:37] SMILES Parse Error: extra close parentheses while parsing: CCCN(CCNC(=O)CCOc1cccsc1)c1ncc([N+](=O)[O-])cc1F)C(=O)OC\n",
      "[14:43:37] SMILES Parse Error: Failed parsing SMILES 'CCCN(CCNC(=O)CCOc1cccsc1)c1ncc([N+](=O)[O-])cc1F)C(=O)OC' for input: 'CCCN(CCNC(=O)CCOc1cccsc1)c1ncc([N+](=O)[O-])cc1F)C(=O)OC'\n",
      "[14:43:37] SMILES Parse Error: extra open parentheses for input: 'CCC(CC)(CCNC(=O)N1CCN(c2ccccc2[N+](=O)[O-])CC1'\n",
      "[14:43:37] SMILES Parse Error: extra open parentheses for input: 'CC(C)(CCc1nc(CN(C)C[C@@H]2CCN(c3cccc([N+](=O)[O-])c3)n2)CCO1'\n",
      "[14:43:37] SMILES Parse Error: extra open parentheses for input: 'CCCc1[nH]nc(C(=O)Oc2ccc(OCc3nnc(C3)n2)c1'\n",
      "[14:43:37] Can't kekulize mol.  Unkekulized atoms: 5 6 7 8 22\n",
      "[14:43:37] SMILES Parse Error: unclosed ring for input: 'CCn1cc(CCC(=O)Nc2nccn3c2[N+](=O)[O-])[C@H]1CCCO1'\n",
      "[14:43:37] SMILES Parse Error: extra close parentheses while parsing: CC(=O)c1cccc(CNC(=O)N2CCC[C@@H]2C)CCN(C)c2ccccc2)c1[N+](=O)[O-]\n",
      "[14:43:37] SMILES Parse Error: Failed parsing SMILES 'CC(=O)c1cccc(CNC(=O)N2CCC[C@@H]2C)CCN(C)c2ccccc2)c1[N+](=O)[O-]' for input: 'CC(=O)c1cccc(CNC(=O)N2CCC[C@@H]2C)CCN(C)c2ccccc2)c1[N+](=O)[O-]'\n",
      "[14:43:37] Can't kekulize mol.  Unkekulized atoms: 3 4 5 23 24\n",
      "[14:43:37] SMILES Parse Error: extra open parentheses for input: 'CC[C@@H](NS(=O)(=O)c1ccccc1[N+](=O)[O-]'\n",
      "[14:43:37] Can't kekulize mol.  Unkekulized atoms: 8 9 13 14 16\n",
      "[14:43:37] SMILES Parse Error: extra open parentheses for input: 'CCN1CC(CC(=O)OCc2cc(OC)c(C(C)(C)c2[N+](=O)[O-])CC1'\n",
      "[14:43:37] SMILES Parse Error: extra close parentheses while parsing: CC(C)N(C)C(=O)CCNCc1ccccc1[N+](=O)[O-])C2\n",
      "[14:43:37] SMILES Parse Error: Failed parsing SMILES 'CC(C)N(C)C(=O)CCNCc1ccccc1[N+](=O)[O-])C2' for input: 'CC(C)N(C)C(=O)CCNCc1ccccc1[N+](=O)[O-])C2'\n",
      "[14:43:37] SMILES Parse Error: unclosed ring for input: 'CC1=C(C)[C@H]2CN(c3ncc(C)cc3[N+](=O)[O-])C1'\n",
      "[14:43:37] Can't kekulize mol.  Unkekulized atoms: 12 13 14 15 19\n",
      "[14:43:37] SMILES Parse Error: extra close parentheses while parsing: CCN(CCNc1ncccc1[N+](=O)[O-])CC2)C[C@@H]1Oc1ccccc1\n",
      "[14:43:37] SMILES Parse Error: Failed parsing SMILES 'CCN(CCNc1ncccc1[N+](=O)[O-])CC2)C[C@@H]1Oc1ccccc1' for input: 'CCN(CCNc1ncccc1[N+](=O)[O-])CC2)C[C@@H]1Oc1ccccc1'\n",
      "[14:43:37] Can't kekulize mol.  Unkekulized atoms: 20 21 22\n",
      "[14:43:37] Can't kekulize mol.  Unkekulized atoms: 3 4 5\n",
      "[14:43:37] SMILES Parse Error: extra close parentheses while parsing: CC1(C)[C@H]2CCCNCCCC[C@H]2OCCN2COCC3)n[nH]1\n",
      "[14:43:37] SMILES Parse Error: Failed parsing SMILES 'CC1(C)[C@H]2CCCNCCCC[C@H]2OCCN2COCC3)n[nH]1' for input: 'CC1(C)[C@H]2CCCNCCCC[C@H]2OCCN2COCC3)n[nH]1'\n",
      "[14:43:37] SMILES Parse Error: extra open parentheses for input: 'CCC[C@H](C)NC(=O)CCN1CCN(CC(=O)c1ccc([N+](=O)[O-])cc1F'\n",
      "[14:43:37] SMILES Parse Error: extra close parentheses while parsing: CCOC(=O)CN(C[C@H]1CCOC2)C12CCCC2)c1[N+](=O)[O-]\n",
      "[14:43:37] SMILES Parse Error: Failed parsing SMILES 'CCOC(=O)CN(C[C@H]1CCOC2)C12CCCC2)c1[N+](=O)[O-]' for input: 'CCOC(=O)CN(C[C@H]1CCOC2)C12CCCC2)c1[N+](=O)[O-]'\n",
      "[14:43:37] SMILES Parse Error: unclosed ring for input: 'CC(C)[C@H](NC[C@@H]1CC1(O)CNc2cc(C)c([N+](=O)[O-])cn2)o1'\n",
      "[14:43:37] SMILES Parse Error: unclosed ring for input: 'CCOc1cc([N+](=O)[O-])cc(C(=O)N[C@@H](C(F)F)n2CC)C1'\n",
      "[14:43:37] Can't kekulize mol.  Unkekulized atoms: 4 5 6\n",
      "[14:43:37] SMILES Parse Error: extra open parentheses for input: 'CCCc1[nH]nc(C(=O)Nc2cccc(-c3ccc(O)cc32)c1[N+](=O)[O-]'\n",
      "[14:43:37] SMILES Parse Error: extra close parentheses while parsing: CC1(C)CC[C@@H]1CNC(=O)Cn1ccc2c(=O)ccc1[N+](=O)[O-])C2\n",
      "[14:43:37] SMILES Parse Error: Failed parsing SMILES 'CC1(C)CC[C@@H]1CNC(=O)Cn1ccc2c(=O)ccc1[N+](=O)[O-])C2' for input: 'CC1(C)CC[C@@H]1CNC(=O)Cn1ccc2c(=O)ccc1[N+](=O)[O-])C2'\n",
      "[14:43:37] SMILES Parse Error: extra close parentheses while parsing: CC(C)n1cnc(C(=O)N(C)CCNc2ccc([N+](=O)[O-])cc2)n1)N(C)C\n",
      "[14:43:37] SMILES Parse Error: Failed parsing SMILES 'CC(C)n1cnc(C(=O)N(C)CCNc2ccc([N+](=O)[O-])cc2)n1)N(C)C' for input: 'CC(C)n1cnc(C(=O)N(C)CCNc2ccc([N+](=O)[O-])cc2)n1)N(C)C'\n",
      "[14:43:37] SMILES Parse Error: extra close parentheses while parsing: CCCn1ncnc1CNc1cc=c([N+](=O)[O-])c1)n1cc(C)cn1C[C@H](C)CC\n",
      "[14:43:37] SMILES Parse Error: Failed parsing SMILES 'CCCn1ncnc1CNc1cc=c([N+](=O)[O-])c1)n1cc(C)cn1C[C@H](C)CC' for input: 'CCCn1ncnc1CNc1cc=c([N+](=O)[O-])c1)n1cc(C)cn1C[C@H](C)CC'\n",
      "[14:43:37] Can't kekulize mol.  Unkekulized atoms: 2 4 5\n",
      "[14:43:37] SMILES Parse Error: unclosed ring for input: 'CC(C)(C)[C@H](CNCCS(=O)(=O)c1ccc([N+](=O)[O-])cc1Cl)OCO2'\n",
      "[14:43:37] Can't kekulize mol.  Unkekulized atoms: 8 9 10 11 15 16 17\n",
      "[14:43:37] SMILES Parse Error: unclosed ring for input: 'CC1(C)CN(C(=O)COc2cccc([N+](=O)[O-])c2)C(=O)N1CC1'\n",
      "[14:43:37] SMILES Parse Error: extra close parentheses while parsing: CC(C)c1n[nH]cnc1C(=O)N(C)CC[C@@H]1CCNCC1)c1ncc([N+](=O)[O-])cc1C\n",
      "[14:43:37] SMILES Parse Error: Failed parsing SMILES 'CC(C)c1n[nH]cnc1C(=O)N(C)CC[C@@H]1CCNCC1)c1ncc([N+](=O)[O-])cc1C' for input: 'CC(C)c1n[nH]cnc1C(=O)N(C)CC[C@@H]1CCNCC1)c1ncc([N+](=O)[O-])cc1C'\n",
      "[14:43:37] SMILES Parse Error: extra close parentheses while parsing: CC[C@H](NC(=O)c1ccc(C)cc1OCC)c1nccc(C)c1[N+](=O)[O-])=C1CCC1\n",
      "[14:43:37] SMILES Parse Error: Failed parsing SMILES 'CC[C@H](NC(=O)c1ccc(C)cc1OCC)c1nccc(C)c1[N+](=O)[O-])=C1CCC1' for input: 'CC[C@H](NC(=O)c1ccc(C)cc1OCC)c1nccc(C)c1[N+](=O)[O-])=C1CCC1'\n",
      "[14:43:37] SMILES Parse Error: extra close parentheses while parsing: CCCSc1ccc([N+](=O)[O-])[nH]1)C(=O)Cc1ccn(CC(F)(F)F)n1\n",
      "[14:43:37] SMILES Parse Error: Failed parsing SMILES 'CCCSc1ccc([N+](=O)[O-])[nH]1)C(=O)Cc1ccn(CC(F)(F)F)n1' for input: 'CCCSc1ccc([N+](=O)[O-])[nH]1)C(=O)Cc1ccn(CC(F)(F)F)n1'\n",
      "[14:43:37] Can't kekulize mol.  Unkekulized atoms: 17 18 19\n",
      "[14:43:37] SMILES Parse Error: extra open parentheses for input: 'CC[C@H](NS(=O)(=O)c1cc(C)ccc1[N+](=O)[O-]'\n",
      "[14:43:37] Can't kekulize mol.  Unkekulized atoms: 5 6 7\n",
      "[14:43:37] Can't kekulize mol.  Unkekulized atoms: 20 21 22\n",
      "[14:43:37] Can't kekulize mol.  Unkekulized atoms: 15 16 17 19 20 24 26\n",
      "[14:43:37] SMILES Parse Error: unclosed ring for input: 'CCO[C@@H]1CN(CCC(=O)Nc2ccc([N+](=O)[O-])cc2)C(C)C'\n",
      "[14:43:37] SMILES Parse Error: extra open parentheses for input: 'CCOc1cc([C@H](Nc2ccc([N+](=O)[O-])nc2)C1'\n",
      "[14:43:37] SMILES Parse Error: unclosed ring for input: 'CC(C)(C)C(=O)N1CCCNC(=O)c2cc([N+](=O)[O-])c(-c2ccccn2)no1'\n",
      "[14:43:37] Can't kekulize mol.  Unkekulized atoms: 4\n",
      "[14:43:37] SMILES Parse Error: unclosed ring for input: 'CC[C@@H]1CN(S(=O)(=O)c2c(N)cccc1[N+](=O)[O-])[C@H]1CCOCC1'\n",
      "[14:43:37] SMILES Parse Error: extra open parentheses for input: 'CCNC(=O)[C@@H](OC(=O)c1oc(C)c(C)cc1[N+](=O)[O-]'\n",
      "[14:43:37] Can't kekulize mol.  Unkekulized atoms: 5 6 7 8 9\n",
      "[14:43:37] SMILES Parse Error: extra open parentheses for input: 'CC1(CC(=O)NCCN(C[C@@H](O)c2ccc([N+](=O)[O-])cc2C)CC1'\n",
      "[14:43:37] Can't kekulize mol.  Unkekulized atoms: 2 3 4 5 6\n",
      "[14:43:37] SMILES Parse Error: unclosed ring for input: 'CC1(C)[C@H]2CN(S(=O)(=O)c2ccc(C)c([N+](=O)[O-])c2)C1'\n",
      "[14:43:37] SMILES Parse Error: extra open parentheses for input: 'CCO[C@@H](C1CN(C(=O)[C@H](C)c2ncccc2[N+](=O)[O-])CCO1'\n",
      "[14:43:37] SMILES Parse Error: extra close parentheses while parsing: CCCc1n[nH]c(C(=O)OCCOc2ccc(-c3cccc([N+](=O)[O-])c3)cs2)C12CCC2)(C(N)=O)C1CCC1\n",
      "[14:43:37] SMILES Parse Error: Failed parsing SMILES 'CCCc1n[nH]c(C(=O)OCCOc2ccc(-c3cccc([N+](=O)[O-])c3)cs2)C12CCC2)(C(N)=O)C1CCC1' for input: 'CCCc1n[nH]c(C(=O)OCCOc2ccc(-c3cccc([N+](=O)[O-])c3)cs2)C12CCC2)(C(N)=O)C1CCC1'\n",
      "[14:43:37] Can't kekulize mol.  Unkekulized atoms: 11 12 13 17 18\n",
      "[14:43:37] Can't kekulize mol.  Unkekulized atoms: 21\n",
      "[14:43:37] SMILES Parse Error: extra close parentheses while parsing: CCn1cccc1C(=O)N1CCN(Cc2cccc([N+](=O)[O-])c2)no1)C(C)C\n",
      "[14:43:37] SMILES Parse Error: Failed parsing SMILES 'CCn1cccc1C(=O)N1CCN(Cc2cccc([N+](=O)[O-])c2)no1)C(C)C' for input: 'CCn1cccc1C(=O)N1CCN(Cc2cccc([N+](=O)[O-])c2)no1)C(C)C'\n",
      "[14:43:37] Can't kekulize mol.  Unkekulized atoms: 16 17 18 19 23 24 25\n",
      "[14:43:37] SMILES Parse Error: unclosed ring for input: 'CC(C)CN1CCN(c2ccccc2[N+](=O)[O-])=CC2'\n",
      "[14:43:37] SMILES Parse Error: extra open parentheses for input: 'CC(C)(C(=O)N1CCC2(CC1)CN(Cc1ccc([N+](=O)[O-])cc1)C2CC1=O'\n",
      "[14:43:37] Can't kekulize mol.  Unkekulized atoms: 7 8 9 10 14\n",
      "[14:43:37] Can't kekulize mol.  Unkekulized atoms: 16 17 19\n",
      "[14:43:37] SMILES Parse Error: extra close parentheses while parsing: CCN(CCNC(=O)c1cscn1)c1nccc(C)c1[N+](=O)[O-])[C@H]1CCNCC1\n",
      "[14:43:37] SMILES Parse Error: Failed parsing SMILES 'CCN(CCNC(=O)c1cscn1)c1nccc(C)c1[N+](=O)[O-])[C@H]1CCNCC1' for input: 'CCN(CCNC(=O)c1cscn1)c1nccc(C)c1[N+](=O)[O-])[C@H]1CCNCC1'\n",
      "[14:43:37] SMILES Parse Error: unclosed ring for input: 'CC1(C)CN(c2c(COCCOCCO3)CC2)ccc1[N+](=O)[O-]'\n",
      "[14:43:37] SMILES Parse Error: extra close parentheses while parsing: CC(C)CO[C@@H](CCNC(=O)CCC(N)=O)CC)c1[N+](=O)[O-]\n",
      "[14:43:37] SMILES Parse Error: Failed parsing SMILES 'CC(C)CO[C@@H](CCNC(=O)CCC(N)=O)CC)c1[N+](=O)[O-]' for input: 'CC(C)CO[C@@H](CCNC(=O)CCC(N)=O)CC)c1[N+](=O)[O-]'\n",
      "[14:43:37] SMILES Parse Error: extra close parentheses while parsing: CCOc1cc(CN2CN(c3ncccc3[N+](=O)[O-])C2)n(C)n1)C(C)C\n",
      "[14:43:37] SMILES Parse Error: Failed parsing SMILES 'CCOc1cc(CN2CN(c3ncccc3[N+](=O)[O-])C2)n(C)n1)C(C)C' for input: 'CCOc1cc(CN2CN(c3ncccc3[N+](=O)[O-])C2)n(C)n1)C(C)C'\n",
      "[14:43:37] SMILES Parse Error: extra close parentheses while parsing: CCc1ccc([N+](=O)[O-])cc1F)C(=O)OC\n",
      "[14:43:37] SMILES Parse Error: Failed parsing SMILES 'CCc1ccc([N+](=O)[O-])cc1F)C(=O)OC' for input: 'CCc1ccc([N+](=O)[O-])cc1F)C(=O)OC'\n",
      "[14:43:37] Can't kekulize mol.  Unkekulized atoms: 18 19 20\n",
      "[14:43:37] SMILES Parse Error: extra close parentheses while parsing: CCSc1ccc([N+](=O)[O-])cc1)N1CC[C@H](1CCCO2\n",
      "[14:43:37] SMILES Parse Error: Failed parsing SMILES 'CCSc1ccc([N+](=O)[O-])cc1)N1CC[C@H](1CCCO2' for input: 'CCSc1ccc([N+](=O)[O-])cc1)N1CC[C@H](1CCCO2'\n",
      "[14:43:37] SMILES Parse Error: extra close parentheses while parsing: CC(C)[C@H]1N[C@H](C(=O)N2CCOc3ccc([N+](=O)[O-])cc3)C2)n[nH]1\n",
      "[14:43:37] SMILES Parse Error: Failed parsing SMILES 'CC(C)[C@H]1N[C@H](C(=O)N2CCOc3ccc([N+](=O)[O-])cc3)C2)n[nH]1' for input: 'CC(C)[C@H]1N[C@H](C(=O)N2CCOc3ccc([N+](=O)[O-])cc3)C2)n[nH]1'\n",
      "[14:43:37] SMILES Parse Error: extra close parentheses while parsing: CC(C)(C)OC(=O)NCCCN(C)C(=O)Cn1cnc2ccccc2O1)c1ncccc1[N+](=O)[O-]\n",
      "[14:43:37] SMILES Parse Error: Failed parsing SMILES 'CC(C)(C)OC(=O)NCCCN(C)C(=O)Cn1cnc2ccccc2O1)c1ncccc1[N+](=O)[O-]' for input: 'CC(C)(C)OC(=O)NCCCN(C)C(=O)Cn1cnc2ccccc2O1)c1ncccc1[N+](=O)[O-]'\n",
      "[14:43:37] Can't kekulize mol.  Unkekulized atoms: 9 10 11 12 18\n",
      "[14:43:37] SMILES Parse Error: extra close parentheses while parsing: CCN(Cc1ccc(OC)cc1)S(=O)(=O)c1ccc([N+](=O)[O-])c(C)c1)C1CCOCC1\n",
      "[14:43:37] SMILES Parse Error: Failed parsing SMILES 'CCN(Cc1ccc(OC)cc1)S(=O)(=O)c1ccc([N+](=O)[O-])c(C)c1)C1CCOCC1' for input: 'CCN(Cc1ccc(OC)cc1)S(=O)(=O)c1ccc([N+](=O)[O-])c(C)c1)C1CCOCC1'\n",
      "[14:43:37] Can't kekulize mol.  Unkekulized atoms: 5 6 7 8 12\n",
      "[14:43:37] SMILES Parse Error: ring closure 2 duplicates bond between atom 15 and atom 16 for input: 'CCc1ccc([C@H]2OCC[C@H]2OCCC[C@@H]2n2cc([N+](=O)[O-])cc2)C[C@H]1C'\n",
      "[14:43:37] Can't kekulize mol.  Unkekulized atoms: 2 3 6 21 22\n",
      "[14:43:37] SMILES Parse Error: extra close parentheses while parsing: CCC[C@@H](C(=O)O)c1ccco1)C(C)C\n",
      "[14:43:37] SMILES Parse Error: Failed parsing SMILES 'CCC[C@@H](C(=O)O)c1ccco1)C(C)C' for input: 'CCC[C@@H](C(=O)O)c1ccco1)C(C)C'\n",
      "[14:43:37] SMILES Parse Error: extra open parentheses for input: 'CCOC(=O)c1cc(N2CCN(Cc3ccccc3[N+](=O)[O-])c2nsnc2c1'\n",
      "[14:43:37] SMILES Parse Error: unclosed ring for input: 'CC[C@H](C)C[C@@H]1CCCN(C(=O)[C@@H]2C[C@@H]2[C@H]2C)ccc1[N+](=O)[O-]'\n",
      "[14:43:37] Can't kekulize mol.  Unkekulized atoms: 5 6 7 8 20\n",
      "[14:43:37] Can't kekulize mol.  Unkekulized atoms: 2 3 4 5 25\n",
      "[14:43:37] SMILES Parse Error: unclosed ring for input: 'CCO[C@@H]1C[C@H](NC(=O)c2cc3c(c([N+](=O)[O-])c2)no1)OC'\n",
      "[14:43:37] SMILES Parse Error: extra open parentheses for input: 'CC[C@@H](Nc1c([N+](=O)[O-])c(F)cnc1C(=O)NCC1CCOCC1'\n",
      "[14:43:37] SMILES Parse Error: unclosed ring for input: 'CCC1(C(=O)NOC2(CN(C)CCCN2C)CCOCC2)c([N+](=O)[O-])c1'\n",
      "[14:43:37] SMILES Parse Error: extra open parentheses for input: 'CC[C@H](NS(=O)(=O)c1ccc(F)c([N+](=O)[O-])c1'\n",
      "[14:43:37] SMILES Parse Error: extra open parentheses for input: 'CC(C)(C(=O)Oc1cc(C(=O)N(CC)CCN)c([N+](=O)[O-])c1'\n",
      "[14:43:37] SMILES Parse Error: extra close parentheses while parsing: CCn1cnnc1CN=c1cc(C)c([N+](=O)[O-])cn1)[C@H]1CCCOCCO1\n",
      "[14:43:37] SMILES Parse Error: Failed parsing SMILES 'CCn1cnnc1CN=c1cc(C)c([N+](=O)[O-])cn1)[C@H]1CCCOCCO1' for input: 'CCn1cnnc1CN=c1cc(C)c([N+](=O)[O-])cn1)[C@H]1CCCOCCO1'\n",
      "[14:43:37] Can't kekulize mol.  Unkekulized atoms: 24\n",
      "[14:43:37] Can't kekulize mol.  Unkekulized atoms: 4 5 6 7 18\n",
      "[14:43:37] Can't kekulize mol.  Unkekulized atoms: 7 8 9 13 14\n",
      "[14:43:37] SMILES Parse Error: unclosed ring for input: 'CC(C)C(=O)N1[C@@H]2CCN(C(=O)c2ccc([N+](=O)[O-])cc2)on1'\n",
      "[14:43:37] SMILES Parse Error: extra close parentheses while parsing: CCn1nc(C)nc1[C@@H](C)NS(=O)(=O)c1cc(C)cs1)c1ccc([N+](=O)[O-])cc1\n",
      "[14:43:37] SMILES Parse Error: Failed parsing SMILES 'CCn1nc(C)nc1[C@@H](C)NS(=O)(=O)c1cc(C)cs1)c1ccc([N+](=O)[O-])cc1' for input: 'CCn1nc(C)nc1[C@@H](C)NS(=O)(=O)c1cc(C)cs1)c1ccc([N+](=O)[O-])cc1'\n",
      "[14:43:37] SMILES Parse Error: extra close parentheses while parsing: CC(=O)CCCNC(=O)c1n[nH]c2ccc([N+](=O)[O-])cc1Br)C(=O)OC\n",
      "[14:43:37] SMILES Parse Error: Failed parsing SMILES 'CC(=O)CCCNC(=O)c1n[nH]c2ccc([N+](=O)[O-])cc1Br)C(=O)OC' for input: 'CC(=O)CCCNC(=O)c1n[nH]c2ccc([N+](=O)[O-])cc1Br)C(=O)OC'\n",
      "[14:43:37] Can't kekulize mol.  Unkekulized atoms: 3 4 6\n",
      "[14:43:37] SMILES Parse Error: extra open parentheses for input: 'CC[C@H](NS(=O)(=O)c1cc(C)c([N+](=O)[O-])c(C(C)C)n1'\n",
      "[14:43:37] SMILES Parse Error: extra close parentheses while parsing: CC(C)CC[C@H](N)CNS(=O)(=O)c1ccc(N)c([N+](=O)[O-])c1)C2\n",
      "[14:43:37] SMILES Parse Error: Failed parsing SMILES 'CC(C)CC[C@H](N)CNS(=O)(=O)c1ccc(N)c([N+](=O)[O-])c1)C2' for input: 'CC(C)CC[C@H](N)CNS(=O)(=O)c1ccc(N)c([N+](=O)[O-])c1)C2'\n",
      "[14:43:37] SMILES Parse Error: syntax error while parsing: CCN1CCC(Nc2cc(C()C)c[nH]2)c([N+](=O)[O-])c1\n",
      "[14:43:37] SMILES Parse Error: Failed parsing SMILES 'CCN1CCC(Nc2cc(C()C)c[nH]2)c([N+](=O)[O-])c1' for input: 'CCN1CCC(Nc2cc(C()C)c[nH]2)c([N+](=O)[O-])c1'\n",
      "[14:43:37] Can't kekulize mol.  Unkekulized atoms: 18 19 20\n",
      "[14:43:37] SMILES Parse Error: extra open parentheses for input: 'CC(C)N1CCN(Cc2cc(OC)ccc2[N+](=O)[O-]'\n",
      "[14:43:37] Can't kekulize mol.  Unkekulized atoms: 3 4 5 6 25\n",
      "[14:43:37] SMILES Parse Error: unclosed ring for input: 'CC[C@@H](C)N(CCCNC(=O)CCc2cccc([N+](=O)[O-])c2)C1'\n",
      "[14:43:37] SMILES Parse Error: extra close parentheses while parsing: CC(C)C[C@H]1NC(=O)Cc1ccc(F)cc1[N+](=O)[O-])C(=O)Cc1ccco1\n",
      "[14:43:37] SMILES Parse Error: Failed parsing SMILES 'CC(C)C[C@H]1NC(=O)Cc1ccc(F)cc1[N+](=O)[O-])C(=O)Cc1ccco1' for input: 'CC(C)C[C@H]1NC(=O)Cc1ccc(F)cc1[N+](=O)[O-])C(=O)Cc1ccco1'\n",
      "[14:43:37] SMILES Parse Error: extra open parentheses for input: 'CC(C)c1nc(CN[C@H](Cc2cccc([N+](=O)[O-])c2)C1'\n",
      "[14:43:37] SMILES Parse Error: extra close parentheses while parsing: CCN(CCCNC(=O)c1cncs1)c1ccccc1)c1ncc([N+](=O)[O-])c(OCC2CCOCC2)c1\n",
      "[14:43:37] SMILES Parse Error: Failed parsing SMILES 'CCN(CCCNC(=O)c1cncs1)c1ccccc1)c1ncc([N+](=O)[O-])c(OCC2CCOCC2)c1' for input: 'CCN(CCCNC(=O)c1cncs1)c1ccccc1)c1ncc([N+](=O)[O-])c(OCC2CCOCC2)c1'\n",
      "[14:43:37] Can't kekulize mol.  Unkekulized atoms: 8 9 10 14 15 16 17 18 19\n",
      "[14:43:37] SMILES Parse Error: ring closure 1 duplicates bond between atom 1 and atom 15 for input: 'CC1(Nc2ccc(C(=O)O)cc2[N+](=O)[O-])C1'\n",
      "[14:43:37] SMILES Parse Error: unclosed ring for input: 'CCn1c([C@H](C)[N+](=O)[O-])nnc1N1CCC2(CC1)NC[C@@H]1CCNC1(C)C'\n",
      "[14:43:37] Explicit valence for atom # 16 N, 4, is greater than permitted\n",
      "[14:43:37] SMILES Parse Error: ring closure 1 duplicates bond between atom 1 and atom 18 for input: 'CC1(Nc2nccc(-c3nn[nH]n3)c([N+](=O)[O-])c2)c1C'\n",
      "[14:43:37] SMILES Parse Error: unclosed ring for input: 'CCc1ccc([C@@H](C)S(=O)(=O)N2CC[C@H](C2)CCC3)c1[N+](=O)[O-]'\n",
      "[14:43:37] SMILES Parse Error: extra close parentheses while parsing: CCc1ccc(S(=O)(=O)N2CCc3cc(O)CCC3)cc2[N+](=O)[O-])CC1\n",
      "[14:43:37] SMILES Parse Error: Failed parsing SMILES 'CCc1ccc(S(=O)(=O)N2CCc3cc(O)CCC3)cc2[N+](=O)[O-])CC1' for input: 'CCc1ccc(S(=O)(=O)N2CCc3cc(O)CCC3)cc2[N+](=O)[O-])CC1'\n",
      "[14:43:37] SMILES Parse Error: extra close parentheses while parsing: CC(=O)N[C@@H]1C[C@H]2CCOCC2)c1ccccc1)c1nnc(C)cc1[N+](=O)[O-]\n",
      "[14:43:37] SMILES Parse Error: Failed parsing SMILES 'CC(=O)N[C@@H]1C[C@H]2CCOCC2)c1ccccc1)c1nnc(C)cc1[N+](=O)[O-]' for input: 'CC(=O)N[C@@H]1C[C@H]2CCOCC2)c1ccccc1)c1nnc(C)cc1[N+](=O)[O-]'\n",
      "[14:43:37] SMILES Parse Error: extra close parentheses while parsing: CC[C@H](C)[S@@+](C)[O-])CC(=O)N1CCN(C2CN(c3ccccc3[N+](=O)[O-])CC2)n1\n",
      "[14:43:37] SMILES Parse Error: Failed parsing SMILES 'CC[C@H](C)[S@@+](C)[O-])CC(=O)N1CCN(C2CN(c3ccccc3[N+](=O)[O-])CC2)n1' for input: 'CC[C@H](C)[S@@+](C)[O-])CC(=O)N1CCN(C2CN(c3ccccc3[N+](=O)[O-])CC2)n1'\n",
      "[14:43:37] SMILES Parse Error: extra open parentheses for input: 'CCCNC(=O)[C@H]1CCCN(CN2CCN(c3ccc([N+](=O)[O-])c(C(=O)N2CCN(CCN(C)CCC3)CC2)cc1[N+](=O)[O-]'\n",
      "[14:43:37] SMILES Parse Error: unclosed ring for input: 'CCOC(=O)c1nc(CN2CCN(c3cccc([N+](=O)[O-])c34)CC2)C1'\n",
      "[14:43:37] SMILES Parse Error: extra close parentheses while parsing: CC(C)S(=O)(=O)c1cc(C)cc(OC)c1F)c1ccc([N+](=O)[O-])cc1\n",
      "[14:43:37] SMILES Parse Error: Failed parsing SMILES 'CC(C)S(=O)(=O)c1cc(C)cc(OC)c1F)c1ccc([N+](=O)[O-])cc1' for input: 'CC(C)S(=O)(=O)c1cc(C)cc(OC)c1F)c1ccc([N+](=O)[O-])cc1'\n",
      "[14:43:37] SMILES Parse Error: extra close parentheses while parsing: CCCN(CC1CCC1)C(=O)c1cc(N(C)C)ccc1[N+](=O)[O-])C2\n",
      "[14:43:37] SMILES Parse Error: Failed parsing SMILES 'CCCN(CC1CCC1)C(=O)c1cc(N(C)C)ccc1[N+](=O)[O-])C2' for input: 'CCCN(CC1CCC1)C(=O)c1cc(N(C)C)ccc1[N+](=O)[O-])C2'\n",
      "[14:43:37] Can't kekulize mol.  Unkekulized atoms: 3 5 6\n",
      "[14:43:37] SMILES Parse Error: extra close parentheses while parsing: CC(=O)N1CC[C@H](C(=O)Nc2ccc([N+](=O)[O-])c(O)c2)[nH]nc1C)C1CCOCC1\n",
      "[14:43:37] SMILES Parse Error: Failed parsing SMILES 'CC(=O)N1CC[C@H](C(=O)Nc2ccc([N+](=O)[O-])c(O)c2)[nH]nc1C)C1CCOCC1' for input: 'CC(=O)N1CC[C@H](C(=O)Nc2ccc([N+](=O)[O-])c(O)c2)[nH]nc1C)C1CCOCC1'\n",
      "[14:43:37] Can't kekulize mol.  Unkekulized atoms: 7 8 12 13 14\n",
      "[14:43:37] Can't kekulize mol.  Unkekulized atoms: 3 4 6\n",
      "[14:43:37] SMILES Parse Error: extra open parentheses for input: 'CC(C)[C@@H](NCCN1CCC[C@@H](C)CN1C(=O)CN[C@@H]1C[C@@H](Nc2ncc([N+](=O)[O-])cc2)CCO1'\n",
      "[14:43:37] SMILES Parse Error: extra close parentheses while parsing: CCC(=O)OC1CCN(C(=O)c2csc(-c3nn[nH]n3)c2)no1)c1ccc([N+](=O)[O-])cc1\n",
      "[14:43:37] SMILES Parse Error: Failed parsing SMILES 'CCC(=O)OC1CCN(C(=O)c2csc(-c3nn[nH]n3)c2)no1)c1ccc([N+](=O)[O-])cc1' for input: 'CCC(=O)OC1CCN(C(=O)c2csc(-c3nn[nH]n3)c2)no1)c1ccc([N+](=O)[O-])cc1'\n",
      "[14:43:37] SMILES Parse Error: extra open parentheses for input: 'CCC[C@H](NC(=O)c1n[nH]c(CNC(=O)c2cccc([N+](=O)[O-])c2)n1C'\n",
      "[14:43:37] SMILES Parse Error: extra close parentheses while parsing: CC(=O)Nc1ccc(NC(=O)N2[C@H](C)CCC2)c1[N+](=O)[O-])C(=O)OC\n",
      "[14:43:37] SMILES Parse Error: Failed parsing SMILES 'CC(=O)Nc1ccc(NC(=O)N2[C@H](C)CCC2)c1[N+](=O)[O-])C(=O)OC' for input: 'CC(=O)Nc1ccc(NC(=O)N2[C@H](C)CCC2)c1[N+](=O)[O-])C(=O)OC'\n",
      "[14:43:37] SMILES Parse Error: unclosed ring for input: 'CC(C)[C@H](N)CC(=O)NC[C@@H]2C[C@@H](Nc3ccccc2[N+](=O)[O-])CC1=O'\n",
      "[14:43:37] Can't kekulize mol.  Unkekulized atoms: 3 5 6\n",
      "[14:43:37] SMILES Parse Error: unclosed ring for input: 'CCN(CCNc1ncc([N+](=O)[O-])cc1F)C2'\n",
      "[14:43:37] SMILES Parse Error: extra close parentheses while parsing: CCNc1cccc(C)c1[N+](=O)[O-])C(=O)c1cn[nH]c1\n",
      "[14:43:37] SMILES Parse Error: Failed parsing SMILES 'CCNc1cccc(C)c1[N+](=O)[O-])C(=O)c1cn[nH]c1' for input: 'CCNc1cccc(C)c1[N+](=O)[O-])C(=O)c1cn[nH]c1'\n",
      "[14:43:37] SMILES Parse Error: extra open parentheses for input: 'CCCN(CCCNC(=O)c1nnc(C2)ccc1NC(=O)c1cccc(-n2ccc(C)c([N+](=O)[O-])c2)cs1'\n",
      "[14:43:37] SMILES Parse Error: extra close parentheses while parsing: CCCSc1ccc([N+](=O)[O-])cc1)C(=O)OCC1(CO)CCC2\n",
      "[14:43:37] SMILES Parse Error: Failed parsing SMILES 'CCCSc1ccc([N+](=O)[O-])cc1)C(=O)OCC1(CO)CCC2' for input: 'CCCSc1ccc([N+](=O)[O-])cc1)C(=O)OCC1(CO)CCC2'\n",
      "[14:43:37] SMILES Parse Error: extra close parentheses while parsing: CCN(CCNC(=O)CSCc1ccccc1[N+](=O)[O-])c1ccncc1)c1ncc(C)cc1[N+](=O)[O-]\n",
      "[14:43:37] SMILES Parse Error: Failed parsing SMILES 'CCN(CCNC(=O)CSCc1ccccc1[N+](=O)[O-])c1ccncc1)c1ncc(C)cc1[N+](=O)[O-]' for input: 'CCN(CCNC(=O)CSCc1ccccc1[N+](=O)[O-])c1ccncc1)c1ncc(C)cc1[N+](=O)[O-]'\n",
      "[14:43:37] SMILES Parse Error: extra close parentheses while parsing: CC(C)CNCc1cn(C(C)(C)C)nn1)[N+](=O)[O-]\n",
      "[14:43:37] SMILES Parse Error: Failed parsing SMILES 'CC(C)CNCc1cn(C(C)(C)C)nn1)[N+](=O)[O-]' for input: 'CC(C)CNCc1cn(C(C)(C)C)nn1)[N+](=O)[O-]'\n",
      "[14:43:37] SMILES Parse Error: extra open parentheses for input: 'CC(C)CCN(CC(=O)N1CCN(Cc2ccccc2[N+](=O)[O-])C1'\n",
      "[14:43:37] Can't kekulize mol.  Unkekulized atoms: 15 16 17 18 22\n",
      "[14:43:37] SMILES Parse Error: extra close parentheses while parsing: CCc1nocc1CCN(C)CC(=O)Nc1ccccc1CC(=O)OC)c1nccc(C(C)=O)c1[N+](=O)[O-]\n",
      "[14:43:37] SMILES Parse Error: Failed parsing SMILES 'CCc1nocc1CCN(C)CC(=O)Nc1ccccc1CC(=O)OC)c1nccc(C(C)=O)c1[N+](=O)[O-]' for input: 'CCc1nocc1CCN(C)CC(=O)Nc1ccccc1CC(=O)OC)c1nccc(C(C)=O)c1[N+](=O)[O-]'\n",
      "[14:43:37] Can't kekulize mol.  Unkekulized atoms: 11 12 13 14 18 22 24\n",
      "[14:43:37] Can't kekulize mol.  Unkekulized atoms: 2 3 5 19 23\n",
      "[14:43:37] SMILES Parse Error: ring closure 1 duplicates bond between atom 2 and atom 20 for input: 'CCC1(CNC(=O)C(=O)Nc2ccc([N+](=O)[O-])cc2F)c1'\n",
      "[14:43:37] SMILES Parse Error: extra close parentheses while parsing: C[C@@H](C)C[C@@H](OC)Cc1ccc(N2CCCC2)c([N+](=O)[O-])c1)C1(O)CCCC1\n",
      "[14:43:37] SMILES Parse Error: Failed parsing SMILES 'C[C@@H](C)C[C@@H](OC)Cc1ccc(N2CCCC2)c([N+](=O)[O-])c1)C1(O)CCCC1' for input: 'C[C@@H](C)C[C@@H](OC)Cc1ccc(N2CCCC2)c([N+](=O)[O-])c1)C1(O)CCCC1'\n",
      "[14:43:37] SMILES Parse Error: extra close parentheses while parsing: CCN(CCNc1ccccc1)S(=O)(=O)CC)C1CC1\n",
      "[14:43:37] SMILES Parse Error: Failed parsing SMILES 'CCN(CCNc1ccccc1)S(=O)(=O)CC)C1CC1' for input: 'CCN(CCNc1ccccc1)S(=O)(=O)CC)C1CC1'\n",
      "[14:43:37] SMILES Parse Error: unclosed ring for input: 'CC(C)(C(=O)N1C[C@@H]2C1CCN(S(C)(=O)=O)c2cc(C)ccc2[N+](=O)[O-])co1'\n",
      "[14:43:37] SMILES Parse Error: extra close parentheses while parsing: CC[C@@H](CN1CCOCC1)NS(=O)(=O)c1ccc([N+](=O)[O-])o1)C(=O)NCC1CC1\n",
      "[14:43:37] SMILES Parse Error: Failed parsing SMILES 'CC[C@@H](CN1CCOCC1)NS(=O)(=O)c1ccc([N+](=O)[O-])o1)C(=O)NCC1CC1' for input: 'CC[C@@H](CN1CCOCC1)NS(=O)(=O)c1ccc([N+](=O)[O-])o1)C(=O)NCC1CC1'\n",
      "[14:43:37] SMILES Parse Error: extra close parentheses while parsing: CCCCN(C(=O)c1cc([N+](=O)[O-])c(N)nn1CC)C[C@H]1CCOC1)C1CCOCC1\n",
      "[14:43:37] SMILES Parse Error: Failed parsing SMILES 'CCCCN(C(=O)c1cc([N+](=O)[O-])c(N)nn1CC)C[C@H]1CCOC1)C1CCOCC1' for input: 'CCCCN(C(=O)c1cc([N+](=O)[O-])c(N)nn1CC)C[C@H]1CCOC1)C1CCOCC1'\n",
      "[14:43:37] SMILES Parse Error: extra close parentheses while parsing: CC(=O)N1C[C@H]2CCCN(C3CCC3)C2)c([N+](=O)[O-])c1\n",
      "[14:43:37] SMILES Parse Error: Failed parsing SMILES 'CC(=O)N1C[C@H]2CCCN(C3CCC3)C2)c([N+](=O)[O-])c1' for input: 'CC(=O)N1C[C@H]2CCCN(C3CCC3)C2)c([N+](=O)[O-])c1'\n",
      "[14:43:37] SMILES Parse Error: extra close parentheses while parsing: CCOC(=O)c1cc(N2CCCN(C)[C@@H](C(=O)N(C)C)C2)cc([N+](=O)[O-])c1)c1ncc1CC\n",
      "[14:43:37] SMILES Parse Error: Failed parsing SMILES 'CCOC(=O)c1cc(N2CCCN(C)[C@@H](C(=O)N(C)C)C2)cc([N+](=O)[O-])c1)c1ncc1CC' for input: 'CCOC(=O)c1cc(N2CCCN(C)[C@@H](C(=O)N(C)C)C2)cc([N+](=O)[O-])c1)c1ncc1CC'\n",
      "[14:43:37] SMILES Parse Error: extra open parentheses for input: 'CCC(CC)[C@H](CNc1ccc([N+](=O)[O-])cc1NC(=O)N1CC(Oc2cc(F)ccc2N)cc1C'\n",
      "[14:43:37] SMILES Parse Error: extra close parentheses while parsing: CCN1CCC(NC(=O)NCCN(C)c2ccc([N+](=O)[O-])cc3)CC2)O1\n",
      "[14:43:37] SMILES Parse Error: Failed parsing SMILES 'CCN1CCC(NC(=O)NCCN(C)c2ccc([N+](=O)[O-])cc3)CC2)O1' for input: 'CCN1CCC(NC(=O)NCCN(C)c2ccc([N+](=O)[O-])cc3)CC2)O1'\n",
      "[14:43:37] SMILES Parse Error: extra close parentheses while parsing: CCn1cc(C(=O)N(C)CCNC(=O)c2cccc([N+](=O)[O-])c2)CCN1CCOC)C1CCOCC1\n",
      "[14:43:37] SMILES Parse Error: Failed parsing SMILES 'CCn1cc(C(=O)N(C)CCNC(=O)c2cccc([N+](=O)[O-])c2)CCN1CCOC)C1CCOCC1' for input: 'CCn1cc(C(=O)N(C)CCNC(=O)c2cccc([N+](=O)[O-])c2)CCN1CCOC)C1CCOCC1'\n",
      "[14:43:37] SMILES Parse Error: extra close parentheses while parsing: CC1=OC(C)(C)CNC(=O)N1CCN(c2nccc(-c3ncccn3)s2)n1)[N+](=O)[O-]\n",
      "[14:43:37] SMILES Parse Error: Failed parsing SMILES 'CC1=OC(C)(C)CNC(=O)N1CCN(c2nccc(-c3ncccn3)s2)n1)[N+](=O)[O-]' for input: 'CC1=OC(C)(C)CNC(=O)N1CCN(c2nccc(-c3ncccn3)s2)n1)[N+](=O)[O-]'\n",
      "[14:43:37] Can't kekulize mol.  Unkekulized atoms: 8 9 13 15 17\n",
      "[14:43:37] SMILES Parse Error: unclosed ring for input: 'CC[C@H]1C[C@H](N)NC(=O)NCCCc1ccccc1[N+](=O)[O-]'\n",
      "[14:43:37] SMILES Parse Error: extra close parentheses while parsing: CC[C@@H]1COCC[C@H]1CNc1nc2ccc([N+](=O)[O-])cc21)C(=O)N1CCSC[C@H](C)[C@@H](CF)C1\n",
      "[14:43:37] SMILES Parse Error: Failed parsing SMILES 'CC[C@@H]1COCC[C@H]1CNc1nc2ccc([N+](=O)[O-])cc21)C(=O)N1CCSC[C@H](C)[C@@H](CF)C1' for input: 'CC[C@@H]1COCC[C@H]1CNc1nc2ccc([N+](=O)[O-])cc21)C(=O)N1CCSC[C@H](C)[C@@H](CF)C1'\n",
      "[14:43:37] Can't kekulize mol.  Unkekulized atoms: 3 5 6\n",
      "[14:43:37] Can't kekulize mol.  Unkekulized atoms: 16 17 18\n",
      "[14:43:37] SMILES Parse Error: extra close parentheses while parsing: CCn1nc(C)c(C(=O)NCCNc2ccc([N+](=O)[O-])c3)CC2)n1\n",
      "[14:43:37] SMILES Parse Error: Failed parsing SMILES 'CCn1nc(C)c(C(=O)NCCNc2ccc([N+](=O)[O-])c3)CC2)n1' for input: 'CCn1nc(C)c(C(=O)NCCNc2ccc([N+](=O)[O-])c3)CC2)n1'\n",
      "[14:43:37] SMILES Parse Error: extra close parentheses while parsing: CCN1CC[C@H](Nc2ccc([N+](=O)[O-])cc2C(=O)OCC)C2)on1\n",
      "[14:43:37] SMILES Parse Error: Failed parsing SMILES 'CCN1CC[C@H](Nc2ccc([N+](=O)[O-])cc2C(=O)OCC)C2)on1' for input: 'CCN1CC[C@H](Nc2ccc([N+](=O)[O-])cc2C(=O)OCC)C2)on1'\n",
      "[14:43:37] Can't kekulize mol.  Unkekulized atoms: 11 12 13 14 20\n",
      "[14:43:37] SMILES Parse Error: unclosed ring for input: 'CC[C@@H](Cc1cnccc1)NC(=O)(CC(C)(C)[N+](=O)[O-])C1(C)C'\n",
      "[14:43:37] SMILES Parse Error: extra close parentheses while parsing: CCN(CCNC(=O)C(C)(C)c1ccccc1)c1ncccc1F)[N+](=O)[O-]\n",
      "[14:43:37] SMILES Parse Error: Failed parsing SMILES 'CCN(CCNC(=O)C(C)(C)c1ccccc1)c1ncccc1F)[N+](=O)[O-]' for input: 'CCN(CCNC(=O)C(C)(C)c1ccccc1)c1ncccc1F)[N+](=O)[O-]'\n",
      "[14:43:37] Can't kekulize mol.  Unkekulized atoms: 3 4 5\n",
      "[14:43:37] SMILES Parse Error: extra open parentheses for input: 'CC(C)[C@H](NC(=O)c1ccn(-c2ccc([N+](=O)[O-])cc2)c1'\n",
      "[14:43:37] SMILES Parse Error: unclosed ring for input: 'CC(C)CN1C[C@H](C(=O)O[C@H]2CCCCO2)c1ccccc1[N+](=O)[O-]'\n",
      "[14:43:37] SMILES Parse Error: extra close parentheses while parsing: CCCCOCCNC(=O)c1ccc(N2CNCCC2)c([N+](=O)[O-])cc1F)C(=O)O\n",
      "[14:43:37] SMILES Parse Error: Failed parsing SMILES 'CCCCOCCNC(=O)c1ccc(N2CNCCC2)c([N+](=O)[O-])cc1F)C(=O)O' for input: 'CCCCOCCNC(=O)c1ccc(N2CNCCC2)c([N+](=O)[O-])cc1F)C(=O)O'\n",
      "[14:43:37] Can't kekulize mol.  Unkekulized atoms: 3 5 6\n",
      "[14:43:37] SMILES Parse Error: extra close parentheses while parsing: CCO[C@@H]1C[C@@H](NCCc2cccc([N+](=O)[O-])c2)CC1)C(=O)OCC\n",
      "[14:43:37] SMILES Parse Error: Failed parsing SMILES 'CCO[C@@H]1C[C@@H](NCCc2cccc([N+](=O)[O-])c2)CC1)C(=O)OCC' for input: 'CCO[C@@H]1C[C@@H](NCCc2cccc([N+](=O)[O-])c2)CC1)C(=O)OCC'\n",
      "[14:43:37] SMILES Parse Error: unclosed ring for input: 'CCC(CC)[C@H](CN2CCN(c3cc(F)ccc3[N+](=O)[O-])C2)c(C(F)(F)F)o1'\n",
      "[14:43:37] Can't kekulize mol.  Unkekulized atoms: 4 5 6\n",
      "[14:43:37] SMILES Parse Error: unclosed ring for input: 'CC(C)(C(=O)NCCCNc1ncccc1[N+](=O)[O-])C1'\n",
      "[14:43:37] SMILES Parse Error: extra close parentheses while parsing: CC(C)[C@@H](NS(=O)(=O)Cc1ccccc1[N+](=O)[O-])C(=O)O)c1ccccc1\n",
      "[14:43:37] SMILES Parse Error: Failed parsing SMILES 'CC(C)[C@@H](NS(=O)(=O)Cc1ccccc1[N+](=O)[O-])C(=O)O)c1ccccc1' for input: 'CC(C)[C@@H](NS(=O)(=O)Cc1ccccc1[N+](=O)[O-])C(=O)O)c1ccccc1'\n",
      "[14:43:37] SMILES Parse Error: extra open parentheses for input: 'CC[C@@H](CCN1CCC[C@@H](OC)c1ccc(NC(C)(O)c2nn[nH]2)c([N+](=O)[O-])c1'\n",
      "[14:43:37] SMILES Parse Error: unclosed ring for input: 'CC(C)n1cc(CN2CCO[C@@H](CC(=O)O)CC[C@@H]23)c1[N+](=O)[O-]'\n",
      "[14:43:37] SMILES Parse Error: extra close parentheses while parsing: CC(C)(C)[C@H]1COCCN1C(=O)COc2ccc([N+](=O)[O-])cc2)C1\n",
      "[14:43:37] SMILES Parse Error: Failed parsing SMILES 'CC(C)(C)[C@H]1COCCN1C(=O)COc2ccc([N+](=O)[O-])cc2)C1' for input: 'CC(C)(C)[C@H]1COCCN1C(=O)COc2ccc([N+](=O)[O-])cc2)C1'\n",
      "[14:43:37] SMILES Parse Error: extra close parentheses while parsing: CCOC(=O)C(C)(C)CNc1ccc(C(=O)OC)c([N+](=O)[O-])c1)C1CC1\n",
      "[14:43:37] SMILES Parse Error: Failed parsing SMILES 'CCOC(=O)C(C)(C)CNc1ccc(C(=O)OC)c([N+](=O)[O-])c1)C1CC1' for input: 'CCOC(=O)C(C)(C)CNc1ccc(C(=O)OC)c([N+](=O)[O-])c1)C1CC1'\n",
      "[14:43:37] Can't kekulize mol.  Unkekulized atoms: 3 4 15 16 17\n",
      "[14:43:37] SMILES Parse Error: extra close parentheses while parsing: CC(C)c1sc2c(c1)OCO2)OCCO2\n",
      "[14:43:37] SMILES Parse Error: Failed parsing SMILES 'CC(C)c1sc2c(c1)OCO2)OCCO2' for input: 'CC(C)c1sc2c(c1)OCO2)OCCO2'\n",
      "[14:43:37] Can't kekulize mol.  Unkekulized atoms: 3\n",
      "[14:43:37] Can't kekulize mol.  Unkekulized atoms: 14 15 16 17 28\n",
      "[14:43:37] SMILES Parse Error: syntax error while parsing: CCC(C)(C)OCC(=O)N[C@@H]1C[C@](r)(CNc2ccc([N+](=O)[O-])cc2F)CC1=O\n",
      "[14:43:37] SMILES Parse Error: Failed parsing SMILES 'CCC(C)(C)OCC(=O)N[C@@H]1C[C@](r)(CNc2ccc([N+](=O)[O-])cc2F)CC1=O' for input: 'CCC(C)(C)OCC(=O)N[C@@H]1C[C@](r)(CNc2ccc([N+](=O)[O-])cc2F)CC1=O'\n",
      "[14:43:37] Can't kekulize mol.  Unkekulized atoms: 4 5 26\n",
      "[14:43:37] SMILES Parse Error: unclosed ring for input: 'CC1(O)CCN(C(=O)c2c[nH]c3cccc([N+](=O)[O-])c2)co1'\n",
      "[14:43:37] SMILES Parse Error: extra open parentheses for input: 'CC(C)[C@@H](NC(=O)[C@@H](C)N1C(=O)c1cc(Br)ccc1[N+](=O)[O-]'\n",
      "[14:43:37] Can't kekulize mol.  Unkekulized atoms: 5 6 7\n",
      "[14:43:37] Can't kekulize mol.  Unkekulized atoms: 12 13 17 18 19\n",
      "[14:43:37] SMILES Parse Error: extra close parentheses while parsing: CC(C)Oc1nc(NCC2(Nc3ccc(F)cc3[N+](=O)[O-])CCO2)OCCO3)CCN1C(=O)OC[C@@H]1CCOC[C@H]21\n",
      "[14:43:37] SMILES Parse Error: Failed parsing SMILES 'CC(C)Oc1nc(NCC2(Nc3ccc(F)cc3[N+](=O)[O-])CCO2)OCCO3)CCN1C(=O)OC[C@@H]1CCOC[C@H]21' for input: 'CC(C)Oc1nc(NCC2(Nc3ccc(F)cc3[N+](=O)[O-])CCO2)OCCO3)CCN1C(=O)OC[C@@H]1CCOC[C@H]21'\n",
      "[14:43:37] SMILES Parse Error: extra close parentheses while parsing: CC1(C)[C@@H](NCc2cccc(-c3nn[nH]n3)cc2[N+](=O)[O-])C2CC2)C1\n",
      "[14:43:37] SMILES Parse Error: Failed parsing SMILES 'CC1(C)[C@@H](NCc2cccc(-c3nn[nH]n3)cc2[N+](=O)[O-])C2CC2)C1' for input: 'CC1(C)[C@@H](NCc2cccc(-c3nn[nH]n3)cc2[N+](=O)[O-])C2CC2)C1'\n",
      "[14:43:37] Can't kekulize mol.  Unkekulized atoms: 3 4 5\n",
      "[14:43:37] SMILES Parse Error: unclosed ring for input: 'CCOc1ccc(NC(=O)N2CCCC23)CCN1CCOC'\n",
      "[14:43:37] Can't kekulize mol.  Unkekulized atoms: 13 14 15 17 18\n",
      "[14:43:37] SMILES Parse Error: extra open parentheses for input: 'CCN(C(=O)c1ccccc1CN(C)CCc1ccc(Cl)cc1[N+](=O)[O-]'\n",
      "[14:43:37] SMILES Parse Error: extra close parentheses while parsing: CCc1n[nH]cc1C(=O)NCCn1ccc2cc([N+](=O)[O-])ccc21)c1[nH]nc(C)c1\n",
      "[14:43:37] SMILES Parse Error: Failed parsing SMILES 'CCc1n[nH]cc1C(=O)NCCn1ccc2cc([N+](=O)[O-])ccc21)c1[nH]nc(C)c1' for input: 'CCc1n[nH]cc1C(=O)NCCn1ccc2cc([N+](=O)[O-])ccc21)c1[nH]nc(C)c1'\n",
      "[14:43:37] SMILES Parse Error: extra close parentheses while parsing: CC1(C)C(=O)NCC[C@@H]1C(=O)NCc1cccc([N+](=O)[O-])c1)C1CCOCC1\n",
      "[14:43:37] SMILES Parse Error: Failed parsing SMILES 'CC1(C)C(=O)NCC[C@@H]1C(=O)NCc1cccc([N+](=O)[O-])c1)C1CCOCC1' for input: 'CC1(C)C(=O)NCC[C@@H]1C(=O)NCc1cccc([N+](=O)[O-])c1)C1CCOCC1'\n",
      "[14:43:37] Can't kekulize mol.  Unkekulized atoms: 16\n",
      "[14:43:37] SMILES Parse Error: extra close parentheses while parsing: CC(C)(C)CC1(C(=O)N[C@H]2CCc3ccc([N+](=O)[O-])cc3F)C2)co1\n",
      "[14:43:37] SMILES Parse Error: Failed parsing SMILES 'CC(C)(C)CC1(C(=O)N[C@H]2CCc3ccc([N+](=O)[O-])cc3F)C2)co1' for input: 'CC(C)(C)CC1(C(=O)N[C@H]2CCc3ccc([N+](=O)[O-])cc3F)C2)co1'\n",
      "[14:43:37] SMILES Parse Error: extra close parentheses while parsing: CC(C)[C@@H]1CN(CC)CCN1C(=O)CCC(=O)CCc1ccccc1[N+](=O)[O-])C1CC1\n",
      "[14:43:37] SMILES Parse Error: Failed parsing SMILES 'CC(C)[C@@H]1CN(CC)CCN1C(=O)CCC(=O)CCc1ccccc1[N+](=O)[O-])C1CC1' for input: 'CC(C)[C@@H]1CN(CC)CCN1C(=O)CCC(=O)CCc1ccccc1[N+](=O)[O-])C1CC1'\n",
      "[14:43:37] SMILES Parse Error: extra open parentheses for input: 'CC(C)[C@@H](Cc1ccc([N+](=O)[O-])cc1C(=O)NCCOCCOc1cccn1'\n",
      "[14:43:37] SMILES Parse Error: extra open parentheses for input: 'CC[C@@H](NC(=O)c1cc(OC2CCC2)c([N+](=O)[O-])cc1F'\n",
      "[14:43:37] SMILES Parse Error: extra close parentheses while parsing: CC[C@@H](C)[C@H](O)CNC(=O)c1cc([N+](=O)[O-])cc([N+](=O)[O-])c1)C2\n",
      "[14:43:37] SMILES Parse Error: Failed parsing SMILES 'CC[C@@H](C)[C@H](O)CNC(=O)c1cc([N+](=O)[O-])cc([N+](=O)[O-])c1)C2' for input: 'CC[C@@H](C)[C@H](O)CNC(=O)c1cc([N+](=O)[O-])cc([N+](=O)[O-])c1)C2'\n",
      "[14:43:37] SMILES Parse Error: extra open parentheses for input: 'CCOC(=O)c1cc(C(=S)N2CCN(c3cc(C)c[nH]2)c([N+](=O)[O-])cn1'\n",
      "[14:43:37] SMILES Parse Error: extra close parentheses while parsing: CC(C)(C)C(=O)NCCCNc1ccc([N+](=O)[O-])cc1)C1CCCC1\n",
      "[14:43:37] SMILES Parse Error: Failed parsing SMILES 'CC(C)(C)C(=O)NCCCNc1ccc([N+](=O)[O-])cc1)C1CCCC1' for input: 'CC(C)(C)C(=O)NCCCNc1ccc([N+](=O)[O-])cc1)C1CCCC1'\n",
      "[14:43:37] Can't kekulize mol.  Unkekulized atoms: 2 3 4\n",
      "[14:43:37] SMILES Parse Error: extra open parentheses for input: 'CC(C)[C@H](Nc1ccc([N+](=O)[O-])cc1Cl'\n",
      "[14:43:37] SMILES Parse Error: extra close parentheses while parsing: CCNc1ccc(C(=O)Nc2ncoc2)c1[N+](=O)[O-])C(=O)O\n",
      "[14:43:37] SMILES Parse Error: Failed parsing SMILES 'CCNc1ccc(C(=O)Nc2ncoc2)c1[N+](=O)[O-])C(=O)O' for input: 'CCNc1ccc(C(=O)Nc2ncoc2)c1[N+](=O)[O-])C(=O)O'\n",
      "[14:43:37] Can't kekulize mol.  Unkekulized atoms: 4 5 6\n",
      "[14:43:37] SMILES Parse Error: extra close parentheses while parsing: CC(C)C[C@H]1CCCN([C@H](C)N2CCCCC2=O)C1)c1cccc([N+](=O)[O-])c1\n",
      "[14:43:37] SMILES Parse Error: Failed parsing SMILES 'CC(C)C[C@H]1CCCN([C@H](C)N2CCCCC2=O)C1)c1cccc([N+](=O)[O-])c1' for input: 'CC(C)C[C@H]1CCCN([C@H](C)N2CCCCC2=O)C1)c1cccc([N+](=O)[O-])c1'\n",
      "[14:43:37] Can't kekulize mol.  Unkekulized atoms: 5 6 7 16 17 18 19 23 25\n",
      "[14:43:37] SMILES Parse Error: extra open parentheses for input: 'CC(C)c1nsc(Cn2nc(-c3ccc([N+](=O)[O-])cc3C2=O)C[C@@H]21'\n",
      "[14:43:37] SMILES Parse Error: extra close parentheses while parsing: CCN(CCSC1CC1)C(=O)NCc1ccc([N+](=O)[O-])cc1)S(C)(=O)=O\n",
      "[14:43:37] SMILES Parse Error: Failed parsing SMILES 'CCN(CCSC1CC1)C(=O)NCc1ccc([N+](=O)[O-])cc1)S(C)(=O)=O' for input: 'CCN(CCSC1CC1)C(=O)NCc1ccc([N+](=O)[O-])cc1)S(C)(=O)=O'\n",
      "[14:43:37] SMILES Parse Error: extra open parentheses for input: 'CCn1cc(S(=O(=O)(=O)N(C)[C@@H](C)c2ccccc2)c1[N+](=O)[O-]'\n",
      "[14:43:37] SMILES Parse Error: extra close parentheses while parsing: CC(C)C[C@H](CCC)NC(=O)CCn1c(=O)oc2cccc([N+](=O)[O-])c1)C1(C)CC\n",
      "[14:43:37] SMILES Parse Error: Failed parsing SMILES 'CC(C)C[C@H](CCC)NC(=O)CCn1c(=O)oc2cccc([N+](=O)[O-])c1)C1(C)CC' for input: 'CC(C)C[C@H](CCC)NC(=O)CCn1c(=O)oc2cccc([N+](=O)[O-])c1)C1(C)CC'\n",
      "[14:43:37] SMILES Parse Error: ring closure 1 duplicates bond between atom 5 and atom 21 for input: 'CC(C)SCC1(CNC(=O)CSc2cccc([N+](=O)[O-])c2)s1'\n",
      "[14:43:37] SMILES Parse Error: extra open parentheses for input: 'CC[C@H](CCN(C)Cn1cc([N+](=O)[O-])c(-c2nn[nH]n2)sc1[N+](=O)[O-]'\n",
      "[14:43:37] SMILES Parse Error: extra close parentheses while parsing: CCC(n1)C[C@@H]1C1CC1)Nc1sccc1[N+](=O)[O-]\n",
      "[14:43:37] SMILES Parse Error: Failed parsing SMILES 'CCC(n1)C[C@@H]1C1CC1)Nc1sccc1[N+](=O)[O-]' for input: 'CCC(n1)C[C@@H]1C1CC1)Nc1sccc1[N+](=O)[O-]'\n",
      "[14:43:37] Can't kekulize mol.  Unkekulized atoms: 7 8 9 13 19\n",
      "[14:43:37] Can't kekulize mol.  Unkekulized atoms: 10 11 12 13 14 20 21\n",
      "[14:43:37] SMILES Parse Error: unclosed ring for input: 'CC(C)[C@]1(C)CCC[C@H](C)NS(=O)(=O)Cc1ccc([N+](=O)[O-])cc1CNN(C)CCCNC(C)C'\n",
      "[14:43:37] Can't kekulize mol.  Unkekulized atoms: 4 5 6\n",
      "[14:43:37] SMILES Parse Error: extra close parentheses while parsing: CCn1cc(S(=O)(=O)OC)c2ccccc2[N+](=O)[O-])c2cc(OC)ccc2O1\n",
      "[14:43:37] SMILES Parse Error: Failed parsing SMILES 'CCn1cc(S(=O)(=O)OC)c2ccccc2[N+](=O)[O-])c2cc(OC)ccc2O1' for input: 'CCn1cc(S(=O)(=O)OC)c2ccccc2[N+](=O)[O-])c2cc(OC)ccc2O1'\n",
      "[14:43:37] SMILES Parse Error: extra open parentheses for input: 'CCC(=O)Nc1ccc(Cn2nc([C@@H]3CCC[C@@H]3OCC[C@@H](n3)C2)cc1[N+](=O)[O-]'\n",
      "[14:43:37] Can't kekulize mol.  Unkekulized atoms: 3 4 5 18 22\n",
      "[14:43:37] SMILES Parse Error: extra open parentheses for input: 'CC[C@@H](C)[C@@H](NS(=O)(=O)c1ccc(C)c([N+](=O)[O-])c1'\n",
      "[14:43:37] SMILES Parse Error: extra close parentheses while parsing: CC(C)N(CC(C)C)S(=O)(=O)c1ccc([N+](=O)[O-])cc1)C(=O)c1csc(C(F)(F)F)c1\n",
      "[14:43:37] SMILES Parse Error: Failed parsing SMILES 'CC(C)N(CC(C)C)S(=O)(=O)c1ccc([N+](=O)[O-])cc1)C(=O)c1csc(C(F)(F)F)c1' for input: 'CC(C)N(CC(C)C)S(=O)(=O)c1ccc([N+](=O)[O-])cc1)C(=O)c1csc(C(F)(F)F)c1'\n",
      "[14:43:37] SMILES Parse Error: extra close parentheses while parsing: CCCc1[nH]nc(C(=O)N(C)CCCOC(CO)CC(C)(C)C)c1)OC\n",
      "[14:43:37] SMILES Parse Error: Failed parsing SMILES 'CCCc1[nH]nc(C(=O)N(C)CCCOC(CO)CC(C)(C)C)c1)OC' for input: 'CCCc1[nH]nc(C(=O)N(C)CCCOC(CO)CC(C)(C)C)c1)OC'\n",
      "[14:43:37] SMILES Parse Error: extra close parentheses while parsing: CC(C)[C@@H](OC(=O)Cn1cc([N+](=O)[O-])c(C)c1)C(=O)OCCn1nccc1COC(=O)Nc1nc2c(cc1[N+](=O)[O-])OCCO3)C1\n",
      "[14:43:37] SMILES Parse Error: Failed parsing SMILES 'CC(C)[C@@H](OC(=O)Cn1cc([N+](=O)[O-])c(C)c1)C(=O)OCCn1nccc1COC(=O)Nc1nc2c(cc1[N+](=O)[O-])OCCO3)C1' for input: 'CC(C)[C@@H](OC(=O)Cn1cc([N+](=O)[O-])c(C)c1)C(=O)OCCn1nccc1COC(=O)Nc1nc2c(cc1[N+](=O)[O-])OCCO3)C1'\n",
      "[14:43:37] SMILES Parse Error: extra close parentheses while parsing: CCSc1ccc([N+](=O)[O-])cc1)C(=O)N1CCO[C@@H](NCC(=O)N(C)C)CC1\n",
      "[14:43:37] SMILES Parse Error: Failed parsing SMILES 'CCSc1ccc([N+](=O)[O-])cc1)C(=O)N1CCO[C@@H](NCC(=O)N(C)C)CC1' for input: 'CCSc1ccc([N+](=O)[O-])cc1)C(=O)N1CCO[C@@H](NCC(=O)N(C)C)CC1'\n",
      "[14:43:37] Can't kekulize mol.  Unkekulized atoms: 4 5 6 7 11\n",
      "[14:43:37] SMILES Parse Error: extra close parentheses while parsing: CCN(CCNC(=O)SCc1ccccc1)c1ncc([N+](=O)[O-])cc1)C(C)C\n",
      "[14:43:37] SMILES Parse Error: Failed parsing SMILES 'CCN(CCNC(=O)SCc1ccccc1)c1ncc([N+](=O)[O-])cc1)C(C)C' for input: 'CCN(CCNC(=O)SCc1ccccc1)c1ncc([N+](=O)[O-])cc1)C(C)C'\n",
      "[14:43:37] SMILES Parse Error: extra close parentheses while parsing: CC1=C(C)[C@H](C(=O)N2CCN(c3ccccc4[N+](=O)[O-])CC2)c1=O)[C@@H]1CN(C)C1\n",
      "[14:43:37] SMILES Parse Error: Failed parsing SMILES 'CC1=C(C)[C@H](C(=O)N2CCN(c3ccccc4[N+](=O)[O-])CC2)c1=O)[C@@H]1CN(C)C1' for input: 'CC1=C(C)[C@H](C(=O)N2CCN(c3ccccc4[N+](=O)[O-])CC2)c1=O)[C@@H]1CN(C)C1'\n",
      "[14:43:37] Can't kekulize mol.  Unkekulized atoms: 2 3 6\n",
      "[14:43:37] SMILES Parse Error: unclosed ring for input: 'CCO[C@@H]1C[C@@](CO)(NC(=O)[C@@H]2C[C@@H](O)c2cccc([N+](=O)[O-])c2)CC1'\n",
      "[14:43:37] SMILES Parse Error: unclosed ring for input: 'CC(C)(O)Cc1ccc2n(n1)C[C@H]1C'\n",
      "[14:43:37] SMILES Parse Error: unclosed ring for input: 'CCCc1ncccc1[C@H]1Nc1ncc(S(=O)(=O)N[C@@H](C)C2CCCCC2)c1[N+](=O)[O-]'\n",
      "[14:43:37] SMILES Parse Error: extra close parentheses while parsing: CCO[C@@H]1C[C@H](NC(=O)Cn2ccc3ccc([N+](=O)[O-])cc3)C2)OC1\n",
      "[14:43:37] SMILES Parse Error: Failed parsing SMILES 'CCO[C@@H]1C[C@H](NC(=O)Cn2ccc3ccc([N+](=O)[O-])cc3)C2)OC1' for input: 'CCO[C@@H]1C[C@H](NC(=O)Cn2ccc3ccc([N+](=O)[O-])cc3)C2)OC1'\n",
      "[14:43:37] SMILES Parse Error: extra open parentheses for input: 'CCC1(C(=O)NCCN(CCOc2ccc([N+](=O)[O-])nc2)CCO1'\n",
      "[14:43:37] Can't kekulize mol.  Unkekulized atoms: 3 4 5\n",
      "[14:43:37] Can't kekulize mol.  Unkekulized atoms: 2 3 4 5 24\n",
      "[14:43:37] Explicit valence for atom # 3 C, 5, is greater than permitted\n",
      "[14:43:37] Can't kekulize mol.  Unkekulized atoms: 3 4 5 6 7\n",
      "[14:43:37] Can't kekulize mol.  Unkekulized atoms: 2 3 4\n",
      "[14:43:37] SMILES Parse Error: extra close parentheses while parsing: CC[C@]1(C)CC[C@H]1NS(=O)(=O)c1cc(C)ccc1C)c1ncccc1[N+](=O)[O-]\n",
      "[14:43:37] SMILES Parse Error: Failed parsing SMILES 'CC[C@]1(C)CC[C@H]1NS(=O)(=O)c1cc(C)ccc1C)c1ncccc1[N+](=O)[O-]' for input: 'CC[C@]1(C)CC[C@H]1NS(=O)(=O)c1cc(C)ccc1C)c1ncccc1[N+](=O)[O-]'\n",
      "[14:43:37] Can't kekulize mol.  Unkekulized atoms: 10 11 12 13 18\n",
      "[14:43:37] SMILES Parse Error: unclosed ring for input: 'CCN1CCCCN(C(=O)c2ccc([N+](=O)[O-])cc2)C[C@@H](C)NS(=O)(=O)C(C)C'\n",
      "[14:43:37] Can't kekulize mol.  Unkekulized atoms: 3 5 6\n",
      "[14:43:37] SMILES Parse Error: extra open parentheses for input: 'CCn1cnc2c1CCN(c1nnc(CN(C)C[C@@H](O)CSc2ccc([N+](=O)[O-])cc2)C1'\n",
      "[14:43:37] SMILES Parse Error: unclosed ring for input: 'CCN(CCNC(=O)COc1ccc([N+](=O)[O-])cc1F)C2'\n",
      "[14:43:37] Can't kekulize mol.  Unkekulized atoms: 3 4 5 6 7 23 24\n",
      "[14:43:37] SMILES Parse Error: extra open parentheses for input: 'CCC(CC)(CNCCn1ccc(-c2ccc([N+](=O)[O-])cc21'\n",
      "[14:43:37] SMILES Parse Error: extra close parentheses while parsing: CCNC(=O)c1ccsc1S(=O)(=O)CCc1ncccc1[N+](=O)[O-])[C@@H]1CCOCC1=O\n",
      "[14:43:37] SMILES Parse Error: Failed parsing SMILES 'CCNC(=O)c1ccsc1S(=O)(=O)CCc1ncccc1[N+](=O)[O-])[C@@H]1CCOCC1=O' for input: 'CCNC(=O)c1ccsc1S(=O)(=O)CCc1ncccc1[N+](=O)[O-])[C@@H]1CCOCC1=O'\n",
      "[14:43:37] SMILES Parse Error: unclosed ring for input: 'CC(C)CS(=O)(=O)c1cccc(CNC[C@@H]2CNc2ccc([N+](=O)[O-])cc2)C1'\n",
      "[14:43:37] SMILES Parse Error: extra open parentheses for input: 'CCOC(=O)[C@H](C)NS(=O)(=O)c1cc([N+](=O)[O-])c(S(C)(=O)=O'\n",
      "[14:43:37] Can't kekulize mol.  Unkekulized atoms: 7 8 10 14 15\n",
      "[14:43:37] SMILES Parse Error: unclosed ring for input: 'CCc1cc(C(=O)N[C@H]2CNS(=O)(=O)c2cccc([N+](=O)[O-])c2)cc1'\n",
      "[14:43:37] SMILES Parse Error: extra open parentheses for input: 'CC(=O)c1cc(N2CCN(C)[C@H](Nc3ccc([N+](=O)[O-])cc3C2)CC1'\n",
      "[14:43:37] SMILES Parse Error: extra close parentheses while parsing: CC(C)C[C@H](OC(=O)[C@@H]1[O-])c1ccc(C)cc1C)CCN1CCCCC1(C)C\n",
      "[14:43:37] SMILES Parse Error: Failed parsing SMILES 'CC(C)C[C@H](OC(=O)[C@@H]1[O-])c1ccc(C)cc1C)CCN1CCCCC1(C)C' for input: 'CC(C)C[C@H](OC(=O)[C@@H]1[O-])c1ccc(C)cc1C)CCN1CCCCC1(C)C'\n",
      "[14:43:37] Can't kekulize mol.  Unkekulized atoms: 9 10 12 13 14\n",
      "[14:43:37] SMILES Parse Error: extra close parentheses while parsing: CCOCCN(CC)C(=O)CCOCC(F)(F)F)c1ccc([N+](=O)[O-])cc1F\n",
      "[14:43:37] SMILES Parse Error: Failed parsing SMILES 'CCOCCN(CC)C(=O)CCOCC(F)(F)F)c1ccc([N+](=O)[O-])cc1F' for input: 'CCOCCN(CC)C(=O)CCOCC(F)(F)F)c1ccc([N+](=O)[O-])cc1F'\n",
      "[14:43:37] SMILES Parse Error: extra open parentheses for input: 'CC[C@H]1CN(C(=O)c2cc2c(c([N+](=O)[O-])c1)C2'\n",
      "[14:43:37] SMILES Parse Error: unclosed ring for input: 'CC1(C)[C@@H]2CN(S(=O)(=O)c1cc(F)cc(C)c1[N+](=O)[O-])C[C@@](C)(O)c1ccccc1'\n",
      "[14:43:37] Can't kekulize mol.  Unkekulized atoms: 3\n",
      "[14:43:37] Can't kekulize mol.  Unkekulized atoms: 3 4 5 6 18\n",
      "[14:43:37] Can't kekulize mol.  Unkekulized atoms: 13 14 15 18 19\n",
      "[14:43:37] SMILES Parse Error: unclosed ring for input: 'CCN(CCNC(=O)CCC(C)(C)[N+](=O)[O-])c1O'\n",
      "[14:43:37] SMILES Parse Error: extra open parentheses for input: 'CCc1ccc(N2CC[C@@H](NC(=O)c3[nH]ccc3[N+](=O)[O-])ccc21'\n",
      "[14:43:37] SMILES Parse Error: extra close parentheses while parsing: CCOc1cccc([N+](=O)[O-])c1)c1nnnn1-c1ccccc1F\n",
      "[14:43:37] SMILES Parse Error: Failed parsing SMILES 'CCOc1cccc([N+](=O)[O-])c1)c1nnnn1-c1ccccc1F' for input: 'CCOc1cccc([N+](=O)[O-])c1)c1nnnn1-c1ccccc1F'\n",
      "[14:43:37] SMILES Parse Error: extra close parentheses while parsing: CC(C)[C@H](C)[C@H](C)NS(=O)(=O)c1c(C)cccc1[N+](=O)[O-])[C@@H](C)CC\n",
      "[14:43:37] SMILES Parse Error: Failed parsing SMILES 'CC(C)[C@H](C)[C@H](C)NS(=O)(=O)c1c(C)cccc1[N+](=O)[O-])[C@@H](C)CC' for input: 'CC(C)[C@H](C)[C@H](C)NS(=O)(=O)c1c(C)cccc1[N+](=O)[O-])[C@@H](C)CC'\n",
      "[14:43:37] SMILES Parse Error: extra close parentheses while parsing: CCc1ccc(S(C)(=O)=O)cc1[N+](=O)[O-])[C@H](C)C(=O)OC\n",
      "[14:43:37] SMILES Parse Error: Failed parsing SMILES 'CCc1ccc(S(C)(=O)=O)cc1[N+](=O)[O-])[C@H](C)C(=O)OC' for input: 'CCc1ccc(S(C)(=O)=O)cc1[N+](=O)[O-])[C@H](C)C(=O)OC'\n",
      "[14:43:37] Can't kekulize mol.  Unkekulized atoms: 19 20 21\n",
      "[14:43:37] SMILES Parse Error: extra close parentheses while parsing: CCC(=O)CNC(=O)c1ccccc1[N+](=O)[O-])C(=O)[C@H]1CC1(C)C\n",
      "[14:43:37] SMILES Parse Error: Failed parsing SMILES 'CCC(=O)CNC(=O)c1ccccc1[N+](=O)[O-])C(=O)[C@H]1CC1(C)C' for input: 'CCC(=O)CNC(=O)c1ccccc1[N+](=O)[O-])C(=O)[C@H]1CC1(C)C'\n",
      "[14:43:37] SMILES Parse Error: extra open parentheses for input: 'CC[C@H](NC(=O)c1cc(C(=O)N2CC(NC(C)C)CC2)ccc1[N+](=O)[O-]'\n",
      "[14:43:37] SMILES Parse Error: unclosed ring for input: 'CCOCC(=O)N[C@H](Cc1ccccc1)S(=O)(=O)[C@H]1CC(C)C'\n",
      "[14:43:37] SMILES Parse Error: unclosed ring for input: 'CCN1C[C@@H](C(=O)Nc1cc([N+](=O)[O-])cnc1OC)N(C)C'\n",
      "[14:43:37] Can't kekulize mol.  Unkekulized atoms: 3 4 5 6 7\n",
      "[14:43:37] SMILES Parse Error: extra close parentheses while parsing: CCN(CCNC(=O)c1cc(Cl)ccn1)c1ccc(F)cc1[N+](=O)[O-])C(C)(C)C\n",
      "[14:43:37] SMILES Parse Error: Failed parsing SMILES 'CCN(CCNC(=O)c1cc(Cl)ccn1)c1ccc(F)cc1[N+](=O)[O-])C(C)(C)C' for input: 'CCN(CCNC(=O)c1cc(Cl)ccn1)c1ccc(F)cc1[N+](=O)[O-])C(C)(C)C'\n",
      "[14:43:37] SMILES Parse Error: extra open parentheses for input: 'CCOc1ccc([N+](=O)[O-])c(C(=O)OCc2cn(C)nc2C1'\n",
      "[14:43:37] Can't kekulize mol.  Unkekulized atoms: 3 4 5 6 7\n",
      "[14:43:37] SMILES Parse Error: unclosed ring for input: 'CCOC(=O)c1ccnc(N2CCC[S@+]([O-])[C@@H]2CC(=O)OC(C)(C)C2)c1[N+](=O)[O-]'\n",
      "[14:43:37] Can't kekulize mol.  Unkekulized atoms: 17 18 24\n",
      "[14:43:37] Can't kekulize mol.  Unkekulized atoms: 2 3 4 5 6\n",
      "[14:43:37] SMILES Parse Error: extra open parentheses for input: 'CCCc1[nH]nc(NS(=O)(=O)c2ccccc2ccccc12'\n",
      "[14:43:37] SMILES Parse Error: extra open parentheses for input: 'CC[C@@]1(C)CCCN(CC(=O)N(Cc2ccccc2[N+](=O)[O-])C1'\n",
      "[14:43:37] SMILES Parse Error: unclosed ring for input: 'CCOC(=O)N1CCCC2(CC1)CN(CCOc2cccc([N+](=O)[O-])c2)CC1'\n",
      "[14:43:37] Can't kekulize mol.  Unkekulized atoms: 8 9 10 11 15 21 25\n",
      "[14:43:37] SMILES Parse Error: extra close parentheses while parsing: CC(=O)N1[C@@H]2CC[C@H](Nc3ncccc4[N+](=O)[O-])cs2)CC1=O\n",
      "[14:43:37] SMILES Parse Error: Failed parsing SMILES 'CC(=O)N1[C@@H]2CC[C@H](Nc3ncccc4[N+](=O)[O-])cs2)CC1=O' for input: 'CC(=O)N1[C@@H]2CC[C@H](Nc3ncccc4[N+](=O)[O-])cs2)CC1=O'\n",
      "[14:43:37] SMILES Parse Error: extra close parentheses while parsing: CC(C)CN1Cc2nnc(-c3ccc(F)cc3)n2)c([N+](=O)[O-])n1)O[C@H](C)C(=O)OCCOC\n",
      "[14:43:37] SMILES Parse Error: Failed parsing SMILES 'CC(C)CN1Cc2nnc(-c3ccc(F)cc3)n2)c([N+](=O)[O-])n1)O[C@H](C)C(=O)OCCOC' for input: 'CC(C)CN1Cc2nnc(-c3ccc(F)cc3)n2)c([N+](=O)[O-])n1)O[C@H](C)C(=O)OCCOC'\n",
      "[14:43:37] SMILES Parse Error: unclosed ring for input: 'CCSCCC(=O)N[C@H]1[C@H]3CC[C@H](Nc2ncccc2[N+](=O)[O-])[C@@H]1CCCO1'\n",
      "[14:43:37] SMILES Parse Error: unclosed ring for input: 'CC[C@@H](Cc1ccccc1F)[C@@H](C)S(=O)(=O)C1'\n",
      "[14:43:37] SMILES Parse Error: extra open parentheses for input: 'CCN(CCNc1cccc(F)c1[N+](=O)[O-]'\n",
      "[14:43:37] SMILES Parse Error: extra close parentheses while parsing: CCCC(=O)N1CCOc2ccc([N+](=O)[O-])cc1)C(=O)NCC1=CCOCCO1\n",
      "[14:43:37] SMILES Parse Error: Failed parsing SMILES 'CCCC(=O)N1CCOc2ccc([N+](=O)[O-])cc1)C(=O)NCC1=CCOCCO1' for input: 'CCCC(=O)N1CCOc2ccc([N+](=O)[O-])cc1)C(=O)NCC1=CCOCCO1'\n",
      "[14:43:37] SMILES Parse Error: unclosed ring for input: 'CC1(C)[C@@H]2CN(S(=O)(=O)Cc1cccs1)c1ccccc1[N+](=O)[O-]'\n",
      "[14:43:37] SMILES Parse Error: ring closure 1 duplicates bond between atom 25 and atom 26 for input: 'CC(C)Oc1nc(NC(=O)Cc2ccc([N+](=O)[O-])cc2)[C@H]1CCCN[C@H]1C1'\n",
      "[14:43:37] SMILES Parse Error: unclosed ring for input: 'CCOCC(=O)N1CC[C@H](C(=O)Nc2cc(N)c([N+](=O)[O-])cc2OC)[C@H]1CCCOCC1'\n",
      "[14:43:37] Can't kekulize mol.  Unkekulized atoms: 13 14 18 20 21\n",
      "[14:43:37] SMILES Parse Error: extra close parentheses while parsing: CCOC(=O)CN(C(=O)c1ccc([N+](=O)[O-])cc1)C(=O)N1CCN(C2=O)CCC1=O)C1\n",
      "[14:43:37] SMILES Parse Error: Failed parsing SMILES 'CCOC(=O)CN(C(=O)c1ccc([N+](=O)[O-])cc1)C(=O)N1CCN(C2=O)CCC1=O)C1' for input: 'CCOC(=O)CN(C(=O)c1ccc([N+](=O)[O-])cc1)C(=O)N1CCN(C2=O)CCC1=O)C1'\n",
      "[14:43:37] Can't kekulize mol.  Unkekulized atoms: 11 12 14\n",
      "[14:43:37] SMILES Parse Error: extra close parentheses while parsing: CCCN(CCNC(=O)CCC(C)(C)S(=O)(=O)c1ccc([N+](=O)[O-])cc1)C(=O)OC)C(=O)OCC(=O)O\n",
      "[14:43:37] SMILES Parse Error: Failed parsing SMILES 'CCCN(CCNC(=O)CCC(C)(C)S(=O)(=O)c1ccc([N+](=O)[O-])cc1)C(=O)OC)C(=O)OCC(=O)O' for input: 'CCCN(CCNC(=O)CCC(C)(C)S(=O)(=O)c1ccc([N+](=O)[O-])cc1)C(=O)OC)C(=O)OCC(=O)O'\n",
      "[14:43:37] SMILES Parse Error: extra close parentheses while parsing: CCn1cnnc1CN(C)S(=O)(=O)c1ccc([N+](=O)[O-])cc1F)C(C)C[S@+](=O)[O-])C(=O)O\n",
      "[14:43:37] SMILES Parse Error: Failed parsing SMILES 'CCn1cnnc1CN(C)S(=O)(=O)c1ccc([N+](=O)[O-])cc1F)C(C)C[S@+](=O)[O-])C(=O)O' for input: 'CCn1cnnc1CN(C)S(=O)(=O)c1ccc([N+](=O)[O-])cc1F)C(C)C[S@+](=O)[O-])C(=O)O'\n",
      "[14:43:37] SMILES Parse Error: unclosed ring for input: 'CCN1C[C@H](C(=O)N2CCO[C@H](F)c2ccccc2)c1[N+](=O)[O-]'\n",
      "[14:43:37] SMILES Parse Error: extra open parentheses for input: 'CC(C)(NC(=O)CN1CCC(Oc2ccc([N+](=O)[O-])cc2)CC1'\n",
      "[14:43:37] Explicit valence for atom # 10 C, 5, is greater than permitted\n",
      "[14:43:37] SMILES Parse Error: extra open parentheses for input: 'CCC1(CNC(=O)CN(Cc2ccccc2[N+](=O)[O-])C[C@@H]1'\n",
      "[14:43:37] SMILES Parse Error: extra open parentheses for input: 'CCN1CCN(CCNC(=O)c1cccc(OC)c1[N+](=O)[O-]'\n",
      "[14:43:37] SMILES Parse Error: extra close parentheses while parsing: CCO[C@@H]1C[C@H](N(C)C(=O)COc2ccccc2[N+](=O)[O-])OCCO3)n1\n",
      "[14:43:37] SMILES Parse Error: Failed parsing SMILES 'CCO[C@@H]1C[C@H](N(C)C(=O)COc2ccccc2[N+](=O)[O-])OCCO3)n1' for input: 'CCO[C@@H]1C[C@H](N(C)C(=O)COc2ccccc2[N+](=O)[O-])OCCO3)n1'\n",
      "[14:43:37] SMILES Parse Error: extra close parentheses while parsing: CC1CCN(CCNc2ccc([N+](=O)[O-])cc2F)CCOCC2)C1\n",
      "[14:43:37] SMILES Parse Error: Failed parsing SMILES 'CC1CCN(CCNc2ccc([N+](=O)[O-])cc2F)CCOCC2)C1' for input: 'CC1CCN(CCNc2ccc([N+](=O)[O-])cc2F)CCOCC2)C1'\n",
      "[14:43:37] SMILES Parse Error: extra close parentheses while parsing: CCC(=O)[C@@H](C)CN(C)C(=O)Cc1cc[nH]c1)c1ccc([N+](=O)[O-])cc1F\n",
      "[14:43:37] SMILES Parse Error: Failed parsing SMILES 'CCC(=O)[C@@H](C)CN(C)C(=O)Cc1cc[nH]c1)c1ccc([N+](=O)[O-])cc1F' for input: 'CCC(=O)[C@@H](C)CN(C)C(=O)Cc1cc[nH]c1)c1ccc([N+](=O)[O-])cc1F'\n",
      "[14:43:37] Can't kekulize mol.  Unkekulized atoms: 10 11 13\n",
      "[14:43:37] SMILES Parse Error: extra close parentheses while parsing: CCC1(CC)[C@@H](OC(=O)C2)C1)c1cccc([N+](=O)[O-])c1\n",
      "[14:43:37] SMILES Parse Error: Failed parsing SMILES 'CCC1(CC)[C@@H](OC(=O)C2)C1)c1cccc([N+](=O)[O-])c1' for input: 'CCC1(CC)[C@@H](OC(=O)C2)C1)c1cccc([N+](=O)[O-])c1'\n",
      "[14:43:37] SMILES Parse Error: extra close parentheses while parsing: CC(C)C[C@H](C(=O)O)NC(=O)Cc1ccccc1F)C(=O)O)c1ccccc1[N+](=O)[O-]\n",
      "[14:43:37] SMILES Parse Error: Failed parsing SMILES 'CC(C)C[C@H](C(=O)O)NC(=O)Cc1ccccc1F)C(=O)O)c1ccccc1[N+](=O)[O-]' for input: 'CC(C)C[C@H](C(=O)O)NC(=O)Cc1ccccc1F)C(=O)O)c1ccccc1[N+](=O)[O-]'\n",
      "[14:43:37] SMILES Parse Error: extra open parentheses for input: 'CC[C@H](C(=O)N1CC(Oc2ccc(Cl)cc2[N+](=O)[O-])C1'\n",
      "[14:43:37] Can't kekulize mol.  Unkekulized atoms: 6 7 13 23 24\n",
      "[14:43:37] SMILES Parse Error: extra close parentheses while parsing: CCC(O)(CC)CN1CC(=O)Nc2ccccc2[N+](=O)[O-])[C@H](CC)CCc1ncc[nH]1\n",
      "[14:43:37] SMILES Parse Error: Failed parsing SMILES 'CCC(O)(CC)CN1CC(=O)Nc2ccccc2[N+](=O)[O-])[C@H](CC)CCc1ncc[nH]1' for input: 'CCC(O)(CC)CN1CC(=O)Nc2ccccc2[N+](=O)[O-])[C@H](CC)CCc1ncc[nH]1'\n",
      "[14:43:37] SMILES Parse Error: extra close parentheses while parsing: CCCCC(=O)N1[C@H](C)CCN(C(=O)c2cc([N+](=O)[O-])cn2)c[nH]c2ccccc2)no1\n",
      "[14:43:37] SMILES Parse Error: Failed parsing SMILES 'CCCCC(=O)N1[C@H](C)CCN(C(=O)c2cc([N+](=O)[O-])cn2)c[nH]c2ccccc2)no1' for input: 'CCCCC(=O)N1[C@H](C)CCN(C(=O)c2cc([N+](=O)[O-])cn2)c[nH]c2ccccc2)no1'\n",
      "[14:43:37] SMILES Parse Error: extra close parentheses while parsing: CC(C)[C@@H](CO)NC(=O)C(=O)Nc1cn(CC)cc1[N+](=O)[O-])C(C)C\n",
      "[14:43:37] SMILES Parse Error: Failed parsing SMILES 'CC(C)[C@@H](CO)NC(=O)C(=O)Nc1cn(CC)cc1[N+](=O)[O-])C(C)C' for input: 'CC(C)[C@@H](CO)NC(=O)C(=O)Nc1cn(CC)cc1[N+](=O)[O-])C(C)C'\n",
      "[14:43:37] Can't kekulize mol.  Unkekulized atoms: 2 3 4 5 20\n",
      "[14:43:37] SMILES Parse Error: extra close parentheses while parsing: CCN1CCC(NC(=O)Cc2c[nH]c3ccc([N+](=O)[O-])nc3)CC2)n1\n",
      "[14:43:37] SMILES Parse Error: Failed parsing SMILES 'CCN1CCC(NC(=O)Cc2c[nH]c3ccc([N+](=O)[O-])nc3)CC2)n1' for input: 'CCN1CCC(NC(=O)Cc2c[nH]c3ccc([N+](=O)[O-])nc3)CC2)n1'\n",
      "[14:43:37] Can't kekulize mol.  Unkekulized atoms: 4 5 6\n",
      "[14:43:37] SMILES Parse Error: extra open parentheses for input: 'CCN(CCNC(=O)c1cn(C)c(C)nn1'\n",
      "[14:43:37] SMILES Parse Error: extra close parentheses while parsing: CCn1cc([N+](=O)[O-])cn1)C(=O)CCn1nccn1\n",
      "[14:43:37] SMILES Parse Error: Failed parsing SMILES 'CCn1cc([N+](=O)[O-])cn1)C(=O)CCn1nccn1' for input: 'CCn1cc([N+](=O)[O-])cn1)C(=O)CCn1nccn1'\n",
      "[14:43:37] SMILES Parse Error: extra close parentheses while parsing: CC[C@H](CS(C)(=O)=O)N(C)c1ccccc1[N+](=O)[O-])c1cc(C)on1)C(=O)OCC\n",
      "[14:43:37] SMILES Parse Error: Failed parsing SMILES 'CC[C@H](CS(C)(=O)=O)N(C)c1ccccc1[N+](=O)[O-])c1cc(C)on1)C(=O)OCC' for input: 'CC[C@H](CS(C)(=O)=O)N(C)c1ccccc1[N+](=O)[O-])c1cc(C)on1)C(=O)OCC'\n",
      "[14:43:37] SMILES Parse Error: extra close parentheses while parsing: CCN(CCNC(=O)c1nocc1C)c1ccc(C)cc1)[N+](=O)[O-]\n",
      "[14:43:37] SMILES Parse Error: Failed parsing SMILES 'CCN(CCNC(=O)c1nocc1C)c1ccc(C)cc1)[N+](=O)[O-]' for input: 'CCN(CCNC(=O)c1nocc1C)c1ccc(C)cc1)[N+](=O)[O-]'\n",
      "[14:43:37] SMILES Parse Error: unclosed ring for input: 'CC[C@H]1CN(C)S(=O)(=O)c1ccc([N+](=O)[O-])c(C)c1'\n",
      "[14:43:37] SMILES Parse Error: extra close parentheses while parsing: CC(C)Oc1ccccc1C(=O)NCC(=O)Nc1ccc(Cl)cc1OC)C(=O)c1cc2c(cC)cccc2[N+](=O)[O-])C1\n",
      "[14:43:37] SMILES Parse Error: Failed parsing SMILES 'CC(C)Oc1ccccc1C(=O)NCC(=O)Nc1ccc(Cl)cc1OC)C(=O)c1cc2c(cC)cccc2[N+](=O)[O-])C1' for input: 'CC(C)Oc1ccccc1C(=O)NCC(=O)Nc1ccc(Cl)cc1OC)C(=O)c1cc2c(cC)cccc2[N+](=O)[O-])C1'\n",
      "[14:43:37] Can't kekulize mol.  Unkekulized atoms: 17 18 22\n",
      "[14:43:37] SMILES Parse Error: extra open parentheses for input: 'CCN(CCNC(=O)C1(Nc2ncccc2[N+](=O)[O-])COC1'\n",
      "[14:43:37] Can't kekulize mol.  Unkekulized atoms: 3 4 5 22 23\n",
      "[14:43:37] SMILES Parse Error: extra close parentheses while parsing: CCn1nccc1C(=O)N[C@@H](C)Cc1ccc([N+](=O)[O-])cc1)c1ccnn1C\n",
      "[14:43:37] SMILES Parse Error: Failed parsing SMILES 'CCn1nccc1C(=O)N[C@@H](C)Cc1ccc([N+](=O)[O-])cc1)c1ccnn1C' for input: 'CCn1nccc1C(=O)N[C@@H](C)Cc1ccc([N+](=O)[O-])cc1)c1ccnn1C'\n",
      "[14:43:37] SMILES Parse Error: unclosed ring for input: 'CCCN(CCO1)C(=O)CCC(C)C'\n",
      "[14:43:37] SMILES Parse Error: extra open parentheses for input: 'CC(C)c1nc(CN[C@H](Cc2cccc([N+](=O)[O-])c2)CC1'\n",
      "[14:43:37] Can't kekulize mol.  Unkekulized atoms: 25\n",
      "[14:43:37] SMILES Parse Error: unclosed ring for input: 'CCCCCNC(=O)CCn1ncc2cc(C)ccc1[N+](=O)[O-]'\n",
      "[14:43:37] SMILES Parse Error: syntax error while parsing: CC(C)(C)OC(=O)N[C@H]1C[C@@](O-])c2cccc([N+](=O)[O-])c2)n1\n",
      "[14:43:37] SMILES Parse Error: Failed parsing SMILES 'CC(C)(C)OC(=O)N[C@H]1C[C@@](O-])c2cccc([N+](=O)[O-])c2)n1' for input: 'CC(C)(C)OC(=O)N[C@H]1C[C@@](O-])c2cccc([N+](=O)[O-])c2)n1'\n",
      "[14:43:37] Can't kekulize mol.  Unkekulized atoms: 9 10 11 22 23\n",
      "[14:43:37] SMILES Parse Error: extra close parentheses while parsing: CC(C)c1noc(Cc2csc(-c3cccc([N+](=O)[O-])c3)n2)CC[C@@H](C)C(=O)O)CCSC1\n",
      "[14:43:37] SMILES Parse Error: Failed parsing SMILES 'CC(C)c1noc(Cc2csc(-c3cccc([N+](=O)[O-])c3)n2)CC[C@@H](C)C(=O)O)CCSC1' for input: 'CC(C)c1noc(Cc2csc(-c3cccc([N+](=O)[O-])c3)n2)CC[C@@H](C)C(=O)O)CCSC1'\n",
      "[14:43:37] SMILES Parse Error: unclosed ring for input: 'CCn1cc(S(=O)(=O)Nc2cccc([N+](=O)[O-])c2ccccc2[N+](=O)[O-])on1'\n",
      "[14:43:37] SMILES Parse Error: extra close parentheses while parsing: CCOC(=O)[C@@H](C)Sc1cc(C)c([N+](=O)[O-])cn1)C2\n",
      "[14:43:37] SMILES Parse Error: Failed parsing SMILES 'CCOC(=O)[C@@H](C)Sc1cc(C)c([N+](=O)[O-])cn1)C2' for input: 'CCOC(=O)[C@@H](C)Sc1cc(C)c([N+](=O)[O-])cn1)C2'\n",
      "[14:43:37] SMILES Parse Error: extra open parentheses for input: 'CCOC(=O)[C@@H]1CN(C(=O)c2ccc([N+](=O)[O-])cc2[nH]1'\n",
      "[14:43:37] SMILES Parse Error: unclosed ring for input: 'CC(C)(C(=O)c1n[nH]c2ccccc(N2CCOCC2)c1)[N+](=O)[O-]'\n",
      "[14:43:37] Can't kekulize mol.  Unkekulized atoms: 3 4 5 23 24\n",
      "[14:43:37] SMILES Parse Error: extra open parentheses for input: 'CCOC[C@@H](C(=O)Nc1cc([N+](=O)[O-])ccc1Cl'\n",
      "[14:43:37] SMILES Parse Error: extra close parentheses while parsing: CCc1ncoc1C(=O)N(CC)CCNc1ccnc(-c2ccc([N+](=O)[O-])cc2)n1)C(C)C\n",
      "[14:43:37] SMILES Parse Error: Failed parsing SMILES 'CCc1ncoc1C(=O)N(CC)CCNc1ccnc(-c2ccc([N+](=O)[O-])cc2)n1)C(C)C' for input: 'CCc1ncoc1C(=O)N(CC)CCNc1ccnc(-c2ccc([N+](=O)[O-])cc2)n1)C(C)C'\n",
      "[14:43:37] SMILES Parse Error: unclosed ring for input: 'CCC[C@@]1(Nc2ncccc(-c3nncc3ccc([N+](=O)[O-])cc3)n2)CC1'\n",
      "[14:43:37] SMILES Parse Error: extra close parentheses while parsing: CCCN(CCNC(=O)Cc1csc([N+](=O)[O-])c1)C1CN(CCn2cc([N+](=O)[O-])cn3)CC2)C1\n",
      "[14:43:37] SMILES Parse Error: Failed parsing SMILES 'CCCN(CCNC(=O)Cc1csc([N+](=O)[O-])c1)C1CN(CCn2cc([N+](=O)[O-])cn3)CC2)C1' for input: 'CCCN(CCNC(=O)Cc1csc([N+](=O)[O-])c1)C1CN(CCn2cc([N+](=O)[O-])cn3)CC2)C1'\n",
      "[14:43:37] Explicit valence for atom # 18 O, 3, is greater than permitted\n",
      "[14:43:37] SMILES Parse Error: extra close parentheses while parsing: CC(C)c1nn(C)c(N2CCCc3nncn3C)cc2[N+](=O)[O-])CC1\n",
      "[14:43:37] SMILES Parse Error: Failed parsing SMILES 'CC(C)c1nn(C)c(N2CCCc3nncn3C)cc2[N+](=O)[O-])CC1' for input: 'CC(C)c1nn(C)c(N2CCCc3nncn3C)cc2[N+](=O)[O-])CC1'\n",
      "[14:43:37] Can't kekulize mol.  Unkekulized atoms: 15 16 17\n",
      "[14:43:37] SMILES Parse Error: extra open parentheses for input: 'CC[C@](C)(NC(=O)c1ccc([N+](=O)[O-])c(C)n1'\n",
      "[14:43:37] SMILES Parse Error: extra open parentheses for input: 'CCn1c(-c2ccc(C(=O)N[C@H](C)[C@@H](OC(=O)OC)c2cccc([N+](=O)[O-])c2)C1=O'\n",
      "[14:43:37] SMILES Parse Error: extra close parentheses while parsing: CCCN(C)CCC(=O)Nc1cc([N+](=O)[O-])ccc2C)C1\n",
      "[14:43:37] SMILES Parse Error: Failed parsing SMILES 'CCCN(C)CCC(=O)Nc1cc([N+](=O)[O-])ccc2C)C1' for input: 'CCCN(C)CCC(=O)Nc1cc([N+](=O)[O-])ccc2C)C1'\n",
      "[14:43:37] SMILES Parse Error: extra close parentheses while parsing: CCOCC(=O)Nc1cc(C(=O)O)cc(C)c1)c1ncc([N+](=O)[O-])cc1O\n",
      "[14:43:37] SMILES Parse Error: Failed parsing SMILES 'CCOCC(=O)Nc1cc(C(=O)O)cc(C)c1)c1ncc([N+](=O)[O-])cc1O' for input: 'CCOCC(=O)Nc1cc(C(=O)O)cc(C)c1)c1ncc([N+](=O)[O-])cc1O'\n",
      "[14:43:37] SMILES Parse Error: extra open parentheses for input: 'CCOc1ccc(CN2CCN(c3ccc([N+](=O)[O-])c(C(C)=O)c2)C1'\n",
      "[14:43:37] Can't kekulize mol.  Unkekulized atoms: 6 7 8\n",
      "[14:43:37] SMILES Parse Error: extra open parentheses for input: 'CCn1cc(Cn2ccc(-c3ccc(OCC(=O)O)cc3[nH]2)c1[N+](=O)[O-]'\n",
      "[14:43:37] SMILES Parse Error: unclosed ring for input: 'CC(C)Sc1ccc([N+](=O)[O-])cc1C(=O)OSCCNc1ccc2c(c1)NC(=O)C[C@H]1C'\n",
      "[14:43:37] Can't kekulize mol.  Unkekulized atoms: 3 4 5\n",
      "[14:43:37] SMILES Parse Error: unclosed ring for input: 'CC(S(=O)(=O)Oc1cc(N2CCN(C(C)(C)CC)[C@@H](C)NC[C@@H]3C)CC2)c1[N+](=O)[O-]'\n",
      "[14:43:37] non-ring atom 13 marked aromatic\n",
      "[14:43:37] SMILES Parse Error: extra close parentheses while parsing: CC(C)[C@](C)(NC(=O)Nc1cccnc1C)c1ncccc1[N+](=O)[O-])CCN2c1ncccc1\n",
      "[14:43:37] SMILES Parse Error: Failed parsing SMILES 'CC(C)[C@](C)(NC(=O)Nc1cccnc1C)c1ncccc1[N+](=O)[O-])CCN2c1ncccc1' for input: 'CC(C)[C@](C)(NC(=O)Nc1cccnc1C)c1ncccc1[N+](=O)[O-])CCN2c1ncccc1'\n",
      "[14:43:37] Can't kekulize mol.  Unkekulized atoms: 12 13 14\n",
      "[14:43:37] Can't kekulize mol.  Unkekulized atoms: 12 13 14 15 16 17 18 19 23 24 25\n",
      "[14:43:37] Can't kekulize mol.  Unkekulized atoms: 6 7 8 9 10\n",
      "[14:43:37] SMILES Parse Error: extra close parentheses while parsing: CCOC(=O)c1cc(C(=O)OCCC[N+](=O)[O-])n2CC)C1CC2\n",
      "[14:43:37] SMILES Parse Error: Failed parsing SMILES 'CCOC(=O)c1cc(C(=O)OCCC[N+](=O)[O-])n2CC)C1CC2' for input: 'CCOC(=O)c1cc(C(=O)OCCC[N+](=O)[O-])n2CC)C1CC2'\n",
      "[14:43:37] SMILES Parse Error: extra close parentheses while parsing: CCNc1cc(C)ccc1OC(=O)CCC(C)(C)C(=O)OC)c1ccc[n1\n",
      "[14:43:37] SMILES Parse Error: Failed parsing SMILES 'CCNc1cc(C)ccc1OC(=O)CCC(C)(C)C(=O)OC)c1ccc[n1' for input: 'CCNc1cc(C)ccc1OC(=O)CCC(C)(C)C(=O)OC)c1ccc[n1'\n",
      "[14:43:37] SMILES Parse Error: extra open parentheses for input: 'CC(C)Oc1cc(C(=O)OCC(C)(C)COBr'\n",
      "[14:43:37] SMILES Parse Error: extra close parentheses while parsing: CCc1nn(C)c(N2CCN(c3cccc(C)c4[N+](=O)[O-])CC3)CC2)cc1\n",
      "[14:43:37] SMILES Parse Error: Failed parsing SMILES 'CCc1nn(C)c(N2CCN(c3cccc(C)c4[N+](=O)[O-])CC3)CC2)cc1' for input: 'CCc1nn(C)c(N2CCN(c3cccc(C)c4[N+](=O)[O-])CC3)CC2)cc1'\n",
      "[14:43:37] Can't kekulize mol.  Unkekulized atoms: 3 4 5\n",
      "[14:43:37] SMILES Parse Error: extra open parentheses for input: 'CC[C@@H]1COCCC[C@H](C(=O)NCc1ccc([N+](=O)[O-])cc1'\n",
      "[14:43:37] Can't kekulize mol.  Unkekulized atoms: 3 5 6\n",
      "[14:43:37] Can't kekulize mol.  Unkekulized atoms: 10 11 13 14 25\n",
      "[14:43:37] Can't kekulize mol.  Unkekulized atoms: 2 4 5\n",
      "[14:43:37] SMILES Parse Error: unclosed ring for input: 'CC1(C)CC[C@H](C(=O)OCc2nc3c(c([N+](=O)[O-])c2)onc1=O)C(C)C'\n",
      "[14:43:37] SMILES Parse Error: extra close parentheses while parsing: CCS(=O)(=O)c1ccc(C(=O)O)CC2)cc1[N+](=O)[O-]\n",
      "[14:43:37] SMILES Parse Error: Failed parsing SMILES 'CCS(=O)(=O)c1ccc(C(=O)O)CC2)cc1[N+](=O)[O-]' for input: 'CCS(=O)(=O)c1ccc(C(=O)O)CC2)cc1[N+](=O)[O-]'\n",
      "[14:43:37] SMILES Parse Error: extra close parentheses while parsing: CCn1c([C@@H](C)CN)N[C@](C)(C(=O)O)c1ccccc1[N+](=O)[O-])C(=O)c1ncn(CCOC)c1C\n",
      "[14:43:37] SMILES Parse Error: Failed parsing SMILES 'CCn1c([C@@H](C)CN)N[C@](C)(C(=O)O)c1ccccc1[N+](=O)[O-])C(=O)c1ncn(CCOC)c1C' for input: 'CCn1c([C@@H](C)CN)N[C@](C)(C(=O)O)c1ccccc1[N+](=O)[O-])C(=O)c1ncn(CCOC)c1C'\n",
      "[14:43:37] SMILES Parse Error: extra open parentheses for input: 'CCOC(=O)c1ccc(NC(=O)Cn2cc([N+](=O)[O-])c(OC(C)c2cccnc2)c1'\n",
      "[14:43:37] Can't kekulize mol.  Unkekulized atoms: 3 4 5\n",
      "[14:43:37] SMILES Parse Error: extra close parentheses while parsing: CC(C)Oc1nc(N[C@@H]2[C@@H]3CN4CCCC3)C2)c1[N+](=O)[O-]\n",
      "[14:43:37] SMILES Parse Error: Failed parsing SMILES 'CC(C)Oc1nc(N[C@@H]2[C@@H]3CN4CCCC3)C2)c1[N+](=O)[O-]' for input: 'CC(C)Oc1nc(N[C@@H]2[C@@H]3CN4CCCC3)C2)c1[N+](=O)[O-]'\n",
      "[14:43:37] SMILES Parse Error: extra close parentheses while parsing: CCc1[nH]ccc1C(=O)OCC(=O)c1cc(C)on1)c1ccccc1[N+](=O)[O-])[C@@H]1CCCO2\n",
      "[14:43:37] SMILES Parse Error: Failed parsing SMILES 'CCc1[nH]ccc1C(=O)OCC(=O)c1cc(C)on1)c1ccccc1[N+](=O)[O-])[C@@H]1CCCO2' for input: 'CCc1[nH]ccc1C(=O)OCC(=O)c1cc(C)on1)c1ccccc1[N+](=O)[O-])[C@@H]1CCCO2'\n",
      "[14:43:37] Can't kekulize mol.  Unkekulized atoms: 14 15 16 20 21\n",
      "[14:43:37] SMILES Parse Error: extra close parentheses while parsing: CC(C)Oc1nc(NCc2cc(C(=O)O)n(C)c3cc(OC)ccc1[N+](=O)[O-])CC1)C(=O)O\n",
      "[14:43:37] SMILES Parse Error: Failed parsing SMILES 'CC(C)Oc1nc(NCc2cc(C(=O)O)n(C)c3cc(OC)ccc1[N+](=O)[O-])CC1)C(=O)O' for input: 'CC(C)Oc1nc(NCc2cc(C(=O)O)n(C)c3cc(OC)ccc1[N+](=O)[O-])CC1)C(=O)O'\n",
      "[14:43:37] SMILES Parse Error: extra close parentheses while parsing: CCS(=O)(=O)[C@@H]1CCCN1C(=O)COc1ccc([N+](=O)[O-])cc1)C(=O)O\n",
      "[14:43:37] SMILES Parse Error: Failed parsing SMILES 'CCS(=O)(=O)[C@@H]1CCCN1C(=O)COc1ccc([N+](=O)[O-])cc1)C(=O)O' for input: 'CCS(=O)(=O)[C@@H]1CCCN1C(=O)COc1ccc([N+](=O)[O-])cc1)C(=O)O'\n",
      "[14:43:37] SMILES Parse Error: extra close parentheses while parsing: CCOC(=O)CCCOC(=O)c1cc(SC)c(Cl)cc1[N+](=O)[O-])C(N)=O\n",
      "[14:43:37] SMILES Parse Error: Failed parsing SMILES 'CCOC(=O)CCCOC(=O)c1cc(SC)c(Cl)cc1[N+](=O)[O-])C(N)=O' for input: 'CCOC(=O)CCCOC(=O)c1cc(SC)c(Cl)cc1[N+](=O)[O-])C(N)=O'\n",
      "[14:43:37] SMILES Parse Error: syntax error while parsing: CC(C)n1cc(Nc2ccc([N+](=O)[O-])c(-])c2)nn1CCOC\n",
      "[14:43:37] SMILES Parse Error: Failed parsing SMILES 'CC(C)n1cc(Nc2ccc([N+](=O)[O-])c(-])c2)nn1CCOC' for input: 'CC(C)n1cc(Nc2ccc([N+](=O)[O-])c(-])c2)nn1CCOC'\n",
      "[14:43:37] SMILES Parse Error: extra open parentheses for input: 'CC(C)[C@@H](NC(=O)c1cc(C(=O)[O-])c(-c2nn[nH]n2)c(C)sc1[N+](=O)[O-]'\n",
      "[14:43:37] SMILES Parse Error: unclosed ring for input: 'CCC(n2c1ccccc1O)C(=O)O'\n",
      "[14:43:37] Can't kekulize mol.  Unkekulized atoms: 3\n",
      "[14:43:37] SMILES Parse Error: extra close parentheses while parsing: CC[C@H](C)[C@H](O)CNC(=O)c1cc(F)c(F)c2nccnc2)c1[N+](=O)[O-]\n",
      "[14:43:37] SMILES Parse Error: Failed parsing SMILES 'CC[C@H](C)[C@H](O)CNC(=O)c1cc(F)c(F)c2nccnc2)c1[N+](=O)[O-]' for input: 'CC[C@H](C)[C@H](O)CNC(=O)c1cc(F)c(F)c2nccnc2)c1[N+](=O)[O-]'\n",
      "[14:43:37] SMILES Parse Error: extra close parentheses while parsing: CC(C)c1[nH]nc(C(=O)NCc2nc3ccc([N+](=O)[O-])cc3)n2)CC1\n",
      "[14:43:37] SMILES Parse Error: Failed parsing SMILES 'CC(C)c1[nH]nc(C(=O)NCc2nc3ccc([N+](=O)[O-])cc3)n2)CC1' for input: 'CC(C)c1[nH]nc(C(=O)NCc2nc3ccc([N+](=O)[O-])cc3)n2)CC1'\n",
      "[14:43:37] SMILES Parse Error: extra close parentheses while parsing: CCn1nc(NC(=O)c3ccc(CN)c([N+](=O)[O-])c3)n2)C[C@H]1C\n",
      "[14:43:37] SMILES Parse Error: Failed parsing SMILES 'CCn1nc(NC(=O)c3ccc(CN)c([N+](=O)[O-])c3)n2)C[C@H]1C' for input: 'CCn1nc(NC(=O)c3ccc(CN)c([N+](=O)[O-])c3)n2)C[C@H]1C'\n",
      "[14:43:37] SMILES Parse Error: extra close parentheses while parsing: CC(C)(C)c1ccc(C(=O)N(C)C[C@H](C)OC)c([N+](=O)[O-])n1)Oc1ccccc1\n",
      "[14:43:37] SMILES Parse Error: Failed parsing SMILES 'CC(C)(C)c1ccc(C(=O)N(C)C[C@H](C)OC)c([N+](=O)[O-])n1)Oc1ccccc1' for input: 'CC(C)(C)c1ccc(C(=O)N(C)C[C@H](C)OC)c([N+](=O)[O-])n1)Oc1ccccc1'\n",
      "[14:43:37] Can't kekulize mol.  Unkekulized atoms: 3 4 5 6 7\n",
      "[14:43:37] SMILES Parse Error: extra close parentheses while parsing: CC(=O)N1CC[C@H](CNc2cccc(C)c2[N+](=O)[O-])=NO3)n[nH]1\n",
      "[14:43:37] SMILES Parse Error: Failed parsing SMILES 'CC(=O)N1CC[C@H](CNc2cccc(C)c2[N+](=O)[O-])=NO3)n[nH]1' for input: 'CC(=O)N1CC[C@H](CNc2cccc(C)c2[N+](=O)[O-])=NO3)n[nH]1'\n",
      "[14:43:37] SMILES Parse Error: extra open parentheses for input: 'CCOC(=O)N1CCCC[C@@H](CC(=O)OCC(=O)Nc1ccc([N+](=O)[O-])cc1'\n",
      "[14:43:37] SMILES Parse Error: extra close parentheses while parsing: CC(C)Oc1cc(NC(=O)Cn2ccc3cccc([N+](=O)[O-])c3)n2)c1cc1ncccc1\n",
      "[14:43:37] SMILES Parse Error: Failed parsing SMILES 'CC(C)Oc1cc(NC(=O)Cn2ccc3cccc([N+](=O)[O-])c3)n2)c1cc1ncccc1' for input: 'CC(C)Oc1cc(NC(=O)Cn2ccc3cccc([N+](=O)[O-])c3)n2)c1cc1ncccc1'\n",
      "[14:43:37] SMILES Parse Error: unclosed ring for input: 'CC1(C(=O)N(CCO)CCN2CCCN(Cn3cnc([N+](=O)[O-])n2)C1)c1ccnc1O'\n",
      "[14:43:37] Can't kekulize mol.  Unkekulized atoms: 4 5 6\n",
      "[14:43:37] SMILES Parse Error: unclosed ring for input: 'CC(C)(C)OC(=O)[C@@H]1CSCN1C(=O)[C@@H]1CC1CCN(c2ccc([N+](=O)[O-])cc2)CC1=O'\n",
      "[14:43:37] SMILES Parse Error: extra close parentheses while parsing: CCN(CCCNC(=O)c1cscc1C)c1nccc(C)c1[N+](=O)[O-])C(N)=O\n",
      "[14:43:37] SMILES Parse Error: Failed parsing SMILES 'CCN(CCCNC(=O)c1cscc1C)c1nccc(C)c1[N+](=O)[O-])C(N)=O' for input: 'CCN(CCCNC(=O)c1cscc1C)c1nccc(C)c1[N+](=O)[O-])C(N)=O'\n",
      "[14:43:37] SMILES Parse Error: extra close parentheses while parsing: CC1(C(=O)NCC2(N(C)C)CCOCC1)c1ccc([N+](=O)[O-])cc2)C1\n",
      "[14:43:37] SMILES Parse Error: Failed parsing SMILES 'CC1(C(=O)NCC2(N(C)C)CCOCC1)c1ccc([N+](=O)[O-])cc2)C1' for input: 'CC1(C(=O)NCC2(N(C)C)CCOCC1)c1ccc([N+](=O)[O-])cc2)C1'\n",
      "[14:43:37] Can't kekulize mol.  Unkekulized atoms: 7 8 9 10 22\n",
      "[14:43:37] SMILES Parse Error: unclosed ring for input: 'CCn1ccc(C(=O)N2CCS(=O)(=O)c2ccccc2[N+](=O)[O-])cc1'\n",
      "[14:43:37] SMILES Parse Error: extra close parentheses while parsing: CCc1nn(C)cc1C(=O)NC[C@@H](C)Cc1ccc([N+](=O)[O-])cc1)C(=O)N1C[C@@H]2CCCO2)CC1\n",
      "[14:43:37] SMILES Parse Error: Failed parsing SMILES 'CCc1nn(C)cc1C(=O)NC[C@@H](C)Cc1ccc([N+](=O)[O-])cc1)C(=O)N1C[C@@H]2CCCO2)CC1' for input: 'CCc1nn(C)cc1C(=O)NC[C@@H](C)Cc1ccc([N+](=O)[O-])cc1)C(=O)N1C[C@@H]2CCCO2)CC1'\n",
      "[14:43:37] SMILES Parse Error: extra close parentheses while parsing: CCOc1ccc(CN2C(=O)c3cc(F)c(C)c[nH]3)C2)c1[N+](=O)[O-]\n",
      "[14:43:37] SMILES Parse Error: Failed parsing SMILES 'CCOc1ccc(CN2C(=O)c3cc(F)c(C)c[nH]3)C2)c1[N+](=O)[O-]' for input: 'CCOc1ccc(CN2C(=O)c3cc(F)c(C)c[nH]3)C2)c1[N+](=O)[O-]'\n",
      "[14:43:37] Can't kekulize mol.  Unkekulized atoms: 9 10 11 12 13\n",
      "[14:43:37] SMILES Parse Error: extra open parentheses for input: 'CCC[C@H](C)NC(=O)[C@@H]1CCCN(C(=O)c2cccc([N+](=O)[O-])c2C)Oc1cc(C'\n",
      "[14:43:37] SMILES Parse Error: extra open parentheses for input: 'CCC[C@@H](CC(=O)O[C@@H]1CCN(C(=O)c2ccc([N+](=O)[O-])cc2Cl)CC1'\n",
      "[14:43:37] SMILES Parse Error: extra close parentheses while parsing: CCCCOCC(=O)N(C)CCCN(C)c1ccc([N+](=O)[O-])cc1)C(C)C\n",
      "[14:43:37] SMILES Parse Error: Failed parsing SMILES 'CCCCOCC(=O)N(C)CCCN(C)c1ccc([N+](=O)[O-])cc1)C(C)C' for input: 'CCCCOCC(=O)N(C)CCCN(C)c1ccc([N+](=O)[O-])cc1)C(C)C'\n",
      "[14:43:37] SMILES Parse Error: extra close parentheses while parsing: CCc1nc([C@H](C)N(C)C(=O)[C@@H]2C)CCCC2)c([N+](=O)[O-])c1\n",
      "[14:43:37] SMILES Parse Error: Failed parsing SMILES 'CCc1nc([C@H](C)N(C)C(=O)[C@@H]2C)CCCC2)c([N+](=O)[O-])c1' for input: 'CCc1nc([C@H](C)N(C)C(=O)[C@@H]2C)CCCC2)c([N+](=O)[O-])c1'\n",
      "[14:43:37] SMILES Parse Error: extra close parentheses while parsing: CC1(C)[C@H]2CN(C(=O)c3c(F)cccc3[N+](=O)[O-])C2)OCCO1\n",
      "[14:43:37] SMILES Parse Error: Failed parsing SMILES 'CC1(C)[C@H]2CN(C(=O)c3c(F)cccc3[N+](=O)[O-])C2)OCCO1' for input: 'CC1(C)[C@H]2CN(C(=O)c3c(F)cccc3[N+](=O)[O-])C2)OCCO1'\n",
      "[14:43:37] Can't kekulize mol.  Unkekulized atoms: 5 7 19\n",
      "[14:43:37] SMILES Parse Error: extra close parentheses while parsing: CC1(C)C[C@H]2CN(c3cccc([N+](=O)[O-])c3)C2)O1\n",
      "[14:43:37] SMILES Parse Error: Failed parsing SMILES 'CC1(C)C[C@H]2CN(c3cccc([N+](=O)[O-])c3)C2)O1' for input: 'CC1(C)C[C@H]2CN(c3cccc([N+](=O)[O-])c3)C2)O1'\n",
      "[14:43:37] SMILES Parse Error: unclosed ring for input: 'CCN(C(=O)Cn1cccc2cc([N+](=O)[O-])ccc12)OCCO2'\n",
      "[14:43:37] SMILES Parse Error: extra open parentheses for input: 'CCC(CC)(NC(=O)c1ccc(N2CCC[C@H]3c2ccccc2[N+](=O)[O-])cc1'\n",
      "[14:43:37] SMILES Parse Error: extra open parentheses for input: 'CCN(C(=O)Cn1ccnc1[N+](=O)[O-]'\n",
      "[14:43:37] SMILES Parse Error: extra open parentheses for input: 'CC(C)Oc1ccc(CN2CCC(c3nc(C)oc3cc([N+](=O)[O-])cc4)[C@@H]2C1'\n",
      "[14:43:37] Can't kekulize mol.  Unkekulized atoms: 12 13 14 21 22\n",
      "[14:43:37] SMILES Parse Error: unclosed ring for input: 'CC1(O)CCc2ccc(N(C)C(=O)c2cc([N+](=O)[O-])ccc2F)C1'\n",
      "[14:43:37] SMILES Parse Error: extra close parentheses while parsing: CC[C@H](S(C)C)NC(=O)OC)S(=O)(=O)c1cc(OC)ccc1[N+](=O)[O-]\n",
      "[14:43:37] SMILES Parse Error: Failed parsing SMILES 'CC[C@H](S(C)C)NC(=O)OC)S(=O)(=O)c1cc(OC)ccc1[N+](=O)[O-]' for input: 'CC[C@H](S(C)C)NC(=O)OC)S(=O)(=O)c1cc(OC)ccc1[N+](=O)[O-]'\n",
      "[14:43:37] SMILES Parse Error: extra close parentheses while parsing: CC(C)c1n[nH]cc1C(=O)NC[C@@](C)(C)c1cccc([N+](=O)[O-])c1)C(=O)O\n",
      "[14:43:37] SMILES Parse Error: Failed parsing SMILES 'CC(C)c1n[nH]cc1C(=O)NC[C@@](C)(C)c1cccc([N+](=O)[O-])c1)C(=O)O' for input: 'CC(C)c1n[nH]cc1C(=O)NC[C@@](C)(C)c1cccc([N+](=O)[O-])c1)C(=O)O'\n",
      "[14:43:37] SMILES Parse Error: extra close parentheses while parsing: CC(C)(C)C(=O)N1C[C@H]2CCCN(c3ncc(C)cc3[N+](=O)[O-])n2)C12CCC2\n",
      "[14:43:37] SMILES Parse Error: Failed parsing SMILES 'CC(C)(C)C(=O)N1C[C@H]2CCCN(c3ncc(C)cc3[N+](=O)[O-])n2)C12CCC2' for input: 'CC(C)(C)C(=O)N1C[C@H]2CCCN(c3ncc(C)cc3[N+](=O)[O-])n2)C12CCC2'\n",
      "[14:43:37] SMILES Parse Error: extra close parentheses while parsing: CC1=NO[C@@H](CCCC(=O)O)N[C@H](C)CC(N)=O)CC1)c1ccc([N+](=O)[O-])c(C)o1\n",
      "[14:43:37] SMILES Parse Error: Failed parsing SMILES 'CC1=NO[C@@H](CCCC(=O)O)N[C@H](C)CC(N)=O)CC1)c1ccc([N+](=O)[O-])c(C)o1' for input: 'CC1=NO[C@@H](CCCC(=O)O)N[C@H](C)CC(N)=O)CC1)c1ccc([N+](=O)[O-])c(C)o1'\n",
      "[14:43:37] Can't kekulize mol.  Unkekulized atoms: 21 22 23 24 26\n",
      "[14:43:37] SMILES Parse Error: unclosed ring for input: 'CCc1nn(C)c(-c2nc[nH]c2c(C)cc(C(=O)OC)c2)c1[N+](=O)[O-]'\n",
      "[14:43:37] SMILES Parse Error: extra close parentheses while parsing: CCCN(C(=O)CCCNCc1ccccc1C)C(=O)OCCn1cc([N+](=O)[O-])cn1)C2\n",
      "[14:43:37] SMILES Parse Error: Failed parsing SMILES 'CCCN(C(=O)CCCNCc1ccccc1C)C(=O)OCCn1cc([N+](=O)[O-])cn1)C2' for input: 'CCCN(C(=O)CCCNCc1ccccc1C)C(=O)OCCn1cc([N+](=O)[O-])cn1)C2'\n",
      "[14:43:37] Can't kekulize mol.  Unkekulized atoms: 4 5 6 22 23\n",
      "[14:43:37] SMILES Parse Error: syntax error while parsing: CC[C@]1(C(C)C)CCCN(c2ccc(S(N)(=O)=(=O)cc2[N+](=O)[O-])CC1\n",
      "[14:43:37] SMILES Parse Error: Failed parsing SMILES 'CC[C@]1(C(C)C)CCCN(c2ccc(S(N)(=O)=(=O)cc2[N+](=O)[O-])CC1' for input: 'CC[C@]1(C(C)C)CCCN(c2ccc(S(N)(=O)=(=O)cc2[N+](=O)[O-])CC1'\n",
      "[14:43:37] SMILES Parse Error: syntax error while parsing: CC1(C(=O)N[C@@@H](CC)CN2C(=O)NCc3cccc([N+](=O)[O-])c3)C2)CC1\n",
      "[14:43:37] SMILES Parse Error: Failed parsing SMILES 'CC1(C(=O)N[C@@@H](CC)CN2C(=O)NCc3cccc([N+](=O)[O-])c3)C2)CC1' for input: 'CC1(C(=O)N[C@@@H](CC)CN2C(=O)NCc3cccc([N+](=O)[O-])c3)C2)CC1'\n",
      "[14:43:37] Can't kekulize mol.  Unkekulized atoms: 2 3 4 7 8 9\n",
      "[14:43:37] Can't kekulize mol.  Unkekulized atoms: 5 6 7 17 21\n",
      "[14:43:37] SMILES Parse Error: extra close parentheses while parsing: CCc1ncsc1C(=O)N(C)SC(=O)c1ccc([N+](=O)[O-])cc1)C1CC1\n",
      "[14:43:37] SMILES Parse Error: Failed parsing SMILES 'CCc1ncsc1C(=O)N(C)SC(=O)c1ccc([N+](=O)[O-])cc1)C1CC1' for input: 'CCc1ncsc1C(=O)N(C)SC(=O)c1ccc([N+](=O)[O-])cc1)C1CC1'\n",
      "[14:43:37] SMILES Parse Error: extra close parentheses while parsing: CCCn1nccc1CNC(=O)Cc1csc([N+](=O)[O-])c1)S(C)(=O)=O\n",
      "[14:43:37] SMILES Parse Error: Failed parsing SMILES 'CCCn1nccc1CNC(=O)Cc1csc([N+](=O)[O-])c1)S(C)(=O)=O' for input: 'CCCn1nccc1CNC(=O)Cc1csc([N+](=O)[O-])c1)S(C)(=O)=O'\n",
      "[14:43:37] SMILES Parse Error: unclosed ring for input: 'CCCc1[nH]nc(C(=O)NC2CN(C)c3ccccc2[N+](=O)[O-])C1'\n",
      "[14:43:37] SMILES Parse Error: extra open parentheses for input: 'CC(C)(C(=O)NC[C@@H]1CCOC[C@H]1N1CCC[C@H](N(C)C2CC2)cc1[N+](=O)[O-]'\n",
      "[14:43:37] SMILES Parse Error: unclosed ring for input: 'CCOC(=O)C[C@H]1'\n",
      "[14:43:37] Can't kekulize mol.  Unkekulized atoms: 3 5 6 22 23\n",
      "[14:43:37] SMILES Parse Error: extra open parentheses for input: 'CC[C@@H](CNC(=O)COc1ccc([N+](=O)[O-])cn1'\n",
      "[14:43:37] Can't kekulize mol.  Unkekulized atoms: 13 14 15 16 17\n",
      "[14:43:37] SMILES Parse Error: extra close parentheses while parsing: CCC(=O)c1cnccc1C(=O)NCCCNc1ccc([N+](=O)[O-])c1C)OC\n",
      "[14:43:37] SMILES Parse Error: Failed parsing SMILES 'CCC(=O)c1cnccc1C(=O)NCCCNc1ccc([N+](=O)[O-])c1C)OC' for input: 'CCC(=O)c1cnccc1C(=O)NCCCNc1ccc([N+](=O)[O-])c1C)OC'\n",
      "[14:43:37] SMILES Parse Error: unclosed ring for input: 'CC1(C)CC[C@H](NC(=O)Cn1cc([N+](=O)[O-])cc([N+](=O)[O-])c1)C1CC1'\n",
      "[14:43:37] SMILES Parse Error: unclosed ring for input: 'CC[C@@H](Cc1ccc(Oc2)nc(C)n1)S(=O)(=O)c1c(C)cc([N+](=O)[O-])cn1'\n",
      "[14:43:37] SMILES Parse Error: extra close parentheses while parsing: CC(C)CN(CCNc1nccsc1C)C(=O)CCn1nccc1C1CC1)[N+](=O)[O-]\n",
      "[14:43:37] SMILES Parse Error: Failed parsing SMILES 'CC(C)CN(CCNc1nccsc1C)C(=O)CCn1nccc1C1CC1)[N+](=O)[O-]' for input: 'CC(C)CN(CCNc1nccsc1C)C(=O)CCn1nccc1C1CC1)[N+](=O)[O-]'\n",
      "[14:43:37] Can't kekulize mol.  Unkekulized atoms: 10 11 12 13 14 16 17 21 22 24 25 26\n",
      "[14:43:37] SMILES Parse Error: extra close parentheses while parsing: CCN1CCC[C@H]1C(=O)O)C(=O)NCc1cc(C)cc([N+](=O)[O-])c1\n",
      "[14:43:37] SMILES Parse Error: Failed parsing SMILES 'CCN1CCC[C@H]1C(=O)O)C(=O)NCc1cc(C)cc([N+](=O)[O-])c1' for input: 'CCN1CCC[C@H]1C(=O)O)C(=O)NCc1cc(C)cc([N+](=O)[O-])c1'\n",
      "[14:43:37] SMILES Parse Error: extra open parentheses for input: 'CC[C@H](NS(=O)(=O)c1ccc([N+](=O)[O-])c(C(N)=O)c1'\n",
      "[14:43:37] SMILES Parse Error: extra open parentheses for input: 'CC1(C)CCC(CN[C@H](Cc2nc(-c3ccc([N+](=O)[O-])cc32)CCO1'\n",
      "[14:43:37] SMILES Parse Error: extra open parentheses for input: 'CC(C)[C@@H](NC(=O)Cc1ccc(Cl)cc1[N+](=O)[O-]'\n",
      "[14:43:37] SMILES Parse Error: extra close parentheses while parsing: CCOC(=O)COC(=O)[C@H](C)CS(=O)(=O)c1ccc([N+](=O)[O-])cc1OCC)C1CCCC1\n",
      "[14:43:37] SMILES Parse Error: Failed parsing SMILES 'CCOC(=O)COC(=O)[C@H](C)CS(=O)(=O)c1ccc([N+](=O)[O-])cc1OCC)C1CCCC1' for input: 'CCOC(=O)COC(=O)[C@H](C)CS(=O)(=O)c1ccc([N+](=O)[O-])cc1OCC)C1CCCC1'\n",
      "[14:43:37] SMILES Parse Error: extra close parentheses while parsing: CCc1ccc(CNC(=O)c2cc(OC)ccc2[N+](=O)[O-])CC1)C1CC1\n",
      "[14:43:37] SMILES Parse Error: Failed parsing SMILES 'CCc1ccc(CNC(=O)c2cc(OC)ccc2[N+](=O)[O-])CC1)C1CC1' for input: 'CCc1ccc(CNC(=O)c2cc(OC)ccc2[N+](=O)[O-])CC1)C1CC1'\n",
      "[14:43:37] Can't kekulize mol.  Unkekulized atoms: 3 4 5\n",
      "[14:43:37] SMILES Parse Error: extra close parentheses while parsing: CCNC(=O)[C@@H](CC)OC(=O)c1n[nH]c2cc([N+](=O)[O-])ccc1OC)C(=O)OC\n",
      "[14:43:37] SMILES Parse Error: Failed parsing SMILES 'CCNC(=O)[C@@H](CC)OC(=O)c1n[nH]c2cc([N+](=O)[O-])ccc1OC)C(=O)OC' for input: 'CCNC(=O)[C@@H](CC)OC(=O)c1n[nH]c2cc([N+](=O)[O-])ccc1OC)C(=O)OC'\n",
      "[14:43:37] Can't kekulize mol.  Unkekulized atoms: 22\n",
      "[14:43:37] Can't kekulize mol.  Unkekulized atoms: 6 7 8 9 19\n",
      "[14:43:37] SMILES Parse Error: unclosed ring for input: 'CC[C@H](C)[C@H](C)Sc1ccc([N+](=O)[O-])c(C(=O)N(C)CCn2ccc(=O)n2)[C@H]1[C@H](C)CN1SCn1cc(Br)cn1'\n",
      "[14:43:37] Can't kekulize mol.  Unkekulized atoms: 12 13 14 15 24 25 26\n",
      "[14:43:37] SMILES Parse Error: unclosed ring for input: 'CCC[C@@H](CC)N(CC(=O)Nc1ccc([N+](=O)[O-])c(Cl2)n1)C(C)C'\n",
      "[14:43:37] SMILES Parse Error: extra close parentheses while parsing: CC[C@H](CC(=O)OCC)C(=O)Oc1ccc([N+](=O)[O-])cc1C)C(=O)OC\n",
      "[14:43:37] SMILES Parse Error: Failed parsing SMILES 'CC[C@H](CC(=O)OCC)C(=O)Oc1ccc([N+](=O)[O-])cc1C)C(=O)OC' for input: 'CC[C@H](CC(=O)OCC)C(=O)Oc1ccc([N+](=O)[O-])cc1C)C(=O)OC'\n",
      "[14:43:37] SMILES Parse Error: ring closure 1 duplicates bond between atom 4 and atom 19 for input: 'CCOCC1(CNC(=O)c2ccc(Br)cc2[N+](=O)[O-])C1'\n",
      "[14:43:37] Can't kekulize mol.  Unkekulized atoms: 21 22 23\n",
      "[14:43:37] Can't kekulize mol.  Unkekulized atoms: 4 5 6\n",
      "[14:43:37] Can't kekulize mol.  Unkekulized atoms: 15 16 18\n",
      "[14:43:37] Can't kekulize mol.  Unkekulized atoms: 2 3 4 23 24\n",
      "[14:43:37] SMILES Parse Error: extra close parentheses while parsing: CCO[C@H](c1ccc(OC)cc1)NC1CCN(C(=O)C(=O)Nc2cccc(C)c2)c2ccc([N+](=O)[O-])cc2)C1\n",
      "[14:43:37] SMILES Parse Error: Failed parsing SMILES 'CCO[C@H](c1ccc(OC)cc1)NC1CCN(C(=O)C(=O)Nc2cccc(C)c2)c2ccc([N+](=O)[O-])cc2)C1' for input: 'CCO[C@H](c1ccc(OC)cc1)NC1CCN(C(=O)C(=O)Nc2cccc(C)c2)c2ccc([N+](=O)[O-])cc2)C1'\n",
      "[14:43:37] SMILES Parse Error: extra open parentheses for input: 'CCC[C@](C)(NC(=O)[C@H]1CC(c2ccccc2[N+](=O)[O-])[C@@H](C)C1'\n",
      "[14:43:37] SMILES Parse Error: extra close parentheses while parsing: CCOc1nc(C)ccc1NC(=O)CN(CC)c1ccccc1[N+](=O)[O-])\n",
      "[14:43:37] SMILES Parse Error: Failed parsing SMILES 'CCOc1nc(C)ccc1NC(=O)CN(CC)c1ccccc1[N+](=O)[O-])' for input: 'CCOc1nc(C)ccc1NC(=O)CN(CC)c1ccccc1[N+](=O)[O-])'\n",
      "[14:43:37] SMILES Parse Error: unclosed ring for input: 'CCC[C@H](Cc1ccc([N+](=O)[O-])cc1)CC(=O)N1CCOC[C@]2(C)CC(=O)O'\n",
      "[14:43:37] SMILES Parse Error: unclosed ring for input: 'CCc1nn(C)c(N2CCC[C@H](OC)CC[C@H]23)ccc1[N+](=O)[O-]'\n",
      "[14:43:37] SMILES Parse Error: unclosed ring for input: 'CC(C)c1nc(CN2C(=O)Nc3cccc([N+](=O)[O-])c3nsnc3c2)C1'\n",
      "[14:43:37] Can't kekulize mol.  Unkekulized atoms: 5 6 7 8 23\n",
      "[14:43:37] SMILES Parse Error: extra open parentheses for input: 'CC(C)(CCc1noc(SCc2cc(C(=O)OC)ccc2[N+](=O)[O-])C1'\n",
      "[14:43:37] SMILES Parse Error: extra close parentheses while parsing: CCCN(CCNC(=O)c1cccnc1)c1ncccc1F)c1ncc([N+](=O)[O-])c(C)c1\n",
      "[14:43:37] SMILES Parse Error: Failed parsing SMILES 'CCCN(CCNC(=O)c1cccnc1)c1ncccc1F)c1ncc([N+](=O)[O-])c(C)c1' for input: 'CCCN(CCNC(=O)c1cccnc1)c1ncccc1F)c1ncc([N+](=O)[O-])c(C)c1'\n",
      "[14:43:37] Can't kekulize mol.  Unkekulized atoms: 6 7 8 9 13\n",
      "[14:43:37] SMILES Parse Error: unclosed ring for input: 'CC[C@H](C)CN1CC(=O)Nc1cccc([N+](=O)[O-])c1'\n",
      "[14:43:37] Can't kekulize mol.  Unkekulized atoms: 21 22 23\n",
      "[14:43:37] Can't kekulize mol.  Unkekulized atoms: 4 5 6 7 28\n",
      "[14:43:37] SMILES Parse Error: extra close parentheses while parsing: CCC1(CNC(=O)[C@H]2CCc4nc(C)ccc3[N+](=O)[O-])C2)c1C\n",
      "[14:43:37] SMILES Parse Error: Failed parsing SMILES 'CCC1(CNC(=O)[C@H]2CCc4nc(C)ccc3[N+](=O)[O-])C2)c1C' for input: 'CCC1(CNC(=O)[C@H]2CCc4nc(C)ccc3[N+](=O)[O-])C2)c1C'\n",
      "[14:43:37] SMILES Parse Error: extra close parentheses while parsing: CCc1nn(C)cc1C(=O)NCCCCNc1ccc([N+](=O)[O-])cc1)C(C)O\n",
      "[14:43:37] SMILES Parse Error: Failed parsing SMILES 'CCc1nn(C)cc1C(=O)NCCCCNc1ccc([N+](=O)[O-])cc1)C(C)O' for input: 'CCc1nn(C)cc1C(=O)NCCCCNc1ccc([N+](=O)[O-])cc1)C(C)O'\n",
      "[14:43:37] SMILES Parse Error: unclosed ring for input: 'CCN(CCNc1ncc([N+](=O)[O-])cc1F)C2'\n",
      "[14:43:37] SMILES Parse Error: extra open parentheses for input: 'CC[C@H](NCCNS(=O)(=O)c1cc(C)ccc1[N+](=O)[O-]'\n",
      "[14:43:37] SMILES Parse Error: unclosed ring for input: 'CC[C@@H](C)CN(CCn1ccc(C(=O)O)c2[nH]1)c1ccc([N+](=O)[O-])cc1F'\n",
      "[14:43:37] Can't kekulize mol.  Unkekulized atoms: 3 4 5 19 20\n",
      "[14:43:37] SMILES Parse Error: extra open parentheses for input: 'CC(C)Oc1nnc(-c2cc(C(=O)O[C@@H]2CC(=O)OC2)cc1[N+](=O)[O-]'\n",
      "[14:43:37] Can't kekulize mol.  Unkekulized atoms: 4 5 6\n",
      "[14:43:37] Can't kekulize mol.  Unkekulized atoms: 21\n",
      "[14:43:37] Can't kekulize mol.  Unkekulized atoms: 2 4 5 7 8\n",
      "[14:43:37] SMILES Parse Error: extra close parentheses while parsing: CCNc1ccc(C)cc1OCCOC)C2)c1ccc([N+](=O)[O-])cc1\n",
      "[14:43:37] SMILES Parse Error: Failed parsing SMILES 'CCNc1ccc(C)cc1OCCOC)C2)c1ccc([N+](=O)[O-])cc1' for input: 'CCNc1ccc(C)cc1OCCOC)C2)c1ccc([N+](=O)[O-])cc1'\n",
      "[14:43:37] Can't kekulize mol.  Unkekulized atoms: 18\n",
      "[14:43:37] SMILES Parse Error: unclosed ring for input: 'CC[C@@H](Cc1cc(C)S(=O)(=O)c1ccnc(O)c1[N+](=O)[O-])S(=O)(=O)C1(CO)CCC1'\n",
      "[14:43:37] SMILES Parse Error: extra open parentheses for input: 'CC(C)(C(=O)N1CCCC(CNC(C)(C)C)C[C@@H]1c1ncccc1[N+](=O)[O-]'\n",
      "[14:43:37] SMILES Parse Error: extra close parentheses while parsing: CC[C@H]1CNCc2cc(OCC(=O)OC)ccc2[N+](=O)[O-])C1\n",
      "[14:43:37] SMILES Parse Error: Failed parsing SMILES 'CC[C@H]1CNCc2cc(OCC(=O)OC)ccc2[N+](=O)[O-])C1' for input: 'CC[C@H]1CNCc2cc(OCC(=O)OC)ccc2[N+](=O)[O-])C1'\n",
      "[14:43:37] SMILES Parse Error: extra close parentheses while parsing: CC1(C)CNCCN1CCCNS(=O)(=O)c1ccc(C)cc1[N+](=O)[O-])C(=O)O\n",
      "[14:43:37] SMILES Parse Error: Failed parsing SMILES 'CC1(C)CNCCN1CCCNS(=O)(=O)c1ccc(C)cc1[N+](=O)[O-])C(=O)O' for input: 'CC1(C)CNCCN1CCCNS(=O)(=O)c1ccc(C)cc1[N+](=O)[O-])C(=O)O'\n",
      "[14:43:37] SMILES Parse Error: extra close parentheses while parsing: CCCCOC1(CN[C@H](C)c2cc(C)ccc2[N+](=O)[O-])OC)C1\n",
      "[14:43:37] SMILES Parse Error: Failed parsing SMILES 'CCCCOC1(CN[C@H](C)c2cc(C)ccc2[N+](=O)[O-])OC)C1' for input: 'CCCCOC1(CN[C@H](C)c2cc(C)ccc2[N+](=O)[O-])OC)C1'\n",
      "[14:43:37] SMILES Parse Error: extra open parentheses for input: 'CCCN(CCNC(=O)CCOc1ccccc1[N+](=O)[O-]'\n",
      "[14:43:37] SMILES Parse Error: unclosed ring for input: 'CCC(=O)(COCCNc1ncc(C)cc1[N+](=O)[O-])CCOCC1'\n",
      "[14:43:37] SMILES Parse Error: extra close parentheses while parsing: CC1(C)[C@H](OC)C[C@@H]1NC(=O)c1cccc([N+](=O)[O-])c1)C1CCOCC1\n",
      "[14:43:37] SMILES Parse Error: Failed parsing SMILES 'CC1(C)[C@H](OC)C[C@@H]1NC(=O)c1cccc([N+](=O)[O-])c1)C1CCOCC1' for input: 'CC1(C)[C@H](OC)C[C@@H]1NC(=O)c1cccc([N+](=O)[O-])c1)C1CCOCC1'\n",
      "[14:43:37] SMILES Parse Error: extra open parentheses for input: 'CCCC[C@@H](NC(=O)[C@@H](C)NC(=O)c1cc2c(c([N+](=O)[O-])c1'\n",
      "[14:43:37] SMILES Parse Error: extra close parentheses while parsing: CCCC[C@H](C)NC(=O)c1ccnc(=O)n1)c1cc2c(cc1[N+](=O)[O-])OCO2\n",
      "[14:43:37] SMILES Parse Error: Failed parsing SMILES 'CCCC[C@H](C)NC(=O)c1ccnc(=O)n1)c1cc2c(cc1[N+](=O)[O-])OCO2' for input: 'CCCC[C@H](C)NC(=O)c1ccnc(=O)n1)c1cc2c(cc1[N+](=O)[O-])OCO2'\n",
      "[14:43:37] SMILES Parse Error: extra open parentheses for input: 'CCC(=O)N1CC[C@@H](C)N(C(=O)Cc1ccc(F)cc1[N+](=O)[O-]'\n",
      "[14:43:37] Can't kekulize mol.  Unkekulized atoms: 5 6 7 8 15\n",
      "[14:43:37] SMILES Parse Error: extra close parentheses while parsing: CCc1nncn1CC(=O)Nc1cc(F)ccc1OC)c1nnc([C@H](C)[N+](=O)[O-])n1C\n",
      "[14:43:37] SMILES Parse Error: Failed parsing SMILES 'CCc1nncn1CC(=O)Nc1cc(F)ccc1OC)c1nnc([C@H](C)[N+](=O)[O-])n1C' for input: 'CCc1nncn1CC(=O)Nc1cc(F)ccc1OC)c1nnc([C@H](C)[N+](=O)[O-])n1C'\n",
      "[14:43:37] SMILES Parse Error: extra close parentheses while parsing: CC(C)COCCCS(=O)(=O)Oc1cc(C)cc(C)c1C)c1ccc(Cl)cc1[N+](=O)[O-]\n",
      "[14:43:37] SMILES Parse Error: Failed parsing SMILES 'CC(C)COCCCS(=O)(=O)Oc1cc(C)cc(C)c1C)c1ccc(Cl)cc1[N+](=O)[O-]' for input: 'CC(C)COCCCS(=O)(=O)Oc1cc(C)cc(C)c1C)c1ccc(Cl)cc1[N+](=O)[O-]'\n",
      "[14:43:37] SMILES Parse Error: extra open parentheses for input: 'CC(C)[C@@H](CNc1sc(-c2nn[nH]n2)cc1[N+](=O)[O-]'\n",
      "[14:43:37] Can't kekulize mol.  Unkekulized atoms: 4 5 6\n"
     ]
    },
    {
     "name": "stdout",
     "output_type": "stream",
     "text": [
      "Accuracy = 811/1911 = 42.44\n"
     ]
    },
    {
     "name": "stderr",
     "output_type": "stream",
     "text": [
      "[14:43:37] SMILES Parse Error: extra open parentheses for input: 'CC(C)Oc1nc(N[C@H]2C[C@H](N(C)Cc2ccccc2)c1[N+](=O)[O-]'\n",
      "[14:43:37] Can't kekulize mol.  Unkekulized atoms: 11 12 13\n",
      "[14:43:37] SMILES Parse Error: ring closure 1 duplicates bond between atom 2 and atom 19 for input: 'CCC1(C(=O)NCCNc2ccc([N+](=O)[O-])c(C)c2)c1C'\n",
      "[14:43:37] SMILES Parse Error: unclosed ring for input: 'CC[C@H]1CN(C[C@H](O)Cn2ccc3cccc([N+](=O)[O-])c2)c1=O'\n",
      "[14:43:37] SMILES Parse Error: extra close parentheses while parsing: CCN(CCc1ccccc1)C(=O)Cn1ncc2C(=O)OCc3cccc([N+](=O)[O-])cc23)C1\n",
      "[14:43:37] SMILES Parse Error: Failed parsing SMILES 'CCN(CCc1ccccc1)C(=O)Cn1ncc2C(=O)OCc3cccc([N+](=O)[O-])cc23)C1' for input: 'CCN(CCc1ccccc1)C(=O)Cn1ncc2C(=O)OCc3cccc([N+](=O)[O-])cc23)C1'\n",
      "[14:43:37] Can't kekulize mol.  Unkekulized atoms: 10 11 12 17 18\n",
      "[14:43:37] Can't kekulize mol.  Unkekulized atoms: 3 4 5\n",
      "[14:43:37] SMILES Parse Error: extra open parentheses for input: 'CCn1cc(C(=O)NCCN(C(=O)c2cc(OC)cc([N+](=O)[O-])c2)C[C@H]1C'\n",
      "[14:43:37] SMILES Parse Error: extra close parentheses while parsing: CCCN(CC)CCNC(=O)Nc1cc([N+](=O)[O-])ccc1OC)C(C)\n",
      "[14:43:37] SMILES Parse Error: Failed parsing SMILES 'CCCN(CC)CCNC(=O)Nc1cc([N+](=O)[O-])ccc1OC)C(C)' for input: 'CCCN(CC)CCNC(=O)Nc1cc([N+](=O)[O-])ccc1OC)C(C)'\n",
      "[14:43:37] SMILES Parse Error: unclosed ring for input: 'CCC(=O)N[C@H]1CCN(C(=O)c2cccc([N+](=O)[O-])c2)[C@@H]2C1'\n",
      "[14:43:37] SMILES Parse Error: extra open parentheses for input: 'CC(C)(C)OCc1nc(N(C)S(=O)(=O)c2ccc([N+](=O)[O-])cc2C1'\n",
      "[14:43:37] SMILES Parse Error: unclosed ring for input: 'CCc1ccc(CN2CCN(c3nc4ccccc4[N+](=O)[O-])CC2)OCCO1'\n",
      "[14:43:37] SMILES Parse Error: syntax error while parsing: CC(C)[C@H](C(=O)Oc1cc[c([N+](=O)[O-])cc1F)C(=O)OCC1CC1\n",
      "[14:43:37] SMILES Parse Error: Failed parsing SMILES 'CC(C)[C@H](C(=O)Oc1cc[c([N+](=O)[O-])cc1F)C(=O)OCC1CC1' for input: 'CC(C)[C@H](C(=O)Oc1cc[c([N+](=O)[O-])cc1F)C(=O)OCC1CC1'\n",
      "[14:43:37] SMILES Parse Error: extra close parentheses while parsing: CC1(C(=O)OCCN[C@@H]2[C@@H]3CNCc3cccc([N+](=O)[O-])c3)C2=O)o1\n",
      "[14:43:37] SMILES Parse Error: Failed parsing SMILES 'CC1(C(=O)OCCN[C@@H]2[C@@H]3CNCc3cccc([N+](=O)[O-])c3)C2=O)o1' for input: 'CC1(C(=O)OCCN[C@@H]2[C@@H]3CNCc3cccc([N+](=O)[O-])c3)C2=O)o1'\n",
      "[14:43:37] Can't kekulize mol.  Unkekulized atoms: 3 4 5 6 7\n",
      "[14:43:37] Can't kekulize mol.  Unkekulized atoms: 5 6 7 10 14\n",
      "[14:43:37] Can't kekulize mol.  Unkekulized atoms: 7 8 9 11 12\n",
      "[14:43:37] SMILES Parse Error: extra close parentheses while parsing: CCc1ncsc1C(=O)OCc1ccc(OC)cc1[N+](=O)[O-])OC\n",
      "[14:43:37] SMILES Parse Error: Failed parsing SMILES 'CCc1ncsc1C(=O)OCc1ccc(OC)cc1[N+](=O)[O-])OC' for input: 'CCc1ncsc1C(=O)OCc1ccc(OC)cc1[N+](=O)[O-])OC'\n",
      "[14:43:37] SMILES Parse Error: unclosed ring for input: 'CC(C)c1cc(C(=O)N[C@H]2[C@@H]3CN(c4ncccc4[N+](=O)[O-])[C@H]2CCOC2)CC1'\n",
      "[14:43:37] SMILES Parse Error: extra close parentheses while parsing: CCC1(CN[C@@H](C)CN2CCOc3ccc([N+](=O)[O-])cc3)C2)OCCO1\n",
      "[14:43:37] SMILES Parse Error: Failed parsing SMILES 'CCC1(CN[C@@H](C)CN2CCOc3ccc([N+](=O)[O-])cc3)C2)OCCO1' for input: 'CCC1(CN[C@@H](C)CN2CCOc3ccc([N+](=O)[O-])cc3)C2)OCCO1'\n",
      "[14:43:37] SMILES Parse Error: unclosed ring for input: 'CC1(C)[C@H](NC(=O)Nc2n[nH]c2ccc([N+](=O)[O-])cc2)cc1'\n",
      "[14:43:37] Can't kekulize mol.  Unkekulized atoms: 3 4 5 6 19\n",
      "[14:43:37] Can't kekulize mol.  Unkekulized atoms: 4 5 6\n",
      "[14:43:37] SMILES Parse Error: extra close parentheses while parsing: CC(C)(C)[S+](=O)[O-])Cc1noc(-c2cc(OCC(F)(F)F)ccc2[N+](=O)[O-])C1\n",
      "[14:43:37] SMILES Parse Error: Failed parsing SMILES 'CC(C)(C)[S+](=O)[O-])Cc1noc(-c2cc(OCC(F)(F)F)ccc2[N+](=O)[O-])C1' for input: 'CC(C)(C)[S+](=O)[O-])Cc1noc(-c2cc(OCC(F)(F)F)ccc2[N+](=O)[O-])C1'\n",
      "[14:43:37] Can't kekulize mol.  Unkekulized atoms: 18 19 24\n",
      "[14:43:37] SMILES Parse Error: extra close parentheses while parsing: CC(C)OC(=O)[C@H](C)N(CC(=O)OC)C(=O)Nc1cc(C)cc([N+](=O)[O-])c1)c1ccccn1\n",
      "[14:43:37] SMILES Parse Error: Failed parsing SMILES 'CC(C)OC(=O)[C@H](C)N(CC(=O)OC)C(=O)Nc1cc(C)cc([N+](=O)[O-])c1)c1ccccn1' for input: 'CC(C)OC(=O)[C@H](C)N(CC(=O)OC)C(=O)Nc1cc(C)cc([N+](=O)[O-])c1)c1ccccn1'\n",
      "[14:43:37] SMILES Parse Error: extra close parentheses while parsing: CCOC1C[C@H](NC(=O)Cn2ccc(=O)cc2)c([N+](=O)[O-])c1)C(=O)O\n",
      "[14:43:37] SMILES Parse Error: Failed parsing SMILES 'CCOC1C[C@H](NC(=O)Cn2ccc(=O)cc2)c([N+](=O)[O-])c1)C(=O)O' for input: 'CCOC1C[C@H](NC(=O)Cn2ccc(=O)cc2)c([N+](=O)[O-])c1)C(=O)O'\n",
      "[14:43:37] SMILES Parse Error: extra open parentheses for input: 'CC(C)n1cc(C(=O)N[C@@H]2COC[C@H](NC(=O)[C@@H](O)c3ccccc2)c1[N+](=O)[O-]'\n",
      "[14:43:37] Can't kekulize mol.  Unkekulized atoms: 3 4 5\n",
      "[14:43:37] Can't kekulize mol.  Unkekulized atoms: 3 4 5 6 20\n",
      "[14:43:37] Can't kekulize mol.  Unkekulized atoms: 3 4 5\n",
      "[14:43:37] SMILES Parse Error: extra close parentheses while parsing: CCN1[C@@H](C)[C@H](C)NC(=O)CNC(=O)c2cc([N+](=O)[O-])ccc2O)C1\n",
      "[14:43:37] SMILES Parse Error: Failed parsing SMILES 'CCN1[C@@H](C)[C@H](C)NC(=O)CNC(=O)c2cc([N+](=O)[O-])ccc2O)C1' for input: 'CCN1[C@@H](C)[C@H](C)NC(=O)CNC(=O)c2cc([N+](=O)[O-])ccc2O)C1'\n",
      "[14:43:37] Can't kekulize mol.  Unkekulized atoms: 5 6 7 8 13\n",
      "[14:43:37] SMILES Parse Error: extra close parentheses while parsing: CCOCC[C@H]1CN(C(=O)c2cc3cccc(C)c3[N+](=O)[O-])C2)c1\n",
      "[14:43:37] SMILES Parse Error: Failed parsing SMILES 'CCOCC[C@H]1CN(C(=O)c2cc3cccc(C)c3[N+](=O)[O-])C2)c1' for input: 'CCOCC[C@H]1CN(C(=O)c2cc3cccc(C)c3[N+](=O)[O-])C2)c1'\n",
      "[14:43:37] SMILES Parse Error: unclosed ring for input: 'CCc1cnccc1NC(=O)NCCc1ccc([N+](=O)[O-])cc11C'\n",
      "[14:43:37] SMILES Parse Error: extra open parentheses for input: 'CC(C)(C)[C@H](NC(=O)Cc1ccccc1[N+](=O)[O-]'\n",
      "[14:43:37] SMILES Parse Error: extra open parentheses for input: 'CC(=O)N1CCC(CNc2ccc(OC(F)F)cc2[N+](=O)[O-]'\n",
      "[14:43:37] Can't kekulize mol.  Unkekulized atoms: 6 7 8 9 17 18 19\n",
      "[14:43:37] SMILES Parse Error: extra open parentheses for input: 'CC(C)[C@](C)(NC(=O)c1cn(C)c(-c2cccc([N+](=O)[O-])c2)CC1=O'\n",
      "[14:43:37] SMILES Parse Error: unclosed ring for input: 'CCOCC[C@]1(C)CO'\n",
      "[14:43:37] SMILES Parse Error: extra close parentheses while parsing: CCOCCOCc1cc(C(N)=O)ccc1[N+](=O)[O-])C(=O)N1CCOCC1\n",
      "[14:43:37] SMILES Parse Error: Failed parsing SMILES 'CCOCCOCc1cc(C(N)=O)ccc1[N+](=O)[O-])C(=O)N1CCOCC1' for input: 'CCOCCOCc1cc(C(N)=O)ccc1[N+](=O)[O-])C(=O)N1CCOCC1'\n",
      "[14:43:37] Can't kekulize mol.  Unkekulized atoms: 16\n",
      "[14:43:37] SMILES Parse Error: extra open parentheses for input: 'CC[C@@H](Cc1ccc([N+](=O)[O-])cc1)C(=O)N1CCC(N(C)CC(S(=O)(=O)NC)CC1'\n",
      "[14:43:37] SMILES Parse Error: unclosed ring for input: 'CCNC(=O)[C@H]1CCCN(S(=O)(=O)c2ccc([N+](=O)[O-])c(N2C)CCC(=O)N2)c1'\n",
      "[14:43:37] Can't kekulize mol.  Unkekulized atoms: 3 4 5 6 10 18 19\n",
      "[14:43:37] SMILES Parse Error: extra open parentheses for input: 'CC[C@H](c1n[nH]c(CCNC(=O)CN(CCc2ccccc2[N+](=O)[O-])C1'\n",
      "[14:43:37] SMILES Parse Error: extra open parentheses for input: 'CCOC(=O)CN(CC(=O)Nc1ccc([N+](=O)[O-])cc1C'\n",
      "[14:43:37] SMILES Parse Error: extra close parentheses while parsing: CCC(=O)Nc1cc(OCCC(O)(C)=O)ccc1[N+](=O)[O-])c1cccnc1\n",
      "[14:43:37] SMILES Parse Error: Failed parsing SMILES 'CCC(=O)Nc1cc(OCCC(O)(C)=O)ccc1[N+](=O)[O-])c1cccnc1' for input: 'CCC(=O)Nc1cc(OCCC(O)(C)=O)ccc1[N+](=O)[O-])c1cccnc1'\n",
      "[14:43:37] Can't kekulize mol.  Unkekulized atoms: 9 10 11 12 18\n",
      "[14:43:37] SMILES Parse Error: extra close parentheses while parsing: CCc1cc(C(=O)N)cnc1N1CCc2ccccc2OC(=O)CCOCC2)c1[N+](=O)[O-]\n",
      "[14:43:37] SMILES Parse Error: Failed parsing SMILES 'CCc1cc(C(=O)N)cnc1N1CCc2ccccc2OC(=O)CCOCC2)c1[N+](=O)[O-]' for input: 'CCc1cc(C(=O)N)cnc1N1CCc2ccccc2OC(=O)CCOCC2)c1[N+](=O)[O-]'\n",
      "[14:43:37] Explicit valence for atom # 20 S, 7, is greater than permitted\n",
      "[14:43:37] SMILES Parse Error: extra close parentheses while parsing: CCCCC[C@@H]1CN(C)S(=O)(=O)c1ccc([N+](=O)[O-])cc2)C1\n",
      "[14:43:37] SMILES Parse Error: Failed parsing SMILES 'CCCCC[C@@H]1CN(C)S(=O)(=O)c1ccc([N+](=O)[O-])cc2)C1' for input: 'CCCCC[C@@H]1CN(C)S(=O)(=O)c1ccc([N+](=O)[O-])cc2)C1'\n",
      "[14:43:37] Can't kekulize mol.  Unkekulized atoms: 11 12 14 20 24\n",
      "[14:43:37] SMILES Parse Error: extra open parentheses for input: 'CCc1nc(C(=O)N2CCN([C@@H]3CCC[C@H](C)[N+](=O)[O-])[C@H]2C1'\n",
      "[14:43:37] Can't kekulize mol.  Unkekulized atoms: 3 5 6\n",
      "[14:43:37] SMILES Parse Error: extra open parentheses for input: 'CCC[C@]2(C)C[C@@H](C(=O)NS(=O)(=O)Cc1cccc([N+](=O)[O-])c1'\n",
      "[14:43:37] SMILES Parse Error: extra close parentheses while parsing: CCO[C@@H]1CCCN(C)CC1)c1nnc([N+](=O)[O-])cn1\n",
      "[14:43:37] SMILES Parse Error: Failed parsing SMILES 'CCO[C@@H]1CCCN(C)CC1)c1nnc([N+](=O)[O-])cn1' for input: 'CCO[C@@H]1CCCN(C)CC1)c1nnc([N+](=O)[O-])cn1'\n",
      "[14:43:37] SMILES Parse Error: unclosed ring for input: 'CCO[C@@H]1CCCN(C(=O)N[C@@H]2C(=O)OCc2ccccc2[N+](=O)[O-])s1'\n",
      "[14:43:37] SMILES Parse Error: unclosed ring for input: 'CCC[C@H]1CNCC[C@@H](C)NS(=O)(=O)c1ccc(F)c([N+](=O)[O-])c1'\n",
      "[14:43:37] SMILES Parse Error: extra close parentheses while parsing: CCN(CC(C)(C)C)C(=O)COc1ccccc1[N+](=O)[O-])C[C@H]1CCCNC1=O\n",
      "[14:43:37] SMILES Parse Error: Failed parsing SMILES 'CCN(CC(C)(C)C)C(=O)COc1ccccc1[N+](=O)[O-])C[C@H]1CCCNC1=O' for input: 'CCN(CC(C)(C)C)C(=O)COc1ccccc1[N+](=O)[O-])C[C@H]1CCCNC1=O'\n",
      "[14:43:37] Can't kekulize mol.  Unkekulized atoms: 4\n",
      "[14:43:37] SMILES Parse Error: extra close parentheses while parsing: CCOC(=O)[C@H](O)COC(=O)Cn1cnc2ccc([N+](=O)[O-])cc2)n1\n",
      "[14:43:37] SMILES Parse Error: Failed parsing SMILES 'CCOC(=O)[C@H](O)COC(=O)Cn1cnc2ccc([N+](=O)[O-])cc2)n1' for input: 'CCOC(=O)[C@H](O)COC(=O)Cn1cnc2ccc([N+](=O)[O-])cc2)n1'\n",
      "[14:43:37] Can't kekulize mol.  Unkekulized atoms: 2 3 4 5 9\n",
      "[14:43:37] Can't kekulize mol.  Unkekulized atoms: 8 9 10 11 12\n",
      "[14:43:37] SMILES Parse Error: extra open parentheses for input: 'CCN1CCCN(CCNc2ccc([N+](=O)[O-])c(-c2cccc(C)n2)CCO1'\n",
      "[14:43:37] SMILES Parse Error: extra open parentheses for input: 'CCc1cc(C(=O)N(CCn2ccc([N+](=O)[O-])c2)no1'\n",
      "[14:43:37] Can't kekulize mol.  Unkekulized atoms: 4 5 6\n",
      "[14:43:37] SMILES Parse Error: extra close parentheses while parsing: CC1CCN(CCNC(=O)c2cc3cc([N+](=O)[O-])ccc4o3)cn2)C1\n",
      "[14:43:37] SMILES Parse Error: Failed parsing SMILES 'CC1CCN(CCNC(=O)c2cc3cc([N+](=O)[O-])ccc4o3)cn2)C1' for input: 'CC1CCN(CCNC(=O)c2cc3cc([N+](=O)[O-])ccc4o3)cn2)C1'\n",
      "[14:43:37] SMILES Parse Error: extra open parentheses for input: 'CCC[C@H](NS(=O)(=O)c1cc(Cl)c(C)cc1[N+](=O)[O-]'\n",
      "[14:43:37] SMILES Parse Error: extra close parentheses while parsing: CCCc1[nH]nc(C(=O)N2CC=CCC[C@@H]3C2)CC1)c1nccc(O)c1[N+](=O)[O-])[N+](=O)[O-])[C@@H]1CCCOC1\n",
      "[14:43:37] SMILES Parse Error: Failed parsing SMILES 'CCCc1[nH]nc(C(=O)N2CC=CCC[C@@H]3C2)CC1)c1nccc(O)c1[N+](=O)[O-])[N+](=O)[O-])[C@@H]1CCCOC1' for input: 'CCCc1[nH]nc(C(=O)N2CC=CCC[C@@H]3C2)CC1)c1nccc(O)c1[N+](=O)[O-])[N+](=O)[O-])[C@@H]1CCCOC1'\n",
      "[14:43:37] SMILES Parse Error: extra close parentheses while parsing: CCN(CC(=O)NCCC1CC1)c1ccc([N+](=O)[O-])cc1)C(C)C\n",
      "[14:43:37] SMILES Parse Error: Failed parsing SMILES 'CCN(CC(=O)NCCC1CC1)c1ccc([N+](=O)[O-])cc1)C(C)C' for input: 'CCN(CC(=O)NCCC1CC1)c1ccc([N+](=O)[O-])cc1)C(C)C'\n",
      "[14:43:37] Can't kekulize mol.  Unkekulized atoms: 3 4 5\n",
      "[14:43:37] Can't kekulize mol.  Unkekulized atoms: 2 3 4 5 23\n",
      "[14:43:37] SMILES Parse Error: extra open parentheses for input: 'CC(C)C[C@@H]1CCCN(C(=O)c2cc(C(=O)O[C@@H](C)[C@H](C)[nH]2)ccc1[N+](=O)[O-]'\n",
      "[14:43:37] Can't kekulize mol.  Unkekulized atoms: 11 12 13 17 19\n",
      "[14:43:37] Can't kekulize mol.  Unkekulized atoms: 2 3 4 5 19\n",
      "[14:43:37] SMILES Parse Error: extra open parentheses for input: 'CC(=O)Nc1cccc(OCC(=O)N[C@H](c2ncccc2)CCN1C(=O)c1cc(F)cc([N+](=O)[O-])c1'\n",
      "[14:43:37] SMILES Parse Error: extra open parentheses for input: 'CC[C@@H](N1CCC(NC(=O)c2ccc(NC)c([N+](=O)[O-])c2)c1C'\n",
      "[14:43:37] SMILES Parse Error: extra close parentheses while parsing: CC(=O)COC(=O)CN(C1CCC1)c1ccc([N+](=O)[O-])cc1)C(=O)NC[C@@H](C)OCOC\n",
      "[14:43:37] SMILES Parse Error: Failed parsing SMILES 'CC(=O)COC(=O)CN(C1CCC1)c1ccc([N+](=O)[O-])cc1)C(=O)NC[C@@H](C)OCOC' for input: 'CC(=O)COC(=O)CN(C1CCC1)c1ccc([N+](=O)[O-])cc1)C(=O)NC[C@@H](C)OCOC'\n",
      "[14:43:37] Can't kekulize mol.  Unkekulized atoms: 13 14 15 20 21\n",
      "[14:43:37] SMILES Parse Error: extra close parentheses while parsing: CCOc1ccnc(N2CCC(F)(F)F)C[C@H]2)cc1[N+](=O)[O-]\n",
      "[14:43:37] SMILES Parse Error: Failed parsing SMILES 'CCOc1ccnc(N2CCC(F)(F)F)C[C@H]2)cc1[N+](=O)[O-]' for input: 'CCOc1ccnc(N2CCC(F)(F)F)C[C@H]2)cc1[N+](=O)[O-]'\n",
      "[14:43:37] SMILES Parse Error: extra close parentheses while parsing: CC(C)n1cc(CN2CCN(C(=O)CCC(C)C)C2)ccc1[N+](=O)[O-])CC1CCCOCC1\n",
      "[14:43:37] SMILES Parse Error: Failed parsing SMILES 'CC(C)n1cc(CN2CCN(C(=O)CCC(C)C)C2)ccc1[N+](=O)[O-])CC1CCCOCC1' for input: 'CC(C)n1cc(CN2CCN(C(=O)CCC(C)C)C2)ccc1[N+](=O)[O-])CC1CCCOCC1'\n",
      "[14:43:37] Can't kekulize mol.  Unkekulized atoms: 10\n",
      "[14:43:37] SMILES Parse Error: unclosed ring for input: 'CC(C)[C@@H](NC(=O)CNC(=O)CSc1ccc(OC)c([N+](=O)[O-])c1)C1CN(Cc1ncon1)C(C)C'\n",
      "[14:43:37] Can't kekulize mol.  Unkekulized atoms: 2 4 5\n",
      "[14:43:37] Can't kekulize mol.  Unkekulized atoms: 3 4 5\n",
      "[14:43:37] SMILES Parse Error: unclosed ring for input: 'CC[C@H]1CCCN(CN2CCCN(CCc3nc(C)[nH]c4ccccc3[N+](=O)[O-])CC=O2)C1'\n",
      "[14:43:37] SMILES Parse Error: extra close parentheses while parsing: CCN(CCc1ccccc1)C[C@@H](C)NC(=O)Cn1cc([N+](=O)[O-])cn1)CC(C)C\n",
      "[14:43:37] SMILES Parse Error: Failed parsing SMILES 'CCN(CCc1ccccc1)C[C@@H](C)NC(=O)Cn1cc([N+](=O)[O-])cn1)CC(C)C' for input: 'CCN(CCc1ccccc1)C[C@@H](C)NC(=O)Cn1cc([N+](=O)[O-])cn1)CC(C)C'\n",
      "[14:43:37] SMILES Parse Error: extra close parentheses while parsing: CCO[C@@H]1CCCO[C@H]1C(=O)NCc1nc2cc([N+](=O)[O-])ccc21)c1ccccc1\n",
      "[14:43:37] SMILES Parse Error: Failed parsing SMILES 'CCO[C@@H]1CCCO[C@H]1C(=O)NCc1nc2cc([N+](=O)[O-])ccc21)c1ccccc1' for input: 'CCO[C@@H]1CCCO[C@H]1C(=O)NCc1nc2cc([N+](=O)[O-])ccc21)c1ccccc1'\n",
      "[14:43:37] SMILES Parse Error: unclosed ring for input: 'CCOC(=O)CCC1CCN(C(=O)c2cc([N+](=O)[O-])ccc2OCOC2)c1C'\n",
      "[14:43:37] SMILES Parse Error: unclosed ring for input: 'CC(C)n1cc(C(=O)N2CCc3ccc([C@H]3CCNC3)C2)ccc1[N+](=O)[O-]'\n",
      "[14:43:37] SMILES Parse Error: extra close parentheses while parsing: CCOC1CCN(C(=O)Cn2ccc3cc([N+](=O)[O-])ccn3)C2)n1\n",
      "[14:43:37] SMILES Parse Error: Failed parsing SMILES 'CCOC1CCN(C(=O)Cn2ccc3cc([N+](=O)[O-])ccn3)C2)n1' for input: 'CCOC1CCN(C(=O)Cn2ccc3cc([N+](=O)[O-])ccn3)C2)n1'\n",
      "[14:43:37] SMILES Parse Error: ring closure 1 duplicates bond between atom 3 and atom 19 for input: 'CCOC1(C(=O)NCCNc2ccc([N+](=O)[O-])cc2)C1'\n",
      "[14:43:37] SMILES Parse Error: extra open parentheses for input: 'CCc1ccc(CN(c2ccnc(O)c2[N+](=O)[O-])CCOCC1'\n",
      "[14:43:37] SMILES Parse Error: extra close parentheses while parsing: CCOC(=O)CCN1C(=O)c1n[nH]c(C)c1[N+](=O)[O-])C(=O)O\n",
      "[14:43:37] SMILES Parse Error: Failed parsing SMILES 'CCOC(=O)CCN1C(=O)c1n[nH]c(C)c1[N+](=O)[O-])C(=O)O' for input: 'CCOC(=O)CCN1C(=O)c1n[nH]c(C)c1[N+](=O)[O-])C(=O)O'\n",
      "[14:43:37] SMILES Parse Error: syntax error while parsing: CCOc1cc([N+](=O)[O-])c[c2cccc(n2)C1)c1nnc[nH]1\n",
      "[14:43:37] SMILES Parse Error: Failed parsing SMILES 'CCOc1cc([N+](=O)[O-])c[c2cccc(n2)C1)c1nnc[nH]1' for input: 'CCOc1cc([N+](=O)[O-])c[c2cccc(n2)C1)c1nnc[nH]1'\n",
      "[14:43:37] Can't kekulize mol.  Unkekulized atoms: 5 6 20\n",
      "[14:43:37] SMILES Parse Error: extra close parentheses while parsing: CCN1CC[C@H]2CN(c3nc(C)cccc3[N+](=O)[O-])C2)CC1\n",
      "[14:43:37] SMILES Parse Error: Failed parsing SMILES 'CCN1CC[C@H]2CN(c3nc(C)cccc3[N+](=O)[O-])C2)CC1' for input: 'CCN1CC[C@H]2CN(c3nc(C)cccc3[N+](=O)[O-])C2)CC1'\n",
      "[14:43:37] Can't kekulize mol.  Unkekulized atoms: 3 4 5 6 7 18 22\n",
      "[14:43:37] SMILES Parse Error: extra close parentheses while parsing: CC(C)CC(=O)N[C@H](CCO)NC(=O)c1cc(C)on1)c1ccc([N+](=O)[O-])cc1F\n",
      "[14:43:37] SMILES Parse Error: Failed parsing SMILES 'CC(C)CC(=O)N[C@H](CCO)NC(=O)c1cc(C)on1)c1ccc([N+](=O)[O-])cc1F' for input: 'CC(C)CC(=O)N[C@H](CCO)NC(=O)c1cc(C)on1)c1ccc([N+](=O)[O-])cc1F'\n",
      "[14:43:37] SMILES Parse Error: extra open parentheses for input: 'CC[C@@H](NC(=O)c1ccc(OC)c([N+](=O)[O-])c1'\n",
      "[14:43:37] SMILES Parse Error: extra close parentheses while parsing: CCCOc1cc(C(=O)OCCOC)ccc1OC)C(=O)OCC\n",
      "[14:43:37] SMILES Parse Error: Failed parsing SMILES 'CCCOc1cc(C(=O)OCCOC)ccc1OC)C(=O)OCC' for input: 'CCCOc1cc(C(=O)OCCOC)ccc1OC)C(=O)OCC'\n",
      "[14:43:37] SMILES Parse Error: unclosed ring for input: 'CC(C)C[C@H]1NC1CCN(c2ncc(C(=O)O)cc2[N+](=O)[O-])CC1'\n",
      "[14:43:37] Can't kekulize mol.  Unkekulized atoms: 14 15 16 17 23 24 25\n",
      "[14:43:37] SMILES Parse Error: extra open parentheses for input: 'CC(C)[C@H](NC(=O)c1c[nH]ccc1[N+](=O)[O-]'\n",
      "[14:43:37] SMILES Parse Error: unclosed ring for input: 'CC(C)[C@@H](C)N(C)C(=O)CCCNC(=O)c1cccc([N+](=O)[O-])c12'\n",
      "[14:43:37] SMILES Parse Error: extra open parentheses for input: 'CCN(CCNc1ccc(C)cc1[N+](=O)[O-]'\n",
      "[14:43:37] SMILES Parse Error: extra close parentheses while parsing: CCn1nc(C)c([N+](=O)[O-])c1CNc1ccc(C(F)(F)F)cc1)S(=O)(=O)[C@@H]1C[C@@H]2C1\n",
      "[14:43:37] SMILES Parse Error: Failed parsing SMILES 'CCn1nc(C)c([N+](=O)[O-])c1CNc1ccc(C(F)(F)F)cc1)S(=O)(=O)[C@@H]1C[C@@H]2C1' for input: 'CCn1nc(C)c([N+](=O)[O-])c1CNc1ccc(C(F)(F)F)cc1)S(=O)(=O)[C@@H]1C[C@@H]2C1'\n",
      "[14:43:37] SMILES Parse Error: extra open parentheses for input: 'CCCN(CCNC(=O)c1n[nH]cc1C(=O)N(c1ccccc1[N+](=O)[O-])C1CCOCC1'\n",
      "[14:43:37] SMILES Parse Error: extra close parentheses while parsing: CCC(CC)[C@H](C(=O)O)N(C)Cc1cccc([N+](=O)[O-])c1C)OCC\n",
      "[14:43:37] SMILES Parse Error: Failed parsing SMILES 'CCC(CC)[C@H](C(=O)O)N(C)Cc1cccc([N+](=O)[O-])c1C)OCC' for input: 'CCC(CC)[C@H](C(=O)O)N(C)Cc1cccc([N+](=O)[O-])c1C)OCC'\n",
      "[14:43:37] SMILES Parse Error: unclosed ring for input: 'CC(C)(C)CNC[C@H]1NC(=O)Nc1cc(C)c(F)cc1[N+](=O)[O-]'\n",
      "[14:43:37] SMILES Parse Error: unclosed ring for input: 'CC1(C)CN(C(=O)[C@@H]2C[C@H]2C[C@@H]2C)c1[N+](=O)[O-]'\n",
      "[14:43:37] SMILES Parse Error: unclosed ring for input: 'CC[C@H]1NC(=O)N(C)CCN(Cc1ccccc1[N+](=O)[O-])N1CCOCC1'\n",
      "[14:43:37] Can't kekulize mol.  Unkekulized atoms: 4 5 6\n",
      "[14:43:37] SMILES Parse Error: ring closure 1 duplicates bond between atom 5 and atom 19 for input: 'CCC(=O)NC1(CNc2nc3sccn3c2[N+](=O)[O-])C1=O'\n",
      "[14:43:37] Can't kekulize mol.  Unkekulized atoms: 3 4 6\n",
      "[14:43:37] SMILES Parse Error: unclosed ring for input: 'CC(=O)NC[C@@H]1COC[C@H]1CCCO1'\n",
      "[14:43:37] SMILES Parse Error: extra close parentheses while parsing: CCC(C)(CO)CNC(=O)c1ccccc1[N+](=O)[O-])OCC\n",
      "[14:43:37] SMILES Parse Error: Failed parsing SMILES 'CCC(C)(CO)CNC(=O)c1ccccc1[N+](=O)[O-])OCC' for input: 'CCC(C)(CO)CNC(=O)c1ccccc1[N+](=O)[O-])OCC'\n",
      "[14:43:37] SMILES Parse Error: unclosed ring for input: 'CCOc1cc(C(=O)O[C@@H](C)c2nnc(CC2CC2)C1)c1cccc([N+](=O)[O-])c1'\n",
      "[14:43:37] SMILES Parse Error: extra close parentheses while parsing: CCN(CCNC(=O)c1cncs1)C1CC1)c1ccc(F)cc1[N+](=O)[O-]\n",
      "[14:43:37] SMILES Parse Error: Failed parsing SMILES 'CCN(CCNC(=O)c1cncs1)C1CC1)c1ccc(F)cc1[N+](=O)[O-]' for input: 'CCN(CCNC(=O)c1cncs1)C1CC1)c1ccc(F)cc1[N+](=O)[O-]'\n",
      "[14:43:37] Can't kekulize mol.  Unkekulized atoms: 3 4 5 6 7\n",
      "[14:43:37] SMILES Parse Error: unclosed ring for input: 'CC1(C)C[C@H]2CN(c2ccc([N+](=O)[O-])cc2)CC1'\n",
      "[14:43:37] SMILES Parse Error: unclosed ring for input: 'CC(=O)N1CC[C@H](c2)C1'\n",
      "[14:43:37] SMILES Parse Error: unclosed ring for input: 'CCCc1CN(C)C[C@@H](C)NS(=O)(=O)c1ccc([N+](=O)[O-])c(C)c1'\n",
      "[14:43:37] SMILES Parse Error: extra close parentheses while parsing: CC(C)c1ocnc1C(=O)NC[C@@H]1CCNCC1CCN(C(F)(F)F)c1cccc([N+](=O)[O-])c1)C(C)C\n",
      "[14:43:37] SMILES Parse Error: Failed parsing SMILES 'CC(C)c1ocnc1C(=O)NC[C@@H]1CCNCC1CCN(C(F)(F)F)c1cccc([N+](=O)[O-])c1)C(C)C' for input: 'CC(C)c1ocnc1C(=O)NC[C@@H]1CCNCC1CCN(C(F)(F)F)c1cccc([N+](=O)[O-])c1)C(C)C'\n",
      "[14:43:37] SMILES Parse Error: extra close parentheses while parsing: CCO[C@@H]1C[C@H](NC(=O)N[C@H](C)C(=O)OCc2nc3cc(OC)ccc3[N+](=O)[O-])n2)CC1\n",
      "[14:43:37] SMILES Parse Error: Failed parsing SMILES 'CCO[C@@H]1C[C@H](NC(=O)N[C@H](C)C(=O)OCc2nc3cc(OC)ccc3[N+](=O)[O-])n2)CC1' for input: 'CCO[C@@H]1C[C@H](NC(=O)N[C@H](C)C(=O)OCc2nc3cc(OC)ccc3[N+](=O)[O-])n2)CC1'\n",
      "[14:43:37] SMILES Parse Error: extra close parentheses while parsing: CC(C)OC(=O)CN[C@@H]1CCCN(c2nnc3sccc3c([N+](=O)[O-])c4)noc2=O)c1\n",
      "[14:43:37] SMILES Parse Error: Failed parsing SMILES 'CC(C)OC(=O)CN[C@@H]1CCCN(c2nnc3sccc3c([N+](=O)[O-])c4)noc2=O)c1' for input: 'CC(C)OC(=O)CN[C@@H]1CCCN(c2nnc3sccc3c([N+](=O)[O-])c4)noc2=O)c1'\n",
      "[14:43:37] Can't kekulize mol.  Unkekulized atoms: 10 11 12 13 14 15 16 17 18 19 25\n",
      "[14:43:37] Explicit valence for atom # 13 C, 5, is greater than permitted\n",
      "[14:43:37] SMILES Parse Error: ring closure 1 duplicates bond between atom 6 and atom 20 for input: 'CCOC(=O)NC1(C(=O)Nc2cc(Cl)ccc2[N+](=O)[O-])C1'\n",
      "[14:43:37] SMILES Parse Error: extra close parentheses while parsing: CCN(CCNC(=O)c1ccco1)c1ncccc1NC(=O)c1n[nH]c2ccc([N+](=O)[O-])cc1)C2\n",
      "[14:43:37] SMILES Parse Error: Failed parsing SMILES 'CCN(CCNC(=O)c1ccco1)c1ncccc1NC(=O)c1n[nH]c2ccc([N+](=O)[O-])cc1)C2' for input: 'CCN(CCNC(=O)c1ccco1)c1ncccc1NC(=O)c1n[nH]c2ccc([N+](=O)[O-])cc1)C2'\n",
      "[14:43:37] SMILES Parse Error: extra open parentheses for input: 'CC[C@H](CS(=O)(=O)Oc1ccccc1[N+](=O)[O-]'\n",
      "[14:43:37] SMILES Parse Error: extra close parentheses while parsing: CCCc1[nH]nc(C(=O)NCCN2CCCCC2)c1n[nH]c(=O)c1C)c1cc(F)ccc1F)c1ncccc1[N+](=O)[O-])C2\n",
      "[14:43:37] SMILES Parse Error: Failed parsing SMILES 'CCCc1[nH]nc(C(=O)NCCN2CCCCC2)c1n[nH]c(=O)c1C)c1cc(F)ccc1F)c1ncccc1[N+](=O)[O-])C2' for input: 'CCCc1[nH]nc(C(=O)NCCN2CCCCC2)c1n[nH]c(=O)c1C)c1cc(F)ccc1F)c1ncccc1[N+](=O)[O-])C2'\n",
      "[14:43:37] Can't kekulize mol.  Unkekulized atoms: 21\n",
      "[14:43:37] SMILES Parse Error: unclosed ring for input: 'CC[C@H](Cc2ccc([N+](=O)[O-])cc2)n1CC'\n",
      "[14:43:37] SMILES Parse Error: extra open parentheses for input: 'CC[C@H](C)[C@H](CNC(=O)Cc1c[nH]c2cccc([N+](=O)[O-])c12'\n",
      "[14:43:37] Can't kekulize mol.  Unkekulized atoms: 23 24 25 27 28\n",
      "[14:43:37] Can't kekulize mol.  Unkekulized atoms: 5 6 7\n",
      "[14:43:37] SMILES Parse Error: extra close parentheses while parsing: CCn1nccn1)c1ccc([N+](=O)[O-])cc1F)C(=O)OCCOCC\n",
      "[14:43:37] SMILES Parse Error: Failed parsing SMILES 'CCn1nccn1)c1ccc([N+](=O)[O-])cc1F)C(=O)OCCOCC' for input: 'CCn1nccn1)c1ccc([N+](=O)[O-])cc1F)C(=O)OCCOCC'\n",
      "[14:43:37] SMILES Parse Error: extra close parentheses while parsing: CCC1(C(=O)N2C[C@H]3CC[C@@H](C2)N3c2nc4ccccc4[N+](=O)[O-])C(CC(=O)O)CC2)ncn1\n",
      "[14:43:37] SMILES Parse Error: Failed parsing SMILES 'CCC1(C(=O)N2C[C@H]3CC[C@@H](C2)N3c2nc4ccccc4[N+](=O)[O-])C(CC(=O)O)CC2)ncn1' for input: 'CCC1(C(=O)N2C[C@H]3CC[C@@H](C2)N3c2nc4ccccc4[N+](=O)[O-])C(CC(=O)O)CC2)ncn1'\n",
      "[14:43:37] SMILES Parse Error: extra close parentheses while parsing: CC(C)COc1ccc([C@H](C)N[C@H]2CCc3ccc(C)cn2)n1)[N+](=O)[O-]\n",
      "[14:43:37] SMILES Parse Error: Failed parsing SMILES 'CC(C)COc1ccc([C@H](C)N[C@H]2CCc3ccc(C)cn2)n1)[N+](=O)[O-]' for input: 'CC(C)COc1ccc([C@H](C)N[C@H]2CCc3ccc(C)cn2)n1)[N+](=O)[O-]'\n",
      "[14:43:37] SMILES Parse Error: extra open parentheses for input: 'CC(C)Oc1nc(CCC[C@]2(NC(=O)[C@@H]2CCOCC2)cc1[N+](=O)[O-]'\n",
      "[14:43:37] SMILES Parse Error: unclosed ring for input: 'CCN1CC[C@@H](CNC(=O)Nc1cc(OC)ccc1[N+](=O)[O-])C2'\n",
      "[14:43:37] Can't kekulize mol.  Unkekulized atoms: 17\n",
      "[14:43:37] SMILES Parse Error: syntax error while parsing: CC(=O)N1CCC[C@@]((C)(CO)CN(C(=O)c2ccc([N+](=O)[O-])cc2F)c(C)cc1\n",
      "[14:43:37] SMILES Parse Error: Failed parsing SMILES 'CC(=O)N1CCC[C@@]((C)(CO)CN(C(=O)c2ccc([N+](=O)[O-])cc2F)c(C)cc1' for input: 'CC(=O)N1CCC[C@@]((C)(CO)CN(C(=O)c2ccc([N+](=O)[O-])cc2F)c(C)cc1'\n",
      "[14:43:37] SMILES Parse Error: extra close parentheses while parsing: CCOC(=O)c1cnc(NC2CN(Cc3ccccc3[N+](=O)[O-])CC2)n1)OCC\n",
      "[14:43:37] SMILES Parse Error: Failed parsing SMILES 'CCOC(=O)c1cnc(NC2CN(Cc3ccccc3[N+](=O)[O-])CC2)n1)OCC' for input: 'CCOC(=O)c1cnc(NC2CN(Cc3ccccc3[N+](=O)[O-])CC2)n1)OCC'\n",
      "[14:43:37] Can't kekulize mol.  Unkekulized atoms: 7 8 9 10 16 17 18 19 20 24 27\n",
      "[14:43:37] SMILES Parse Error: extra close parentheses while parsing: CCc1nc(C)ccc1[N+](=O)[O-])[C@H]1CCN(S(=O)(=O)c2cccc(C)c2[N+](=O)[O-])CC1\n",
      "[14:43:37] SMILES Parse Error: Failed parsing SMILES 'CCc1nc(C)ccc1[N+](=O)[O-])[C@H]1CCN(S(=O)(=O)c2cccc(C)c2[N+](=O)[O-])CC1' for input: 'CCc1nc(C)ccc1[N+](=O)[O-])[C@H]1CCN(S(=O)(=O)c2cccc(C)c2[N+](=O)[O-])CC1'\n",
      "[14:43:37] Can't kekulize mol.  Unkekulized atoms: 10 11 12 13 20\n",
      "[14:43:37] Can't kekulize mol.  Unkekulized atoms: 16 17 21 22 23\n",
      "[14:43:37] SMILES Parse Error: extra close parentheses while parsing: CCC[C@H](C)NC(=O)[C@@H]1COCCN1CC(F)(F)F)CC1\n",
      "[14:43:37] SMILES Parse Error: Failed parsing SMILES 'CCC[C@H](C)NC(=O)[C@@H]1COCCN1CC(F)(F)F)CC1' for input: 'CCC[C@H](C)NC(=O)[C@@H]1COCCN1CC(F)(F)F)CC1'\n",
      "[14:43:37] SMILES Parse Error: extra close parentheses while parsing: CCOCc1ccc([N+](=O)[O-])cc1)C(=O)NCC1CCN(CC)CC1\n",
      "[14:43:37] SMILES Parse Error: Failed parsing SMILES 'CCOCc1ccc([N+](=O)[O-])cc1)C(=O)NCC1CCN(CC)CC1' for input: 'CCOCc1ccc([N+](=O)[O-])cc1)C(=O)NCC1CCN(CC)CC1'\n",
      "[14:43:37] SMILES Parse Error: extra close parentheses while parsing: CC(=O)CCCCOC(=O)Cn1nccc1C[N+](=O)[O-])C1CC1\n",
      "[14:43:37] SMILES Parse Error: Failed parsing SMILES 'CC(=O)CCCCOC(=O)Cn1nccc1C[N+](=O)[O-])C1CC1' for input: 'CC(=O)CCCCOC(=O)Cn1nccc1C[N+](=O)[O-])C1CC1'\n",
      "[14:43:37] SMILES Parse Error: unclosed ring for input: 'CC[C@@H]1CC(=O)N[C@H]2C[C@]1(C)CN(C(=O)C(=O)NCCOc2ccc([N+](=O)[O-])cc2)CC1'\n",
      "[14:43:37] SMILES Parse Error: unclosed ring for input: 'CCc1onc(C)c1N(CCOc2ccc([N+](=O)[O-])cc2)CC1'\n",
      "[14:43:37] SMILES Parse Error: extra close parentheses while parsing: CCN(CCNc1cccc(F)c1)Cn1cc([N+](=O)[O-])c(F)c1)C[C@H]1CCCOC1=O\n",
      "[14:43:37] SMILES Parse Error: Failed parsing SMILES 'CCN(CCNc1cccc(F)c1)Cn1cc([N+](=O)[O-])c(F)c1)C[C@H]1CCCOC1=O' for input: 'CCN(CCNc1cccc(F)c1)Cn1cc([N+](=O)[O-])c(F)c1)C[C@H]1CCCOC1=O'\n",
      "[14:43:37] SMILES Parse Error: extra open parentheses for input: 'CCN(CCNCc1oc2ccc([N+](=O)[O-])cc2[nH]1'\n",
      "[14:43:37] Can't kekulize mol.  Unkekulized atoms: 20\n",
      "[14:43:37] SMILES Parse Error: extra open parentheses for input: 'CCOc1cccc(CNCc2oc(-c2nn[nH]n2)cc([N+](=O)[O-])cc1F'\n",
      "[14:43:37] Can't kekulize mol.  Unkekulized atoms: 2 3 4\n",
      "[14:43:37] SMILES Parse Error: extra open parentheses for input: 'CCOC(=O)c1cnc(NC)n1CCN1CCOC[C@@H](C(=O)OCc1cc(F)cc([N+](=O)[O-])c1'\n",
      "[14:43:37] SMILES Parse Error: extra open parentheses for input: 'CC[C@H](C)[C@@H](NC(=O)Cn1cc([N+](=O)[O-])cn1'\n",
      "[14:43:37] SMILES Parse Error: extra open parentheses for input: 'CC[C@@H](OC(=O)C(=O)Nc1cc(C)c([N+](=O)[O-])cc1C'\n",
      "[14:43:37] SMILES Parse Error: unclosed ring for input: 'CC1(C)CC[C@H](CNC(=O)Cc1ccc([N+](=O)[O-])cc1)C(=O)N1CCC([C@H](C2CC2)CC1)NS(=O)(=O)CCNC(=O)Cc1cn(C)nc1C'\n",
      "[14:43:37] SMILES Parse Error: extra open parentheses for input: 'CC(C)([C@@H]1CCC[C@H]1Nc1cc(C)ccc1[N+](=O)[O-]'\n",
      "[14:43:37] SMILES Parse Error: unclosed ring for input: 'CC(C)[C@H]1CCCN2CCN(S(=O)(=O)c2cc(F)ccc2[N+](=O)[O-])CC1'\n",
      "[14:43:37] SMILES Parse Error: extra close parentheses while parsing: CC1(C)CCC[C@@H]1NC(=O)NCCn1cc([N+](=O)[O-])cn1)c1ccccc1\n",
      "[14:43:37] SMILES Parse Error: Failed parsing SMILES 'CC1(C)CCC[C@@H]1NC(=O)NCCn1cc([N+](=O)[O-])cn1)c1ccccc1' for input: 'CC1(C)CCC[C@@H]1NC(=O)NCCn1cc([N+](=O)[O-])cn1)c1ccccc1'\n",
      "[14:43:37] SMILES Parse Error: extra open parentheses for input: 'CC[C@H](CCN(C)S(=O)(=O)c1ccc([N+](=O)[O-])c(N2CCOCC2)cc1F'\n",
      "[14:43:37] Can't kekulize mol.  Unkekulized atoms: 4 5 6 22 26\n",
      "[14:43:37] SMILES Parse Error: extra open parentheses for input: 'CC[C@H](C)[C@H](NS(=O)(=O)c1cc(C)c([N+](=O)[O-])cn1'\n",
      "[14:43:37] Can't kekulize mol.  Unkekulized atoms: 14 15 16 17 29\n",
      "[14:43:37] Can't kekulize mol.  Unkekulized atoms: 13 14 15 16 20 21 22\n",
      "[14:43:37] SMILES Parse Error: syntax error while parsing: CCOCCNC(=O)c1ccc(/C@@H](C)C(=O)Cn2nccc2)ccc1[N+](=O)[O-]\n",
      "[14:43:37] SMILES Parse Error: Failed parsing SMILES 'CCOCCNC(=O)c1ccc(/C@@H](C)C(=O)Cn2nccc2)ccc1[N+](=O)[O-]' for input: 'CCOCCNC(=O)c1ccc(/C@@H](C)C(=O)Cn2nccc2)ccc1[N+](=O)[O-]'\n",
      "[14:43:37] SMILES Parse Error: syntax error while parsing: CC(C)(C)C(=O)N[C@C@H]1CCN(CCc2cccc([N+](=O)[O-])s2)C1\n",
      "[14:43:37] SMILES Parse Error: Failed parsing SMILES 'CC(C)(C)C(=O)N[C@C@H]1CCN(CCc2cccc([N+](=O)[O-])s2)C1' for input: 'CC(C)(C)C(=O)N[C@C@H]1CCN(CCc2cccc([N+](=O)[O-])s2)C1'\n",
      "[14:43:37] SMILES Parse Error: ring closure 1 duplicates bond between atom 3 and atom 21 for input: 'CCOC1(C(=O)Nc2cc(C(=O)O)cc(OC)c2[N+](=O)[O-])o1'\n",
      "[14:43:37] Can't kekulize mol.  Unkekulized atoms: 2 3 4\n",
      "[14:43:37] SMILES Parse Error: extra open parentheses for input: 'CC(C)(CCC(=O)N1CCN(c2ccc([N+](=O)[O-])cc2)CCO1'\n",
      "[14:43:37] Can't kekulize mol.  Unkekulized atoms: 2 3 4 5 6\n",
      "[14:43:37] SMILES Parse Error: extra open parentheses for input: 'CC[C@@H](NS(=O)(=O)c1cc(C)cc([N+](=O)[O-])c1COC'\n",
      "[14:43:37] SMILES Parse Error: extra close parentheses while parsing: CC(C)(C)c1nncnc1COC(=O)c1cc(Cl)cc([N+](=O)[O-])c1)C1CC1\n",
      "[14:43:37] SMILES Parse Error: Failed parsing SMILES 'CC(C)(C)c1nncnc1COC(=O)c1cc(Cl)cc([N+](=O)[O-])c1)C1CC1' for input: 'CC(C)(C)c1nncnc1COC(=O)c1cc(Cl)cc([N+](=O)[O-])c1)C1CC1'\n",
      "[14:43:37] SMILES Parse Error: extra close parentheses while parsing: CCC1(CNC(=O)N[C@@H](C)C2(C)C)CC1)c1ccc([N+](=O)[O-])cc1\n",
      "[14:43:37] SMILES Parse Error: Failed parsing SMILES 'CCC1(CNC(=O)N[C@@H](C)C2(C)C)CC1)c1ccc([N+](=O)[O-])cc1' for input: 'CCC1(CNC(=O)N[C@@H](C)C2(C)C)CC1)c1ccc([N+](=O)[O-])cc1'\n",
      "[14:43:37] SMILES Parse Error: extra close parentheses while parsing: CCN(CCNC(=O)CC)CCNC(=O)Cc1c(F)cccc1[N+](=O)[O-])CCn2ncnc2Oc1ccccc1\n",
      "[14:43:37] SMILES Parse Error: Failed parsing SMILES 'CCN(CCNC(=O)CC)CCNC(=O)Cc1c(F)cccc1[N+](=O)[O-])CCn2ncnc2Oc1ccccc1' for input: 'CCN(CCNC(=O)CC)CCNC(=O)Cc1c(F)cccc1[N+](=O)[O-])CCn2ncnc2Oc1ccccc1'\n",
      "[14:43:37] SMILES Parse Error: extra open parentheses for input: 'CC(C)c1noc(Cc2cc3c(cc2)CN(C(=O)Nc3ccccc3[N+](=O)[O-])[C@@H]2C1'\n",
      "[14:43:37] Can't kekulize mol.  Unkekulized atoms: 20\n",
      "[14:43:37] SMILES Parse Error: extra close parentheses while parsing: CC[C@H](NC(=O)Cn1ccnc1)c1ncccc1[N+](=O)[O-])c1n[nH]cc1C\n",
      "[14:43:37] SMILES Parse Error: Failed parsing SMILES 'CC[C@H](NC(=O)Cn1ccnc1)c1ncccc1[N+](=O)[O-])c1n[nH]cc1C' for input: 'CC[C@H](NC(=O)Cn1ccnc1)c1ncccc1[N+](=O)[O-])c1n[nH]cc1C'\n",
      "[14:43:37] SMILES Parse Error: extra open parentheses for input: 'CC(=Sc1cc(C(=O)OCCCn2ccc([N+](=O)[O-])cc2)[C@@H]1C[C@H](Nc1ccncc1)C(=O)O'\n",
      "[14:43:37] SMILES Parse Error: extra close parentheses while parsing: CC1=C(C(F)F)C(=O)N[C@H]2CCN(Cc3cccc([N+](=O)[O-])c3)C2=O)C[C@H]1C\n",
      "[14:43:37] SMILES Parse Error: Failed parsing SMILES 'CC1=C(C(F)F)C(=O)N[C@H]2CCN(Cc3cccc([N+](=O)[O-])c3)C2=O)C[C@H]1C' for input: 'CC1=C(C(F)F)C(=O)N[C@H]2CCN(Cc3cccc([N+](=O)[O-])c3)C2=O)C[C@H]1C'\n",
      "[14:43:37] SMILES Parse Error: extra close parentheses while parsing: CC(C)(C)CN1CCc2cc(OC)c(O[C@@H](C)[N+](=O)[O-])C(=O)Cc2ccccc2)C1\n",
      "[14:43:37] SMILES Parse Error: Failed parsing SMILES 'CC(C)(C)CN1CCc2cc(OC)c(O[C@@H](C)[N+](=O)[O-])C(=O)Cc2ccccc2)C1' for input: 'CC(C)(C)CN1CCc2cc(OC)c(O[C@@H](C)[N+](=O)[O-])C(=O)Cc2ccccc2)C1'\n",
      "[14:43:37] Can't kekulize mol.  Unkekulized atoms: 10 11 12\n",
      "[14:43:37] SMILES Parse Error: extra close parentheses while parsing: CC(=O)C[C@@H](CCO)NS(=O)(=O)c1ccc(C)cc1[N+](=O)[O-])C(=O)OCc1nn(C)c(N2CCOCC2)(COCCl)C1\n",
      "[14:43:37] SMILES Parse Error: Failed parsing SMILES 'CC(=O)C[C@@H](CCO)NS(=O)(=O)c1ccc(C)cc1[N+](=O)[O-])C(=O)OCc1nn(C)c(N2CCOCC2)(COCCl)C1' for input: 'CC(=O)C[C@@H](CCO)NS(=O)(=O)c1ccc(C)cc1[N+](=O)[O-])C(=O)OCc1nn(C)c(N2CCOCC2)(COCCl)C1'\n",
      "[14:43:37] SMILES Parse Error: extra close parentheses while parsing: CC(C)Cc1nnc(CN[C@@H](C)Cn2ncnc2)oc1[N+](=O)[O-])N1CCCCOCC1\n",
      "[14:43:37] SMILES Parse Error: Failed parsing SMILES 'CC(C)Cc1nnc(CN[C@@H](C)Cn2ncnc2)oc1[N+](=O)[O-])N1CCCCOCC1' for input: 'CC(C)Cc1nnc(CN[C@@H](C)Cn2ncnc2)oc1[N+](=O)[O-])N1CCCCOCC1'\n",
      "[14:43:37] SMILES Parse Error: extra close parentheses while parsing: CC[C@@H]1CN(C)CCN1C[C@H](O)c1cccc([N+](=O)[O-])c1)C(=O)O\n",
      "[14:43:37] SMILES Parse Error: Failed parsing SMILES 'CC[C@@H]1CN(C)CCN1C[C@H](O)c1cccc([N+](=O)[O-])c1)C(=O)O' for input: 'CC[C@@H]1CN(C)CCN1C[C@H](O)c1cccc([N+](=O)[O-])c1)C(=O)O'\n",
      "[14:43:37] SMILES Parse Error: extra close parentheses while parsing: CC1(C)CCN[C@H]1CCCNc1cc(C)c([N+](=O)[O-])cc1F)C(=O)OCCOC\n",
      "[14:43:37] SMILES Parse Error: Failed parsing SMILES 'CC1(C)CCN[C@H]1CCCNc1cc(C)c([N+](=O)[O-])cc1F)C(=O)OCCOC' for input: 'CC1(C)CCN[C@H]1CCCNc1cc(C)c([N+](=O)[O-])cc1F)C(=O)OCCOC'\n",
      "[14:43:37] SMILES Parse Error: extra close parentheses while parsing: CCOC(=O)c1cc(=O)oc2cc(/C=C/C(=O)N)=OCO2)cc1F\n",
      "[14:43:37] SMILES Parse Error: Failed parsing SMILES 'CCOC(=O)c1cc(=O)oc2cc(/C=C/C(=O)N)=OCO2)cc1F' for input: 'CCOC(=O)c1cc(=O)oc2cc(/C=C/C(=O)N)=OCO2)cc1F'\n",
      "[14:43:37] SMILES Parse Error: unclosed ring for input: 'CC[C@@H]1CN([C@@H]2CCCN(S(=O)(=O)CC2)cc1[N+](=O)[O-])OCCO2'\n",
      "[14:43:37] SMILES Parse Error: extra close parentheses while parsing: CCOC(=O)c1nn(C)cs1)c1ccc([N+](=O)[O-])cn1\n",
      "[14:43:37] SMILES Parse Error: Failed parsing SMILES 'CCOC(=O)c1nn(C)cs1)c1ccc([N+](=O)[O-])cn1' for input: 'CCOC(=O)c1nn(C)cs1)c1ccc([N+](=O)[O-])cn1'\n",
      "[14:43:37] SMILES Parse Error: extra close parentheses while parsing: CCc1ocnc1C(=O)NCCNc1ncccc1[N+](=O)[O-])OC\n",
      "[14:43:37] SMILES Parse Error: Failed parsing SMILES 'CCc1ocnc1C(=O)NCCNc1ncccc1[N+](=O)[O-])OC' for input: 'CCc1ocnc1C(=O)NCCNc1ncccc1[N+](=O)[O-])OC'\n",
      "[14:43:37] SMILES Parse Error: extra open parentheses for input: 'CC(C)Oc1cc(CN[C@@H](Cc2noc(-c3ccc([N+](=O)[O-])cc3C2)C1'\n",
      "[14:43:37] SMILES Parse Error: extra close parentheses while parsing: CC(C)[C@H]1OCC[C@@H]1NC(=O)c1ccc(S(N)(=O)=O)cc1)c1ccc([N+](=O)[O-])cc1\n",
      "[14:43:37] SMILES Parse Error: Failed parsing SMILES 'CC(C)[C@H]1OCC[C@@H]1NC(=O)c1ccc(S(N)(=O)=O)cc1)c1ccc([N+](=O)[O-])cc1' for input: 'CC(C)[C@H]1OCC[C@@H]1NC(=O)c1ccc(S(N)(=O)=O)cc1)c1ccc([N+](=O)[O-])cc1'\n",
      "[14:43:37] Explicit valence for atom # 37 O, 3, is greater than permitted\n",
      "[14:43:37] SMILES Parse Error: extra close parentheses while parsing: CCOCC(=O)N(C)CCCNC(=O)c1cccc(C(C)C)n1)c1ccc([N+](=O)[O-])cc1F\n",
      "[14:43:37] SMILES Parse Error: Failed parsing SMILES 'CCOCC(=O)N(C)CCCNC(=O)c1cccc(C(C)C)n1)c1ccc([N+](=O)[O-])cc1F' for input: 'CCOCC(=O)N(C)CCCNC(=O)c1cccc(C(C)C)n1)c1ccc([N+](=O)[O-])cc1F'\n",
      "[14:43:37] SMILES Parse Error: unclosed ring for input: 'CCN1C(=O)c1cc(F)c(C)c([N+](=O)[O-])c1C(=O)N[C@@H]1C[C@@H](Nc2ccc([N+](=O)[O-])cc2)C1'\n",
      "[14:43:37] SMILES Parse Error: unclosed ring for input: 'CC(C)[C@@H](Cc1ccccc1)NC(=O)CN1C[C@@H](C)[N+](=O)[O-]'\n",
      "[14:43:37] SMILES Parse Error: extra close parentheses while parsing: CCc1nn(C)c(NCCCNc2cc(C)cc([N+](=O)[O-])c2N)n1C)C(=O)NCCn1cnc2ccccc2c1=O\n",
      "[14:43:37] SMILES Parse Error: Failed parsing SMILES 'CCc1nn(C)c(NCCCNc2cc(C)cc([N+](=O)[O-])c2N)n1C)C(=O)NCCn1cnc2ccccc2c1=O' for input: 'CCc1nn(C)c(NCCCNc2cc(C)cc([N+](=O)[O-])c2N)n1C)C(=O)NCCn1cnc2ccccc2c1=O'\n",
      "[14:43:37] SMILES Parse Error: extra close parentheses while parsing: CCN1C[C@H]2CN(c3ccc([N+](=O)[O-])cn3)CC2)cnn1C\n",
      "[14:43:37] SMILES Parse Error: Failed parsing SMILES 'CCN1C[C@H]2CN(c3ccc([N+](=O)[O-])cn3)CC2)cnn1C' for input: 'CCN1C[C@H]2CN(c3ccc([N+](=O)[O-])cn3)CC2)cnn1C'\n",
      "[14:43:37] SMILES Parse Error: extra close parentheses while parsing: CCC[C@@H](C)NC(=O)c1cc2c(c1[N+](=O)[O-])n2)C1\n",
      "[14:43:37] SMILES Parse Error: Failed parsing SMILES 'CCC[C@@H](C)NC(=O)c1cc2c(c1[N+](=O)[O-])n2)C1' for input: 'CCC[C@@H](C)NC(=O)c1cc2c(c1[N+](=O)[O-])n2)C1'\n",
      "[14:43:37] SMILES Parse Error: extra open parentheses for input: 'CCC[C@@H](NC(=O)CNc1cccc(F)c1[N+](=O)[O-]'\n",
      "[14:43:37] SMILES Parse Error: extra close parentheses while parsing: CC[C@@H](CS(=O)(=O)O)c1ccc([N+](=O)[O-])cc1F)C(F)(F)F\n",
      "[14:43:37] SMILES Parse Error: Failed parsing SMILES 'CC[C@@H](CS(=O)(=O)O)c1ccc([N+](=O)[O-])cc1F)C(F)(F)F' for input: 'CC[C@@H](CS(=O)(=O)O)c1ccc([N+](=O)[O-])cc1F)C(F)(F)F'\n",
      "[14:43:37] SMILES Parse Error: ring closure 1 duplicates bond between atom 1 and atom 18 for input: 'CC1(C(=O)OCCn2cc([N+](=O)[O-])c(C(N)=O)c2)c1'\n",
      "[14:43:37] SMILES Parse Error: extra close parentheses while parsing: CC(C)[C@@H](C)N1CCN(C(=O)c2cc(O)nc3ccc([N+](=O)[O-])cc3)n2)c1C\n",
      "[14:43:37] SMILES Parse Error: Failed parsing SMILES 'CC(C)[C@@H](C)N1CCN(C(=O)c2cc(O)nc3ccc([N+](=O)[O-])cc3)n2)c1C' for input: 'CC(C)[C@@H](C)N1CCN(C(=O)c2cc(O)nc3ccc([N+](=O)[O-])cc3)n2)c1C'\n",
      "[14:43:37] SMILES Parse Error: extra open parentheses for input: 'CC[C@H](NC(=O)c1csc(-c2ccc([N+](=O)[O-])cn2)n1'\n",
      "[14:43:37] SMILES Parse Error: extra close parentheses while parsing: CCc1occc1C(=O)NCCCNC(=O)c1cc([N+](=O)[O-])c(F)cc1F)C(C)C\n",
      "[14:43:37] SMILES Parse Error: Failed parsing SMILES 'CCc1occc1C(=O)NCCCNC(=O)c1cc([N+](=O)[O-])c(F)cc1F)C(C)C' for input: 'CCc1occc1C(=O)NCCCNC(=O)c1cc([N+](=O)[O-])c(F)cc1F)C(C)C'\n",
      "[14:43:37] SMILES Parse Error: extra close parentheses while parsing: CCn1c(CNC(=O)c2ccc([N+](=O)[O-])n(C)n2)CC1)c1ccc(OC(F)F)cc1\n",
      "[14:43:37] SMILES Parse Error: Failed parsing SMILES 'CCn1c(CNC(=O)c2ccc([N+](=O)[O-])n(C)n2)CC1)c1ccc(OC(F)F)cc1' for input: 'CCn1c(CNC(=O)c2ccc([N+](=O)[O-])n(C)n2)CC1)c1ccc(OC(F)F)cc1'\n",
      "[14:43:37] SMILES Parse Error: extra close parentheses while parsing: CC(C)C[C@@H](CO)NC(=O)CCOc1ccc([N+](=O)[O-])cc1)C(C)C\n",
      "[14:43:37] SMILES Parse Error: Failed parsing SMILES 'CC(C)C[C@@H](CO)NC(=O)CCOc1ccc([N+](=O)[O-])cc1)C(C)C' for input: 'CC(C)C[C@@H](CO)NC(=O)CCOc1ccc([N+](=O)[O-])cc1)C(C)C'\n",
      "[14:43:37] Can't kekulize mol.  Unkekulized atoms: 3 4 5 6 20\n",
      "[14:43:37] SMILES Parse Error: extra open parentheses for input: 'CC(C)(C(=O)N1CCC(CNc2ncc(C)cc2[N+](=O)[O-])CC1'\n",
      "[14:43:37] SMILES Parse Error: unclosed ring for input: 'CCCc1n[nH]c(C(=O)Nc1cc(C(=O)OCC(C)C)ccc1[N+](=O)[O-])OCC'\n",
      "[14:43:37] SMILES Parse Error: extra close parentheses while parsing: CCCNC(=O)C(C)(C)[C@H]1CCN(c2ncnc(N3CCOCC3)c2)c1[N+](=O)[O-])OC\n",
      "[14:43:37] SMILES Parse Error: Failed parsing SMILES 'CCCNC(=O)C(C)(C)[C@H]1CCN(c2ncnc(N3CCOCC3)c2)c1[N+](=O)[O-])OC' for input: 'CCCNC(=O)C(C)(C)[C@H]1CCN(c2ncnc(N3CCOCC3)c2)c1[N+](=O)[O-])OC'\n",
      "[14:43:37] SMILES Parse Error: extra open parentheses for input: 'CCN(CC(=O)Nc1ccccc1[N+](=O)[O-]'\n",
      "[14:43:37] SMILES Parse Error: extra close parentheses while parsing: CCC[C@H]1CN(C(=O)Nc2ccc(Cl)c([N+](=O)[O-])c2)C1)C(N)=O\n",
      "[14:43:37] SMILES Parse Error: Failed parsing SMILES 'CCC[C@H]1CN(C(=O)Nc2ccc(Cl)c([N+](=O)[O-])c2)C1)C(N)=O' for input: 'CCC[C@H]1CN(C(=O)Nc2ccc(Cl)c([N+](=O)[O-])c2)C1)C(N)=O'\n",
      "[14:43:37] SMILES Parse Error: extra close parentheses while parsing: CC(C)[C@@H](C)[S@+](C)[O-])C(=O)OCC(=O)N(Cc1cccc(F)c1)[N+](=O)[O-]\n",
      "[14:43:37] SMILES Parse Error: Failed parsing SMILES 'CC(C)[C@@H](C)[S@+](C)[O-])C(=O)OCC(=O)N(Cc1cccc(F)c1)[N+](=O)[O-]' for input: 'CC(C)[C@@H](C)[S@+](C)[O-])C(=O)OCC(=O)N(Cc1cccc(F)c1)[N+](=O)[O-]'\n",
      "[14:43:37] SMILES Parse Error: extra open parentheses for input: 'CC[S@+]([O-])[C@@H]1CCCN(C(=O)c2ccc([N+](=O)[O-])c(-c2nn[nH]n2)no1'\n",
      "[14:43:37] Explicit valence for atom # 12 C, 5, is greater than permitted\n",
      "[14:43:37] SMILES Parse Error: extra close parentheses while parsing: CCC[C@H](C)NS(=O)(=O)c1ccc([N+](=O)[O-])c(C)c1)C(=O)N1CC2(CC2)CCO1\n",
      "[14:43:37] SMILES Parse Error: Failed parsing SMILES 'CCC[C@H](C)NS(=O)(=O)c1ccc([N+](=O)[O-])c(C)c1)C(=O)N1CC2(CC2)CCO1' for input: 'CCC[C@H](C)NS(=O)(=O)c1ccc([N+](=O)[O-])c(C)c1)C(=O)N1CC2(CC2)CCO1'\n",
      "[14:43:37] SMILES Parse Error: unclosed ring for input: 'CCOCCOC[C@@H](C)NC(=O)NCc1nc2cccc([N+](=O)[O-])c1'\n",
      "[14:43:37] SMILES Parse Error: ring closure 1 duplicates bond between atom 2 and atom 15 for input: 'CCC1(C(=O)Nc2cc(OC)c(C)cc2)c1[N+](=O)[O-]'\n",
      "[14:43:37] SMILES Parse Error: extra open parentheses for input: 'CC(C)(C(=O)N1CC[C@@H](c2cc(OC)c(OC)cc2[N+](=O)[O-])nnc1OC'\n",
      "[14:43:37] SMILES Parse Error: extra close parentheses while parsing: CCn1ccnc1C(=O)N1CCC(n2cc([N+](=O)[O-])on2)c1)CC2\n",
      "[14:43:37] SMILES Parse Error: Failed parsing SMILES 'CCn1ccnc1C(=O)N1CCC(n2cc([N+](=O)[O-])on2)c1)CC2' for input: 'CCn1ccnc1C(=O)N1CCC(n2cc([N+](=O)[O-])on2)c1)CC2'\n",
      "[14:43:37] Can't kekulize mol.  Unkekulized atoms: 4 5 6\n",
      "[14:43:37] SMILES Parse Error: extra close parentheses while parsing: CC[C@H](Cc1ccccc1)N(C)C(=O)c1cc(OCC)cnc1)c1ncccc1[N+](=O)[O-]\n",
      "[14:43:37] SMILES Parse Error: Failed parsing SMILES 'CC[C@H](Cc1ccccc1)N(C)C(=O)c1cc(OCC)cnc1)c1ncccc1[N+](=O)[O-]' for input: 'CC[C@H](Cc1ccccc1)N(C)C(=O)c1cc(OCC)cnc1)c1ncccc1[N+](=O)[O-]'\n",
      "[14:43:37] Can't kekulize mol.  Unkekulized atoms: 2 3 4 5 20\n",
      "[14:43:37] Can't kekulize mol.  Unkekulized atoms: 12 13 14 15 16 17 18 19 20 21 25\n",
      "[14:43:37] SMILES Parse Error: extra open parentheses for input: 'CCN(CCNC(=O)c1c[nH]c2ccc([N+](=O)[O-])cc12'\n",
      "[14:43:37] SMILES Parse Error: extra close parentheses while parsing: CC[C@@]1(C)COC(=O)N1C(=O)Nc1ccc([N+](=O)[O-])cc1)C(=O)c1nn(C)cc1\n",
      "[14:43:37] SMILES Parse Error: Failed parsing SMILES 'CC[C@@]1(C)COC(=O)N1C(=O)Nc1ccc([N+](=O)[O-])cc1)C(=O)c1nn(C)cc1' for input: 'CC[C@@]1(C)COC(=O)N1C(=O)Nc1ccc([N+](=O)[O-])cc1)C(=O)c1nn(C)cc1'\n",
      "[14:43:37] SMILES Parse Error: extra close parentheses while parsing: CCNC(=O)[C@@H]1CCN(Cc2nc3ccccc3[N+](=O)[O-])C2)cc1OCCO\n",
      "[14:43:37] SMILES Parse Error: Failed parsing SMILES 'CCNC(=O)[C@@H]1CCN(Cc2nc3ccccc3[N+](=O)[O-])C2)cc1OCCO' for input: 'CCNC(=O)[C@@H]1CCN(Cc2nc3ccccc3[N+](=O)[O-])C2)cc1OCCO'\n",
      "[14:43:37] SMILES Parse Error: extra open parentheses for input: 'CC1CCN(Cc2cc(-c3ccc([N+](=O)[O-])cc3C2)n1'\n",
      "[14:43:37] Can't kekulize mol.  Unkekulized atoms: 5 6 7\n",
      "[14:43:37] SMILES Parse Error: extra close parentheses while parsing: CC(=O)N[C@@H](C)c1ccc(C(C)=O)[C@H](C)C2)n1\n",
      "[14:43:37] SMILES Parse Error: Failed parsing SMILES 'CC(=O)N[C@@H](C)c1ccc(C(C)=O)[C@H](C)C2)n1' for input: 'CC(=O)N[C@@H](C)c1ccc(C(C)=O)[C@H](C)C2)n1'\n",
      "[14:43:37] SMILES Parse Error: extra close parentheses while parsing: CCCn1c(Br)cc([N+](=O)[O-])c1N)C(=O)OCC\n",
      "[14:43:37] SMILES Parse Error: Failed parsing SMILES 'CCCn1c(Br)cc([N+](=O)[O-])c1N)C(=O)OCC' for input: 'CCCn1c(Br)cc([N+](=O)[O-])c1N)C(=O)OCC'\n",
      "[14:43:37] Can't kekulize mol.  Unkekulized atoms: 3 4 6\n",
      "[14:43:37] SMILES Parse Error: unclosed ring for input: 'CC(C)Oc1cc(C(=O)N[C@@H]2C[C@H](N(C)CC)c2cccc([N+](=O)[O-])c2)cc1'\n",
      "[14:43:37] SMILES Parse Error: extra close parentheses while parsing: CC(C)CCNC(=O)CCCC(=O)Nc1ccc([N+](=O)[O-])s2)c1\n",
      "[14:43:37] SMILES Parse Error: Failed parsing SMILES 'CC(C)CCNC(=O)CCCC(=O)Nc1ccc([N+](=O)[O-])s2)c1' for input: 'CC(C)CCNC(=O)CCCC(=O)Nc1ccc([N+](=O)[O-])s2)c1'\n",
      "[14:43:37] Can't kekulize mol.  Unkekulized atoms: 3 4 5\n",
      "[14:43:37] SMILES Parse Error: extra close parentheses while parsing: CC(C)Oc1cccc(CNC(=O)[C@@H](C)c2nnc3n2CCC3)ccc1[N+](=O)[O-])C(C)C\n",
      "[14:43:37] SMILES Parse Error: Failed parsing SMILES 'CC(C)Oc1cccc(CNC(=O)[C@@H](C)c2nnc3n2CCC3)ccc1[N+](=O)[O-])C(C)C' for input: 'CC(C)Oc1cccc(CNC(=O)[C@@H](C)c2nnc3n2CCC3)ccc1[N+](=O)[O-])C(C)C'\n",
      "[14:43:37] Can't kekulize mol.  Unkekulized atoms: 7 8 9 10 22\n",
      "[14:43:37] SMILES Parse Error: extra close parentheses while parsing: CCCc1ncc[nH]1)c1nc(C)ccc1C)c1ccc(C(=O)O)cc1[N+](=O)[O-]\n",
      "[14:43:37] SMILES Parse Error: Failed parsing SMILES 'CCCc1ncc[nH]1)c1nc(C)ccc1C)c1ccc(C(=O)O)cc1[N+](=O)[O-]' for input: 'CCCc1ncc[nH]1)c1nc(C)ccc1C)c1ccc(C(=O)O)cc1[N+](=O)[O-]'\n",
      "[14:43:37] Can't kekulize mol.  Unkekulized atoms: 4 5 6 15 16\n",
      "[14:43:37] Can't kekulize mol.  Unkekulized atoms: 5 6 7 8 9 10 14 15 16\n",
      "[14:43:37] SMILES Parse Error: extra close parentheses while parsing: CC(=O)N[C@@H]1CCS[C@H]1C(=O)O[C@@H](C)C(=O)OCc1cc(F)cnc1Cl)c1ccc(C)cc1[N+](=O)[O-]\n",
      "[14:43:37] SMILES Parse Error: Failed parsing SMILES 'CC(=O)N[C@@H]1CCS[C@H]1C(=O)O[C@@H](C)C(=O)OCc1cc(F)cnc1Cl)c1ccc(C)cc1[N+](=O)[O-]' for input: 'CC(=O)N[C@@H]1CCS[C@H]1C(=O)O[C@@H](C)C(=O)OCc1cc(F)cnc1Cl)c1ccc(C)cc1[N+](=O)[O-]'\n",
      "[14:43:37] SMILES Parse Error: extra open parentheses for input: 'CC(C)(C(=O)NCC1(Nc2ncccc2[N+](=O)[O-])co1'\n",
      "[14:43:37] SMILES Parse Error: extra open parentheses for input: 'CCC[C@H](CS(=O)(=O)Oc1cc([N+](=O)[O-])ccc1OC(F)(F)F'\n",
      "[14:43:37] SMILES Parse Error: unclosed ring for input: 'CC[C@@](C)(OC)CN1C(=O)c1cccc(OC)c1[N+](=O)[O-]'\n",
      "[14:43:37] SMILES Parse Error: extra close parentheses while parsing: CCN(CCCOC)c1ncccc1C(=O)OCCn1ccc([N+](=O)[O-])c1)OC\n",
      "[14:43:37] SMILES Parse Error: Failed parsing SMILES 'CCN(CCCOC)c1ncccc1C(=O)OCCn1ccc([N+](=O)[O-])c1)OC' for input: 'CCN(CCCOC)c1ncccc1C(=O)OCCn1ccc([N+](=O)[O-])c1)OC'\n",
      "[14:43:37] SMILES Parse Error: extra open parentheses for input: 'CC(C)N(CCN1CCC[C@H](C(=O)N2CCN(c3cccc([N+](=O)[O-])c3)C2)OCCO1'\n",
      "[14:43:37] SMILES Parse Error: extra close parentheses while parsing: CCC1(Cn2nncn3c2[nH]c3ccccc3CNC3)cc2[N+](=O)[O-])C[C@@H]1C\n",
      "[14:43:37] SMILES Parse Error: Failed parsing SMILES 'CCC1(Cn2nncn3c2[nH]c3ccccc3CNC3)cc2[N+](=O)[O-])C[C@@H]1C' for input: 'CCC1(Cn2nncn3c2[nH]c3ccccc3CNC3)cc2[N+](=O)[O-])C[C@@H]1C'\n",
      "[14:43:37] SMILES Parse Error: extra open parentheses for input: 'CC[C@@H](NS(=O)(=O)c1ccc(C)cc1[N+](=O)[O-]'\n",
      "[14:43:37] SMILES Parse Error: unclosed ring for input: 'CC1CC(n2cnc(CS(=O)(=O)C2)ccc2[N+](=O)[O-])C1'\n",
      "[14:43:37] SMILES Parse Error: unclosed ring for input: 'CCO[C@@H]1C[C@@H](OC(=O)OCCCOCCO2)cc1[N+](=O)[O-]'\n",
      "[14:43:37] SMILES Parse Error: ring closure 1 duplicates bond between atom 10 and atom 11 for input: 'CCn1nccc1C(=O)N[C@@H]1C1(C)CCN(c2cccc([N+](=O)[O-])c2)CC1'\n",
      "[14:43:37] SMILES Parse Error: extra close parentheses while parsing: CC(=O)Nc1ccccc1CC)c1noc(C(=O)OCCOc2ccccc2[N+](=O)[O-])CC1\n",
      "[14:43:37] SMILES Parse Error: Failed parsing SMILES 'CC(=O)Nc1ccccc1CC)c1noc(C(=O)OCCOc2ccccc2[N+](=O)[O-])CC1' for input: 'CC(=O)Nc1ccccc1CC)c1noc(C(=O)OCCOc2ccccc2[N+](=O)[O-])CC1'\n",
      "[14:43:37] Can't kekulize mol.  Unkekulized atoms: 10 11 12 23 24\n",
      "[14:43:37] SMILES Parse Error: extra close parentheses while parsing: CC[C@H]1CN(c2ccc3ccc([N+](=O)[O-])cc3)n2)CC1\n",
      "[14:43:37] SMILES Parse Error: Failed parsing SMILES 'CC[C@H]1CN(c2ccc3ccc([N+](=O)[O-])cc3)n2)CC1' for input: 'CC[C@H]1CN(c2ccc3ccc([N+](=O)[O-])cc3)n2)CC1'\n",
      "[14:43:37] SMILES Parse Error: extra close parentheses while parsing: CCSc1[nH]ccc1C(=O)NCCN(C)c1ccc([N+](=O)[O-])s2)n1\n",
      "[14:43:37] SMILES Parse Error: Failed parsing SMILES 'CCSc1[nH]ccc1C(=O)NCCN(C)c1ccc([N+](=O)[O-])s2)n1' for input: 'CCSc1[nH]ccc1C(=O)NCCN(C)c1ccc([N+](=O)[O-])s2)n1'\n",
      "[14:43:37] SMILES Parse Error: extra open parentheses for input: 'CCC[C@](C)(NS(=O)(=O)c1ccc(F)cc1[N+](=O)[O-]'\n",
      "[14:43:37] SMILES Parse Error: unclosed ring for input: 'CCOc1ccc([C@H](C)NC(=O)N[C@@H](C)C2(C)C)ccc1[N+](=O)[O-]'\n",
      "[14:43:37] SMILES Parse Error: extra close parentheses while parsing: CCN(Cc1ccccc1)S(=O)(=O)c1cc(Cl)ccc1[N+](=O)[O-])[C@@H](C)CO\n",
      "[14:43:37] SMILES Parse Error: Failed parsing SMILES 'CCN(Cc1ccccc1)S(=O)(=O)c1cc(Cl)ccc1[N+](=O)[O-])[C@@H](C)CO' for input: 'CCN(Cc1ccccc1)S(=O)(=O)c1cc(Cl)ccc1[N+](=O)[O-])[C@@H](C)CO'\n",
      "[14:43:37] Can't kekulize mol.  Unkekulized atoms: 11 12 13\n",
      "[14:43:37] SMILES Parse Error: extra close parentheses while parsing: CCN(CCCOc1ccccc1)S(=O)(=O)c1cccc(Cl)c1)[N+](=O)[O-]\n",
      "[14:43:37] SMILES Parse Error: Failed parsing SMILES 'CCN(CCCOc1ccccc1)S(=O)(=O)c1cccc(Cl)c1)[N+](=O)[O-]' for input: 'CCN(CCCOc1ccccc1)S(=O)(=O)c1cccc(Cl)c1)[N+](=O)[O-]'\n",
      "[14:43:37] SMILES Parse Error: unclosed ring for input: 'CCN(CCNC(=O)COc1ccc([N+](=O)[O-])co1)C2'\n",
      "[14:43:37] SMILES Parse Error: extra close parentheses while parsing: CC(C)c1nc(COc2ccc3nc(C)ccc3[N+](=O)[O-])ccn2)C1(C)C\n",
      "[14:43:37] SMILES Parse Error: Failed parsing SMILES 'CC(C)c1nc(COc2ccc3nc(C)ccc3[N+](=O)[O-])ccn2)C1(C)C' for input: 'CC(C)c1nc(COc2ccc3nc(C)ccc3[N+](=O)[O-])ccn2)C1(C)C'\n",
      "[14:43:37] Can't kekulize mol.  Unkekulized atoms: 16\n",
      "[14:43:37] Can't kekulize mol.  Unkekulized atoms: 3 4 5 6 10 21 22\n",
      "[14:43:37] SMILES Parse Error: extra close parentheses while parsing: CCN1C[C@H](C)N(C(=O)CCc2cccc([N+](=O)[O-])c2)c(C)O[C@@H]2CCOC3)C1\n",
      "[14:43:37] SMILES Parse Error: Failed parsing SMILES 'CCN1C[C@H](C)N(C(=O)CCc2cccc([N+](=O)[O-])c2)c(C)O[C@@H]2CCOC3)C1' for input: 'CCN1C[C@H](C)N(C(=O)CCc2cccc([N+](=O)[O-])c2)c(C)O[C@@H]2CCOC3)C1'\n",
      "[14:43:37] SMILES Parse Error: unclosed ring for input: 'CCN(CCNc1ccc([N+](=O)[O-])cc1F)C(=O)O1'\n",
      "[14:43:37] SMILES Parse Error: extra open parentheses for input: 'CC(=O)c1ccc([C@@H]2CC[C@@H](NS(=O)(=O)c2ccc([N+](=O)[O-])cc2)CC1'\n",
      "[14:43:37] Explicit valence for atom # 6 O, 4, is greater than permitted\n",
      "[14:43:37] SMILES Parse Error: unclosed ring for input: 'CCCOc1nc(N2CCS[C@H](C(=O)O)CCN2C(=O)C2)ccc1[N+](=O)[O-]'\n",
      "[14:43:37] SMILES Parse Error: unclosed ring for input: 'CC[C@H]1[C@@H](C)CCN2C(=O)N1CCN(Cc2csc([N+](=O)[O-])c2)CCOCC1'\n",
      "[14:43:37] SMILES Parse Error: extra close parentheses while parsing: CCCc1n[nH]c(C(C)C)c1NS(=O)(=O)c1c(C(=O)OC)cccc1[N+](=O)[O-])c1ccccc1\n",
      "[14:43:37] SMILES Parse Error: Failed parsing SMILES 'CCCc1n[nH]c(C(C)C)c1NS(=O)(=O)c1c(C(=O)OC)cccc1[N+](=O)[O-])c1ccccc1' for input: 'CCCc1n[nH]c(C(C)C)c1NS(=O)(=O)c1c(C(=O)OC)cccc1[N+](=O)[O-])c1ccccc1'\n",
      "[14:43:37] Can't kekulize mol.  Unkekulized atoms: 3 4 6 24 25\n",
      "[14:43:37] SMILES Parse Error: extra open parentheses for input: 'CC(C)[C@@H](NC(=O)N(CCO)CCNc1nc(C)ccc1[N+](=O)[O-]'\n",
      "[14:43:37] SMILES Parse Error: unclosed ring for input: 'CCN1CCN(C(=O)c2ccc(CN2CCOC[C@@H]3CC[C@@H]3C)c([N+](=O)[O-])n2)ccc1OC'\n",
      "[14:43:37] Can't kekulize mol.  Unkekulized atoms: 3\n",
      "[14:43:37] SMILES Parse Error: extra close parentheses while parsing: CCOC(=O)[C@@H]1CCN(C(=O)c2cc([N+](=O)[O-])ccc2N(C)C)C1=O)n1ncc[nH]1\n",
      "[14:43:37] SMILES Parse Error: Failed parsing SMILES 'CCOC(=O)[C@@H]1CCN(C(=O)c2cc([N+](=O)[O-])ccc2N(C)C)C1=O)n1ncc[nH]1' for input: 'CCOC(=O)[C@@H]1CCN(C(=O)c2cc([N+](=O)[O-])ccc2N(C)C)C1=O)n1ncc[nH]1'\n",
      "[14:43:37] SMILES Parse Error: extra open parentheses for input: 'CC[C@@H](Nc1c([N+](=O)[O-])nnc1N1CCN(C)[C@H](C)COCC1'\n",
      "[14:43:37] SMILES Parse Error: unclosed ring for input: 'CCN(C(=O)c1cc(OC)c(F)cc1[N+](=O)[O-])C2'\n",
      "[14:43:37] Can't kekulize mol.  Unkekulized atoms: 12 13 14 18 19\n",
      "[14:43:37] Can't kekulize mol.  Unkekulized atoms: 2 3 4 5 16\n",
      "[14:43:37] SMILES Parse Error: extra open parentheses for input: 'CC(C)(C(=O)NCCc1ccccc1OCCN[C@@H]1CCCN(C)C[C@@H](C)C1'\n",
      "[14:43:37] SMILES Parse Error: extra close parentheses while parsing: CCNC(=O)c1cc(Br)ccc1[N+](=O)[O-])C1CC1\n",
      "[14:43:37] SMILES Parse Error: Failed parsing SMILES 'CCNC(=O)c1cc(Br)ccc1[N+](=O)[O-])C1CC1' for input: 'CCNC(=O)c1cc(Br)ccc1[N+](=O)[O-])C1CC1'\n",
      "[14:43:37] SMILES Parse Error: extra close parentheses while parsing: CCc1ncnn1CCNC(=O)[C@H]1C[C@H]2c1ccc([N+](=O)[O-])cc2)n1\n",
      "[14:43:37] SMILES Parse Error: Failed parsing SMILES 'CCc1ncnn1CCNC(=O)[C@H]1C[C@H]2c1ccc([N+](=O)[O-])cc2)n1' for input: 'CCc1ncnn1CCNC(=O)[C@H]1C[C@H]2c1ccc([N+](=O)[O-])cc2)n1'\n",
      "[14:43:37] SMILES Parse Error: extra close parentheses while parsing: CC(C)c1ncoc1C(=O)N[C@H]1c2c2ccc([N+](=O)[O-])cc2C)nn1\n",
      "[14:43:37] SMILES Parse Error: Failed parsing SMILES 'CC(C)c1ncoc1C(=O)N[C@H]1c2c2ccc([N+](=O)[O-])cc2C)nn1' for input: 'CC(C)c1ncoc1C(=O)N[C@H]1c2c2ccc([N+](=O)[O-])cc2C)nn1'\n",
      "[14:43:37] SMILES Parse Error: unclosed ring for input: 'CCO[C@@H]1CC[C@H](Nc2cc(-c3nn[nH]n3)c2ccccc2[N+](=O)[O-])c(C)c1'\n",
      "[14:43:37] SMILES Parse Error: extra open parentheses for input: 'CC(C)[C@H](NCC(=O)Nc1cccc(NC(F)(F)F)c1[N+](=O)[O-]'\n",
      "[14:43:37] SMILES Parse Error: extra close parentheses while parsing: CCn1ncnc1[C@H](C)[N+](=O)[O-])c1N1CCC(NC(=O)CCC(C)(C)C)C1\n",
      "[14:43:37] SMILES Parse Error: Failed parsing SMILES 'CCn1ncnc1[C@H](C)[N+](=O)[O-])c1N1CCC(NC(=O)CCC(C)(C)C)C1' for input: 'CCn1ncnc1[C@H](C)[N+](=O)[O-])c1N1CCC(NC(=O)CCC(C)(C)C)C1'\n",
      "[14:43:37] SMILES Parse Error: extra open parentheses for input: 'CCCc1cc(C(=O)N[C@@H]2C[C@@H](Nc3ccccc3[N+](=O)[O-])[C@H]2C1'\n",
      "[14:43:37] Can't kekulize mol.  Unkekulized atoms: 4 5 6\n",
      "[14:43:37] Explicit valence for atom # 9 O, 3, is greater than permitted\n",
      "[14:43:37] SMILES Parse Error: unclosed ring for input: 'CC1(C)NC(=O)c1ccc(NCC(=O)Nc2cc([N+](=O)[O-])c(F)cc2C)c1'\n",
      "[14:43:37] Can't kekulize mol.  Unkekulized atoms: 3 5 6\n",
      "[14:43:37] Can't kekulize mol.  Unkekulized atoms: 4 5 21\n",
      "[14:43:37] Can't kekulize mol.  Unkekulized atoms: 20 21 22 26 27\n",
      "[14:43:37] Can't kekulize mol.  Unkekulized atoms: 11 12 13 14 21\n",
      "[14:43:37] SMILES Parse Error: unclosed ring for input: 'CC(C)[C@@H]1C[C@@]2(C)CN2C(=O)Nc1ccc([N+](=O)[O-])cc1F'\n",
      "[14:43:37] SMILES Parse Error: unclosed ring for input: 'CC(C)(C1C(=O)NCCN(CC)Cc1ccccc1[N+](=O)[O-])C1CCCCC1'\n",
      "[14:43:37] SMILES Parse Error: unclosed ring for input: 'CCOC(C)(C)C(=O)N1CCC[C@H]21CN(c2ccc([N+](=O)[O-])cc2)C(=O)N1C[C@@H](O)Cn1cc([N+](=O)[O-])cc1C'\n",
      "[14:43:37] SMILES Parse Error: extra close parentheses while parsing: CCC[C@]1(C)CCN(c2cc3n(nc2)CCN(C)CC)c1[N+](=O)[O-])C(=O)O\n",
      "[14:43:37] SMILES Parse Error: Failed parsing SMILES 'CCC[C@]1(C)CCN(c2cc3n(nc2)CCN(C)CC)c1[N+](=O)[O-])C(=O)O' for input: 'CCC[C@]1(C)CCN(c2cc3n(nc2)CCN(C)CC)c1[N+](=O)[O-])C(=O)O'\n",
      "[14:43:37] SMILES Parse Error: extra close parentheses while parsing: CCC(CC)(CN(C)C)C(=O)N1CCOc2cccc(Cl)c2[N+](=O)[O-])c1\n",
      "[14:43:37] SMILES Parse Error: Failed parsing SMILES 'CCC(CC)(CN(C)C)C(=O)N1CCOc2cccc(Cl)c2[N+](=O)[O-])c1' for input: 'CCC(CC)(CN(C)C)C(=O)N1CCOc2cccc(Cl)c2[N+](=O)[O-])c1'\n",
      "[14:43:37] Can't kekulize mol.  Unkekulized atoms: 19\n",
      "[14:43:37] SMILES Parse Error: extra close parentheses while parsing: CC(C)N(CCN(C)C)C(=O)c1cc2cc([N+](=O)[O-])cc(C(F)(F)F)cc2F)C1\n",
      "[14:43:37] SMILES Parse Error: Failed parsing SMILES 'CC(C)N(CCN(C)C)C(=O)c1cc2cc([N+](=O)[O-])cc(C(F)(F)F)cc2F)C1' for input: 'CC(C)N(CCN(C)C)C(=O)c1cc2cc([N+](=O)[O-])cc(C(F)(F)F)cc2F)C1'\n",
      "[14:43:37] Can't kekulize mol.  Unkekulized atoms: 8 9 11 18 19\n",
      "[14:43:37] Can't kekulize mol.  Unkekulized atoms: 20\n",
      "[14:43:37] SMILES Parse Error: extra open parentheses for input: 'CC(C)[C@@H](OC(=O)c1ccc([N+](=O)[O-])c(C(F)(F)c1)[C@H](C)COC'\n",
      "[14:43:37] SMILES Parse Error: extra close parentheses while parsing: CC[C@@H](C)OC(=O)c1conc1COC(=O)c1cc(F)c(C)cc1[N+](=O)[O-])CC1CCNCc1cccs1\n",
      "[14:43:37] SMILES Parse Error: Failed parsing SMILES 'CC[C@@H](C)OC(=O)c1conc1COC(=O)c1cc(F)c(C)cc1[N+](=O)[O-])CC1CCNCc1cccs1' for input: 'CC[C@@H](C)OC(=O)c1conc1COC(=O)c1cc(F)c(C)cc1[N+](=O)[O-])CC1CCNCc1cccs1'\n",
      "[14:43:37] Can't kekulize mol.  Unkekulized atoms: 4 5 21\n",
      "[14:43:37] SMILES Parse Error: extra close parentheses while parsing: CC(C)Cc1noc(CCCNC(=O)c2ccc([N+](=O)[O-])c(O)n2)c1)C2\n",
      "[14:43:37] SMILES Parse Error: Failed parsing SMILES 'CC(C)Cc1noc(CCCNC(=O)c2ccc([N+](=O)[O-])c(O)n2)c1)C2' for input: 'CC(C)Cc1noc(CCCNC(=O)c2ccc([N+](=O)[O-])c(O)n2)c1)C2'\n",
      "[14:43:37] Can't kekulize mol.  Unkekulized atoms: 10 11 12 13 14 18 19\n",
      "[14:43:37] Can't kekulize mol.  Unkekulized atoms: 2 4 5 19 23\n",
      "[14:43:37] Can't kekulize mol.  Unkekulized atoms: 5 6 7\n",
      "[14:43:37] Can't kekulize mol.  Unkekulized atoms: 25\n",
      "[14:43:37] SMILES Parse Error: unclosed ring for input: 'CC(=O)c1cc(C(=O)N2CCN(c3ncccc4[N+](=O)[O-])CC2)cn1'\n",
      "[14:43:37] SMILES Parse Error: extra open parentheses for input: 'CC(=O)N1CCO[C@@H](Cc1nc(CC)c(-c2nn[nH]n2)C1'\n",
      "[14:43:37] Can't kekulize mol.  Unkekulized atoms: 4 5 6 7 21 22 26\n",
      "[14:43:37] Can't kekulize mol.  Unkekulized atoms: 11 12 13 14 18\n",
      "[14:43:37] SMILES Parse Error: extra open parentheses for input: 'CCOC(=O)CN(CCCOc1cccc([N+](=O)[O-])c1'\n",
      "[14:43:37] Can't kekulize mol.  Unkekulized atoms: 7 8 9 10 11 13 14\n",
      "[14:43:37] Can't kekulize mol.  Unkekulized atoms: 3\n",
      "[14:43:37] SMILES Parse Error: unclosed ring for input: 'CC(C)[C@@H](NC(=O)CNc1ccc([N+](=O)[O-])cc1C)C(=O)C12CCC[C@H]2OCCO2'\n",
      "[14:43:37] SMILES Parse Error: unclosed ring for input: 'CCc1n[nH]c(C(=O)N[C@@H](C2CC2)CCOC2)c1[N+](=O)[O-]'\n",
      "[14:43:37] SMILES Parse Error: unclosed ring for input: 'CCC(=O)N1CCC(NC(=O)CCNc2cccc(F)c2[N+](=O)[O-])C1CC1'\n",
      "[14:43:37] SMILES Parse Error: extra close parentheses while parsing: CCOc1cc(C(=O)N2CCc3ccccc3[N+](=O)[O-])CC2)c1\n",
      "[14:43:37] SMILES Parse Error: Failed parsing SMILES 'CCOc1cc(C(=O)N2CCc3ccccc3[N+](=O)[O-])CC2)c1' for input: 'CCOc1cc(C(=O)N2CCc3ccccc3[N+](=O)[O-])CC2)c1'\n",
      "[14:43:37] Can't kekulize mol.  Unkekulized atoms: 2 3 4\n",
      "[14:43:37] SMILES Parse Error: syntax error while parsing: CC1(C)CN(CCCOC(=O)c2ccc(C(N)=O)c[n2)c([N+](=O)[O-])c1\n",
      "[14:43:37] SMILES Parse Error: Failed parsing SMILES 'CC1(C)CN(CCCOC(=O)c2ccc(C(N)=O)c[n2)c([N+](=O)[O-])c1' for input: 'CC1(C)CN(CCCOC(=O)c2ccc(C(N)=O)c[n2)c([N+](=O)[O-])c1'\n",
      "[14:43:37] SMILES Parse Error: extra open parentheses for input: 'CC(C)(C(=O)O[C@H](CCC)C(=O)Nc1cccc([N+](=O)[O-])c1'\n",
      "[14:43:37] Can't kekulize mol.  Unkekulized atoms: 4 10 11\n",
      "[14:43:37] SMILES Parse Error: extra open parentheses for input: 'CCOCC(=O)Nc1ccc(Nc2ncccc2s1'\n",
      "[14:43:37] SMILES Parse Error: extra close parentheses while parsing: CCC[C@H](C)[C@@H](CN)NCCS(=O)(=O)c1ccc([N+](=O)[O-])cc1)C(=O)O\n",
      "[14:43:37] SMILES Parse Error: Failed parsing SMILES 'CCC[C@H](C)[C@@H](CN)NCCS(=O)(=O)c1ccc([N+](=O)[O-])cc1)C(=O)O' for input: 'CCC[C@H](C)[C@@H](CN)NCCS(=O)(=O)c1ccc([N+](=O)[O-])cc1)C(=O)O'\n",
      "[14:43:37] SMILES Parse Error: extra close parentheses while parsing: CC(C)Oc1cc(C(=O)N(C)CC(C)C)nnc1-c1ccc([N+](=O)[O-])cc1F)C(C)C\n",
      "[14:43:37] SMILES Parse Error: Failed parsing SMILES 'CC(C)Oc1cc(C(=O)N(C)CC(C)C)nnc1-c1ccc([N+](=O)[O-])cc1F)C(C)C' for input: 'CC(C)Oc1cc(C(=O)N(C)CC(C)C)nnc1-c1ccc([N+](=O)[O-])cc1F)C(C)C'\n",
      "[14:43:37] SMILES Parse Error: unclosed ring for input: 'CC[C@H]1CN(CN2CC[C@@H](Cc3ncc(O)c4cc([N+](=O)[O-])cc3F)C[C@@H]2C)CC1'\n",
      "[14:43:37] SMILES Parse Error: unclosed ring for input: 'CC1(C)[C@@H](CNC(=O)C2=CCN(CC3CC2)CC1)n1cc([N+](=O)[O-])cc1'\n",
      "[14:43:37] SMILES Parse Error: unclosed ring for input: 'CCCC[C@H]1C(=O)NCN2C(=O)NCCc1cccnc1[N+](=O)[O-]'\n",
      "[14:43:37] SMILES Parse Error: extra open parentheses for input: 'CC(C)(C)[C@H]1CCC[C@@H]1-c1nnc(-c2nc(-c3ccc([N+](=O)[O-])cn3)ccc2[nH]1'\n",
      "[14:43:37] SMILES Parse Error: unclosed ring for input: 'CC1=C(C4(NC(=O)COc3ccccc3[N+](=O)[O-])C2)cc1'\n",
      "[14:43:37] Can't kekulize mol.  Unkekulized atoms: 4 5 6\n",
      "[14:43:37] SMILES Parse Error: extra close parentheses while parsing: CC(C)(C)O[C@H]1C[C@H](C)CN1S(=O)(=O)c1cscc1)c1ncccc1[N+](=O)[O-]\n",
      "[14:43:37] SMILES Parse Error: Failed parsing SMILES 'CC(C)(C)O[C@H]1C[C@H](C)CN1S(=O)(=O)c1cscc1)c1ncccc1[N+](=O)[O-]' for input: 'CC(C)(C)O[C@H]1C[C@H](C)CN1S(=O)(=O)c1cscc1)c1ncccc1[N+](=O)[O-]'\n",
      "[14:43:37] SMILES Parse Error: extra open parentheses for input: 'CC[C@H](N[C@@H]1CCN(C(=O)c2ccc([N+](=O)[O-])c3ccncc2)CC1'\n",
      "[14:43:37] Can't kekulize mol.  Unkekulized atoms: 4 5 6\n",
      "[14:43:37] SMILES Parse Error: extra open parentheses for input: 'CC[C@@H](NC(=O)CS(=O)(=O)c1ccc(OCCc2c([N+](=O)[O-])ccc2OC(F)F)CCO1'\n",
      "[14:43:37] Can't kekulize mol.  Unkekulized atoms: 4 5 6 23 24\n",
      "[14:43:37] SMILES Parse Error: extra open parentheses for input: 'CC(C)(C)[C@H]1CN(Cn2cc([N+](=O)[O-])cnc2Br'\n",
      "[14:43:37] SMILES Parse Error: extra open parentheses for input: 'CCN1CCS(=O)(=O)NC(=S(C)(C)c1cccc([N+](=O)[O-])c1'\n",
      "[14:43:37] Can't kekulize mol.  Unkekulized atoms: 10 11 12 13 14 19 20\n",
      "[14:43:37] Can't kekulize mol.  Unkekulized atoms: 2 3 4 6 10\n",
      "[14:43:37] SMILES Parse Error: unclosed ring for input: 'CCC1(O)CCCOC12C(=O)O[C@@H](C)C1'\n",
      "[14:43:37] SMILES Parse Error: syntax error while parsing: CCC[C@@]1(C(C)C)CCN(C(=O)N[C@H]1[C@H]2CC[(n3ccc(C)c([N+](=O)[O-])c3)C2=O)C1\n",
      "[14:43:37] SMILES Parse Error: Failed parsing SMILES 'CCC[C@@]1(C(C)C)CCN(C(=O)N[C@H]1[C@H]2CC[(n3ccc(C)c([N+](=O)[O-])c3)C2=O)C1' for input: 'CCC[C@@]1(C(C)C)CCN(C(=O)N[C@H]1[C@H]2CC[(n3ccc(C)c([N+](=O)[O-])c3)C2=O)C1'\n",
      "[14:43:37] SMILES Parse Error: unclosed ring for input: 'CC[C@@H]1CN(Cc2cc(C(=O)OC)ccc2OCCO2)cc1OC'\n",
      "[14:43:37] SMILES Parse Error: extra close parentheses while parsing: CCCN(CCNC(=O)CCC(C)(C)C)CC)([N+](=O)[O-])CC1)C1CC1\n",
      "[14:43:37] SMILES Parse Error: Failed parsing SMILES 'CCCN(CCNC(=O)CCC(C)(C)C)CC)([N+](=O)[O-])CC1)C1CC1' for input: 'CCCN(CCNC(=O)CCC(C)(C)C)CC)([N+](=O)[O-])CC1)C1CC1'\n",
      "[14:43:37] SMILES Parse Error: extra close parentheses while parsing: CCOC(C)(C)CC(=O)N1CCN(N2CCNc3ccc([N+](=O)[O-])cc3F)CC2)n[nH]1\n",
      "[14:43:37] SMILES Parse Error: Failed parsing SMILES 'CCOC(C)(C)CC(=O)N1CCN(N2CCNc3ccc([N+](=O)[O-])cc3F)CC2)n[nH]1' for input: 'CCOC(C)(C)CC(=O)N1CCN(N2CCNc3ccc([N+](=O)[O-])cc3F)CC2)n[nH]1'\n",
      "[14:43:37] SMILES Parse Error: extra open parentheses for input: 'CC[C@@H](NS(=O)(=O)c1cccc([N+](=O)[O-])c1'\n",
      "[14:43:37] SMILES Parse Error: extra close parentheses while parsing: CC(C)Oc1cc(NC(=O)COc2ccc([N+](=O)[O-])c(NC)n2)nnc1O)CCOCCC1\n",
      "[14:43:37] SMILES Parse Error: Failed parsing SMILES 'CC(C)Oc1cc(NC(=O)COc2ccc([N+](=O)[O-])c(NC)n2)nnc1O)CCOCCC1' for input: 'CC(C)Oc1cc(NC(=O)COc2ccc([N+](=O)[O-])c(NC)n2)nnc1O)CCOCCC1'\n",
      "[14:43:37] SMILES Parse Error: extra open parentheses for input: 'CC[C@H](NCC(=O)Nc1ccc([N+](=O)[O-])cc1F'\n",
      "[14:43:37] SMILES Parse Error: extra open parentheses for input: 'CCC(=O)N1CCN(C(=O)N[C@H](Cc2ccncc2[N+](=O)[O-])on1'\n",
      "[14:43:37] SMILES Parse Error: extra close parentheses while parsing: CC(C)(C)NS(=O)(=O)c1cc(CC)[nH]c(C)c1[N+](=O)[O-])C1CCOCC1\n",
      "[14:43:37] SMILES Parse Error: Failed parsing SMILES 'CC(C)(C)NS(=O)(=O)c1cc(CC)[nH]c(C)c1[N+](=O)[O-])C1CCOCC1' for input: 'CC(C)(C)NS(=O)(=O)c1cc(CC)[nH]c(C)c1[N+](=O)[O-])C1CCOCC1'\n",
      "[14:43:37] SMILES Parse Error: extra close parentheses while parsing: CCc1[nH]nc(C(=O)NCc2nc(C)ccc2N2CCOCC2)c1[N+](=O)[O-])C1CCOCC1\n",
      "[14:43:37] SMILES Parse Error: Failed parsing SMILES 'CCc1[nH]nc(C(=O)NCc2nc(C)ccc2N2CCOCC2)c1[N+](=O)[O-])C1CCOCC1' for input: 'CCc1[nH]nc(C(=O)NCc2nc(C)ccc2N2CCOCC2)c1[N+](=O)[O-])C1CCOCC1'\n",
      "[14:43:37] SMILES Parse Error: extra open parentheses for input: 'CCC(=O)c1ccc(NC2CCN(c3nnc(CCC3)c2[N+](=O)[O-])CCO1'\n",
      "[14:43:37] SMILES Parse Error: extra close parentheses while parsing: CCC(=O)Nc1cc(CN2C[C@H](C)[C@H](O)C2)c([N+](=O)[O-])cc2O)C[C@@H]1C\n",
      "[14:43:37] SMILES Parse Error: Failed parsing SMILES 'CCC(=O)Nc1cc(CN2C[C@H](C)[C@H](O)C2)c([N+](=O)[O-])cc2O)C[C@@H]1C' for input: 'CCC(=O)Nc1cc(CN2C[C@H](C)[C@H](O)C2)c([N+](=O)[O-])cc2O)C[C@@H]1C'\n",
      "[14:43:37] SMILES Parse Error: extra close parentheses while parsing: CCn1ncnc1c1nnc(C[N+](=O)[O-])cn1)C1CCN(Cc2cc([N+](=O)[O-])c(-n3ccnc3)c2)C1\n",
      "[14:43:37] SMILES Parse Error: Failed parsing SMILES 'CCn1ncnc1c1nnc(C[N+](=O)[O-])cn1)C1CCN(Cc2cc([N+](=O)[O-])c(-n3ccnc3)c2)C1' for input: 'CCn1ncnc1c1nnc(C[N+](=O)[O-])cn1)C1CCN(Cc2cc([N+](=O)[O-])c(-n3ccnc3)c2)C1'\n",
      "[14:43:37] SMILES Parse Error: extra open parentheses for input: 'CC(C)C[C@@H](CNC(=O)c1cc([N+](=O)[O-])cn1'\n",
      "[14:43:37] SMILES Parse Error: extra open parentheses for input: 'CCc1ccnc(CN2CCN(Cc3cccc([N+](=O)[O-])c3)C[C@@H]21'\n",
      "[14:43:37] SMILES Parse Error: extra open parentheses for input: 'CC(C)(C)OC(=O)N1CCC(NC(=O)N(Cc2cccc([N+](=O)[O-])c2)CCO1'\n",
      "[14:43:37] SMILES Parse Error: unclosed ring for input: 'CC(C)(C(=O)N[C@H]1CCn2ccc2ccccc2F)c1[N+](=O)[O-]'\n",
      "[14:43:37] SMILES Parse Error: extra close parentheses while parsing: CC(C)c1nn(C)c(N2CCN(CCCC(C)C)C(=O)C2)ccc1[N+](=O)[O-])CCC2\n",
      "[14:43:37] SMILES Parse Error: Failed parsing SMILES 'CC(C)c1nn(C)c(N2CCN(CCCC(C)C)C(=O)C2)ccc1[N+](=O)[O-])CCC2' for input: 'CC(C)c1nn(C)c(N2CCN(CCCC(C)C)C(=O)C2)ccc1[N+](=O)[O-])CCC2'\n",
      "[14:43:37] SMILES Parse Error: extra close parentheses while parsing: CC[C@@H]1[C@@H](C)C(=O)NC[C@@H]2C=CC[C@H]21)c1ccc([N+](=O)[O-])cc1)N1CCOCC1=O\n",
      "[14:43:37] SMILES Parse Error: Failed parsing SMILES 'CC[C@@H]1[C@@H](C)C(=O)NC[C@@H]2C=CC[C@H]21)c1ccc([N+](=O)[O-])cc1)N1CCOCC1=O' for input: 'CC[C@@H]1[C@@H](C)C(=O)NC[C@@H]2C=CC[C@H]21)c1ccc([N+](=O)[O-])cc1)N1CCOCC1=O'\n",
      "[14:43:37] SMILES Parse Error: ring closure 2 duplicates bond between atom 17 and atom 19 for input: 'CCNC(=O)c1ncnc(N[C@@H]3CCCC[C@@H]3C2(O)c2ccc([N+](=O)[O-])cn2)cc1'\n",
      "[14:43:37] SMILES Parse Error: unclosed ring for input: 'CC1(C)Oc2ccc(C(=O)NSCCn2cc([N+](=O)[O-])cnn2C)c1CC'\n",
      "[14:43:37] SMILES Parse Error: unclosed ring for input: 'CC(C)c1ccc(CNC(=O)c2cc(C(=O)O)[nH](C)c2ccccc2)c1[N+](=O)[O-]'\n",
      "[14:43:37] SMILES Parse Error: extra close parentheses while parsing: CC1(C)[C@@H](NC(=O)CC(=O)Nc2cccc([N+](=O)[O-])c2)OCO3)C1\n",
      "[14:43:37] SMILES Parse Error: Failed parsing SMILES 'CC1(C)[C@@H](NC(=O)CC(=O)Nc2cccc([N+](=O)[O-])c2)OCO3)C1' for input: 'CC1(C)[C@@H](NC(=O)CC(=O)Nc2cccc([N+](=O)[O-])c2)OCO3)C1'\n",
      "[14:43:37] SMILES Parse Error: extra close parentheses while parsing: CCc1ccsc1CNC(=O)Cn1cc([N+](=O)[O-])cc1)C(=O)OCC\n",
      "[14:43:37] SMILES Parse Error: Failed parsing SMILES 'CCc1ccsc1CNC(=O)Cn1cc([N+](=O)[O-])cc1)C(=O)OCC' for input: 'CCc1ccsc1CNC(=O)Cn1cc([N+](=O)[O-])cc1)C(=O)OCC'\n",
      "[14:43:37] Can't kekulize mol.  Unkekulized atoms: 7 8 9\n",
      "[14:43:37] SMILES Parse Error: syntax error while parsing: CC(C)(C(=O)O[CCn1nccc1Br)c1nc(-c2cccc([N+](=O)[O-])c2)CC1\n",
      "[14:43:37] SMILES Parse Error: Failed parsing SMILES 'CC(C)(C(=O)O[CCn1nccc1Br)c1nc(-c2cccc([N+](=O)[O-])c2)CC1' for input: 'CC(C)(C(=O)O[CCn1nccc1Br)c1nc(-c2cccc([N+](=O)[O-])c2)CC1'\n",
      "[14:43:37] SMILES Parse Error: unclosed ring for input: 'CC(C)CCCC(=O)N(C)CCCN1CCC(Nc2ccc([N+](=O)[O-])c3cscn2)C1(C)C'\n",
      "[14:43:37] SMILES Parse Error: extra open parentheses for input: 'CCOC(=O)[C@H](CS(C)(=O)COc1ccccc1[N+](=O)[O-]'\n",
      "[14:43:37] SMILES Parse Error: extra close parentheses while parsing: CCN1CCCN(C(=O)c2cc(C)c([N+](=O)[O-])o2)nnc1N)c1ccccc1\n",
      "[14:43:37] SMILES Parse Error: Failed parsing SMILES 'CCN1CCCN(C(=O)c2cc(C)c([N+](=O)[O-])o2)nnc1N)c1ccccc1' for input: 'CCN1CCCN(C(=O)c2cc(C)c([N+](=O)[O-])o2)nnc1N)c1ccccc1'\n",
      "[14:43:37] SMILES Parse Error: unclosed ring for input: 'CC[C@H](C)NC(=O)C(=O)N1CC1(C)CCC(CNCc2ccccc2[N+](=O)[O-])C1F'\n",
      "[14:43:37] Can't kekulize mol.  Unkekulized atoms: 21 23\n",
      "[14:43:37] SMILES Parse Error: unclosed ring for input: 'CCC1(C(=O)N[C@H]2[C@@H]3OCCC[C@H]21)c1ccccc1[N+](=O)[O-]'\n",
      "[14:43:37] SMILES Parse Error: ring closure 1 duplicates bond between atom 3 and atom 20 for input: 'CCOC1(C(=O)N[C@H]2CCC[C@H](CNC(=O)C(C)C)C2)c1[N+](=O)[O-]'\n",
      "[14:43:37] SMILES Parse Error: extra open parentheses for input: 'CC[C@@H](Cc1ccc([N+](=O)[O-])cc1NC(=O)NCCn1nc(C)c(=Nc2cc(C)c([N+](=O)[O-])cn2)C1'\n",
      "[14:43:37] SMILES Parse Error: extra open parentheses for input: 'CCN(C1CCN(C(=O)Cc2cccc([N+](=O)[O-])c2)CC1=O'\n",
      "[14:43:37] Can't kekulize mol.  Unkekulized atoms: 5 6 7\n",
      "[14:43:37] SMILES Parse Error: unclosed ring for input: 'CC[C@@H]1C(=O)N1CCN(Cc2ccccc2[N+](=O)[O-])C1=O'\n",
      "[14:43:37] Can't kekulize mol.  Unkekulized atoms: 3 4 5 26 27\n",
      "[14:43:37] SMILES Parse Error: extra open parentheses for input: 'CCOC(=O)C[C@H](NS(=O)'\n"
     ]
    }
   ],
   "source": [
    "\n",
    "from rdkit import Chem\n",
    "valid_smiles = []\n",
    "\n",
    "for smi in list_of_smiles:\n",
    "    mol = Chem.MolFromSmiles(smi)\n",
    "    if mol:\n",
    "        valid_smiles.append(smi)\n",
    "    else:\n",
    "        pass\n",
    "        #print(f\"Invalid SMILES string: {smi}\")\n",
    "\n",
    "\n",
    "\n",
    "accuracy = (len(valid_smiles) / len(list_of_smiles) ) * 100\n",
    "print(f\"Accuracy = {len(valid_smiles)}/{len(list_of_smiles)} = {accuracy:.2f}\")\n"
   ]
  },
  {
   "cell_type": "code",
   "execution_count": 46,
   "id": "c51644d3-9403-4a21-bfb4-3eb4d39abf1b",
   "metadata": {},
   "outputs": [
    {
     "data": {
      "text/plain": [
       "811"
      ]
     },
     "execution_count": 46,
     "metadata": {},
     "output_type": "execute_result"
    }
   ],
   "source": [
    "len(valid_smiles)"
   ]
  },
  {
   "cell_type": "code",
   "execution_count": 54,
   "id": "344d7e8c-a974-44a8-8368-c63ac79aee82",
   "metadata": {},
   "outputs": [
    {
     "data": {
      "image/png": "[encoded data removed]",
      "text/plain": [
       "<rdkit.Chem.rdchem.Mol at 0x2db539770>"
      ]
     },
     "execution_count": 54,
     "metadata": {},
     "output_type": "execute_result"
    }
   ],
   "source": [
    "Chem.MolFromSmiles(valid_smiles[131])"
   ]
  },
  {
   "cell_type": "code",
   "execution_count": null,
   "id": "17fe2ecb-c39f-4020-8ccb-a8980c6a8158",
   "metadata": {},
   "outputs": [],
   "source": []
  },
  {
   "cell_type": "code",
   "execution_count": null,
   "id": "3424ea72-1c45-4293-8c4b-8d6266f00ef5",
   "metadata": {},
   "outputs": [],
   "source": []
  },
  {
   "cell_type": "markdown",
   "id": "94d1a906-1116-41f3-9b68-8548d0a6376a",
   "metadata": {},
   "source": [
    "# Finetuning"
   ]
  },
  {
   "cell_type": "code",
   "execution_count": 12,
   "id": "bed416bb-9ec8-4420-80c2-8640fde286ac",
   "metadata": {},
   "outputs": [],
   "source": [
    "\n",
    " ## Reading and processing text\n",
    "with open('eg5/preprocessed_eg5.txt', 'r', encoding=\"utf8\") as fp: eg5=fp.read()\n",
    "\n"
   ]
  },
  {
   "cell_type": "code",
   "execution_count": 13,
   "id": "f919e72f-abeb-41cd-961e-f26c503f8f72",
   "metadata": {},
   "outputs": [
    {
     "name": "stdout",
     "output_type": "stream",
     "text": [
      "Eg5 encoded shape:  (23266,)\n",
      "CC(=O)Nc1ccc([C@@H]2N == Encoding ==> [14 14  2 11 19  3 18 24  7 24 24 24  2 21 14 12 12 16 23  8 18]\n",
      "[14 14  2 11 19  3 18 24  7 24 24 24  2 21 14 12 12 16 23  8 18] == Reverse ==> CC(=O)Nc1ccc([C@@H]2N\n"
     ]
    }
   ],
   "source": [
    "eg5_encoded = np.array([char2int[ch] for ch in eg5], dtype=np.int32)\n",
    "print(\"Eg5 encoded shape: \", eg5_encoded.shape)\n",
    "print(f\"{eg5[:21]} == Encoding ==> {eg5_encoded[:21]}\")\n",
    "print(eg5_encoded[:21], \"== Reverse ==>\", \"\".join(char_array[eg5_encoded[:21]]))"
   ]
  },
  {
   "cell_type": "code",
   "execution_count": 14,
   "id": "17271977-cc72-437f-a9e8-57172a97a44e",
   "metadata": {},
   "outputs": [],
   "source": [
    "seq_length = 40 # hyperparameter\n",
    "chunk_size = seq_length + 1\n",
    "eg5_chunks = [eg5_encoded[i:i+chunk_size] for i in range(len(eg5_encoded) - chunk_size+1)]"
   ]
  },
  {
   "cell_type": "code",
   "execution_count": 15,
   "id": "2eefbe53-ccee-41ff-95b3-cf61142bd25e",
   "metadata": {},
   "outputs": [],
   "source": [
    "class TextDataset(Dataset):\n",
    "    def __init__(self, text_chunks):\n",
    "        self.text_chunks = text_chunks\n",
    "\n",
    "    def __len__(self):\n",
    "        return len(self.text_chunks)\n",
    "\n",
    "    def __getitem__(self, idx):\n",
    "        text_chunk = self.text_chunks[idx]\n",
    "        return text_chunk[:-1], text_chunk[1:].long()"
   ]
  },
  {
   "cell_type": "code",
   "execution_count": 16,
   "id": "64a99852-3c46-4465-9868-9d683e9d1189",
   "metadata": {},
   "outputs": [
    {
     "name": "stdout",
     "output_type": "stream",
     "text": [
      "Input (x):  'CC(=O)Nc1ccc([C@@H]2Nc3ccc(C(C)(C)C)cc3['\n",
      "Target (y):  'C(=O)Nc1ccc([C@@H]2Nc3ccc(C(C)(C)C)cc3[C'\n",
      "\n",
      "Input (x):  'C(=O)Nc1ccc([C@@H]2Nc3ccc(C(C)(C)C)cc3[C'\n",
      "Target (y):  '(=O)Nc1ccc([C@@H]2Nc3ccc(C(C)(C)C)cc3[C@'\n",
      "\n"
     ]
    },
    {
     "name": "stderr",
     "output_type": "stream",
     "text": [
      "/var/folders/fp/n6tyvsqs38bcnkzxj_x61ctw0000gn/T/ipykernel_29959/553595255.py:1: UserWarning: Creating a tensor from a list of numpy.ndarrays is extremely slow. Please consider converting the list to a single numpy.ndarray with numpy.array() before converting to a tensor. (Triggered internally at /Users/runner/work/pytorch/pytorch/pytorch/torch/csrc/utils/tensor_new.cpp:278.)\n",
      "  eg5_dataset = TextDataset(torch.tensor(eg5_chunks))\n"
     ]
    }
   ],
   "source": [
    "eg5_dataset = TextDataset(torch.tensor(eg5_chunks))\n",
    "\n",
    "for i, (seq, target) in enumerate(eg5_dataset):\n",
    "    print(\"Input (x): \", repr(\"\".join(char_array[seq])))\n",
    "    print(\"Target (y): \", repr(\"\".join(char_array[target])))\n",
    "    print()\n",
    "    if i == 1: \n",
    "        break"
   ]
  },
  {
   "cell_type": "code",
   "execution_count": 17,
   "id": "ab28cfdb-eb06-4395-8f47-afafa3c0b729",
   "metadata": {},
   "outputs": [],
   "source": [
    "# Transform into minibatches\n",
    "from torch.utils.data import DataLoader\n",
    "batch_size = 64\n",
    "torch.manual_seed(1)\n",
    "eg5_dl = DataLoader(eg5_dataset, batch_size=batch_size, shuffle=True, drop_last=True)"
   ]
  },
  {
   "cell_type": "code",
   "execution_count": 18,
   "id": "765c7796-982f-4faa-97a1-0eb015ebbe39",
   "metadata": {},
   "outputs": [],
   "source": [
    "import torch.nn as nn\n",
    "class RNN(nn.Module):\n",
    "    def __init__(self, vocab_size, embed_dim, rnn_hidden_size):\n",
    "        super().__init__()\n",
    "        self.rnn_hidden_size = rnn_hidden_size\n",
    "        self.embedding = nn.Embedding(vocab_size, embed_dim)\n",
    "        self.rnn = nn.LSTM(embed_dim, rnn_hidden_size, batch_first=True)\n",
    "        self.fc = nn.Linear(rnn_hidden_size, vocab_size)\n",
    "\n",
    "    def forward(self, x, hidden, cell):\n",
    "        out = self.embedding(x).unsqueeze(1)\n",
    "        out, (hidden, cell) = self.rnn(out, (hidden, cell))\n",
    "        out = self.fc(out).reshape(out.size(0), -1)\n",
    "        return out, hidden, cell\n",
    "\n",
    "    def init_hidden(self, batch_size):\n",
    "        hidden = torch.zeros(1, batch_size, self.rnn_hidden_size)\n",
    "        cell = torch.zeros(1, batch_size, self.rnn_hidden_size)\n",
    "        return hidden, cell"
   ]
  },
  {
   "cell_type": "code",
   "execution_count": 19,
   "id": "bb7e89fd-955c-482f-bf2f-7f3bb61f0113",
   "metadata": {},
   "outputs": [
    {
     "data": {
      "text/plain": [
       "RNN(\n",
       "  (embedding): Embedding(31, 256)\n",
       "  (rnn): LSTM(256, 512, batch_first=True)\n",
       "  (fc): Linear(in_features=512, out_features=31, bias=True)\n",
       ")"
      ]
     },
     "execution_count": 19,
     "metadata": {},
     "output_type": "execute_result"
    }
   ],
   "source": [
    "# Create RNN model\n",
    "vocab_size = len(char_array)\n",
    "embed_dim = 256\n",
    "rnn_hidden_size = 512\n",
    "torch.manual_seed(1)\n",
    "finetunemodel = RNN(vocab_size, embed_dim, rnn_hidden_size)\n",
    "finetunemodel"
   ]
  },
  {
   "cell_type": "code",
   "execution_count": 20,
   "id": "6a34be17-f2f9-4a0f-b67b-c467f102df66",
   "metadata": {},
   "outputs": [
    {
     "name": "stderr",
     "output_type": "stream",
     "text": [
      "/Users/sefunmibodun/anaconda3/envs/dami/lib/python3.12/site-packages/tqdm/auto.py:21: TqdmWarning: IProgress not found. Please update jupyter and ipywidgets. See https://ipywidgets.readthedocs.io/en/stable/user_install.html\n",
      "  from .autonotebook import tqdm as notebook_tqdm\n"
     ]
    }
   ],
   "source": [
    "# Define loss and optimizer\n",
    "loss_fn = nn.CrossEntropyLoss()\n",
    "optimizer = torch.optim.Adam(finetunemodel.parameters(), lr=0.001)"
   ]
  },
  {
   "cell_type": "code",
   "execution_count": 124,
   "id": "633fdeba-4ff2-4075-a998-dbabe7d477c2",
   "metadata": {},
   "outputs": [
    {
     "data": {
      "text/plain": [
       "<All keys matched successfully>"
      ]
     },
     "execution_count": 124,
     "metadata": {},
     "output_type": "execute_result"
    }
   ],
   "source": [
    "from tqdm import tqdm\n",
    "finetunemodel.load_state_dict(torch.load('./model.pt'))"
   ]
  },
  {
   "cell_type": "code",
   "execution_count": 126,
   "id": "9e4dfb68-6ea5-4bd5-9580-a85683c196b5",
   "metadata": {
    "scrolled": true
   },
   "outputs": [
    {
     "name": "stderr",
     "output_type": "stream",
     "text": [
      "  0%|                                          | 3/2000 [00:00<06:13,  5.35it/s]"
     ]
    },
    {
     "name": "stdout",
     "output_type": "stream",
     "text": [
      "Epoch 0 loss: 1.3046\n"
     ]
    },
    {
     "name": "stderr",
     "output_type": "stream",
     "text": [
      "  1%|▍                                        | 23/2000 [00:02<02:45, 11.95it/s]"
     ]
    },
    {
     "name": "stdout",
     "output_type": "stream",
     "text": [
      "Epoch 20 loss: 0.6479\n"
     ]
    },
    {
     "name": "stderr",
     "output_type": "stream",
     "text": [
      "  2%|▉                                        | 43/2000 [00:03<02:40, 12.18it/s]"
     ]
    },
    {
     "name": "stdout",
     "output_type": "stream",
     "text": [
      "Epoch 40 loss: 0.5191\n"
     ]
    },
    {
     "name": "stderr",
     "output_type": "stream",
     "text": [
      "  3%|█▎                                       | 63/2000 [00:05<02:38, 12.21it/s]"
     ]
    },
    {
     "name": "stdout",
     "output_type": "stream",
     "text": [
      "Epoch 60 loss: 0.4289\n"
     ]
    },
    {
     "name": "stderr",
     "output_type": "stream",
     "text": [
      "  4%|█▋                                       | 83/2000 [00:07<02:36, 12.25it/s]"
     ]
    },
    {
     "name": "stdout",
     "output_type": "stream",
     "text": [
      "Epoch 80 loss: 0.4534\n"
     ]
    },
    {
     "name": "stderr",
     "output_type": "stream",
     "text": [
      "  5%|██                                      | 103/2000 [00:08<02:35, 12.20it/s]"
     ]
    },
    {
     "name": "stdout",
     "output_type": "stream",
     "text": [
      "Epoch 100 loss: 0.3902\n"
     ]
    },
    {
     "name": "stderr",
     "output_type": "stream",
     "text": [
      "  6%|██▍                                     | 123/2000 [00:10<02:33, 12.26it/s]"
     ]
    },
    {
     "name": "stdout",
     "output_type": "stream",
     "text": [
      "Epoch 120 loss: 0.3877\n"
     ]
    },
    {
     "name": "stderr",
     "output_type": "stream",
     "text": [
      "  7%|██▊                                     | 143/2000 [00:12<02:31, 12.27it/s]"
     ]
    },
    {
     "name": "stdout",
     "output_type": "stream",
     "text": [
      "Epoch 140 loss: 0.3512\n"
     ]
    },
    {
     "name": "stderr",
     "output_type": "stream",
     "text": [
      "  8%|███▎                                    | 163/2000 [00:13<02:29, 12.31it/s]"
     ]
    },
    {
     "name": "stdout",
     "output_type": "stream",
     "text": [
      "Epoch 160 loss: 0.3311\n"
     ]
    },
    {
     "name": "stderr",
     "output_type": "stream",
     "text": [
      "  9%|███▋                                    | 183/2000 [00:15<02:28, 12.20it/s]"
     ]
    },
    {
     "name": "stdout",
     "output_type": "stream",
     "text": [
      "Epoch 180 loss: 0.3306\n"
     ]
    },
    {
     "name": "stderr",
     "output_type": "stream",
     "text": [
      " 10%|████                                    | 203/2000 [00:17<02:27, 12.21it/s]"
     ]
    },
    {
     "name": "stdout",
     "output_type": "stream",
     "text": [
      "Epoch 200 loss: 0.3267\n"
     ]
    },
    {
     "name": "stderr",
     "output_type": "stream",
     "text": [
      " 11%|████▍                                   | 223/2000 [00:18<02:24, 12.28it/s]"
     ]
    },
    {
     "name": "stdout",
     "output_type": "stream",
     "text": [
      "Epoch 220 loss: 0.3178\n"
     ]
    },
    {
     "name": "stderr",
     "output_type": "stream",
     "text": [
      " 12%|████▊                                   | 243/2000 [00:20<02:23, 12.23it/s]"
     ]
    },
    {
     "name": "stdout",
     "output_type": "stream",
     "text": [
      "Epoch 240 loss: 0.3089\n"
     ]
    },
    {
     "name": "stderr",
     "output_type": "stream",
     "text": [
      " 13%|█████▎                                  | 263/2000 [00:22<02:23, 12.11it/s]"
     ]
    },
    {
     "name": "stdout",
     "output_type": "stream",
     "text": [
      "Epoch 260 loss: 0.3175\n"
     ]
    },
    {
     "name": "stderr",
     "output_type": "stream",
     "text": [
      " 14%|█████▋                                  | 283/2000 [00:23<02:21, 12.15it/s]"
     ]
    },
    {
     "name": "stdout",
     "output_type": "stream",
     "text": [
      "Epoch 280 loss: 0.2844\n"
     ]
    },
    {
     "name": "stderr",
     "output_type": "stream",
     "text": [
      " 15%|██████                                  | 303/2000 [00:25<02:18, 12.22it/s]"
     ]
    },
    {
     "name": "stdout",
     "output_type": "stream",
     "text": [
      "Epoch 300 loss: 0.2862\n"
     ]
    },
    {
     "name": "stderr",
     "output_type": "stream",
     "text": [
      " 16%|██████▍                                 | 323/2000 [00:27<02:16, 12.27it/s]"
     ]
    },
    {
     "name": "stdout",
     "output_type": "stream",
     "text": [
      "Epoch 320 loss: 0.2712\n"
     ]
    },
    {
     "name": "stderr",
     "output_type": "stream",
     "text": [
      " 17%|██████▊                                 | 343/2000 [00:28<02:15, 12.27it/s]"
     ]
    },
    {
     "name": "stdout",
     "output_type": "stream",
     "text": [
      "Epoch 340 loss: 0.2734\n"
     ]
    },
    {
     "name": "stderr",
     "output_type": "stream",
     "text": [
      " 18%|███████▎                                | 363/2000 [00:30<02:14, 12.19it/s]"
     ]
    },
    {
     "name": "stdout",
     "output_type": "stream",
     "text": [
      "Epoch 360 loss: 0.2927\n"
     ]
    },
    {
     "name": "stderr",
     "output_type": "stream",
     "text": [
      " 19%|███████▋                                | 383/2000 [00:31<02:11, 12.27it/s]"
     ]
    },
    {
     "name": "stdout",
     "output_type": "stream",
     "text": [
      "Epoch 380 loss: 0.2775\n"
     ]
    },
    {
     "name": "stderr",
     "output_type": "stream",
     "text": [
      " 20%|████████                                | 403/2000 [00:33<02:10, 12.20it/s]"
     ]
    },
    {
     "name": "stdout",
     "output_type": "stream",
     "text": [
      "Epoch 400 loss: 0.2539\n"
     ]
    },
    {
     "name": "stderr",
     "output_type": "stream",
     "text": [
      " 21%|████████▍                               | 423/2000 [00:35<02:09, 12.21it/s]"
     ]
    },
    {
     "name": "stdout",
     "output_type": "stream",
     "text": [
      "Epoch 420 loss: 0.2790\n"
     ]
    },
    {
     "name": "stderr",
     "output_type": "stream",
     "text": [
      " 22%|████████▊                               | 443/2000 [00:36<02:08, 12.15it/s]"
     ]
    },
    {
     "name": "stdout",
     "output_type": "stream",
     "text": [
      "Epoch 440 loss: 0.2681\n"
     ]
    },
    {
     "name": "stderr",
     "output_type": "stream",
     "text": [
      " 23%|█████████▎                              | 463/2000 [00:38<02:06, 12.12it/s]"
     ]
    },
    {
     "name": "stdout",
     "output_type": "stream",
     "text": [
      "Epoch 460 loss: 0.2692\n"
     ]
    },
    {
     "name": "stderr",
     "output_type": "stream",
     "text": [
      " 24%|█████████▋                              | 483/2000 [00:40<02:03, 12.26it/s]"
     ]
    },
    {
     "name": "stdout",
     "output_type": "stream",
     "text": [
      "Epoch 480 loss: 0.2560\n"
     ]
    },
    {
     "name": "stderr",
     "output_type": "stream",
     "text": [
      " 25%|██████████                              | 503/2000 [00:41<02:02, 12.24it/s]"
     ]
    },
    {
     "name": "stdout",
     "output_type": "stream",
     "text": [
      "Epoch 500 loss: 0.2638\n"
     ]
    },
    {
     "name": "stderr",
     "output_type": "stream",
     "text": [
      " 26%|██████████▍                             | 523/2000 [00:43<02:00, 12.25it/s]"
     ]
    },
    {
     "name": "stdout",
     "output_type": "stream",
     "text": [
      "Epoch 520 loss: 0.2524\n"
     ]
    },
    {
     "name": "stderr",
     "output_type": "stream",
     "text": [
      " 27%|██████████▊                             | 543/2000 [00:45<02:00, 12.12it/s]"
     ]
    },
    {
     "name": "stdout",
     "output_type": "stream",
     "text": [
      "Epoch 540 loss: 0.2538\n"
     ]
    },
    {
     "name": "stderr",
     "output_type": "stream",
     "text": [
      " 28%|███████████▎                            | 563/2000 [00:46<01:57, 12.25it/s]"
     ]
    },
    {
     "name": "stdout",
     "output_type": "stream",
     "text": [
      "Epoch 560 loss: 0.2533\n"
     ]
    },
    {
     "name": "stderr",
     "output_type": "stream",
     "text": [
      " 29%|███████████▋                            | 583/2000 [00:48<01:56, 12.16it/s]"
     ]
    },
    {
     "name": "stdout",
     "output_type": "stream",
     "text": [
      "Epoch 580 loss: 0.2597\n"
     ]
    },
    {
     "name": "stderr",
     "output_type": "stream",
     "text": [
      " 30%|████████████                            | 603/2000 [00:50<01:54, 12.18it/s]"
     ]
    },
    {
     "name": "stdout",
     "output_type": "stream",
     "text": [
      "Epoch 600 loss: 0.2458\n"
     ]
    },
    {
     "name": "stderr",
     "output_type": "stream",
     "text": [
      " 31%|████████████▍                           | 623/2000 [00:51<01:52, 12.22it/s]"
     ]
    },
    {
     "name": "stdout",
     "output_type": "stream",
     "text": [
      "Epoch 620 loss: 0.2487\n"
     ]
    },
    {
     "name": "stderr",
     "output_type": "stream",
     "text": [
      " 32%|████████████▊                           | 643/2000 [00:53<01:51, 12.18it/s]"
     ]
    },
    {
     "name": "stdout",
     "output_type": "stream",
     "text": [
      "Epoch 640 loss: 0.2577\n"
     ]
    },
    {
     "name": "stderr",
     "output_type": "stream",
     "text": [
      " 33%|█████████████▎                          | 663/2000 [00:54<01:49, 12.18it/s]"
     ]
    },
    {
     "name": "stdout",
     "output_type": "stream",
     "text": [
      "Epoch 660 loss: 0.2546\n"
     ]
    },
    {
     "name": "stderr",
     "output_type": "stream",
     "text": [
      " 34%|█████████████▋                          | 683/2000 [00:56<01:48, 12.19it/s]"
     ]
    },
    {
     "name": "stdout",
     "output_type": "stream",
     "text": [
      "Epoch 680 loss: 0.2555\n"
     ]
    },
    {
     "name": "stderr",
     "output_type": "stream",
     "text": [
      " 35%|██████████████                          | 703/2000 [00:58<01:46, 12.23it/s]"
     ]
    },
    {
     "name": "stdout",
     "output_type": "stream",
     "text": [
      "Epoch 700 loss: 0.2432\n"
     ]
    },
    {
     "name": "stderr",
     "output_type": "stream",
     "text": [
      " 36%|██████████████▍                         | 723/2000 [00:59<01:44, 12.21it/s]"
     ]
    },
    {
     "name": "stdout",
     "output_type": "stream",
     "text": [
      "Epoch 720 loss: 0.2569\n"
     ]
    },
    {
     "name": "stderr",
     "output_type": "stream",
     "text": [
      " 37%|██████████████▊                         | 743/2000 [01:01<01:42, 12.24it/s]"
     ]
    },
    {
     "name": "stdout",
     "output_type": "stream",
     "text": [
      "Epoch 740 loss: 0.2587\n"
     ]
    },
    {
     "name": "stderr",
     "output_type": "stream",
     "text": [
      " 38%|███████████████▎                        | 763/2000 [01:03<01:41, 12.23it/s]"
     ]
    },
    {
     "name": "stdout",
     "output_type": "stream",
     "text": [
      "Epoch 760 loss: 0.2505\n"
     ]
    },
    {
     "name": "stderr",
     "output_type": "stream",
     "text": [
      " 39%|███████████████▋                        | 783/2000 [01:04<01:39, 12.18it/s]"
     ]
    },
    {
     "name": "stdout",
     "output_type": "stream",
     "text": [
      "Epoch 780 loss: 0.2589\n"
     ]
    },
    {
     "name": "stderr",
     "output_type": "stream",
     "text": [
      " 40%|████████████████                        | 803/2000 [01:06<01:37, 12.26it/s]"
     ]
    },
    {
     "name": "stdout",
     "output_type": "stream",
     "text": [
      "Epoch 800 loss: 0.2484\n"
     ]
    },
    {
     "name": "stderr",
     "output_type": "stream",
     "text": [
      " 41%|████████████████▍                       | 823/2000 [01:08<01:36, 12.21it/s]"
     ]
    },
    {
     "name": "stdout",
     "output_type": "stream",
     "text": [
      "Epoch 820 loss: 0.2476\n"
     ]
    },
    {
     "name": "stderr",
     "output_type": "stream",
     "text": [
      " 42%|████████████████▊                       | 843/2000 [01:09<01:35, 12.17it/s]"
     ]
    },
    {
     "name": "stdout",
     "output_type": "stream",
     "text": [
      "Epoch 840 loss: 0.2481\n"
     ]
    },
    {
     "name": "stderr",
     "output_type": "stream",
     "text": [
      " 43%|█████████████████▎                      | 863/2000 [01:11<01:32, 12.23it/s]"
     ]
    },
    {
     "name": "stdout",
     "output_type": "stream",
     "text": [
      "Epoch 860 loss: 0.2326\n"
     ]
    },
    {
     "name": "stderr",
     "output_type": "stream",
     "text": [
      " 44%|█████████████████▋                      | 883/2000 [01:12<01:31, 12.26it/s]"
     ]
    },
    {
     "name": "stdout",
     "output_type": "stream",
     "text": [
      "Epoch 880 loss: 0.2340\n"
     ]
    },
    {
     "name": "stderr",
     "output_type": "stream",
     "text": [
      " 45%|██████████████████                      | 903/2000 [01:14<01:32, 11.86it/s]"
     ]
    },
    {
     "name": "stdout",
     "output_type": "stream",
     "text": [
      "Epoch 900 loss: 0.2404\n"
     ]
    },
    {
     "name": "stderr",
     "output_type": "stream",
     "text": [
      " 46%|██████████████████▍                     | 923/2000 [01:16<01:28, 12.16it/s]"
     ]
    },
    {
     "name": "stdout",
     "output_type": "stream",
     "text": [
      "Epoch 920 loss: 0.2362\n"
     ]
    },
    {
     "name": "stderr",
     "output_type": "stream",
     "text": [
      " 47%|██████████████████▊                     | 943/2000 [01:17<01:26, 12.19it/s]"
     ]
    },
    {
     "name": "stdout",
     "output_type": "stream",
     "text": [
      "Epoch 940 loss: 0.2418\n"
     ]
    },
    {
     "name": "stderr",
     "output_type": "stream",
     "text": [
      " 48%|███████████████████▎                    | 963/2000 [01:19<01:24, 12.23it/s]"
     ]
    },
    {
     "name": "stdout",
     "output_type": "stream",
     "text": [
      "Epoch 960 loss: 0.2374\n"
     ]
    },
    {
     "name": "stderr",
     "output_type": "stream",
     "text": [
      " 49%|███████████████████▋                    | 983/2000 [01:21<01:22, 12.29it/s]"
     ]
    },
    {
     "name": "stdout",
     "output_type": "stream",
     "text": [
      "Epoch 980 loss: 0.2311\n"
     ]
    },
    {
     "name": "stderr",
     "output_type": "stream",
     "text": [
      " 50%|███████████████████▌                   | 1003/2000 [01:22<01:21, 12.26it/s]"
     ]
    },
    {
     "name": "stdout",
     "output_type": "stream",
     "text": [
      "Epoch 1000 loss: 0.2343\n"
     ]
    },
    {
     "name": "stderr",
     "output_type": "stream",
     "text": [
      " 51%|███████████████████▉                   | 1023/2000 [01:24<01:19, 12.31it/s]"
     ]
    },
    {
     "name": "stdout",
     "output_type": "stream",
     "text": [
      "Epoch 1020 loss: 0.2280\n"
     ]
    },
    {
     "name": "stderr",
     "output_type": "stream",
     "text": [
      " 52%|████████████████████▎                  | 1043/2000 [01:26<01:17, 12.31it/s]"
     ]
    },
    {
     "name": "stdout",
     "output_type": "stream",
     "text": [
      "Epoch 1040 loss: 0.2211\n"
     ]
    },
    {
     "name": "stderr",
     "output_type": "stream",
     "text": [
      " 53%|████████████████████▋                  | 1063/2000 [01:27<01:16, 12.28it/s]"
     ]
    },
    {
     "name": "stdout",
     "output_type": "stream",
     "text": [
      "Epoch 1060 loss: 0.2375\n"
     ]
    },
    {
     "name": "stderr",
     "output_type": "stream",
     "text": [
      " 54%|█████████████████████                  | 1083/2000 [01:29<01:14, 12.24it/s]"
     ]
    },
    {
     "name": "stdout",
     "output_type": "stream",
     "text": [
      "Epoch 1080 loss: 0.2284\n"
     ]
    },
    {
     "name": "stderr",
     "output_type": "stream",
     "text": [
      " 55%|█████████████████████▌                 | 1103/2000 [01:30<01:13, 12.28it/s]"
     ]
    },
    {
     "name": "stdout",
     "output_type": "stream",
     "text": [
      "Epoch 1100 loss: 0.2381\n"
     ]
    },
    {
     "name": "stderr",
     "output_type": "stream",
     "text": [
      " 56%|█████████████████████▉                 | 1123/2000 [01:32<01:11, 12.32it/s]"
     ]
    },
    {
     "name": "stdout",
     "output_type": "stream",
     "text": [
      "Epoch 1120 loss: 0.2295\n"
     ]
    },
    {
     "name": "stderr",
     "output_type": "stream",
     "text": [
      " 57%|██████████████████████▎                | 1143/2000 [01:34<01:09, 12.32it/s]"
     ]
    },
    {
     "name": "stdout",
     "output_type": "stream",
     "text": [
      "Epoch 1140 loss: 0.2229\n"
     ]
    },
    {
     "name": "stderr",
     "output_type": "stream",
     "text": [
      " 58%|██████████████████████▋                | 1163/2000 [01:35<01:08, 12.28it/s]"
     ]
    },
    {
     "name": "stdout",
     "output_type": "stream",
     "text": [
      "Epoch 1160 loss: 0.2284\n"
     ]
    },
    {
     "name": "stderr",
     "output_type": "stream",
     "text": [
      " 59%|███████████████████████                | 1183/2000 [01:37<01:06, 12.30it/s]"
     ]
    },
    {
     "name": "stdout",
     "output_type": "stream",
     "text": [
      "Epoch 1180 loss: 0.2253\n"
     ]
    },
    {
     "name": "stderr",
     "output_type": "stream",
     "text": [
      " 60%|███████████████████████▍               | 1203/2000 [01:39<01:05, 12.23it/s]"
     ]
    },
    {
     "name": "stdout",
     "output_type": "stream",
     "text": [
      "Epoch 1200 loss: 0.2278\n"
     ]
    },
    {
     "name": "stderr",
     "output_type": "stream",
     "text": [
      " 61%|███████████████████████▊               | 1223/2000 [01:40<01:03, 12.30it/s]"
     ]
    },
    {
     "name": "stdout",
     "output_type": "stream",
     "text": [
      "Epoch 1220 loss: 0.2226\n"
     ]
    },
    {
     "name": "stderr",
     "output_type": "stream",
     "text": [
      " 62%|████████████████████████▏              | 1243/2000 [01:42<01:01, 12.24it/s]"
     ]
    },
    {
     "name": "stdout",
     "output_type": "stream",
     "text": [
      "Epoch 1240 loss: 0.2372\n"
     ]
    },
    {
     "name": "stderr",
     "output_type": "stream",
     "text": [
      " 63%|████████████████████████▋              | 1263/2000 [01:43<01:00, 12.21it/s]"
     ]
    },
    {
     "name": "stdout",
     "output_type": "stream",
     "text": [
      "Epoch 1260 loss: 0.2364\n"
     ]
    },
    {
     "name": "stderr",
     "output_type": "stream",
     "text": [
      " 64%|█████████████████████████              | 1283/2000 [01:45<00:58, 12.30it/s]"
     ]
    },
    {
     "name": "stdout",
     "output_type": "stream",
     "text": [
      "Epoch 1280 loss: 0.2264\n"
     ]
    },
    {
     "name": "stderr",
     "output_type": "stream",
     "text": [
      " 65%|█████████████████████████▍             | 1303/2000 [01:47<00:56, 12.28it/s]"
     ]
    },
    {
     "name": "stdout",
     "output_type": "stream",
     "text": [
      "Epoch 1300 loss: 0.2187\n"
     ]
    },
    {
     "name": "stderr",
     "output_type": "stream",
     "text": [
      " 66%|█████████████████████████▊             | 1323/2000 [01:48<00:55, 12.27it/s]"
     ]
    },
    {
     "name": "stdout",
     "output_type": "stream",
     "text": [
      "Epoch 1320 loss: 0.2305\n"
     ]
    },
    {
     "name": "stderr",
     "output_type": "stream",
     "text": [
      " 67%|██████████████████████████▏            | 1343/2000 [01:50<00:53, 12.18it/s]"
     ]
    },
    {
     "name": "stdout",
     "output_type": "stream",
     "text": [
      "Epoch 1340 loss: 0.2231\n"
     ]
    },
    {
     "name": "stderr",
     "output_type": "stream",
     "text": [
      " 68%|██████████████████████████▌            | 1363/2000 [01:52<00:51, 12.30it/s]"
     ]
    },
    {
     "name": "stdout",
     "output_type": "stream",
     "text": [
      "Epoch 1360 loss: 0.2152\n"
     ]
    },
    {
     "name": "stderr",
     "output_type": "stream",
     "text": [
      " 69%|██████████████████████████▉            | 1383/2000 [01:53<00:50, 12.24it/s]"
     ]
    },
    {
     "name": "stdout",
     "output_type": "stream",
     "text": [
      "Epoch 1380 loss: 0.2213\n"
     ]
    },
    {
     "name": "stderr",
     "output_type": "stream",
     "text": [
      " 70%|███████████████████████████▎           | 1403/2000 [01:55<00:48, 12.26it/s]"
     ]
    },
    {
     "name": "stdout",
     "output_type": "stream",
     "text": [
      "Epoch 1400 loss: 0.2262\n"
     ]
    },
    {
     "name": "stderr",
     "output_type": "stream",
     "text": [
      " 71%|███████████████████████████▋           | 1423/2000 [01:57<00:46, 12.30it/s]"
     ]
    },
    {
     "name": "stdout",
     "output_type": "stream",
     "text": [
      "Epoch 1420 loss: 0.2210\n"
     ]
    },
    {
     "name": "stderr",
     "output_type": "stream",
     "text": [
      " 72%|████████████████████████████▏          | 1443/2000 [01:58<00:46, 12.08it/s]"
     ]
    },
    {
     "name": "stdout",
     "output_type": "stream",
     "text": [
      "Epoch 1440 loss: 0.2239\n"
     ]
    },
    {
     "name": "stderr",
     "output_type": "stream",
     "text": [
      " 73%|████████████████████████████▌          | 1463/2000 [02:00<00:44, 12.11it/s]"
     ]
    },
    {
     "name": "stdout",
     "output_type": "stream",
     "text": [
      "Epoch 1460 loss: 0.2270\n"
     ]
    },
    {
     "name": "stderr",
     "output_type": "stream",
     "text": [
      " 74%|████████████████████████████▉          | 1483/2000 [02:02<00:42, 12.14it/s]"
     ]
    },
    {
     "name": "stdout",
     "output_type": "stream",
     "text": [
      "Epoch 1480 loss: 0.2183\n"
     ]
    },
    {
     "name": "stderr",
     "output_type": "stream",
     "text": [
      " 75%|█████████████████████████████▎         | 1503/2000 [02:03<00:40, 12.30it/s]"
     ]
    },
    {
     "name": "stdout",
     "output_type": "stream",
     "text": [
      "Epoch 1500 loss: 0.2160\n"
     ]
    },
    {
     "name": "stderr",
     "output_type": "stream",
     "text": [
      " 76%|█████████████████████████████▋         | 1523/2000 [02:05<00:38, 12.30it/s]"
     ]
    },
    {
     "name": "stdout",
     "output_type": "stream",
     "text": [
      "Epoch 1520 loss: 0.2335\n"
     ]
    },
    {
     "name": "stderr",
     "output_type": "stream",
     "text": [
      " 77%|██████████████████████████████         | 1543/2000 [02:07<00:36, 12.36it/s]"
     ]
    },
    {
     "name": "stdout",
     "output_type": "stream",
     "text": [
      "Epoch 1540 loss: 0.2230\n"
     ]
    },
    {
     "name": "stderr",
     "output_type": "stream",
     "text": [
      " 78%|██████████████████████████████▍        | 1563/2000 [02:08<00:35, 12.33it/s]"
     ]
    },
    {
     "name": "stdout",
     "output_type": "stream",
     "text": [
      "Epoch 1560 loss: 0.2186\n"
     ]
    },
    {
     "name": "stderr",
     "output_type": "stream",
     "text": [
      " 79%|██████████████████████████████▊        | 1583/2000 [02:10<00:34, 12.22it/s]"
     ]
    },
    {
     "name": "stdout",
     "output_type": "stream",
     "text": [
      "Epoch 1580 loss: 0.2232\n"
     ]
    },
    {
     "name": "stderr",
     "output_type": "stream",
     "text": [
      " 80%|███████████████████████████████▎       | 1603/2000 [02:12<00:34, 11.66it/s]"
     ]
    },
    {
     "name": "stdout",
     "output_type": "stream",
     "text": [
      "Epoch 1600 loss: 0.2177\n"
     ]
    },
    {
     "name": "stderr",
     "output_type": "stream",
     "text": [
      " 81%|███████████████████████████████▋       | 1623/2000 [02:13<00:30, 12.20it/s]"
     ]
    },
    {
     "name": "stdout",
     "output_type": "stream",
     "text": [
      "Epoch 1620 loss: 0.2194\n"
     ]
    },
    {
     "name": "stderr",
     "output_type": "stream",
     "text": [
      " 82%|████████████████████████████████       | 1643/2000 [02:15<00:29, 12.10it/s]"
     ]
    },
    {
     "name": "stdout",
     "output_type": "stream",
     "text": [
      "Epoch 1640 loss: 0.2226\n"
     ]
    },
    {
     "name": "stderr",
     "output_type": "stream",
     "text": [
      " 83%|████████████████████████████████▍      | 1663/2000 [02:17<00:27, 12.18it/s]"
     ]
    },
    {
     "name": "stdout",
     "output_type": "stream",
     "text": [
      "Epoch 1660 loss: 0.2339\n"
     ]
    },
    {
     "name": "stderr",
     "output_type": "stream",
     "text": [
      " 84%|████████████████████████████████▊      | 1683/2000 [02:18<00:25, 12.21it/s]"
     ]
    },
    {
     "name": "stdout",
     "output_type": "stream",
     "text": [
      "Epoch 1680 loss: 0.2099\n"
     ]
    },
    {
     "name": "stderr",
     "output_type": "stream",
     "text": [
      " 85%|█████████████████████████████████▏     | 1703/2000 [02:20<00:24, 12.28it/s]"
     ]
    },
    {
     "name": "stdout",
     "output_type": "stream",
     "text": [
      "Epoch 1700 loss: 0.2172\n"
     ]
    },
    {
     "name": "stderr",
     "output_type": "stream",
     "text": [
      " 86%|█████████████████████████████████▌     | 1723/2000 [02:21<00:22, 12.19it/s]"
     ]
    },
    {
     "name": "stdout",
     "output_type": "stream",
     "text": [
      "Epoch 1720 loss: 0.2027\n"
     ]
    },
    {
     "name": "stderr",
     "output_type": "stream",
     "text": [
      " 87%|█████████████████████████████████▉     | 1743/2000 [02:23<00:21, 12.20it/s]"
     ]
    },
    {
     "name": "stdout",
     "output_type": "stream",
     "text": [
      "Epoch 1740 loss: 0.2077\n"
     ]
    },
    {
     "name": "stderr",
     "output_type": "stream",
     "text": [
      " 88%|██████████████████████████████████▍    | 1763/2000 [02:25<00:19, 12.27it/s]"
     ]
    },
    {
     "name": "stdout",
     "output_type": "stream",
     "text": [
      "Epoch 1760 loss: 0.2157\n"
     ]
    },
    {
     "name": "stderr",
     "output_type": "stream",
     "text": [
      " 89%|██████████████████████████████████▊    | 1783/2000 [02:26<00:17, 12.19it/s]"
     ]
    },
    {
     "name": "stdout",
     "output_type": "stream",
     "text": [
      "Epoch 1780 loss: 0.2157\n"
     ]
    },
    {
     "name": "stderr",
     "output_type": "stream",
     "text": [
      " 90%|███████████████████████████████████▏   | 1803/2000 [02:28<00:16, 12.27it/s]"
     ]
    },
    {
     "name": "stdout",
     "output_type": "stream",
     "text": [
      "Epoch 1800 loss: 0.2185\n"
     ]
    },
    {
     "name": "stderr",
     "output_type": "stream",
     "text": [
      " 91%|███████████████████████████████████▌   | 1823/2000 [02:30<00:14, 12.21it/s]"
     ]
    },
    {
     "name": "stdout",
     "output_type": "stream",
     "text": [
      "Epoch 1820 loss: 0.2190\n"
     ]
    },
    {
     "name": "stderr",
     "output_type": "stream",
     "text": [
      " 92%|███████████████████████████████████▉   | 1843/2000 [02:31<00:12, 12.24it/s]"
     ]
    },
    {
     "name": "stdout",
     "output_type": "stream",
     "text": [
      "Epoch 1840 loss: 0.2137\n"
     ]
    },
    {
     "name": "stderr",
     "output_type": "stream",
     "text": [
      " 93%|████████████████████████████████████▎  | 1863/2000 [02:33<00:11, 12.23it/s]"
     ]
    },
    {
     "name": "stdout",
     "output_type": "stream",
     "text": [
      "Epoch 1860 loss: 0.2107\n"
     ]
    },
    {
     "name": "stderr",
     "output_type": "stream",
     "text": [
      " 94%|████████████████████████████████████▋  | 1883/2000 [02:35<00:09, 12.27it/s]"
     ]
    },
    {
     "name": "stdout",
     "output_type": "stream",
     "text": [
      "Epoch 1880 loss: 0.2101\n"
     ]
    },
    {
     "name": "stderr",
     "output_type": "stream",
     "text": [
      " 95%|█████████████████████████████████████  | 1903/2000 [02:36<00:07, 12.29it/s]"
     ]
    },
    {
     "name": "stdout",
     "output_type": "stream",
     "text": [
      "Epoch 1900 loss: 0.2088\n"
     ]
    },
    {
     "name": "stderr",
     "output_type": "stream",
     "text": [
      " 96%|█████████████████████████████████████▍ | 1923/2000 [02:38<00:06, 12.26it/s]"
     ]
    },
    {
     "name": "stdout",
     "output_type": "stream",
     "text": [
      "Epoch 1920 loss: 0.2131\n"
     ]
    },
    {
     "name": "stderr",
     "output_type": "stream",
     "text": [
      " 97%|█████████████████████████████████████▊ | 1941/2000 [02:39<00:04, 12.20it/s]"
     ]
    },
    {
     "name": "stdout",
     "output_type": "stream",
     "text": [
      "Epoch 1940 loss: 0.2169\n"
     ]
    },
    {
     "name": "stderr",
     "output_type": "stream",
     "text": [
      " 98%|██████████████████████████████████████▎| 1963/2000 [02:41<00:03, 12.29it/s]"
     ]
    },
    {
     "name": "stdout",
     "output_type": "stream",
     "text": [
      "Epoch 1960 loss: 0.2162\n"
     ]
    },
    {
     "name": "stderr",
     "output_type": "stream",
     "text": [
      " 99%|██████████████████████████████████████▋| 1983/2000 [02:43<00:01, 12.33it/s]"
     ]
    },
    {
     "name": "stdout",
     "output_type": "stream",
     "text": [
      "Epoch 1980 loss: 0.2234\n"
     ]
    },
    {
     "name": "stderr",
     "output_type": "stream",
     "text": [
      "100%|███████████████████████████████████████| 2000/2000 [02:44<00:00, 12.15it/s]\n"
     ]
    }
   ],
   "source": [
    "\n",
    "\n",
    "num_epochs = 2000\n",
    "torch.manual_seed(1)\n",
    "\n",
    "finetunemodel.to(device)\n",
    "for epoch in tqdm(range(num_epochs)):\n",
    "    finetunemodel.train()\n",
    "    hidden, cell = finetunemodel.init_hidden(batch_size)\n",
    "    hidden, cell = hidden.to(device), cell.to(device)\n",
    "    seq_batch, target_batch = next(iter(eg5_dl))\n",
    "    seq_batch, target_batch = seq_batch.to(device), target_batch.to(device)\n",
    "    optimizer.zero_grad()\n",
    "    loss = 0\n",
    "    for c in range(seq_length):\n",
    "        pred, hidden, cell = finetunemodel(seq_batch[:, c], hidden, cell)\n",
    "        loss += loss_fn(pred, target_batch[:, c])\n",
    "    loss.backward()\n",
    "    optimizer.step()\n",
    "    loss = loss.item() / seq_length\n",
    "    if epoch % 20 == 0:\n",
    "        print(f\"Epoch {epoch} loss: {loss:.4f}\")"
   ]
  },
  {
   "cell_type": "code",
   "execution_count": 127,
   "id": "978160a2-a38a-4171-8350-a593d4b58026",
   "metadata": {},
   "outputs": [],
   "source": [
    "torch.save(finetunemodel.state_dict(), \"finetunedmodel.pt\")"
   ]
  },
  {
   "cell_type": "markdown",
   "id": "030ee83f-eed9-433f-9b81-e779cf2c5736",
   "metadata": {},
   "source": [
    "# Generate compounds with fine tuned model"
   ]
  },
  {
   "cell_type": "code",
   "execution_count": 24,
   "id": "90af269e-49ac-486e-8ab5-89b1b32db43f",
   "metadata": {},
   "outputs": [
    {
     "data": {
      "text/plain": [
       "RNN(\n",
       "  (embedding): Embedding(31, 256)\n",
       "  (rnn): LSTM(256, 512, batch_first=True)\n",
       "  (fc): Linear(in_features=512, out_features=31, bias=True)\n",
       ")"
      ]
     },
     "execution_count": 24,
     "metadata": {},
     "output_type": "execute_result"
    }
   ],
   "source": [
    "finetunemodel.load_state_dict(torch.load(\"finetunedmodel.pt\"))\n",
    "finetunemodel.to(device)"
   ]
  },
  {
   "cell_type": "code",
   "execution_count": 27,
   "id": "3adb05c7-c886-4101-bc34-61195eba3d02",
   "metadata": {},
   "outputs": [],
   "source": [
    "from torch.distributions.categorical import Categorical\n",
    "from tqdm import tqdm\n",
    "device = \"mps\" if torch.backends.mps.is_available() else \"cpu\"\n",
    "\n",
    "def sample(model, starting_str, max_length=300000, scale_factor=1.0):\n",
    "    \"\"\"\n",
    "    starting_str: short starting string\n",
    "    max_length: max length of generated text\n",
    "    \"\"\"\n",
    "\n",
    "    encoded_input = torch.tensor([char2int[s] for s in starting_str])\n",
    "    encoded_input = torch.reshape(encoded_input, (1, -1))\n",
    "    generated_str = starting_str # initially set it equal to the input str\n",
    "\n",
    "    model.eval()\n",
    "    hidden, cell = model.init_hidden(batch_size=1)\n",
    "    hidden = hidden.to(device)\n",
    "    encoded_input = encoded_input.to(device)\n",
    "    cell = cell.to(device)\n",
    "    for c in range(len(starting_str)-1):\n",
    "        _, hidden, cell = model(encoded_input[:, c].view(1), hidden, cell)\n",
    "    last_char = encoded_input[:, -1]\n",
    "    for i in tqdm(range(max_length)):\n",
    "        logits, hidden, cell = model(last_char.view(1), hidden, cell)\n",
    "        logits = torch.squeeze(logits, 0)\n",
    "        scaled_logits = logits * scale_factor\n",
    "        m = Categorical(logits=scaled_logits)\n",
    "        last_char = m.sample()\n",
    "        generated_str += str(char_array[last_char])\n",
    "\n",
    "        if i %1000 == 0:\n",
    "            torch.mps.empty_cache()\n",
    "\n",
    "\n",
    "    return generated_str"
   ]
  },
  {
   "cell_type": "code",
   "execution_count": 28,
   "id": "52618169-8317-4635-bfa2-afd86c985f85",
   "metadata": {},
   "outputs": [
    {
     "name": "stderr",
     "output_type": "stream",
     "text": [
      "100%|██████████████████████████████████| 300000/300000 [44:43<00:00, 111.80it/s]\n"
     ]
    }
   ],
   "source": [
    "torch.manual_seed(1)\n",
    "finetunedsmiles = sample(finetunemodel, starting_str=\"C\", scale_factor= 0.5)"
   ]
  },
  {
   "cell_type": "code",
   "execution_count": 29,
   "id": "21866f17-1756-4158-bb8b-c4dd484bf31e",
   "metadata": {},
   "outputs": [],
   "source": [
    "list_of_smiles1 = []\n",
    "\n",
    "for smiles in finetunedsmiles.split(\"\\n\"):\n",
    "    list_of_smiles1.append(smiles)"
   ]
  },
  {
   "cell_type": "code",
   "execution_count": 41,
   "id": "28b745e6-6327-4051-9cc1-d22b584feace",
   "metadata": {
    "scrolled": true
   },
   "outputs": [
    {
     "name": "stdout",
     "output_type": "stream",
     "text": [
      "Accuracy = 1180/6532 = 18.06\n"
     ]
    }
   ],
   "source": [
    "from rdkit import RDLogger\n",
    "\n",
    "# Suppress RDKit warnings\n",
    "RDLogger.DisableLog('rdApp.*')\n",
    "from rdkit import Chem\n",
    "valid_smiles1 = []\n",
    "\n",
    "for smi in list_of_smiles1:\n",
    "    mol = Chem.MolFromSmiles(smi)\n",
    "    if mol:\n",
    "        valid_smiles1.append(smi)\n",
    "    else:\n",
    "        pass\n",
    "        #print(f\"Invalid SMILES string: {smi}\")\n",
    "\n",
    "\n",
    "\n",
    "accuracy = (len(valid_smiles1) / len(list_of_smiles1) ) * 100\n",
    "print(f\"Accuracy = {len(valid_smiles1)}/{len(list_of_smiles1)} = {accuracy:.2f}\")\n"
   ]
  },
  {
   "cell_type": "code",
   "execution_count": 43,
   "id": "d84be17e-636d-4575-a286-cf391ee66ebf",
   "metadata": {},
   "outputs": [
    {
     "data": {
      "image/png": "[encoded data removed]",
      "text/plain": [
       "<rdkit.Chem.rdchem.Mol at 0x562c46d50>"
      ]
     },
     "execution_count": 43,
     "metadata": {},
     "output_type": "execute_result"
    }
   ],
   "source": [
    "Chem.MolFromSmiles(valid_smiles1[1000])"
   ]
  },
  {
   "cell_type": "code",
   "execution_count": 44,
   "id": "3834f0f3-2a2c-43b8-9319-448a0af1dc05",
   "metadata": {},
   "outputs": [
    {
     "name": "stdout",
     "output_type": "stream",
     "text": [
      "Total generated SMILES: 1180\n",
      "Unique generated SMILES: 934\n"
     ]
    }
   ],
   "source": [
    "# Load the training set from a text file\n",
    "def load_training_set(file_path):\n",
    "    with open(file_path, 'r') as file:\n",
    "        training_smiles = set(line.strip() for line in file)\n",
    "    return training_smiles\n",
    "\n",
    "# Compare generated SMILES to the training set\n",
    "def check_uniqueness(generated_smiles, training_smiles):\n",
    "    unique_smiles = []\n",
    "    for smiles in generated_smiles:\n",
    "        if smiles not in training_smiles:\n",
    "            unique_smiles.append(smiles)\n",
    "    return unique_smiles\n",
    "\n",
    "# Example usage\n",
    "training_file_path = 'eg5/preprocessed_eg5.txt'\n",
    "generated_smiles = valid_smiles1 # Replace with your generated SMILES\n",
    "\n",
    "training_smiles_set = load_training_set(training_file_path)\n",
    "unique_generated_smiles = check_uniqueness(generated_smiles, training_smiles_set)\n",
    "\n",
    "print(f'Total generated SMILES: {len(generated_smiles)}')\n",
    "print(f'Unique generated SMILES: {len(unique_generated_smiles)}')\n",
    "#print('Unique SMILES:', unique_generated_smiles)\n"
   ]
  },
  {
   "cell_type": "code",
   "execution_count": 47,
   "id": "676a1a1e-966e-4103-83d8-20d178c2d5f9",
   "metadata": {},
   "outputs": [
    {
     "data": {
      "image/png": "[encoded data removed]",
      "text/plain": [
       "<rdkit.Chem.rdchem.Mol at 0x562c460a0>"
      ]
     },
     "execution_count": 47,
     "metadata": {},
     "output_type": "execute_result"
    }
   ],
   "source": [
    "Chem.MolFromSmiles(unique_generated_smiles[800])"
   ]
  },
  {
   "cell_type": "code",
   "execution_count": 39,
   "id": "56bb0eb4-4c7f-420c-a0ac-62643b02e931",
   "metadata": {},
   "outputs": [
    {
     "data": {
      "text/plain": [
       "'CCN1N=C(c2cc(F)ccc2F)CC1c1cccc(O)c1'"
      ]
     },
     "execution_count": 39,
     "metadata": {},
     "output_type": "execute_result"
    }
   ],
   "source": [
    "unique_generated_smiles[10]"
   ]
  },
  {
   "cell_type": "markdown",
   "id": "c407de96-e573-4e6e-a6c9-5ea5a9500fd4",
   "metadata": {},
   "source": [
    "The model msotly generates correct words. In some cases, sentences might also make sense. Further tuning the training parameters and model architecture can improve the performance."
   ]
  },
  {
   "cell_type": "markdown",
   "id": "b69901df-103e-4d19-a64c-2396088af5ba",
   "metadata": {},
   "source": [
    "# Temperate"
   ]
  },
  {
   "cell_type": "markdown",
   "id": "fa4a3cb6-7e29-4b71-8007-dd88a3fbac88",
   "metadata": {},
   "source": [
    "The `scale_factor` controls the randomness of the generated text. Low `scale_factor` (high temperature) results in more randomness because the output probability becomes more uniform, as opposed to more predictable behavior at high `scale_factor` (low temperature) where one logit will have high probability."
   ]
  },
  {
   "cell_type": "code",
   "execution_count": 23,
   "id": "5128eddb-21ce-40c8-9401-86c0ddd002cf",
   "metadata": {},
   "outputs": [
    {
     "name": "stdout",
     "output_type": "stream",
     "text": [
      "Probabilities before scaling: [0.10650698 0.10650698 0.78698605]\n",
      "Probabilities after scaling with 0.5: [0.21194156 0.21194156 0.57611686]\n",
      "Probabilities after scaling with 0.1: [0.3104238  0.3104238  0.37915248]\n",
      "Probabilities after scaling with 3.0: [0.00246652 0.00246652 0.9950669 ]\n"
     ]
    }
   ],
   "source": [
    "# Example\n",
    "logits = torch.tensor([[1.0, 1.0, 3.0]])\n",
    "print(f\"Probabilities before scaling: {nn.functional.softmax(logits, dim=1).numpy()[0]}\")\n",
    "print(f\"Probabilities after scaling with 0.5: {nn.functional.softmax(0.5 * logits, dim=1).numpy()[0]}\")\n",
    "print(f\"Probabilities after scaling with 0.1: {nn.functional.softmax(0.1 * logits, dim=1).numpy()[0]}\")\n",
    "print(f\"Probabilities after scaling with 3.0: {nn.functional.softmax(3.0 * logits, dim=1).numpy()[0]}\")"
   ]
  },
  {
   "cell_type": "code",
   "execution_count": 140,
   "id": "a3b756a7-1b49-4d81-bce3-8c3a0893551e",
   "metadata": {},
   "outputs": [
    {
     "name": "stderr",
     "output_type": "stream",
     "text": [
      "100%|██████████████████████████████████████| 1000/1000 [00:06<00:00, 149.50it/s]\n"
     ]
    }
   ],
   "source": [
    "torch.manual_seed(1)\n",
    "smiles = sample(finetunemodel, starting_str=\"C\", scale_factor=2.0, max_length=1000)"
   ]
  },
  {
   "cell_type": "code",
   "execution_count": 141,
   "id": "8f83b417-3cd6-4674-8a56-bc489a6ee652",
   "metadata": {},
   "outputs": [],
   "source": [
    "list_of_smiles = []\n",
    "\n",
    "for smiles in smiles.split(\"\\n\"):\n",
    "    list_of_smiles.append(smiles)"
   ]
  },
  {
   "cell_type": "code",
   "execution_count": 142,
   "id": "0f418b30-4637-4825-8a1e-ca06fb9237e1",
   "metadata": {},
   "outputs": [
    {
     "name": "stdout",
     "output_type": "stream",
     "text": [
      "Accuracy = 20/20 = 100.00\n"
     ]
    }
   ],
   "source": [
    "\n",
    "from rdkit import Chem\n",
    "valid_smiles = []\n",
    "\n",
    "for smi in list_of_smiles:\n",
    "    mol = Chem.MolFromSmiles(smi)\n",
    "    if mol:\n",
    "        valid_smiles.append(smi)\n",
    "    else:\n",
    "        pass\n",
    "        #print(f\"Invalid SMILES string: {smi}\")\n",
    "\n",
    "\n",
    "\n",
    "accuracy = (len(valid_smiles) / len(list_of_smiles) ) * 100\n",
    "print(f\"Accuracy = {len(valid_smiles)}/{len(list_of_smiles)} = {accuracy:.2f}\")\n"
   ]
  },
  {
   "cell_type": "code",
   "execution_count": 144,
   "id": "5e6629a0-20cc-46d7-b92e-22d804102f42",
   "metadata": {},
   "outputs": [
    {
     "data": {
      "image/png": "[encoded data removed]",
      "text/plain": [
       "<rdkit.Chem.rdchem.Mol at 0x2d1ea37d0>"
      ]
     },
     "execution_count": 144,
     "metadata": {},
     "output_type": "execute_result"
    }
   ],
   "source": [
    "Chem.MolFromSmiles(valid_smiles[10])"
   ]
  },
  {
   "cell_type": "code",
   "execution_count": 145,
   "id": "3e9f98f1-1603-4590-b2e2-cf12f1ab0c63",
   "metadata": {},
   "outputs": [
    {
     "name": "stderr",
     "output_type": "stream",
     "text": [
      "100%|██████████████████████████████████████| 1000/1000 [00:06<00:00, 157.16it/s]\n"
     ]
    }
   ],
   "source": [
    "torch.manual_seed(1)\n",
    "smiles = sample(finetunemodel, starting_str=\"C\", scale_factor=0.5, max_length=1000)"
   ]
  },
  {
   "cell_type": "code",
   "execution_count": 146,
   "id": "161035be-b381-47a1-9fe2-cee0180c460d",
   "metadata": {},
   "outputs": [],
   "source": [
    "list_of_smiles = []\n",
    "\n",
    "for smiles in smiles.split(\"\\n\"):\n",
    "    list_of_smiles.append(smiles)"
   ]
  },
  {
   "cell_type": "code",
   "execution_count": 147,
   "id": "1bde0706-25bf-4c72-bd37-65a0e5c0a9e7",
   "metadata": {},
   "outputs": [
    {
     "name": "stdout",
     "output_type": "stream",
     "text": [
      "Accuracy = 5/25 = 20.00\n"
     ]
    },
    {
     "name": "stderr",
     "output_type": "stream",
     "text": [
      "[16:21:02] SMILES Parse Error: syntax error while parsing: C@H]1c1cccc(O)c1\n",
      "[16:21:02] SMILES Parse Error: Failed parsing SMILES 'C@H]1c1cccc(O)c1' for input: 'C@H]1c1cccc(O)c1'\n",
      "[16:21:02] Can't kekulize mol.  Unkekulized atoms: 31\n",
      "[16:21:02] SMILES Parse Error: extra close parentheses while parsing: CCOC(=O)C12c3ccccc3O2)cc1\n",
      "[16:21:02] SMILES Parse Error: Failed parsing SMILES 'CCOC(=O)C12c3ccccc3O2)cc1' for input: 'CCOC(=O)C12c3ccccc3O2)cc1'\n",
      "[16:21:02] SMILES Parse Error: syntax error while parsing: CC]1C(=O)NCCc2c([nH]c3ccccc23)C1c1cccc(Cl)c1)N2\n",
      "[16:21:02] SMILES Parse Error: Failed parsing SMILES 'CC]1C(=O)NCCc2c([nH]c3ccccc23)C1c1cccc(Cl)c1)N2' for input: 'CC]1C(=O)NCCc2c([nH]c3ccccc23)C1c1cccc(Cl)c1)N2'\n",
      "[16:21:02] SMILES Parse Error: extra close parentheses while parsing: CC(=O)C1=NN(c2c=c3ccc(Cl)cc3)S2)SC1(C)c1ccccc1\n",
      "[16:21:02] SMILES Parse Error: Failed parsing SMILES 'CC(=O)C1=NN(c2c=c3ccc(Cl)cc3)S2)SC1(C)c1ccccc1' for input: 'CC(=O)C1=NN(c2c=c3ccc(Cl)cc3)S2)SC1(C)c1ccccc1'\n",
      "[16:21:02] SMILES Parse Error: extra open parentheses for input: 'CCC(c1nc2snc(n2cccc2c(=O'\n",
      "[16:21:02] SMILES Parse Error: syntax error while parsing: CC1=C(C(=O)OCCOCCS)C(c2cccc(O)c2)N(C(=O)C(C)(C)[O-)=O)c1cccHc1\n",
      "[16:21:02] SMILES Parse Error: Failed parsing SMILES 'CC1=C(C(=O)OCCOCCS)C(c2cccc(O)c2)N(C(=O)C(C)(C)[O-)=O)c1cccHc1' for input: 'CC1=C(C(=O)OCCOCCS)C(c2cccc(O)c2)N(C(=O)C(C)(C)[O-)=O)c1cccHc1'\n",
      "[16:21:02] SMILES Parse Error: extra open parentheses for input: 'CCC(c1nc2ccsc2c(=O)n1Cc1cc2c[nH]c3ccccc12'\n",
      "[16:21:02] SMILES Parse Error: unclosed ring for input: 'CC(c1cccs1)N2'\n",
      "[16:21:02] Can't kekulize mol.  Unkekulized atoms: 3 12 13\n",
      "[16:21:02] SMILES Parse Error: extra open parentheses for input: 'CC(C)(C)[C@H](Ns2N(CCCN(C)C[C@H]3OCCC[C@H]32)sc2c(Cl)cc1'\n",
      "[16:21:02] SMILES Parse Error: unclosed ring for input: 'CCC(c1(=O)C[C@@H]2C1=O)C(C)c1ccccc1'\n",
      "[16:21:02] SMILES Parse Error: extra close parentheses while parsing: CC(=O)N1N=C(N)1ccccc2F)CC[C@H]1c1cccc(O)c1\n",
      "[16:21:02] SMILES Parse Error: Failed parsing SMILES 'CC(=O)N1N=C(N)1ccccc2F)CC[C@H]1c1cccc(O)c1' for input: 'CC(=O)N1N=C(N)1ccccc2F)CC[C@H]1c1cccc(O)c1'\n",
      "[16:21:02] SMILES Parse Error: extra open parentheses for input: 'CCNC(=O)Nc1c(NC(=O)C2(CCOCC3)CC2c1ccccc1'\n",
      "[16:21:02] SMILES Parse Error: extra open parentheses for input: 'CC(C)(C)C(=O)NC1=NN(C(=O)/C(=C/c2ccc(F)c(Cl)s2)CC1s1'\n",
      "[16:21:02] SMILES Parse Error: unclosed ring for input: 'CCc1cccc2nc(C[nH]c3ccc(C)cc23)C1c1c[nH]nc2N1'\n",
      "[16:21:02] SMILES Parse Error: extra open parentheses for input: 'CC[C@]1(c2ccccc2F)C[C@@]1(CCCN1C(n)c1ccccc1'\n",
      "[16:21:02] SMILES Parse Error: extra open parentheses for input: 'CCC(c1nc2ccsc2c(=O)n1Cc1csc(c(=O)O)(c1)c1ccccc1'\n",
      "[16:21:02] SMILES Parse Error: unclosed ring for input: 'CC(=O)C1=NN(c2cc(F)ccc2F)CC1(c2ccncc2)S1'\n",
      "[16:21:02] SMILES Parse Error: syntax error while parsing: CC(\n",
      "[16:21:02] SMILES Parse Error: Failed parsing SMILES 'CC(' for input: 'CC('\n"
     ]
    }
   ],
   "source": [
    "\n",
    "from rdkit import Chem\n",
    "valid_smiles = []\n",
    "\n",
    "for smi in list_of_smiles:\n",
    "    mol = Chem.MolFromSmiles(smi)\n",
    "    if mol:\n",
    "        valid_smiles.append(smi)\n",
    "    else:\n",
    "        pass\n",
    "        #print(f\"Invalid SMILES string: {smi}\")\n",
    "\n",
    "\n",
    "# Replace with actual data\n",
    "\n",
    "accuracy = (len(valid_smiles) / len(list_of_smiles) ) * 100\n",
    "print(f\"Accuracy = {len(valid_smiles)}/{len(list_of_smiles)} = {accuracy:.2f}\")\n"
   ]
  },
  {
   "cell_type": "code",
   "execution_count": 149,
   "id": "e5bfcd02-a37a-4195-b6b4-34ab6eb58a02",
   "metadata": {},
   "outputs": [
    {
     "data": {
      "image/png": "[encoded data removed]",
      "text/plain": [
       "<rdkit.Chem.rdchem.Mol at 0x2d1ea3140>"
      ]
     },
     "execution_count": 149,
     "metadata": {},
     "output_type": "execute_result"
    }
   ],
   "source": [
    "Chem.MolFromSmiles(valid_smiles[4])"
   ]
  },
  {
   "cell_type": "markdown",
   "id": "bb305ccd-02d9-4669-a5a6-821f79e3b54d",
   "metadata": {},
   "source": [
    "As we can see, the results are coherent with our hypothesis. We can choose to generate correct text with less novelty or create diverse text with mroe randomness. It is a trade-off."
   ]
  },
  {
   "cell_type": "code",
   "execution_count": null,
   "id": "ac15a5a4-f845-4820-9f90-a6c9644a7534",
   "metadata": {},
   "outputs": [],
   "source": []
  },
  {
   "cell_type": "code",
   "execution_count": null,
   "id": "18956756-f0f4-4553-9090-54eb56913f0d",
   "metadata": {},
   "outputs": [],
   "source": []
  },
  {
   "cell_type": "markdown",
   "id": "645cd9dd-5dd3-4421-bd74-3140a7522042",
   "metadata": {},
   "source": [
    "# Reinforcement Learning\n"
   ]
  },
  {
   "cell_type": "code",
   "execution_count": 5,
   "id": "bf9d35ae-adef-4334-9f5d-46d35b7afd59",
   "metadata": {},
   "outputs": [],
   "source": [
    "import torch.nn as nn\n",
    "import torch\n",
    "class RNN(nn.Module):\n",
    "    def __init__(self, vocab_size, embed_dim, rnn_hidden_size):\n",
    "        super().__init__()\n",
    "        self.rnn_hidden_size = rnn_hidden_size\n",
    "        self.embedding = nn.Embedding(vocab_size, embed_dim)\n",
    "        self.rnn = nn.LSTM(embed_dim, rnn_hidden_size, batch_first=True)\n",
    "        self.fc = nn.Linear(rnn_hidden_size, vocab_size)\n",
    "\n",
    "    def forward(self, x, hidden, cell):\n",
    "        out = self.embedding(x).unsqueeze(1)\n",
    "        out, (hidden, cell) = self.rnn(out, (hidden, cell))\n",
    "        out = self.fc(out).reshape(out.size(0), -1)\n",
    "        return out, hidden, cell\n",
    "\n",
    "    def init_hidden(self, batch_size):\n",
    "        hidden = torch.zeros(1, batch_size, self.rnn_hidden_size)\n",
    "        cell = torch.zeros(1, batch_size, self.rnn_hidden_size)\n",
    "        return hidden, cell"
   ]
  },
  {
   "cell_type": "code",
   "execution_count": 6,
   "id": "b7439110-d558-4cb4-897d-2f69b93b5115",
   "metadata": {},
   "outputs": [
    {
     "data": {
      "text/plain": [
       "RNN(\n",
       "  (embedding): Embedding(31, 256)\n",
       "  (rnn): LSTM(256, 512, batch_first=True)\n",
       "  (fc): Linear(in_features=512, out_features=31, bias=True)\n",
       ")"
      ]
     },
     "execution_count": 6,
     "metadata": {},
     "output_type": "execute_result"
    }
   ],
   "source": [
    "# Create RNN model\n",
    "vocab_size = 31\n",
    "embed_dim = 256\n",
    "rnn_hidden_size = 512\n",
    "torch.manual_seed(1)\n",
    "finetunemodel = RNN(vocab_size, embed_dim, rnn_hidden_size)\n",
    "finetunemodel\n"
   ]
  },
  {
   "cell_type": "code",
   "execution_count": 21,
   "id": "cf615edf-34c9-4be7-852c-05ad59549f2c",
   "metadata": {},
   "outputs": [
    {
     "data": {
      "text/plain": [
       "<All keys matched successfully>"
      ]
     },
     "execution_count": 21,
     "metadata": {},
     "output_type": "execute_result"
    }
   ],
   "source": [
    "from tqdm import tqdm\n",
    "device = \"mps\" if torch.backends.mps.is_available() else \"cpu\"\n",
    "\n",
    "finetunemodel.load_state_dict(torch.load(\"finetunedmodel.pt\"))\n"
   ]
  },
  {
   "cell_type": "code",
   "execution_count": 22,
   "id": "36bce920-31e4-4f43-bd74-1122514d01c2",
   "metadata": {},
   "outputs": [
    {
     "data": {
      "text/plain": [
       "RNN(\n",
       "  (embedding): Embedding(31, 256)\n",
       "  (rnn): LSTM(256, 512, batch_first=True)\n",
       "  (fc): Linear(in_features=512, out_features=31, bias=True)\n",
       ")"
      ]
     },
     "execution_count": 22,
     "metadata": {},
     "output_type": "execute_result"
    }
   ],
   "source": [
    "finetunemodel.to(device)"
   ]
  },
  {
   "cell_type": "code",
   "execution_count": 23,
   "id": "f9a0b982-e121-4a1a-8993-e9105294394f",
   "metadata": {},
   "outputs": [
    {
     "data": {
      "text/plain": [
       "<torch._C.Generator at 0x106d57610>"
      ]
     },
     "execution_count": 23,
     "metadata": {},
     "output_type": "execute_result"
    }
   ],
   "source": [
    "import torch\n",
    "from torch.distributions.categorical import Categorical\n",
    "from tqdm import tqdm\n",
    "\n",
    "device = \"mps\" if torch.backends.mps.is_available() else \"cpu\"\n",
    "\n",
    "def sample(model, starting_str, max_length=100, scale_factor=1.0):\n",
    "    encoded_input = torch.tensor([char2int[s] for s in starting_str])\n",
    "    encoded_input = torch.reshape(encoded_input, (1, -1))\n",
    "    generated_str = starting_str\n",
    "    log_probs = []\n",
    "\n",
    "    model.eval()\n",
    "    hidden, cell = model.init_hidden(batch_size=1)\n",
    "    hidden = hidden.to(device)\n",
    "    encoded_input = encoded_input.to(device)\n",
    "    cell = cell.to(device)\n",
    "    for c in range(len(starting_str) - 1):\n",
    "        _, hidden, cell = model(encoded_input[:, c].view(1), hidden, cell)\n",
    "    last_char = encoded_input[:, -1]\n",
    "    for i in range(max_length):\n",
    "        logits, hidden, cell = model(last_char.view(1), hidden, cell)\n",
    "        logits = torch.squeeze(logits, 0)\n",
    "        scaled_logits = logits * scale_factor\n",
    "        m = Categorical(logits=scaled_logits)\n",
    "        last_char = m.sample()\n",
    "        log_probs.append(m.log_prob(last_char))\n",
    "        generated_str += str(char_array[last_char])\n",
    "\n",
    "        if i % 10 == 0:\n",
    "            torch.mps.empty_cache()\n",
    "\n",
    "    return generated_str, log_probs\n",
    "\n",
    "torch.manual_seed(1)\n",
    "#finetunedsmiles, log_probs = sample(finetunemodel, starting_str=\"C\", scale_factor=0.5)\n"
   ]
  },
  {
   "cell_type": "code",
   "execution_count": 25,
   "id": "c9d71c02-53aa-4ef7-9911-f76b55a26a92",
   "metadata": {},
   "outputs": [
    {
     "name": "stderr",
     "output_type": "stream",
     "text": [
      "  0%|                                                  | 0/1000 [00:00<?, ?it/s]\n",
      "  0%|                                                     | 0/5 [00:00<?, ?it/s]\u001b[A\n",
      " 20%|█████████                                    | 1/5 [00:00<00:02,  1.70it/s]\u001b[A\n",
      " 40%|██████████████████                           | 2/5 [00:01<00:01,  1.80it/s]\u001b[A\n",
      " 60%|███████████████████████████                  | 3/5 [00:01<00:01,  1.87it/s]\u001b[A\n",
      " 80%|████████████████████████████████████         | 4/5 [00:02<00:00,  1.91it/s]\u001b[A\n",
      "100%|█████████████████████████████████████████████| 5/5 [00:02<00:00,  1.89it/s]\u001b[A\n",
      "  0%|                                          | 1/1000 [00:03<55:10,  3.31s/it]"
     ]
    },
    {
     "name": "stdout",
     "output_type": "stream",
     "text": [
      "Episode 0, Average Reward: -4.701010131835938\n"
     ]
    },
    {
     "name": "stderr",
     "output_type": "stream",
     "text": [
      "\n",
      "  0%|                                                     | 0/5 [00:00<?, ?it/s]\u001b[A\n",
      " 20%|█████████                                    | 1/5 [00:00<00:02,  1.69it/s]\u001b[A\n",
      " 40%|██████████████████                           | 2/5 [00:01<00:01,  1.76it/s]\u001b[A\n",
      " 60%|███████████████████████████                  | 3/5 [00:01<00:01,  1.88it/s]\u001b[A\n",
      " 80%|████████████████████████████████████         | 4/5 [00:02<00:00,  1.95it/s]\u001b[A\n",
      "100%|█████████████████████████████████████████████| 5/5 [00:02<00:00,  1.93it/s]\u001b[A\n",
      "  0%|                                          | 2/1000 [00:06<54:12,  3.26s/it]\n",
      "  0%|                                                     | 0/5 [00:00<?, ?it/s]\u001b[A\n",
      " 20%|█████████                                    | 1/5 [00:00<00:01,  2.12it/s]\u001b[A\n",
      " 40%|██████████████████                           | 2/5 [00:00<00:01,  2.07it/s]\u001b[A\n",
      " 60%|███████████████████████████                  | 3/5 [00:01<00:01,  1.99it/s]\u001b[A\n",
      " 80%|████████████████████████████████████         | 4/5 [00:01<00:00,  2.01it/s]\u001b[A\n",
      "100%|█████████████████████████████████████████████| 5/5 [00:02<00:00,  2.04it/s]\u001b[A\n",
      "  0%|▏                                         | 3/1000 [00:09<52:39,  3.17s/it]"
     ]
    },
    {
     "name": "stdout",
     "output_type": "stream",
     "text": [
      "Episode 2, Average Reward: -5.205728912353516\n"
     ]
    },
    {
     "name": "stderr",
     "output_type": "stream",
     "text": [
      "\n",
      "  0%|                                                     | 0/5 [00:00<?, ?it/s]\u001b[A\n",
      " 20%|█████████                                    | 1/5 [00:00<00:02,  1.95it/s]\u001b[A\n",
      " 40%|██████████████████                           | 2/5 [00:01<00:01,  1.85it/s]\u001b[A\n",
      " 60%|███████████████████████████                  | 3/5 [00:01<00:01,  1.94it/s]\u001b[A\n",
      " 80%|████████████████████████████████████         | 4/5 [00:02<00:00,  1.99it/s]\u001b[A\n",
      "100%|█████████████████████████████████████████████| 5/5 [00:02<00:00,  1.98it/s]\u001b[A\n",
      "  0%|▏                                         | 4/1000 [00:12<52:20,  3.15s/it]\n",
      "  0%|                                                     | 0/5 [00:00<?, ?it/s]\u001b[A\n",
      " 20%|█████████                                    | 1/5 [00:00<00:01,  2.06it/s]\u001b[A\n",
      " 40%|██████████████████                           | 2/5 [00:00<00:01,  2.07it/s]\u001b[A\n",
      " 60%|███████████████████████████                  | 3/5 [00:01<00:00,  2.07it/s]\u001b[A\n",
      " 80%|████████████████████████████████████         | 4/5 [00:01<00:00,  2.07it/s]\u001b[A\n",
      "100%|█████████████████████████████████████████████| 5/5 [00:02<00:00,  2.07it/s]\u001b[A\n",
      "  0%|▏                                         | 5/1000 [00:15<52:10,  3.15s/it]"
     ]
    },
    {
     "name": "stdout",
     "output_type": "stream",
     "text": [
      "Episode 4, Average Reward: -5.611130905151367\n"
     ]
    },
    {
     "name": "stderr",
     "output_type": "stream",
     "text": [
      "\n",
      "  0%|                                                     | 0/5 [00:00<?, ?it/s]\u001b[A\n",
      " 20%|█████████                                    | 1/5 [00:00<00:01,  2.08it/s]\u001b[A\n",
      " 40%|██████████████████                           | 2/5 [00:00<00:01,  2.06it/s]\u001b[A\n",
      " 60%|███████████████████████████                  | 3/5 [00:01<00:01,  1.85it/s]\u001b[A\n",
      " 80%|████████████████████████████████████         | 4/5 [00:02<00:00,  1.86it/s]\u001b[A\n",
      "100%|█████████████████████████████████████████████| 5/5 [00:02<00:00,  1.92it/s]\u001b[A\n",
      "  1%|▎                                         | 6/1000 [00:19<52:41,  3.18s/it]\n",
      "  0%|                                                     | 0/5 [00:00<?, ?it/s]\u001b[A\n",
      " 20%|█████████                                    | 1/5 [00:00<00:01,  2.06it/s]\u001b[A\n",
      " 40%|██████████████████                           | 2/5 [00:00<00:01,  2.03it/s]\u001b[A\n",
      " 60%|███████████████████████████                  | 3/5 [00:01<00:00,  2.04it/s]\u001b[A\n",
      " 80%|████████████████████████████████████         | 4/5 [00:01<00:00,  2.06it/s]\u001b[A\n",
      "100%|█████████████████████████████████████████████| 5/5 [00:02<00:00,  2.06it/s]\u001b[A\n",
      "  1%|▎                                         | 7/1000 [00:22<51:59,  3.14s/it]"
     ]
    },
    {
     "name": "stdout",
     "output_type": "stream",
     "text": [
      "Episode 6, Average Reward: -6.258908081054687\n"
     ]
    },
    {
     "name": "stderr",
     "output_type": "stream",
     "text": [
      "\n",
      "  0%|                                                     | 0/5 [00:00<?, ?it/s]\u001b[A\n",
      " 20%|█████████                                    | 1/5 [00:00<00:01,  2.00it/s]\u001b[A\n",
      " 40%|██████████████████                           | 2/5 [00:00<00:01,  2.04it/s]\u001b[A\n",
      " 60%|███████████████████████████                  | 3/5 [00:01<00:00,  2.06it/s]\u001b[A\n",
      " 80%|████████████████████████████████████         | 4/5 [00:01<00:00,  2.06it/s]\u001b[A\n",
      "100%|█████████████████████████████████████████████| 5/5 [00:02<00:00,  2.00it/s]\u001b[A\n",
      "  1%|▎                                         | 8/1000 [00:25<52:31,  3.18s/it]\n",
      "  0%|                                                     | 0/5 [00:00<?, ?it/s]\u001b[A\n",
      " 20%|█████████                                    | 1/5 [00:00<00:01,  2.12it/s]\u001b[A\n",
      " 40%|██████████████████                           | 2/5 [00:00<00:01,  2.10it/s]\u001b[A\n",
      " 60%|███████████████████████████                  | 3/5 [00:01<00:00,  2.14it/s]\u001b[A\n",
      " 80%|████████████████████████████████████         | 4/5 [00:01<00:00,  2.15it/s]\u001b[A\n",
      "100%|█████████████████████████████████████████████| 5/5 [00:02<00:00,  2.15it/s]\u001b[A\n",
      "  1%|▍                                         | 9/1000 [00:28<51:22,  3.11s/it]"
     ]
    },
    {
     "name": "stdout",
     "output_type": "stream",
     "text": [
      "Episode 8, Average Reward: -6.0145008087158205\n"
     ]
    },
    {
     "name": "stderr",
     "output_type": "stream",
     "text": [
      "\n",
      "  0%|                                                     | 0/5 [00:00<?, ?it/s]\u001b[A\n",
      " 20%|█████████                                    | 1/5 [00:00<00:01,  2.09it/s]\u001b[A\n",
      " 40%|██████████████████                           | 2/5 [00:00<00:01,  2.11it/s]\u001b[A\n",
      " 60%|███████████████████████████                  | 3/5 [00:01<00:00,  2.10it/s]\u001b[A\n",
      " 80%|████████████████████████████████████         | 4/5 [00:01<00:00,  2.15it/s]\u001b[A\n",
      "100%|█████████████████████████████████████████████| 5/5 [00:02<00:00,  2.12it/s]\u001b[A\n",
      "  1%|▍                                        | 10/1000 [00:31<51:06,  3.10s/it]\n",
      "  0%|                                                     | 0/5 [00:00<?, ?it/s]\u001b[A\n",
      " 20%|█████████                                    | 1/5 [00:00<00:01,  2.08it/s]\u001b[A\n",
      " 40%|██████████████████                           | 2/5 [00:00<00:01,  2.11it/s]\u001b[A\n",
      " 60%|███████████████████████████                  | 3/5 [00:01<00:00,  2.11it/s]\u001b[A\n",
      " 80%|████████████████████████████████████         | 4/5 [00:01<00:00,  2.12it/s]\u001b[A\n",
      "100%|█████████████████████████████████████████████| 5/5 [00:02<00:00,  2.11it/s]\u001b[A\n",
      "  1%|▍                                        | 11/1000 [00:34<50:35,  3.07s/it]"
     ]
    },
    {
     "name": "stdout",
     "output_type": "stream",
     "text": [
      "Episode 10, Average Reward: -5.502204513549804\n"
     ]
    },
    {
     "name": "stderr",
     "output_type": "stream",
     "text": [
      "\n",
      "  0%|                                                     | 0/5 [00:00<?, ?it/s]\u001b[A\n",
      " 20%|█████████                                    | 1/5 [00:00<00:01,  2.27it/s]\u001b[A\n",
      " 40%|██████████████████                           | 2/5 [00:00<00:01,  2.25it/s]\u001b[A\n",
      " 60%|███████████████████████████                  | 3/5 [00:01<00:00,  2.21it/s]\u001b[A\n",
      " 80%|████████████████████████████████████         | 4/5 [00:01<00:00,  2.22it/s]\u001b[A\n",
      "100%|█████████████████████████████████████████████| 5/5 [00:02<00:00,  2.22it/s]\u001b[A\n",
      "  1%|▍                                        | 12/1000 [00:37<49:34,  3.01s/it]\n",
      "  0%|                                                     | 0/5 [00:00<?, ?it/s]\u001b[A\n",
      " 20%|█████████                                    | 1/5 [00:00<00:01,  2.25it/s]\u001b[A\n",
      " 40%|██████████████████                           | 2/5 [00:00<00:01,  2.13it/s]\u001b[A\n",
      " 60%|███████████████████████████                  | 3/5 [00:01<00:01,  1.97it/s]\u001b[A\n",
      " 80%|████████████████████████████████████         | 4/5 [00:02<00:00,  1.85it/s]\u001b[A\n",
      "100%|█████████████████████████████████████████████| 5/5 [00:02<00:00,  1.96it/s]\u001b[A\n",
      "  1%|▌                                        | 13/1000 [00:40<50:23,  3.06s/it]"
     ]
    },
    {
     "name": "stdout",
     "output_type": "stream",
     "text": [
      "Episode 12, Average Reward: -4.128024673461914\n"
     ]
    },
    {
     "name": "stderr",
     "output_type": "stream",
     "text": [
      "\n",
      "  0%|                                                     | 0/5 [00:00<?, ?it/s]\u001b[A\n",
      " 20%|█████████                                    | 1/5 [00:00<00:02,  1.62it/s]\u001b[A\n",
      " 40%|██████████████████                           | 2/5 [00:01<00:01,  1.88it/s]\u001b[A\n",
      " 60%|███████████████████████████                  | 3/5 [00:01<00:01,  1.97it/s]\u001b[A\n",
      " 80%|████████████████████████████████████         | 4/5 [00:02<00:00,  2.02it/s]\u001b[A\n",
      "100%|█████████████████████████████████████████████| 5/5 [00:02<00:00,  2.00it/s]\u001b[A\n",
      "  1%|▌                                        | 14/1000 [00:43<50:42,  3.09s/it]\n",
      "  0%|                                                     | 0/5 [00:00<?, ?it/s]\u001b[A\n",
      " 20%|█████████                                    | 1/5 [00:00<00:01,  2.12it/s]\u001b[A\n",
      " 40%|██████████████████                           | 2/5 [00:00<00:01,  2.13it/s]\u001b[A\n",
      " 60%|███████████████████████████                  | 3/5 [00:01<00:00,  2.17it/s]\u001b[A\n",
      " 80%|████████████████████████████████████         | 4/5 [00:01<00:00,  2.01it/s]\u001b[A\n",
      "100%|█████████████████████████████████████████████| 5/5 [00:02<00:00,  2.10it/s]\u001b[A\n",
      "  2%|▌                                        | 15/1000 [00:46<50:13,  3.06s/it]"
     ]
    },
    {
     "name": "stdout",
     "output_type": "stream",
     "text": [
      "Episode 14, Average Reward: -5.140709304809571\n"
     ]
    },
    {
     "name": "stderr",
     "output_type": "stream",
     "text": [
      "\n",
      "  0%|                                                     | 0/5 [00:00<?, ?it/s]\u001b[A\n",
      " 20%|█████████                                    | 1/5 [00:00<00:01,  2.11it/s]\u001b[A\n",
      " 40%|██████████████████                           | 2/5 [00:01<00:01,  1.97it/s]\u001b[A\n",
      " 60%|███████████████████████████                  | 3/5 [00:01<00:00,  2.02it/s]\u001b[A\n",
      " 80%|████████████████████████████████████         | 4/5 [00:01<00:00,  2.06it/s]\u001b[A\n",
      "100%|█████████████████████████████████████████████| 5/5 [00:02<00:00,  2.06it/s]\u001b[A\n",
      "  2%|▋                                        | 16/1000 [00:49<50:13,  3.06s/it]\n",
      "  0%|                                                     | 0/5 [00:00<?, ?it/s]\u001b[A\n",
      " 20%|█████████                                    | 1/5 [00:00<00:01,  2.13it/s]\u001b[A\n",
      " 40%|██████████████████                           | 2/5 [00:00<00:01,  2.04it/s]\u001b[A\n",
      " 60%|███████████████████████████                  | 3/5 [00:01<00:00,  2.05it/s]\u001b[A\n",
      " 80%|████████████████████████████████████         | 4/5 [00:01<00:00,  2.05it/s]\u001b[A\n",
      "100%|█████████████████████████████████████████████| 5/5 [00:02<00:00,  2.05it/s]\u001b[A\n",
      "  2%|▋                                        | 17/1000 [00:52<50:46,  3.10s/it]"
     ]
    },
    {
     "name": "stdout",
     "output_type": "stream",
     "text": [
      "Episode 16, Average Reward: -5.4303955078125\n"
     ]
    },
    {
     "name": "stderr",
     "output_type": "stream",
     "text": [
      "\n",
      "  0%|                                                     | 0/5 [00:00<?, ?it/s]\u001b[A\n",
      " 20%|█████████                                    | 1/5 [00:00<00:01,  2.14it/s]\u001b[A\n",
      " 40%|██████████████████                           | 2/5 [00:00<00:01,  2.13it/s]\u001b[A\n",
      " 60%|███████████████████████████                  | 3/5 [00:01<00:00,  2.11it/s]\u001b[A\n",
      " 80%|████████████████████████████████████         | 4/5 [00:01<00:00,  2.12it/s]\u001b[A\n",
      "100%|█████████████████████████████████████████████| 5/5 [00:02<00:00,  2.12it/s]\u001b[A\n",
      "  2%|▋                                        | 18/1000 [00:55<50:13,  3.07s/it]\n",
      "  0%|                                                     | 0/5 [00:00<?, ?it/s]\u001b[A\n",
      " 20%|█████████                                    | 1/5 [00:00<00:01,  2.16it/s]\u001b[A\n",
      " 40%|██████████████████                           | 2/5 [00:00<00:01,  2.14it/s]\u001b[A\n",
      " 60%|███████████████████████████                  | 3/5 [00:01<00:00,  2.12it/s]\u001b[A\n",
      " 80%|████████████████████████████████████         | 4/5 [00:01<00:00,  2.12it/s]\u001b[A\n",
      "100%|█████████████████████████████████████████████| 5/5 [00:02<00:00,  2.13it/s]\u001b[A\n",
      "  2%|▊                                        | 19/1000 [00:58<49:36,  3.03s/it]"
     ]
    },
    {
     "name": "stdout",
     "output_type": "stream",
     "text": [
      "Episode 18, Average Reward: -7.750245666503906\n"
     ]
    },
    {
     "name": "stderr",
     "output_type": "stream",
     "text": [
      "\n",
      "  0%|                                                     | 0/5 [00:00<?, ?it/s]\u001b[A\n",
      " 20%|█████████                                    | 1/5 [00:00<00:02,  1.88it/s]\u001b[A\n",
      " 40%|██████████████████                           | 2/5 [00:01<00:01,  2.02it/s]\u001b[A\n",
      " 60%|███████████████████████████                  | 3/5 [00:01<00:00,  2.04it/s]\u001b[A\n",
      " 80%|████████████████████████████████████         | 4/5 [00:01<00:00,  2.07it/s]\u001b[A\n",
      "100%|█████████████████████████████████████████████| 5/5 [00:02<00:00,  2.06it/s]\u001b[A\n",
      "  2%|▊                                        | 20/1000 [01:01<50:01,  3.06s/it]\n",
      "  0%|                                                     | 0/5 [00:00<?, ?it/s]\u001b[A\n",
      " 20%|█████████                                    | 1/5 [00:00<00:02,  1.48it/s]\u001b[A\n",
      " 40%|██████████████████                           | 2/5 [00:01<00:01,  1.69it/s]\u001b[A\n",
      " 60%|███████████████████████████                  | 3/5 [00:01<00:01,  1.80it/s]\u001b[A\n",
      " 80%|████████████████████████████████████         | 4/5 [00:02<00:00,  1.92it/s]\u001b[A\n",
      "100%|█████████████████████████████████████████████| 5/5 [00:02<00:00,  1.88it/s]\u001b[A\n",
      "  2%|▊                                        | 21/1000 [01:05<51:08,  3.13s/it]"
     ]
    },
    {
     "name": "stdout",
     "output_type": "stream",
     "text": [
      "Episode 20, Average Reward: -5.285308837890625\n"
     ]
    },
    {
     "name": "stderr",
     "output_type": "stream",
     "text": [
      "\n",
      "  0%|                                                     | 0/5 [00:00<?, ?it/s]\u001b[A\n",
      " 20%|█████████                                    | 1/5 [00:00<00:01,  2.13it/s]\u001b[A\n",
      " 40%|██████████████████                           | 2/5 [00:00<00:01,  2.04it/s]\u001b[A\n",
      " 60%|███████████████████████████                  | 3/5 [00:01<00:01,  1.85it/s]\u001b[A\n",
      " 80%|████████████████████████████████████         | 4/5 [00:02<00:00,  1.94it/s]\u001b[A\n",
      "100%|█████████████████████████████████████████████| 5/5 [00:02<00:00,  1.98it/s]\u001b[A\n",
      "  2%|▉                                        | 22/1000 [01:08<51:08,  3.14s/it]\n",
      "  0%|                                                     | 0/5 [00:00<?, ?it/s]\u001b[A\n",
      " 20%|█████████                                    | 1/5 [00:00<00:01,  2.09it/s]\u001b[A\n",
      " 40%|██████████████████                           | 2/5 [00:00<00:01,  2.12it/s]\u001b[A\n",
      " 60%|███████████████████████████                  | 3/5 [00:01<00:00,  2.12it/s]\u001b[A\n",
      " 80%|████████████████████████████████████         | 4/5 [00:01<00:00,  2.10it/s]\u001b[A\n",
      "100%|█████████████████████████████████████████████| 5/5 [00:02<00:00,  2.01it/s]\u001b[A\n",
      "  2%|▉                                        | 23/1000 [01:11<51:25,  3.16s/it]"
     ]
    },
    {
     "name": "stdout",
     "output_type": "stream",
     "text": [
      "Episode 22, Average Reward: -5.639557647705078\n"
     ]
    },
    {
     "name": "stderr",
     "output_type": "stream",
     "text": [
      "\n",
      "  0%|                                                     | 0/5 [00:00<?, ?it/s]\u001b[A\n",
      " 20%|█████████                                    | 1/5 [00:00<00:02,  1.91it/s]\u001b[A\n",
      " 40%|██████████████████                           | 2/5 [00:01<00:01,  1.96it/s]\u001b[A\n",
      " 60%|███████████████████████████                  | 3/5 [00:01<00:01,  1.95it/s]\u001b[A\n",
      " 80%|████████████████████████████████████         | 4/5 [00:02<00:00,  1.90it/s]\u001b[A\n",
      "100%|█████████████████████████████████████████████| 5/5 [00:02<00:00,  1.95it/s]\u001b[A\n",
      "  2%|▉                                        | 24/1000 [01:14<51:36,  3.17s/it]\n",
      "  0%|                                                     | 0/5 [00:00<?, ?it/s]\u001b[A\n",
      " 20%|█████████                                    | 1/5 [00:00<00:02,  1.99it/s]\u001b[A\n",
      " 40%|██████████████████                           | 2/5 [00:00<00:01,  2.06it/s]\u001b[A\n",
      " 60%|███████████████████████████                  | 3/5 [00:01<00:00,  2.08it/s]\u001b[A\n",
      " 80%|████████████████████████████████████         | 4/5 [00:01<00:00,  2.11it/s]\u001b[A\n",
      "100%|█████████████████████████████████████████████| 5/5 [00:02<00:00,  2.09it/s]\u001b[A\n",
      "  2%|█                                        | 25/1000 [01:17<50:50,  3.13s/it]"
     ]
    },
    {
     "name": "stdout",
     "output_type": "stream",
     "text": [
      "Episode 24, Average Reward: -7.733406066894531\n"
     ]
    },
    {
     "name": "stderr",
     "output_type": "stream",
     "text": [
      "\n",
      "  0%|                                                     | 0/5 [00:00<?, ?it/s]\u001b[A\n",
      " 20%|█████████                                    | 1/5 [00:00<00:01,  2.10it/s]\u001b[A\n",
      " 40%|██████████████████                           | 2/5 [00:00<00:01,  2.01it/s]\u001b[A\n",
      " 60%|███████████████████████████                  | 3/5 [00:01<00:00,  2.06it/s]\u001b[A\n",
      " 80%|████████████████████████████████████         | 4/5 [00:01<00:00,  2.07it/s]\u001b[A\n",
      "100%|█████████████████████████████████████████████| 5/5 [00:02<00:00,  1.97it/s]\u001b[A\n",
      "  3%|█                                        | 26/1000 [01:21<51:01,  3.14s/it]\n",
      "  0%|                                                     | 0/5 [00:00<?, ?it/s]\u001b[A\n",
      " 20%|█████████                                    | 1/5 [00:00<00:01,  2.05it/s]\u001b[A\n",
      " 40%|██████████████████                           | 2/5 [00:00<00:01,  2.06it/s]\u001b[A\n",
      " 60%|███████████████████████████                  | 3/5 [00:01<00:00,  2.08it/s]\u001b[A\n",
      " 80%|████████████████████████████████████         | 4/5 [00:01<00:00,  2.08it/s]\u001b[A\n",
      "100%|█████████████████████████████████████████████| 5/5 [00:02<00:00,  2.08it/s]\u001b[A\n",
      "  3%|█                                        | 27/1000 [01:24<50:20,  3.10s/it]"
     ]
    },
    {
     "name": "stdout",
     "output_type": "stream",
     "text": [
      "Episode 26, Average Reward: -5.900902557373047\n"
     ]
    },
    {
     "name": "stderr",
     "output_type": "stream",
     "text": [
      "\n",
      "  0%|                                                     | 0/5 [00:00<?, ?it/s]\u001b[A\n",
      " 20%|█████████                                    | 1/5 [00:00<00:01,  2.10it/s]\u001b[A\n",
      " 40%|██████████████████                           | 2/5 [00:00<00:01,  2.04it/s]\u001b[A\n",
      " 60%|███████████████████████████                  | 3/5 [00:01<00:00,  2.07it/s]\u001b[A\n",
      " 80%|████████████████████████████████████         | 4/5 [00:01<00:00,  2.09it/s]\u001b[A\n",
      "100%|█████████████████████████████████████████████| 5/5 [00:02<00:00,  2.10it/s]\u001b[A\n",
      "  3%|█▏                                       | 28/1000 [01:27<49:48,  3.07s/it]\n",
      "  0%|                                                     | 0/5 [00:00<?, ?it/s]\u001b[A\n",
      " 20%|█████████                                    | 1/5 [00:00<00:01,  2.01it/s]\u001b[A\n",
      " 40%|██████████████████                           | 2/5 [00:00<00:01,  2.06it/s]\u001b[A\n",
      " 60%|███████████████████████████                  | 3/5 [00:01<00:01,  1.94it/s]\u001b[A\n",
      " 80%|████████████████████████████████████         | 4/5 [00:02<00:00,  1.98it/s]\u001b[A\n",
      "100%|█████████████████████████████████████████████| 5/5 [00:02<00:00,  2.01it/s]\u001b[A\n",
      "  3%|█▏                                       | 29/1000 [01:30<49:52,  3.08s/it]"
     ]
    },
    {
     "name": "stdout",
     "output_type": "stream",
     "text": [
      "Episode 28, Average Reward: -6.878558349609375\n"
     ]
    },
    {
     "name": "stderr",
     "output_type": "stream",
     "text": [
      "\n",
      "  0%|                                                     | 0/5 [00:00<?, ?it/s]\u001b[A\n",
      " 20%|█████████                                    | 1/5 [00:00<00:01,  2.09it/s]\u001b[A\n",
      " 40%|██████████████████                           | 2/5 [00:00<00:01,  2.04it/s]\u001b[A\n",
      " 60%|███████████████████████████                  | 3/5 [00:01<00:00,  2.08it/s]\u001b[A\n",
      " 80%|████████████████████████████████████         | 4/5 [00:01<00:00,  2.11it/s]\u001b[A\n",
      "100%|█████████████████████████████████████████████| 5/5 [00:02<00:00,  2.10it/s]\u001b[A\n",
      "  3%|█▏                                       | 30/1000 [01:33<49:33,  3.07s/it]\n",
      "  0%|                                                     | 0/5 [00:00<?, ?it/s]\u001b[A\n",
      " 20%|█████████                                    | 1/5 [00:00<00:01,  2.12it/s]\u001b[A\n",
      " 40%|██████████████████                           | 2/5 [00:00<00:01,  2.09it/s]\u001b[A\n",
      " 60%|███████████████████████████                  | 3/5 [00:01<00:01,  2.00it/s]\u001b[A\n",
      " 80%|████████████████████████████████████         | 4/5 [00:01<00:00,  2.03it/s]\u001b[A\n",
      "100%|█████████████████████████████████████████████| 5/5 [00:02<00:00,  2.05it/s]\u001b[A\n",
      "  3%|█▎                                       | 31/1000 [01:36<49:24,  3.06s/it]"
     ]
    },
    {
     "name": "stdout",
     "output_type": "stream",
     "text": [
      "Episode 30, Average Reward: -5.5170238494873045\n"
     ]
    },
    {
     "name": "stderr",
     "output_type": "stream",
     "text": [
      "\n",
      "  0%|                                                     | 0/5 [00:00<?, ?it/s]\u001b[A\n",
      " 20%|█████████                                    | 1/5 [00:00<00:01,  2.14it/s]\u001b[A\n",
      " 40%|██████████████████                           | 2/5 [00:00<00:01,  2.12it/s]\u001b[A\n",
      " 60%|███████████████████████████                  | 3/5 [00:01<00:00,  2.11it/s]\u001b[A\n",
      " 80%|████████████████████████████████████         | 4/5 [00:01<00:00,  2.12it/s]\u001b[A\n",
      "100%|█████████████████████████████████████████████| 5/5 [00:02<00:00,  2.12it/s]\u001b[A\n",
      "  3%|█▎                                       | 32/1000 [01:39<48:53,  3.03s/it]\n",
      "  0%|                                                     | 0/5 [00:00<?, ?it/s]\u001b[A\n",
      " 20%|█████████                                    | 1/5 [00:00<00:01,  2.10it/s]\u001b[A\n",
      " 40%|██████████████████                           | 2/5 [00:00<00:01,  2.13it/s]\u001b[A\n",
      " 60%|███████████████████████████                  | 3/5 [00:01<00:00,  2.05it/s]\u001b[A\n",
      " 80%|████████████████████████████████████         | 4/5 [00:01<00:00,  2.05it/s]\u001b[A\n",
      "100%|█████████████████████████████████████████████| 5/5 [00:02<00:00,  2.01it/s]\u001b[A\n",
      "  3%|█▎                                       | 33/1000 [01:42<49:17,  3.06s/it]"
     ]
    },
    {
     "name": "stdout",
     "output_type": "stream",
     "text": [
      "Episode 32, Average Reward: -5.2037403106689455\n"
     ]
    },
    {
     "name": "stderr",
     "output_type": "stream",
     "text": [
      "\n",
      "  0%|                                                     | 0/5 [00:00<?, ?it/s]\u001b[A\n",
      " 20%|█████████                                    | 1/5 [00:00<00:01,  2.12it/s]\u001b[A\n",
      " 40%|██████████████████                           | 2/5 [00:00<00:01,  2.13it/s]\u001b[A\n",
      " 60%|███████████████████████████                  | 3/5 [00:01<00:00,  2.13it/s]\u001b[A\n",
      " 80%|████████████████████████████████████         | 4/5 [00:01<00:00,  2.13it/s]\u001b[A\n",
      "100%|█████████████████████████████████████████████| 5/5 [00:02<00:00,  2.13it/s]\u001b[A\n",
      "  3%|█▍                                       | 34/1000 [01:45<48:46,  3.03s/it]\n",
      "  0%|                                                     | 0/5 [00:00<?, ?it/s]\u001b[A\n",
      " 20%|█████████                                    | 1/5 [00:00<00:01,  2.12it/s]\u001b[A\n",
      " 40%|██████████████████                           | 2/5 [00:00<00:01,  2.12it/s]\u001b[A\n",
      " 60%|███████████████████████████                  | 3/5 [00:01<00:00,  2.12it/s]\u001b[A\n",
      " 80%|████████████████████████████████████         | 4/5 [00:01<00:00,  1.98it/s]\u001b[A\n",
      "100%|█████████████████████████████████████████████| 5/5 [00:02<00:00,  2.04it/s]\u001b[A\n",
      "  4%|█▍                                       | 35/1000 [01:48<49:18,  3.07s/it]"
     ]
    },
    {
     "name": "stdout",
     "output_type": "stream",
     "text": [
      "Episode 34, Average Reward: -6.382920455932617\n"
     ]
    },
    {
     "name": "stderr",
     "output_type": "stream",
     "text": [
      "\n",
      "  0%|                                                     | 0/5 [00:00<?, ?it/s]\u001b[A\n",
      " 20%|█████████                                    | 1/5 [00:00<00:01,  2.13it/s]\u001b[A\n",
      " 40%|██████████████████                           | 2/5 [00:01<00:01,  1.89it/s]\u001b[A\n",
      " 60%|███████████████████████████                  | 3/5 [00:01<00:01,  1.92it/s]\u001b[A\n",
      " 80%|████████████████████████████████████         | 4/5 [00:02<00:00,  1.98it/s]\u001b[A\n",
      "100%|█████████████████████████████████████████████| 5/5 [00:02<00:00,  1.97it/s]\u001b[A\n",
      "  4%|█▍                                       | 36/1000 [01:51<49:52,  3.10s/it]\n",
      "  0%|                                                     | 0/5 [00:00<?, ?it/s]\u001b[A\n",
      " 20%|█████████                                    | 1/5 [00:00<00:01,  2.11it/s]\u001b[A\n",
      " 40%|██████████████████                           | 2/5 [00:00<00:01,  2.08it/s]\u001b[A\n",
      " 60%|███████████████████████████                  | 3/5 [00:01<00:00,  2.08it/s]\u001b[A\n",
      " 80%|████████████████████████████████████         | 4/5 [00:01<00:00,  2.04it/s]\u001b[A\n",
      "100%|█████████████████████████████████████████████| 5/5 [00:02<00:00,  2.04it/s]\u001b[A\n",
      "  4%|█▌                                       | 37/1000 [01:54<49:48,  3.10s/it]"
     ]
    },
    {
     "name": "stdout",
     "output_type": "stream",
     "text": [
      "Episode 36, Average Reward: -5.60723648071289\n"
     ]
    },
    {
     "name": "stderr",
     "output_type": "stream",
     "text": [
      "\n",
      "  0%|                                                     | 0/5 [00:00<?, ?it/s]\u001b[A\n",
      " 20%|█████████                                    | 1/5 [00:00<00:01,  2.01it/s]\u001b[A\n",
      " 40%|██████████████████                           | 2/5 [00:01<00:01,  1.92it/s]\u001b[A\n",
      " 60%|███████████████████████████                  | 3/5 [00:01<00:01,  1.99it/s]\u001b[A\n",
      " 80%|████████████████████████████████████         | 4/5 [00:02<00:00,  1.94it/s]\u001b[A\n",
      "100%|█████████████████████████████████████████████| 5/5 [00:02<00:00,  1.97it/s]\u001b[A\n",
      "  4%|█▌                                       | 38/1000 [01:57<50:17,  3.14s/it]\n",
      "  0%|                                                     | 0/5 [00:00<?, ?it/s]\u001b[A\n",
      " 20%|█████████                                    | 1/5 [00:00<00:01,  2.02it/s]\u001b[A\n",
      " 40%|██████████████████                           | 2/5 [00:01<00:01,  1.76it/s]\u001b[A\n",
      " 60%|███████████████████████████                  | 3/5 [00:01<00:01,  1.91it/s]\u001b[A\n",
      " 80%|████████████████████████████████████         | 4/5 [00:02<00:00,  1.98it/s]\u001b[A\n",
      "100%|█████████████████████████████████████████████| 5/5 [00:02<00:00,  1.91it/s]\u001b[A\n",
      "  4%|█▌                                       | 39/1000 [02:01<51:28,  3.21s/it]"
     ]
    },
    {
     "name": "stdout",
     "output_type": "stream",
     "text": [
      "Episode 38, Average Reward: -7.191105651855469\n"
     ]
    },
    {
     "name": "stderr",
     "output_type": "stream",
     "text": [
      "\n",
      "  0%|                                                     | 0/5 [00:00<?, ?it/s]\u001b[A\n",
      " 20%|█████████                                    | 1/5 [00:00<00:02,  1.90it/s]\u001b[A\n",
      " 40%|██████████████████                           | 2/5 [00:01<00:01,  1.80it/s]\u001b[A\n",
      " 60%|███████████████████████████                  | 3/5 [00:01<00:01,  1.84it/s]\u001b[A\n",
      " 80%|████████████████████████████████████         | 4/5 [00:02<00:00,  1.79it/s]\u001b[A\n",
      "100%|█████████████████████████████████████████████| 5/5 [00:02<00:00,  1.84it/s]\u001b[A\n",
      "  4%|█▋                                       | 40/1000 [02:04<52:17,  3.27s/it]\n",
      "  0%|                                                     | 0/5 [00:00<?, ?it/s]\u001b[A\n",
      " 20%|█████████                                    | 1/5 [00:00<00:02,  1.97it/s]\u001b[A\n",
      " 40%|██████████████████                           | 2/5 [00:01<00:01,  1.90it/s]\u001b[A\n",
      " 60%|███████████████████████████                  | 3/5 [00:01<00:01,  1.89it/s]\u001b[A\n",
      " 80%|████████████████████████████████████         | 4/5 [00:02<00:00,  1.88it/s]\u001b[A\n",
      "100%|█████████████████████████████████████████████| 5/5 [00:02<00:00,  1.92it/s]\u001b[A\n",
      "  4%|█▋                                       | 41/1000 [02:08<52:18,  3.27s/it]"
     ]
    },
    {
     "name": "stdout",
     "output_type": "stream",
     "text": [
      "Episode 40, Average Reward: -6.892851257324219\n"
     ]
    },
    {
     "name": "stderr",
     "output_type": "stream",
     "text": [
      "\n",
      "  0%|                                                     | 0/5 [00:00<?, ?it/s]\u001b[A\n",
      " 20%|█████████                                    | 1/5 [00:00<00:02,  1.78it/s]\u001b[A\n",
      " 40%|██████████████████                           | 2/5 [00:01<00:01,  1.95it/s]\u001b[A\n",
      " 60%|███████████████████████████                  | 3/5 [00:01<00:01,  1.91it/s]\u001b[A\n",
      " 80%|████████████████████████████████████         | 4/5 [00:02<00:00,  1.93it/s]\u001b[A\n",
      "100%|█████████████████████████████████████████████| 5/5 [00:02<00:00,  1.85it/s]\u001b[A\n",
      "  4%|█▋                                       | 42/1000 [02:11<52:40,  3.30s/it]\n",
      "  0%|                                                     | 0/5 [00:00<?, ?it/s]\u001b[A\n",
      " 20%|█████████                                    | 1/5 [00:00<00:02,  1.91it/s]\u001b[A\n",
      " 40%|██████████████████                           | 2/5 [00:01<00:01,  1.95it/s]\u001b[A\n",
      " 60%|███████████████████████████                  | 3/5 [00:01<00:01,  1.97it/s]\u001b[A\n",
      " 80%|████████████████████████████████████         | 4/5 [00:02<00:00,  1.98it/s]\u001b[A\n",
      "100%|█████████████████████████████████████████████| 5/5 [00:02<00:00,  1.97it/s]\u001b[A\n",
      "  4%|█▊                                       | 43/1000 [02:14<52:04,  3.26s/it]"
     ]
    },
    {
     "name": "stdout",
     "output_type": "stream",
     "text": [
      "Episode 42, Average Reward: -7.268515777587891\n"
     ]
    },
    {
     "name": "stderr",
     "output_type": "stream",
     "text": [
      "\n",
      "  0%|                                                     | 0/5 [00:00<?, ?it/s]\u001b[A\n",
      " 20%|█████████                                    | 1/5 [00:00<00:01,  2.10it/s]\u001b[A\n",
      " 40%|██████████████████                           | 2/5 [00:01<00:01,  1.89it/s]\u001b[A\n",
      " 60%|███████████████████████████                  | 3/5 [00:01<00:01,  1.87it/s]\u001b[A\n",
      " 80%|████████████████████████████████████         | 4/5 [00:02<00:00,  1.90it/s]\u001b[A\n",
      "100%|█████████████████████████████████████████████| 5/5 [00:02<00:00,  1.91it/s]\u001b[A\n",
      "  4%|█▊                                       | 44/1000 [02:17<52:46,  3.31s/it]\n",
      "  0%|                                                     | 0/5 [00:00<?, ?it/s]\u001b[A\n",
      " 20%|█████████                                    | 1/5 [00:00<00:02,  1.87it/s]\u001b[A\n",
      " 40%|██████████████████                           | 2/5 [00:01<00:01,  1.82it/s]\u001b[A\n",
      " 60%|███████████████████████████                  | 3/5 [00:01<00:01,  1.84it/s]\u001b[A\n",
      " 80%|████████████████████████████████████         | 4/5 [00:02<00:00,  1.89it/s]\u001b[A\n",
      "100%|█████████████████████████████████████████████| 5/5 [00:02<00:00,  1.91it/s]\u001b[A\n",
      "  4%|█▊                                       | 45/1000 [02:21<52:25,  3.29s/it]"
     ]
    },
    {
     "name": "stdout",
     "output_type": "stream",
     "text": [
      "Episode 44, Average Reward: -7.110451507568359\n"
     ]
    },
    {
     "name": "stderr",
     "output_type": "stream",
     "text": [
      "\n",
      "  0%|                                                     | 0/5 [00:00<?, ?it/s]\u001b[A\n",
      " 20%|█████████                                    | 1/5 [00:00<00:01,  2.14it/s]\u001b[A\n",
      " 40%|██████████████████                           | 2/5 [00:00<00:01,  2.11it/s]\u001b[A\n",
      " 60%|███████████████████████████                  | 3/5 [00:01<00:01,  1.95it/s]\u001b[A\n",
      " 80%|████████████████████████████████████         | 4/5 [00:02<00:00,  1.88it/s]\u001b[A\n",
      "100%|█████████████████████████████████████████████| 5/5 [00:02<00:00,  1.93it/s]\u001b[A\n",
      "  5%|█▉                                       | 46/1000 [02:24<52:30,  3.30s/it]\n",
      "  0%|                                                     | 0/5 [00:00<?, ?it/s]\u001b[A\n",
      " 20%|█████████                                    | 1/5 [00:00<00:01,  2.10it/s]\u001b[A\n",
      " 40%|██████████████████                           | 2/5 [00:00<00:01,  2.09it/s]\u001b[A\n",
      " 60%|███████████████████████████                  | 3/5 [00:01<00:00,  2.09it/s]\u001b[A\n",
      " 80%|████████████████████████████████████         | 4/5 [00:02<00:00,  1.90it/s]\u001b[A\n",
      "100%|█████████████████████████████████████████████| 5/5 [00:02<00:00,  1.99it/s]\u001b[A\n",
      "  5%|█▉                                       | 47/1000 [02:27<51:34,  3.25s/it]"
     ]
    },
    {
     "name": "stdout",
     "output_type": "stream",
     "text": [
      "Episode 46, Average Reward: -6.927763366699219\n"
     ]
    },
    {
     "name": "stderr",
     "output_type": "stream",
     "text": [
      "\n",
      "  0%|                                                     | 0/5 [00:00<?, ?it/s]\u001b[A\n",
      " 20%|█████████                                    | 1/5 [00:00<00:01,  2.19it/s]\u001b[A\n",
      " 40%|██████████████████                           | 2/5 [00:00<00:01,  2.16it/s]\u001b[A\n",
      " 60%|███████████████████████████                  | 3/5 [00:01<00:00,  2.09it/s]\u001b[A\n",
      " 80%|████████████████████████████████████         | 4/5 [00:01<00:00,  2.11it/s]\u001b[A\n",
      "100%|█████████████████████████████████████████████| 5/5 [00:02<00:00,  2.11it/s]\u001b[A\n",
      "  5%|█▉                                       | 48/1000 [02:30<50:40,  3.19s/it]\n",
      "  0%|                                                     | 0/5 [00:00<?, ?it/s]\u001b[A\n",
      " 20%|█████████                                    | 1/5 [00:00<00:01,  2.15it/s]\u001b[A\n",
      " 40%|██████████████████                           | 2/5 [00:00<00:01,  2.07it/s]\u001b[A\n",
      " 60%|███████████████████████████                  | 3/5 [00:01<00:00,  2.08it/s]\u001b[A\n",
      " 80%|████████████████████████████████████         | 4/5 [00:01<00:00,  2.12it/s]\u001b[A\n",
      "100%|█████████████████████████████████████████████| 5/5 [00:02<00:00,  2.12it/s]\u001b[A\n",
      "  5%|██                                       | 49/1000 [02:33<49:48,  3.14s/it]"
     ]
    },
    {
     "name": "stdout",
     "output_type": "stream",
     "text": [
      "Episode 48, Average Reward: -7.314186859130859\n"
     ]
    },
    {
     "name": "stderr",
     "output_type": "stream",
     "text": [
      "\n",
      "  0%|                                                     | 0/5 [00:00<?, ?it/s]\u001b[A\n",
      " 20%|█████████                                    | 1/5 [00:00<00:01,  2.12it/s]\u001b[A\n",
      " 40%|██████████████████                           | 2/5 [00:00<00:01,  2.13it/s]\u001b[A\n",
      " 60%|███████████████████████████                  | 3/5 [00:01<00:00,  2.07it/s]\u001b[A\n",
      " 80%|████████████████████████████████████         | 4/5 [00:01<00:00,  2.08it/s]\u001b[A\n",
      "100%|█████████████████████████████████████████████| 5/5 [00:02<00:00,  2.10it/s]\u001b[A\n",
      "  5%|██                                       | 50/1000 [02:36<49:16,  3.11s/it]\n",
      "  0%|                                                     | 0/5 [00:00<?, ?it/s]\u001b[A\n",
      " 20%|█████████                                    | 1/5 [00:00<00:01,  2.10it/s]\u001b[A\n",
      " 40%|██████████████████                           | 2/5 [00:00<00:01,  2.12it/s]\u001b[A\n",
      " 60%|███████████████████████████                  | 3/5 [00:01<00:00,  2.08it/s]\u001b[A\n",
      " 80%|████████████████████████████████████         | 4/5 [00:01<00:00,  2.05it/s]\u001b[A\n",
      "100%|█████████████████████████████████████████████| 5/5 [00:02<00:00,  2.08it/s]\u001b[A\n",
      "  5%|██                                       | 51/1000 [02:39<48:57,  3.09s/it]"
     ]
    },
    {
     "name": "stdout",
     "output_type": "stream",
     "text": [
      "Episode 50, Average Reward: -6.699024200439453\n"
     ]
    },
    {
     "name": "stderr",
     "output_type": "stream",
     "text": [
      "\n",
      "  0%|                                                     | 0/5 [00:00<?, ?it/s]\u001b[A\n",
      " 20%|█████████                                    | 1/5 [00:00<00:01,  2.09it/s]\u001b[A\n",
      " 40%|██████████████████                           | 2/5 [00:00<00:01,  2.10it/s]\u001b[A\n",
      " 60%|███████████████████████████                  | 3/5 [00:01<00:00,  2.11it/s]\u001b[A\n",
      " 80%|████████████████████████████████████         | 4/5 [00:01<00:00,  2.11it/s]\u001b[A\n",
      "100%|█████████████████████████████████████████████| 5/5 [00:02<00:00,  2.09it/s]\u001b[A\n",
      "  5%|██▏                                      | 52/1000 [02:42<48:49,  3.09s/it]\n",
      "  0%|                                                     | 0/5 [00:00<?, ?it/s]\u001b[A\n",
      " 20%|█████████                                    | 1/5 [00:00<00:01,  2.12it/s]\u001b[A\n",
      " 40%|██████████████████                           | 2/5 [00:00<00:01,  2.13it/s]\u001b[A\n",
      " 60%|███████████████████████████                  | 3/5 [00:01<00:00,  2.02it/s]\u001b[A\n",
      " 80%|████████████████████████████████████         | 4/5 [00:01<00:00,  2.05it/s]\u001b[A\n",
      "100%|█████████████████████████████████████████████| 5/5 [00:02<00:00,  2.00it/s]\u001b[A\n",
      "  5%|██▏                                      | 53/1000 [02:46<49:02,  3.11s/it]"
     ]
    },
    {
     "name": "stdout",
     "output_type": "stream",
     "text": [
      "Episode 52, Average Reward: -5.803364944458008\n"
     ]
    },
    {
     "name": "stderr",
     "output_type": "stream",
     "text": [
      "\n",
      "  0%|                                                     | 0/5 [00:00<?, ?it/s]\u001b[A\n",
      " 20%|█████████                                    | 1/5 [00:00<00:02,  1.93it/s]\u001b[A\n",
      " 40%|██████████████████                           | 2/5 [00:01<00:01,  1.92it/s]\u001b[A\n",
      " 60%|███████████████████████████                  | 3/5 [00:01<00:01,  1.59it/s]\u001b[A\n",
      " 80%|████████████████████████████████████         | 4/5 [00:02<00:00,  1.75it/s]\u001b[A\n",
      "100%|█████████████████████████████████████████████| 5/5 [00:02<00:00,  1.78it/s]\u001b[A\n",
      "  5%|██▏                                      | 54/1000 [02:49<51:09,  3.25s/it]\n",
      "  0%|                                                     | 0/5 [00:00<?, ?it/s]\u001b[A\n",
      " 20%|█████████                                    | 1/5 [00:00<00:01,  2.16it/s]\u001b[A\n",
      " 40%|██████████████████                           | 2/5 [00:00<00:01,  2.11it/s]\u001b[A\n",
      " 60%|███████████████████████████                  | 3/5 [00:01<00:00,  2.10it/s]\u001b[A\n",
      " 80%|████████████████████████████████████         | 4/5 [00:02<00:00,  1.90it/s]\u001b[A\n",
      "100%|█████████████████████████████████████████████| 5/5 [00:02<00:00,  2.01it/s]\u001b[A\n",
      "  6%|██▎                                      | 55/1000 [02:53<51:47,  3.29s/it]"
     ]
    },
    {
     "name": "stdout",
     "output_type": "stream",
     "text": [
      "Episode 54, Average Reward: -7.042015075683594\n"
     ]
    },
    {
     "name": "stderr",
     "output_type": "stream",
     "text": [
      "\n",
      "  0%|                                                     | 0/5 [00:00<?, ?it/s]\u001b[A\n",
      " 20%|█████████                                    | 1/5 [00:00<00:01,  2.05it/s]\u001b[A\n",
      " 40%|██████████████████                           | 2/5 [00:00<00:01,  2.11it/s]\u001b[A\n",
      " 60%|███████████████████████████                  | 3/5 [00:01<00:00,  2.09it/s]\u001b[A\n",
      " 80%|████████████████████████████████████         | 4/5 [00:01<00:00,  2.03it/s]\u001b[A\n",
      "100%|█████████████████████████████████████████████| 5/5 [00:02<00:00,  2.04it/s]\u001b[A\n",
      "  6%|██▎                                      | 56/1000 [02:56<51:04,  3.25s/it]\n",
      "  0%|                                                     | 0/5 [00:00<?, ?it/s]\u001b[A\n",
      " 20%|█████████                                    | 1/5 [00:00<00:02,  1.83it/s]\u001b[A\n",
      " 40%|██████████████████                           | 2/5 [00:01<00:01,  1.71it/s]\u001b[A\n",
      " 60%|███████████████████████████                  | 3/5 [00:01<00:01,  1.86it/s]\u001b[A\n",
      " 80%|████████████████████████████████████         | 4/5 [00:02<00:00,  1.78it/s]\u001b[A\n",
      "100%|█████████████████████████████████████████████| 5/5 [00:02<00:00,  1.85it/s]\u001b[A\n",
      "  6%|██▎                                      | 57/1000 [02:59<51:41,  3.29s/it]"
     ]
    },
    {
     "name": "stdout",
     "output_type": "stream",
     "text": [
      "Episode 56, Average Reward: -6.116763305664063\n"
     ]
    },
    {
     "name": "stderr",
     "output_type": "stream",
     "text": [
      "\n",
      "  0%|                                                     | 0/5 [00:00<?, ?it/s]\u001b[A\n",
      " 20%|█████████                                    | 1/5 [00:00<00:01,  2.17it/s]\u001b[A\n",
      " 40%|██████████████████                           | 2/5 [00:00<00:01,  2.13it/s]\u001b[A\n",
      " 60%|███████████████████████████                  | 3/5 [00:01<00:00,  2.13it/s]\u001b[A\n",
      " 80%|████████████████████████████████████         | 4/5 [00:01<00:00,  2.14it/s]\u001b[A\n",
      "100%|█████████████████████████████████████████████| 5/5 [00:02<00:00,  2.14it/s]\u001b[A\n",
      "  6%|██▍                                      | 58/1000 [03:02<50:17,  3.20s/it]\n",
      "  0%|                                                     | 0/5 [00:00<?, ?it/s]\u001b[A\n",
      " 20%|█████████                                    | 1/5 [00:00<00:01,  2.24it/s]\u001b[A\n",
      " 40%|██████████████████                           | 2/5 [00:00<00:01,  2.14it/s]\u001b[A\n",
      " 60%|███████████████████████████                  | 3/5 [00:01<00:00,  2.13it/s]\u001b[A\n",
      " 80%|████████████████████████████████████         | 4/5 [00:01<00:00,  2.13it/s]\u001b[A\n",
      "100%|█████████████████████████████████████████████| 5/5 [00:02<00:00,  2.13it/s]\u001b[A\n",
      "  6%|██▍                                      | 59/1000 [03:05<49:42,  3.17s/it]"
     ]
    },
    {
     "name": "stdout",
     "output_type": "stream",
     "text": [
      "Episode 58, Average Reward: -8.120005798339843\n"
     ]
    },
    {
     "name": "stderr",
     "output_type": "stream",
     "text": [
      "\n",
      "  0%|                                                     | 0/5 [00:00<?, ?it/s]\u001b[A\n",
      " 20%|█████████                                    | 1/5 [00:00<00:01,  2.11it/s]\u001b[A\n",
      " 40%|██████████████████                           | 2/5 [00:01<00:01,  1.95it/s]\u001b[A\n",
      " 60%|███████████████████████████                  | 3/5 [00:01<00:00,  2.01it/s]\u001b[A\n",
      " 80%|████████████████████████████████████         | 4/5 [00:01<00:00,  2.07it/s]\u001b[A\n",
      "100%|█████████████████████████████████████████████| 5/5 [00:02<00:00,  2.07it/s]\u001b[A\n",
      "  6%|██▍                                      | 60/1000 [03:08<49:22,  3.15s/it]\n",
      "  0%|                                                     | 0/5 [00:00<?, ?it/s]\u001b[A\n",
      " 20%|█████████                                    | 1/5 [00:00<00:01,  2.21it/s]\u001b[A\n",
      " 40%|██████████████████                           | 2/5 [00:00<00:01,  2.17it/s]\u001b[A\n",
      " 60%|███████████████████████████                  | 3/5 [00:01<00:00,  2.14it/s]\u001b[A\n",
      " 80%|████████████████████████████████████         | 4/5 [00:01<00:00,  2.15it/s]\u001b[A\n",
      "100%|█████████████████████████████████████████████| 5/5 [00:02<00:00,  2.16it/s]\u001b[A\n",
      "  6%|██▌                                      | 61/1000 [03:11<48:22,  3.09s/it]"
     ]
    },
    {
     "name": "stdout",
     "output_type": "stream",
     "text": [
      "Episode 60, Average Reward: -5.409908294677734\n"
     ]
    },
    {
     "name": "stderr",
     "output_type": "stream",
     "text": [
      "\n",
      "  0%|                                                     | 0/5 [00:00<?, ?it/s]\u001b[A\n",
      " 20%|█████████                                    | 1/5 [00:00<00:02,  1.92it/s]\u001b[A\n",
      " 40%|██████████████████                           | 2/5 [00:01<00:01,  2.01it/s]\u001b[A\n",
      " 60%|███████████████████████████                  | 3/5 [00:01<00:00,  2.04it/s]\u001b[A\n",
      " 80%|████████████████████████████████████         | 4/5 [00:02<00:00,  1.96it/s]\u001b[A\n",
      "100%|█████████████████████████████████████████████| 5/5 [00:02<00:00,  2.01it/s]\u001b[A\n",
      "  6%|██▌                                      | 62/1000 [03:14<48:43,  3.12s/it]\n",
      "  0%|                                                     | 0/5 [00:00<?, ?it/s]\u001b[A\n",
      " 20%|█████████                                    | 1/5 [00:00<00:01,  2.08it/s]\u001b[A\n",
      " 40%|██████████████████                           | 2/5 [00:00<00:01,  2.07it/s]\u001b[A\n",
      " 60%|███████████████████████████                  | 3/5 [00:01<00:00,  2.06it/s]\u001b[A\n",
      " 80%|████████████████████████████████████         | 4/5 [00:01<00:00,  2.05it/s]\u001b[A\n",
      "100%|█████████████████████████████████████████████| 5/5 [00:02<00:00,  1.97it/s]\u001b[A\n",
      "  6%|██▌                                      | 63/1000 [03:18<48:59,  3.14s/it]"
     ]
    },
    {
     "name": "stdout",
     "output_type": "stream",
     "text": [
      "Episode 62, Average Reward: -7.077970886230469\n"
     ]
    },
    {
     "name": "stderr",
     "output_type": "stream",
     "text": [
      "\n",
      "  0%|                                                     | 0/5 [00:00<?, ?it/s]\u001b[A\n",
      " 20%|█████████                                    | 1/5 [00:00<00:01,  2.12it/s]\u001b[A\n",
      " 40%|██████████████████                           | 2/5 [00:00<00:01,  2.14it/s]\u001b[A\n",
      " 60%|███████████████████████████                  | 3/5 [00:01<00:00,  2.02it/s]\u001b[A\n",
      " 80%|████████████████████████████████████         | 4/5 [00:01<00:00,  2.05it/s]\u001b[A\n",
      "100%|█████████████████████████████████████████████| 5/5 [00:02<00:00,  2.05it/s]\u001b[A\n",
      "  6%|██▌                                      | 64/1000 [03:21<48:40,  3.12s/it]\n",
      "  0%|                                                     | 0/5 [00:00<?, ?it/s]\u001b[A\n",
      " 20%|█████████                                    | 1/5 [00:00<00:01,  2.01it/s]\u001b[A\n",
      " 40%|██████████████████                           | 2/5 [00:00<00:01,  2.05it/s]\u001b[A\n",
      " 60%|███████████████████████████                  | 3/5 [00:01<00:00,  2.05it/s]\u001b[A\n",
      " 80%|████████████████████████████████████         | 4/5 [00:01<00:00,  2.03it/s]\u001b[A\n",
      "100%|█████████████████████████████████████████████| 5/5 [00:02<00:00,  2.06it/s]\u001b[A\n",
      "  6%|██▋                                      | 65/1000 [03:24<48:17,  3.10s/it]"
     ]
    },
    {
     "name": "stdout",
     "output_type": "stream",
     "text": [
      "Episode 64, Average Reward: -6.717774963378906\n"
     ]
    },
    {
     "name": "stderr",
     "output_type": "stream",
     "text": [
      "\n",
      "  0%|                                                     | 0/5 [00:00<?, ?it/s]\u001b[A\n",
      " 20%|█████████                                    | 1/5 [00:00<00:01,  2.16it/s]\u001b[A\n",
      " 40%|██████████████████                           | 2/5 [00:00<00:01,  2.13it/s]\u001b[A\n",
      " 60%|███████████████████████████                  | 3/5 [00:01<00:00,  2.10it/s]\u001b[A\n",
      " 80%|████████████████████████████████████         | 4/5 [00:01<00:00,  2.03it/s]\u001b[A\n",
      "100%|█████████████████████████████████████████████| 5/5 [00:02<00:00,  2.05it/s]\u001b[A\n",
      "  7%|██▋                                      | 66/1000 [03:27<48:00,  3.08s/it]\n",
      "  0%|                                                     | 0/5 [00:00<?, ?it/s]\u001b[A\n",
      " 20%|█████████                                    | 1/5 [00:00<00:02,  1.74it/s]\u001b[A\n",
      " 40%|██████████████████                           | 2/5 [00:01<00:01,  1.90it/s]\u001b[A\n",
      " 60%|███████████████████████████                  | 3/5 [00:01<00:01,  1.98it/s]\u001b[A\n",
      " 80%|████████████████████████████████████         | 4/5 [00:02<00:00,  2.04it/s]\u001b[A\n",
      "100%|█████████████████████████████████████████████| 5/5 [00:02<00:00,  2.02it/s]\u001b[A\n",
      "  7%|██▋                                      | 67/1000 [03:30<48:01,  3.09s/it]"
     ]
    },
    {
     "name": "stdout",
     "output_type": "stream",
     "text": [
      "Episode 66, Average Reward: -5.228572845458984\n"
     ]
    },
    {
     "name": "stderr",
     "output_type": "stream",
     "text": [
      "\n",
      "  0%|                                                     | 0/5 [00:00<?, ?it/s]\u001b[A\n",
      " 20%|█████████                                    | 1/5 [00:00<00:01,  2.15it/s]\u001b[A\n",
      " 40%|██████████████████                           | 2/5 [00:00<00:01,  2.15it/s]\u001b[A\n",
      " 60%|███████████████████████████                  | 3/5 [00:01<00:00,  2.12it/s]\u001b[A\n",
      " 80%|████████████████████████████████████         | 4/5 [00:01<00:00,  2.08it/s]\u001b[A\n",
      "100%|█████████████████████████████████████████████| 5/5 [00:02<00:00,  2.11it/s]\u001b[A\n",
      "  7%|██▊                                      | 68/1000 [03:33<47:45,  3.07s/it]\n",
      "  0%|                                                     | 0/5 [00:00<?, ?it/s]\u001b[A\n",
      " 20%|█████████                                    | 1/5 [00:00<00:01,  2.07it/s]\u001b[A\n",
      " 40%|██████████████████                           | 2/5 [00:00<00:01,  2.12it/s]\u001b[A\n",
      " 60%|███████████████████████████                  | 3/5 [00:01<00:00,  2.19it/s]\u001b[A\n",
      " 80%|████████████████████████████████████         | 4/5 [00:01<00:00,  2.20it/s]\u001b[A\n",
      "100%|█████████████████████████████████████████████| 5/5 [00:02<00:00,  2.18it/s]\u001b[A\n",
      "  7%|██▊                                      | 69/1000 [03:36<47:12,  3.04s/it]"
     ]
    },
    {
     "name": "stdout",
     "output_type": "stream",
     "text": [
      "Episode 68, Average Reward: -5.309299468994141\n"
     ]
    },
    {
     "name": "stderr",
     "output_type": "stream",
     "text": [
      "\n",
      "  0%|                                                     | 0/5 [00:00<?, ?it/s]\u001b[A\n",
      " 20%|█████████                                    | 1/5 [00:00<00:01,  2.27it/s]\u001b[A\n",
      " 40%|██████████████████                           | 2/5 [00:00<00:01,  2.26it/s]\u001b[A\n",
      " 60%|███████████████████████████                  | 3/5 [00:01<00:00,  2.22it/s]\u001b[A\n",
      " 80%|████████████████████████████████████         | 4/5 [00:01<00:00,  2.22it/s]\u001b[A\n",
      "100%|█████████████████████████████████████████████| 5/5 [00:02<00:00,  2.19it/s]\u001b[A\n",
      "  7%|██▊                                      | 69/1000 [03:39<49:21,  3.18s/it]\n"
     ]
    },
    {
     "ename": "RuntimeError",
     "evalue": "MPS backend out of memory (MPS allocated: 136.00 MB, other allocations: 8.94 GB, max allowed: 9.07 GB). Tried to allocate 4.00 MB on private pool. Use PYTORCH_MPS_HIGH_WATERMARK_RATIO=0.0 to disable upper limit for memory allocations (may cause system failure).",
     "output_type": "error",
     "traceback": [
      "\u001b[0;31m---------------------------------------------------------------------------\u001b[0m",
      "\u001b[0;31mRuntimeError\u001b[0m                              Traceback (most recent call last)",
      "Cell \u001b[0;32mIn[25], line 49\u001b[0m\n\u001b[1;32m     47\u001b[0m optimizer\u001b[38;5;241m.\u001b[39mzero_grad()\n\u001b[1;32m     48\u001b[0m total_loss\u001b[38;5;241m.\u001b[39mbackward()\n\u001b[0;32m---> 49\u001b[0m \u001b[43moptimizer\u001b[49m\u001b[38;5;241;43m.\u001b[39;49m\u001b[43mstep\u001b[49m\u001b[43m(\u001b[49m\u001b[43m)\u001b[49m\n\u001b[1;32m     51\u001b[0m \u001b[38;5;28;01mif\u001b[39;00m episode \u001b[38;5;241m%\u001b[39m \u001b[38;5;241m2\u001b[39m \u001b[38;5;241m==\u001b[39m \u001b[38;5;241m0\u001b[39m:\n\u001b[1;32m     52\u001b[0m     \u001b[38;5;28mprint\u001b[39m(\u001b[38;5;124mf\u001b[39m\u001b[38;5;124m\"\u001b[39m\u001b[38;5;124mEpisode \u001b[39m\u001b[38;5;132;01m{\u001b[39;00mepisode\u001b[38;5;132;01m}\u001b[39;00m\u001b[38;5;124m, Average Reward: \u001b[39m\u001b[38;5;132;01m{\u001b[39;00mtotal_loss\u001b[38;5;241m.\u001b[39mitem()\u001b[38;5;250m \u001b[39m\u001b[38;5;241m/\u001b[39m\u001b[38;5;250m \u001b[39mbatch_size\u001b[38;5;132;01m}\u001b[39;00m\u001b[38;5;124m\"\u001b[39m)\n",
      "File \u001b[0;32m~/anaconda3/envs/dami/lib/python3.12/site-packages/torch/optim/optimizer.py:385\u001b[0m, in \u001b[0;36mOptimizer.profile_hook_step.<locals>.wrapper\u001b[0;34m(*args, **kwargs)\u001b[0m\n\u001b[1;32m    380\u001b[0m         \u001b[38;5;28;01melse\u001b[39;00m:\n\u001b[1;32m    381\u001b[0m             \u001b[38;5;28;01mraise\u001b[39;00m \u001b[38;5;167;01mRuntimeError\u001b[39;00m(\n\u001b[1;32m    382\u001b[0m                 \u001b[38;5;124mf\u001b[39m\u001b[38;5;124m\"\u001b[39m\u001b[38;5;132;01m{\u001b[39;00mfunc\u001b[38;5;132;01m}\u001b[39;00m\u001b[38;5;124m must return None or a tuple of (new_args, new_kwargs), but got \u001b[39m\u001b[38;5;132;01m{\u001b[39;00mresult\u001b[38;5;132;01m}\u001b[39;00m\u001b[38;5;124m.\u001b[39m\u001b[38;5;124m\"\u001b[39m\n\u001b[1;32m    383\u001b[0m             )\n\u001b[0;32m--> 385\u001b[0m out \u001b[38;5;241m=\u001b[39m \u001b[43mfunc\u001b[49m\u001b[43m(\u001b[49m\u001b[38;5;241;43m*\u001b[39;49m\u001b[43margs\u001b[49m\u001b[43m,\u001b[49m\u001b[43m \u001b[49m\u001b[38;5;241;43m*\u001b[39;49m\u001b[38;5;241;43m*\u001b[39;49m\u001b[43mkwargs\u001b[49m\u001b[43m)\u001b[49m\n\u001b[1;32m    386\u001b[0m \u001b[38;5;28mself\u001b[39m\u001b[38;5;241m.\u001b[39m_optimizer_step_code()\n\u001b[1;32m    388\u001b[0m \u001b[38;5;66;03m# call optimizer step post hooks\u001b[39;00m\n",
      "File \u001b[0;32m~/anaconda3/envs/dami/lib/python3.12/site-packages/torch/optim/optimizer.py:76\u001b[0m, in \u001b[0;36m_use_grad_for_differentiable.<locals>._use_grad\u001b[0;34m(self, *args, **kwargs)\u001b[0m\n\u001b[1;32m     74\u001b[0m     torch\u001b[38;5;241m.\u001b[39mset_grad_enabled(\u001b[38;5;28mself\u001b[39m\u001b[38;5;241m.\u001b[39mdefaults[\u001b[38;5;124m'\u001b[39m\u001b[38;5;124mdifferentiable\u001b[39m\u001b[38;5;124m'\u001b[39m])\n\u001b[1;32m     75\u001b[0m     torch\u001b[38;5;241m.\u001b[39m_dynamo\u001b[38;5;241m.\u001b[39mgraph_break()\n\u001b[0;32m---> 76\u001b[0m     ret \u001b[38;5;241m=\u001b[39m \u001b[43mfunc\u001b[49m\u001b[43m(\u001b[49m\u001b[38;5;28;43mself\u001b[39;49m\u001b[43m,\u001b[49m\u001b[43m \u001b[49m\u001b[38;5;241;43m*\u001b[39;49m\u001b[43margs\u001b[49m\u001b[43m,\u001b[49m\u001b[43m \u001b[49m\u001b[38;5;241;43m*\u001b[39;49m\u001b[38;5;241;43m*\u001b[39;49m\u001b[43mkwargs\u001b[49m\u001b[43m)\u001b[49m\n\u001b[1;32m     77\u001b[0m \u001b[38;5;28;01mfinally\u001b[39;00m:\n\u001b[1;32m     78\u001b[0m     torch\u001b[38;5;241m.\u001b[39m_dynamo\u001b[38;5;241m.\u001b[39mgraph_break()\n",
      "File \u001b[0;32m~/anaconda3/envs/dami/lib/python3.12/site-packages/torch/optim/adam.py:166\u001b[0m, in \u001b[0;36mAdam.step\u001b[0;34m(self, closure)\u001b[0m\n\u001b[1;32m    155\u001b[0m     beta1, beta2 \u001b[38;5;241m=\u001b[39m group[\u001b[38;5;124m'\u001b[39m\u001b[38;5;124mbetas\u001b[39m\u001b[38;5;124m'\u001b[39m]\n\u001b[1;32m    157\u001b[0m     has_complex \u001b[38;5;241m=\u001b[39m \u001b[38;5;28mself\u001b[39m\u001b[38;5;241m.\u001b[39m_init_group(\n\u001b[1;32m    158\u001b[0m         group,\n\u001b[1;32m    159\u001b[0m         params_with_grad,\n\u001b[0;32m   (...)\u001b[0m\n\u001b[1;32m    163\u001b[0m         max_exp_avg_sqs,\n\u001b[1;32m    164\u001b[0m         state_steps)\n\u001b[0;32m--> 166\u001b[0m     \u001b[43madam\u001b[49m\u001b[43m(\u001b[49m\n\u001b[1;32m    167\u001b[0m \u001b[43m        \u001b[49m\u001b[43mparams_with_grad\u001b[49m\u001b[43m,\u001b[49m\n\u001b[1;32m    168\u001b[0m \u001b[43m        \u001b[49m\u001b[43mgrads\u001b[49m\u001b[43m,\u001b[49m\n\u001b[1;32m    169\u001b[0m \u001b[43m        \u001b[49m\u001b[43mexp_avgs\u001b[49m\u001b[43m,\u001b[49m\n\u001b[1;32m    170\u001b[0m \u001b[43m        \u001b[49m\u001b[43mexp_avg_sqs\u001b[49m\u001b[43m,\u001b[49m\n\u001b[1;32m    171\u001b[0m \u001b[43m        \u001b[49m\u001b[43mmax_exp_avg_sqs\u001b[49m\u001b[43m,\u001b[49m\n\u001b[1;32m    172\u001b[0m \u001b[43m        \u001b[49m\u001b[43mstate_steps\u001b[49m\u001b[43m,\u001b[49m\n\u001b[1;32m    173\u001b[0m \u001b[43m        \u001b[49m\u001b[43mamsgrad\u001b[49m\u001b[38;5;241;43m=\u001b[39;49m\u001b[43mgroup\u001b[49m\u001b[43m[\u001b[49m\u001b[38;5;124;43m'\u001b[39;49m\u001b[38;5;124;43mamsgrad\u001b[39;49m\u001b[38;5;124;43m'\u001b[39;49m\u001b[43m]\u001b[49m\u001b[43m,\u001b[49m\n\u001b[1;32m    174\u001b[0m \u001b[43m        \u001b[49m\u001b[43mhas_complex\u001b[49m\u001b[38;5;241;43m=\u001b[39;49m\u001b[43mhas_complex\u001b[49m\u001b[43m,\u001b[49m\n\u001b[1;32m    175\u001b[0m \u001b[43m        \u001b[49m\u001b[43mbeta1\u001b[49m\u001b[38;5;241;43m=\u001b[39;49m\u001b[43mbeta1\u001b[49m\u001b[43m,\u001b[49m\n\u001b[1;32m    176\u001b[0m \u001b[43m        \u001b[49m\u001b[43mbeta2\u001b[49m\u001b[38;5;241;43m=\u001b[39;49m\u001b[43mbeta2\u001b[49m\u001b[43m,\u001b[49m\n\u001b[1;32m    177\u001b[0m \u001b[43m        \u001b[49m\u001b[43mlr\u001b[49m\u001b[38;5;241;43m=\u001b[39;49m\u001b[43mgroup\u001b[49m\u001b[43m[\u001b[49m\u001b[38;5;124;43m'\u001b[39;49m\u001b[38;5;124;43mlr\u001b[39;49m\u001b[38;5;124;43m'\u001b[39;49m\u001b[43m]\u001b[49m\u001b[43m,\u001b[49m\n\u001b[1;32m    178\u001b[0m \u001b[43m        \u001b[49m\u001b[43mweight_decay\u001b[49m\u001b[38;5;241;43m=\u001b[39;49m\u001b[43mgroup\u001b[49m\u001b[43m[\u001b[49m\u001b[38;5;124;43m'\u001b[39;49m\u001b[38;5;124;43mweight_decay\u001b[39;49m\u001b[38;5;124;43m'\u001b[39;49m\u001b[43m]\u001b[49m\u001b[43m,\u001b[49m\n\u001b[1;32m    179\u001b[0m \u001b[43m        \u001b[49m\u001b[43meps\u001b[49m\u001b[38;5;241;43m=\u001b[39;49m\u001b[43mgroup\u001b[49m\u001b[43m[\u001b[49m\u001b[38;5;124;43m'\u001b[39;49m\u001b[38;5;124;43meps\u001b[39;49m\u001b[38;5;124;43m'\u001b[39;49m\u001b[43m]\u001b[49m\u001b[43m,\u001b[49m\n\u001b[1;32m    180\u001b[0m \u001b[43m        \u001b[49m\u001b[43mmaximize\u001b[49m\u001b[38;5;241;43m=\u001b[39;49m\u001b[43mgroup\u001b[49m\u001b[43m[\u001b[49m\u001b[38;5;124;43m'\u001b[39;49m\u001b[38;5;124;43mmaximize\u001b[39;49m\u001b[38;5;124;43m'\u001b[39;49m\u001b[43m]\u001b[49m\u001b[43m,\u001b[49m\n\u001b[1;32m    181\u001b[0m \u001b[43m        \u001b[49m\u001b[43mforeach\u001b[49m\u001b[38;5;241;43m=\u001b[39;49m\u001b[43mgroup\u001b[49m\u001b[43m[\u001b[49m\u001b[38;5;124;43m'\u001b[39;49m\u001b[38;5;124;43mforeach\u001b[39;49m\u001b[38;5;124;43m'\u001b[39;49m\u001b[43m]\u001b[49m\u001b[43m,\u001b[49m\n\u001b[1;32m    182\u001b[0m \u001b[43m        \u001b[49m\u001b[43mcapturable\u001b[49m\u001b[38;5;241;43m=\u001b[39;49m\u001b[43mgroup\u001b[49m\u001b[43m[\u001b[49m\u001b[38;5;124;43m'\u001b[39;49m\u001b[38;5;124;43mcapturable\u001b[39;49m\u001b[38;5;124;43m'\u001b[39;49m\u001b[43m]\u001b[49m\u001b[43m,\u001b[49m\n\u001b[1;32m    183\u001b[0m \u001b[43m        \u001b[49m\u001b[43mdifferentiable\u001b[49m\u001b[38;5;241;43m=\u001b[39;49m\u001b[43mgroup\u001b[49m\u001b[43m[\u001b[49m\u001b[38;5;124;43m'\u001b[39;49m\u001b[38;5;124;43mdifferentiable\u001b[39;49m\u001b[38;5;124;43m'\u001b[39;49m\u001b[43m]\u001b[49m\u001b[43m,\u001b[49m\n\u001b[1;32m    184\u001b[0m \u001b[43m        \u001b[49m\u001b[43mfused\u001b[49m\u001b[38;5;241;43m=\u001b[39;49m\u001b[43mgroup\u001b[49m\u001b[43m[\u001b[49m\u001b[38;5;124;43m'\u001b[39;49m\u001b[38;5;124;43mfused\u001b[39;49m\u001b[38;5;124;43m'\u001b[39;49m\u001b[43m]\u001b[49m\u001b[43m,\u001b[49m\n\u001b[1;32m    185\u001b[0m \u001b[43m        \u001b[49m\u001b[43mgrad_scale\u001b[49m\u001b[38;5;241;43m=\u001b[39;49m\u001b[38;5;28;43mgetattr\u001b[39;49m\u001b[43m(\u001b[49m\u001b[38;5;28;43mself\u001b[39;49m\u001b[43m,\u001b[49m\u001b[43m \u001b[49m\u001b[38;5;124;43m\"\u001b[39;49m\u001b[38;5;124;43mgrad_scale\u001b[39;49m\u001b[38;5;124;43m\"\u001b[39;49m\u001b[43m,\u001b[49m\u001b[43m \u001b[49m\u001b[38;5;28;43;01mNone\u001b[39;49;00m\u001b[43m)\u001b[49m\u001b[43m,\u001b[49m\n\u001b[1;32m    186\u001b[0m \u001b[43m        \u001b[49m\u001b[43mfound_inf\u001b[49m\u001b[38;5;241;43m=\u001b[39;49m\u001b[38;5;28;43mgetattr\u001b[39;49m\u001b[43m(\u001b[49m\u001b[38;5;28;43mself\u001b[39;49m\u001b[43m,\u001b[49m\u001b[43m \u001b[49m\u001b[38;5;124;43m\"\u001b[39;49m\u001b[38;5;124;43mfound_inf\u001b[39;49m\u001b[38;5;124;43m\"\u001b[39;49m\u001b[43m,\u001b[49m\u001b[43m \u001b[49m\u001b[38;5;28;43;01mNone\u001b[39;49;00m\u001b[43m)\u001b[49m\u001b[43m,\u001b[49m\n\u001b[1;32m    187\u001b[0m \u001b[43m    \u001b[49m\u001b[43m)\u001b[49m\n\u001b[1;32m    189\u001b[0m \u001b[38;5;28;01mreturn\u001b[39;00m loss\n",
      "File \u001b[0;32m~/anaconda3/envs/dami/lib/python3.12/site-packages/torch/optim/adam.py:316\u001b[0m, in \u001b[0;36madam\u001b[0;34m(params, grads, exp_avgs, exp_avg_sqs, max_exp_avg_sqs, state_steps, foreach, capturable, differentiable, fused, grad_scale, found_inf, has_complex, amsgrad, beta1, beta2, lr, weight_decay, eps, maximize)\u001b[0m\n\u001b[1;32m    313\u001b[0m \u001b[38;5;28;01melse\u001b[39;00m:\n\u001b[1;32m    314\u001b[0m     func \u001b[38;5;241m=\u001b[39m _single_tensor_adam\n\u001b[0;32m--> 316\u001b[0m \u001b[43mfunc\u001b[49m\u001b[43m(\u001b[49m\u001b[43mparams\u001b[49m\u001b[43m,\u001b[49m\n\u001b[1;32m    317\u001b[0m \u001b[43m     \u001b[49m\u001b[43mgrads\u001b[49m\u001b[43m,\u001b[49m\n\u001b[1;32m    318\u001b[0m \u001b[43m     \u001b[49m\u001b[43mexp_avgs\u001b[49m\u001b[43m,\u001b[49m\n\u001b[1;32m    319\u001b[0m \u001b[43m     \u001b[49m\u001b[43mexp_avg_sqs\u001b[49m\u001b[43m,\u001b[49m\n\u001b[1;32m    320\u001b[0m \u001b[43m     \u001b[49m\u001b[43mmax_exp_avg_sqs\u001b[49m\u001b[43m,\u001b[49m\n\u001b[1;32m    321\u001b[0m \u001b[43m     \u001b[49m\u001b[43mstate_steps\u001b[49m\u001b[43m,\u001b[49m\n\u001b[1;32m    322\u001b[0m \u001b[43m     \u001b[49m\u001b[43mamsgrad\u001b[49m\u001b[38;5;241;43m=\u001b[39;49m\u001b[43mamsgrad\u001b[49m\u001b[43m,\u001b[49m\n\u001b[1;32m    323\u001b[0m \u001b[43m     \u001b[49m\u001b[43mhas_complex\u001b[49m\u001b[38;5;241;43m=\u001b[39;49m\u001b[43mhas_complex\u001b[49m\u001b[43m,\u001b[49m\n\u001b[1;32m    324\u001b[0m \u001b[43m     \u001b[49m\u001b[43mbeta1\u001b[49m\u001b[38;5;241;43m=\u001b[39;49m\u001b[43mbeta1\u001b[49m\u001b[43m,\u001b[49m\n\u001b[1;32m    325\u001b[0m \u001b[43m     \u001b[49m\u001b[43mbeta2\u001b[49m\u001b[38;5;241;43m=\u001b[39;49m\u001b[43mbeta2\u001b[49m\u001b[43m,\u001b[49m\n\u001b[1;32m    326\u001b[0m \u001b[43m     \u001b[49m\u001b[43mlr\u001b[49m\u001b[38;5;241;43m=\u001b[39;49m\u001b[43mlr\u001b[49m\u001b[43m,\u001b[49m\n\u001b[1;32m    327\u001b[0m \u001b[43m     \u001b[49m\u001b[43mweight_decay\u001b[49m\u001b[38;5;241;43m=\u001b[39;49m\u001b[43mweight_decay\u001b[49m\u001b[43m,\u001b[49m\n\u001b[1;32m    328\u001b[0m \u001b[43m     \u001b[49m\u001b[43meps\u001b[49m\u001b[38;5;241;43m=\u001b[39;49m\u001b[43meps\u001b[49m\u001b[43m,\u001b[49m\n\u001b[1;32m    329\u001b[0m \u001b[43m     \u001b[49m\u001b[43mmaximize\u001b[49m\u001b[38;5;241;43m=\u001b[39;49m\u001b[43mmaximize\u001b[49m\u001b[43m,\u001b[49m\n\u001b[1;32m    330\u001b[0m \u001b[43m     \u001b[49m\u001b[43mcapturable\u001b[49m\u001b[38;5;241;43m=\u001b[39;49m\u001b[43mcapturable\u001b[49m\u001b[43m,\u001b[49m\n\u001b[1;32m    331\u001b[0m \u001b[43m     \u001b[49m\u001b[43mdifferentiable\u001b[49m\u001b[38;5;241;43m=\u001b[39;49m\u001b[43mdifferentiable\u001b[49m\u001b[43m,\u001b[49m\n\u001b[1;32m    332\u001b[0m \u001b[43m     \u001b[49m\u001b[43mgrad_scale\u001b[49m\u001b[38;5;241;43m=\u001b[39;49m\u001b[43mgrad_scale\u001b[49m\u001b[43m,\u001b[49m\n\u001b[1;32m    333\u001b[0m \u001b[43m     \u001b[49m\u001b[43mfound_inf\u001b[49m\u001b[38;5;241;43m=\u001b[39;49m\u001b[43mfound_inf\u001b[49m\u001b[43m)\u001b[49m\n",
      "File \u001b[0;32m~/anaconda3/envs/dami/lib/python3.12/site-packages/torch/optim/adam.py:439\u001b[0m, in \u001b[0;36m_single_tensor_adam\u001b[0;34m(params, grads, exp_avgs, exp_avg_sqs, max_exp_avg_sqs, state_steps, grad_scale, found_inf, amsgrad, has_complex, beta1, beta2, lr, weight_decay, eps, maximize, capturable, differentiable)\u001b[0m\n\u001b[1;32m    437\u001b[0m         denom \u001b[38;5;241m=\u001b[39m (max_exp_avg_sqs[i]\u001b[38;5;241m.\u001b[39msqrt() \u001b[38;5;241m/\u001b[39m bias_correction2_sqrt)\u001b[38;5;241m.\u001b[39madd_(eps)\n\u001b[1;32m    438\u001b[0m     \u001b[38;5;28;01melse\u001b[39;00m:\n\u001b[0;32m--> 439\u001b[0m         denom \u001b[38;5;241m=\u001b[39m (\u001b[43mexp_avg_sq\u001b[49m\u001b[38;5;241;43m.\u001b[39;49m\u001b[43msqrt\u001b[49m\u001b[43m(\u001b[49m\u001b[43m)\u001b[49m\u001b[43m \u001b[49m\u001b[38;5;241;43m/\u001b[39;49m\u001b[43m \u001b[49m\u001b[43mbias_correction2_sqrt\u001b[49m)\u001b[38;5;241m.\u001b[39madd_(eps)\n\u001b[1;32m    441\u001b[0m     param\u001b[38;5;241m.\u001b[39maddcdiv_(exp_avg, denom, value\u001b[38;5;241m=\u001b[39m\u001b[38;5;241m-\u001b[39mstep_size)\n\u001b[1;32m    443\u001b[0m \u001b[38;5;66;03m# Lastly, switch back to complex view\u001b[39;00m\n",
      "\u001b[0;31mRuntimeError\u001b[0m: MPS backend out of memory (MPS allocated: 136.00 MB, other allocations: 8.94 GB, max allowed: 9.07 GB). Tried to allocate 4.00 MB on private pool. Use PYTORCH_MPS_HIGH_WATERMARK_RATIO=0.0 to disable upper limit for memory allocations (may cause system failure)."
     ]
    }
   ],
   "source": [
    "import numpy as np\n",
    "import torch\n",
    "import torch.nn as nn\n",
    "import torch.optim as optim\n",
    "from rdkit import Chem\n",
    "from rdkit import RDLogger\n",
    "\n",
    "# Suppress RDKit warnings\n",
    "RDLogger.DisableLog('rdApp.*')\n",
    "# Reward function to incentivize 2 to 3 chlorine atoms\n",
    "def reward_function(smiles):\n",
    "    try:\n",
    "        mol = Chem.MolFromSmiles(smiles)\n",
    "        if mol is None:\n",
    "            return -1  # Penalize invalid SMILES\n",
    "        num_cl = sum(1 for atom in mol.GetAtoms() if atom.GetSymbol() == 'Cl')\n",
    "        if 2 <= num_cl <= 3:\n",
    "            return 1  # Reward if 2 to 3 Cl atoms\n",
    "        else:\n",
    "            return -1  # Penalize otherwise\n",
    "    except:\n",
    "        return -1  # Penalize if RDKit fails to parse\n",
    "\n",
    "# Initialize your LSTM model, optimizer, and other hyperparameters\n",
    "model = finetunemodel.to(device)\n",
    "optimizer = optim.Adam(model.parameters(), lr=0.001)\n",
    "\n",
    "# Training loop\n",
    "num_episodes = 1000\n",
    "batch_size = 5\n",
    "starting_str = \"C\"\n",
    "\n",
    "for episode in tqdm(range(num_episodes)):\n",
    "    total_loss = 0\n",
    "    for _ in tqdm(range(batch_size)):\n",
    "        generated_smiles, log_probs = sample(model, starting_str, scale_factor=1.0)\n",
    "        reward = reward_function(generated_smiles)\n",
    "        \n",
    "        # Compute the policy gradient\n",
    "        loss = -sum(log_probs) * reward\n",
    "        total_loss += loss\n",
    "    \n",
    "    # Normalize total_loss by batch_size\n",
    "    total_loss /= batch_size\n",
    "\n",
    "    # Update the model\n",
    "    optimizer.zero_grad()\n",
    "    total_loss.backward()\n",
    "    optimizer.step()\n",
    "\n",
    "    if episode % 2 == 0:\n",
    "        print(f\"Episode {episode}, Average Reward: {total_loss.item() / batch_size}\")\n"
   ]
  },
  {
   "cell_type": "code",
   "execution_count": 17,
   "id": "ab5be1d1-889e-4284-b5dd-0c3f7dd70df6",
   "metadata": {},
   "outputs": [],
   "source": [
    "import numpy as np\n",
    "from rdkit import Chem\n",
    "\n",
    "# Function to count the number of chlorine atoms in a SMILES string\n",
    "def count_chlorine_atoms(smiles):\n",
    "    try:\n",
    "        mol = Chem.MolFromSmiles(smiles)\n",
    "        if mol is None:\n",
    "            return 0  # Invalid SMILES\n",
    "        return sum(1 for atom in mol.GetAtoms() if atom.GetSymbol() == 'Cl')\n",
    "    except:\n",
    "        return 0  # Invalid SMILES\n",
    "\n",
    "# Function to evaluate model efficiency\n",
    "def evaluate_model(model, starting_str, num_samples=100, scale_factor=0.5):\n",
    "    valid_smiles_count = 0\n",
    "    desired_smiles_count = 0\n",
    "\n",
    "    for _ in tqdm(range(num_samples)):\n",
    "        generated_smiles, _ = sample(model, starting_str, scale_factor=scale_factor)\n",
    "        if Chem.MolFromSmiles(generated_smiles) is not None:\n",
    "            valid_smiles_count += 1\n",
    "            if 2 <= count_chlorine_atoms(generated_smiles) <= 3:\n",
    "                desired_smiles_count += 1\n",
    "\n",
    "    valid_smiles_ratio = valid_smiles_count / num_samples\n",
    "    desired_smiles_ratio = desired_smiles_count / num_samples\n",
    "\n",
    "    print(f\"Total SMILES Generated: {num_samples}\")\n",
    "    print(f\"Valid SMILES Ratio: {valid_smiles_ratio:.2f}\")\n",
    "    print(f\"Desired SMILES Ratio (2-3 Cl atoms): {desired_smiles_ratio:.2f}\")\n",
    "\n",
    "    return valid_smiles_ratio, desired_smiles_ratio\n",
    "\n"
   ]
  },
  {
   "cell_type": "code",
   "execution_count": 18,
   "id": "fad8e80d-5760-4267-8f09-1ea5ada224b6",
   "metadata": {},
   "outputs": [
    {
     "name": "stderr",
     "output_type": "stream",
     "text": [
      "  0%|                                                  | 0/1000 [00:00<?, ?it/s][19:47:27] SMILES Parse Error: extra close parentheses while parsing: C(=N)/[C@@H](O)C(=O)N1Cc2ccc(Cl)cc2)C(=O)c1ccccco1\n",
      "CCOC(=O)C1Cc2ccccnc2nsc(C)(c2cccc(C)cc1)ncc(=O)nnc\n",
      "[19:47:27] SMILES Parse Error: Failed parsing SMILES 'C(=N)/[C@@H](O)C(=O)N1Cc2ccc(Cl)cc2)C(=O)c1ccccco1\n",
      "CCOC(=O)C1Cc2ccccnc2nsc(C)(c2cccc(C)cc1)ncc(=O)nnc' for input: 'C(=N)/[C@@H](O)C(=O)N1Cc2ccc(Cl)cc2)C(=O)c1ccccco1\n",
      "CCOC(=O)C1Cc2ccccnc2nsc(C)(c2cccc(C)cc1)ncc(=O)nnc'\n",
      "  0%|                                          | 1/1000 [00:00<14:48,  1.12it/s][19:47:28] SMILES Parse Error: extra close parentheses while parsing: C)c1ccc2cc(Nc3ccc(F)ccc(Br)ncc3ccncc1)[nH]nc1nccnc2)ncc1-c]ccc(F)cc1)(F)(F)F)n1c(Nc(cccccHnc2ccccc2c1\n",
      "[19:47:28] SMILES Parse Error: Failed parsing SMILES 'C)c1ccc2cc(Nc3ccc(F)ccc(Br)ncc3ccncc1)[nH]nc1nccnc2)ncc1-c]ccc(F)cc1)(F)(F)F)n1c(Nc(cccccHnc2ccccc2c1' for input: 'C)c1ccc2cc(Nc3ccc(F)ccc(Br)ncc3ccncc1)[nH]nc1nccnc2)ncc1-c]ccc(F)cc1)(F)(F)F)n1c(Nc(cccccHnc2ccccc2c1'\n",
      "  0%|                                          | 2/1000 [00:01<10:53,  1.53it/s][19:47:28] SMILES Parse Error: unclosed ring for input: 'C(noc(C)c3ccc(Br)cc=O)cc3(Cl)c1=NN(C(=O)[C@H](c1ncccc1)c1)n1cccccc(F)(c2)ccnc1\n",
      "CC(=O)C1)c1ccccc(Br)c1'\n",
      "  0%|▏                                         | 3/1000 [00:01<10:34,  1.57it/s][19:47:29] SMILES Parse Error: extra close parentheses while parsing: C)cc13)C(=O)c1cccc(C)(c4cccncc2)S1\n",
      "CC(=O)C1=NN[C@H]2[C@@]1(CCCN1CCOCC1)c1ccccccn1)Cn1ccc(C)ncc1)c1ncc\n",
      "[19:47:29] SMILES Parse Error: Failed parsing SMILES 'C)cc13)C(=O)c1cccc(C)(c4cccncc2)S1\n",
      "CC(=O)C1=NN[C@H]2[C@@]1(CCCN1CCOCC1)c1ccccccn1)Cn1ccc(C)ncc1)c1ncc' for input: 'C)cc13)C(=O)c1cccc(C)(c4cccncc2)S1\n",
      "CC(=O)C1=NN[C@H]2[C@@]1(CCCN1CCOCC1)c1ccccccn1)Cn1ccc(C)ncc1)c1ncc'\n",
      "  0%|▏                                         | 4/1000 [00:02<12:26,  1.33it/s][19:47:30] SMILES Parse Error: extra close parentheses while parsing: C(=O)/C(=OCc3cc(F)CC=[C@@H]32)c1-c1ccccncc1)nc1c(c1)=cHncc1O)c1cccccccc)n1)n1ccc(ncc2cccccc2O)no1)c1c\n",
      "[19:47:30] SMILES Parse Error: Failed parsing SMILES 'C(=O)/C(=OCc3cc(F)CC=[C@@H]32)c1-c1ccccncc1)nc1c(c1)=cHncc1O)c1cccccccc)n1)n1ccc(ncc2cccccc2O)no1)c1c' for input: 'C(=O)/C(=OCc3cc(F)CC=[C@@H]32)c1-c1ccccncc1)nc1c(c1)=cHncc1O)c1cccccccc)n1)n1ccc(ncc2cccccc2O)no1)c1c'\n",
      "  0%|▏                                         | 5/1000 [00:03<11:54,  1.39it/s][19:47:31] SMILES Parse Error: syntax error while parsing: C(=O)Cc1c[nH]nc2c1Cc3c4cccc(3)==O)nc2n2ccccnc2c1ccc(F)cc(O)nc1)C(=O)C1COc\n",
      "CCc1ccc(NS(=O)C(=O)N(C)C)C(\n",
      "[19:47:31] SMILES Parse Error: Failed parsing SMILES 'C(=O)Cc1c[nH]nc2c1Cc3c4cccc(3)==O)nc2n2ccccnc2c1ccc(F)cc(O)nc1)C(=O)C1COc\n",
      "CCc1ccc(NS(=O)C(=O)N(C)C)C(' for input: 'C(=O)Cc1c[nH]nc2c1Cc3c4cccc(3)==O)nc2n2ccccnc2c1ccc(F)cc(O)nc1)C(=O)C1COc\n",
      "CCc1ccc(NS(=O)C(=O)N(C)C)C('\n",
      "  1%|▎                                         | 6/1000 [00:04<12:27,  1.33it/s][19:47:31] SMILES Parse Error: extra close parentheses while parsing: C(=O)O)S1=NN(C(=O)C(C)(C)C)C(=O)C(=O)C(=O)C1C1Cc1cccnc(O)nc1)C(=O)c1cccccc1)c1ncccncc1)c1cccc(F)ccc1)\n",
      "[19:47:31] SMILES Parse Error: Failed parsing SMILES 'C(=O)O)S1=NN(C(=O)C(C)(C)C)C(=O)C(=O)C(=O)C1C1Cc1cccnc(O)nc1)C(=O)c1cccccc1)c1ncccncc1)c1cccc(F)ccc1)' for input: 'C(=O)O)S1=NN(C(=O)C(C)(C)C)C(=O)C(=O)C(=O)C1C1Cc1cccnc(O)nc1)C(=O)c1cccccc1)c1ncccncc1)c1cccc(F)ccc1)'\n",
      "  1%|▎                                         | 7/1000 [00:05<12:30,  1.32it/s][19:47:33] Can't kekulize mol.  Unkekulized atoms: 12\n",
      "  1%|▎                                         | 8/1000 [00:06<14:43,  1.12it/s][19:47:33] SMILES Parse Error: extra close parentheses while parsing: CCN)C(=O)c1ccccc1Cl\n",
      "CC(=O)C1=O)C(=O)C(C)(\n",
      "CC(C)=C(/=C/C(=O)NC1=NN(C(=O)C(C)()C)c1cccccc1CCN=CCF)n1ncc\n",
      "[19:47:33] SMILES Parse Error: Failed parsing SMILES 'CCN)C(=O)c1ccccc1Cl\n",
      "CC(=O)C1=O)C(=O)C(C)(\n",
      "CC(C)=C(/=C/C(=O)NC1=NN(C(=O)C(C)()C)c1cccccc1CCN=CCF)n1ncc' for input: 'CCN)C(=O)c1ccccc1Cl\n",
      "CC(=O)C1=O)C(=O)C(C)(\n",
      "CC(C)=C(/=C/C(=O)NC1=NN(C(=O)C(C)()C)c1cccccc1CCN=CCF)n1ncc'\n",
      "  1%|▍                                         | 9/1000 [00:07<14:32,  1.14it/s][19:47:34] SMILES Parse Error: extra close parentheses while parsing: C1(c2cccsc2c1CC(SO)(=O)C1)c1ccccc(O)(c1)Oc1ccccc(O)nc1)(=O)C(=O)1Cc1cccc(O)n1C\n",
      "CC1=C(C(=O)C\n",
      "CC(=O)C1=\n",
      "[19:47:34] SMILES Parse Error: Failed parsing SMILES 'C1(c2cccsc2c1CC(SO)(=O)C1)c1ccccc(O)(c1)Oc1ccccc(O)nc1)(=O)C(=O)1Cc1cccc(O)n1C\n",
      "CC1=C(C(=O)C\n",
      "CC(=O)C1=' for input: 'C1(c2cccsc2c1CC(SO)(=O)C1)c1ccccc(O)(c1)Oc1ccccc(O)nc1)(=O)C(=O)1Cc1cccc(O)n1C\n",
      "CC1=C(C(=O)C\n",
      "CC(=O)C1='\n",
      "  1%|▍                                        | 10/1000 [00:07<12:50,  1.29it/s][19:47:35] SMILES Parse Error: syntax error while parsing: CS(=O)(=O)N1C(=O)C(1=N)C(c2ccc(O)cc(Br)cc1)[nH]c1cScc(O)(c2cccccc)n2)n1)c1cccc(Br()ccc21\n",
      "CC(=O)C1=ON(\n",
      "[19:47:35] SMILES Parse Error: Failed parsing SMILES 'CS(=O)(=O)N1C(=O)C(1=N)C(c2ccc(O)cc(Br)cc1)[nH]c1cScc(O)(c2cccccc)n2)n1)c1cccc(Br()ccc21\n",
      "CC(=O)C1=ON(' for input: 'CS(=O)(=O)N1C(=O)C(1=N)C(c2ccc(O)cc(Br)cc1)[nH]c1cScc(O)(c2cccccc)n2)n1)c1cccc(Br()ccc21\n",
      "CC(=O)C1=ON('\n",
      "  1%|▍                                        | 11/1000 [00:08<11:33,  1.43it/s][19:47:35] SMILES Parse Error: syntax error while parsing: C2=NC(=O)/n3ccc(C(O)=O)=N+3(SCs4)cc3)=C[C@@]3(c3cccccn3)S2)=N1\n",
      "CCOC(=O)C1sccc2c(cnccccc2)n1)C1C(=O)C1\n",
      "[19:47:35] SMILES Parse Error: Failed parsing SMILES 'C2=NC(=O)/n3ccc(C(O)=O)=N+3(SCs4)cc3)=C[C@@]3(c3cccccn3)S2)=N1\n",
      "CCOC(=O)C1sccc2c(cnccccc2)n1)C1C(=O)C1' for input: 'C2=NC(=O)/n3ccc(C(O)=O)=N+3(SCs4)cc3)=C[C@@]3(c3cccccn3)S2)=N1\n",
      "CCOC(=O)C1sccc2c(cnccccc2)n1)C1C(=O)C1'\n",
      "  1%|▍                                        | 12/1000 [00:09<11:47,  1.40it/s][19:47:36] SMILES Parse Error: extra close parentheses while parsing: C(C)C2)c1-c1=cccnnc1)nCc1ccc(C)ccc1OC)n1nccc(N(C)C)=c1cccc(Br)ccs1)c1cccccc(S(B)(=O)(=O)=ncc[nH])1)c1\n",
      "[19:47:36] SMILES Parse Error: Failed parsing SMILES 'C(C)C2)c1-c1=cccnnc1)nCc1ccc(C)ccc1OC)n1nccc(N(C)C)=c1cccc(Br)ccs1)c1cccccc(S(B)(=O)(=O)=ncc[nH])1)c1' for input: 'C(C)C2)c1-c1=cccnnc1)nCc1ccc(C)ccc1OC)n1nccc(N(C)C)=c1cccc(Br)ccs1)c1cccccc(S(B)(=O)(=O)=ncc[nH])1)c1'\n",
      "  1%|▌                                        | 14/1000 [00:11<14:24,  1.14it/s][19:47:39] SMILES Parse Error: extra close parentheses while parsing: C)=[N+](=O)[O-])n1cc(Nc2cncc(-c3ccc(F)cc3)S2)S(=O)(=O)cc2c1CC(C)(C)c1ccccc1nnHncS2)c1cccccc1n1Cc1cccc\n",
      "[19:47:39] SMILES Parse Error: Failed parsing SMILES 'C)=[N+](=O)[O-])n1cc(Nc2cncc(-c3ccc(F)cc3)S2)S(=O)(=O)cc2c1CC(C)(C)c1ccccc1nnHncS2)c1cccccc1n1Cc1cccc' for input: 'C)=[N+](=O)[O-])n1cc(Nc2cncc(-c3ccc(F)cc3)S2)S(=O)(=O)cc2c1CC(C)(C)c1ccccc1nnHncS2)c1cccccc1n1Cc1cccc'\n",
      "  2%|▋                                        | 16/1000 [00:13<16:57,  1.03s/it][19:47:41] SMILES Parse Error: extra open parentheses for input: 'C1=NN(C(=O)C(=O)c1ccccc(N)nc3c1ncccc3c(O)ncnc(n2)c(nccccc1)N2\n",
      "CC(=O)OC1)c1cccsc1)n1ncc(Br)ccc1nccc(N('\n",
      "  2%|▋                                        | 17/1000 [00:14<16:10,  1.01it/s][19:47:41] SMILES Parse Error: extra close parentheses while parsing: C(=C/c3ccc(Br)cc(Br)c3)C2=O)=NS(=O)(=O)n1Cc1ccc(Br)ccc1)n1cccccc2c1ccc(Br)ncN(=O)(c2ccccccc1)n[nH]1)c\n",
      "[19:47:41] SMILES Parse Error: Failed parsing SMILES 'C(=C/c3ccc(Br)cc(Br)c3)C2=O)=NS(=O)(=O)n1Cc1ccc(Br)ccc1)n1cccccc2c1ccc(Br)ncN(=O)(c2ccccccc1)n[nH]1)c' for input: 'C(=C/c3ccc(Br)cc(Br)c3)C2=O)=NS(=O)(=O)n1Cc1ccc(Br)ccc1)n1cccccc2c1ccc(Br)ncN(=O)(c2ccccccc1)n[nH]1)c'\n",
      "  2%|▋                                        | 18/1000 [00:15<15:27,  1.06it/s][19:47:42] SMILES Parse Error: extra close parentheses while parsing: C3)c3c1)C1(C[O)CC1)c1nc2cccno1)nsc2c1ccncc(O)c(C)(F)F)cc1c1cccccc(F)c1)[nH]1c)c1ccccc1)C(=O)c1ccccc1)\n",
      "[19:47:42] SMILES Parse Error: Failed parsing SMILES 'C3)c3c1)C1(C[O)CC1)c1nc2cccno1)nsc2c1ccncc(O)c(C)(F)F)cc1c1cccccc(F)c1)[nH]1c)c1ccccc1)C(=O)c1ccccc1)' for input: 'C3)c3c1)C1(C[O)CC1)c1nc2cccno1)nsc2c1ccncc(O)c(C)(F)F)cc1c1cccccc(F)c1)[nH]1c)c1ccccc1)C(=O)c1ccccc1)'\n",
      "  2%|▊                                        | 19/1000 [00:16<16:13,  1.01it/s][19:47:44] SMILES Parse Error: unclosed ring for input: 'C[C@H](N)C(=O)N1C\n",
      "CCc1cccc2n1cccc(-)n1)c1ncccnc2c(=Snic4cccs4c)sc1)n1cccnc(C)nc1)c1ccc(F)ccc1)C[N-]1C'\n",
      "  2%|▊                                        | 20/1000 [00:17<16:23,  1.00s/it][19:47:45] SMILES Parse Error: extra close parentheses while parsing: C2(CC1CCCCOC2)c1cccccc1)c1ncccnc(c(n2)c1ncncc1)n1ccc(C)cccc1Cc1cccnc2)ncc(n3c(c)cccc1)cccc1)cc1cccccc\n",
      "[19:47:45] SMILES Parse Error: Failed parsing SMILES 'C2(CC1CCCCOC2)c1cccccc1)c1ncccnc(c(n2)c1ncncc1)n1ccc(C)cccc1Cc1cccnc2)ncc(n3c(c)cccc1)cccc1)cc1cccccc' for input: 'C2(CC1CCCCOC2)c1cccccc1)c1ncccnc(c(n2)c1ncncc1)n1ccc(C)cccc1Cc1cccnc2)ncc(n3c(c)cccc1)cccc1)cc1cccccc'\n",
      "  2%|▊                                        | 21/1000 [00:18<16:57,  1.04s/it][19:47:46] SMILES Parse Error: extra close parentheses while parsing: Cl)cc2C(=O)n1ccccc(F)c1)[nH]n1cccc(C)(=O)n1cccn(c1)S\n",
      "CCc3ccc(F)nc3)C1c1ccccn(O)n1\n",
      "CCC(F)(F)C1ISC(C)(=\n",
      "[19:47:46] SMILES Parse Error: Failed parsing SMILES 'Cl)cc2C(=O)n1ccccc(F)c1)[nH]n1cccc(C)(=O)n1cccn(c1)S\n",
      "CCc3ccc(F)nc3)C1c1ccccn(O)n1\n",
      "CCC(F)(F)C1ISC(C)(=' for input: 'Cl)cc2C(=O)n1ccccc(F)c1)[nH]n1cccc(C)(=O)n1cccn(c1)S\n",
      "CCc3ccc(F)nc3)C1c1ccccn(O)n1\n",
      "CCC(F)(F)C1ISC(C)(='\n",
      "  2%|▉                                        | 22/1000 [00:19<17:33,  1.08s/it][19:47:47] SMILES Parse Error: syntax error while parsing: CS[C@H]1c1ccccc(O(=O)n1)[c1ccccc(F)cc1)c1ncc(Cnoc1cccc(O)c1ccnncccc()(C)n1)n1cccccc2c1cccc(/c2ccnn(F)\n",
      "[19:47:47] SMILES Parse Error: Failed parsing SMILES 'CS[C@H]1c1ccccc(O(=O)n1)[c1ccccc(F)cc1)c1ncc(Cnoc1cccc(O)c1ccnncccc()(C)n1)n1cccccc2c1cccc(/c2ccnn(F)' for input: 'CS[C@H]1c1ccccc(O(=O)n1)[c1ccccc(F)cc1)c1ncc(Cnoc1cccc(O)c1ccnncccc()(C)n1)n1cccccc2c1cccc(/c2ccnn(F)'\n",
      "  2%|▉                                        | 23/1000 [00:20<17:41,  1.09s/it][19:47:48] SMILES Parse Error: extra close parentheses while parsing: C3)ccO2)S1\n",
      "CC(=OCCO)C1\n",
      "CCC(c1ccccc1)C(=OC)C(=O)c1ccccnc1C1(C)=C(c1cccccc1)nc1)C1=O\n",
      "CCC(c1cccc(C)[nH]1\n",
      "[19:47:48] SMILES Parse Error: Failed parsing SMILES 'C3)ccO2)S1\n",
      "CC(=OCCO)C1\n",
      "CCC(c1ccccc1)C(=OC)C(=O)c1ccccnc1C1(C)=C(c1cccccc1)nc1)C1=O\n",
      "CCC(c1cccc(C)[nH]1' for input: 'C3)ccO2)S1\n",
      "CC(=OCCO)C1\n",
      "CCC(c1ccccc1)C(=OC)C(=O)c1ccccnc1C1(C)=C(c1cccccc1)nc1)C1=O\n",
      "CCC(c1cccc(C)[nH]1'\n",
      "  2%|▉                                        | 24/1000 [00:21<17:15,  1.06s/it][19:47:49] SMILES Parse Error: extra close parentheses while parsing: Cc3cccc(C)c3C(=O)OCO4)cc2)n3ccncn3)nnc2O)n1)c1cccc[nH]1)c1ccccc(-nicccnc2)S1\n",
      "CCC(=O)C1=C(=O)C(=O)C1=C\n",
      "[19:47:49] SMILES Parse Error: Failed parsing SMILES 'Cc3cccc(C)c3C(=O)OCO4)cc2)n3ccncn3)nnc2O)n1)c1cccc[nH]1)c1ccccc(-nicccnc2)S1\n",
      "CCC(=O)C1=C(=O)C(=O)C1=C' for input: 'Cc3cccc(C)c3C(=O)OCO4)cc2)n3ccncn3)nnc2O)n1)c1cccc[nH]1)c1ccccc(-nicccnc2)S1\n",
      "CCC(=O)C1=C(=O)C(=O)C1=C'\n",
      "  2%|█                                        | 25/1000 [00:22<15:01,  1.08it/s][19:47:49] SMILES Parse Error: extra close parentheses while parsing: C(c2ccc(F)cnc2)n2)S1\n",
      "CCOC(=O)C1oC(=O)nnc1ncncc1)c(ccccc(O)n1)C(=O)c1cccccc1c1CCC(=O)C(C)\n",
      "CC(=O)C[C@H]\n",
      "[19:47:49] SMILES Parse Error: Failed parsing SMILES 'C(c2ccc(F)cnc2)n2)S1\n",
      "CCOC(=O)C1oC(=O)nnc1ncncc1)c(ccccc(O)n1)C(=O)c1cccccc1c1CCC(=O)C(C)\n",
      "CC(=O)C[C@H]' for input: 'C(c2ccc(F)cnc2)n2)S1\n",
      "CCOC(=O)C1oC(=O)nnc1ncncc1)c(ccccc(O)n1)C(=O)c1cccccc1c1CCC(=O)C(C)\n",
      "CC(=O)C[C@H]'\n",
      "  3%|█                                        | 26/1000 [00:22<12:50,  1.26it/s][19:47:50] SMILES Parse Error: syntax error while parsing: C@H]1[C@H](F)F1Cc1nccnc(N(C)(=O)=O)c1cccncn1)c1cccccc(FH)c1)N=Cc1cccoc1)S1(=O)C(=O)C[C@@H]21\n",
      "CC(CC)(O\n",
      "[19:47:50] SMILES Parse Error: Failed parsing SMILES 'C@H]1[C@H](F)F1Cc1nccnc(N(C)(=O)=O)c1cccncn1)c1cccccc(FH)c1)N=Cc1cccoc1)S1(=O)C(=O)C[C@@H]21\n",
      "CC(CC)(O' for input: 'C@H]1[C@H](F)F1Cc1nccnc(N(C)(=O)=O)c1cccncn1)c1cccccc(FH)c1)N=Cc1cccoc1)S1(=O)C(=O)C[C@@H]21\n",
      "CC(CC)(O'\n",
      "  3%|█                                        | 27/1000 [00:23<13:46,  1.18it/s][19:47:51] SMILES Parse Error: extra close parentheses while parsing: C)C(=O)N[C@@H]1c1cccc(O)nc1)c1cccccs1)n1c(ccccncnc)cc1)c1ncccccc2cccc(c(ncc1)nc1cccccc1)ncc(()c(cc1)n\n",
      "[19:47:51] SMILES Parse Error: Failed parsing SMILES 'C)C(=O)N[C@@H]1c1cccc(O)nc1)c1cccccs1)n1c(ccccncnc)cc1)c1ncccccc2cccc(c(ncc1)nc1cccccc1)ncc(()c(cc1)n' for input: 'C)C(=O)N[C@@H]1c1cccc(O)nc1)c1cccccs1)n1c(ccccncnc)cc1)c1ncccccc2cccc(c(ncc1)nc1cccccc1)ncc(()c(cc1)n'\n",
      "  3%|█▏                                       | 29/1000 [00:24<11:25,  1.42it/s][19:47:52] SMILES Parse Error: extra close parentheses while parsing: CN1CCc2c(ccc(c(F)c1)N(C)C(=O)[nH](c1)c1nccccc1ncccc2c1cccccc(F)c1)c1cccccc1)nnc1)C(=O)c1ccccc(F)cc1)n\n",
      "[19:47:52] SMILES Parse Error: Failed parsing SMILES 'CN1CCc2c(ccc(c(F)c1)N(C)C(=O)[nH](c1)c1nccccc1ncccc2c1cccccc(F)c1)c1cccccc1)nnc1)C(=O)c1ccccc(F)cc1)n' for input: 'CN1CCc2c(ccc(c(F)c1)N(C)C(=O)[nH](c1)c1nccccc1ncccc2c1cccccc(F)c1)c1cccccc1)nnc1)C(=O)c1ccccc(F)cc1)n'\n",
      "  3%|█▏                                       | 30/1000 [00:25<11:47,  1.37it/s][19:47:53] SMILES Parse Error: extra close parentheses while parsing: CO1)c1cccnc(N(C)c3ccc(C(=O)Os3Sr)cccc1\n",
      "CC(=O)C1=NN([C@@](c1cccoc(F)(c1)nnccc1)c1ncccc()nc1)n1ccccc(F)\n",
      "[19:47:53] SMILES Parse Error: Failed parsing SMILES 'CO1)c1cccnc(N(C)c3ccc(C(=O)Os3Sr)cccc1\n",
      "CC(=O)C1=NN([C@@](c1cccoc(F)(c1)nnccc1)c1ncccc()nc1)n1ccccc(F)' for input: 'CO1)c1cccnc(N(C)c3ccc(C(=O)Os3Sr)cccc1\n",
      "CC(=O)C1=NN([C@@](c1cccoc(F)(c1)nnccc1)c1ncccc()nc1)n1ccccc(F)'\n",
      "  3%|█▎                                       | 31/1000 [00:26<13:29,  1.20it/s][19:47:54] SMILES Parse Error: extra close parentheses while parsing: C(c1cccc(C(I)=O)c(O)n1Cc1ccccc(F)(c1)ncccn1)n1cccc(Br)cc1)[nH]1c1cccc(O)c1F)C[C@@]1(c2cccccn(c)c1)n1c\n",
      "[19:47:54] SMILES Parse Error: Failed parsing SMILES 'C(c1cccc(C(I)=O)c(O)n1Cc1ccccc(F)(c1)ncccn1)n1cccc(Br)cc1)[nH]1c1cccc(O)c1F)C[C@@]1(c2cccccn(c)c1)n1c' for input: 'C(c1cccc(C(I)=O)c(O)n1Cc1ccccc(F)(c1)ncccn1)n1cccc(Br)cc1)[nH]1c1cccc(O)c1F)C[C@@]1(c2cccccn(c)c1)n1c'\n",
      "  3%|█▎                                       | 32/1000 [00:27<13:48,  1.17it/s][19:47:55] SMILES Parse Error: extra close parentheses while parsing: CC(=Cl)c1ccccc1CCOCc1ccc(C(F)(F)F)cccc1C)n1ccccnc1)c1cccccc(n3cOc1ccc(O)=c3ccsc2c(=O)=nH]1)c1cccccc(F\n",
      "[19:47:55] SMILES Parse Error: Failed parsing SMILES 'CC(=Cl)c1ccccc1CCOCc1ccc(C(F)(F)F)cccc1C)n1ccccnc1)c1cccccc(n3cOc1ccc(O)=c3ccsc2c(=O)=nH]1)c1cccccc(F' for input: 'CC(=Cl)c1ccccc1CCOCc1ccc(C(F)(F)F)cccc1C)n1ccccnc1)c1cccccc(n3cOc1ccc(O)=c3ccsc2c(=O)=nH]1)c1cccccc(F'\n",
      "  3%|█▎                                       | 33/1000 [00:28<13:24,  1.20it/s][19:47:56] SMILES Parse Error: syntax error while parsing: C@H]2cncc2C(=O)N1Cc2ccc(C)cc1)n1ccccc()c1)N(C2CC1=O)C(c1cccc(C)c(O)n1)C1(=O)CC(OC)C[C@H]1c1cccc(O)nc1\n",
      "[19:47:56] SMILES Parse Error: Failed parsing SMILES 'C@H]2cncc2C(=O)N1Cc2ccc(C)cc1)n1ccccc()c1)N(C2CC1=O)C(c1cccc(C)c(O)n1)C1(=O)CC(OC)C[C@H]1c1cccc(O)nc1' for input: 'C@H]2cncc2C(=O)N1Cc2ccc(C)cc1)n1ccccc()c1)N(C2CC1=O)C(c1cccc(C)c(O)n1)C1(=O)CC(OC)C[C@H]1c1cccc(O)nc1'\n",
      "  3%|█▍                                       | 34/1000 [00:29<14:18,  1.13it/s][19:47:57] SMILES Parse Error: extra close parentheses while parsing: CCO1)c1ccnnc1CCc1cccncc1)c2nccsc2n1Cc3ccc(OC()(C)C)oc(=O)c1ccccc(F)cc1)n1ccc(F)ccc1)N2c1nccc(N(C)C)nc\n",
      "[19:47:57] SMILES Parse Error: Failed parsing SMILES 'CCO1)c1ccnnc1CCc1cccncc1)c2nccsc2n1Cc3ccc(OC()(C)C)oc(=O)c1ccccc(F)cc1)n1ccc(F)ccc1)N2c1nccc(N(C)C)nc' for input: 'CCO1)c1ccnnc1CCc1cccncc1)c2nccsc2n1Cc3ccc(OC()(C)C)oc(=O)c1ccccc(F)cc1)n1ccc(F)ccc1)N2c1nccc(N(C)C)nc'\n",
      "  4%|█▍                                       | 35/1000 [00:30<15:13,  1.06it/s][19:47:58] SMILES Parse Error: extra close parentheses while parsing: CC)C\n",
      "CCOC(=O)C1)c1cccc(O)(=C)ccc1OC\n",
      "CCC(c)c1ccccc1C)n1Cc2cccc(Br)cc1)N(CCC(=O)N(C)C)C(=O)c1ccc(F)ccc1\n",
      "[19:47:58] SMILES Parse Error: Failed parsing SMILES 'CC)C\n",
      "CCOC(=O)C1)c1cccc(O)(=C)ccc1OC\n",
      "CCC(c)c1ccccc1C)n1Cc2cccc(Br)cc1)N(CCC(=O)N(C)C)C(=O)c1ccc(F)ccc1' for input: 'CC)C\n",
      "CCOC(=O)C1)c1cccc(O)(=C)ccc1OC\n",
      "CCC(c)c1ccccc1C)n1Cc2cccc(Br)cc1)N(CCC(=O)N(C)C)C(=O)c1ccc(F)ccc1'\n",
      "  4%|█▍                                       | 36/1000 [00:31<14:42,  1.09it/s][19:47:58] SMILES Parse Error: extra close parentheses while parsing: CNC(=O)C1Cc2c[nH]nc2c1CC(c1ccccsc1)n1ccncc(F)(c1)c1cccc(F)cc1)[nH]nc1cc(C)nonc1)c1ccccc(c)c1)CCN(CC)C\n",
      "[19:47:58] SMILES Parse Error: Failed parsing SMILES 'CNC(=O)C1Cc2c[nH]nc2c1CC(c1ccccsc1)n1ccncc(F)(c1)c1cccc(F)cc1)[nH]nc1cc(C)nonc1)c1ccccc(c)c1)CCN(CC)C' for input: 'CNC(=O)C1Cc2c[nH]nc2c1CC(c1ccccsc1)n1ccncc(F)(c1)c1cccc(F)cc1)[nH]nc1cc(C)nonc1)c1ccccc(c)c1)CCN(CC)C'\n",
      "  4%|█▌                                       | 37/1000 [00:31<13:06,  1.22it/s][19:47:59] SMILES Parse Error: syntax error while parsing: CC(=O)C1=NN(=C(Br)C(c3cc\\(F)(F)ccccc2)\\C1(C)Oc(nccc()ncc2)C1c1cccccc1)n1ccc(S(C)(=O)=O)cc1cccccc1)c1c\n",
      "[19:47:59] SMILES Parse Error: Failed parsing SMILES 'CC(=O)C1=NN(=C(Br)C(c3cc\\(F)(F)ccccc2)\\C1(C)Oc(nccc()ncc2)C1c1cccccc1)n1ccc(S(C)(=O)=O)cc1cccccc1)c1c' for input: 'CC(=O)C1=NN(=C(Br)C(c3cc\\(F)(F)ccccc2)\\C1(C)Oc(nccc()ncc2)C1c1cccccc1)n1ccc(S(C)(=O)=O)cc1cccccc1)c1c'\n",
      "  4%|█▌                                       | 38/1000 [00:32<11:34,  1.39it/s][19:47:59] SMILES Parse Error: extra close parentheses while parsing: C(=O)F)cc3OC[C@H]2[C@@H]1c1cccc(O)ccc1)c1ccccs/c(n1)nc1nccnnc1)c1ccc(F)cc(F)c1)N1C(=O)[C@H]2COc4ccccc\n",
      "[19:47:59] SMILES Parse Error: Failed parsing SMILES 'C(=O)F)cc3OC[C@H]2[C@@H]1c1cccc(O)ccc1)c1ccccs/c(n1)nc1nccnnc1)c1ccc(F)cc(F)c1)N1C(=O)[C@H]2COc4ccccc' for input: 'C(=O)F)cc3OC[C@H]2[C@@H]1c1cccc(O)ccc1)c1ccccs/c(n1)nc1nccnnc1)c1ccc(F)cc(F)c1)N1C(=O)[C@H]2COc4ccccc'\n",
      "  4%|█▌                                       | 39/1000 [00:33<11:03,  1.45it/s][19:48:00] SMILES Parse Error: extra close parentheses while parsing: CO)C(=S)N1C(=O)C(n1ccc(O)ccc1)n1cccccc(F)c1)=NC(=O)c1cccco1)cccc1)c1cccc(C)ncc1)c1ccccc(O)c(F)c1)n1cc\n",
      "[19:48:00] SMILES Parse Error: Failed parsing SMILES 'CO)C(=S)N1C(=O)C(n1ccc(O)ccc1)n1cccccc(F)c1)=NC(=O)c1cccco1)cccc1)c1cccc(C)ncc1)c1ccccc(O)c(F)c1)n1cc' for input: 'CO)C(=S)N1C(=O)C(n1ccc(O)ccc1)n1cccccc(F)c1)=NC(=O)c1cccco1)cccc1)c1cccc(C)ncc1)c1ccccc(O)c(F)c1)n1cc'\n",
      "  4%|█▋                                       | 40/1000 [00:33<10:30,  1.52it/s][19:48:01] SMILES Parse Error: extra close parentheses while parsing: C#NC)=O)S1(=O)C#C1)c1cccc(O)ncc12\n",
      "CC(=CC(c1ccccc(F)cn1)n1ccccccc2c1CCCSC\n",
      "CCC1=C(C)C(=O)C2=C(C1=O)/C=C\n",
      "[19:48:01] SMILES Parse Error: Failed parsing SMILES 'C#NC)=O)S1(=O)C#C1)c1cccc(O)ncc12\n",
      "CC(=CC(c1ccccc(F)cn1)n1ccccccc2c1CCCSC\n",
      "CCC1=C(C)C(=O)C2=C(C1=O)/C=C' for input: 'C#NC)=O)S1(=O)C#C1)c1cccc(O)ncc12\n",
      "CC(=CC(c1ccccc(F)cn1)n1ccccccc2c1CCCSC\n",
      "CCC1=C(C)C(=O)C2=C(C1=O)/C=C'\n",
      "  4%|█▋                                       | 42/1000 [00:35<11:10,  1.43it/s][19:48:02] SMILES Parse Error: extra close parentheses while parsing: C[s@H](c1cccsc1)n1cccc(F)cc1)N=[n1ccnc(O)n1cccc(Br)(c2cccccc(=O)n1)[nH]1=CO(c2cccsc2)n1cccccnc1)c1ccc\n",
      "[19:48:02] SMILES Parse Error: Failed parsing SMILES 'C[s@H](c1cccsc1)n1cccc(F)cc1)N=[n1ccnc(O)n1cccc(Br)(c2cccccc(=O)n1)[nH]1=CO(c2cccsc2)n1cccccnc1)c1ccc' for input: 'C[s@H](c1cccsc1)n1cccc(F)cc1)N=[n1ccnc(O)n1cccc(Br)(c2cccccc(=O)n1)[nH]1=CO(c2cccsc2)n1cccccnc1)c1ccc'\n",
      "  4%|█▊                                       | 43/1000 [00:36<11:39,  1.37it/s][19:48:03] SMILES Parse Error: unclosed ring for input: 'C1\n",
      "CCC(c1cccc(CC)cc1)NC(=O)[C@@H]1CCCO)C1c1cccccc(O)n1)c1ccccc(F)cc1-c1ccccn1)(c2ccccsc1C)=c1nccnc(N2'\n",
      "  4%|█▊                                       | 44/1000 [00:36<12:48,  1.24it/s][19:48:04] SMILES Parse Error: ring closure 1 duplicates bond between atom 0 and atom 1 for input: 'C1c1cccccn1C\n",
      "CC(=O)C1CCC(N=O)SC1(C)c1cccccn1)c1ccc(O)nc2nnc(C)no2c1cccc(F)(c2)nc(-c)ccnc1)c1cccccc(nH'\n",
      "  4%|█▊                                       | 45/1000 [00:38<14:22,  1.11it/s][19:48:05] SMILES Parse Error: syntax error while parsing: Co1(F)F(c1ccccc(O)nCc1ccc(OC)ccc1)n(ccnc2c1)CCNS(=O)(=O)=NN1C(C)=C(=C/c2cccc(O)n2)cnc(-c2cccnc()(S)nc\n",
      "[19:48:05] SMILES Parse Error: Failed parsing SMILES 'Co1(F)F(c1ccccc(O)nCc1ccc(OC)ccc1)n(ccnc2c1)CCNS(=O)(=O)=NN1C(C)=C(=C/c2cccc(O)n2)cnc(-c2cccnc()(S)nc' for input: 'Co1(F)F(c1ccccc(O)nCc1ccc(OC)ccc1)n(ccnc2c1)CCNS(=O)(=O)=NN1C(C)=C(=C/c2cccc(O)n2)cnc(-c2cccnc()(S)nc'\n",
      "  5%|█▉                                       | 46/1000 [00:39<15:10,  1.05it/s][19:48:07] SMILES Parse Error: extra close parentheses while parsing: CN)CC3(SC[C@H](c3ccccc3Sc3cncsF)c2)C(C)=O)[nH]1ccsc1)c1nccc(n2cccccc2cc1cccccc1)(F)n1cccnccc2c1)c2ncc\n",
      "[19:48:07] SMILES Parse Error: Failed parsing SMILES 'CN)CC3(SC[C@H](c3ccccc3Sc3cncsF)c2)C(C)=O)[nH]1ccsc1)c1nccc(n2cccccc2cc1cccccc1)(F)n1cccnccc2c1)c2ncc' for input: 'CN)CC3(SC[C@H](c3ccccc3Sc3cncsF)c2)C(C)=O)[nH]1ccsc1)c1nccc(n2cccccc2cc1cccccc1)(F)n1cccnccc2c1)c2ncc'\n",
      "  5%|█▉                                       | 47/1000 [00:40<16:03,  1.01s/it][19:48:08] SMILES Parse Error: extra close parentheses while parsing: CC1)c1cccccc1)n1ncnc(N)(c2ccc(O)cc(F)c(F)cc2)S1\n",
      "CC1=C(C)C(=O)C[C@@](C)(c2ccccccc2)S)=c2cccccS(N(C)(=O\n",
      "[19:48:08] SMILES Parse Error: Failed parsing SMILES 'CC1)c1cccccc1)n1ncnc(N)(c2ccc(O)cc(F)c(F)cc2)S1\n",
      "CC1=C(C)C(=O)C[C@@](C)(c2ccccccc2)S)=c2cccccS(N(C)(=O' for input: 'CC1)c1cccccc1)n1ncnc(N)(c2ccc(O)cc(F)c(F)cc2)S1\n",
      "CC1=C(C)C(=O)C[C@@](C)(c2ccccccc2)S)=c2cccccS(N(C)(=O'\n",
      "  5%|█▉                                       | 48/1000 [00:41<16:43,  1.05s/it][19:48:09] SMILES Parse Error: extra close parentheses while parsing: C2CC1)S(=O)(=O)(c1)c(c1cc[cHcccccnc1)c1ccccc(N)(C)n1ccccc(n1)c1ccc(F)ccc1=O)n1cccccc2ccc(C)c(F)(F)ccc\n",
      "[19:48:09] SMILES Parse Error: Failed parsing SMILES 'C2CC1)S(=O)(=O)(c1)c(c1cc[cHcccccnc1)c1ccccc(N)(C)n1ccccc(n1)c1ccc(F)ccc1=O)n1cccccc2ccc(C)c(F)(F)ccc' for input: 'C2CC1)S(=O)(=O)(c1)c(c1cc[cHcccccnc1)c1ccccc(N)(C)n1ccccc(n1)c1ccc(F)ccc1=O)n1cccccc2ccc(C)c(F)(F)ccc'\n",
      "  5%|██                                       | 50/1000 [00:42<13:25,  1.18it/s][19:48:10] SMILES Parse Error: extra open parentheses for input: 'C2(N(C)C(=O)C(=O)C(C)(C)C\n",
      "CC(=O)C1CCN(CC2=SC1)c1ccc(-cccc2)nc(c)ccc2c(=O)n1Cc1cccccc1)n1ccccccc(c1)c1'\n",
      "  5%|██                                       | 51/1000 [00:43<12:28,  1.27it/s][19:48:11] SMILES Parse Error: extra open parentheses for input: 'CCc1sccc(COC(=O)n2ccccc2cc(nc1cccccc2cccc2c1(CCCOC(/C(=O)COCc1ccc(O)nc(F)(F)c1)n1cccc(O)nn2)c1ccccccc'\n",
      "  5%|██▏                                      | 52/1000 [00:44<13:51,  1.14it/s][19:48:12] SMILES Parse Error: extra close parentheses while parsing: C(=S)N1N=C(c2cc(F)ccc2F)nnc1Cc1ccccc(O)(c1)c1cccc(F)ccc1)n1ccccc(nc)cc(F)c1)n1cccc(F)ccc1)N[C@H]2c1cc\n",
      "[19:48:12] SMILES Parse Error: Failed parsing SMILES 'C(=S)N1N=C(c2cc(F)ccc2F)nnc1Cc1ccccc(O)(c1)c1cccc(F)ccc1)n1ccccc(nc)cc(F)c1)n1cccc(F)ccc1)N[C@H]2c1cc' for input: 'C(=S)N1N=C(c2cc(F)ccc2F)nnc1Cc1ccccc(O)(c1)c1cccc(F)ccc1)n1ccccc(nc)cc(F)c1)n1cccc(F)ccc1)N[C@H]2c1cc'\n",
      "  5%|██▏                                      | 53/1000 [00:45<15:02,  1.05it/s][19:48:13] SMILES Parse Error: syntax error while parsing: COC(=O)C2=C(C)C=C@H]321c1ccccc((S(N)(=Cl)(c)ccc1)nc1ccccccnn1)c1cccccn1)c1ncccc(O)n1)N\n",
      "CC1=C(C)(C)=C(\n",
      "[19:48:13] SMILES Parse Error: Failed parsing SMILES 'COC(=O)C2=C(C)C=C@H]321c1ccccc((S(N)(=Cl)(c)ccc1)nc1ccccccnn1)c1cccccn1)c1ncccc(O)n1)N\n",
      "CC1=C(C)(C)=C(' for input: 'COC(=O)C2=C(C)C=C@H]321c1ccccc((S(N)(=Cl)(c)ccc1)nc1ccccccnn1)c1cccccn1)c1ncccc(O)n1)N\n",
      "CC1=C(C)(C)=C('\n",
      "  5%|██▏                                      | 54/1000 [00:46<15:50,  1.00s/it][19:48:14] SMILES Parse Error: syntax error while parsing: CH](Sc1cccc(C)c(F)(F)c1)n1ccc(Br)cc(S()(=O)=O)cc1)c1cccccc(Br)(c1)c1cccccc(H()(C)[nH]1)c1ccccc(n1)c1)\n",
      "[19:48:14] SMILES Parse Error: Failed parsing SMILES 'CH](Sc1cccc(C)c(F)(F)c1)n1ccc(Br)cc(S()(=O)=O)cc1)c1cccccc(Br)(c1)c1cccccc(H()(C)[nH]1)c1ccccc(n1)c1)' for input: 'CH](Sc1cccc(C)c(F)(F)c1)n1ccc(Br)cc(S()(=O)=O)cc1)c1cccccc(Br)(c1)c1cccccc(H()(C)[nH]1)c1ccccc(n1)c1)'\n",
      "  6%|██▎                                      | 55/1000 [00:47<16:05,  1.02s/it][19:48:15] SMILES Parse Error: extra close parentheses while parsing: CC21ccccnn1)c\n",
      "CC(=O)C1=N(C[C@H]2Cc1cccc(O)c3c1ccccc(F)]c2)nn1)c1ccccc(F)ccn1)\n",
      "CCC(c1ccccc(1)=O)n1)c1c\n",
      "[19:48:15] SMILES Parse Error: Failed parsing SMILES 'CC21ccccnn1)c\n",
      "CC(=O)C1=N(C[C@H]2Cc1cccc(O)c3c1ccccc(F)]c2)nn1)c1ccccc(F)ccn1)\n",
      "CCC(c1ccccc(1)=O)n1)c1c' for input: 'CC21ccccnn1)c\n",
      "CC(=O)C1=N(C[C@H]2Cc1cccc(O)c3c1ccccc(F)]c2)nn1)c1ccccc(F)ccn1)\n",
      "CCC(c1ccccc(1)=O)n1)c1c'\n",
      "  6%|██▎                                      | 57/1000 [00:49<14:18,  1.10it/s][19:48:16] SMILES Parse Error: extra close parentheses while parsing: C(=O)C1=NN([C@H]2Cc3c1ccsc3)S2)=C(=O)=1\n",
      "CCC(c1c\n",
      "CCCNC(=O)C(C)C\n",
      "CCC(c3cccc(F)cc3)C(c3cccc/3)CC1)c1ccnc\n",
      "[19:48:16] SMILES Parse Error: Failed parsing SMILES 'C(=O)C1=NN([C@H]2Cc3c1ccsc3)S2)=C(=O)=1\n",
      "CCC(c1c\n",
      "CCCNC(=O)C(C)C\n",
      "CCC(c3cccc(F)cc3)C(c3cccc/3)CC1)c1ccnc' for input: 'C(=O)C1=NN([C@H]2Cc3c1ccsc3)S2)=C(=O)=1\n",
      "CCC(c1c\n",
      "CCCNC(=O)C(C)C\n",
      "CCC(c3cccc(F)cc3)C(c3cccc/3)CC1)c1ccnc'\n",
      "  6%|██▍                                      | 58/1000 [00:50<12:17,  1.28it/s][19:48:17] SMILES Parse Error: syntax error while parsing: C@H]1CN(c2cccc(O)c3cccc(O)c3c(=O)nc(C)c3c(Cl)cc3OS)ncn12\n",
      "CC(C(=O)C(C)(c1ccc(Cl)c(F)cc1nn2)n1cccc(O)nc\n",
      "[19:48:17] SMILES Parse Error: Failed parsing SMILES 'C@H]1CN(c2cccc(O)c3cccc(O)c3c(=O)nc(C)c3c(Cl)cc3OS)ncn12\n",
      "CC(C(=O)C(C)(c1ccc(Cl)c(F)cc1nn2)n1cccc(O)nc' for input: 'C@H]1CN(c2cccc(O)c3cccc(O)c3c(=O)nc(C)c3c(Cl)cc3OS)ncn12\n",
      "CC(C(=O)C(C)(c1ccc(Cl)c(F)cc1nn2)n1cccc(O)nc'\n",
      "  6%|██▍                                      | 59/1000 [00:50<11:07,  1.41it/s][19:48:18] SMILES Parse Error: extra close parentheses while parsing: C(=O)CC1)c1cccccc1)(C)=O\n",
      "CCC(c1cccc(Br)cc1)(=S)=c1nc[nH]c1)Oc1cccccc1)n1ccnc()c[n)n1)N(C)Cc1cccncc1)C\n",
      "[19:48:18] SMILES Parse Error: Failed parsing SMILES 'C(=O)CC1)c1cccccc1)(C)=O\n",
      "CCC(c1cccc(Br)cc1)(=S)=c1nc[nH]c1)Oc1cccccc1)n1ccnc()c[n)n1)N(C)Cc1cccncc1)C' for input: 'C(=O)CC1)c1cccccc1)(C)=O\n",
      "CCC(c1cccc(Br)cc1)(=S)=c1nc[nH]c1)Oc1cccccc1)n1ccnc()c[n)n1)N(C)Cc1cccncc1)C'\n",
      "  6%|██▍                                      | 60/1000 [00:51<11:32,  1.36it/s][19:48:18] SMILES Parse Error: extra close parentheses while parsing: CC)Cc2ccsc2)S1CCN(C(=O)C(C)(C(F)(F)F)C(=O)c1cccc(Br)cc1)Cc1cccccc1nccnccc1ncccccc(c(Sc1nccnOO)c1ccc(F\n",
      "[19:48:18] SMILES Parse Error: Failed parsing SMILES 'CC)Cc2ccsc2)S1CCN(C(=O)C(C)(C(F)(F)F)C(=O)c1cccc(Br)cc1)Cc1cccccc1nccnccc1ncccccc(c(Sc1nccnOO)c1ccc(F' for input: 'CC)Cc2ccsc2)S1CCN(C(=O)C(C)(C(F)(F)F)C(=O)c1cccc(Br)cc1)Cc1cccccc1nccnccc1ncccccc(c(Sc1nccnOO)c1ccc(F'\n",
      "  6%|██▌                                      | 61/1000 [00:52<11:06,  1.41it/s][19:48:19] SMILES Parse Error: extra close parentheses while parsing: C)CC\n",
      "CCN(C[C@@H]1CC[C@@]1(c1ncccs1)N(C)C=C(=NC@H1c1ccc(O)nc1)C(=O)C[C@@H](F)Cc1ccc(C)ncc1)c1cccccn1)n\n",
      "[19:48:19] SMILES Parse Error: Failed parsing SMILES 'C)CC\n",
      "CCN(C[C@@H]1CC[C@@]1(c1ncccs1)N(C)C=C(=NC@H1c1ccc(O)nc1)C(=O)C[C@@H](F)Cc1ccc(C)ncc1)c1cccccn1)n' for input: 'C)CC\n",
      "CCN(C[C@@H]1CC[C@@]1(c1ncccs1)N(C)C=C(=NC@H1c1ccc(O)nc1)C(=O)C[C@@H](F)Cc1ccc(C)ncc1)c1cccccn1)n'\n",
      "  6%|██▌                                      | 62/1000 [00:52<10:32,  1.48it/s][19:48:20] SMILES Parse Error: extra close parentheses while parsing: C1=C(S)NC)C[C@H]1c1ccccc(O)c1ccc(F)cccc1nccnccc(cc1)S(i(=O)(=O)c1cccccc1)S(=O)(=O)C1)c1cccccc2c1Cc1cC\n",
      "[19:48:20] SMILES Parse Error: Failed parsing SMILES 'C1=C(S)NC)C[C@H]1c1ccccc(O)c1ccc(F)cccc1nccnccc(cc1)S(i(=O)(=O)c1cccccc1)S(=O)(=O)C1)c1cccccc2c1Cc1cC' for input: 'C1=C(S)NC)C[C@H]1c1ccccc(O)c1ccc(F)cccc1nccnccc(cc1)S(i(=O)(=O)c1cccccc1)S(=O)(=O)C1)c1cccccc2c1Cc1cC'\n",
      "  6%|██▌                                      | 63/1000 [00:53<10:14,  1.52it/s][19:48:20] SMILES Parse Error: extra close parentheses while parsing: C1(CCc1ccccc1)n1ccc(F)ccc1)C1CN=C(=O)C1Cc1ccccc(F)n1)c1ccccc(O)nc1)(=O)CC(=O)O)Cc1ccccc(F)cc1)Fn1cccc\n",
      "[19:48:20] SMILES Parse Error: Failed parsing SMILES 'C1(CCc1ccccc1)n1ccc(F)ccc1)C1CN=C(=O)C1Cc1ccccc(F)n1)c1ccccc(O)nc1)(=O)CC(=O)O)Cc1ccccc(F)cc1)Fn1cccc' for input: 'C1(CCc1ccccc1)n1ccc(F)ccc1)C1CN=C(=O)C1Cc1ccccc(F)n1)c1ccccc(O)nc1)(=O)CC(=O)O)Cc1ccccc(F)cc1)Fn1cccc'\n",
      "  6%|██▌                                      | 64/1000 [00:54<11:16,  1.38it/s][19:48:22] SMILES Parse Error: syntax error while parsing: C(=O)C1=NN[C[C@@H]2Nc(c3ccc(Cl)ccc4cc(cS(N)(=O)=O)=O)C(C1)=c1ccn(C)cc1)n1cccc(c(F)cc1)nnc1c(c1nccccc2\n",
      "[19:48:22] SMILES Parse Error: Failed parsing SMILES 'C(=O)C1=NN[C[C@@H]2Nc(c3ccc(Cl)ccc4cc(cS(N)(=O)=O)=O)C(C1)=c1ccn(C)cc1)n1cccc(c(F)cc1)nnc1c(c1nccccc2' for input: 'C(=O)C1=NN[C[C@@H]2Nc(c3ccc(Cl)ccc4cc(cS(N)(=O)=O)=O)C(C1)=c1ccn(C)cc1)n1cccc(c(F)cc1)nnc1c(c1nccccc2'\n",
      "  6%|██▋                                      | 65/1000 [00:55<13:35,  1.15it/s][19:48:22] SMILES Parse Error: unclosed ring for input: 'C/c3cccs\n",
      "CC(F)(c1nc2cccoc2)n1ccccc(nccc1)n1cccccc)c1)n1ccc2ccc(ncccl)cc1)ncnc(C)n1=c)cccc1)(c1ccccccc'\n",
      "  7%|██▋                                      | 66/1000 [00:56<13:24,  1.16it/s][19:48:23] SMILES Parse Error: syntax error while parsing: C@H]32)S1\n",
      "CC(=O)CC1(CCCCO)c2cccsc2c1nc(n2)ncc(F)(c3cc(=O)ncc1)c1ccccc(F)cc1)N2\n",
      "CCl=C(NC(=O)C(c1cccccc\n",
      "[19:48:23] SMILES Parse Error: Failed parsing SMILES 'C@H]32)S1\n",
      "CC(=O)CC1(CCCCO)c2cccsc2c1nc(n2)ncc(F)(c3cc(=O)ncc1)c1ccccc(F)cc1)N2\n",
      "CCl=C(NC(=O)C(c1cccccc' for input: 'C@H]32)S1\n",
      "CC(=O)CC1(CCCCO)c2cccsc2c1nc(n2)ncc(F)(c3cc(=O)ncc1)c1ccccc(F)cc1)N2\n",
      "CCl=C(NC(=O)C(c1cccccc'\n",
      "  7%|██▋                                      | 67/1000 [00:57<13:20,  1.17it/s][19:48:24] SMILES Parse Error: syntax error while parsing: C](N)C(=O)OCCO)C1=NN(C(=O)C(=O)N\n",
      "CC(=O)C1=C(CN=[C@H]2C1COc2ccc(O)c(C)c(=O)nsc2c1ncc(-c3ccc(nC)cc3)c2n\n",
      "[19:48:24] SMILES Parse Error: Failed parsing SMILES 'C](N)C(=O)OCCO)C1=NN(C(=O)C(=O)N\n",
      "CC(=O)C1=C(CN=[C@H]2C1COc2ccc(O)c(C)c(=O)nsc2c1ncc(-c3ccc(nC)cc3)c2n' for input: 'C](N)C(=O)OCCO)C1=NN(C(=O)C(=O)N\n",
      "CC(=O)C1=C(CN=[C@H]2C1COc2ccc(O)c(C)c(=O)nsc2c1ncc(-c3ccc(nC)cc3)c2n'\n",
      "  7%|██▊                                      | 68/1000 [00:58<14:23,  1.08it/s][19:48:26] SMILES Parse Error: extra close parentheses while parsing: CCO)c1ccc(Br)ccc1nncc(n2cccccc2cccccc2)nnc3n1Cc1ccccc2)n1)n1cccccc2c(=O)n1ncccnc2c1)Oc1ccc(Br)ccc1C1(\n",
      "[19:48:26] SMILES Parse Error: Failed parsing SMILES 'CCO)c1ccc(Br)ccc1nncc(n2cccccc2cccccc2)nnc3n1Cc1ccccc2)n1)n1cccccc2c(=O)n1ncccnc2c1)Oc1ccc(Br)ccc1C1(' for input: 'CCO)c1ccc(Br)ccc1nncc(n2cccccc2cccccc2)nnc3n1Cc1ccccc2)n1)n1cccccc2c(=O)n1ncccnc2c1)Oc1ccc(Br)ccc1C1('\n",
      "  7%|██▊                                      | 69/1000 [00:59<15:20,  1.01it/s][19:48:27] SMILES Parse Error: extra close parentheses while parsing: Cl)C(C)(c2ccccc3n2)C1(C)C)CC1=C(Br(C@H]2C[C@\n",
      "CCCN)c1scncnc1)C[C@@H](F)C(=O)O)C(=O)c1ccccc(F)c1)(=O)C(\n",
      "[19:48:27] SMILES Parse Error: Failed parsing SMILES 'Cl)C(C)(c2ccccc3n2)C1(C)C)CC1=C(Br(C@H]2C[C@\n",
      "CCCN)c1scncnc1)C[C@@H](F)C(=O)O)C(=O)c1ccccc(F)c1)(=O)C(' for input: 'Cl)C(C)(c2ccccc3n2)C1(C)C)CC1=C(Br(C@H]2C[C@\n",
      "CCCN)c1scncnc1)C[C@@H](F)C(=O)O)C(=O)c1ccccc(F)c1)(=O)C('\n",
      "  7%|██▊                                      | 70/1000 [01:00<16:08,  1.04s/it][19:48:28] SMILES Parse Error: extra close parentheses while parsing: C1)(=O)c1cccccc1nccnccc2c1(CC)(c1ccccc1)C1(n2cccncc2)n1)c1cccsc1)n1ccc(cccc2c(=O)ccno2c)n1)c1ccccnc1)\n",
      "[19:48:28] SMILES Parse Error: Failed parsing SMILES 'C1)(=O)c1cccccc1nccnccc2c1(CC)(c1ccccc1)C1(n2cccncc2)n1)c1cccsc1)n1ccc(cccc2c(=O)ccno2c)n1)c1ccccnc1)' for input: 'C1)(=O)c1cccccc1nccnccc2c1(CC)(c1ccccc1)C1(n2cccncc2)n1)c1cccsc1)n1ccc(cccc2c(=O)ccno2c)n1)c1ccccnc1)'\n",
      "  7%|██▉                                      | 71/1000 [01:01<16:25,  1.06s/it][19:48:28] SMILES Parse Error: extra close parentheses while parsing: C(C(=O)O)Cc2cccc(O)c2)=N)[C@H](c1ccccccc1Cc1)nc1cccccc1)cc1ncnnc()c1)c1nccnc(c)c1)c1ccnc(O)(C)cccc1)c\n",
      "[19:48:28] SMILES Parse Error: Failed parsing SMILES 'C(C(=O)O)Cc2cccc(O)c2)=N)[C@H](c1ccccccc1Cc1)nc1cccccc1)cc1ncnnc()c1)c1nccnc(c)c1)c1ccnc(O)(C)cccc1)c' for input: 'C(C(=O)O)Cc2cccc(O)c2)=N)[C@H](c1ccccccc1Cc1)nc1cccccc1)cc1ncnnc()c1)c1nccnc(c)c1)c1ccnc(O)(C)cccc1)c'\n",
      "  7%|██▉                                      | 72/1000 [01:02<14:14,  1.09it/s][19:48:29] SMILES Parse Error: extra close parentheses while parsing: Cc3ccc(Br)c3)C1)c1ccccsc1)c1ccccccc1C(C)(=O)=C[C@H]1F)NC2=CC(=C/C=C2C12\n",
      "CCNC1=NN(C(=O)C(F)(C)F)C(=O)[\n",
      "[19:48:29] SMILES Parse Error: Failed parsing SMILES 'Cc3ccc(Br)c3)C1)c1ccccsc1)c1ccccccc1C(C)(=O)=C[C@H]1F)NC2=CC(=C/C=C2C12\n",
      "CCNC1=NN(C(=O)C(F)(C)F)C(=O)[' for input: 'Cc3ccc(Br)c3)C1)c1ccccsc1)c1ccccccc1C(C)(=O)=C[C@H]1F)NC2=CC(=C/C=C2C12\n",
      "CCNC1=NN(C(=O)C(F)(C)F)C(=O)['\n",
      "  7%|██▉                                      | 73/1000 [01:02<12:29,  1.24it/s][19:48:29] SMILES Parse Error: extra close parentheses while parsing: COCCN)C(=O)[C@H](c1ccccc(F)c1)C1(F)CCN)c1ccccncc1)nc(sc(cc(cc(F)(F)C#)ncc3)c1ccccccc2cc1c1ccccccc2cnc\n",
      "[19:48:29] SMILES Parse Error: Failed parsing SMILES 'COCCN)C(=O)[C@H](c1ccccc(F)c1)C1(F)CCN)c1ccccncc1)nc(sc(cc(cc(F)(F)C#)ncc3)c1ccccccc2cc1c1ccccccc2cnc' for input: 'COCCN)C(=O)[C@H](c1ccccc(F)c1)C1(F)CCN)c1ccccncc1)nc(sc(cc(cc(F)(F)C#)ncc3)c1ccccccc2cc1c1ccccccc2cnc'\n",
      "  7%|███                                      | 74/1000 [01:03<11:01,  1.40it/s][19:48:30] SMILES Parse Error: syntax error while parsing: C@H](c1ccccc(F)c1)c1ccccccnc1)CCn1ccccc(C)c1cccccn1)c1cccccc2c(=O)nnHnc1)c1cccnc(F)(c2cccccc1)ncH(c1)\n",
      "[19:48:30] SMILES Parse Error: Failed parsing SMILES 'C@H](c1ccccc(F)c1)c1ccccccnc1)CCn1ccccc(C)c1cccccn1)c1cccccc2c(=O)nnHnc1)c1cccnc(F)(c2cccccc1)ncH(c1)' for input: 'C@H](c1ccccc(F)c1)c1ccccccnc1)CCn1ccccc(C)c1cccccn1)c1cccccc2c(=O)nnHnc1)c1cccnc(F)(c2cccccc1)ncH(c1)'\n",
      "  8%|███                                      | 75/1000 [01:03<10:06,  1.52it/s][19:48:30] SMILES Parse Error: syntax error while parsing: C[C@H]3i2)CC1\n",
      "CC(=O)C1Cc1ccc(O)(c1=CO)ccccc1)nc1)c1cccccn1)(C(=O)O)c1ccccs1)n1ccc(N)(c1cnccc(C)ccc1)n\n",
      "[19:48:30] SMILES Parse Error: Failed parsing SMILES 'C[C@H]3i2)CC1\n",
      "CC(=O)C1Cc1ccc(O)(c1=CO)ccccc1)nc1)c1cccccn1)(C(=O)O)c1ccccs1)n1ccc(N)(c1cnccc(C)ccc1)n' for input: 'C[C@H]3i2)CC1\n",
      "CC(=O)C1Cc1ccc(O)(c1=CO)ccccc1)nc1)c1cccccn1)(C(=O)O)c1ccccs1)n1ccc(N)(c1cnccc(C)ccc1)n'\n",
      "  8%|███▏                                     | 77/1000 [01:05<10:22,  1.48it/s][19:48:32] SMILES Parse Error: extra close parentheses while parsing: C[C@@H]1c1ccnccn1Cc1cccc(O)nc1)c2cccccc1nncnc2)C(C)(c1cccccc1)s1cccncc1))c1cccncc1)n1cc(cccc2c()nc(Cc\n",
      "[19:48:32] SMILES Parse Error: Failed parsing SMILES 'C[C@@H]1c1ccnccn1Cc1cccc(O)nc1)c2cccccc1nncnc2)C(C)(c1cccccc1)s1cccncc1))c1cccncc1)n1cc(cccc2c()nc(Cc' for input: 'C[C@@H]1c1ccnccn1Cc1cccc(O)nc1)c2cccccc1nncnc2)C(C)(c1cccccc1)s1cccncc1))c1cccncc1)n1cc(cccc2c()nc(Cc'\n",
      "  8%|███▏                                     | 79/1000 [01:06<11:41,  1.31it/s][19:48:34] SMILES Parse Error: extra close parentheses while parsing: C2=O)S1CCc2nc(-c2ccscn2)C(=O)C12cccccccc(3c1)nHcncc1)N2\n",
      "CCCC(Oc1ccccc(S(C)(=O)=O)C1)c1cccccc(F)c1)Cn1\n",
      "[19:48:34] SMILES Parse Error: Failed parsing SMILES 'C2=O)S1CCc2nc(-c2ccscn2)C(=O)C12cccccccc(3c1)nHcncc1)N2\n",
      "CCCC(Oc1ccccc(S(C)(=O)=O)C1)c1cccccc(F)c1)Cn1' for input: 'C2=O)S1CCc2nc(-c2ccscn2)C(=O)C12cccccccc(3c1)nHcncc1)N2\n",
      "CCCC(Oc1ccccc(S(C)(=O)=O)C1)c1cccccc(F)c1)Cn1'\n",
      "  8%|███▎                                     | 80/1000 [01:07<12:34,  1.22it/s][19:48:34] SMILES Parse Error: extra close parentheses while parsing: Cc3=CCC(c3cccs4)cc34)[C@@]1(CCCN(C(=O)C(C)c1ccncnc[nH]c1)c1cccc1)C(=O)c1cccc(C)n1)c1cccccc1)(c1)n2ccn\n",
      "[19:48:34] SMILES Parse Error: Failed parsing SMILES 'Cc3=CCC(c3cccs4)cc34)[C@@]1(CCCN(C(=O)C(C)c1ccncnc[nH]c1)c1cccc1)C(=O)c1cccc(C)n1)c1cccccc1)(c1)n2ccn' for input: 'Cc3=CCC(c3cccs4)cc34)[C@@]1(CCCN(C(=O)C(C)c1ccncnc[nH]c1)c1cccc1)C(=O)c1cccc(C)n1)c1cccccc1)(c1)n2ccn'\n",
      "  8%|███▎                                     | 81/1000 [01:08<11:18,  1.36it/s][19:48:35] SMILES Parse Error: unclosed ring for input: 'C(C)cC(c2c[nH]cnc2)S1\n",
      "CC(=O)C(=O)N1CCN(C(=O)C(=O)C(C)C1)c1cccccc(n1)c1cccccc1)(C)n1cccc(c()c1)[nH]nc1'\n",
      "  8%|███▎                                     | 82/1000 [01:08<11:35,  1.32it/s][19:48:36] SMILES Parse Error: extra close parentheses while parsing: C1(C)c1ccccc1CCO)C(=O)s1ccccc1Cnnc2cnc(nc1)c1ncnc(-c2ccoc2)nc1)n1cccccc2cccccc1c1ccccc(F)(=O)c1cccccc\n",
      "[19:48:36] SMILES Parse Error: Failed parsing SMILES 'C1(C)c1ccccc1CCO)C(=O)s1ccccc1Cnnc2cnc(nc1)c1ncnc(-c2ccoc2)nc1)n1cccccc2cccccc1c1ccccc(F)(=O)c1cccccc' for input: 'C1(C)c1ccccc1CCO)C(=O)s1ccccc1Cnnc2cnc(nc1)c1ncnc(-c2ccoc2)nc1)n1cccccc2cccccc1c1ccccc(F)(=O)c1cccccc'\n",
      "  8%|███▍                                     | 83/1000 [01:09<12:10,  1.25it/s][19:48:37] SMILES Parse Error: extra close parentheses while parsing: C/c3ccc(Br)cc(Br)cc34)[nH]n2)c1Cc1ccccc1)c1nccccc1nccccc1)c1cccccnc2c1CN(C(=O)N1CCN(CC[C@C(=O)CC1)c1c\n",
      "[19:48:37] SMILES Parse Error: Failed parsing SMILES 'C/c3ccc(Br)cc(Br)cc34)[nH]n2)c1Cc1ccccc1)c1nccccc1nccccc1)c1cccccnc2c1CN(C(=O)N1CCN(CC[C@C(=O)CC1)c1c' for input: 'C/c3ccc(Br)cc(Br)cc34)[nH]n2)c1Cc1ccccc1)c1nccccc1nccccc1)c1cccccnc2c1CN(C(=O)N1CCN(CC[C@C(=O)CC1)c1c'\n",
      "  8%|███▍                                     | 84/1000 [01:10<12:15,  1.25it/s][19:48:38] SMILES Parse Error: extra close parentheses while parsing: C[N+](=O)[O-])cc2)n1(Cc1ccccnn1)C(=O)C\n",
      "CC1=C(C(=O)C[C@@H]21)n1ccccc(S(N)=O)cc1nc1Cccccc(F)cc1)n1ccccc\n",
      "[19:48:38] SMILES Parse Error: Failed parsing SMILES 'C[N+](=O)[O-])cc2)n1(Cc1ccccnn1)C(=O)C\n",
      "CC1=C(C(=O)C[C@@H]21)n1ccccc(S(N)=O)cc1nc1Cccccc(F)cc1)n1ccccc' for input: 'C[N+](=O)[O-])cc2)n1(Cc1ccccnn1)C(=O)C\n",
      "CC1=C(C(=O)C[C@@H]21)n1ccccc(S(N)=O)cc1nc1Cccccc(F)cc1)n1ccccc'\n",
      "  8%|███▍                                     | 85/1000 [01:11<12:46,  1.19it/s][19:48:39] SMILES Parse Error: extra close parentheses while parsing: C(c2ccco2)n2c(nccccnc3O)CC3c(cccccn3)S4)(=O)CC1)c1ccccc(C)nc1)c1cccccc1)nc1c1ccccccc(F(F)(F)c1)N(C[C)\n",
      "[19:48:39] SMILES Parse Error: Failed parsing SMILES 'C(c2ccco2)n2c(nccccnc3O)CC3c(cccccn3)S4)(=O)CC1)c1ccccc(C)nc1)c1cccccc1)nc1c1ccccccc(F(F)(F)c1)N(C[C)' for input: 'C(c2ccco2)n2c(nccccnc3O)CC3c(cccccn3)S4)(=O)CC1)c1ccccc(C)nc1)c1cccccc1)nc1c1ccccccc(F(F)(F)c1)N(C[C)'\n",
      "  9%|███▌                                     | 86/1000 [01:12<13:51,  1.10it/s][19:48:40] SMILES Parse Error: unclosed ring for input: 'C(c2cccs2)S1\n",
      "CCCc1c2ccc(NS(N)(=O)=O)cc2oncccc(S3)n1cccc(O)nc1)C2=C(C)=O)[C@H]1c1cccccc2)n1)c1ccccc(F)'\n",
      "  9%|███▌                                     | 87/1000 [01:13<14:46,  1.03it/s][19:48:41] SMILES Parse Error: extra close parentheses while parsing: CCO)c1-cc[ncccc(c)cc1)c1cccccc(S)N2c1ccccc(O)nc1)c1ccccc(O)c1ccccccn1)(O)CC(S(N)=O\n",
      "CC(=O)C1)c1ccccc(O\n",
      "[19:48:41] SMILES Parse Error: Failed parsing SMILES 'CCO)c1-cc[ncccc(c)cc1)c1cccccc(S)N2c1ccccc(O)nc1)c1ccccc(O)c1ccccccn1)(O)CC(S(N)=O\n",
      "CC(=O)C1)c1ccccc(O' for input: 'CCO)c1-cc[ncccc(c)cc1)c1cccccc(S)N2c1ccccc(O)nc1)c1ccccc(O)c1ccccccn1)(O)CC(S(N)=O\n",
      "CC(=O)C1)c1ccccc(O'\n",
      "  9%|███▌                                     | 88/1000 [01:14<14:16,  1.06it/s][19:48:42] SMILES Parse Error: unclosed ring for input: 'C[C@H]3c2cccc3OC[C@H]2N1CCOC2\n",
      "CCC/C(=O)CC1(C)CC(=O)C2=C(=O)(c2cccc(O)nc2)sccc1nccnc()c1nccnccc1)c1ccc'\n",
      "  9%|███▋                                     | 89/1000 [01:15<14:01,  1.08it/s][19:48:43] SMILES Parse Error: extra close parentheses while parsing: C2)ccc1[nH]ccncc(N)=O)C(=O)c1ccccc()n1Cc1cccccc1)nc1)c2ccccc1c1ncccnc2c1nc(N)nc2)nnc1)C(=O)OCCOc1cccc\n",
      "[19:48:43] SMILES Parse Error: Failed parsing SMILES 'C2)ccc1[nH]ccncc(N)=O)C(=O)c1ccccc()n1Cc1cccccc1)nc1)c2ccccc1c1ncccnc2c1nc(N)nc2)nnc1)C(=O)OCCOc1cccc' for input: 'C2)ccc1[nH]ccncc(N)=O)C(=O)c1ccccc()n1Cc1cccccc1)nc1)c2ccccc1c1ncccnc2c1nc(N)nc2)nnc1)C(=O)OCCOc1cccc'\n",
      "  9%|███▋                                     | 90/1000 [01:16<14:28,  1.05it/s][19:48:44] SMILES Parse Error: unclosed ring for input: 'C2\n",
      "CC(=O)CCC1(c1cccncc1)c1ncsccc()c1)c1cccc(F)cc1)n1ccncnc1)c1ccc(Br)nc(F)(c)c1)c1ccc(F()cccF)cc1)(=O'\n",
      "  9%|███▋                                     | 91/1000 [01:17<14:46,  1.03it/s][19:48:45] SMILES Parse Error: extra close parentheses while parsing: C[C@H]1c1ccccc(F)c1)N2\n",
      "CCC(=[C(C)C(=O)N1Cc2c(ccc(C)c(C)cn2Cc1cccc(-c1)nn1C\n",
      "CC(CC)C(=O)C1=O)C(=O\n",
      "CCC(c\n",
      "[19:48:45] SMILES Parse Error: Failed parsing SMILES 'C[C@H]1c1ccccc(F)c1)N2\n",
      "CCC(=[C(C)C(=O)N1Cc2c(ccc(C)c(C)cn2Cc1cccc(-c1)nn1C\n",
      "CC(CC)C(=O)C1=O)C(=O\n",
      "CCC(c' for input: 'C[C@H]1c1ccccc(F)c1)N2\n",
      "CCC(=[C(C)C(=O)N1Cc2c(ccc(C)c(C)cn2Cc1cccc(-c1)nn1C\n",
      "CC(CC)C(=O)C1=O)C(=O\n",
      "CCC(c'\n",
      "  9%|███▊                                     | 92/1000 [01:18<15:08,  1.00s/it][19:48:46] SMILES Parse Error: extra close parentheses while parsing: C)CC(=O)C1=C(F)C(=[O-])CCS1\n",
      "CC[C@]1(CCO)CCCC1)c1ccccccc1)[nH]n1)c1ccccccc1)(c2sccccc2c1Cc(nccccc(F)c(\n",
      "[19:48:46] SMILES Parse Error: Failed parsing SMILES 'C)CC(=O)C1=C(F)C(=[O-])CCS1\n",
      "CC[C@]1(CCO)CCCC1)c1ccccccc1)[nH]n1)c1ccccccc1)(c2sccccc2c1Cc(nccccc(F)c(' for input: 'C)CC(=O)C1=C(F)C(=[O-])CCS1\n",
      "CC[C@]1(CCO)CCCC1)c1ccccccc1)[nH]n1)c1ccccccc1)(c2sccccc2c1Cc(nccccc(F)c('\n",
      "  9%|███▊                                     | 93/1000 [01:19<15:31,  1.03s/it][19:48:47] SMILES Parse Error: syntax error while parsing: C@H]2O1)c1ccccc(n1)ncc(n2ccc(NC(N+C)C)c1ncc([nH]4)cc4)[nH]1)c1nc2ccccnc2)[nH]1)c1c1CCc3c2ccccc1)S(=O)\n",
      "[19:48:47] SMILES Parse Error: Failed parsing SMILES 'C@H]2O1)c1ccccc(n1)ncc(n2ccc(NC(N+C)C)c1ncc([nH]4)cc4)[nH]1)c1nc2ccccnc2)[nH]1)c1c1CCc3c2ccccc1)S(=O)' for input: 'C@H]2O1)c1ccccc(n1)ncc(n2ccc(NC(N+C)C)c1ncc([nH]4)cc4)[nH]1)c1nc2ccccnc2)[nH]1)c1c1CCc3c2ccccc1)S(=O)'\n",
      "  9%|███▊                                     | 94/1000 [01:20<14:39,  1.03it/s][19:48:48] SMILES Parse Error: unclosed ring for input: 'CC1=C(C(=O)NC1=NN(C(=O)C(C)(C)C)C(=O)c1ccccc(O)c1)N2\n",
      "CC(C)(C)c1ccc2nccnc(nc4cc(s2)SC(=O)O)(c1cccccc)n'\n",
      " 10%|███▉                                     | 95/1000 [01:21<14:42,  1.03it/s][19:48:49] SMILES Parse Error: extra close parentheses while parsing: C#N)(c3ccc(F)ccc3O2)cs1)c1ccccc(F)(F)cc1)n1ccccccc(c2c1cccccc(O)n1)c1cccccc1(C)(C)=O)n1ccccc(=O)c1n1c\n",
      "[19:48:49] SMILES Parse Error: Failed parsing SMILES 'C#N)(c3ccc(F)ccc3O2)cs1)c1ccccc(F)(F)cc1)n1ccccccc(c2c1cccccc(O)n1)c1cccccc1(C)(C)=O)n1ccccc(=O)c1n1c' for input: 'C#N)(c3ccc(F)ccc3O2)cs1)c1ccccc(F)(F)cc1)n1ccccccc(c2c1cccccc(O)n1)c1cccccc1(C)(C)=O)n1ccccc(=O)c1n1c'\n",
      " 10%|███▉                                     | 96/1000 [01:22<15:23,  1.02s/it][19:48:50] SMILES Parse Error: extra open parentheses for input: 'C2=N(C(=O)C3(On2)c(c3ccccc(O)nc4)S1\n",
      "CC[C@@H](C)N(CCCO)C(=O)C1Cc1ccccc1C\n",
      "CCC(c1ccc(F)cc1)C(=O)=NN(C/C='\n",
      " 10%|███▉                                     | 97/1000 [01:23<15:43,  1.05s/it][19:48:51] SMILES Parse Error: extra open parentheses for input: 'C1=NCN(C(C)=O)C(C1)=C1c2ccc(-c3cc(F)ccc3OC[C@H]2[C@H]1c1cccccnc1C\n",
      "CCC(C)(C)n1ccnc(N)c1ccccccc1)N[C@@H'\n",
      " 10%|████                                     | 98/1000 [01:24<14:44,  1.02it/s][19:48:52] SMILES Parse Error: extra close parentheses while parsing: Cs1ccc(OC[C@@H]2CC(=O)O3)C1)c1ccccccc1)c1cccccc(O)(c1cccccc1)c1Cc1cccccc(O)c1)SC1(CO)Cc1cccc(O)nc1)(=\n",
      "[19:48:52] SMILES Parse Error: Failed parsing SMILES 'Cs1ccc(OC[C@@H]2CC(=O)O3)C1)c1ccccccc1)c1cccccc(O)(c1cccccc1)c1Cc1cccccc(O)c1)SC1(CO)Cc1cccc(O)nc1)(=' for input: 'Cs1ccc(OC[C@@H]2CC(=O)O3)C1)c1ccccccc1)c1cccccc(O)(c1cccccc1)c1Cc1cccccc(O)c1)SC1(CO)Cc1cccc(O)nc1)(='\n",
      " 10%|████                                     | 99/1000 [01:25<15:17,  1.02s/it][19:48:53] SMILES Parse Error: extra close parentheses while parsing: Cc3c(F)ccnc34)C1)c1ncc[nHH]1)c1ccccc(F)cc1c1cccccc1)c1ccccccc2[nH]n1)C(=O(F)C)o1cccccc1)nc1cc1ccccccc\n",
      "[19:48:53] SMILES Parse Error: Failed parsing SMILES 'Cc3c(F)ccnc34)C1)c1ncc[nHH]1)c1ccccc(F)cc1c1cccccc1)c1ccccccc2[nH]n1)C(=O(F)C)o1cccccc1)nc1cc1ccccccc' for input: 'Cc3c(F)ccnc34)C1)c1ncc[nHH]1)c1ccccc(F)cc1c1cccccc1)c1ccccccc2[nH]n1)C(=O(F)C)o1cccccc1)nc1cc1ccccccc'\n",
      " 10%|████                                    | 100/1000 [01:26<15:49,  1.06s/it][19:48:54] SMILES Parse Error: unclosed ring for input: 'CCC(SCO)c1ccc(Br)ccn1C2CC(O)(C)C\n",
      "CC(=O)CC1=NN[C(/C(=O)C(C)=O)C(=O)C(C)(c2ccccnc2)S1\n",
      "CCC(c3ccc(O)nc4cc'\n",
      " 10%|████                                    | 101/1000 [01:28<16:23,  1.09s/it][19:48:55] SMILES Parse Error: extra close parentheses while parsing: CC(=O)C1=NO)C1c1cccccc1)n1cccccccc1ccsccc1)c1c(=O)C(=O)(c1cccccc1)n1Cc1cccnc(O)nc1)c1cccccc(-C)C)nc1)\n",
      "[19:48:55] SMILES Parse Error: Failed parsing SMILES 'CC(=O)C1=NO)C1c1cccccc1)n1cccccccc1ccsccc1)c1c(=O)C(=O)(c1cccccc1)n1Cc1cccnc(O)nc1)c1cccccc(-C)C)nc1)' for input: 'CC(=O)C1=NO)C1c1cccccc1)n1cccccccc1ccsccc1)c1c(=O)C(=O)(c1cccccc1)n1Cc1cccnc(O)nc1)c1cccccc(-C)C)nc1)'\n",
      " 10%|████                                    | 102/1000 [01:29<16:28,  1.10s/it][19:48:57] SMILES Parse Error: extra open parentheses for input: 'C(=O)C1=NNN(C(=O)C(C)(C)C\n",
      "CC(=O)C1CO2cncoc1)nc(=O)sccc(O)n1)c1cccccc1C(F)c1cccncc1)c1ccccc(F)(F)c1)nn'\n",
      " 10%|████                                    | 103/1000 [01:30<16:26,  1.10s/it][19:48:58] SMILES Parse Error: extra close parentheses while parsing: C)Oc1ccccn1Cc1nc(-c2ccsc2c/c(=O)ncnc2n1Cc4cccc(C)(C)C)n1[nH]nc1c3ccc(Br)cc(F)(F)c1nccncnc2)c1cccccc1)\n",
      "[19:48:58] SMILES Parse Error: Failed parsing SMILES 'C)Oc1ccccn1Cc1nc(-c2ccsc2c/c(=O)ncnc2n1Cc4cccc(C)(C)C)n1[nH]nc1c3ccc(Br)cc(F)(F)c1nccncnc2)c1cccccc1)' for input: 'C)Oc1ccccn1Cc1nc(-c2ccsc2c/c(=O)ncnc2n1Cc4cccc(C)(C)C)n1[nH]nc1c3ccc(Br)cc(F)(F)c1nccncnc2)c1cccccc1)'\n",
      " 10%|████▏                                   | 104/1000 [01:31<15:58,  1.07s/it][19:48:59] SMILES Parse Error: extra close parentheses while parsing: C1)N1@c1cccc(F)cc1)N=\n",
      "-CC(\\C(=OCO)C(=O)C1(c2ccccc2)S1\n",
      "CCS(SC)(=O)=O)(c1nccc(C)c3c1cccccns3)C2)c1c[nH]\n",
      "[19:48:59] SMILES Parse Error: Failed parsing SMILES 'C1)N1@c1cccc(F)cc1)N=\n",
      "-CC(\\C(=OCO)C(=O)C1(c2ccccc2)S1\n",
      "CCS(SC)(=O)=O)(c1nccc(C)c3c1cccccns3)C2)c1c[nH]' for input: 'C1)N1@c1cccc(F)cc1)N=\n",
      "-CC(\\C(=OCO)C(=O)C1(c2ccccc2)S1\n",
      "CCS(SC)(=O)=O)(c1nccc(C)c3c1cccccns3)C2)c1c[nH]'\n",
      " 10%|████▏                                   | 105/1000 [01:32<15:42,  1.05s/it][19:49:00] SMILES Parse Error: extra close parentheses while parsing: Cl)=C(C)=O\n",
      "CC(=O)S1C(=O)C[C@H]1c1cccccc1)n1cccccncc2c1[nH]ncnc1)(c1cccccc1)N(C(=O)COC(=O)c1ccc(C2(F)C\n",
      "[19:49:00] SMILES Parse Error: Failed parsing SMILES 'Cl)=C(C)=O\n",
      "CC(=O)S1C(=O)C[C@H]1c1cccccc1)n1cccccncc2c1[nH]ncnc1)(c1cccccc1)N(C(=O)COC(=O)c1ccc(C2(F)C' for input: 'Cl)=C(C)=O\n",
      "CC(=O)S1C(=O)C[C@H]1c1cccccc1)n1cccccncc2c1[nH]ncnc1)(c1cccccc1)N(C(=O)COC(=O)c1ccc(C2(F)C'\n",
      " 11%|████▏                                   | 106/1000 [01:33<15:41,  1.05s/it][19:49:00] SMILES Parse Error: extra close parentheses while parsing: C(=O)C2)c1nccccccc2cc1cccccccc)c1)n1ccncc1)c1cccc((nH(C)c(o1)ncc(F)(c1)c1nccc[nH]1)c1cccccc1ncccccc1n\n",
      "[19:49:00] SMILES Parse Error: Failed parsing SMILES 'C(=O)C2)c1nccccccc2cc1cccccccc)c1)n1ccncc1)c1cccc((nH(C)c(o1)ncc(F)(c1)c1nccc[nH]1)c1cccccc1ncccccc1n' for input: 'C(=O)C2)c1nccccccc2cc1cccccccc)c1)n1ccncc1)c1cccc((nH(C)c(o1)ncc(F)(c1)c1nccc[nH]1)c1cccccc1ncccccc1n'\n",
      " 11%|████▎                                   | 107/1000 [01:34<13:56,  1.07it/s][19:49:01] SMILES Parse Error: extra open parentheses for input: 'C[C@H]1c3cc(F)ccc3S[C@H](c3ccccc(N)(O)C(=O)c3cccc(OC(c3)OC(=O)C3(F)=C[C@@H]32)co1)n1cccccc2cccnc(C)(F'\n",
      " 11%|████▎                                   | 108/1000 [01:34<13:55,  1.07it/s][19:49:02] SMILES Parse Error: extra close parentheses while parsing: C(=O)C2CC=C(NC(=O)C3)c2nccnc2C)nc(n2)ccc(Br)cc(F)c1)C(=O\n",
      "CC(=O)C1=NN(C(=O)[C@@H]2CCCO1)c1ccccccc(C)(c\n",
      "[19:49:02] SMILES Parse Error: Failed parsing SMILES 'C(=O)C2CC=C(NC(=O)C3)c2nccnc2C)nc(n2)ccc(Br)cc(F)c1)C(=O\n",
      "CC(=O)C1=NN(C(=O)[C@@H]2CCCO1)c1ccccccc(C)(c' for input: 'C(=O)C2CC=C(NC(=O)C3)c2nccnc2C)nc(n2)ccc(Br)cc(F)c1)C(=O\n",
      "CC(=O)C1=NN(C(=O)[C@@H]2CCCO1)c1ccccccc(C)(c'\n",
      " 11%|████▎                                   | 109/1000 [01:35<13:55,  1.07it/s][19:49:03] SMILES Parse Error: extra close parentheses while parsing: CCCN[C@@]1(c1ccccc1)n1cccc(F)cc1)n1nccnc()S(=O)(=O)=O)c1)c1cccccc(F)cc1nn(C)cc1C)C1(O)C(=O)c1ccccncc2\n",
      "[19:49:03] SMILES Parse Error: Failed parsing SMILES 'CCCN[C@@]1(c1ccccc1)n1cccc(F)cc1)n1nccnc()S(=O)(=O)=O)c1)c1cccccc(F)cc1nn(C)cc1C)C1(O)C(=O)c1ccccncc2' for input: 'CCCN[C@@]1(c1ccccc1)n1cccc(F)cc1)n1nccnc()S(=O)(=O)=O)c1)c1cccccc(F)cc1nn(C)cc1C)C1(O)C(=O)c1ccccncc2'\n",
      " 11%|████▍                                   | 110/1000 [01:36<14:29,  1.02it/s][19:49:04] SMILES Parse Error: extra close parentheses while parsing: C/c3cconc3O)c(Br)cc2O4)CC1c1nccoc1C)n1cc2cc(nc(C)cc(Br)ccc2c)n1Cc1ccccc1)nc1ccccccc1)ccc(-c1)CS2\n",
      "CC(=\n",
      "[19:49:04] SMILES Parse Error: Failed parsing SMILES 'C/c3cconc3O)c(Br)cc2O4)CC1c1nccoc1C)n1cc2cc(nc(C)cc(Br)ccc2c)n1Cc1ccccc1)nc1ccccccc1)ccc(-c1)CS2\n",
      "CC(=' for input: 'C/c3cconc3O)c(Br)cc2O4)CC1c1nccoc1C)n1cc2cc(nc(C)cc(Br)ccc2c)n1Cc1ccccc1)nc1ccccccc1)ccc(-c1)CS2\n",
      "CC(='\n",
      " 11%|████▍                                   | 111/1000 [01:37<14:00,  1.06it/s][19:49:05] SMILES Parse Error: extra close parentheses while parsing: Cc44)CC(F)(F)n1)C1(ccccccccc(F)c1)n1cccnc1)c2nccsc2)c1ncccnc(s2)C1)c1cccccc1c1ccccc(c1)c1n[nH]c1)c1cc\n",
      "[19:49:05] SMILES Parse Error: Failed parsing SMILES 'Cc44)CC(F)(F)n1)C1(ccccccccc(F)c1)n1cccnc1)c2nccsc2)c1ncccnc(s2)C1)c1cccccc1c1ccccc(c1)c1n[nH]c1)c1cc' for input: 'Cc44)CC(F)(F)n1)C1(ccccccccc(F)c1)n1cccnc1)c2nccsc2)c1ncccnc(s2)C1)c1cccccc1c1ccccc(c1)c1n[nH]c1)c1cc'\n",
      " 11%|████▍                                   | 112/1000 [01:38<13:17,  1.11it/s][19:49:06] SMILES Parse Error: extra close parentheses while parsing: CN(C)C(=O)C[C@@H]12)c1cccccc(O)n1ccccc(F)(c1)=c1ccccc(F)(F)c1cccccc1)c1cccc(F)cc1F)c1nccsc2cncncc(cc3\n",
      "[19:49:06] SMILES Parse Error: Failed parsing SMILES 'CN(C)C(=O)C[C@@H]12)c1cccccc(O)n1ccccc(F)(c1)=c1ccccc(F)(F)c1cccccc1)c1cccc(F)cc1F)c1nccsc2cncncc(cc3' for input: 'CN(C)C(=O)C[C@@H]12)c1cccccc(O)n1ccccc(F)(c1)=c1ccccc(F)(F)c1cccccc1)c1cccc(F)cc1F)c1nccsc2cncncc(cc3'\n",
      " 11%|████▌                                   | 113/1000 [01:39<14:05,  1.05it/s][19:49:07] SMILES Parse Error: extra close parentheses while parsing: C1c1CCc2c(sc(C)nsc(C)c3cc(nc)cc3ccscc3)N2c1nc(-c2ccc(CN)C(=O)=O)nc2cnc(C)noc2ncc(=O)nc3)c2ccccc(F)c2)\n",
      "[19:49:07] SMILES Parse Error: Failed parsing SMILES 'C1c1CCc2c(sc(C)nsc(C)c3cc(nc)cc3ccscc3)N2c1nc(-c2ccc(CN)C(=O)=O)nc2cnc(C)noc2ncc(=O)nc3)c2ccccc(F)c2)' for input: 'C1c1CCc2c(sc(C)nsc(C)c3cc(nc)cc3ccscc3)N2c1nc(-c2ccc(CN)C(=O)=O)nc2cnc(C)noc2ncc(=O)nc3)c2ccccc(F)c2)'\n",
      " 11%|████▌                                   | 114/1000 [01:40<14:47,  1.00s/it][19:49:08] SMILES Parse Error: extra close parentheses while parsing: C(=O)/C(=O)C1COc2cccco2)n2ccnc(O)nc(c(=O)OS)ncc1)c1ccccc(O)nc1)c(ccc(cc1)c1ccccccc1)(C)nc1-c1ccccc(F)\n",
      "[19:49:08] SMILES Parse Error: Failed parsing SMILES 'C(=O)/C(=O)C1COc2cccco2)n2ccnc(O)nc(c(=O)OS)ncc1)c1ccccc(O)nc1)c(ccc(cc1)c1ccccccc1)(C)nc1-c1ccccc(F)' for input: 'C(=O)/C(=O)C1COc2cccco2)n2ccnc(O)nc(c(=O)OS)ncc1)c1ccccc(O)nc1)c(ccc(cc1)c1ccccccc1)(C)nc1-c1ccccc(F)'\n",
      " 12%|████▌                                   | 115/1000 [01:41<15:05,  1.02s/it][19:49:09] SMILES Parse Error: unclosed ring for input: 'CC1\n",
      "CCC(c1cccnc1)C(=O)C1=C(CNS(=O)(=O)[C@]1(c1cccccc1)[nH]c1)c1nc(F)ccc1ncccnc(F)(F)c1)NC(=O)C(=O)C1='\n",
      " 12%|████▋                                   | 116/1000 [01:42<15:14,  1.03s/it][19:49:10] SMILES Parse Error: extra close parentheses while parsing: Cl)cc2c(=O)n1Cc1cccccc(O)(c1)c1cccccc1)c1ncc(Br)ccc2c1ncnc(C)nc2c2nnc/c3cc(F)cc([C@H](F)[(@@H](F)(O)C\n",
      "[19:49:10] SMILES Parse Error: Failed parsing SMILES 'Cl)cc2c(=O)n1Cc1cccccc(O)(c1)c1cccccc1)c1ncc(Br)ccc2c1ncnc(C)nc2c2nnc/c3cc(F)cc([C@H](F)[(@@H](F)(O)C' for input: 'Cl)cc2c(=O)n1Cc1cccccc(O)(c1)c1cccccc1)c1ncc(Br)ccc2c1ncnc(C)nc2c2nnc/c3cc(F)cc([C@H](F)[(@@H](F)(O)C'\n",
      " 12%|████▋                                   | 117/1000 [01:43<13:19,  1.10it/s][19:49:11] SMILES Parse Error: extra close parentheses while parsing: C)=NS(=O)(=O)=N(C)Cc1cccc(c)c1)[nH]1)(=O)C1(c1cccccns1)n1cccc(S()ncc(F)cc1)c1cccccc(F)c1)N[C@H]1c1ccc\n",
      "[19:49:11] SMILES Parse Error: Failed parsing SMILES 'C)=NS(=O)(=O)=N(C)Cc1cccc(c)c1)[nH]1)(=O)C1(c1cccccns1)n1cccc(S()ncc(F)cc1)c1cccccc(F)c1)N[C@H]1c1ccc' for input: 'C)=NS(=O)(=O)=N(C)Cc1cccc(c)c1)[nH]1)(=O)C1(c1cccccns1)n1cccc(S()ncc(F)cc1)c1cccccc(F)c1)N[C@H]1c1ccc'\n",
      " 12%|████▋                                   | 118/1000 [01:44<12:53,  1.14it/s][19:49:12] SMILES Parse Error: extra close parentheses while parsing: CSC1)c1ccccc1cccccc1ncccnc1)ccccc1)c1ncccnc(O)c1)N2\n",
      "CCC(c1cccc(O)C(=O)n1Cc1cccsc1)C(=O)C1cNcccc1n1ccc\n",
      "[19:49:12] SMILES Parse Error: Failed parsing SMILES 'CSC1)c1ccccc1cccccc1ncccnc1)ccccc1)c1ncccnc(O)c1)N2\n",
      "CCC(c1cccc(O)C(=O)n1Cc1cccsc1)C(=O)C1cNcccc1n1ccc' for input: 'CSC1)c1ccccc1cccccc1ncccnc1)ccccc1)c1ncccnc(O)c1)N2\n",
      "CCC(c1cccc(O)C(=O)n1Cc1cccsc1)C(=O)C1cNcccc1n1ccc'\n",
      " 12%|████▊                                   | 119/1000 [01:45<13:07,  1.12it/s][19:49:12] SMILES Parse Error: syntax error while parsing: C@@H]1C(=O)N(C)C1=C(C)[C@@H]2c1ccccn1)c1ccccncc1)nccnc(c)c1ccccnc(F)c1)c1ccccccn1)n1)c1cccncc1)(c1ccc\n",
      "[19:49:12] SMILES Parse Error: Failed parsing SMILES 'C@@H]1C(=O)N(C)C1=C(C)[C@@H]2c1ccccn1)c1ccccncc1)nccnc(c)c1ccccnc(F)c1)c1ccccccn1)n1)c1cccncc1)(c1ccc' for input: 'C@@H]1C(=O)N(C)C1=C(C)[C@@H]2c1ccccn1)c1ccccncc1)nccnc(c)c1ccccnc(F)c1)c1ccccccn1)n1)c1cccncc1)(c1ccc'\n",
      " 12%|████▊                                   | 120/1000 [01:46<12:39,  1.16it/s][19:49:13] SMILES Parse Error: syntax error while parsing: C@@]1(CCCN)c1cnc(-c)ccc(F)c1)[nH]nc1ccc(F)cccO1)c1ccccc(F)cc1)[nH]1c1ccccc(O)n1cccc(O)nc1)N2C1(CN(C)N\n",
      "[19:49:13] SMILES Parse Error: Failed parsing SMILES 'C@@]1(CCCN)c1cnc(-c)ccc(F)c1)[nH]nc1ccc(F)cccO1)c1ccccc(F)cc1)[nH]1c1ccccc(O)n1cccc(O)nc1)N2C1(CN(C)N' for input: 'C@@]1(CCCN)c1cnc(-c)ccc(F)c1)[nH]nc1ccc(F)cccO1)c1ccccc(F)cc1)[nH]1c1ccccc(O)n1cccc(O)nc1)N2C1(CN(C)N'\n",
      " 12%|████▊                                   | 121/1000 [01:47<13:48,  1.06it/s][19:49:15] SMILES Parse Error: syntax error while parsing: C@H](c2)cccc1)n1cccc(Br)ccc1[nH]c1)c1sccncns2)n1ccccc(c2cncc(O)ncc2c1)c1ccccccc2c1=Cl\n",
      "CC(=O)C1=NN(C(=\n",
      "[19:49:15] SMILES Parse Error: Failed parsing SMILES 'C@H](c2)cccc1)n1cccc(Br)ccc1[nH]c1)c1sccncns2)n1ccccc(c2cncc(O)ncc2c1)c1ccccccc2c1=Cl\n",
      "CC(=O)C1=NN(C(=' for input: 'C@H](c2)cccc1)n1cccc(Br)ccc1[nH]c1)c1sccncns2)n1ccccc(c2cncc(O)ncc2c1)c1ccccccc2c1=Cl\n",
      "CC(=O)C1=NN(C(='\n",
      " 12%|████▉                                   | 122/1000 [01:48<14:58,  1.02s/it][19:49:16] SMILES Parse Error: syntax error while parsing: C@H](NC()(=O)C1\\COCC3)c(Br)ccc1[+H]1C[C@H]2c1cccccnc1c1ccccc(S)n2c1ccc(O)(ccccc2c)cc1)n1Cc1cccc(F)(c1\n",
      "[19:49:16] SMILES Parse Error: Failed parsing SMILES 'C@H](NC()(=O)C1\\COCC3)c(Br)ccc1[+H]1C[C@H]2c1cccccnc1c1ccccc(S)n2c1ccc(O)(ccccc2c)cc1)n1Cc1cccc(F)(c1' for input: 'C@H](NC()(=O)C1\\COCC3)c(Br)ccc1[+H]1C[C@H]2c1cccccnc1c1ccccc(S)n2c1ccc(O)(ccccc2c)cc1)n1Cc1cccc(F)(c1'\n",
      " 12%|████▉                                   | 123/1000 [01:49<15:20,  1.05s/it][19:49:17] SMILES Parse Error: syntax error while parsing: CNS(=O)(=O)c1cccc(C(F)(F)(F)F)ccc1nnc(C[C@H]2c1cccc(F)c(OC(F)(F)(F)F)cc1)n1ccnc[nHc1ncccc2c1Cc1cccc(O\n",
      "[19:49:17] SMILES Parse Error: Failed parsing SMILES 'CNS(=O)(=O)c1cccc(C(F)(F)(F)F)ccc1nnc(C[C@H]2c1cccc(F)c(OC(F)(F)(F)F)cc1)n1ccnc[nHc1ncccc2c1Cc1cccc(O' for input: 'CNS(=O)(=O)c1cccc(C(F)(F)(F)F)ccc1nnc(C[C@H]2c1cccc(F)c(OC(F)(F)(F)F)cc1)n1ccnc[nHc1ncccc2c1Cc1cccc(O'\n",
      " 12%|████▉                                   | 124/1000 [01:50<15:33,  1.07s/it][19:49:18] SMILES Parse Error: extra close parentheses while parsing: Cc1ccc(F)ccc1)[C@H]1Oc1ccccOc(O)cc1ccccncn1)n1cccc(c(c(nH(c)cc1)c1ccc(F)cccc1)n1ccccc(F)c1)[nH]1ccccc\n",
      "[19:49:18] SMILES Parse Error: Failed parsing SMILES 'Cc1ccc(F)ccc1)[C@H]1Oc1ccccOc(O)cc1ccccncn1)n1cccc(c(c(nH(c)cc1)c1ccc(F)cccc1)n1ccccc(F)c1)[nH]1ccccc' for input: 'Cc1ccc(F)ccc1)[C@H]1Oc1ccccOc(O)cc1ccccncn1)n1cccc(c(c(nH(c)cc1)c1ccc(F)cccc1)n1ccccc(F)c1)[nH]1ccccc'\n",
      " 12%|█████                                   | 125/1000 [01:51<15:39,  1.07s/it][19:49:19] SMILES Parse Error: extra close parentheses while parsing: C/C=C/c3cccon4)n1)c1cccc(C)cc(Br)c3c(=O)nc1ccccs1)c1nccncnc2)C(=O)C1ccc(Br)cc1)c1nccc(N)nc(O)(=O)c1cc\n",
      "[19:49:19] SMILES Parse Error: Failed parsing SMILES 'C/C=C/c3cccon4)n1)c1cccc(C)cc(Br)c3c(=O)nc1ccccs1)c1nccncnc2)C(=O)C1ccc(Br)cc1)c1nccc(N)nc(O)(=O)c1cc' for input: 'C/C=C/c3cccon4)n1)c1cccc(C)cc(Br)c3c(=O)nc1ccccs1)c1nccncnc2)C(=O)C1ccc(Br)cc1)c1nccc(N)nc(O)(=O)c1cc'\n",
      " 13%|█████                                   | 126/1000 [01:52<14:22,  1.01it/s][19:49:20] SMILES Parse Error: extra close parentheses while parsing: C1c1cccnc(O)n1Cc1cccnc1)n1ccc(c2ccc(O)nc(S)(c2cc(O)nc()nc(NS(N)(=O)=O)c3ccscc2)NC(=S)N11CCC(c2cccs3)c\n",
      "[19:49:20] SMILES Parse Error: Failed parsing SMILES 'C1c1cccnc(O)n1Cc1cccnc1)n1ccc(c2ccc(O)nc(S)(c2cc(O)nc()nc(NS(N)(=O)=O)c3ccscc2)NC(=S)N11CCC(c2cccs3)c' for input: 'C1c1cccnc(O)n1Cc1cccnc1)n1ccc(c2ccc(O)nc(S)(c2cc(O)nc()nc(NS(N)(=O)=O)c3ccscc2)NC(=S)N11CCC(c2cccs3)c'\n",
      " 13%|█████                                   | 127/1000 [01:53<13:52,  1.05it/s][19:49:20] SMILES Parse Error: extra close parentheses while parsing: C(=O)s1COCCO1(c1cc1ccccc(O)c(=O)cc1)n1ccc(nccncc2c(=O)n1Cc1cccc(C)cn1)c1cccc(=O)nc1)n1ccccc(F)c1)C(=O\n",
      "[19:49:20] SMILES Parse Error: Failed parsing SMILES 'C(=O)s1COCCO1(c1cc1ccccc(O)c(=O)cc1)n1ccc(nccncc2c(=O)n1Cc1cccc(C)cn1)c1cccc(=O)nc1)n1ccccc(F)c1)C(=O' for input: 'C(=O)s1COCCO1(c1cc1ccccc(O)c(=O)cc1)n1ccc(nccncc2c(=O)n1Cc1cccc(C)cn1)c1cccc(=O)nc1)n1ccccc(F)c1)C(=O'\n",
      " 13%|█████                                   | 128/1000 [01:54<12:39,  1.15it/s][19:49:21] SMILES Parse Error: extra close parentheses while parsing: C(=O)CO2)c1cccccc1nc(C)(C)cIcccc1)c1cccccc(F)cc1)c2cc(=O)non1)n1cccccc1c1ccoc(O)(C(=O)C(F)(c1F)Oc1ccc\n",
      "[19:49:21] SMILES Parse Error: Failed parsing SMILES 'C(=O)CO2)c1cccccc1nc(C)(C)cIcccc1)c1cccccc(F)cc1)c2cc(=O)non1)n1cccccc1c1ccoc(O)(C(=O)C(F)(c1F)Oc1ccc' for input: 'C(=O)CO2)c1cccccc1nc(C)(C)cIcccc1)c1cccccc(F)cc1)c2cc(=O)non1)n1cccccc1c1ccoc(O)(C(=O)C(F)(c1F)Oc1ccc'\n",
      " 13%|█████▏                                  | 129/1000 [01:54<11:25,  1.27it/s][19:49:22] SMILES Parse Error: syntax error while parsing: C@H]1c1ccccc(O)n1Cc1ccccc(O)n1)c1ccccc(c(2)(=O)n1cccnc2c1)c1ncc(N)ccc(])c3)S2)C=S(C(=O)=O)nc1c\n",
      "CC(=O)\n",
      "[19:49:22] SMILES Parse Error: Failed parsing SMILES 'C@H]1c1ccccc(O)n1Cc1ccccc(O)n1)c1ccccc(c(2)(=O)n1cccnc2c1)c1ncc(N)ccc(])c3)S2)C=S(C(=O)=O)nc1c\n",
      "CC(=O)' for input: 'C@H]1c1ccccc(O)n1Cc1ccccc(O)n1)c1ccccc(c(2)(=O)n1cccnc2c1)c1ncc(N)ccc(])c3)S2)C=S(C(=O)=O)nc1c\n",
      "CC(=O)'\n",
      " 13%|█████▏                                  | 130/1000 [01:55<12:36,  1.15it/s][19:49:23] SMILES Parse Error: extra close parentheses while parsing: C(=O)(C1)NC(=O)C(=O)(c1ccccc(F)cc1)s1cccccc1c1cccccc1)n1ccccccc2cc1C(=O)C1(O)CC1Nc1cccccc1C\n",
      "CC1=C(C(=\n",
      "[19:49:23] SMILES Parse Error: Failed parsing SMILES 'C(=O)(C1)NC(=O)C(=O)(c1ccccc(F)cc1)s1cccccc1c1cccccc1)n1ccccccc2cc1C(=O)C1(O)CC1Nc1cccccc1C\n",
      "CC1=C(C(=' for input: 'C(=O)(C1)NC(=O)C(=O)(c1ccccc(F)cc1)s1cccccc1c1cccccc1)n1ccccccc2cc1C(=O)C1(O)CC1Nc1cccccc1C\n",
      "CC1=C(C(='\n",
      " 13%|█████▏                                  | 131/1000 [01:56<13:50,  1.05it/s][19:49:24] SMILES Parse Error: syntax error while parsing: C@@]2(c3ccc(F)cc(OC=3C[C@]3(c4[nH])c1)CC(O)(c1cccccc1-c1)c1nccnc(O)c1s1cccccc1)c1nccc(Br)cc1)(c1ccccc\n",
      "[19:49:24] SMILES Parse Error: Failed parsing SMILES 'C@@]2(c3ccc(F)cc(OC=3C[C@]3(c4[nH])c1)CC(O)(c1cccccc1-c1)c1nccnc(O)c1s1cccccc1)c1nccc(Br)cc1)(c1ccccc' for input: 'C@@]2(c3ccc(F)cc(OC=3C[C@]3(c4[nH])c1)CC(O)(c1cccccc1-c1)c1nccnc(O)c1s1cccccc1)c1nccc(Br)cc1)(c1ccccc'\n",
      " 13%|█████▎                                  | 132/1000 [01:58<14:38,  1.01s/it][19:49:25] SMILES Parse Error: syntax error while parsing: C@@@]1(c2nccoc2F)n1cccncc1)c1ccccc(O)(=O)n1)c1ccc(Br)cccn1)c1cccccn1)(C)=O\n",
      "CCC(C)(C)C(=O)N1C[C@@H]2Cc\n",
      "[19:49:25] SMILES Parse Error: Failed parsing SMILES 'C@@@]1(c2nccoc2F)n1cccncc1)c1ccccc(O)(=O)n1)c1ccc(Br)cccn1)c1cccccn1)(C)=O\n",
      "CCC(C)(C)C(=O)N1C[C@@H]2Cc' for input: 'C@@@]1(c2nccoc2F)n1cccncc1)c1ccccc(O)(=O)n1)c1ccc(Br)cccn1)c1cccccn1)(C)=O\n",
      "CCC(C)(C)C(=O)N1C[C@@H]2Cc'\n",
      " 13%|█████▎                                  | 133/1000 [01:58<14:24,  1.00it/s][19:49:26] SMILES Parse Error: extra close parentheses while parsing: Cc1cccc(O)c1)=NN2c1ccccno1)c1cccccc1(C)(=O)C(C)(C)C1=O)n1cc(C)ncc(c)c1cccccc(nc2c/csco2)C1=O)n1ncncc2\n",
      "[19:49:26] SMILES Parse Error: Failed parsing SMILES 'Cc1cccc(O)c1)=NN2c1ccccno1)c1cccccc1(C)(=O)C(C)(C)C1=O)n1cc(C)ncc(c)c1cccccc(nc2c/csco2)C1=O)n1ncncc2' for input: 'Cc1cccc(O)c1)=NN2c1ccccno1)c1cccccc1(C)(=O)C(C)(C)C1=O)n1cc(C)ncc(c)c1cccccc(nc2c/csco2)C1=O)n1ncncc2'\n",
      " 13%|█████▎                                  | 134/1000 [01:59<13:12,  1.09it/s][19:49:27] SMILES Parse Error: unclosed ring for input: 'C2\n",
      "CCC(=O)C1=O)=N(F)C(=O)OC(=O)C1Cc2ccc(C)nF(SC(=O)O)cc1nccc(c)c1cccccc2)nc(c()c1)\n",
      "CC(=O)C1=NN(C(=O)C'\n",
      " 14%|█████▍                                  | 135/1000 [02:00<12:41,  1.14it/s][19:49:28] SMILES Parse Error: extra close parentheses while parsing: C(F)(F)C1)c1ccccncc1nc(c)ccc(S)n3ccncc2)nc(n1)nc1cccncc1)c1cccc(F)n1N)C(=O)=c1ccccc(F)Cc1cccccc1)nc1)\n",
      "[19:49:28] SMILES Parse Error: Failed parsing SMILES 'C(F)(F)C1)c1ccccncc1nc(c)ccc(S)n3ccncc2)nc(n1)nc1cccncc1)c1cccc(F)n1N)C(=O)=c1ccccc(F)Cc1cccccc1)nc1)' for input: 'C(F)(F)C1)c1ccccncc1nc(c)ccc(S)n3ccncc2)nc(n1)nc1cccncc1)c1cccc(F)n1N)C(=O)=c1ccccc(F)Cc1cccccc1)nc1)'\n",
      " 14%|█████▍                                  | 136/1000 [02:01<13:39,  1.05it/s][19:49:29] SMILES Parse Error: extra close parentheses while parsing: CCNC(=O)C1)c2c(F)ccns2n1ccc(Br)cc(@)c1[nH]=1)c1ccc(Br)ccc2c(=O)n1Cc1ccccc1)n1ncc(C)coc1(S)n1cccncc1)c\n",
      "[19:49:29] SMILES Parse Error: Failed parsing SMILES 'CCNC(=O)C1)c2c(F)ccns2n1ccc(Br)cc(@)c1[nH]=1)c1ccc(Br)ccc2c(=O)n1Cc1ccccc1)n1ncc(C)coc1(S)n1cccncc1)c' for input: 'CCNC(=O)C1)c2c(F)ccns2n1ccc(Br)cc(@)c1[nH]=1)c1ccc(Br)ccc2c(=O)n1Cc1ccccc1)n1ncc(C)coc1(S)n1cccncc1)c'\n",
      " 14%|█████▍                                  | 137/1000 [02:02<14:11,  1.01it/s][19:49:30] SMILES Parse Error: syntax error while parsing: CCc2scnc2c(=O)nH]nc2c1)(C(=O)c1cccccn1)n1ccccc(c)c1)n1cccc(S(n)ccc2c(=O)n1Cc1ccccc(F)nFc1)c1cccc(F)cc\n",
      "[19:49:30] SMILES Parse Error: Failed parsing SMILES 'CCc2scnc2c(=O)nH]nc2c1)(C(=O)c1cccccn1)n1ccccc(c)c1)n1cccc(S(n)ccc2c(=O)n1Cc1ccccc(F)nFc1)c1cccc(F)cc' for input: 'CCc2scnc2c(=O)nH]nc2c1)(C(=O)c1cccccn1)n1ccccc(c)c1)n1cccc(S(n)ccc2c(=O)n1Cc1ccccc(F)nFc1)c1cccc(F)cc'\n",
      " 14%|█████▌                                  | 138/1000 [02:03<12:52,  1.12it/s][19:49:30] SMILES Parse Error: ring closure 1 duplicates bond between atom 8 and atom 9 for input: 'C(=O)C1Cc1cccc1n1ccccc(O)n1c(c2ccccc(F)c1)C(=O)C(F)(C)=O\n",
      "CC1=C3(CCS(=O)=O)(c1cccccc1)(c1)n1cccccc2c(c'\n",
      " 14%|█████▌                                  | 140/1000 [02:04<10:25,  1.37it/s][19:49:31] SMILES Parse Error: extra close parentheses while parsing: CO)N2\n",
      "CCC(c1ccccc(N)C(=O)C(F)(F)c1)C1=O\n",
      "CC1=CCC(c2ccoc3c1ccc(OC(=O)=c3cccsc(F)(c3ccccc\\)(F)cnc1)nc1cc\n",
      "[19:49:31] SMILES Parse Error: Failed parsing SMILES 'CO)N2\n",
      "CCC(c1ccccc(N)C(=O)C(F)(F)c1)C1=O\n",
      "CC1=CCC(c2ccoc3c1ccc(OC(=O)=c3cccsc(F)(c3ccccc\\)(F)cnc1)nc1cc' for input: 'CO)N2\n",
      "CCC(c1ccccc(N)C(=O)C(F)(F)c1)C1=O\n",
      "CC1=CCC(c2ccoc3c1ccc(OC(=O)=c3cccsc(F)(c3ccccc\\)(F)cnc1)nc1cc'\n",
      " 14%|█████▋                                  | 141/1000 [02:05<10:05,  1.42it/s][19:49:32] SMILES Parse Error: syntax error while parsing: Cc[nH]1c1ccccc1nncnc()nc1)c1cccc(F)ccc1nnc(-c2ccncc2c1nc(-c3c[nnH]nc2sI)c1ccc(O)ncc1)Cc1cccnn1)c1nccn\n",
      "[19:49:32] SMILES Parse Error: Failed parsing SMILES 'Cc[nH]1c1ccccc1nncnc()nc1)c1cccc(F)ccc1nnc(-c2ccncc2c1nc(-c3c[nnH]nc2sI)c1ccc(O)ncc1)Cc1cccnn1)c1nccn' for input: 'Cc[nH]1c1ccccc1nncnc()nc1)c1cccc(F)ccc1nnc(-c2ccncc2c1nc(-c3c[nnH]nc2sI)c1ccc(O)ncc1)Cc1cccnn1)c1nccn'\n",
      " 14%|█████▋                                  | 142/1000 [02:05<10:06,  1.42it/s][19:49:33] SMILES Parse Error: syntax error while parsing: CC(NC(=O)c2cnccnH]2)c2cccccnc2)nc1Cc1ccccc2c(n1)n1cccccc2)c1ccccccc1)n1cccccc1)(nc(=O)c1cccccc1ncccc2\n",
      "[19:49:33] SMILES Parse Error: Failed parsing SMILES 'CC(NC(=O)c2cnccnH]2)c2cccccnc2)nc1Cc1ccccc2c(n1)n1cccccc2)c1ccccccc1)n1cccccc1)(nc(=O)c1cccccc1ncccc2' for input: 'CC(NC(=O)c2cnccnH]2)c2cccccnc2)nc1Cc1ccccc2c(n1)n1cccccc2)c1ccccccc1)n1cccccc1)(nc(=O)c1cccccc1ncccc2'\n",
      " 14%|█████▋                                  | 143/1000 [02:06<09:49,  1.45it/s][19:49:33] SMILES Parse Error: extra close parentheses while parsing: Cc1cc(Br)ccc1[nH]nc1ccc(F)cc(F)c1)C1CCNC[C@@H]1c1ccccs(F)nc1\n",
      "CCCCc1ccc2Cc3nc(-c3ccc(F)cc34)[C@H](c3cc\n",
      "[19:49:33] SMILES Parse Error: Failed parsing SMILES 'Cc1cc(Br)ccc1[nH]nc1ccc(F)cc(F)c1)C1CCNC[C@@H]1c1ccccs(F)nc1\n",
      "CCCCc1ccc2Cc3nc(-c3ccc(F)cc34)[C@H](c3cc' for input: 'Cc1cc(Br)ccc1[nH]nc1ccc(F)cc(F)c1)C1CCNC[C@@H]1c1ccccs(F)nc1\n",
      "CCCCc1ccc2Cc3nc(-c3ccc(F)cc34)[C@H](c3cc'\n",
      " 14%|█████▊                                  | 144/1000 [02:07<09:05,  1.57it/s][19:49:34] SMILES Parse Error: extra close parentheses while parsing: C)C1)c1ccccc(F)cc1)N(C[C@@H]1c1ccOcccccc1)O1)[C@@H](F)C[C@@H]1c1cccc(C(=O)O)cc1)N(C)\n",
      "CCC(C)(C)c1ccc2c\n",
      "[19:49:34] SMILES Parse Error: Failed parsing SMILES 'C)C1)c1ccccc(F)cc1)N(C[C@@H]1c1ccOcccccc1)O1)[C@@H](F)C[C@@H]1c1cccc(C(=O)O)cc1)N(C)\n",
      "CCC(C)(C)c1ccc2c' for input: 'C)C1)c1ccccc(F)cc1)N(C[C@@H]1c1ccOcccccc1)O1)[C@@H](F)C[C@@H]1c1cccc(C(=O)O)cc1)N(C)\n",
      "CCC(C)(C)c1ccc2c'\n",
      " 14%|█████▊                                  | 145/1000 [02:07<09:24,  1.51it/s][19:49:35] SMILES Parse Error: extra close parentheses while parsing: C)(c2ccc(F)ccc2F)C[C@H]1c1cccccn1CC\n",
      "CCC(c1nccscn1)C(=O)c1ccc(SC(=O)cn1)c2cccsc2)n1ccccccc(SCN(C)C(=O)\n",
      "[19:49:35] SMILES Parse Error: Failed parsing SMILES 'C)(c2ccc(F)ccc2F)C[C@H]1c1cccccn1CC\n",
      "CCC(c1nccscn1)C(=O)c1ccc(SC(=O)cn1)c2cccsc2)n1ccccccc(SCN(C)C(=O)' for input: 'C)(c2ccc(F)ccc2F)C[C@H]1c1cccccn1CC\n",
      "CCC(c1nccscn1)C(=O)c1ccc(SC(=O)cn1)c2cccsc2)n1ccccccc(SCN(C)C(=O)'\n",
      " 15%|█████▊                                  | 146/1000 [02:08<09:15,  1.54it/s][19:49:36] SMILES Parse Error: extra close parentheses while parsing: C[C@H]1c1ccccc(O)(c2ccccc(O)c1)On1ccnccc(=O)c1)N2C1ccccc(O)n2ccnc(O)(C)n1)ccc1nccccccccc(c()c1)(c1ccc\n",
      "[19:49:36] SMILES Parse Error: Failed parsing SMILES 'C[C@H]1c1ccccc(O)(c2ccccc(O)c1)On1ccnccc(=O)c1)N2C1ccccc(O)n2ccnc(O)(C)n1)ccc1nccccccccc(c()c1)(c1ccc' for input: 'C[C@H]1c1ccccc(O)(c2ccccc(O)c1)On1ccnccc(=O)c1)N2C1ccccc(O)n2ccnc(O)(C)n1)ccc1nccccccccc(c()c1)(c1ccc'\n",
      " 15%|█████▉                                  | 147/1000 [02:09<10:38,  1.33it/s][19:49:37] SMILES Parse Error: syntax error while parsing: C@/C(=O)C1=C(C)=O)C1=NN(C(=O)C(C)(C\n",
      "CCC1N(CC)CC[C@@]2(c1sccccc2)n(C)n1cccc(nc1)c1cccccc1)S(=O)(=O)CC[\n",
      "[19:49:37] SMILES Parse Error: Failed parsing SMILES 'C@/C(=O)C1=C(C)=O)C1=NN(C(=O)C(C)(C\n",
      "CCC1N(CC)CC[C@@]2(c1sccccc2)n(C)n1cccc(nc1)c1cccccc1)S(=O)(=O)CC[' for input: 'C@/C(=O)C1=C(C)=O)C1=NN(C(=O)C(C)(C\n",
      "CCC1N(CC)CC[C@@]2(c1sccccc2)n(C)n1cccc(nc1)c1cccccc1)S(=O)(=O)CC['\n",
      " 15%|█████▉                                  | 148/1000 [02:10<12:12,  1.16it/s][19:49:38] SMILES Parse Error: extra close parentheses while parsing: C2)c1-c1scnccnc1CCl\n",
      "CC(=O)C1=N+(=O)C[C@@]2(C1)C1)c1ccccccc(c)c1nccnc(n)cc1)c1cccc(c2)nnc(=O)n1)c1cccc\n",
      "[19:49:38] SMILES Parse Error: Failed parsing SMILES 'C2)c1-c1scnccnc1CCl\n",
      "CC(=O)C1=N+(=O)C[C@@]2(C1)C1)c1ccccccc(c)c1nccnc(n)cc1)c1cccc(c2)nnc(=O)n1)c1cccc' for input: 'C2)c1-c1scnccnc1CCl\n",
      "CC(=O)C1=N+(=O)C[C@@]2(C1)C1)c1ccccccc(c)c1nccnc(n)cc1)c1cccc(c2)nnc(=O)n1)c1cccc'\n",
      " 15%|█████▉                                  | 149/1000 [02:11<12:41,  1.12it/s][19:49:39] SMILES Parse Error: extra close parentheses while parsing: CC/c3cccnc(C)c3cc4ccccc3)Sc3cccc(O)c3)Cc2cccc(O)nc2)(F)c1cccccc12\n",
      "C[C@@H](Nc1c(=N[C@@H](F)(F)F)c1cccc\n",
      "[19:49:39] SMILES Parse Error: Failed parsing SMILES 'CC/c3cccnc(C)c3cc4ccccc3)Sc3cccc(O)c3)Cc2cccc(O)nc2)(F)c1cccccc12\n",
      "C[C@@H](Nc1c(=N[C@@H](F)(F)F)c1cccc' for input: 'CC/c3cccnc(C)c3cc4ccccc3)Sc3cccc(O)c3)Cc2cccc(O)nc2)(F)c1cccccc12\n",
      "C[C@@H](Nc1c(=N[C@@H](F)(F)F)c1cccc'\n",
      " 15%|██████                                  | 150/1000 [02:12<13:13,  1.07it/s][19:49:40] SMILES Parse Error: extra close parentheses while parsing: Cs3)c12\n",
      "CC(=O)C1=C(c2cccc(Cl)cc2cnncc(2)(c1)c1cccccnc1)n1cccccccc4ccccc2c1)n1cccccc2c(cc1)NC(=O)C(=O)\n",
      "[19:49:40] SMILES Parse Error: Failed parsing SMILES 'Cs3)c12\n",
      "CC(=O)C1=C(c2cccc(Cl)cc2cnncc(2)(c1)c1cccccnc1)n1cccccccc4ccccc2c1)n1cccccc2c(cc1)NC(=O)C(=O)' for input: 'Cs3)c12\n",
      "CC(=O)C1=C(c2cccc(Cl)cc2cnncc(2)(c1)c1cccccnc1)n1cccccccc4ccccc2c1)n1cccccc2c(cc1)NC(=O)C(=O)'\n",
      " 15%|██████                                  | 151/1000 [02:13<13:07,  1.08it/s][19:49:40] SMILES Parse Error: extra close parentheses while parsing: COC(=O)C1)c1nccsc2ncc(=O)nc(-c2cccc(C)c2ncc[nH]c)c2)S1)(=O)=O\n",
      "CC(=OC1Cc2sc(cccc2c(=O)nnc/c)cc1)Cn1ccc\n",
      "[19:49:40] SMILES Parse Error: Failed parsing SMILES 'COC(=O)C1)c1nccsc2ncc(=O)nc(-c2cccc(C)c2ncc[nH]c)c2)S1)(=O)=O\n",
      "CC(=OC1Cc2sc(cccc2c(=O)nnc/c)cc1)Cn1ccc' for input: 'COC(=O)C1)c1nccsc2ncc(=O)nc(-c2cccc(C)c2ncc[nH]c)c2)S1)(=O)=O\n",
      "CC(=OC1Cc2sc(cccc2c(=O)nnc/c)cc1)Cn1ccc'\n",
      " 15%|██████                                  | 152/1000 [02:14<12:35,  1.12it/s][19:49:41] SMILES Parse Error: extra close parentheses while parsing: Cc1cnc(O)nc1Cc1cccnc1)[nH]c1c(ncccn(N)cnc(O)nc2ccc(C)no2)S1\n",
      "CC(=O)C1=NN(C(=O)C(C)(=O)C(C)(c2ccccc(F)c\n",
      "[19:49:41] SMILES Parse Error: Failed parsing SMILES 'Cc1cnc(O)nc1Cc1cccnc1)[nH]c1c(ncccn(N)cnc(O)nc2ccc(C)no2)S1\n",
      "CC(=O)C1=NN(C(=O)C(C)(=O)C(C)(c2ccccc(F)c' for input: 'Cc1cnc(O)nc1Cc1cccnc1)[nH]c1c(ncccn(N)cnc(O)nc2ccc(C)no2)S1\n",
      "CC(=O)C1=NN(C(=O)C(C)(=O)C(C)(c2ccccc(F)c'\n",
      " 15%|██████                                  | 153/1000 [02:15<13:16,  1.06it/s][19:49:43] SMILES Parse Error: extra close parentheses while parsing: C)c1ccccn1)Cc1cccnc1)c1ccccnc1)c1nc(Ccnc(C)c2c(n(cHccccc)cc2)c1cccccc1)n1ccc(O)cc1)[nH]1)C(=O)CC\n",
      "CCC(\n",
      "[19:49:43] SMILES Parse Error: Failed parsing SMILES 'C)c1ccccn1)Cc1cccnc1)c1ccccnc1)c1nc(Ccnc(C)c2c(n(cHccccc)cc2)c1cccccc1)n1ccc(O)cc1)[nH]1)C(=O)CC\n",
      "CCC(' for input: 'C)c1ccccn1)Cc1cccnc1)c1ccccnc1)c1nc(Ccnc(C)c2c(n(cHccccc)cc2)c1cccccc1)n1ccc(O)cc1)[nH]1)C(=O)CC\n",
      "CCC('\n",
      " 15%|██████▏                                 | 154/1000 [02:16<14:14,  1.01s/it][19:49:44] SMILES Parse Error: syntax error while parsing: C[C@H](c3ccc(OC(F)(F)F)cc3OC[C@H]2[C@@]1(CCCO)c1ccccnc(F)c1)C(=O)C(C)(C)[F)C(=O)C1CCOc(c2ccc(C(=O)OC)\n",
      "[19:49:44] SMILES Parse Error: Failed parsing SMILES 'C[C@H](c3ccc(OC(F)(F)F)cc3OC[C@H]2[C@@]1(CCCO)c1ccccnc(F)c1)C(=O)C(C)(C)[F)C(=O)C1CCOc(c2ccc(C(=O)OC)' for input: 'C[C@H](c3ccc(OC(F)(F)F)cc3OC[C@H]2[C@@]1(CCCO)c1ccccnc(F)c1)C(=O)C(C)(C)[F)C(=O)C1CCOc(c2ccc(C(=O)OC)'\n",
      " 16%|██████▏                                 | 155/1000 [02:17<14:40,  1.04s/it][19:49:45] SMILES Parse Error: extra close parentheses while parsing: C)(=O)=O)c1ncc[nH]c1)c1cccc(nH(c)cc2c1nonc(S)Hc2c1ncnn(c2ccc(S(N)(C)=O)ccc2)n1)N(C(=O)CC[C@=C(C)=O)C1\n",
      "[19:49:45] SMILES Parse Error: Failed parsing SMILES 'C)(=O)=O)c1ncc[nH]c1)c1cccc(nH(c)cc2c1nonc(S)Hc2c1ncnn(c2ccc(S(N)(C)=O)ccc2)n1)N(C(=O)CC[C@=C(C)=O)C1' for input: 'C)(=O)=O)c1ncc[nH]c1)c1cccc(nH(c)cc2c1nonc(S)Hc2c1ncnn(c2ccc(S(N)(C)=O)ccc2)n1)N(C(=O)CC[C@=C(C)=O)C1'\n",
      " 16%|██████▏                                 | 156/1000 [02:18<14:26,  1.03s/it][19:49:46] SMILES Parse Error: extra close parentheses while parsing: C2)c1-c1ccccc1nc1ccccc(F)c1\n",
      "CCC(c1ccccc1n1Oc2ccc(/C)ncc(Br)cc2C)[C@@H]1CC[C@@](C)(c1cccncc1)c1ccccnc1\n",
      "[19:49:46] SMILES Parse Error: Failed parsing SMILES 'C2)c1-c1ccccc1nc1ccccc(F)c1\n",
      "CCC(c1ccccc1n1Oc2ccc(/C)ncc(Br)cc2C)[C@@H]1CC[C@@](C)(c1cccncc1)c1ccccnc1' for input: 'C2)c1-c1ccccc1nc1ccccc(F)c1\n",
      "CCC(c1ccccc1n1Oc2ccc(/C)ncc(Br)cc2C)[C@@H]1CC[C@@](C)(c1cccncc1)c1ccccnc1'\n",
      " 16%|██████▎                                 | 157/1000 [02:19<14:43,  1.05s/it][19:49:47] SMILES Parse Error: extra close parentheses while parsing: Cc3co3)S2)SC(=C(O)(=O)c1cccsc1)c1ccccccc2c1nccc(O)ncc(s)c2)C(CC1)c1ccccccc1Cc1ccccnn1)c1ccc(C)cc1n1cc\n",
      "[19:49:47] SMILES Parse Error: Failed parsing SMILES 'Cc3co3)S2)SC(=C(O)(=O)c1cccsc1)c1ccccccc2c1nccc(O)ncc(s)c2)C(CC1)c1ccccccc1Cc1ccccnn1)c1ccc(C)cc1n1cc' for input: 'Cc3co3)S2)SC(=C(O)(=O)c1cccsc1)c1ccccccc2c1nccc(O)ncc(s)c2)C(CC1)c1ccccccc1Cc1ccccnn1)c1ccc(C)cc1n1cc'\n",
      " 16%|██████▎                                 | 158/1000 [02:20<14:00,  1.00it/s][19:49:48] SMILES Parse Error: extra close parentheses while parsing: C)(c2scncn2)S(=O)(=O)C1(c2ccccc(F)c(C)nnc2)c=c1nccc(F)cc1)nc1ccccccc1ccccccc1)cc1cccccc1)n1ccccccc2cc\n",
      "[19:49:48] SMILES Parse Error: Failed parsing SMILES 'C)(c2scncn2)S(=O)(=O)C1(c2ccccc(F)c(C)nnc2)c=c1nccc(F)cc1)nc1ccccccc1ccccccc1)cc1cccccc1)n1ccccccc2cc' for input: 'C)(c2scncn2)S(=O)(=O)C1(c2ccccc(F)c(C)nnc2)c=c1nccc(F)cc1)nc1ccccccc1ccccccc1)cc1cccccc1)n1ccccccc2cc'\n",
      " 16%|██████▎                                 | 159/1000 [02:21<13:28,  1.04it/s][19:49:49] SMILES Parse Error: extra close parentheses while parsing: CN2C(=O)CC(=O)c1cccsc1)N2\n",
      "CC(C(=O)C1c1cccnc1)n1ccccc(=O)no1)c1ccccc(F)(cc1)n1ccccccc1)nccnc1)c1cccccc\n",
      "[19:49:49] SMILES Parse Error: Failed parsing SMILES 'CN2C(=O)CC(=O)c1cccsc1)N2\n",
      "CC(C(=O)C1c1cccnc1)n1ccccc(=O)no1)c1ccccc(F)(cc1)n1ccccccc1)nccnc1)c1cccccc' for input: 'CN2C(=O)CC(=O)c1cccsc1)N2\n",
      "CC(C(=O)C1c1cccnc1)n1ccccc(=O)no1)c1ccccc(F)(cc1)n1ccccccc1)nccnc1)c1cccccc'\n",
      " 16%|██████▍                                 | 160/1000 [02:22<14:10,  1.01s/it][19:49:49] SMILES Parse Error: extra close parentheses while parsing: Cs#N)C(=O)c1c[nH]nc1)c1ccccccc1)n1cccccc2c(c1)c1ccccno2)sc1cccccc1\n",
      "CCC(c1cccccc1C)n1cccc()(N)=O)n1)c1\n",
      "[19:49:49] SMILES Parse Error: Failed parsing SMILES 'Cs#N)C(=O)c1c[nH]nc1)c1ccccccc1)n1cccccc2c(c1)c1ccccno2)sc1cccccc1\n",
      "CCC(c1cccccc1C)n1cccc()(N)=O)n1)c1' for input: 'Cs#N)C(=O)c1c[nH]nc1)c1ccccccc1)n1cccccc2c(c1)c1ccccno2)sc1cccccc1\n",
      "CCC(c1cccccc1C)n1cccc()(N)=O)n1)c1'\n",
      " 16%|██████▍                                 | 161/1000 [02:23<12:26,  1.12it/s][19:49:50] SMILES Parse Error: extra close parentheses while parsing: C)c1cccn2c1cccccn1)C2=CCNC1Cc(ccccs2)n1cccncc1)c1ccccn(C)(c2ccncc(O)cc1)nc1cccccc1)nccccc1nc2ccccc2c1\n",
      "[19:49:50] SMILES Parse Error: Failed parsing SMILES 'C)c1cccn2c1cccccn1)C2=CCNC1Cc(ccccs2)n1cccncc1)c1ccccn(C)(c2ccncc(O)cc1)nc1cccccc1)nccccc1nc2ccccc2c1' for input: 'C)c1cccn2c1cccccn1)C2=CCNC1Cc(ccccs2)n1cccncc1)c1ccccn(C)(c2ccncc(O)cc1)nc1cccccc1)nccccc1nc2ccccc2c1'\n",
      " 16%|██████▍                                 | 162/1000 [02:23<11:12,  1.25it/s][19:49:51] SMILES Parse Error: syntax error while parsing: C@H]1c1cccccc1n1cccc(2)\\C)n1)C1c1cccc(O)nc1)c1cccccc1n1icnc(O)c2cccsc2ccc(c1)ncc(C)n1HCc1cccc(F)(F)cc\n",
      "[19:49:51] SMILES Parse Error: Failed parsing SMILES 'C@H]1c1cccccc1n1cccc(2)\\C)n1)C1c1cccc(O)nc1)c1cccccc1n1icnc(O)c2cccsc2ccc(c1)ncc(C)n1HCc1cccc(F)(F)cc' for input: 'C@H]1c1cccccc1n1cccc(2)\\C)n1)C1c1cccc(O)nc1)c1cccccc1n1icnc(O)c2cccsc2ccc(c1)ncc(C)n1HCc1cccc(F)(F)cc'\n",
      " 16%|██████▌                                 | 163/1000 [02:24<12:34,  1.11it/s][19:49:52] SMILES Parse Error: syntax error while parsing: C2c1cccc(O)(C)c1ccccc(nHnc1)c1cccccnc(F)c1ccccc(F)(c1)nc1cccccccc1)ncc(sc(cnc)cc1nc(cc2ccc(OC)ccc2Br)\n",
      "[19:49:52] SMILES Parse Error: Failed parsing SMILES 'C2c1cccc(O)(C)c1ccccc(nHnc1)c1cccccnc(F)c1ccccc(F)(c1)nc1cccccccc1)ncc(sc(cnc)cc1nc(cc2ccc(OC)ccc2Br)' for input: 'C2c1cccc(O)(C)c1ccccc(nHnc1)c1cccccnc(F)c1ccccc(F)(c1)nc1cccccccc1)ncc(sc(cnc)cc1nc(cc2ccc(OC)ccc2Br)'\n",
      " 16%|██████▌                                 | 165/1000 [02:26<13:14,  1.05it/s][19:49:54] SMILES Parse Error: unclosed ring for input: 'C(=O)C(C)(c2ccccco2)S1\n",
      "CCC(c1cccc(C)nc1)C2=C[C@H](OC(=O)C[C1Hc1cccccc1)nc1cc(O)n1c(c)cc(F)ccc1cccccc('\n",
      " 17%|██████▋                                 | 166/1000 [02:27<11:55,  1.17it/s][19:49:54] SMILES Parse Error: extra close parentheses while parsing: C)(C)c1cccc2ncncn2)n1cccccc(c)nc()c2cc(F)ccc1)n1cccc2cccccc2ccncc1)n1cccccc2c1ccccc(F)cc1)N(CC1CCC1)S\n",
      "[19:49:54] SMILES Parse Error: Failed parsing SMILES 'C)(C)c1cccc2ncncn2)n1cccccc(c)nc()c2cc(F)ccc1)n1cccc2cccccc2ccncc1)n1cccccc2c1ccccc(F)cc1)N(CC1CCC1)S' for input: 'C)(C)c1cccc2ncncn2)n1cccccc(c)nc()c2cc(F)ccc1)n1cccc2cccccc2ccncc1)n1cccccc2c1ccccc(F)cc1)N(CC1CCC1)S'\n",
      " 17%|██████▋                                 | 167/1000 [02:28<10:54,  1.27it/s][19:49:55] SMILES Parse Error: extra close parentheses while parsing: CN[C@@H]4)c1\n",
      "CC1=C=C(C(=O)C2=C(C1)=n1NC(=O)C(c1ccccnc)c1)C1(C)CCN)c1ccccc(F)(=O)n1Cc1cccc(Br)cc1)n1cc\n",
      "[19:49:55] SMILES Parse Error: Failed parsing SMILES 'CN[C@@H]4)c1\n",
      "CC1=C=C(C(=O)C2=C(C1)=n1NC(=O)C(c1ccccnc)c1)C1(C)CCN)c1ccccc(F)(=O)n1Cc1cccc(Br)cc1)n1cc' for input: 'CN[C@@H]4)c1\n",
      "CC1=C=C(C(=O)C2=C(C1)=n1NC(=O)C(c1ccccnc)c1)C1(C)CCN)c1ccccc(F)(=O)n1Cc1cccc(Br)cc1)n1cc'\n",
      " 17%|██████▋                                 | 168/1000 [02:29<11:33,  1.20it/s][19:49:56] SMILES Parse Error: extra close parentheses while parsing: CNC[C@@H]21)c1cccccn1)Cc1ccccncc1)nc1)n1c(ccccnc2)nc1ncc(F)cc1)C1C(=O)C1c1cccc(O)(C)c1ccccncc1)c1cccc\n",
      "[19:49:56] SMILES Parse Error: Failed parsing SMILES 'CNC[C@@H]21)c1cccccn1)Cc1ccccncc1)nc1)n1c(ccccnc2)nc1ncc(F)cc1)C1C(=O)C1c1cccc(O)(C)c1ccccncc1)c1cccc' for input: 'CNC[C@@H]21)c1cccccn1)Cc1ccccncc1)nc1)n1c(ccccnc2)nc1ncc(F)cc1)C1C(=O)C1c1cccc(O)(C)c1ccccncc1)c1cccc'\n",
      " 17%|██████▊                                 | 169/1000 [02:30<12:40,  1.09it/s][19:49:57] SMILES Parse Error: extra close parentheses while parsing: C(F)C1)c1ccccccOC(F)(F)c1ncncc(n-c3ccc(Br)cc(F)c1)N2\n",
      "CCC(C(SC=O)C1Cc1cccccc1)Cc1ccccc(F)ccc1=CNOC(C)=\n",
      "[19:49:57] SMILES Parse Error: Failed parsing SMILES 'C(F)C1)c1ccccccOC(F)(F)c1ncncc(n-c3ccc(Br)cc(F)c1)N2\n",
      "CCC(C(SC=O)C1Cc1cccccc1)Cc1ccccc(F)ccc1=CNOC(C)=' for input: 'C(F)C1)c1ccccccOC(F)(F)c1ncncc(n-c3ccc(Br)cc(F)c1)N2\n",
      "CCC(C(SC=O)C1Cc1cccccc1)Cc1ccccc(F)ccc1=CNOC(C)='\n",
      " 17%|██████▊                                 | 170/1000 [02:31<13:05,  1.06it/s][19:49:58] SMILES Parse Error: unclosed ring for input: 'C1\n",
      "CCC(c1cccc(O)c(F)c1)N[C@H]1c1cccccc1CCn1ccc(O)nc1)n1cccc(Br)(c2cccccc(=O)cc1)n1ccccn(c)cc1)nc1cccc'\n",
      " 17%|██████▊                                 | 171/1000 [02:32<13:24,  1.03it/s][19:49:59] SMILES Parse Error: syntax error while parsing: C(=O)C1=NN2c3cccc(O)cc3c2cccc(O)N2CCiC=C/C1)c1ccccc(c)c1)[nH]c1ccccc(O)(O)c1scccnc1)nc1c1CC1\n",
      "CC(C(C)C\n",
      "[19:49:59] SMILES Parse Error: Failed parsing SMILES 'C(=O)C1=NN2c3cccc(O)cc3c2cccc(O)N2CCiC=C/C1)c1ccccc(c)c1)[nH]c1ccccc(O)(O)c1scccnc1)nc1c1CC1\n",
      "CC(C(C)C' for input: 'C(=O)C1=NN2c3cccc(O)cc3c2cccc(O)N2CCiC=C/C1)c1ccccc(c)c1)[nH]c1ccccc(O)(O)c1scccnc1)nc1c1CC1\n",
      "CC(C(C)C'\n",
      " 17%|██████▉                                 | 172/1000 [02:32<11:25,  1.21it/s][19:49:59] SMILES Parse Error: syntax error while parsing: C@@]1(-c3scccn2)nnc1)N=C(c3cc(F)ccc3OC[C@@]32F)nnc1Cc1ccc(Br)cc1)(=O)=c1cccc(Br)ccc1)n1ccc(Br)cncc1)n\n",
      "[19:49:59] SMILES Parse Error: Failed parsing SMILES 'C@@]1(-c3scccn2)nnc1)N=C(c3cc(F)ccc3OC[C@@]32F)nnc1Cc1ccc(Br)cc1)(=O)=c1cccc(Br)ccc1)n1ccc(Br)cncc1)n' for input: 'C@@]1(-c3scccn2)nnc1)N=C(c3cc(F)ccc3OC[C@@]32F)nnc1Cc1ccc(Br)cc1)(=O)=c1cccc(Br)ccc1)n1ccc(Br)cncc1)n'\n",
      " 17%|██████▉                                 | 173/1000 [02:33<10:07,  1.36it/s][19:50:00] SMILES Parse Error: extra close parentheses while parsing: C)CCS(=O)(=O)NC(=N(C)=O)C1c1cccc(-c)cc(Br)c1)c1cccccc1)c1c(=O)n1Cc1cccsc1)c1ncccc(F)cc1)S(=O)(=O)C[C@\n",
      "[19:50:00] SMILES Parse Error: Failed parsing SMILES 'C)CCS(=O)(=O)NC(=N(C)=O)C1c1cccc(-c)cc(Br)c1)c1cccccc1)c1c(=O)n1Cc1cccsc1)c1ncccc(F)cc1)S(=O)(=O)C[C@' for input: 'C)CCS(=O)(=O)NC(=N(C)=O)C1c1cccc(-c)cc(Br)c1)c1cccccc1)c1c(=O)n1Cc1cccsc1)c1ncccc(F)cc1)S(=O)(=O)C[C@'\n",
      " 17%|██████▉                                 | 174/1000 [02:33<09:11,  1.50it/s][19:50:01] SMILES Parse Error: extra close parentheses while parsing: C4)c1\n",
      "CC(=O)C1)c1cccccc1n1ncccc(c2ccccc(O)Hc1)[nH]1c1ccc(OC)c(O)cc1)OCCc1ccccc(O)n1Cc1ccccc(F)(c1)Cc1\n",
      "[19:50:01] SMILES Parse Error: Failed parsing SMILES 'C4)c1\n",
      "CC(=O)C1)c1cccccc1n1ncccc(c2ccccc(O)Hc1)[nH]1c1ccc(OC)c(O)cc1)OCCc1ccccc(O)n1Cc1ccccc(F)(c1)Cc1' for input: 'C4)c1\n",
      "CC(=O)C1)c1cccccc1n1ncccc(c2ccccc(O)Hc1)[nH]1c1ccc(OC)c(O)cc1)OCCc1ccccc(O)n1Cc1ccccc(F)(c1)Cc1'\n",
      " 18%|███████                                 | 175/1000 [02:34<09:13,  1.49it/s][19:50:01] SMILES Parse Error: extra close parentheses while parsing: CCc3c(sc(O)nc3c2ccc(F)cc34)[C@H]1OCCCc1cccoc1)n1cccc(N(C)C)(c1nccsc(-c)cc1)n1ccccc(nc(c)cc1=O)c1ccccc\n",
      "[19:50:01] SMILES Parse Error: Failed parsing SMILES 'CCc3c(sc(O)nc3c2ccc(F)cc34)[C@H]1OCCCc1cccoc1)n1cccc(N(C)C)(c1nccsc(-c)cc1)n1ccccc(nc(c)cc1=O)c1ccccc' for input: 'CCc3c(sc(O)nc3c2ccc(F)cc34)[C@H]1OCCCc1cccoc1)n1cccc(N(C)C)(c1nccsc(-c)cc1)n1ccccc(nc(c)cc1=O)c1ccccc'\n",
      " 18%|███████                                 | 176/1000 [02:34<08:38,  1.59it/s][19:50:02] SMILES Parse Error: extra close parentheses while parsing: C(=O)C1CCc1ccccnc1)n1ccc(ncc(c(C)c(=O)n1)c1cc[nH]c1)c1ccccs1)n1ccccccc(=O)n2cccc(F)cc1)c1ccccccc2c1nc\n",
      "[19:50:02] SMILES Parse Error: Failed parsing SMILES 'C(=O)C1CCc1ccccnc1)n1ccc(ncc(c(C)c(=O)n1)c1cc[nH]c1)c1ccccs1)n1ccccccc(=O)n2cccc(F)cc1)c1ccccccc2c1nc' for input: 'C(=O)C1CCc1ccccnc1)n1ccc(ncc(c(C)c(=O)n1)c1cc[nH]c1)c1ccccs1)n1ccccccc(=O)n2cccc(F)cc1)c1ccccccc2c1nc'\n",
      " 18%|███████                                 | 177/1000 [02:35<08:27,  1.62it/s][19:50:03] SMILES Parse Error: extra close parentheses while parsing: C(SC1)c1cccc(-c3cccnno3)S1)(=O)=NC(=O)C(C)(C)C\n",
      "CC(/C(=O)=C(=O)C1=NN(c2cc(F)ccc2F)CN(CC1CC[C@1)(C)c1cc\n",
      "[19:50:03] SMILES Parse Error: Failed parsing SMILES 'C(SC1)c1cccc(-c3cccnno3)S1)(=O)=NC(=O)C(C)(C)C\n",
      "CC(/C(=O)=C(=O)C1=NN(c2cc(F)ccc2F)CN(CC1CC[C@1)(C)c1cc' for input: 'C(SC1)c1cccc(-c3cccnno3)S1)(=O)=NC(=O)C(C)(C)C\n",
      "CC(/C(=O)=C(=O)C1=NN(c2cc(F)ccc2F)CN(CC1CC[C@1)(C)c1cc'\n",
      " 18%|███████                                 | 178/1000 [02:36<10:34,  1.29it/s][19:50:04] SMILES Parse Error: extra close parentheses while parsing: C(F)(F)C1)c1ccccc(n1)nc1cccccc(n1)c1cccccc1)nc1ccccccc1)nccccccncc1)c1ccccccc(nc1)nc1cccccc1cccccc1)n\n",
      "[19:50:04] SMILES Parse Error: Failed parsing SMILES 'C(F)(F)C1)c1ccccc(n1)nc1cccccc(n1)c1cccccc1)nc1ccccccc1)nccccccncc1)c1ccccccc(nc1)nc1cccccc1cccccc1)n' for input: 'C(F)(F)C1)c1ccccc(n1)nc1cccccc(n1)c1cccccc1)nc1ccccccc1)nccccccncc1)c1ccccccc(nc1)nc1cccccc1cccccc1)n'\n",
      " 18%|███████▏                                | 179/1000 [02:37<11:12,  1.22it/s][19:50:05] SMILES Parse Error: syntax error while parsing: C1C/C(=N@N)(c3ccc(Br)cc(F)(F)F)cc2)nsc()n1)c1ccccccc1C(=O)C(=O)OC)\n",
      "CC(CC#NC(=O)C1=NN(C(=O)C(C)(F)Cc1c\n",
      "[19:50:05] SMILES Parse Error: Failed parsing SMILES 'C1C/C(=N@N)(c3ccc(Br)cc(F)(F)F)cc2)nsc()n1)c1ccccccc1C(=O)C(=O)OC)\n",
      "CC(CC#NC(=O)C1=NN(C(=O)C(C)(F)Cc1c' for input: 'C1C/C(=N@N)(c3ccc(Br)cc(F)(F)F)cc2)nsc()n1)c1ccccccc1C(=O)C(=O)OC)\n",
      "CC(CC#NC(=O)C1=NN(C(=O)C(C)(F)Cc1c'\n",
      " 18%|███████▏                                | 180/1000 [02:38<12:20,  1.11it/s][19:50:06] SMILES Parse Error: unclosed ring for input: 'C(=S)N1\n",
      "CCOC(=O)C1Cc2c(ccc(C)nc2C)C1ccc(C)nc1)C(=O)c1ccccnc1)n1cccc(Br)cc1)N2\n",
      "CC(C)(C)c1ccc2nccnc2c(='\n",
      " 18%|███████▏                                | 181/1000 [02:39<13:06,  1.04it/s][19:50:07] SMILES Parse Error: extra close parentheses while parsing: CCOC(=O)C1=C(C)Sc1cccncc1)c1ccccc(O)(F)c1)n1ccccc(c2)nn2cncnc2c)OCO)n1ccc(F)ccc(F)c1)N2\n",
      "CC(=O)C1=N(C(\n",
      "[19:50:07] SMILES Parse Error: Failed parsing SMILES 'CCOC(=O)C1=C(C)Sc1cccncc1)c1ccccc(O)(F)c1)n1ccccc(c2)nn2cncnc2c)OCO)n1ccc(F)ccc(F)c1)N2\n",
      "CC(=O)C1=N(C(' for input: 'CCOC(=O)C1=C(C)Sc1cccncc1)c1ccccc(O)(F)c1)n1ccccc(c2)nn2cncnc2c)OCO)n1ccc(F)ccc(F)c1)N2\n",
      "CC(=O)C1=N(C('\n",
      " 18%|███████▎                                | 182/1000 [02:40<12:41,  1.07it/s][19:50:08] SMILES Parse Error: unclosed ring for input: 'CO1\n",
      "CCCC1[C@@H]2[C@H]1c1c1ccc(F)ccc1F)=NN1C(C)=O)C(C)(C)C\n",
      "CC(=O)/C(=O)C1CCc1cscc(F)cc1)S2=NC(=NO)C(=O'\n",
      " 18%|███████▎                                | 183/1000 [02:41<12:24,  1.10it/s][19:50:08] SMILES Parse Error: extra close parentheses while parsing: Cc3Cc3cc(F)cnc3)N2C1=O\n",
      "CCC(c1ccccc1)C)nnc1nccc(c2c(C)c[nnH]nc2N1CCc2ccc(F)cc32)C1[nH]S1nccccc1)(c1ncc\n",
      "[19:50:08] SMILES Parse Error: Failed parsing SMILES 'Cc3Cc3cc(F)cnc3)N2C1=O\n",
      "CCC(c1ccccc1)C)nnc1nccc(c2c(C)c[nnH]nc2N1CCc2ccc(F)cc32)C1[nH]S1nccccc1)(c1ncc' for input: 'Cc3Cc3cc(F)cnc3)N2C1=O\n",
      "CCC(c1ccccc1)C)nnc1nccc(c2c(C)c[nnH]nc2N1CCc2ccc(F)cc32)C1[nH]S1nccccc1)(c1ncc'\n",
      " 18%|███████▎                                | 184/1000 [02:42<11:23,  1.19it/s][19:50:10] SMILES Parse Error: extra close parentheses while parsing: C(S)=O)=n1ccc(F(F)cccc2c(NC(=O)n1ccccN(C)ncc2O)n1)c1cccccc1)n1cccc(nc)cc1ccccc(=O)n1Cc1cccccc1)n1cccc\n",
      "[19:50:10] SMILES Parse Error: Failed parsing SMILES 'C(S)=O)=n1ccc(F(F)cccc2c(NC(=O)n1ccccN(C)ncc2O)n1)c1cccccc1)n1cccc(nc)cc1ccccc(=O)n1Cc1cccccc1)n1cccc' for input: 'C(S)=O)=n1ccc(F(F)cccc2c(NC(=O)n1ccccN(C)ncc2O)n1)c1cccccc1)n1cccc(nc)cc1ccccc(=O)n1Cc1cccccc1)n1cccc'\n",
      " 18%|███████▍                                | 185/1000 [02:43<12:22,  1.10it/s][19:50:10] SMILES Parse Error: extra close parentheses while parsing: CC1=C(C(=O)CC1)C1c1c(-ccccnN)cc1)(C)(C)(=O)C(=O\n",
      "CC(C)(C)c1ccc2c(ccccc(N(C)C(=O)O)nc1)c1cccoc1)n1ccccc\n",
      "[19:50:10] SMILES Parse Error: Failed parsing SMILES 'CC1=C(C(=O)CC1)C1c1c(-ccccnN)cc1)(C)(C)(=O)C(=O\n",
      "CC(C)(C)c1ccc2c(ccccc(N(C)C(=O)O)nc1)c1cccoc1)n1ccccc' for input: 'CC1=C(C(=O)CC1)C1c1c(-ccccnN)cc1)(C)(C)(=O)C(=O\n",
      "CC(C)(C)c1ccc2c(ccccc(N(C)C(=O)O)nc1)c1cccoc1)n1ccccc'\n",
      " 19%|███████▍                                | 186/1000 [02:44<12:08,  1.12it/s][19:50:11] SMILES Parse Error: extra open parentheses for input: 'CC(C)(c2ccc(OC(=O)C(C)(C)n2cc3cc(Br)cc(F)c(NC2=NCCO)ccc3c2)S1\n",
      "CC1=C(C(=O)OCc2c(ncc(NC(F)(F)F)ccc2)n1)'\n",
      " 19%|███████▍                                | 187/1000 [02:44<10:49,  1.25it/s][19:50:11] SMILES Parse Error: extra close parentheses while parsing: Cc2sc(NC(=O)O)nc3ccsc3)n2nc(nH]c34)SC(=O)=O)cc2)SC(N=2)(=O)=1\n",
      "CCC(C)C(=O)NC1=NN(C(=O)C(=O)C(=O)C(=O)=\n",
      "[19:50:11] SMILES Parse Error: Failed parsing SMILES 'Cc2sc(NC(=O)O)nc3ccsc3)n2nc(nH]c34)SC(=O)=O)cc2)SC(N=2)(=O)=1\n",
      "CCC(C)C(=O)NC1=NN(C(=O)C(=O)C(=O)C(=O)=' for input: 'Cc2sc(NC(=O)O)nc3ccsc3)n2nc(nH]c34)SC(=O)=O)cc2)SC(N=2)(=O)=1\n",
      "CCC(C)C(=O)NC1=NN(C(=O)C(=O)C(=O)C(=O)='\n",
      " 19%|███████▌                                | 188/1000 [02:45<09:33,  1.42it/s][19:50:12] SMILES Parse Error: extra close parentheses while parsing: CC)C(=O)C1=C(C)(c2cocccc1)ncccc2c1cccccc1)C(=O)C[C@H]1OCc1cccc(C)n1Cc1cccnc(()c(nc)cc1)(=O)F)c1ccccc(\n",
      "[19:50:12] SMILES Parse Error: Failed parsing SMILES 'CC)C(=O)C1=C(C)(c2cocccc1)ncccc2c1cccccc1)C(=O)C[C@H]1OCc1cccc(C)n1Cc1cccnc(()c(nc)cc1)(=O)F)c1ccccc(' for input: 'CC)C(=O)C1=C(C)(c2cocccc1)ncccc2c1cccccc1)C(=O)C[C@H]1OCc1cccc(C)n1Cc1cccnc(()c(nc)cc1)(=O)F)c1ccccc('\n",
      " 19%|███████▌                                | 189/1000 [02:45<09:18,  1.45it/s][19:50:13] SMILES Parse Error: syntax error while parsing: C@H](F)C1\n",
      "CC1=C(C(=O)C1=OOC)C(=O)c1cccc(C)ns1)c1cccccc1)nc1cccccc1ncccc1)ccccc1)c1cccccc(O)c1)n1ccccc\n",
      "[19:50:13] SMILES Parse Error: Failed parsing SMILES 'C@H](F)C1\n",
      "CC1=C(C(=O)C1=OOC)C(=O)c1cccc(C)ns1)c1cccccc1)nc1cccccc1ncccc1)ccccc1)c1cccccc(O)c1)n1ccccc' for input: 'C@H](F)C1\n",
      "CC1=C(C(=O)C1=OOC)C(=O)c1cccc(C)ns1)c1cccccc1)nc1cccccc1ncccc1)ccccc1)c1cccccc(O)c1)n1ccccc'\n",
      " 19%|███████▌                                | 190/1000 [02:46<08:39,  1.56it/s][19:50:13] SMILES Parse Error: unclosed ring for input: 'C2\n",
      "CC=C(B1-C(=CNSC(@H]2CCCc3c(=O)C3c1ccc(O)ccc2n1)c1cccsc1)n1ccc(nnc2cccc(O)nc1)c1cccc(F)ccc1nnns1)c('\n",
      " 19%|███████▋                                | 191/1000 [02:46<08:16,  1.63it/s][19:50:14] SMILES Parse Error: extra close parentheses while parsing: C)[C@H](N)C(=O)N1CCc2c2ccccc2C(=O)C1)NC(=S)N[C@@H]1c1cccc(O)nc1)c1ccc(F)ccc1ncccsc2c1ccc((=O)nncn2c1c\n",
      "[19:50:14] SMILES Parse Error: Failed parsing SMILES 'C)[C@H](N)C(=O)N1CCc2c2ccccc2C(=O)C1)NC(=S)N[C@@H]1c1cccc(O)nc1)c1ccc(F)ccc1ncccsc2c1ccc((=O)nncn2c1c' for input: 'C)[C@H](N)C(=O)N1CCc2c2ccccc2C(=O)C1)NC(=S)N[C@@H]1c1cccc(O)nc1)c1ccc(F)ccc1ncccsc2c1ccc((=O)nncn2c1c'\n",
      " 19%|███████▋                                | 192/1000 [02:47<08:09,  1.65it/s][19:50:14] SMILES Parse Error: extra close parentheses while parsing: C(=O)C(C)(C)SC1(c2ccccc(F)cnc2ccncnc(F)cc2)n1-c1ccccc1)nnc1CC\n",
      "CCC(C)(C)c1ccc(N3CC(O)(c4cc(F)ccc3O2)C1\n",
      "[19:50:14] SMILES Parse Error: Failed parsing SMILES 'C(=O)C(C)(C)SC1(c2ccccc(F)cnc2ccncnc(F)cc2)n1-c1ccccc1)nnc1CC\n",
      "CCC(C)(C)c1ccc(N3CC(O)(c4cc(F)ccc3O2)C1' for input: 'C(=O)C(C)(C)SC1(c2ccccc(F)cnc2ccncnc(F)cc2)n1-c1ccccc1)nnc1CC\n",
      "CCC(C)(C)c1ccc(N3CC(O)(c4cc(F)ccc3O2)C1'\n",
      " 19%|███████▋                                | 193/1000 [02:48<07:58,  1.69it/s][19:50:15] SMILES Parse Error: extra close parentheses while parsing: CSC[C@H]1[C@H]1c1ccc(O)ccc(C)(c1(=O)C(=O)O)(=O)C(=O)c1cccccc1)nc1c1ccc(C)n(C)nc1)c1ccccc(B)(O)c1ccccc\n",
      "[19:50:15] SMILES Parse Error: Failed parsing SMILES 'CSC[C@H]1[C@H]1c1ccc(O)ccc(C)(c1(=O)C(=O)O)(=O)C(=O)c1cccccc1)nc1c1ccc(C)n(C)nc1)c1ccccc(B)(O)c1ccccc' for input: 'CSC[C@H]1[C@H]1c1ccc(O)ccc(C)(c1(=O)C(=O)O)(=O)C(=O)c1cccccc1)nc1c1ccc(C)n(C)nc1)c1ccccc(B)(O)c1ccccc'\n",
      " 19%|███████▊                                | 194/1000 [02:48<07:50,  1.71it/s][19:50:15] SMILES Parse Error: extra close parentheses while parsing: Cc3c(FF)cc3)C2=O)ncc2c1Cc1ccc(O)nc1)c1ccccc(Br)(c2)n1cccccccccc2c)(F)(c1\n",
      "CC(C)=C(F)C/c3cccc(O)c32)nnc\n",
      "[19:50:15] SMILES Parse Error: Failed parsing SMILES 'Cc3c(FF)cc3)C2=O)ncc2c1Cc1ccc(O)nc1)c1ccccc(Br)(c2)n1cccccccccc2c)(F)(c1\n",
      "CC(C)=C(F)C/c3cccc(O)c32)nnc' for input: 'Cc3c(FF)cc3)C2=O)ncc2c1Cc1ccc(O)nc1)c1ccccc(Br)(c2)n1cccccccccc2c)(F)(c1\n",
      "CC(C)=C(F)C/c3cccc(O)c32)nnc'\n",
      " 20%|███████▊                                | 195/1000 [02:49<07:22,  1.82it/s][19:50:16] SMILES Parse Error: extra close parentheses while parsing: C[C@]1(CCCO)c1cccccc1)n1ccncc(c)Cc1cccc(C)c1nccc(nc1)c1cccccc1)nc1ncccncc2cccccc1)nc(S)n1ccccc(Br)cc1\n",
      "[19:50:16] SMILES Parse Error: Failed parsing SMILES 'C[C@]1(CCCO)c1cccccc1)n1ccncc(c)Cc1cccc(C)c1nccc(nc1)c1cccccc1)nc1ncccncc2cccccc1)nc(S)n1ccccc(Br)cc1' for input: 'C[C@]1(CCCO)c1cccccc1)n1ccncc(c)Cc1cccc(C)c1nccc(nc1)c1cccccc1)nc1ncccncc2cccccc1)nc(S)n1ccccc(Br)cc1'\n",
      " 20%|███████▊                                | 196/1000 [02:49<07:22,  1.82it/s][19:50:16] SMILES Parse Error: unclosed ring for input: 'C1=C(C(=O)OCCOc3cccc(O)Sc3c(N2CC(=O)C1)c1ccccccOC1)nc1cccccccc1ccccc2c1CCOC[C@@]1(Sc2ccccc(O)nc2)n1cc'\n",
      " 20%|███████▉                                | 197/1000 [02:50<07:03,  1.90it/s][19:50:17] SMILES Parse Error: extra close parentheses while parsing: C[C@H]1cc1ccccc(O)c1)n1cccccc2c1ncnc(C(O)C()c2ccccco2)c2cccc(Cl)c1)n1nccncnc3)S12(=C(l)CC1(C)C)c1cccc\n",
      "[19:50:17] SMILES Parse Error: Failed parsing SMILES 'C[C@H]1cc1ccccc(O)c1)n1cccccc2c1ncnc(C(O)C()c2ccccco2)c2cccc(Cl)c1)n1nccncnc3)S12(=C(l)CC1(C)C)c1cccc' for input: 'C[C@H]1cc1ccccc(O)c1)n1cccccc2c1ncnc(C(O)C()c2ccccco2)c2cccc(Cl)c1)n1nccncnc3)S12(=C(l)CC1(C)C)c1cccc'\n",
      " 20%|███████▉                                | 199/1000 [02:51<06:43,  1.98it/s][19:50:18] SMILES Parse Error: extra close parentheses while parsing: C(=O)CCo2c1ccccc1)[n1ccnc1)c1ccc(F)ccc1)C(=O)O\n",
      "CCC(=O)C1=NN(C(=O)C(=O)=NN(C(c)cccccc(F)cn1)c1cccccccc\n",
      "[19:50:18] SMILES Parse Error: Failed parsing SMILES 'C(=O)CCo2c1ccccc1)[n1ccnc1)c1ccc(F)ccc1)C(=O)O\n",
      "CCC(=O)C1=NN(C(=O)C(=O)=NN(C(c)cccccc(F)cn1)c1cccccccc' for input: 'C(=O)CCo2c1ccccc1)[n1ccnc1)c1ccc(F)ccc1)C(=O)O\n",
      "CCC(=O)C1=NN(C(=O)C(=O)=NN(C(c)cccccc(F)cn1)c1cccccccc'\n",
      " 20%|████████                                | 200/1000 [02:51<06:34,  2.03it/s][19:50:18] SMILES Parse Error: extra close parentheses while parsing: CN1Cl)C(=O)C1)c1ccccc(Br)cc1\n",
      "CCC(c1)C(=O)N1CCC(F)(F)c1ccccc(O)nc1)c1ccccncc2)C(=O)C1)c1cccccc1)n1C\n",
      "CC\n",
      "[19:50:18] SMILES Parse Error: Failed parsing SMILES 'CN1Cl)C(=O)C1)c1ccccc(Br)cc1\n",
      "CCC(c1)C(=O)N1CCC(F)(F)c1ccccc(O)nc1)c1ccccncc2)C(=O)C1)c1cccccc1)n1C\n",
      "CC' for input: 'CN1Cl)C(=O)C1)c1ccccc(Br)cc1\n",
      "CCC(c1)C(=O)N1CCC(F)(F)c1ccccc(O)nc1)c1ccccncc2)C(=O)C1)c1cccccc1)n1C\n",
      "CC'\n",
      " 20%|████████                                | 201/1000 [02:52<06:47,  1.96it/s][19:50:19] SMILES Parse Error: extra close parentheses while parsing: C[C@H]32)cc1ccccccc1)S2\n",
      "CC(=O)C1=NN(c2cnc(Br)ccc3OC[C@H]2[C@H]1OC\n",
      "CCC(c1cccnc1)C(=O)C1Cc2ccccc2)n(C)c\n",
      "[19:50:19] SMILES Parse Error: Failed parsing SMILES 'C[C@H]32)cc1ccccccc1)S2\n",
      "CC(=O)C1=NN(c2cnc(Br)ccc3OC[C@H]2[C@H]1OC\n",
      "CCC(c1cccnc1)C(=O)C1Cc2ccccc2)n(C)c' for input: 'C[C@H]32)cc1ccccccc1)S2\n",
      "CC(=O)C1=NN(c2cnc(Br)ccc3OC[C@H]2[C@H]1OC\n",
      "CCC(c1cccnc1)C(=O)C1Cc2ccccc2)n(C)c'\n",
      " 20%|████████                                | 202/1000 [02:52<06:44,  1.97it/s][19:50:19] SMILES Parse Error: extra close parentheses while parsing: CCl)c1ccccc(Br)nc1nccnc(nc)c(O)(=O)c1cccncc1)C1CC1CO1c1cccc(O)cc1\n",
      "CCc1ccc2[nH]cc(=O)crc1cccncc(-c4)cc\n",
      "[19:50:19] SMILES Parse Error: Failed parsing SMILES 'CCl)c1ccccc(Br)nc1nccnc(nc)c(O)(=O)c1cccncc1)C1CC1CO1c1cccc(O)cc1\n",
      "CCc1ccc2[nH]cc(=O)crc1cccncc(-c4)cc' for input: 'CCl)c1ccccc(Br)nc1nccnc(nc)c(O)(=O)c1cccncc1)C1CC1CO1c1cccc(O)cc1\n",
      "CCc1ccc2[nH]cc(=O)crc1cccncc(-c4)cc'\n",
      " 20%|████████                                | 203/1000 [02:53<06:56,  1.91it/s][19:50:20] SMILES Parse Error: syntax error while parsing: C1c1cSccn()(c1)c1cccc(O)nc1)N\n",
      "CCC(c1cccc(S(N)(=O)=O)no2)c1ccccnc1C)n1ccnc(C)c(Br)cn1)c1ccccc(F)(F)cc1\n",
      "[19:50:20] SMILES Parse Error: Failed parsing SMILES 'C1c1cSccn()(c1)c1cccc(O)nc1)N\n",
      "CCC(c1cccc(S(N)(=O)=O)no2)c1ccccnc1C)n1ccnc(C)c(Br)cn1)c1ccccc(F)(F)cc1' for input: 'C1c1cSccn()(c1)c1cccc(O)nc1)N\n",
      "CCC(c1cccc(S(N)(=O)=O)no2)c1ccccnc1C)n1ccnc(C)c(Br)cn1)c1ccccc(F)(F)cc1'\n",
      " 20%|████████▏                               | 204/1000 [02:53<07:24,  1.79it/s][19:50:21] SMILES Parse Error: extra close parentheses while parsing: Cc1ccccn1)(C(=)O)C1=C(C(=O)N(C)C\n",
      "CC(C)C(=O)N1N=C(=O)=C(C(=O)C(C)(C)C(=O)Cc1ccccnc1)COc1ccc(OC)ncc1ncn\n",
      "[19:50:21] SMILES Parse Error: Failed parsing SMILES 'Cc1ccccn1)(C(=)O)C1=C(C(=O)N(C)C\n",
      "CC(C)C(=O)N1N=C(=O)=C(C(=O)C(C)(C)C(=O)Cc1ccccnc1)COc1ccc(OC)ncc1ncn' for input: 'Cc1ccccn1)(C(=)O)C1=C(C(=O)N(C)C\n",
      "CC(C)C(=O)N1N=C(=O)=C(C(=O)C(C)(C)C(=O)Cc1ccccnc1)COc1ccc(OC)ncc1ncn'\n",
      " 20%|████████▏                               | 205/1000 [02:54<07:38,  1.73it/s][19:50:22] SMILES Parse Error: extra close parentheses while parsing: CNCc1ccscn1)c1ccccncc2ccncc(C)c1c1ccccn1)C(=O)c1cccccn1C)(C)[C@H]1SC1(CCCOCCCI)c1cccsnc2c1CcOc(cnnc()\n",
      "[19:50:22] SMILES Parse Error: Failed parsing SMILES 'CNCc1ccscn1)c1ccccncc2ccncc(C)c1c1ccccn1)C(=O)c1cccccn1C)(C)[C@H]1SC1(CCCOCCCI)c1cccsnc2c1CcOc(cnnc()' for input: 'CNCc1ccscn1)c1ccccncc2ccncc(C)c1c1ccccn1)C(=O)c1cccccn1C)(C)[C@H]1SC1(CCCOCCCI)c1cccsnc2c1CcOc(cnnc()'\n",
      " 21%|████████▏                               | 206/1000 [02:55<10:00,  1.32it/s][19:50:22] SMILES Parse Error: extra close parentheses while parsing: C(NC(=O)O)C(=O)NCCCOC(=O)C1\\c2cccc(F)c(F)cc2F)cc1c1cccccc(C)n1ccccc1)(S)(=[ni)(=O)=N1C1CC(OC)c1cccccn\n",
      "[19:50:22] SMILES Parse Error: Failed parsing SMILES 'C(NC(=O)O)C(=O)NCCCOC(=O)C1\\c2cccc(F)c(F)cc2F)cc1c1cccccc(C)n1ccccc1)(S)(=[ni)(=O)=N1C1CC(OC)c1cccccn' for input: 'C(NC(=O)O)C(=O)NCCCOC(=O)C1\\c2cccc(F)c(F)cc2F)cc1c1cccccc(C)n1ccccc1)(S)(=[ni)(=O)=N1C1CC(OC)c1cccccn'\n",
      " 21%|████████▎                               | 207/1000 [02:56<09:24,  1.40it/s][19:50:23] SMILES Parse Error: syntax error while parsing: C(1)=C(=O)C1CN=C(c1ccccc(O)c1)n1ccc(nccccc2c)n1Cc1ccc(O)nccc1)n1ccc(O)ccc(F)cc1)c1ncccnc()nH]()c1cccc\n",
      "[19:50:23] SMILES Parse Error: Failed parsing SMILES 'C(1)=C(=O)C1CN=C(c1ccccc(O)c1)n1ccc(nccccc2c)n1Cc1ccc(O)nccc1)n1ccc(O)ccc(F)cc1)c1ncccnc()nH]()c1cccc' for input: 'C(1)=C(=O)C1CN=C(c1ccccc(O)c1)n1ccc(nccccc2c)n1Cc1ccc(O)nccc1)n1ccc(O)ccc(F)cc1)c1ncccnc()nH]()c1cccc'\n",
      " 21%|████████▎                               | 208/1000 [02:56<09:19,  1.42it/s][19:50:24] SMILES Parse Error: extra close parentheses while parsing: C)NC(=S)NC1c1cccc(O)(nc1)c1cccccc1)n1cccccc(F)cBc2ccccc(=O[nH]1)c1nc2nn(2)nc(2c2ccc(ccccc2)nnc(=O)n1c\n",
      "[19:50:24] SMILES Parse Error: Failed parsing SMILES 'C)NC(=S)NC1c1cccc(O)(nc1)c1cccccc1)n1cccccc(F)cBc2ccccc(=O[nH]1)c1nc2nn(2)nc(2c2ccc(ccccc2)nnc(=O)n1c' for input: 'C)NC(=S)NC1c1cccc(O)(nc1)c1cccccc1)n1cccccc(F)cBc2ccccc(=O[nH]1)c1nc2nn(2)nc(2c2ccc(ccccc2)nnc(=O)n1c'\n",
      " 21%|████████▎                               | 209/1000 [02:57<09:08,  1.44it/s][19:50:25] SMILES Parse Error: extra close parentheses while parsing: C1nc2cc(F)ccc3OC[C@H]2[C@H]1c1cccncc1)(c1cccccc1)c1ccccccc1)(C)n1)n1ccccccc(=O)n1)c1cccccnc(O)c1ncco(\n",
      "[19:50:25] SMILES Parse Error: Failed parsing SMILES 'C1nc2cc(F)ccc3OC[C@H]2[C@H]1c1cccncc1)(c1cccccc1)c1ccccccc1)(C)n1)n1ccccccc(=O)n1)c1cccccnc(O)c1ncco(' for input: 'C1nc2cc(F)ccc3OC[C@H]2[C@H]1c1cccncc1)(c1cccccc1)c1ccccccc1)(C)n1)n1ccccccc(=O)n1)c1cccccnc(O)c1ncco('\n",
      " 21%|████████▍                               | 210/1000 [02:58<09:17,  1.42it/s][19:50:25] SMILES Parse Error: extra close parentheses while parsing: C)c1)c2ncsc2c1ncc(C#NC)(c3ccnc(O)cc3c3cc(F)ccc3OC[C@H]1OCCO[C@@H]21)c1ccccccc2)S1(=O)(=O)NC(=O)F)c1cc\n",
      "[19:50:25] SMILES Parse Error: Failed parsing SMILES 'C)c1)c2ncsc2c1ncc(C#NC)(c3ccnc(O)cc3c3cc(F)ccc3OC[C@H]1OCCO[C@@H]21)c1ccccccc2)S1(=O)(=O)NC(=O)F)c1cc' for input: 'C)c1)c2ncsc2c1ncc(C#NC)(c3ccnc(O)cc3c3cc(F)ccc3OC[C@H]1OCCO[C@@H]21)c1ccccccc2)S1(=O)(=O)NC(=O)F)c1cc'\n",
      " 21%|████████▍                               | 211/1000 [02:59<09:16,  1.42it/s][19:50:26] SMILES Parse Error: unclosed ring for input: 'C(=O)C1=C(C)Oc1cnc(N[C@H]2[C@@H](F)C1)c1ccccc(Br)cc1\n",
      "CC(=O)C1-c2cscnc2)n1ccc(ccccc2c1CN+(=O)[O-])N(C('\n",
      " 21%|████████▍                               | 212/1000 [02:59<08:52,  1.48it/s][19:50:26] SMILES Parse Error: extra close parentheses while parsing: C(=O)/C(=O)/c3cccc(O)c3)S2)nn2c(nccccc2cc(C)cc(F)n(C)nc2)c1Cc1cccc(O)nc1)c2ccccc(N)(O)=c1nc(nccc(C)=c\n",
      "[19:50:26] SMILES Parse Error: Failed parsing SMILES 'C(=O)/C(=O)/c3cccc(O)c3)S2)nn2c(nccccc2cc(C)cc(F)n(C)nc2)c1Cc1cccc(O)nc1)c2ccccc(N)(O)=c1nc(nccc(C)=c' for input: 'C(=O)/C(=O)/c3cccc(O)c3)S2)nn2c(nccccc2cc(C)cc(F)n(C)nc2)c1Cc1cccc(O)nc1)c2ccccc(N)(O)=c1nc(nccc(C)=c'\n",
      " 21%|████████▌                               | 214/1000 [03:00<07:52,  1.66it/s][19:50:28] SMILES Parse Error: syntax error while parsing: Cc1ccc2c(c1CCCC[C@o+]1(CC1)CO2)c1cccccc1CC)\n",
      "CC(C)C(=O)N1Cc2c(ncc(n2)SC(CCS)(=O)=N1nccccc1)n1ccc2c(=O)\n",
      "[19:50:28] SMILES Parse Error: Failed parsing SMILES 'Cc1ccc2c(c1CCCC[C@o+]1(CC1)CO2)c1cccccc1CC)\n",
      "CC(C)C(=O)N1Cc2c(ncc(n2)SC(CCS)(=O)=N1nccccc1)n1ccc2c(=O)' for input: 'Cc1ccc2c(c1CCCC[C@o+]1(CC1)CO2)c1cccccc1CC)\n",
      "CC(C)C(=O)N1Cc2c(ncc(n2)SC(CCS)(=O)=N1nccccc1)n1ccc2c(=O)'\n",
      " 22%|████████▌                               | 215/1000 [03:01<07:49,  1.67it/s][19:50:28] SMILES Parse Error: extra close parentheses while parsing: CNC(=O)C1=O)C(=O)c1ccsncn1)Cc1cccc(=O)n1C)c1ccccc(O)n1nccnc2ncnc(=O)n1Cc1cccccc1)Cc1nc(sc)cc(=O)c3ccc\n",
      "[19:50:28] SMILES Parse Error: Failed parsing SMILES 'CNC(=O)C1=O)C(=O)c1ccsncn1)Cc1cccc(=O)n1C)c1ccccc(O)n1nccnc2ncnc(=O)n1Cc1cccccc1)Cc1nc(sc)cc(=O)c3ccc' for input: 'CNC(=O)C1=O)C(=O)c1ccsncn1)Cc1cccc(=O)n1C)c1ccccc(O)n1nccnc2ncnc(=O)n1Cc1cccccc1)Cc1nc(sc)cc(=O)c3ccc'\n",
      " 22%|████████▋                               | 216/1000 [03:01<07:52,  1.66it/s][19:50:29] SMILES Parse Error: extra close parentheses while parsing: Cc4ccc(Br)ccc3c2n1Cc1ccnoC)n1)c1ccc(F)cccc1)n1ccc(Br)ccc1ncc(F)cnc(O)c1)N)c1cccccc1c1nccccc(F)cc1)N(C\n",
      "[19:50:29] SMILES Parse Error: Failed parsing SMILES 'Cc4ccc(Br)ccc3c2n1Cc1ccnoC)n1)c1ccc(F)cccc1)n1ccc(Br)ccc1ncc(F)cnc(O)c1)N)c1cccccc1c1nccccc(F)cc1)N(C' for input: 'Cc4ccc(Br)ccc3c2n1Cc1ccnoC)n1)c1ccc(F)cccc1)n1ccc(Br)ccc1ncc(F)cnc(O)c1)N)c1cccccc1c1nccccc(F)cc1)N(C'\n",
      " 22%|████████▋                               | 218/1000 [03:02<07:17,  1.79it/s][19:50:30] SMILES Parse Error: extra close parentheses while parsing: C)(c3cccc()n34)n2c(nc(cccccccc2)[nH]1)N(CCCCN)C(=O)c1ccccc(O)cc1)c1cccccc(F)(C)n1)c1nccncc1Cc1cccncc1\n",
      "[19:50:30] SMILES Parse Error: Failed parsing SMILES 'C)(c3cccc()n34)n2c(nc(cccccccc2)[nH]1)N(CCCCN)C(=O)c1ccccc(O)cc1)c1cccccc(F)(C)n1)c1nccncc1Cc1cccncc1' for input: 'C)(c3cccc()n34)n2c(nc(cccccccc2)[nH]1)N(CCCCN)C(=O)c1ccccc(O)cc1)c1cccccc(F)(C)n1)c1nccncc1Cc1cccncc1'\n",
      " 22%|████████▊                               | 219/1000 [03:03<07:07,  1.83it/s][19:50:30] SMILES Parse Error: extra close parentheses while parsing: C(=O)Cc1c[nH]c1)c1ccccccc(c)c1)c1cccc(F)(ccncn2)c1nccc(O)cc1c1cccccc1)c1ncnc()O)nc1)c1ccccccc2c(Cl)cc\n",
      "[19:50:30] SMILES Parse Error: Failed parsing SMILES 'C(=O)Cc1c[nH]c1)c1ccccccc(c)c1)c1cccc(F)(ccncn2)c1nccc(O)cc1c1cccccc1)c1ncnc()O)nc1)c1ccccccc2c(Cl)cc' for input: 'C(=O)Cc1c[nH]c1)c1ccccccc(c)c1)c1cccc(F)(ccncn2)c1nccc(O)cc1c1cccccc1)c1ncnc()O)nc1)c1ccccccc2c(Cl)cc'\n",
      " 22%|████████▊                               | 220/1000 [03:03<06:49,  1.91it/s][19:50:31] SMILES Parse Error: extra close parentheses while parsing: C1cc(C(N)=O)C(c2cccc(O)c3)N2)S1\n",
      "CC(=O)C(=O)N1CC(Br])C1c1ccccc(O)(c1)c1ccccccc1)(ncccnc1)nc1ccccccc[nH\n",
      "[19:50:31] SMILES Parse Error: Failed parsing SMILES 'C1cc(C(N)=O)C(c2cccc(O)c3)N2)S1\n",
      "CC(=O)C(=O)N1CC(Br])C1c1ccccc(O)(c1)c1ccccccc1)(ncccnc1)nc1ccccccc[nH' for input: 'C1cc(C(N)=O)C(c2cccc(O)c3)N2)S1\n",
      "CC(=O)C(=O)N1CC(Br])C1c1ccccc(O)(c1)c1ccccccc1)(ncccnc1)nc1ccccccc[nH'\n",
      " 22%|████████▊                               | 221/1000 [03:04<06:38,  1.96it/s][19:50:31] SMILES Parse Error: unclosed ring for input: 'CNCC1\n",
      "CCC(c1ccn(C)(=C\\)n3c[nH]c2)NC(=S)N1C[C@H](Cc1cccccc1)c1ccccc1)nc(F)(ncccccc2c1)N1Cc1ccnn(C)c1cc'\n",
      " 22%|████████▉                               | 222/1000 [03:04<06:30,  1.99it/s][19:50:32] SMILES Parse Error: syntax error while parsing: C1nnn2ccc(Br)ccc2c1CCNC2=C(\\(=O)/C(=C/c3ccc(Br)cc3[nH]c4cccccc34)[C@@H]1Oc1c[nHc1ncnc(-cccccn1)n1nccn\n",
      "[19:50:32] SMILES Parse Error: Failed parsing SMILES 'C1nnn2ccc(Br)ccc2c1CCNC2=C(\\(=O)/C(=C/c3ccc(Br)cc3[nH]c4cccccc34)[C@@H]1Oc1c[nHc1ncnc(-cccccn1)n1nccn' for input: 'C1nnn2ccc(Br)ccc2c1CCNC2=C(\\(=O)/C(=C/c3ccc(Br)cc3[nH]c4cccccc34)[C@@H]1Oc1c[nHc1ncnc(-cccccn1)n1nccn'\n",
      " 22%|████████▉                               | 223/1000 [03:05<06:26,  2.01it/s][19:50:32] SMILES Parse Error: extra close parentheses while parsing: C(=O)1)(C1CC1)C(=O1)C(=O)C1Cc1ccccc(O)nc1)n1ccccc()c1cccccccc1c\n",
      "CC1cccc(C)n1)c1cccccc1)c1ncccncn2)c1n\n",
      "[19:50:32] SMILES Parse Error: Failed parsing SMILES 'C(=O)1)(C1CC1)C(=O1)C(=O)C1Cc1ccccc(O)nc1)n1ccccc()c1cccccccc1c\n",
      "CC1cccc(C)n1)c1cccccc1)c1ncccncn2)c1n' for input: 'C(=O)1)(C1CC1)C(=O1)C(=O)C1Cc1ccccc(O)nc1)n1ccccc()c1cccccccc1c\n",
      "CC1cccc(C)n1)c1cccccc1)c1ncccncn2)c1n'\n",
      " 22%|████████▉                               | 224/1000 [03:05<06:36,  1.96it/s][19:50:33] SMILES Parse Error: extra close parentheses while parsing: CN(C[C@@H]1CNC[C@@H]1c1cccc(F)ccn1)N(C[C@@H]1C1CC1)c1ccccnc1)n1ccccccc(c2)c1ccccccc1c1ncccc(nc)nc1)c1\n",
      "[19:50:33] SMILES Parse Error: Failed parsing SMILES 'CN(C[C@@H]1CNC[C@@H]1c1cccc(F)ccn1)N(C[C@@H]1C1CC1)c1ccccnc1)n1ccccccc(c2)c1ccccccc1c1ncccc(nc)nc1)c1' for input: 'CN(C[C@@H]1CNC[C@@H]1c1cccc(F)ccn1)N(C[C@@H]1C1CC1)c1ccccnc1)n1ccccccc(c2)c1ccccccc1c1ncccc(nc)nc1)c1'\n",
      " 22%|█████████                               | 225/1000 [03:06<06:29,  1.99it/s][19:50:33] SMILES Parse Error: extra close parentheses while parsing: CS1(=C)CC(=O)C1=C(CNc2ccccc3S(N)(=O)=O)=[nH]1)c1cccccn1)Cc1cccccc1)c1nccncc1)c1ccccccc(F)cc1)c1cccccc\n",
      "[19:50:33] SMILES Parse Error: Failed parsing SMILES 'CS1(=C)CC(=O)C1=C(CNc2ccccc3S(N)(=O)=O)=[nH]1)c1cccccn1)Cc1cccccc1)c1nccncc1)c1ccccccc(F)cc1)c1cccccc' for input: 'CS1(=C)CC(=O)C1=C(CNc2ccccc3S(N)(=O)=O)=[nH]1)c1cccccn1)Cc1cccccc1)c1nccncc1)c1ccccccc(F)cc1)c1cccccc'\n",
      " 23%|█████████                               | 226/1000 [03:06<06:28,  1.99it/s][19:50:34] SMILES Parse Error: extra close parentheses while parsing: Cn1ccncc1C1=C(C)NC(=O)C1c1ccccc(F)c(F)c1)C(=O)c1cccccn1C)Cc1cccc(O)nc1)n1ccc(S(C)(=O)O)=c2cccccnoc()c\n",
      "[19:50:34] SMILES Parse Error: Failed parsing SMILES 'Cn1ccncc1C1=C(C)NC(=O)C1c1ccccc(F)c(F)c1)C(=O)c1cccccn1C)Cc1cccc(O)nc1)n1ccc(S(C)(=O)O)=c2cccccnoc()c' for input: 'Cn1ccncc1C1=C(C)NC(=O)C1c1ccccc(F)c(F)c1)C(=O)c1cccccn1C)Cc1cccc(O)nc1)n1ccc(S(C)(=O)O)=c2cccccnoc()c'\n",
      " 23%|█████████                               | 227/1000 [03:07<06:29,  1.99it/s][19:50:34] SMILES Parse Error: extra close parentheses while parsing: C(O)(c2cccc(O)nc2)c2s1cccccn2)CC(n1cccc(O)(F)(F)F)cc1c1ccccccnc1)n1)c1nccc(F)cc1n1cccc2c(=O)ncCcoc2c(\n",
      "[19:50:34] SMILES Parse Error: Failed parsing SMILES 'C(O)(c2cccc(O)nc2)c2s1cccccn2)CC(n1cccc(O)(F)(F)F)cc1c1ccccccnc1)n1)c1nccc(F)cc1n1cccc2c(=O)ncCcoc2c(' for input: 'C(O)(c2cccc(O)nc2)c2s1cccccn2)CC(n1cccc(O)(F)(F)F)cc1c1ccccccnc1)n1)c1nccc(F)cc1n1cccc2c(=O)ncCcoc2c('\n",
      " 23%|█████████                               | 228/1000 [03:07<06:20,  2.03it/s][19:50:35] SMILES Parse Error: extra close parentheses while parsing: C(=O)C1=C(C)NC(=S)N(CC(=O)[C@@H]2COc3ccccn3)S2)S1(=O)=CF\n",
      "CC(=O)C1=N[C@@H]32c1cccc(O)c3c1C(O(F)(F)C(=O\n",
      "[19:50:35] SMILES Parse Error: Failed parsing SMILES 'C(=O)C1=C(C)NC(=S)N(CC(=O)[C@@H]2COc3ccccn3)S2)S1(=O)=CF\n",
      "CC(=O)C1=N[C@@H]32c1cccc(O)c3c1C(O(F)(F)C(=O' for input: 'C(=O)C1=C(C)NC(=S)N(CC(=O)[C@@H]2COc3ccccn3)S2)S1(=O)=CF\n",
      "CC(=O)C1=N[C@@H]32c1cccc(O)c3c1C(O(F)(F)C(=O'\n",
      " 23%|█████████▏                              | 229/1000 [03:08<06:16,  2.05it/s][19:50:35] SMILES Parse Error: extra close parentheses while parsing: C[C@H]3[C@@H](F)C1)c1cccc(Br)ccCC1)c1nccc(F)ccc1S(N)(=O)=O)CC1(OCCCOc3ccsc(O)nc2)n1)C(=O)c1ccccnc1)c1\n",
      "[19:50:35] SMILES Parse Error: Failed parsing SMILES 'C[C@H]3[C@@H](F)C1)c1cccc(Br)ccCC1)c1nccc(F)ccc1S(N)(=O)=O)CC1(OCCCOc3ccsc(O)nc2)n1)C(=O)c1ccccnc1)c1' for input: 'C[C@H]3[C@@H](F)C1)c1cccc(Br)ccCC1)c1nccc(F)ccc1S(N)(=O)=O)CC1(OCCCOc3ccsc(O)nc2)n1)C(=O)c1ccccnc1)c1'\n",
      " 23%|█████████▏                              | 230/1000 [03:08<06:26,  1.99it/s][19:50:36] SMILES Parse Error: extra close parentheses while parsing: C)(F)C\n",
      "CCO)C(=O\n",
      "CC(c1cccc(NS(=O)(=O)c3cccs1)Cc1ccccncc1)n1cncccccc1)nn1Cc1ccccc1)n1Cc1cccc1)c1ccncnc(\n",
      "[19:50:36] SMILES Parse Error: Failed parsing SMILES 'C)(F)C\n",
      "CCO)C(=O\n",
      "CC(c1cccc(NS(=O)(=O)c3cccs1)Cc1ccccncc1)n1cncccccc1)nn1Cc1ccccc1)n1Cc1cccc1)c1ccncnc(' for input: 'C)(F)C\n",
      "CCO)C(=O\n",
      "CC(c1cccc(NS(=O)(=O)c3cccs1)Cc1ccccncc1)n1cncccccc1)nn1Cc1ccccc1)n1Cc1cccc1)c1ccncnc('\n",
      " 23%|█████████▏                              | 231/1000 [03:09<06:24,  2.00it/s][19:50:36] SMILES Parse Error: extra close parentheses while parsing: C1)ccc(C)nn1)c1ccnccncCc1ccccc2)ncc1)c1cccnc(O)c1cccccn1)ncc(C)(cc1cccccc1)nn1)c1ccccccc1)c1ccccc(F)c\n",
      "[19:50:36] SMILES Parse Error: Failed parsing SMILES 'C1)ccc(C)nn1)c1ccnccncCc1ccccc2)ncc1)c1cccnc(O)c1cccccn1)ncc(C)(cc1cccccc1)nn1)c1ccccccc1)c1ccccc(F)c' for input: 'C1)ccc(C)nn1)c1ccnccncCc1ccccc2)ncc1)c1cccnc(O)c1cccccn1)ncc(C)(cc1cccccc1)nn1)c1ccccccc1)c1ccccc(F)c'\n",
      " 23%|█████████▎                              | 232/1000 [03:09<06:20,  2.02it/s][19:50:37] SMILES Parse Error: extra close parentheses while parsing: C)C)S\n",
      "CC(=N)[C@@H]1c1cccccc1)n1c1ccccc(O)n1cccc(O)n1)CC[C@H]12)n1ccc(Br)ccc(F)c1)[nH]nc2ccsc(-c2ccco1\n",
      "[19:50:37] SMILES Parse Error: Failed parsing SMILES 'C)C)S\n",
      "CC(=N)[C@@H]1c1cccccc1)n1c1ccccc(O)n1cccc(O)n1)CC[C@H]12)n1ccc(Br)ccc(F)c1)[nH]nc2ccsc(-c2ccco1' for input: 'C)C)S\n",
      "CC(=N)[C@@H]1c1cccccc1)n1c1ccccc(O)n1cccc(O)n1)CC[C@H]12)n1ccc(Br)ccc(F)c1)[nH]nc2ccsc(-c2ccco1'\n",
      " 23%|█████████▎                              | 234/1000 [03:10<06:13,  2.05it/s][19:50:38] SMILES Parse Error: extra close parentheses while parsing: CC1)N(CC1C)C(=O)C1)C(=O)OC\n",
      "CC(C)=CN(CCCCO)C(=O)c1ccc(Br)ccc1)N2\n",
      "CC(=O)C1Cc2c(Fcccc2)nc(c)cc2)C(=O)CC1\n",
      "[19:50:38] SMILES Parse Error: Failed parsing SMILES 'CC1)N(CC1C)C(=O)C1)C(=O)OC\n",
      "CC(C)=CN(CCCCO)C(=O)c1ccc(Br)ccc1)N2\n",
      "CC(=O)C1Cc2c(Fcccc2)nc(c)cc2)C(=O)CC1' for input: 'CC1)N(CC1C)C(=O)C1)C(=O)OC\n",
      "CC(C)=CN(CCCCO)C(=O)c1ccc(Br)ccc1)N2\n",
      "CC(=O)C1Cc2c(Fcccc2)nc(c)cc2)C(=O)CC1'\n",
      " 24%|█████████▍                              | 235/1000 [03:11<06:14,  2.05it/s][19:50:38] SMILES Parse Error: extra close parentheses while parsing: C(F)(F)F)cc1C1CCN(C()=O)Cc1cccc(O)c1)N1CC=C(C1)Cc1ccccnc1n1)c1cccccc1)n1ccc(c(c(c)cc1ncccccc1)ccc(F)(\n",
      "[19:50:38] SMILES Parse Error: Failed parsing SMILES 'C(F)(F)F)cc1C1CCN(C()=O)Cc1cccc(O)c1)N1CC=C(C1)Cc1ccccnc1n1)c1cccccc1)n1ccc(c(c(c)cc1ncccccc1)ccc(F)(' for input: 'C(F)(F)F)cc1C1CCN(C()=O)Cc1cccc(O)c1)N1CC=C(C1)Cc1ccccnc1n1)c1cccccc1)n1ccc(c(c(c)cc1ncccccc1)ccc(F)('\n",
      " 24%|█████████▍                              | 236/1000 [03:11<06:24,  1.99it/s][19:50:39] SMILES Parse Error: extra close parentheses while parsing: CCNC(C)=O)C1c1ccc2c(c1)cnncc()c1)n1ccccc(C)c1)c1cccccc1)n1cccccccc2ccnccO2c1ccc(O)nc(n)cc2)n1c(cccc(F\n",
      "[19:50:39] SMILES Parse Error: Failed parsing SMILES 'CCNC(C)=O)C1c1ccc2c(c1)cnncc()c1)n1ccccc(C)c1)c1cccccc1)n1cccccccc2ccnccO2c1ccc(O)nc(n)cc2)n1c(cccc(F' for input: 'CCNC(C)=O)C1c1ccc2c(c1)cnncc()c1)n1ccccc(C)c1)c1cccccc1)n1cccccccc2ccnccO2c1ccc(O)nc(n)cc2)n1c(cccc(F'\n",
      " 24%|█████████▍                              | 237/1000 [03:12<06:21,  2.00it/s][19:50:39] SMILES Parse Error: extra close parentheses while parsing: CCS2c2ccccc3OC[C@H]2)cc1\n",
      "CC1=CCC(c1cccc(N[C@@H](c3cccc(F)c4)Coc3c(=O)nHCCN(C)C(=O)C1=NN(C(=O)[C@@H]2C\n",
      "[19:50:39] SMILES Parse Error: Failed parsing SMILES 'CCS2c2ccccc3OC[C@H]2)cc1\n",
      "CC1=CCC(c1cccc(N[C@@H](c3cccc(F)c4)Coc3c(=O)nHCCN(C)C(=O)C1=NN(C(=O)[C@@H]2C' for input: 'CCS2c2ccccc3OC[C@H]2)cc1\n",
      "CC1=CCC(c1cccc(N[C@@H](c3cccc(F)c4)Coc3c(=O)nHCCN(C)C(=O)C1=NN(C(=O)[C@@H]2C'\n",
      " 24%|█████████▌                              | 239/1000 [03:13<06:25,  1.97it/s][19:50:40] SMILES Parse Error: extra close parentheses while parsing: C[C@H]N4)sc2C1=O)OC\n",
      "CCC(c1cccnc)c1)C2CC(=OCO4)NC(=O)C(=O)c1cccc(NC/C=C(=O)=C(Br)cc1)C1CC1=O\n",
      "CCC(c1ccc\n",
      "[19:50:40] SMILES Parse Error: Failed parsing SMILES 'C[C@H]N4)sc2C1=O)OC\n",
      "CCC(c1cccnc)c1)C2CC(=OCO4)NC(=O)C(=O)c1cccc(NC/C=C(=O)=C(Br)cc1)C1CC1=O\n",
      "CCC(c1ccc' for input: 'C[C@H]N4)sc2C1=O)OC\n",
      "CCC(c1cccnc)c1)C2CC(=OCO4)NC(=O)C(=O)c1cccc(NC/C=C(=O)=C(Br)cc1)C1CC1=O\n",
      "CCC(c1ccc'\n",
      " 24%|█████████▌                              | 240/1000 [03:13<06:29,  1.95it/s][19:50:41] SMILES Parse Error: extra close parentheses while parsing: CC#N)c1ccc(-c3ccco)n1)n1ccc(c(=)noc2c1)c1cccccc(O)n1ccc(2cccc(O)nc(C)n1ccccnnn2)SC1(C)[[@@@H](c1cFccc\n",
      "[19:50:41] SMILES Parse Error: Failed parsing SMILES 'CC#N)c1ccc(-c3ccco)n1)n1ccc(c(=)noc2c1)c1cccccc(O)n1ccc(2cccc(O)nc(C)n1ccccnnn2)SC1(C)[[@@@H](c1cFccc' for input: 'CC#N)c1ccc(-c3ccco)n1)n1ccc(c(=)noc2c1)c1cccccc(O)n1ccc(2cccc(O)nc(C)n1ccccnnn2)SC1(C)[[@@@H](c1cFccc'\n",
      " 24%|█████████▋                              | 241/1000 [03:14<06:23,  1.98it/s][19:50:41] SMILES Parse Error: unclosed ring for input: 'CS(=O)(=O)C1nc2ccc(-c3ccc(OC)cc(O)c2)NC(=S)O1\n",
      "CCC(c1ccccc(C)=O)n1)c1ccc(OC(O)(=O)C(=O)[nH]1)Oc1cccccn'\n",
      " 24%|█████████▋                              | 242/1000 [03:14<06:20,  1.99it/s][19:50:42] SMILES Parse Error: extra close parentheses while parsing: C1=NoC(=O)C1=NN(C)(c2ccc(O)nc3)nc2nccnc(C)c2ncnc(C)c2c/nsc(Br)cc(Cl)c2nnc(Br)cc2)n3ccco2)n1)=N[C@H]1c\n",
      "[19:50:42] SMILES Parse Error: Failed parsing SMILES 'C1=NoC(=O)C1=NN(C)(c2ccc(O)nc3)nc2nccnc(C)c2ncnc(C)c2c/nsc(Br)cc(Cl)c2nnc(Br)cc2)n3ccco2)n1)=N[C@H]1c' for input: 'C1=NoC(=O)C1=NN(C)(c2ccc(O)nc3)nc2nccnc(C)c2ncnc(C)c2c/nsc(Br)cc(Cl)c2nnc(Br)cc2)n3ccco2)n1)=N[C@H]1c'\n",
      " 24%|█████████▋                              | 243/1000 [03:15<06:14,  2.02it/s][19:50:42] SMILES Parse Error: extra close parentheses while parsing: C(=O)C1=NN2C(=O)C1=NC(C(=O)c2ccccco2)n1ccc(F)cccO)cc1)n1ccc(c(ccccc1)ncccccccc1)N2\n",
      "CCC2c(F)nc2c1ncc(-\n",
      "[19:50:42] SMILES Parse Error: Failed parsing SMILES 'C(=O)C1=NN2C(=O)C1=NC(C(=O)c2ccccco2)n1ccc(F)cccO)cc1)n1ccc(c(ccccc1)ncccccccc1)N2\n",
      "CCC2c(F)nc2c1ncc(-' for input: 'C(=O)C1=NN2C(=O)C1=NC(C(=O)c2ccccco2)n1ccc(F)cccO)cc1)n1ccc(c(ccccc1)ncccccccc1)N2\n",
      "CCC2c(F)nc2c1ncc(-'\n",
      " 24%|█████████▊                              | 244/1000 [03:15<06:11,  2.03it/s][19:50:43] SMILES Parse Error: extra close parentheses while parsing: C)C(CS(N)(=O)(=O)C(=O)C[C@@H]1OCCC[C@H]1[C@H](C1)C(=O)C1C[C@@H]1c1cnc(C)ccc(F)c1)N(c1C(C@=O)CN=C(SC)C\n",
      "[19:50:43] SMILES Parse Error: Failed parsing SMILES 'C)C(CS(N)(=O)(=O)C(=O)C[C@@H]1OCCC[C@H]1[C@H](C1)C(=O)C1C[C@@H]1c1cnc(C)ccc(F)c1)N(c1C(C@=O)CN=C(SC)C' for input: 'C)C(CS(N)(=O)(=O)C(=O)C[C@@H]1OCCC[C@H]1[C@H](C1)C(=O)C1C[C@@H]1c1cnc(C)ccc(F)c1)N(c1C(C@=O)CN=C(SC)C'\n",
      " 24%|█████████▊                              | 245/1000 [03:16<06:24,  1.96it/s][19:50:43] SMILES Parse Error: unclosed ring for input: 'Cc2[nH]nc(NC(=O)C(C)(N)C(=O)/C(=O)COc4cc(F)ccc3OC[C@H]2)ncn1\n",
      "CCC(c1nc2ccoc2)n1ccccn1)c1ncnc(O)c1cccc('\n",
      " 25%|█████████▊                              | 246/1000 [03:16<06:21,  1.98it/s][19:50:44] SMILES Parse Error: unclosed ring for input: 'C[C@H]2[nH]1\n",
      "CCC(=O)C1=NN(c2ccccc3Sc(O)nc2c)ccc1nccsc2c1ccc(O)nc(c(sn2)n1ccc(C)ncc1)n1ccnc(C)ccc(Br)('\n",
      " 25%|█████████▉                              | 247/1000 [03:17<06:41,  1.88it/s][19:50:44] SMILES Parse Error: extra close parentheses while parsing: Cl)cc23)C1c1ccccc(N)nc1c(c1)C(=O)CCC1\n",
      "CC(C1(C)=O\n",
      "CC(=O)C1(C@)C/C=C/c3ccccn3)n1c(nc1cccccc2ccc(=O)nc2c\n",
      "[19:50:44] SMILES Parse Error: Failed parsing SMILES 'Cl)cc23)C1c1ccccc(N)nc1c(c1)C(=O)CCC1\n",
      "CC(C1(C)=O\n",
      "CC(=O)C1(C@)C/C=C/c3ccccn3)n1c(nc1cccccc2ccc(=O)nc2c' for input: 'Cl)cc23)C1c1ccccc(N)nc1c(c1)C(=O)CCC1\n",
      "CC(C1(C)=O\n",
      "CC(=O)C1(C@)C/C=C/c3ccccn3)n1c(nc1cccccc2ccc(=O)nc2c'\n",
      " 25%|█████████▉                              | 248/1000 [03:17<06:27,  1.94it/s][19:50:45] SMILES Parse Error: unclosed ring for input: 'C2=S1\n",
      "CCC[C@H](c1ncscnc)c1)c1cccccc1Cc1ccccnn1)c1nccc(F)(F)cc1)(=O)=O\n",
      "CCC(c1cccccc(=O)n1Cc1ccc(F)ncc1'\n",
      " 25%|█████████▉                              | 249/1000 [03:18<06:25,  1.95it/s][19:50:45] SMILES Parse Error: extra close parentheses while parsing: CC)S)C(=O)c1ccccnc1)n1ccnccc(=O)n1cccccn1)c1cccc(F)cc(F)c1)N2c1ccccc(F)(C)C1@@]1c1ccccccn1)n1ncccnc2c\n",
      "[19:50:45] SMILES Parse Error: Failed parsing SMILES 'CC)S)C(=O)c1ccccnc1)n1ccnccc(=O)n1cccccn1)c1cccc(F)cc(F)c1)N2c1ccccc(F)(C)C1@@]1c1ccccccn1)n1ncccnc2c' for input: 'CC)S)C(=O)c1ccccnc1)n1ccnccc(=O)n1cccccn1)c1cccc(F)cc(F)c1)N2c1ccccc(F)(C)C1@@]1c1ccccccn1)n1ncccnc2c'\n",
      " 25%|██████████                              | 250/1000 [03:18<06:17,  1.99it/s][19:50:46] SMILES Parse Error: syntax error while parsing: C@H]1c1cccc(F)cc1)n1n[nH]c1)c1cccccc(c2)CC(c1cccccccc1O)c1ccccccc1)n1ccccc(O)(C)cc1ccccccc1c(Sc1ccccn\n",
      "[19:50:46] SMILES Parse Error: Failed parsing SMILES 'C@H]1c1cccc(F)cc1)n1n[nH]c1)c1cccccc(c2)CC(c1cccccccc1O)c1ccccccc1)n1ccccc(O)(C)cc1ccccccc1c(Sc1ccccn' for input: 'C@H]1c1cccc(F)cc1)n1n[nH]c1)c1cccccc(c2)CC(c1cccccccc1O)c1ccccccc1)n1ccccc(O)(C)cc1ccccccc1c(Sc1ccccn'\n",
      " 25%|██████████                              | 251/1000 [03:19<06:14,  2.00it/s][19:50:46] SMILES Parse Error: unclosed ring for input: 'CC(c1ccc(N)cnc2)n1c(c(ccccccccn1)(=O)nn(C)c1ccc(C(=O)O)ncc2-ccccnc(C)c1)N(CC(C)(C)=O)N\n",
      "CC(=O)C1=NN(C('\n",
      " 25%|██████████                              | 252/1000 [03:19<06:11,  2.02it/s][19:50:47] SMILES Parse Error: extra close parentheses while parsing: C(=S)NC1=NN=C(=O)C(=O)C1CCc3c2ccccc2C1(C)C)=NCic1nccccc3ccc(O)nccc1ccccccc(C)(C)(F)(F)c1)C(=O)Oc1cccc\n",
      "[19:50:47] SMILES Parse Error: Failed parsing SMILES 'C(=S)NC1=NN=C(=O)C(=O)C1CCc3c2ccccc2C1(C)C)=NCic1nccccc3ccc(O)nccc1ccccccc(C)(C)(F)(F)c1)C(=O)Oc1cccc' for input: 'C(=S)NC1=NN=C(=O)C(=O)C1CCc3c2ccccc2C1(C)C)=NCic1nccccc3ccc(O)nccc1ccccccc(C)(C)(F)(F)c1)C(=O)Oc1cccc'\n",
      " 25%|██████████                              | 253/1000 [03:20<06:21,  1.96it/s][19:50:47] SMILES Parse Error: syntax error while parsing: C(O)C1=NN(C(=O)C(CO)(C)C)nc(N)n1cccnc(()c1ccccc(C)(c)cc1ccccc(F)(F)c1cccccc1ncncc1)nc1)n1cccoc1)c1ncc\n",
      "[19:50:47] SMILES Parse Error: Failed parsing SMILES 'C(O)C1=NN(C(=O)C(CO)(C)C)nc(N)n1cccnc(()c1ccccc(C)(c)cc1ccccc(F)(F)c1cccccc1ncncc1)nc1)n1cccoc1)c1ncc' for input: 'C(O)C1=NN(C(=O)C(CO)(C)C)nc(N)n1cccnc(()c1ccccc(C)(c)cc1ccccc(F)(F)c1cccccc1ncncc1)nc1)n1cccoc1)c1ncc'\n",
      " 25%|██████████▏                             | 254/1000 [03:20<06:12,  2.00it/s][19:50:48] SMILES Parse Error: extra close parentheses while parsing: CCS(=O)=O)(c1cccccc)c1)n1ccncccc1ccccc2c1cccccc2c(=O)nc1(Cc)cccc1COCOn1(C)c1cccc(O)nc1)c1ccccccc1)(=O\n",
      "[19:50:48] SMILES Parse Error: Failed parsing SMILES 'CCS(=O)=O)(c1cccccc)c1)n1ccncccc1ccccc2c1cccccc2c(=O)nc1(Cc)cccc1COCOn1(C)c1cccc(O)nc1)c1ccccccc1)(=O' for input: 'CCS(=O)=O)(c1cccccc)c1)n1ccncccc1ccccc2c1cccccc2c(=O)nc1(Cc)cccc1COCOn1(C)c1cccc(O)nc1)c1ccccccc1)(=O'\n",
      " 26%|██████████▏                             | 255/1000 [03:21<06:18,  1.97it/s][19:50:48] SMILES Parse Error: extra close parentheses while parsing: C)(C)C\n",
      "CCC(c1cccc(C(r)(F)F)nc1)c1nccncc2c(C)(C)n1Sc1ccccci()cc1)nnc1ncccnc2ccc(S(#)1)OC)ncc1-c1cccc(B\n",
      "[19:50:48] SMILES Parse Error: Failed parsing SMILES 'C)(C)C\n",
      "CCC(c1cccc(C(r)(F)F)nc1)c1nccncc2c(C)(C)n1Sc1ccccci()cc1)nnc1ncccnc2ccc(S(#)1)OC)ncc1-c1cccc(B' for input: 'C)(C)C\n",
      "CCC(c1cccc(C(r)(F)F)nc1)c1nccncc2c(C)(C)n1Sc1ccccci()cc1)nnc1ncccnc2ccc(S(#)1)OC)ncc1-c1cccc(B'\n",
      " 26%|██████████▏                             | 256/1000 [03:21<06:11,  2.00it/s][19:50:49] SMILES Parse Error: extra close parentheses while parsing: C(=O)1)n1ccc(Br)nc1)c1cc(Brcccn()c1)c1ccccc(C)(N)C(=O)O)n1ccnccn1)c1cccccc1C1)nc1ccccc(O)c1)C\n",
      "CCC(=O)\n",
      "[19:50:49] SMILES Parse Error: Failed parsing SMILES 'C(=O)1)n1ccc(Br)nc1)c1cc(Brcccn()c1)c1ccccc(C)(N)C(=O)O)n1ccnccn1)c1cccccc1C1)nc1ccccc(O)c1)C\n",
      "CCC(=O)' for input: 'C(=O)1)n1ccc(Br)nc1)c1cc(Brcccn()c1)c1ccccc(C)(N)C(=O)O)n1ccnccn1)c1cccccc1C1)nc1ccccc(O)c1)C\n",
      "CCC(=O)'\n",
      " 26%|██████████▎                             | 257/1000 [03:22<06:23,  1.94it/s][19:50:49] SMILES Parse Error: extra close parentheses while parsing: C)(=O)=NC(=S)NC1=NNC(=O)C(C)(=O)C(CC(O)(F)C(=O)c1ccccc1C\n",
      "CCC(c3cc(F)cccF)n1)[nH]c1cccccc1)NC(=O)C(=O)\n",
      "[19:50:49] SMILES Parse Error: Failed parsing SMILES 'C)(=O)=NC(=S)NC1=NNC(=O)C(C)(=O)C(CC(O)(F)C(=O)c1ccccc1C\n",
      "CCC(c3cc(F)cccF)n1)[nH]c1cccccc1)NC(=O)C(=O)' for input: 'C)(=O)=NC(=S)NC1=NNC(=O)C(C)(=O)C(CC(O)(F)C(=O)c1ccccc1C\n",
      "CCC(c3cc(F)cccF)n1)[nH]c1cccccc1)NC(=O)C(=O)'\n",
      " 26%|██████████▎                             | 259/1000 [03:23<06:36,  1.87it/s][19:50:50] SMILES Parse Error: extra close parentheses while parsing: CS)(=O)=C\n",
      "CC(=O)C1=NN+]1(CN=[C@H]1c1cccc(F)ccc1nn[nH]1)(F)1(C(=O)c1ccccncn1)n1ccccccnc(C)c1nccnc(n)c1\n",
      "[19:50:50] SMILES Parse Error: Failed parsing SMILES 'CS)(=O)=C\n",
      "CC(=O)C1=NN+]1(CN=[C@H]1c1cccc(F)ccc1nn[nH]1)(F)1(C(=O)c1ccccncn1)n1ccccccnc(C)c1nccnc(n)c1' for input: 'CS)(=O)=C\n",
      "CC(=O)C1=NN+]1(CN=[C@H]1c1cccc(F)ccc1nn[nH]1)(F)1(C(=O)c1ccccncn1)n1ccccccnc(C)c1nccnc(n)c1'\n",
      " 26%|██████████▍                             | 260/1000 [03:24<06:24,  1.93it/s][19:50:51] SMILES Parse Error: extra close parentheses while parsing: C)on1ccc(Oc)ccc(O)n1)c1cccccc1-c1cccnc()c1c1ccc(I)ccc1nc(nc(S)ncc2c1)c1cccc(F)(F)cn1)c1nccsc/)C1)nc1c\n",
      "[19:50:51] SMILES Parse Error: Failed parsing SMILES 'C)on1ccc(Oc)ccc(O)n1)c1cccccc1-c1cccnc()c1c1ccc(I)ccc1nc(nc(S)ncc2c1)c1cccc(F)(F)cn1)c1nccsc/)C1)nc1c' for input: 'C)on1ccc(Oc)ccc(O)n1)c1cccccc1-c1cccnc()c1c1ccc(I)ccc1nc(nc(S)ncc2c1)c1cccc(F)(F)cn1)c1nccsc/)C1)nc1c'\n",
      " 26%|██████████▍                             | 261/1000 [03:24<06:18,  1.95it/s][19:50:51] SMILES Parse Error: extra close parentheses while parsing: C/c3ccco2)=c3ccsc(3)nccn2)S1(=O)=O\n",
      "CC(=O)C1c1cccoc1C(C)=O)S]1=C(Sc1cccccc1)n1cccc(=O)n1)c1cccccc1)n1c\n",
      "[19:50:51] SMILES Parse Error: Failed parsing SMILES 'C/c3ccco2)=c3ccsc(3)nccn2)S1(=O)=O\n",
      "CC(=O)C1c1cccoc1C(C)=O)S]1=C(Sc1cccccc1)n1cccc(=O)n1)c1cccccc1)n1c' for input: 'C/c3ccco2)=c3ccsc(3)nccn2)S1(=O)=O\n",
      "CC(=O)C1c1cccoc1C(C)=O)S]1=C(Sc1cccccc1)n1cccc(=O)n1)c1cccccc1)n1c'\n",
      " 26%|██████████▍                             | 262/1000 [03:25<06:08,  2.00it/s][19:50:52] SMILES Parse Error: extra close parentheses while parsing: CCNC(=O)C1=NN(C(=O)C(C)(C)C)c1ccccc(O)C(=O)n1)c1ccccccc(O)(=O)cc1)n1cccncc1)c1ccccccc(c1)nncc1C\n",
      "CCC(N\n",
      "[19:50:52] SMILES Parse Error: Failed parsing SMILES 'CCNC(=O)C1=NN(C(=O)C(C)(C)C)c1ccccc(O)C(=O)n1)c1ccccccc(O)(=O)cc1)n1cccncc1)c1ccccccc(c1)nncc1C\n",
      "CCC(N' for input: 'CCNC(=O)C1=NN(C(=O)C(C)(C)C)c1ccccc(O)C(=O)n1)c1ccccccc(O)(=O)cc1)n1cccncc1)c1ccccccc(c1)nncc1C\n",
      "CCC(N'\n",
      " 26%|██████████▌                             | 263/1000 [03:25<06:17,  1.95it/s][19:50:52] SMILES Parse Error: extra close parentheses while parsing: C(=S)NC1CC(F)c1ccccc(C)n1)Cc1ccccnnc1)c1cccccc1)nc1nc(c)ccc(c1)c1ccccccc1)c1ccccc(N2\n",
      "CCC(=O)N1Cc2c(C(\n",
      "[19:50:52] SMILES Parse Error: Failed parsing SMILES 'C(=S)NC1CC(F)c1ccccc(C)n1)Cc1ccccnnc1)c1cccccc1)nc1nc(c)ccc(c1)c1ccccccc1)c1ccccc(N2\n",
      "CCC(=O)N1Cc2c(C(' for input: 'C(=S)NC1CC(F)c1ccccc(C)n1)Cc1ccccnnc1)c1cccccc1)nc1nc(c)ccc(c1)c1ccccccc1)c1ccccc(N2\n",
      "CCC(=O)N1Cc2c(C('\n",
      " 26%|██████████▌                             | 264/1000 [03:26<06:32,  1.88it/s][19:50:53] SMILES Parse Error: extra close parentheses while parsing: C)(c2cccncc2)S1)n1ccccc2c1Cc1cccc(O)nc2)c1cc(=O)ncnc1ccnn(C)c1cccncc1)n1ccc(C)ccc(Br)(c1)c1cccccc1ccc\n",
      "[19:50:53] SMILES Parse Error: Failed parsing SMILES 'C)(c2cccncc2)S1)n1ccccc2c1Cc1cccc(O)nc2)c1cc(=O)ncnc1ccnn(C)c1cccncc1)n1ccc(C)ccc(Br)(c1)c1cccccc1ccc' for input: 'C)(c2cccncc2)S1)n1ccccc2c1Cc1cccc(O)nc2)c1cc(=O)ncnc1ccnn(C)c1cccncc1)n1ccc(C)ccc(Br)(c1)c1cccccc1ccc'\n",
      " 26%|██████████▌                             | 265/1000 [03:26<06:48,  1.80it/s][19:50:54] SMILES Parse Error: extra close parentheses while parsing: C(=O)C)cc1\n",
      "CCC(c1ccccc(O)c1C)CC(=O)C(OC)(c1ccccccc1ccc1)nc1cccccc1c1nncnc1)C(=O)c1cccccc(F)c(Br)(cc1)\n",
      "[19:50:54] SMILES Parse Error: Failed parsing SMILES 'C(=O)C)cc1\n",
      "CCC(c1ccccc(O)c1C)CC(=O)C(OC)(c1ccccccc1ccc1)nc1cccccc1c1nncnc1)C(=O)c1cccccc(F)c(Br)(cc1)' for input: 'C(=O)C)cc1\n",
      "CCC(c1ccccc(O)c1C)CC(=O)C(OC)(c1ccccccc1ccc1)nc1cccccc1c1nncnc1)C(=O)c1cccccc(F)c(Br)(cc1)'\n",
      " 27%|██████████▋                             | 266/1000 [03:27<09:05,  1.35it/s][19:50:55] SMILES Parse Error: extra close parentheses while parsing: C(Cn1ccc(Br)noc1)c1cccccc1)n1ncc(F)cc1)n1ccc(Br)ccc(Br)nc1)NC[C@@H](c1cccc(Br)ccc2c1ncccn1)n1ccc(C)nc\n",
      "[19:50:55] SMILES Parse Error: Failed parsing SMILES 'C(Cn1ccc(Br)noc1)c1cccccc1)n1ncc(F)cc1)n1ccc(Br)ccc(Br)nc1)NC[C@@H](c1cccc(Br)ccc2c1ncccn1)n1ccc(C)nc' for input: 'C(Cn1ccc(Br)noc1)c1cccccc1)n1ncc(F)cc1)n1ccc(Br)ccc(Br)nc1)NC[C@@H](c1cccc(Br)ccc2c1ncccn1)n1ccc(C)nc'\n",
      " 27%|██████████▋                             | 267/1000 [03:28<09:04,  1.35it/s][19:50:56] SMILES Parse Error: extra close parentheses while parsing: C2c1cccc(O)c1)NC(=O)NC\n",
      "CC1=C(C(=O)C2=C(C1)OC(=O)C1=C(C)=O\n",
      "CCC(c)=C(=CN)C(=O)S1(=O)CCCN1Cc1ccccc1)(=O)\n",
      "[19:50:56] SMILES Parse Error: Failed parsing SMILES 'C2c1cccc(O)c1)NC(=O)NC\n",
      "CC1=C(C(=O)C2=C(C1)OC(=O)C1=C(C)=O\n",
      "CCC(c)=C(=CN)C(=O)S1(=O)CCCN1Cc1ccccc1)(=O)' for input: 'C2c1cccc(O)c1)NC(=O)NC\n",
      "CC1=C(C(=O)C2=C(C1)OC(=O)C1=C(C)=O\n",
      "CCC(c)=C(=CN)C(=O)S1(=O)CCCN1Cc1ccccc1)(=O)'\n",
      " 27%|██████████▋                             | 268/1000 [03:29<08:28,  1.44it/s][19:50:56] SMILES Parse Error: extra close parentheses while parsing: CC(=O)NC1=NN(C(=O)C(C)(C)C(=O)NC(C)=O)c1cccccc(F)cc1)C\n",
      "CC(=O)C1=C(C1(F)C(=O)C12CNC(=COC)SC1(c2cccccnc\n",
      "[19:50:56] SMILES Parse Error: Failed parsing SMILES 'CC(=O)NC1=NN(C(=O)C(C)(C)C(=O)NC(C)=O)c1cccccc(F)cc1)C\n",
      "CC(=O)C1=C(C1(F)C(=O)C12CNC(=COC)SC1(c2cccccnc' for input: 'CC(=O)NC1=NN(C(=O)C(C)(C)C(=O)NC(C)=O)c1cccccc(F)cc1)C\n",
      "CC(=O)C1=C(C1(F)C(=O)C12CNC(=COC)SC1(c2cccccnc'\n",
      " 27%|██████████▊                             | 269/1000 [03:29<08:07,  1.50it/s][19:50:57] SMILES Parse Error: extra close parentheses while parsing: C1=NC(=O)C(C(=O)=O)/C(=C/c3cccnc3C)=N(C)C(=O)Cc3cccc(OC)c1)F)c1cccccccnc1)Cc1ccccncc()c3ccccc(2)n1ccc\n",
      "[19:50:57] SMILES Parse Error: Failed parsing SMILES 'C1=NC(=O)C(C(=O)=O)/C(=C/c3cccnc3C)=N(C)C(=O)Cc3cccc(OC)c1)F)c1cccccccnc1)Cc1ccccncc()c3ccccc(2)n1ccc' for input: 'C1=NC(=O)C(C(=O)=O)/C(=C/c3cccnc3C)=N(C)C(=O)Cc3cccc(OC)c1)F)c1cccccccnc1)Cc1ccccncc()c3ccccc(2)n1ccc'\n",
      " 27%|██████████▊                             | 270/1000 [03:30<08:08,  1.50it/s][19:50:57] SMILES Parse Error: extra close parentheses while parsing: C[C@H](N)C(=O)Nc1ccc(F)c(F)cc1)NC[C@@]1(O)c1c\n",
      "nHc(=C(NC(=O)CC)C(c1ccccc)c1)n1ccccccc1)n2cccccnc2nH]nc\n",
      "[19:50:57] SMILES Parse Error: Failed parsing SMILES 'C[C@H](N)C(=O)Nc1ccc(F)c(F)cc1)NC[C@@]1(O)c1c\n",
      "nHc(=C(NC(=O)CC)C(c1ccccc)c1)n1ccccccc1)n2cccccnc2nH]nc' for input: 'C[C@H](N)C(=O)Nc1ccc(F)c(F)cc1)NC[C@@]1(O)c1c\n",
      "nHc(=C(NC(=O)CC)C(c1ccccc)c1)n1ccccccc1)n2cccccnc2nH]nc'\n",
      " 27%|██████████▊                             | 271/1000 [03:31<08:01,  1.51it/s][19:50:58] SMILES Parse Error: unclosed ring for input: 'CC2\n",
      "CC1=C(C(=O)C(=O)CC1)c1cccncc1)n1cccc(B()c1ncc(C)cc1)c1ncccnc()(c2)c1cccccc1n1cccccc1)nnc1)nc1cccc'\n",
      " 27%|██████████▉                             | 272/1000 [03:31<07:29,  1.62it/s][19:50:58] SMILES Parse Error: extra close parentheses while parsing: CC1)B1ccccc(nH(c2)=c1Cc1cccn(C)c1nccncc1)c1cccccn1)c1cc(Br)nc(O)n1)c1cccccc1C(F)(C)=O)n1cccccccc1)nc1\n",
      "[19:50:58] SMILES Parse Error: Failed parsing SMILES 'CC1)B1ccccc(nH(c2)=c1Cc1cccn(C)c1nccncc1)c1cccccn1)c1cc(Br)nc(O)n1)c1cccccc1C(F)(C)=O)n1cccccccc1)nc1' for input: 'CC1)B1ccccc(nH(c2)=c1Cc1cccn(C)c1nccncc1)c1cccccn1)c1cc(Br)nc(O)n1)c1cccccc1C(F)(C)=O)n1cccccccc1)nc1'\n",
      " 27%|██████████▉                             | 273/1000 [03:32<06:56,  1.74it/s][19:50:59] SMILES Parse Error: syntax error while parsing: C@H]1c1cccccn1)n1ccccccc(S(=O)((O)()c2ccccccn2)no1)c1ccccc(Br)cc1nncHn1)c1ccccc(O)(c2ccccc(F)cn1)c1cc\n",
      "[19:50:59] SMILES Parse Error: Failed parsing SMILES 'C@H]1c1cccccn1)n1ccccccc(S(=O)((O)()c2ccccccn2)no1)c1ccccc(Br)cc1nncHn1)c1ccccc(O)(c2ccccc(F)cn1)c1cc' for input: 'C@H]1c1cccccn1)n1ccccccc(S(=O)((O)()c2ccccccn2)no1)c1ccccc(Br)cc1nncHn1)c1ccccc(O)(c2ccccc(F)cn1)c1cc'\n",
      " 27%|██████████▉                             | 274/1000 [03:32<06:35,  1.83it/s][19:50:59] SMILES Parse Error: extra close parentheses while parsing: C[C@H]21)c1ncc(C)cc(Br)c1)N2\n",
      "CC(=O)C1(CCNS(=O)(=O)(c2ccccc(C)(=O)nrc3cccnc3)CC(=O)N2\n",
      "CC(=O)C1=NN(C(=O\n",
      "[19:50:59] SMILES Parse Error: Failed parsing SMILES 'C[C@H]21)c1ncc(C)cc(Br)c1)N2\n",
      "CC(=O)C1(CCNS(=O)(=O)(c2ccccc(C)(=O)nrc3cccnc3)CC(=O)N2\n",
      "CC(=O)C1=NN(C(=O' for input: 'C[C@H]21)c1ncc(C)cc(Br)c1)N2\n",
      "CC(=O)C1(CCNS(=O)(=O)(c2ccccc(C)(=O)nrc3cccnc3)CC(=O)N2\n",
      "CC(=O)C1=NN(C(=O'\n",
      " 28%|███████████                             | 275/1000 [03:33<06:34,  1.84it/s][19:51:00] SMILES Parse Error: unclosed ring for input: 'C2\n",
      "CCC(=O)C1=NN(c2sc(C)non1)c1ccccccc)c1)(C)C(=O)O)c1cccccn1CC)=C(C(=O)C(C)=O)c1cccccc1nnnc1)ncc(nccc'\n",
      " 28%|███████████                             | 276/1000 [03:33<06:16,  1.92it/s][19:51:00] Can't kekulize mol.  Unkekulized atoms: 1 2 3 4 6 7 8\n",
      " 28%|███████████                             | 277/1000 [03:34<06:09,  1.96it/s][19:51:01] SMILES Parse Error: syntax error while parsing: C@H]2Cc3c(Nc3ccncc(O)c4)S1)nH]1)c1cccccc1)c1ncccnc1)n1S()(=O)(=O)CC\n",
      "CC(CCC(=O)[C@@H]1OCCC[C@H]1)c1ccc\n",
      "[19:51:01] SMILES Parse Error: Failed parsing SMILES 'C@H]2Cc3c(Nc3ccncc(O)c4)S1)nH]1)c1cccccc1)c1ncccnc1)n1S()(=O)(=O)CC\n",
      "CC(CCC(=O)[C@@H]1OCCC[C@H]1)c1ccc' for input: 'C@H]2Cc3c(Nc3ccncc(O)c4)S1)nH]1)c1cccccc1)c1ncccnc1)n1S()(=O)(=O)CC\n",
      "CC(CCC(=O)[C@@H]1OCCC[C@H]1)c1ccc'\n",
      " 28%|███████████                             | 278/1000 [03:34<06:01,  2.00it/s][19:51:01] SMILES Parse Error: extra close parentheses while parsing: CO)C2=CN3c1cccc(O)nc3c12\n",
      "CCn1ccc(C)nc(C)c1nccs2c(n)n1)c1ccccnc2c1ncc(N)c(F)cc2c(=O)n1cccccc1n1Cc1cccc\n",
      "[19:51:01] SMILES Parse Error: Failed parsing SMILES 'CO)C2=CN3c1cccc(O)nc3c12\n",
      "CCn1ccc(C)nc(C)c1nccs2c(n)n1)c1ccccnc2c1ncc(N)c(F)cc2c(=O)n1cccccc1n1Cc1cccc' for input: 'CO)C2=CN3c1cccc(O)nc3c12\n",
      "CCn1ccc(C)nc(C)c1nccs2c(n)n1)c1ccccnc2c1ncc(N)c(F)cc2c(=O)n1cccccc1n1Cc1cccc'\n",
      " 28%|███████████▏                            | 279/1000 [03:35<06:12,  1.94it/s][19:51:02] SMILES Parse Error: extra close parentheses while parsing: CC1=C(C2)c1cccnccc1c1)C(=O)OC\n",
      "CCC]1C[C@H]2N=C(c3cc(Br)cc(C#N[C@+](O)(=O)=O)(=O)c3cccss2)C(=O)C1Cc1ccc\n",
      "[19:51:02] SMILES Parse Error: Failed parsing SMILES 'CC1=C(C2)c1cccnccc1c1)C(=O)OC\n",
      "CCC]1C[C@H]2N=C(c3cc(Br)cc(C#N[C@+](O)(=O)=O)(=O)c3cccss2)C(=O)C1Cc1ccc' for input: 'CC1=C(C2)c1cccnccc1c1)C(=O)OC\n",
      "CCC]1C[C@H]2N=C(c3cc(Br)cc(C#N[C@+](O)(=O)=O)(=O)c3cccss2)C(=O)C1Cc1ccc'\n",
      " 28%|███████████▏                            | 280/1000 [03:35<06:05,  1.97it/s][19:51:02] SMILES Parse Error: extra close parentheses while parsing: C[C@H]1CC[C@@]1(c1nc2cccocc24c1ccccs1)[nH]1c1ccccc1C)Cc1ccc(C(=O)O)ccc1)c1nccnc(O)n1Cc2ccccc1)n1cccc(\n",
      "[19:51:02] SMILES Parse Error: Failed parsing SMILES 'C[C@H]1CC[C@@]1(c1nc2cccocc24c1ccccs1)[nH]1c1ccccc1C)Cc1ccc(C(=O)O)ccc1)c1nccnc(O)n1Cc2ccccc1)n1cccc(' for input: 'C[C@H]1CC[C@@]1(c1nc2cccocc24c1ccccs1)[nH]1c1ccccc1C)Cc1ccc(C(=O)O)ccc1)c1nccnc(O)n1Cc2ccccc1)n1cccc('\n",
      " 28%|███████████▎                            | 282/1000 [03:36<05:54,  2.03it/s][19:51:03] SMILES Parse Error: syntax error while parsing: C@H]21)c1cccc(F)ccc1nc2cccnc(O)cc2)S1)NC(=O)C(=O)C3[C@@H](c11)[C@H](c1cccccc1)n1cc(ccccc12c1cccnc()2)\n",
      "[19:51:03] SMILES Parse Error: Failed parsing SMILES 'C@H]21)c1cccc(F)ccc1nc2cccnc(O)cc2)S1)NC(=O)C(=O)C3[C@@H](c11)[C@H](c1cccccc1)n1cc(ccccc12c1cccnc()2)' for input: 'C@H]21)c1cccc(F)ccc1nc2cccnc(O)cc2)S1)NC(=O)C(=O)C3[C@@H](c11)[C@H](c1cccccc1)n1cc(ccccc12c1cccnc()2)'\n",
      " 28%|███████████▎                            | 283/1000 [03:37<06:09,  1.94it/s][19:51:04] SMILES Parse Error: extra close parentheses while parsing: Cn1ccc(O)nc1)C(=O)c1cccccc1ncc(c1(ncccc(c2)c2ccccc(O)nc1)NC(=O)C(=O)(=CC)c1ccccno1)SC(F)(F)=N)(c1cccc\n",
      "[19:51:04] SMILES Parse Error: Failed parsing SMILES 'Cn1ccc(O)nc1)C(=O)c1cccccc1ncc(c1(ncccc(c2)c2ccccc(O)nc1)NC(=O)C(=O)(=CC)c1ccccno1)SC(F)(F)=N)(c1cccc' for input: 'Cn1ccc(O)nc1)C(=O)c1cccccc1ncc(c1(ncccc(c2)c2ccccc(O)nc1)NC(=O)C(=O)(=CC)c1ccccno1)SC(F)(F)=N)(c1cccc'\n",
      " 28%|███████████▎                            | 284/1000 [03:37<06:17,  1.90it/s][19:51:05] SMILES Parse Error: extra close parentheses while parsing: CN)c1ccccc(nn1)c1cccc(F)ccc1)n1ccccc(n)cc2nccc(F)c(F)c1)(N)=O\n",
      "CC1=C(C(=O)C[C@H]1ccccc1)C1(C)C2=C(O)CC\n",
      "[19:51:05] SMILES Parse Error: Failed parsing SMILES 'CN)c1ccccc(nn1)c1cccc(F)ccc1)n1ccccc(n)cc2nccc(F)c(F)c1)(N)=O\n",
      "CC1=C(C(=O)C[C@H]1ccccc1)C1(C)C2=C(O)CC' for input: 'CN)c1ccccc(nn1)c1cccc(F)ccc1)n1ccccc(n)cc2nccc(F)c(F)c1)(N)=O\n",
      "CC1=C(C(=O)C[C@H]1ccccc1)C1(C)C2=C(O)CC'\n",
      " 28%|███████████▍                            | 285/1000 [03:38<06:11,  1.93it/s][19:51:05] SMILES Parse Error: syntax error while parsing: C@H](Nc3ccc(Br)ccc34S(=O)(=O)CC1)c1cccccc(O)c1)c1cccccc(O)(c1ncccc(S)n1c1cccc(O)nc1)c1cccccc1C(F)(F)/\n",
      "[19:51:05] SMILES Parse Error: Failed parsing SMILES 'C@H](Nc3ccc(Br)ccc34S(=O)(=O)CC1)c1cccccc(O)c1)c1cccccc(O)(c1ncccc(S)n1c1cccc(O)nc1)c1cccccc1C(F)(F)/' for input: 'C@H](Nc3ccc(Br)ccc34S(=O)(=O)CC1)c1cccccc(O)c1)c1cccccc(O)(c1ncccc(S)n1c1cccc(O)nc1)c1cccccc1C(F)(F)/'\n",
      " 29%|███████████▍                            | 286/1000 [03:38<06:06,  1.95it/s][19:51:06] SMILES Parse Error: extra close parentheses while parsing: CCCO)c1cccccc1)N(C(=O)C(=O)N1CC=C(C(=O)C1=NN(C(=O)C(CO)C)C(=O)[n1ncnc(-c2ccc(N)cc(C)(c1)c1cc(C)ccccc1\n",
      "[19:51:06] SMILES Parse Error: Failed parsing SMILES 'CCCO)c1cccccc1)N(C(=O)C(=O)N1CC=C(C(=O)C1=NN(C(=O)C(CO)C)C(=O)[n1ncnc(-c2ccc(N)cc(C)(c1)c1cc(C)ccccc1' for input: 'CCCO)c1cccccc1)N(C(=O)C(=O)N1CC=C(C(=O)C1=NN(C(=O)C(CO)C)C(=O)[n1ncnc(-c2ccc(N)cc(C)(c1)c1cc(C)ccccc1'\n",
      " 29%|███████████▍                            | 287/1000 [03:39<06:13,  1.91it/s][19:51:06] SMILES Parse Error: extra close parentheses while parsing: Cl)cc1)c1ncccnc(N)(C)c1nnccn1)C(=O)c1cccccc1)ccccc12\n",
      "CC(CI)(CSc1cccc(F)cc(F)c1)N[C@@H]1c1ccccn1)C(=O)\n",
      "[19:51:06] SMILES Parse Error: Failed parsing SMILES 'Cl)cc1)c1ncccnc(N)(C)c1nnccn1)C(=O)c1cccccc1)ccccc12\n",
      "CC(CI)(CSc1cccc(F)cc(F)c1)N[C@@H]1c1ccccn1)C(=O)' for input: 'Cl)cc1)c1ncccnc(N)(C)c1nnccn1)C(=O)c1cccccc1)ccccc12\n",
      "CC(CI)(CSc1cccc(F)cc(F)c1)N[C@@H]1c1ccccn1)C(=O)'\n",
      " 29%|███████████▌                            | 288/1000 [03:39<06:02,  1.96it/s][19:51:07] SMILES Parse Error: extra close parentheses while parsing: CC(=O)C2o1cccnc(O)c1)o1)c1cccccc1)c1ncccc(F)(F)c1cccccc1)(F)n1ccccn1)ncc(nc)ccc1)c1cccc(C)(c)ccc1)(=O\n",
      "[19:51:07] SMILES Parse Error: Failed parsing SMILES 'CC(=O)C2o1cccnc(O)c1)o1)c1cccccc1)c1ncccc(F)(F)c1cccccc1)(F)n1ccccn1)ncc(nc)ccc1)c1cccc(C)(c)ccc1)(=O' for input: 'CC(=O)C2o1cccnc(O)c1)o1)c1cccccc1)c1ncccc(F)(F)c1cccccc1)(F)n1ccccn1)ncc(nc)ccc1)c1cccc(C)(c)ccc1)(=O'\n",
      " 29%|███████████▌                            | 289/1000 [03:40<05:54,  2.01it/s][19:51:07] SMILES Parse Error: extra close parentheses while parsing: C1=NN(C(=O)C(=CN)C(=O)C(=O)Nc1cFccc(C)nc1)n1cccc(Br)cc1)c1ccccc(F)(F)nc1)c1cccccc2c(nccccc(c)c1)c1ncc\n",
      "[19:51:07] SMILES Parse Error: Failed parsing SMILES 'C1=NN(C(=O)C(=CN)C(=O)C(=O)Nc1cFccc(C)nc1)n1cccc(Br)cc1)c1ccccc(F)(F)nc1)c1cccccc2c(nccccc(c)c1)c1ncc' for input: 'C1=NN(C(=O)C(=CN)C(=O)C(=O)Nc1cFccc(C)nc1)n1cccc(Br)cc1)c1ccccc(F)(F)nc1)c1cccccc2c(nccccc(c)c1)c1ncc'\n",
      " 29%|███████████▌                            | 290/1000 [03:40<05:50,  2.03it/s][19:51:08] SMILES Parse Error: extra close parentheses while parsing: Co2C)S1\n",
      "CCCC(=O)N1C[C@H2(ncccc(N)n2)nc(-c2ccc(NC(N)=O)=(C(=O)=O)sc4ccccc3cc3ccccc)n3)C1[nH]nc2ccncc(C\n",
      "[19:51:08] SMILES Parse Error: Failed parsing SMILES 'Co2C)S1\n",
      "CCCC(=O)N1C[C@H2(ncccc(N)n2)nc(-c2ccc(NC(N)=O)=(C(=O)=O)sc4ccccc3cc3ccccc)n3)C1[nH]nc2ccncc(C' for input: 'Co2C)S1\n",
      "CCCC(=O)N1C[C@H2(ncccc(N)n2)nc(-c2ccc(NC(N)=O)=(C(=O)=O)sc4ccccc3cc3ccccc)n3)C1[nH]nc2ccncc(C'\n",
      " 29%|███████████▋                            | 291/1000 [03:41<05:59,  1.97it/s][19:51:08] SMILES Parse Error: extra close parentheses while parsing: Cc3c(F)cc3C(=O)CN3)c2cccccnc1)n1Cc1cccccc(O)(c2)n1ccc(F)c(Cnncc2)n1ccc(N(C)C)=ccnc(F)cn1)C(=O)CC1(CN)\n",
      "[19:51:08] SMILES Parse Error: Failed parsing SMILES 'Cc3c(F)cc3C(=O)CN3)c2cccccnc1)n1Cc1cccccc(O)(c2)n1ccc(F)c(Cnncc2)n1ccc(N(C)C)=ccnc(F)cn1)C(=O)CC1(CN)' for input: 'Cc3c(F)cc3C(=O)CN3)c2cccccnc1)n1Cc1cccccc(O)(c2)n1ccc(F)c(Cnncc2)n1ccc(N(C)C)=ccnc(F)cn1)C(=O)CC1(CN)'\n",
      " 29%|███████████▋                            | 292/1000 [03:41<05:49,  2.02it/s][19:51:08] SMILES Parse Error: syntax error while parsing: C@H](F)CS(=O)(=O)C1=N[C@H](c1ccccc(O)(c)c1)c1cccccc(c1)(C)OCO=O\n",
      "CC(=O)N1CCc2ccc(OC)c(O)c2)NC(=S)(=O)=\n",
      "[19:51:08] SMILES Parse Error: Failed parsing SMILES 'C@H](F)CS(=O)(=O)C1=N[C@H](c1ccccc(O)(c)c1)c1cccccc(c1)(C)OCO=O\n",
      "CC(=O)N1CCc2ccc(OC)c(O)c2)NC(=S)(=O)=' for input: 'C@H](F)CS(=O)(=O)C1=N[C@H](c1ccccc(O)(c)c1)c1cccccc(c1)(C)OCO=O\n",
      "CC(=O)N1CCc2ccc(OC)c(O)c2)NC(=S)(=O)='\n",
      " 29%|███████████▋                            | 293/1000 [03:42<05:45,  2.05it/s][19:51:09] SMILES Parse Error: extra close parentheses while parsing: C1)c1ccccc([nH]c1)(=O)O\n",
      "CCCC(=O)C1=N+-]1c1ccc(Br)cc(F)(F)c1Br)[cH]n1Cc1ccccc(O)nc1)N=1(c#ccccc(F)cc1)\n",
      "[19:51:09] SMILES Parse Error: Failed parsing SMILES 'C1)c1ccccc([nH]c1)(=O)O\n",
      "CCCC(=O)C1=N+-]1c1ccc(Br)cc(F)(F)c1Br)[cH]n1Cc1ccccc(O)nc1)N=1(c#ccccc(F)cc1)' for input: 'C1)c1ccccc([nH]c1)(=O)O\n",
      "CCCC(=O)C1=N+-]1c1ccc(Br)cc(F)(F)c1Br)[cH]n1Cc1ccccc(O)nc1)N=1(c#ccccc(F)cc1)'\n",
      " 29%|███████████▊                            | 294/1000 [03:42<05:39,  2.08it/s][19:51:09] SMILES Parse Error: extra close parentheses while parsing: C)o2)(=O)n1cccnc(O)c1cc1ccccc(c1)=O)n1Cc1cccccc1)n1cccnc()c1CCOc1cccccc1)n1nccc(F)cn1)c1cccccc2c([nH]\n",
      "[19:51:09] SMILES Parse Error: Failed parsing SMILES 'C)o2)(=O)n1cccnc(O)c1cc1ccccc(c1)=O)n1Cc1cccccc1)n1cccnc()c1CCOc1cccccc1)n1nccc(F)cn1)c1cccccc2c([nH]' for input: 'C)o2)(=O)n1cccnc(O)c1cc1ccccc(c1)=O)n1Cc1cccccc1)n1cccnc()c1CCOc1cccccc1)n1nccc(F)cn1)c1cccccc2c([nH]'\n",
      " 30%|███████████▊                            | 295/1000 [03:43<05:47,  2.03it/s][19:51:10] SMILES Parse Error: syntax error while parsing: C@@H]1c1cccc(O)nc1)c1cccsc1C)C(C)(=O)C(=O)=n1ccncccc12\n",
      "CC(=O)N1Cc1csccc1F)n1ccn(F)ccc1cccccc1)(c1)CCN\n",
      "[19:51:10] SMILES Parse Error: Failed parsing SMILES 'C@@H]1c1cccc(O)nc1)c1cccsc1C)C(C)(=O)C(=O)=n1ccncccc12\n",
      "CC(=O)N1Cc1csccc1F)n1ccn(F)ccc1cccccc1)(c1)CCN' for input: 'C@@H]1c1cccc(O)nc1)c1cccsc1C)C(C)(=O)C(=O)=n1ccncccc12\n",
      "CC(=O)N1Cc1csccc1F)n1ccn(F)ccc1cccccc1)(c1)CCN'\n",
      " 30%|███████████▊                            | 296/1000 [03:43<05:43,  2.05it/s][19:51:10] SMILES Parse Error: extra close parentheses while parsing: C(F)(F)nn2Cc2ccccc2)c1nc2ccccc2c(=O)nC1Cc1cccccc1)n1cccc(O)n1)cnccc(O)c1cccc(Cl)cc(O)n1Cc1ccccc1)n1cc\n",
      "[19:51:10] SMILES Parse Error: Failed parsing SMILES 'C(F)(F)nn2Cc2ccccc2)c1nc2ccccc2c(=O)nC1Cc1cccccc1)n1cccc(O)n1)cnccc(O)c1cccc(Cl)cc(O)n1Cc1ccccc1)n1cc' for input: 'C(F)(F)nn2Cc2ccccc2)c1nc2ccccc2c(=O)nC1Cc1cccccc1)n1cccc(O)n1)cnccc(O)c1cccc(Cl)cc(O)n1Cc1ccccc1)n1cc'\n",
      " 30%|███████████▉                            | 297/1000 [03:44<05:43,  2.05it/s][19:51:11] SMILES Parse Error: syntax error while parsing: C[C@@H12Oc1ccccc(OC(=O)OC)c2)C1=CO1c1cccc(O)nc1)S(=O)(=O)c1ccccnc1CS1(=C\\CO)C(=O)C2=C=CC1)c1nc2ccsc(c\n",
      "[19:51:11] SMILES Parse Error: Failed parsing SMILES 'C[C@@H12Oc1ccccc(OC(=O)OC)c2)C1=CO1c1cccc(O)nc1)S(=O)(=O)c1ccccnc1CS1(=C\\CO)C(=O)C2=C=CC1)c1nc2ccsc(c' for input: 'C[C@@H12Oc1ccccc(OC(=O)OC)c2)C1=CO1c1cccc(O)nc1)S(=O)(=O)c1ccccnc1CS1(=C\\CO)C(=O)C2=C=CC1)c1nc2ccsc(c'\n",
      " 30%|███████████▉                            | 298/1000 [03:44<05:53,  1.99it/s][19:51:12] SMILES Parse Error: extra close parentheses while parsing: CCC(c34c44)[nH]nc3)n1Cc1ccc([N+](=O)[O-])cc2)C(=O)=O)C1c1cscnc1C1CCCC1\n",
      "C[C@H](F)OC(=O)C(C[)(C)(C)(=O)\n",
      "[19:51:12] SMILES Parse Error: Failed parsing SMILES 'CCC(c34c44)[nH]nc3)n1Cc1ccc([N+](=O)[O-])cc2)C(=O)=O)C1c1cscnc1C1CCCC1\n",
      "C[C@H](F)OC(=O)C(C[)(C)(C)(=O)' for input: 'CCC(c34c44)[nH]nc3)n1Cc1ccc([N+](=O)[O-])cc2)C(=O)=O)C1c1cscnc1C1CCCC1\n",
      "C[C@H](F)OC(=O)C(C[)(C)(C)(=O)'\n",
      " 30%|███████████▉                            | 299/1000 [03:45<06:02,  1.93it/s][19:51:12] SMILES Parse Error: extra close parentheses while parsing: C(=O)N3)c1Hc1ccccc(nH]c1)c1ncc(Br)ccc1c(HC(F)F)c1nccncc1NOc1cccccc3c(nc1)n2cccsc3c(O)ncnc2Br)(C)(=O)C\n",
      "[19:51:12] SMILES Parse Error: Failed parsing SMILES 'C(=O)N3)c1Hc1ccccc(nH]c1)c1ncc(Br)ccc1c(HC(F)F)c1nccncc1NOc1cccccc3c(nc1)n2cccsc3c(O)ncnc2Br)(C)(=O)C' for input: 'C(=O)N3)c1Hc1ccccc(nH]c1)c1ncc(Br)ccc1c(HC(F)F)c1nccncc1NOc1cccccc3c(nc1)n2cccsc3c(O)ncnc2Br)(C)(=O)C'\n",
      " 30%|████████████                            | 300/1000 [03:45<05:54,  1.98it/s][19:51:12] SMILES Parse Error: extra close parentheses while parsing: C/c3cccnc3)S2)S)=ncsnc(=S)n2ccc(noc1)nnc1)c1cccccc(\\(C)(=O)(C)=O)nc1)c1cccccc1)(c1cccccc1)nc1cc1ccccc\n",
      "[19:51:12] SMILES Parse Error: Failed parsing SMILES 'C/c3cccnc3)S2)S)=ncsnc(=S)n2ccc(noc1)nnc1)c1cccccc(\\(C)(=O)(C)=O)nc1)c1cccccc1)(c1cccccc1)nc1cc1ccccc' for input: 'C/c3cccnc3)S2)S)=ncsnc(=S)n2ccc(noc1)nnc1)c1cccccc(\\(C)(=O)(C)=O)nc1)c1cccccc1)(c1cccccc1)nc1cc1ccccc'\n",
      " 30%|████████████                            | 301/1000 [03:46<05:48,  2.00it/s][19:51:13] SMILES Parse Error: extra close parentheses while parsing: CCC1(OC)CN[C@H]1c1ccc(OF)ccc1)n1cccc(N)(cnccccccc2c1)S1\n",
      "CC1=C(C1=OCOC2=C(C1)=C(C1)NC(=S)N[C@H]1c1cccc\n",
      "[19:51:13] SMILES Parse Error: Failed parsing SMILES 'CCC1(OC)CN[C@H]1c1ccc(OF)ccc1)n1cccc(N)(cnccccccc2c1)S1\n",
      "CC1=C(C1=OCOC2=C(C1)=C(C1)NC(=S)N[C@H]1c1cccc' for input: 'CCC1(OC)CN[C@H]1c1ccc(OF)ccc1)n1cccc(N)(cnccccccc2c1)S1\n",
      "CC1=C(C1=OCOC2=C(C1)=C(C1)NC(=S)N[C@H]1c1cccc'\n",
      " 30%|████████████                            | 302/1000 [03:46<05:47,  2.01it/s][19:51:14] SMILES Parse Error: extra close parentheses while parsing: CCNC2)S1\n",
      "CC1=C(C(=O)C(=O)C(=O)CNC(=O)NC1=C(C)=N+C](Br)=C(=O)c1ccccccn1)C\n",
      "CC(=O)C1=N[C@@H]2c2cccc(O)c2\n",
      "[19:51:14] SMILES Parse Error: Failed parsing SMILES 'CCNC2)S1\n",
      "CC1=C(C(=O)C(=O)C(=O)CNC(=O)NC1=C(C)=N+C](Br)=C(=O)c1ccccccn1)C\n",
      "CC(=O)C1=N[C@@H]2c2cccc(O)c2' for input: 'CCNC2)S1\n",
      "CC1=C(C(=O)C(=O)C(=O)CNC(=O)NC1=C(C)=N+C](Br)=C(=O)c1ccccccn1)C\n",
      "CC(=O)C1=N[C@@H]2c2cccc(O)c2'\n",
      " 30%|████████████                            | 303/1000 [03:47<05:56,  1.95it/s][19:51:14] SMILES Parse Error: extra close parentheses while parsing: C1)c1cccccc1nccncc2c1)c1ncc[nH]1)C1C(=O)C1c1ccc(OC)nn1Cc1ccccnc1)c1nccno1)c1cccncc1)(c(=O)n1Cc1ccccn1\n",
      "[19:51:14] SMILES Parse Error: Failed parsing SMILES 'C1)c1cccccc1nccncc2c1)c1ncc[nH]1)C1C(=O)C1c1ccc(OC)nn1Cc1ccccnc1)c1nccno1)c1cccncc1)(c(=O)n1Cc1ccccn1' for input: 'C1)c1cccccc1nccncc2c1)c1ncc[nH]1)C1C(=O)C1c1ccc(OC)nn1Cc1ccccnc1)c1nccno1)c1cccncc1)(c(=O)n1Cc1ccccn1'\n",
      " 30%|████████████▏                           | 304/1000 [03:47<05:50,  1.99it/s][19:51:14] SMILES Parse Error: extra close parentheses while parsing: C(=C/C(=C)C1=NN(C(=O)C(=O)COc3ccc(Br)csc2c1ncccoc2n1)c2cccsc1)n1ccccc2c(c)cc1)n1ccccccc2c(nc1cccc(nn2\n",
      "[19:51:14] SMILES Parse Error: Failed parsing SMILES 'C(=C/C(=C)C1=NN(C(=O)C(=O)COc3ccc(Br)csc2c1ncccoc2n1)c2cccsc1)n1ccccc2c(c)cc1)n1ccccccc2c(nc1cccc(nn2' for input: 'C(=C/C(=C)C1=NN(C(=O)C(=O)COc3ccc(Br)csc2c1ncccoc2n1)c2cccsc1)n1ccccc2c(c)cc1)n1ccccccc2c(nc1cccc(nn2'\n",
      " 30%|████████████▏                           | 305/1000 [03:48<05:47,  2.00it/s][19:51:15] SMILES Parse Error: extra close parentheses while parsing: Cc2c[nH]nc2Br)CC1c1cccccc2c1ncc(N)nc(Br)cc2c(=O)n1Cc1cccccc1)[nH]1)c1ccccs1)c1ncccn1)Cc1ccccnc1)(=O)C\n",
      "[19:51:15] SMILES Parse Error: Failed parsing SMILES 'Cc2c[nH]nc2Br)CC1c1cccccc2c1ncc(N)nc(Br)cc2c(=O)n1Cc1cccccc1)[nH]1)c1ccccs1)c1ncccn1)Cc1ccccnc1)(=O)C' for input: 'Cc2c[nH]nc2Br)CC1c1cccccc2c1ncc(N)nc(Br)cc2c(=O)n1Cc1cccccc1)[nH]1)c1ccccs1)c1ncccn1)Cc1ccccnc1)(=O)C'\n",
      " 31%|████████████▏                           | 306/1000 [03:48<05:44,  2.01it/s][19:51:16] SMILES Parse Error: extra close parentheses while parsing: CN)C(=O)C1CC1C\n",
      "CC(=O)C1Cc2c(c(cc2C)[nH]sc1C)Cc1c[nH]cn1)c1cccc([nHH]c11\n",
      "CCC(c1ccncc1)C(=O)c1sccsc1C(C\n",
      "[19:51:16] SMILES Parse Error: Failed parsing SMILES 'CN)C(=O)C1CC1C\n",
      "CC(=O)C1Cc2c(c(cc2C)[nH]sc1C)Cc1c[nH]cn1)c1cccc([nHH]c11\n",
      "CCC(c1ccncc1)C(=O)c1sccsc1C(C' for input: 'CN)C(=O)C1CC1C\n",
      "CC(=O)C1Cc2c(c(cc2C)[nH]sc1C)Cc1c[nH]cn1)c1cccc([nHH]c11\n",
      "CCC(c1ccncc1)C(=O)c1sccsc1C(C'\n",
      " 31%|████████████▎                           | 307/1000 [03:49<05:56,  1.94it/s][19:51:16] SMILES Parse Error: extra close parentheses while parsing: C(=F)CCCs2c1cccc(O)n2c1ncccc(c(c2cncncS2)nc1)[nH]1c1ccc(OC)ccc1nnc(C)ncc1)c1cccc(F)(ccncc2)nc1)c1cccc\n",
      "[19:51:16] SMILES Parse Error: Failed parsing SMILES 'C(=F)CCCs2c1cccc(O)n2c1ncccc(c(c2cncncS2)nc1)[nH]1c1ccc(OC)ccc1nnc(C)ncc1)c1cccc(F)(ccncc2)nc1)c1cccc' for input: 'C(=F)CCCs2c1cccc(O)n2c1ncccc(c(c2cncncS2)nc1)[nH]1c1ccc(OC)ccc1nnc(C)ncc1)c1cccc(F)(ccncc2)nc1)c1cccc'\n",
      " 31%|████████████▎                           | 308/1000 [03:49<05:56,  1.94it/s][19:51:17] SMILES Parse Error: unclosed ring for input: 'CO1\n",
      "CC(=O)N1CCc2sc(Br)ccc2c(=O)n1Cc1ccccc1)nnc1)c1ccccnc(O)(c1)c1cccc[nHH]c1ncccn1)c1cHccccc1)n1ccccc'\n",
      " 31%|████████████▎                           | 309/1000 [03:50<05:48,  1.99it/s][19:51:17] SMILES Parse Error: syntax error while parsing: C@](@@H](F)C(=O)O)(c3cccc(O)c3)n2Cc1cccccc(o2)cc12\n",
      "CC(=O)C1=NN2c3ccc(OC(=O)O)(cccc2O)[C@@H]1O)C1[C@@H\n",
      "[19:51:17] SMILES Parse Error: Failed parsing SMILES 'C@](@@H](F)C(=O)O)(c3cccc(O)c3)n2Cc1cccccc(o2)cc12\n",
      "CC(=O)C1=NN2c3ccc(OC(=O)O)(cccc2O)[C@@H]1O)C1[C@@H' for input: 'C@](@@H](F)C(=O)O)(c3cccc(O)c3)n2Cc1cccccc(o2)cc12\n",
      "CC(=O)C1=NN2c3ccc(OC(=O)O)(cccc2O)[C@@H]1O)C1[C@@H'\n",
      " 31%|████████████▍                           | 310/1000 [03:50<05:44,  2.00it/s][19:51:18] SMILES Parse Error: extra close parentheses while parsing: C[N+](=O)[O-])c1nc2ncc(S[C@@H](F)C(=O)O)ncc2c1nncnc(-c2ccsc2)S1\n",
      "CC(=O)C1=NN(c2cc(Br)ccc2Fn1ccc(ncccc2\n",
      "[19:51:18] SMILES Parse Error: Failed parsing SMILES 'C[N+](=O)[O-])c1nc2ncc(S[C@@H](F)C(=O)O)ncc2c1nncnc(-c2ccsc2)S1\n",
      "CC(=O)C1=NN(c2cc(Br)ccc2Fn1ccc(ncccc2' for input: 'C[N+](=O)[O-])c1nc2ncc(S[C@@H](F)C(=O)O)ncc2c1nncnc(-c2ccsc2)S1\n",
      "CC(=O)C1=NN(c2cc(Br)ccc2Fn1ccc(ncccc2'\n",
      " 31%|████████████▍                           | 311/1000 [03:51<06:02,  1.90it/s][19:51:18] SMILES Parse Error: unclosed ring for input: 'C(C)C1\n",
      "CC=C(=O)Cc1ccc[nH]1)c1nccc(N)cn1)c1ccc(Br)ccc(F)c1)N(CCC(=O)OCC(C)C\n",
      "CCC(o1CCC(=O)C2=C@@3(C)C)['\n",
      " 31%|████████████▍                           | 312/1000 [03:51<05:55,  1.93it/s][19:51:19] SMILES Parse Error: extra close parentheses while parsing: C(=O)C2=CCCC3)c1\n",
      "CCC(=O)C1=NC(=O)C1)NC(=O)CCc1csccc1Cl\n",
      "CCC(c1ccn2)nncc2ncccncc3)S2)c1ccc1ccccc1c1cccc\n",
      "[19:51:19] SMILES Parse Error: Failed parsing SMILES 'C(=O)C2=CCCC3)c1\n",
      "CCC(=O)C1=NC(=O)C1)NC(=O)CCc1csccc1Cl\n",
      "CCC(c1ccn2)nncc2ncccncc3)S2)c1ccc1ccccc1c1cccc' for input: 'C(=O)C2=CCCC3)c1\n",
      "CCC(=O)C1=NC(=O)C1)NC(=O)CCc1csccc1Cl\n",
      "CCC(c1ccn2)nncc2ncccncc3)S2)c1ccc1ccccc1c1cccc'\n",
      " 31%|████████████▌                           | 313/1000 [03:52<06:17,  1.82it/s][19:51:19] Can't kekulize mol.  Unkekulized atoms: 6 7 8 9 10 12 16\n",
      " 31%|████████████▌                           | 314/1000 [03:53<07:02,  1.62it/s][19:51:20] SMILES Parse Error: extra close parentheses while parsing: C(N=S)NCCN(C(=O)C[C@@]2(c1ccccc(F)cc2)n1cccccc2ccccc(C)c1nncnc)c1)Cc1cccc(O)(cC2)C1(C)NC(=O)C1=CN(C)c\n",
      "[19:51:20] SMILES Parse Error: Failed parsing SMILES 'C(N=S)NCCN(C(=O)C[C@@]2(c1ccccc(F)cc2)n1cccccc2ccccc(C)c1nncnc)c1)Cc1cccc(O)(cC2)C1(C)NC(=O)C1=CN(C)c' for input: 'C(N=S)NCCN(C(=O)C[C@@]2(c1ccccc(F)cc2)n1cccccc2ccccc(C)c1nncnc)c1)Cc1cccc(O)(cC2)C1(C)NC(=O)C1=CN(C)c'\n",
      " 32%|████████████▌                           | 315/1000 [03:54<07:44,  1.47it/s][19:51:21] SMILES Parse Error: extra close parentheses while parsing: CO2)C1(C)C\n",
      "CCC(c1cc2c(ccscn1)CCC(=O)C(=O)n1ccccccc2c1cccsccc2nc(C)noc(c)(c2)n1ccc(F)ccc1Cc1ccccc(n=)n\n",
      "[19:51:21] SMILES Parse Error: Failed parsing SMILES 'CO2)C1(C)C\n",
      "CCC(c1cc2c(ccscn1)CCC(=O)C(=O)n1ccccccc2c1cccsccc2nc(C)noc(c)(c2)n1ccc(F)ccc1Cc1ccccc(n=)n' for input: 'CO2)C1(C)C\n",
      "CCC(c1cc2c(ccscn1)CCC(=O)C(=O)n1ccccccc2c1cccsccc2nc(C)noc(c)(c2)n1ccc(F)ccc1Cc1ccccc(n=)n'\n",
      " 32%|████████████▋                           | 316/1000 [03:54<08:21,  1.37it/s][19:51:22] SMILES Parse Error: extra close parentheses while parsing: CN1Cc2c1ccc(OC(F))(C)C)cc1)[nH]c1ccc(Br)cc([N+](=O)(=O)(=O)[O-])cc1)C(=O)C(C)(C)C\n",
      "CC(=O)N1Cc2cC(c2ccc\n",
      "[19:51:22] SMILES Parse Error: Failed parsing SMILES 'CN1Cc2c1ccc(OC(F))(C)C)cc1)[nH]c1ccc(Br)cc([N+](=O)(=O)(=O)[O-])cc1)C(=O)C(C)(C)C\n",
      "CC(=O)N1Cc2cC(c2ccc' for input: 'CN1Cc2c1ccc(OC(F))(C)C)cc1)[nH]c1ccc(Br)cc([N+](=O)(=O)(=O)[O-])cc1)C(=O)C(C)(C)C\n",
      "CC(=O)N1Cc2cC(c2ccc'\n",
      " 32%|████████████▋                           | 317/1000 [03:55<08:08,  1.40it/s][19:51:23] SMILES Parse Error: extra close parentheses while parsing: C/c3ccc(OC(C)=O)nnc2ncnc(N3n2cccoc3)S2)n1Cc1ccc(O)nc(c)c1)c1ccccc(F)n1)Cc1ccc(O)nc(c)(C1)c1ncccnc1)C(\n",
      "[19:51:23] SMILES Parse Error: Failed parsing SMILES 'C/c3ccc(OC(C)=O)nnc2ncnc(N3n2cccoc3)S2)n1Cc1ccc(O)nc(c)c1)c1ccccc(F)n1)Cc1ccc(O)nc(c)(C1)c1ncccnc1)C(' for input: 'C/c3ccc(OC(C)=O)nnc2ncnc(N3n2cccoc3)S2)n1Cc1ccc(O)nc(c)c1)c1ccccc(F)n1)Cc1ccc(O)nc(c)(C1)c1ncccnc1)C('\n",
      " 32%|████████████▋                           | 318/1000 [03:56<08:19,  1.37it/s][19:51:23] SMILES Parse Error: extra close parentheses while parsing: C)c3)N2C1=OCOC(F)(C1)[nH]c1ccc(F)ccc12\n",
      "CC1=C(C(=O)N=C(C)=CNC2=C(C1)C(=O)C1=NOC(N=)C(=O)[C@]1(C)OCc1cc\n",
      "[19:51:23] SMILES Parse Error: Failed parsing SMILES 'C)c3)N2C1=OCOC(F)(C1)[nH]c1ccc(F)ccc12\n",
      "CC1=C(C(=O)N=C(C)=CNC2=C(C1)C(=O)C1=NOC(N=)C(=O)[C@]1(C)OCc1cc' for input: 'C)c3)N2C1=OCOC(F)(C1)[nH]c1ccc(F)ccc12\n",
      "CC1=C(C(=O)N=C(C)=CNC2=C(C1)C(=O)C1=NOC(N=)C(=O)[C@]1(C)OCc1cc'\n",
      " 32%|████████████▊                           | 319/1000 [03:56<07:49,  1.45it/s][19:51:24] SMILES Parse Error: extra close parentheses while parsing: C1)c1ccccccc(F)(C)O)nc1)c1ccc(C(N)=O)[nH]nc1)c1ncc[nH]n1)c1cccn(C)c1cFcccc(F)c1)C(=O)c1cccccnc1)C1CC1\n",
      "[19:51:24] SMILES Parse Error: Failed parsing SMILES 'C1)c1ccccccc(F)(C)O)nc1)c1ccc(C(N)=O)[nH]nc1)c1ncc[nH]n1)c1cccn(C)c1cFcccc(F)c1)C(=O)c1cccccnc1)C1CC1' for input: 'C1)c1ccccccc(F)(C)O)nc1)c1ccc(C(N)=O)[nH]nc1)c1ncc[nH]n1)c1cccn(C)c1cFcccc(F)c1)C(=O)c1cccccnc1)C1CC1'\n",
      " 32%|████████████▊                           | 320/1000 [03:58<09:08,  1.24it/s][19:51:25] SMILES Parse Error: extra close parentheses while parsing: C(=F)S[C@H]1c1ccccn1)n1ccccc(Snc2c(F)ccs2)sc2ccc(nHcnc(c()(C)(O)c2)cc1cccccccc1)(n2ccc(ncccc2ncoc)c1)\n",
      "[19:51:25] SMILES Parse Error: Failed parsing SMILES 'C(=F)S[C@H]1c1ccccn1)n1ccccc(Snc2c(F)ccs2)sc2ccc(nHcnc(c()(C)(O)c2)cc1cccccccc1)(n2ccc(ncccc2ncoc)c1)' for input: 'C(=F)S[C@H]1c1ccccn1)n1ccccc(Snc2c(F)ccs2)sc2ccc(nHcnc(c()(C)(O)c2)cc1cccccccc1)(n2ccc(ncccc2ncoc)c1)'\n",
      " 32%|████████████▊                           | 321/1000 [03:58<08:35,  1.32it/s][19:51:25] SMILES Parse Error: extra close parentheses while parsing: C/c3cc(C)no3)S2)cscc1)C2n1ccc([nH]c3ccc(Br)c(Br)cc1)c1ccccccc4ccc([nH]c3c1ccsc(C)n1ncc(c)ccc2c1CCN(C[\n",
      "[19:51:25] SMILES Parse Error: Failed parsing SMILES 'C/c3cc(C)no3)S2)cscc1)C2n1ccc([nH]c3ccc(Br)c(Br)cc1)c1ccccccc4ccc([nH]c3c1ccsc(C)n1ncc(c)ccc2c1CCN(C[' for input: 'C/c3cc(C)no3)S2)cscc1)C2n1ccc([nH]c3ccc(Br)c(Br)cc1)c1ccccccc4ccc([nH]c3c1ccsc(C)n1ncc(c)ccc2c1CCN(C['\n",
      " 32%|████████████▉                           | 322/1000 [03:59<07:42,  1.47it/s][19:51:26] SMILES Parse Error: extra close parentheses while parsing: C(=O)ccc2nccnc(C)c2C)Cc1cN(C)=n2cccnn2n1)c1cccccc(C)ncc1)nc(C)(=O)c1ccccccc1)ncccn1)c1cccc(O)nc1)c1cc\n",
      "[19:51:26] SMILES Parse Error: Failed parsing SMILES 'C(=O)ccc2nccnc(C)c2C)Cc1cN(C)=n2cccnn2n1)c1cccccc(C)ncc1)nc(C)(=O)c1ccccccc1)ncccn1)c1cccc(O)nc1)c1cc' for input: 'C(=O)ccc2nccnc(C)c2C)Cc1cN(C)=n2cccnn2n1)c1cccccc(C)ncc1)nc(C)(=O)c1ccccccc1)ncccn1)c1cccc(O)nc1)c1cc'\n",
      " 32%|████████████▉                           | 323/1000 [03:59<07:03,  1.60it/s][19:51:26] SMILES Parse Error: ring closure 1 duplicates bond between atom 25 and atom 26 for input: 'C(c3cc(F)ccc3O[C@@H]32=[C@H]1c3c(F)ccccF(F)[nH]3)nc2c(s1)[nH]1c1ccc(F)ccc1OC[C@@H]21c1ccccc(Br)(=O)n1'\n",
      " 32%|████████████▉                           | 324/1000 [04:00<06:32,  1.72it/s][19:51:27] SMILES Parse Error: syntax error while parsing: C1(C)CC(=O)C2=NC(=O)C]1c1cccc(O)nc1)cc1ccccc(c1)nc1cccccccc2ccccc1c1CCOCCO)(cccccc1ccc(O)cc2c1cccco2)\n",
      "[19:51:27] SMILES Parse Error: Failed parsing SMILES 'C1(C)CC(=O)C2=NC(=O)C]1c1cccc(O)nc1)cc1ccccc(c1)nc1cccccccc2ccccc1c1CCOCCO)(cccccc1ccc(O)cc2c1cccco2)' for input: 'C1(C)CC(=O)C2=NC(=O)C]1c1cccc(O)nc1)cc1ccccc(c1)nc1cccccccc2ccccc1c1CCOCCO)(cccccc1ccc(O)cc2c1cccco2)'\n",
      " 32%|█████████████                           | 325/1000 [04:00<06:26,  1.74it/s][19:51:27] SMILES Parse Error: extra close parentheses while parsing: CC1c1nc2cccoc2)S1ncccnc(-c2ccc(Br)c)n1)c1ccccccc2c1n1ccc(O)(c)cc2[nH]1)c1cccccnc1)Cc1nccsc1)(\n",
      "CC(=O)C\n",
      "[19:51:27] SMILES Parse Error: Failed parsing SMILES 'CC1c1nc2cccoc2)S1ncccnc(-c2ccc(Br)c)n1)c1ccccccc2c1n1ccc(O)(c)cc2[nH]1)c1cccccnc1)Cc1nccsc1)(\n",
      "CC(=O)C' for input: 'CC1c1nc2cccoc2)S1ncccnc(-c2ccc(Br)c)n1)c1ccccccc2c1n1ccc(O)(c)cc2[nH]1)c1cccccnc1)Cc1nccsc1)(\n",
      "CC(=O)C'\n",
      " 33%|█████████████                           | 326/1000 [04:01<06:11,  1.81it/s][19:51:28] SMILES Parse Error: syntax error while parsing: C[S@+]l)c(F)C(=O)N3CCOC)1)c1ccccccnc2)n1ccccc(C)(C)c1ccccncc1)c1ccccnS(C@(C)(=F)=O)(c1)cccccc1)C(=O)O\n",
      "[19:51:28] SMILES Parse Error: Failed parsing SMILES 'C[S@+]l)c(F)C(=O)N3CCOC)1)c1ccccccnc2)n1ccccc(C)(C)c1ccccncc1)c1ccccnS(C@(C)(=F)=O)(c1)cccccc1)C(=O)O' for input: 'C[S@+]l)c(F)C(=O)N3CCOC)1)c1ccccccnc2)n1ccccc(C)(C)c1ccccncc1)c1ccccnS(C@(C)(=F)=O)(c1)cccccc1)C(=O)O'\n",
      " 33%|█████████████                           | 327/1000 [04:01<06:04,  1.84it/s][19:51:29] SMILES Parse Error: syntax error while parsing: C@H]1c1cccccc1SC[C@H](c1ccccs1)Cc1cccccnc1)ncc1Cc1ccscc1)nc(S)nc1)C1(C)C\n",
      "CC[C@H](N)C(=O)N1CCc2c(c[nH]\n",
      "[19:51:29] SMILES Parse Error: Failed parsing SMILES 'C@H]1c1cccccc1SC[C@H](c1ccccs1)Cc1cccccnc1)ncc1Cc1ccscc1)nc(S)nc1)C1(C)C\n",
      "CC[C@H](N)C(=O)N1CCc2c(c[nH]' for input: 'C@H]1c1cccccc1SC[C@H](c1ccccs1)Cc1cccccnc1)ncc1Cc1ccscc1)nc(S)nc1)C1(C)C\n",
      "CC[C@H](N)C(=O)N1CCc2c(c[nH]'\n",
      " 33%|█████████████                           | 328/1000 [04:02<06:15,  1.79it/s][19:51:29] SMILES Parse Error: syntax error while parsing: C1=NN(C(=O)Cc2ccc([nH]H]3)cc2O1)n1cccnc(N)c1ccc(-c(cncc(c)ccc2n(4)C(c1(F)(cF)cccc1)S2\n",
      "CCC(CC)C(=O)C1C\n",
      "[19:51:29] SMILES Parse Error: Failed parsing SMILES 'C1=NN(C(=O)Cc2ccc([nH]H]3)cc2O1)n1cccnc(N)c1ccc(-c(cncc(c)ccc2n(4)C(c1(F)(cF)cccc1)S2\n",
      "CCC(CC)C(=O)C1C' for input: 'C1=NN(C(=O)Cc2ccc([nH]H]3)cc2O1)n1cccnc(N)c1ccc(-c(cncc(c)ccc2n(4)C(c1(F)(cF)cccc1)S2\n",
      "CCC(CC)C(=O)C1C'\n",
      " 33%|█████████████▏                          | 329/1000 [04:02<06:00,  1.86it/s][19:51:30] SMILES Parse Error: unclosed ring for input: 'C1=C(C)=O\n",
      "CC1=C(C(=O)NC1=NN2C(=O)C(C(=O)[C@H]1c1ccccc(O)n1)c1ncc(Br)ccc1F)n1cccccc1ncc(c)cc1Cc1ccc(F)'\n",
      " 33%|█████████████▏                          | 330/1000 [04:03<05:59,  1.86it/s][19:51:30] SMILES Parse Error: extra close parentheses while parsing: C[C@@H](c3ccco3)S2)SC1(C)(=O)=NC(C)=O\n",
      "CCC(c)c1ccc3ccc(Br()c3)C[n@H]1)c1cccccc2c1CC[C@H](F)C1)c1cccccc\n",
      "[19:51:30] SMILES Parse Error: Failed parsing SMILES 'C[C@@H](c3ccco3)S2)SC1(C)(=O)=NC(C)=O\n",
      "CCC(c)c1ccc3ccc(Br()c3)C[n@H]1)c1cccccc2c1CC[C@H](F)C1)c1cccccc' for input: 'C[C@@H](c3ccco3)S2)SC1(C)(=O)=NC(C)=O\n",
      "CCC(c)c1ccc3ccc(Br()c3)C[n@H]1)c1cccccc2c1CC[C@H](F)C1)c1cccccc'\n",
      " 33%|█████████████▏                          | 331/1000 [04:03<05:53,  1.89it/s][19:51:31] SMILES Parse Error: extra close parentheses while parsing: C)c1ccc(-c2cc(F)ccc2Fl)CC1c1CN2Cc1cc(C)=C\\O)nc2ccc(C)ncc1)nc1cccc(F)cc1)n1Nccccc2c(=O)n1Cc1cccncF)c1)\n",
      "[19:51:31] SMILES Parse Error: Failed parsing SMILES 'C)c1ccc(-c2cc(F)ccc2Fl)CC1c1CN2Cc1cc(C)=C\\O)nc2ccc(C)ncc1)nc1cccc(F)cc1)n1Nccccc2c(=O)n1Cc1cccncF)c1)' for input: 'C)c1ccc(-c2cc(F)ccc2Fl)CC1c1CN2Cc1cc(C)=C\\O)nc2ccc(C)ncc1)nc1cccc(F)cc1)n1Nccccc2c(=O)n1Cc1cccncF)c1)'\n",
      " 33%|█████████████▎                          | 332/1000 [04:04<05:58,  1.86it/s][19:51:31] SMILES Parse Error: extra close parentheses while parsing: CCCCc3cc(F)ccc3)S2)S1\n",
      "CC(CC)C(=O)n1cccc(CO)n2c(nc(c)ccc2cc(C)Oc3ccccc(O)(c2)OC(=O)=[nH]1)nc1cccccccc1\n",
      "[19:51:31] SMILES Parse Error: Failed parsing SMILES 'CCCCc3cc(F)ccc3)S2)S1\n",
      "CC(CC)C(=O)n1cccc(CO)n2c(nc(c)ccc2cc(C)Oc3ccccc(O)(c2)OC(=O)=[nH]1)nc1cccccccc1' for input: 'CCCCc3cc(F)ccc3)S2)S1\n",
      "CC(CC)C(=O)n1cccc(CO)n2c(nc(c)ccc2cc(C)Oc3ccccc(O)(c2)OC(=O)=[nH]1)nc1cccccccc1'\n",
      " 33%|█████████████▎                          | 333/1000 [04:04<05:45,  1.93it/s][19:51:32] SMILES Parse Error: extra close parentheses while parsing: C=C\\NC(=O)C1)c1cccsc1C\n",
      "CCC(cOc3cccoc3O)ccc2F)CC=C(NC(=O)C1=O\n",
      "CCC(c1cccc2c(c1)CC(=O)OCOn1)c1ccc2ccc(O)\n",
      "[19:51:32] SMILES Parse Error: Failed parsing SMILES 'C=C\\NC(=O)C1)c1cccsc1C\n",
      "CCC(cOc3cccoc3O)ccc2F)CC=C(NC(=O)C1=O\n",
      "CCC(c1cccc2c(c1)CC(=O)OCOn1)c1ccc2ccc(O)' for input: 'C=C\\NC(=O)C1)c1cccsc1C\n",
      "CCC(cOc3cccoc3O)ccc2F)CC=C(NC(=O)C1=O\n",
      "CCC(c1cccc2c(c1)CC(=O)OCOn1)c1ccc2ccc(O)'\n",
      " 33%|█████████████▎                          | 334/1000 [04:05<05:45,  1.92it/s][19:51:32] SMILES Parse Error: extra close parentheses while parsing: CCc2c([nH]c3ccc(C)ccc23)n1Cc1ccccn1)nnc1)c1cccc(C)cc1)n1cncc(N)cc1cccccnn2)n\\c1ccccnc(cc1)n1cccc(O)c1\n",
      "[19:51:32] SMILES Parse Error: Failed parsing SMILES 'CCc2c([nH]c3ccc(C)ccc23)n1Cc1ccccn1)nnc1)c1cccc(C)cc1)n1cncc(N)cc1cccccnn2)n\\c1ccccnc(cc1)n1cccc(O)c1' for input: 'CCc2c([nH]c3ccc(C)ccc23)n1Cc1ccccn1)nnc1)c1cccc(C)cc1)n1cncc(N)cc1cccccnn2)n\\c1ccccnc(cc1)n1cccc(O)c1'\n",
      " 34%|█████████████▍                          | 335/1000 [04:06<05:53,  1.88it/s][19:51:33] SMILES Parse Error: extra close parentheses while parsing: CC1(C(=O)O)[C@H]2[C@@H](c1ccccc1)(c1)nnc1)c1cccc(F)ccc1)(c1cccccc1)(=O)ncc1cccccc1)OCC[N@+]](c1(F)=OC\n",
      "[19:51:33] SMILES Parse Error: Failed parsing SMILES 'CC1(C(=O)O)[C@H]2[C@@H](c1ccccc1)(c1)nnc1)c1cccc(F)ccc1)(c1cccccc1)(=O)ncc1cccccc1)OCC[N@+]](c1(F)=OC' for input: 'CC1(C(=O)O)[C@H]2[C@@H](c1ccccc1)(c1)nnc1)c1cccc(F)ccc1)(c1cccccc1)(=O)ncc1cccccc1)OCC[N@+]](c1(F)=OC'\n",
      " 34%|█████████████▍                          | 336/1000 [04:06<05:42,  1.94it/s][19:51:33] SMILES Parse Error: extra close parentheses while parsing: ClN)C(c3ccc(NC(=O)O)(F)cc2)ncnc3Oc)c2n1Ccccc(N(C)(=O)=O)cc2s1ncccnc2c(C)n1ccscc2ccnc())c1)c1cccc(Cl)c\n",
      "[19:51:33] SMILES Parse Error: Failed parsing SMILES 'ClN)C(c3ccc(NC(=O)O)(F)cc2)ncnc3Oc)c2n1Ccccc(N(C)(=O)=O)cc2s1ncccnc2c(C)n1ccscc2ccnc())c1)c1cccc(Cl)c' for input: 'ClN)C(c3ccc(NC(=O)O)(F)cc2)ncnc3Oc)c2n1Ccccc(N(C)(=O)=O)cc2s1ncccnc2c(C)n1ccscc2ccnc())c1)c1cccc(Cl)c'\n",
      " 34%|█████████████▍                          | 337/1000 [04:07<05:45,  1.92it/s][19:51:34] SMILES Parse Error: extra close parentheses while parsing: C[C@H](F)c(c2nccc(O)c2)(C)=NC(=S)N(C)C)=C3)nc1n1Cc1ccc(O)nc(N)(=O)c1cccccn1)nc(c1)ccc(F)nn1Cc1cccccc1\n",
      "[19:51:34] SMILES Parse Error: Failed parsing SMILES 'C[C@H](F)c(c2nccc(O)c2)(C)=NC(=S)N(C)C)=C3)nc1n1Cc1ccc(O)nc(N)(=O)c1cccccn1)nc(c1)ccc(F)nn1Cc1cccccc1' for input: 'C[C@H](F)c(c2nccc(O)c2)(C)=NC(=S)N(C)C)=C3)nc1n1Cc1ccc(O)nc(N)(=O)c1cccccn1)nc(c1)ccc(F)nn1Cc1cccccc1'\n",
      " 34%|█████████████▌                          | 338/1000 [04:07<06:48,  1.62it/s][19:51:35] SMILES Parse Error: unclosed ring for input: 'C(NC1=C(B)CN(C)c1ccccFn1)c1cccccnoc2c1CCCO1\n",
      "CC(C)(C)s2=NN(Cs2csc(S(C)(=O)=O)no2)n1)c1cccccc(F)c1)n1cc'\n",
      " 34%|█████████████▌                          | 339/1000 [04:08<06:58,  1.58it/s][19:51:35] SMILES Parse Error: extra close parentheses while parsing: C)HC\n",
      "CCCC1=C(C(=O)NC1sc2cccc2c(n3cccc(O)(c2cccccc3)OCO2)c1cccccc(O)(c1\n",
      "CCCCCOc1ccccc(O)n1)c1ccccc(Cl)\n",
      "[19:51:35] SMILES Parse Error: Failed parsing SMILES 'C)HC\n",
      "CCCC1=C(C(=O)NC1sc2cccc2c(n3cccc(O)(c2cccccc3)OCO2)c1cccccc(O)(c1\n",
      "CCCCCOc1ccccc(O)n1)c1ccccc(Cl)' for input: 'C)HC\n",
      "CCCC1=C(C(=O)NC1sc2cccc2c(n3cccc(O)(c2cccccc3)OCO2)c1cccccc(O)(c1\n",
      "CCCCCOc1ccccc(O)n1)c1ccccc(Cl)'\n",
      " 34%|█████████████▌                          | 340/1000 [04:09<06:37,  1.66it/s][19:51:36] SMILES Parse Error: extra close parentheses while parsing: CNC1=O)C(=O)C(=O)C1CCc2cncc-c3cc(O)ccc(O)nc1)n1cccc(F)c3ccccc3)N2\n",
      "CC(C1=C(C)C[C@H]2O1\n",
      "CC@H]1CCCN([C@@\n",
      "[19:51:36] SMILES Parse Error: Failed parsing SMILES 'CNC1=O)C(=O)C(=O)C1CCc2cncc-c3cc(O)ccc(O)nc1)n1cccc(F)c3ccccc3)N2\n",
      "CC(C1=C(C)C[C@H]2O1\n",
      "CC@H]1CCCN([C@@' for input: 'CNC1=O)C(=O)C(=O)C1CCc2cncc-c3cc(O)ccc(O)nc1)n1cccc(F)c3ccccc3)N2\n",
      "CC(C1=C(C)C[C@H]2O1\n",
      "CC@H]1CCCN([C@@'\n",
      " 34%|█████████████▋                          | 341/1000 [04:09<06:45,  1.63it/s][19:51:36] SMILES Parse Error: extra close parentheses while parsing: Cc2ccccc3Sc4cc(c4ncSncs3)S2)SC1(C)(ccccccccnc2)+1)(O)c1cccncc1)c1ccccncc1)C(=O)c1ccc(NC(=O)C(=O)C(C)n\n",
      "[19:51:36] SMILES Parse Error: Failed parsing SMILES 'Cc2ccccc3Sc4cc(c4ncSncs3)S2)SC1(C)(ccccccccnc2)+1)(O)c1cccncc1)c1ccccncc1)C(=O)c1ccc(NC(=O)C(=O)C(C)n' for input: 'Cc2ccccc3Sc4cc(c4ncSncs3)S2)SC1(C)(ccccccccnc2)+1)(O)c1cccncc1)c1ccccncc1)C(=O)c1ccc(NC(=O)C(=O)C(C)n'\n",
      " 34%|█████████████▋                          | 342/1000 [04:10<06:28,  1.69it/s][19:51:37] SMILES Parse Error: extra close parentheses while parsing: C/c3cccc(N)n4)C(=O)CCO3)c2nsc(Sn3ccc(Br)conc3ccncc2)no1)c(ccccc(F)nn1)C)n1cccc(c)cn1)n1cccccn1)n1ccc(\n",
      "[19:51:37] SMILES Parse Error: Failed parsing SMILES 'C/c3cccc(N)n4)C(=O)CCO3)c2nsc(Sn3ccc(Br)conc3ccncc2)no1)c(ccccc(F)nn1)C)n1cccc(c)cn1)n1cccccn1)n1ccc(' for input: 'C/c3cccc(N)n4)C(=O)CCO3)c2nsc(Sn3ccc(Br)conc3ccncc2)no1)c(ccccc(F)nn1)C)n1cccc(c)cn1)n1cccccn1)n1ccc('\n",
      " 34%|█████████████▋                          | 343/1000 [04:10<06:25,  1.71it/s][19:51:38] SMILES Parse Error: extra close parentheses while parsing: CCC)C(=O)c1cccc(-c2ccnon2)nc1cccccccc1ccc(F)cc1)c1nc(C)ncnc2c(=O)noc1)n(c2cccccc2scncc(S)n2)S1(=O)C(C\n",
      "[19:51:38] SMILES Parse Error: Failed parsing SMILES 'CCC)C(=O)c1cccc(-c2ccnon2)nc1cccccccc1ccc(F)cc1)c1nc(C)ncnc2c(=O)noc1)n(c2cccccc2scncc(S)n2)S1(=O)C(C' for input: 'CCC)C(=O)c1cccc(-c2ccnon2)nc1cccccccc1ccc(F)cc1)c1nc(C)ncnc2c(=O)noc1)n(c2cccccc2scncc(S)n2)S1(=O)C(C'\n",
      " 34%|█████████████▊                          | 344/1000 [04:11<06:27,  1.69it/s][19:51:38] SMILES Parse Error: extra close parentheses while parsing: C(=S)NC4=S)=N+]=(=O)[O-])S1\n",
      "CC(=OCO)C(=O)C1(c1cccc(F)c1)n1Cc1cccccc1)c1ccc(F)ccc)C(=O)O)nc1)(=O)C(=O)\n",
      "[19:51:38] SMILES Parse Error: Failed parsing SMILES 'C(=S)NC4=S)=N+]=(=O)[O-])S1\n",
      "CC(=OCO)C(=O)C1(c1cccc(F)c1)n1Cc1cccccc1)c1ccc(F)ccc)C(=O)O)nc1)(=O)C(=O)' for input: 'C(=S)NC4=S)=N+]=(=O)[O-])S1\n",
      "CC(=OCO)C(=O)C1(c1cccc(F)c1)n1Cc1cccccc1)c1ccc(F)ccc)C(=O)O)nc1)(=O)C(=O)'\n",
      " 34%|█████████████▊                          | 345/1000 [04:11<06:10,  1.77it/s][19:51:39] SMILES Parse Error: extra close parentheses while parsing: CCSc1cccccn1)n1cccccccc1Cc1nccsc1)n1nc(C)c(ncnc(C)c2c(/C=C(\\)=[C@@H]4F)cc1-c1cccnc(O)nc2ccscc(Br)c2c1\n",
      "[19:51:39] SMILES Parse Error: Failed parsing SMILES 'CCSc1cccccn1)n1cccccccc1Cc1nccsc1)n1nc(C)c(ncnc(C)c2c(/C=C(\\)=[C@@H]4F)cc1-c1cccnc(O)nc2ccscc(Br)c2c1' for input: 'CCSc1cccccn1)n1cccccccc1Cc1nccsc1)n1nc(C)c(ncnc(C)c2c(/C=C(\\)=[C@@H]4F)cc1-c1cccnc(O)nc2ccscc(Br)c2c1'\n",
      " 35%|█████████████▊                          | 346/1000 [04:12<06:08,  1.77it/s][19:51:39] SMILES Parse Error: extra close parentheses while parsing: C\\c3cc(F)co3)[C@H]1c1cccc(O)c1C\n",
      "CCOC(=O)C1(OC)CC1\n",
      "CCCC2(CCOCC1)c1ccccnc1)(2)=C(=O)(c1ccccccnc(F)c1)Sn\n",
      "[19:51:39] SMILES Parse Error: Failed parsing SMILES 'C\\c3cc(F)co3)[C@H]1c1cccc(O)c1C\n",
      "CCOC(=O)C1(OC)CC1\n",
      "CCCC2(CCOCC1)c1ccccnc1)(2)=C(=O)(c1ccccccnc(F)c1)Sn' for input: 'C\\c3cc(F)co3)[C@H]1c1cccc(O)c1C\n",
      "CCOC(=O)C1(OC)CC1\n",
      "CCCC2(CCOCC1)c1ccccnc1)(2)=C(=O)(c1ccccccnc(F)c1)Sn'\n",
      " 35%|█████████████▉                          | 347/1000 [04:12<05:51,  1.86it/s][19:51:40] SMILES Parse Error: unclosed ring for input: 'C2\n",
      "CC(=O)C1=NN(c2ccc(F)ccc3OC[C@H]2c2=c1ccccc(F)(c2)nnc1ccccccc1)n1nccccc(S()(=O)n1ncccc2c(S)nc2ccc(c'\n",
      " 35%|█████████████▉                          | 348/1000 [04:13<06:01,  1.81it/s][19:51:40] SMILES Parse Error: extra close parentheses while parsing: Cc34)S1)OC\n",
      "CCC(c1cccc(O)ncc1C\n",
      "CCC(NC(C)=O)C1=NN(C(=O)Cl)c1ccccccc(O)c1ncnc(c(c2cccc(O)ncc)c1)C1Cc2scc\n",
      "[19:51:40] SMILES Parse Error: Failed parsing SMILES 'Cc34)S1)OC\n",
      "CCC(c1cccc(O)ncc1C\n",
      "CCC(NC(C)=O)C1=NN(C(=O)Cl)c1ccccccc(O)c1ncnc(c(c2cccc(O)ncc)c1)C1Cc2scc' for input: 'Cc34)S1)OC\n",
      "CCC(c1cccc(O)ncc1C\n",
      "CCC(NC(C)=O)C1=NN(C(=O)Cl)c1ccccccc(O)c1ncnc(c(c2cccc(O)ncc)c1)C1Cc2scc'\n",
      " 35%|█████████████▉                          | 349/1000 [04:14<05:46,  1.88it/s][19:51:41] SMILES Parse Error: syntax error while parsing: C@@]1(CCCO)c1cccccc1Cc1cccc(O)(C)c1ccccc1n1)c1ccc(O)ncc(c2)c1cccccc(C)c1C)nnc1ccc(ncccc2c(=O)c1ccc[nH\n",
      "[19:51:41] SMILES Parse Error: Failed parsing SMILES 'C@@]1(CCCO)c1cccccc1Cc1cccc(O)(C)c1ccccc1n1)c1ccc(O)ncc(c2)c1cccccc(C)c1C)nnc1ccc(ncccc2c(=O)c1ccc[nH' for input: 'C@@]1(CCCO)c1cccccc1Cc1cccc(O)(C)c1ccccc1n1)c1ccc(O)ncc(c2)c1cccccc(C)c1C)nnc1ccc(ncccc2c(=O)c1ccc[nH'\n",
      " 35%|██████████████                          | 350/1000 [04:14<05:34,  1.94it/s][19:51:41] SMILES Parse Error: extra close parentheses while parsing: CS(=O)(=O)c3cccc(SC4)c3nc4cc([nH]4)c1cc(N3C(=O)CC1(C)O)C1(c1cccccccn1)nonc1cc1ccccnc1)ncc1nccccnc1)n1\n",
      "[19:51:41] SMILES Parse Error: Failed parsing SMILES 'CS(=O)(=O)c3cccc(SC4)c3nc4cc([nH]4)c1cc(N3C(=O)CC1(C)O)C1(c1cccccccn1)nonc1cc1ccccnc1)ncc1nccccnc1)n1' for input: 'CS(=O)(=O)c3cccc(SC4)c3nc4cc([nH]4)c1cc(N3C(=O)CC1(C)O)C1(c1cccccccn1)nonc1cc1ccccnc1)ncc1nccccnc1)n1'\n",
      " 35%|██████████████                          | 351/1000 [04:15<05:39,  1.91it/s][19:51:42] SMILES Parse Error: extra close parentheses while parsing: CC1=C(C)c1cccc(C)n1c1nc2nc(Ccccc2c)no1)c1cc1cccc(F)n1)C(=O)CC(F)(F)C(ic1cccccc(F)c(s1)n1ccc(c(C)nccc2\n",
      "[19:51:42] SMILES Parse Error: Failed parsing SMILES 'CC1=C(C)c1cccc(C)n1c1nc2nc(Ccccc2c)no1)c1cc1cccc(F)n1)C(=O)CC(F)(F)C(ic1cccccc(F)c(s1)n1ccc(c(C)nccc2' for input: 'CC1=C(C)c1cccc(C)n1c1nc2nc(Ccccc2c)no1)c1cc1cccc(F)n1)C(=O)CC(F)(F)C(ic1cccccc(F)c(s1)n1ccc(c(C)nccc2'\n",
      " 35%|██████████████                          | 352/1000 [04:15<05:29,  1.97it/s][19:51:42] SMILES Parse Error: extra close parentheses while parsing: C)(C)O)[C@H](F)C2)cc1-c1ccccncnc()(C)c1)c1cccccc(n=O)c1)[nH]n1)[nH]c1cc(NC(=O)C(=O)C(C)(C)C)=c1c[nH]c\n",
      "[19:51:42] SMILES Parse Error: Failed parsing SMILES 'C)(C)O)[C@H](F)C2)cc1-c1ccccncnc()(C)c1)c1cccccc(n=O)c1)[nH]n1)[nH]c1cc(NC(=O)C(=O)C(C)(C)C)=c1c[nH]c' for input: 'C)(C)O)[C@H](F)C2)cc1-c1ccccncnc()(C)c1)c1cccccc(n=O)c1)[nH]n1)[nH]c1cc(NC(=O)C(=O)C(C)(C)C)=c1c[nH]c'\n",
      " 35%|██████████████                          | 353/1000 [04:15<05:22,  2.01it/s][19:51:43] SMILES Parse Error: extra close parentheses while parsing: CN)C(=O)n1cccc(Brc)cc1ccccccc1)c1cccccccc2ccccc1nccccc1)cccc(S)n1ccc(c1)ccc1)n1ccccc1)n1nccnc)cc1)c1n\n",
      "[19:51:43] SMILES Parse Error: Failed parsing SMILES 'CN)C(=O)n1cccc(Brc)cc1ccccccc1)c1cccccccc2ccccc1nccccc1)cccc(S)n1ccc(c1)ccc1)n1ccccc1)n1nccnc)cc1)c1n' for input: 'CN)C(=O)n1cccc(Brc)cc1ccccccc1)c1cccccccc2ccccc1nccccc1)cccc(S)n1ccc(c1)ccc1)n1ccccc1)n1nccnc)cc1)c1n'\n",
      " 35%|██████████████▏                         | 354/1000 [04:16<05:36,  1.92it/s][19:51:43] SMILES Parse Error: extra close parentheses while parsing: CO)S1(=O)=O(=O)C(C)(C)c1cccccn1)n1ccccc(S(NC(C)(C)(O)nncc2)NS(C)(=O)=O)ncc1ccccnc1)nscnc(nc2cccccc2c)\n",
      "[19:51:43] SMILES Parse Error: Failed parsing SMILES 'CO)S1(=O)=O(=O)C(C)(C)c1cccccn1)n1ccccc(S(NC(C)(C)(O)nncc2)NS(C)(=O)=O)ncc1ccccnc1)nscnc(nc2cccccc2c)' for input: 'CO)S1(=O)=O(=O)C(C)(C)c1cccccn1)n1ccccc(S(NC(C)(C)(O)nncc2)NS(C)(=O)=O)ncc1ccccnc1)nscnc(nc2cccccc2c)'\n",
      " 36%|██████████████▏                         | 355/1000 [04:17<05:25,  1.98it/s][19:51:44] SMILES Parse Error: extra close parentheses while parsing: C/C=C/C=Cs/c3ccc(C)non3c2cccC(C)(C)O)Cnc2nc(N)nc2)[nH])c2cccno1)ccc1nnccncc2c1cccccc(F)cc1)n1c1ccc(S)\n",
      "[19:51:44] SMILES Parse Error: Failed parsing SMILES 'C/C=C/C=Cs/c3ccc(C)non3c2cccC(C)(C)O)Cnc2nc(N)nc2)[nH])c2cccno1)ccc1nnccncc2c1cccccc(F)cc1)n1c1ccc(S)' for input: 'C/C=C/C=Cs/c3ccc(C)non3c2cccC(C)(C)O)Cnc2nc(N)nc2)[nH])c2cccno1)ccc1nnccncc2c1cccccc(F)cc1)n1c1ccc(S)'\n",
      " 36%|██████████████▏                         | 356/1000 [04:17<05:18,  2.02it/s][19:51:44] SMILES Parse Error: extra close parentheses while parsing: Cl)c3)C2)c1-c1cccnc(O)n1c1ccccc(B)c(F))C(F)(F)c1ccccc(O)cc1)c1cccccc1C(F)(F)F\n",
      "CC(=O)C1=NN(C(=O)C(=O)C\n",
      "[19:51:44] SMILES Parse Error: Failed parsing SMILES 'Cl)c3)C2)c1-c1cccnc(O)n1c1ccccc(B)c(F))C(F)(F)c1ccccc(O)cc1)c1cccccc1C(F)(F)F\n",
      "CC(=O)C1=NN(C(=O)C(=O)C' for input: 'Cl)c3)C2)c1-c1cccnc(O)n1c1ccccc(B)c(F))C(F)(F)c1ccccc(O)cc1)c1cccccc1C(F)(F)F\n",
      "CC(=O)C1=NN(C(=O)C(=O)C'\n",
      " 36%|██████████████▎                         | 357/1000 [04:17<05:12,  2.06it/s][19:51:45] SMILES Parse Error: unclosed ring for input: 'C1=O\n",
      "CCC(c1cccc(C)c(=O)n1)c1ccc(C(F)(F)F(F)cncc1)n1ccccc(F)cc1)n1cccc(F)cc1)(c1ncc[nHnH]c3)c1ccccc(F)'\n",
      " 36%|██████████████▎                         | 358/1000 [04:18<05:24,  1.98it/s][19:51:45] SMILES Parse Error: syntax error while parsing: C@H]1c1ccc(Brr)ccc1Cc1ccccn1)c1ncccnc1)n1c(c2ccccc(F)c(Br)cS(N)(=O)=O)cc1)n1ccccc(n2ccccccccc1ccccc1n\n",
      "[19:51:45] SMILES Parse Error: Failed parsing SMILES 'C@H]1c1ccc(Brr)ccc1Cc1ccccn1)c1ncccnc1)n1c(c2ccccc(F)c(Br)cS(N)(=O)=O)cc1)n1ccccc(n2ccccccccc1ccccc1n' for input: 'C@H]1c1ccc(Brr)ccc1Cc1ccccn1)c1ncccnc1)n1c(c2ccccc(F)c(Br)cS(N)(=O)=O)cc1)n1ccccc(n2ccccccccc1ccccc1n'\n",
      " 36%|██████████████▎                         | 359/1000 [04:18<05:16,  2.02it/s][19:51:46] SMILES Parse Error: unclosed ring for input: 'C(=O)C1=NN(C(=O)C(=O)C(C)(=O)C(C)(C2)c1cccccccc1)n1ccnccc2c(c1)cccc(c(=O)n1ccccc1)n1cccc(nccc1)nc(c)c'\n",
      " 36%|██████████████▍                         | 360/1000 [04:19<05:22,  1.98it/s][19:51:46] SMILES Parse Error: extra close parentheses while parsing: CO2)c2c([nH]nc3cc(C()=O)COCCOCBr)cc3OC1(C)C)c1cccccc1Cc1ccccc(-c1)c1ccccc(O)(CC)cs1)n1c(nccc(c(c)ccc2\n",
      "[19:51:46] SMILES Parse Error: Failed parsing SMILES 'CO2)c2c([nH]nc3cc(C()=O)COCCOCBr)cc3OC1(C)C)c1cccccc1Cc1ccccc(-c1)c1ccccc(O)(CC)cs1)n1c(nccc(c(c)ccc2' for input: 'CO2)c2c([nH]nc3cc(C()=O)COCCOCBr)cc3OC1(C)C)c1cccccc1Cc1ccccc(-c1)c1ccccc(O)(CC)cs1)n1c(nccc(c(c)ccc2'\n",
      " 36%|██████████████▍                         | 361/1000 [04:20<05:34,  1.91it/s][19:51:47] SMILES Parse Error: extra close parentheses while parsing: COCCCO)c2ncn[n2C[C@@]3(c3cccc4O)nn3)cc(NS(=O)=O)c3cccs3)c2O)nc2n1)N(C)C\n",
      "CCC(n2ccc(Cl)c2)S1(=O)=O\n",
      "CCC(\n",
      "[19:51:47] SMILES Parse Error: Failed parsing SMILES 'COCCCO)c2ncn[n2C[C@@]3(c3cccc4O)nn3)cc(NS(=O)=O)c3cccs3)c2O)nc2n1)N(C)C\n",
      "CCC(n2ccc(Cl)c2)S1(=O)=O\n",
      "CCC(' for input: 'COCCCO)c2ncn[n2C[C@@]3(c3cccc4O)nn3)cc(NS(=O)=O)c3cccs3)c2O)nc2n1)N(C)C\n",
      "CCC(n2ccc(Cl)c2)S1(=O)=O\n",
      "CCC('\n",
      " 36%|██████████████▍                         | 362/1000 [04:20<05:29,  1.94it/s][19:51:47] SMILES Parse Error: extra close parentheses while parsing: C(=ON[C@@]2(c3cccco3)n2C)c1ccccccc1c1)Cc1cccccc1)n1cc1ccccc2cccccnc2n1cccc()cccn1)n1cccccc2c1Cc1nc(Nc\n",
      "[19:51:47] SMILES Parse Error: Failed parsing SMILES 'C(=ON[C@@]2(c3cccco3)n2C)c1ccccccc1c1)Cc1cccccc1)n1cc1ccccc2cccccnc2n1cccc()cccn1)n1cccccc2c1Cc1nc(Nc' for input: 'C(=ON[C@@]2(c3cccco3)n2C)c1ccccccc1c1)Cc1cccccc1)n1cc1ccccc2cccccnc2n1cccc()cccn1)n1cccccc2c1Cc1nc(Nc'\n",
      " 36%|██████████████▌                         | 363/1000 [04:21<05:38,  1.88it/s][19:51:48] SMILES Parse Error: syntax error while parsing: C@@H]1CCCO1O2\n",
      "CCC(c1cccccO)C(=O)C1=O)nc1c(C)n1ccc(O)nc(O)(=O)n1cccc(B)c1)N(CCC)C(=O)N(C)C(=O)C1=C(=O)\n",
      "[19:51:48] SMILES Parse Error: Failed parsing SMILES 'C@@H]1CCCO1O2\n",
      "CCC(c1cccccO)C(=O)C1=O)nc1c(C)n1ccc(O)nc(O)(=O)n1cccc(B)c1)N(CCC)C(=O)N(C)C(=O)C1=C(=O)' for input: 'C@@H]1CCCO1O2\n",
      "CCC(c1cccccO)C(=O)C1=O)nc1c(C)n1ccc(O)nc(O)(=O)n1cccc(B)c1)N(CCC)C(=O)N(C)C(=O)C1=C(=O)'\n",
      " 36%|██████████████▌                         | 364/1000 [04:21<05:45,  1.84it/s][19:51:48] SMILES Parse Error: extra close parentheses while parsing: C1F)c1cccncc1n1cccccc2c1cccc(Br)c2nc(Br)co2n1)C(=O)CC1\n",
      "CCC(=O)C1=CNCC1(c2ccccnc)nc2)N(C(=O)C(C)(C)c2c\n",
      "[19:51:48] SMILES Parse Error: Failed parsing SMILES 'C1F)c1cccncc1n1cccccc2c1cccc(Br)c2nc(Br)co2n1)C(=O)CC1\n",
      "CCC(=O)C1=CNCC1(c2ccccnc)nc2)N(C(=O)C(C)(C)c2c' for input: 'C1F)c1cccncc1n1cccccc2c1cccc(Br)c2nc(Br)co2n1)C(=O)CC1\n",
      "CCC(=O)C1=CNCC1(c2ccccnc)nc2)N(C(=O)C(C)(C)c2c'\n",
      " 36%|██████████████▌                         | 365/1000 [04:22<05:38,  1.88it/s][19:51:49] SMILES Parse Error: extra close parentheses while parsing: C(=S)O)Csc1ncccnc1)c1ccccccc()c1)n1ncc(Br)ccc1)C\n",
      "CC(=O)C1CCC(=O)NC\n",
      "CCC(c1ccccn1)c1cccccc1)n1ccccc1ccc\n",
      "[19:51:49] SMILES Parse Error: Failed parsing SMILES 'C(=S)O)Csc1ncccnc1)c1ccccccc()c1)n1ncc(Br)ccc1)C\n",
      "CC(=O)C1CCC(=O)NC\n",
      "CCC(c1ccccn1)c1cccccc1)n1ccccc1ccc' for input: 'C(=S)O)Csc1ncccnc1)c1ccccccc()c1)n1ncc(Br)ccc1)C\n",
      "CC(=O)C1CCC(=O)NC\n",
      "CCC(c1ccccn1)c1cccccc1)n1ccccc1ccc'\n",
      " 37%|██████████████▋                         | 366/1000 [04:22<05:47,  1.83it/s][19:51:50] SMILES Parse Error: extra close parentheses while parsing: C)no1)C(=O)c1cccccc1)c1ncccc(O)cc1nnc(C)c(n1)C1c1ccccc(F)(F)c1)[nH]c1cccc1C)CC(=O)C1ccccncc1)c1ccccc(\n",
      "[19:51:50] SMILES Parse Error: Failed parsing SMILES 'C)no1)C(=O)c1cccccc1)c1ncccc(O)cc1nnc(C)c(n1)C1c1ccccc(F)(F)c1)[nH]c1cccc1C)CC(=O)C1ccccncc1)c1ccccc(' for input: 'C)no1)C(=O)c1cccccc1)c1ncccc(O)cc1nnc(C)c(n1)C1c1ccccc(F)(F)c1)[nH]c1cccc1C)CC(=O)C1ccccncc1)c1ccccc('\n",
      " 37%|██████████████▋                         | 367/1000 [04:23<06:06,  1.73it/s][19:51:50] SMILES Parse Error: extra close parentheses while parsing: C)(c1ccccc1)n1ccccc(c2c1ccc2c(ncncc1)c1cccccc(F)(c1)c1cccncc1)cccnc1)nc1cccccc1)ncc1)c1ccccnc2c1cccnc\n",
      "[19:51:50] SMILES Parse Error: Failed parsing SMILES 'C)(c1ccccc1)n1ccccc(c2c1ccc2c(ncncc1)c1cccccc(F)(c1)c1cccncc1)cccnc1)nc1cccccc1)ncc1)c1ccccnc2c1cccnc' for input: 'C)(c1ccccc1)n1ccccc(c2c1ccc2c(ncncc1)c1cccccc(F)(c1)c1cccncc1)cccnc1)nc1cccccc1)ncc1)c1ccccnc2c1cccnc'\n",
      " 37%|██████████████▋                         | 368/1000 [04:24<06:06,  1.72it/s][19:51:51] SMILES Parse Error: extra close parentheses while parsing: CC(=O)C1=NN(=O)/c2cccc(F)c1)N2C1CC(OC)CC1)C(F)(F)(F)F)n1c(N[CCn2cnccc2)SC(=O)(C)=CC1Cc1ccccccc1)C(=O)\n",
      "[19:51:51] SMILES Parse Error: Failed parsing SMILES 'CC(=O)C1=NN(=O)/c2cccc(F)c1)N2C1CC(OC)CC1)C(F)(F)(F)F)n1c(N[CCn2cnccc2)SC(=O)(C)=CC1Cc1ccccccc1)C(=O)' for input: 'CC(=O)C1=NN(=O)/c2cccc(F)c1)N2C1CC(OC)CC1)C(F)(F)(F)F)n1c(N[CCn2cnccc2)SC(=O)(C)=CC1Cc1ccccccc1)C(=O)'\n",
      " 37%|██████████████▊                         | 369/1000 [04:24<06:03,  1.74it/s][19:51:51] SMILES Parse Error: extra close parentheses while parsing: C(=O)c1ccsc(F)c1)N2C(=O)C(C)(C)C\n",
      "CC(=O)C1=NN(C(C)=O\n",
      "CCC(c1ccccc1C)C1=O1c1cccoc1)1Cc2cccc(Cl)cc1\n",
      "CCOC(\n",
      "[19:51:51] SMILES Parse Error: Failed parsing SMILES 'C(=O)c1ccsc(F)c1)N2C(=O)C(C)(C)C\n",
      "CC(=O)C1=NN(C(C)=O\n",
      "CCC(c1ccccc1C)C1=O1c1cccoc1)1Cc2cccc(Cl)cc1\n",
      "CCOC(' for input: 'C(=O)c1ccsc(F)c1)N2C(=O)C(C)(C)C\n",
      "CC(=O)C1=NN(C(C)=O\n",
      "CCC(c1ccccc1C)C1=O1c1cccoc1)1Cc2cccc(Cl)cc1\n",
      "CCOC('\n",
      " 37%|██████████████▊                         | 370/1000 [04:25<06:15,  1.68it/s][19:51:52] SMILES Parse Error: extra close parentheses while parsing: C)cc1O)C(=O)C1CC1CC1(C)CNC(=O)1=[N+](=O)\n",
      "CC1=C(C(=O)C2=C(C)s1nnnc(N(C)(=O)=nHnc2=Osc2ccc(ncccc2)c1ccc\n",
      "[19:51:52] SMILES Parse Error: Failed parsing SMILES 'C)cc1O)C(=O)C1CC1CC1(C)CNC(=O)1=[N+](=O)\n",
      "CC1=C(C(=O)C2=C(C)s1nnnc(N(C)(=O)=nHnc2=Osc2ccc(ncccc2)c1ccc' for input: 'C)cc1O)C(=O)C1CC1CC1(C)CNC(=O)1=[N+](=O)\n",
      "CC1=C(C(=O)C2=C(C)s1nnnc(N(C)(=O)=nHnc2=Osc2ccc(ncccc2)c1ccc'\n",
      " 37%|██████████████▊                         | 371/1000 [04:25<06:19,  1.66it/s][19:51:53] SMILES Parse Error: extra close parentheses while parsing: CNC[C@H]1c1cccccn1)n1cccncc1)n1ccccc(O)(C)c1cccccn1)c1nccccc(F)c(F)c1)(=O)n1ccccc1)n1ccccc((S(n2cccc(\n",
      "[19:51:53] SMILES Parse Error: Failed parsing SMILES 'CNC[C@H]1c1cccccn1)n1cccncc1)n1ccccc(O)(C)c1cccccn1)c1nccccc(F)c(F)c1)(=O)n1ccccc1)n1ccccc((S(n2cccc(' for input: 'CNC[C@H]1c1cccccn1)n1cccncc1)n1ccccc(O)(C)c1cccccn1)c1nccccc(F)c(F)c1)(=O)n1ccccc1)n1ccccc((S(n2cccc('\n",
      " 37%|██████████████▉                         | 372/1000 [04:26<06:15,  1.67it/s][19:51:53] SMILES Parse Error: extra close parentheses while parsing: C)C(=O\n",
      "CCC(c2ccn(C)no3)CC(c3cccsc3)n2c1Cc3cc(C)oc(O)c(=O)n1)c1ccc(O)ncncO)c1ccccc(F)cc1)c1cccccc1n1cc\n",
      "[19:51:53] SMILES Parse Error: Failed parsing SMILES 'C)C(=O\n",
      "CCC(c2ccn(C)no3)CC(c3cccsc3)n2c1Cc3cc(C)oc(O)c(=O)n1)c1ccc(O)ncncO)c1ccccc(F)cc1)c1cccccc1n1cc' for input: 'C)C(=O\n",
      "CCC(c2ccn(C)no3)CC(c3cccsc3)n2c1Cc3cc(C)oc(O)c(=O)n1)c1ccc(O)ncncO)c1ccccc(F)cc1)c1cccccc1n1cc'\n",
      " 37%|██████████████▉                         | 373/1000 [04:27<06:09,  1.70it/s][19:51:54] SMILES Parse Error: syntax error while parsing: C@@H]1CC(=O)N1CC(F)(F)C1c1ccccc(O)(c2ccncoc2)S1(=O)=O)#c1cccccc1)n1cccc(c)c1CCc1cccccn1)c1ccc(F)ccc1)\n",
      "[19:51:54] SMILES Parse Error: Failed parsing SMILES 'C@@H]1CC(=O)N1CC(F)(F)C1c1ccccc(O)(c2ccncoc2)S1(=O)=O)#c1cccccc1)n1cccc(c)c1CCc1cccccn1)c1ccc(F)ccc1)' for input: 'C@@H]1CC(=O)N1CC(F)(F)C1c1ccccc(O)(c2ccncoc2)S1(=O)=O)#c1cccccc1)n1cccc(c)c1CCc1cccccn1)c1ccc(F)ccc1)'\n",
      " 37%|██████████████▉                         | 374/1000 [04:27<05:49,  1.79it/s][19:51:54] SMILES Parse Error: extra close parentheses while parsing: C[C@H]1c1ccncs1)c1cccc(O)ncc1ccccc(F)cc1\n",
      "CC(=O)C1=C(F)C\n",
      "CCS(=O)(c1cNc=cc2nccc(F)(c1)Fn1ccc(F)ccc)c1)(\n",
      "[19:51:54] SMILES Parse Error: Failed parsing SMILES 'C[C@H]1c1ccncs1)c1cccc(O)ncc1ccccc(F)cc1\n",
      "CC(=O)C1=C(F)C\n",
      "CCS(=O)(c1cNc=cc2nccc(F)(c1)Fn1ccc(F)ccc)c1)(' for input: 'C[C@H]1c1ccncs1)c1cccc(O)ncc1ccccc(F)cc1\n",
      "CC(=O)C1=C(F)C\n",
      "CCS(=O)(c1cNc=cc2nccc(F)(c1)Fn1ccc(F)ccc)c1)('\n",
      " 38%|███████████████                         | 375/1000 [04:28<05:57,  1.75it/s][19:51:55] SMILES Parse Error: extra close parentheses while parsing: C[C@H]1c1cccc(O)nc1)c1c\n",
      "CC1=C(C)COC(=1CNC(=O)C1=C(C)NC(=NN=C(c2cc(F)(F)=cccc[nH]cc2)CC(c3cccc(O)c3)C2\n",
      "[19:51:55] SMILES Parse Error: Failed parsing SMILES 'C[C@H]1c1cccc(O)nc1)c1c\n",
      "CC1=C(C)COC(=1CNC(=O)C1=C(C)NC(=NN=C(c2cc(F)(F)=cccc[nH]cc2)CC(c3cccc(O)c3)C2' for input: 'C[C@H]1c1cccc(O)nc1)c1c\n",
      "CC1=C(C)COC(=1CNC(=O)C1=C(C)NC(=NN=C(c2cc(F)(F)=cccc[nH]cc2)CC(c3cccc(O)c3)C2'\n",
      " 38%|███████████████                         | 376/1000 [04:28<06:00,  1.73it/s][19:51:55] SMILES Parse Error: extra close parentheses while parsing: CN(C)C)=N1C(=Oc2ccccc(O)c(=O)nc2)n1Cc1ccc(OC)nc1)Nc1ccccc(O)(C)c1cccccn1)ccc((F)(=O)ccc1n1cNcccccc1)n\n",
      "[19:51:55] SMILES Parse Error: Failed parsing SMILES 'CN(C)C)=N1C(=Oc2ccccc(O)c(=O)nc2)n1Cc1ccc(OC)nc1)Nc1ccccc(O)(C)c1cccccn1)ccc((F)(=O)ccc1n1cNcccccc1)n' for input: 'CN(C)C)=N1C(=Oc2ccccc(O)c(=O)nc2)n1Cc1ccc(OC)nc1)Nc1ccccc(O)(C)c1cccccn1)ccc((F)(=O)ccc1n1cNcccccc1)n'\n",
      " 38%|███████████████                         | 377/1000 [04:29<05:43,  1.82it/s][19:51:56] SMILES Parse Error: extra close parentheses while parsing: C)=O)C1)[C@@](C)(c1cccccccc(O)c1)(=1)n1ccc(F)ccc1)C1=CCOC(1)C(=O)[C@@](F)(c1ccccccc)c1)N(C)Cc1ccccc(O\n",
      "[19:51:56] SMILES Parse Error: Failed parsing SMILES 'C)=O)C1)[C@@](C)(c1cccccccc(O)c1)(=1)n1ccc(F)ccc1)C1=CCOC(1)C(=O)[C@@](F)(c1ccccccc)c1)N(C)Cc1ccccc(O' for input: 'C)=O)C1)[C@@](C)(c1cccccccc(O)c1)(=1)n1ccc(F)ccc1)C1=CCOC(1)C(=O)[C@@](F)(c1ccccccc)c1)N(C)Cc1ccccc(O'\n",
      " 38%|███████████████                         | 378/1000 [04:29<05:33,  1.87it/s][19:51:56] SMILES Parse Error: extra close parentheses while parsing: C1=NN(C(=O)C(C)(Br)c[nH]c1)c1cccccc1)n1ccc(ccccOccccc1)n1ccccnnc1)nccc1)n1cccnc()(=O)c1cccc(Br)ncc1C)\n",
      "[19:51:56] SMILES Parse Error: Failed parsing SMILES 'C1=NN(C(=O)C(C)(Br)c[nH]c1)c1cccccc1)n1ccc(ccccOccccc1)n1ccccnnc1)nccc1)n1cccnc()(=O)c1cccc(Br)ncc1C)' for input: 'C1=NN(C(=O)C(C)(Br)c[nH]c1)c1cccccc1)n1ccc(ccccOccccc1)n1ccccnnc1)nccc1)n1cccnc()(=O)c1cccc(Br)ncc1C)'\n",
      " 38%|███████████████▏                        | 379/1000 [04:30<05:36,  1.85it/s][19:51:57] SMILES Parse Error: syntax error while parsing: CC(=O)COc1ccc(-c2cncHn2)C1)c1cccccc1)ncnc1C\n",
      "CC(C@@](F)(c1cccccc1)(c1)Cc1ccccc(O)n1)c1cccccccc1)nccc[n\n",
      "[19:51:57] SMILES Parse Error: Failed parsing SMILES 'CC(=O)COc1ccc(-c2cncHn2)C1)c1cccccc1)ncnc1C\n",
      "CC(C@@](F)(c1cccccc1)(c1)Cc1ccccc(O)n1)c1cccccccc1)nccc[n' for input: 'CC(=O)COc1ccc(-c2cncHn2)C1)c1cccccc1)ncnc1C\n",
      "CC(C@@](F)(c1cccccc1)(c1)Cc1ccccc(O)n1)c1cccccccc1)nccc[n'\n",
      " 38%|███████████████▏                        | 380/1000 [04:30<05:24,  1.91it/s][19:51:57] SMILES Parse Error: syntax error while parsing: C(=O)C1=NN(c2c(Br)cccc1)(nHnccnc()O)n1)c1ccccccc1S)(n1ncccc(F)(c2ccccc2c(=O)nc1-c1cccccc1)n1cccc(O)nc\n",
      "[19:51:57] SMILES Parse Error: Failed parsing SMILES 'C(=O)C1=NN(c2c(Br)cccc1)(nHnccnc()O)n1)c1ccccccc1S)(n1ncccc(F)(c2ccccc2c(=O)nc1-c1cccccc1)n1cccc(O)nc' for input: 'C(=O)C1=NN(c2c(Br)cccc1)(nHnccnc()O)n1)c1ccccccc1S)(n1ncccc(F)(c2ccccc2c(=O)nc1-c1cccccc1)n1cccc(O)nc'\n",
      " 38%|███████████████▏                        | 381/1000 [04:31<05:19,  1.94it/s][19:51:58] SMILES Parse Error: extra close parentheses while parsing: C2=NC(=O)/C(=O)OC(F)(F)F)c1\n",
      "CC(=O)C1=NN(c2cc(-c3ncsccn3)S2)S1\n",
      "CC1=C(C(=OBO)C1(F)CC1c1ccccc(O)nc1)C[C@\n",
      "[19:51:58] SMILES Parse Error: Failed parsing SMILES 'C2=NC(=O)/C(=O)OC(F)(F)F)c1\n",
      "CC(=O)C1=NN(c2cc(-c3ncsccn3)S2)S1\n",
      "CC1=C(C(=OBO)C1(F)CC1c1ccccc(O)nc1)C[C@' for input: 'C2=NC(=O)/C(=O)OC(F)(F)F)c1\n",
      "CC(=O)C1=NN(c2cc(-c3ncsccn3)S2)S1\n",
      "CC1=C(C(=OBO)C1(F)CC1c1ccccc(O)nc1)C[C@'\n",
      " 38%|███████████████▎                        | 382/1000 [04:31<05:25,  1.90it/s][19:51:59] SMILES Parse Error: extra close parentheses while parsing: Cc3cc(F)ccc3OC[C@H]2[C@@]1(O)CC(=O)O)c1cccc(O)(=O)cc3c)n1\n",
      "CC(=O)C1=N[C(C2=Co/C=C/+](N=[+I](c)C(=O)[C@\n",
      "[19:51:59] SMILES Parse Error: Failed parsing SMILES 'Cc3cc(F)ccc3OC[C@H]2[C@@]1(O)CC(=O)O)c1cccc(O)(=O)cc3c)n1\n",
      "CC(=O)C1=N[C(C2=Co/C=C/+](N=[+I](c)C(=O)[C@' for input: 'Cc3cc(F)ccc3OC[C@H]2[C@@]1(O)CC(=O)O)c1cccc(O)(=O)cc3c)n1\n",
      "CC(=O)C1=N[C(C2=Co/C=C/+](N=[+I](c)C(=O)[C@'\n",
      " 38%|███████████████▎                        | 383/1000 [04:32<05:32,  1.86it/s][19:51:59] SMILES Parse Error: extra close parentheses while parsing: C)[C@=O)c2scnc(C)n2nc(N)nc(Sc3ccc()no3)c2c(=O)n(C)C)c1CCOcccccc1C)c1cccc(C(=O)O)nc1)Cr1cccc(O)n1)c1cc\n",
      "[19:51:59] SMILES Parse Error: Failed parsing SMILES 'C)[C@=O)c2scnc(C)n2nc(N)nc(Sc3ccc()no3)c2c(=O)n(C)C)c1CCOcccccc1C)c1cccc(C(=O)O)nc1)Cr1cccc(O)n1)c1cc' for input: 'C)[C@=O)c2scnc(C)n2nc(N)nc(Sc3ccc()no3)c2c(=O)n(C)C)c1CCOcccccc1C)c1cccc(C(=O)O)nc1)Cr1cccc(O)n1)c1cc'\n",
      " 38%|███████████████▍                        | 385/1000 [04:33<05:38,  1.82it/s][19:52:00] SMILES Parse Error: extra close parentheses while parsing: CN)C(=O)/C(=O)C1=C(SCOc2cccc(O)nc2c1cccc(Br)=nH]1)c1ccc(Occcccc2c(C)(C)[C@H](c)cc1ccccccS(C)(F)=O)cc1\n",
      "[19:52:00] SMILES Parse Error: Failed parsing SMILES 'CN)C(=O)/C(=O)C1=C(SCOc2cccc(O)nc2c1cccc(Br)=nH]1)c1ccc(Occcccc2c(C)(C)[C@H](c)cc1ccccccS(C)(F)=O)cc1' for input: 'CN)C(=O)/C(=O)C1=C(SCOc2cccc(O)nc2c1cccc(Br)=nH]1)c1ccc(Occcccc2c(C)(C)[C@H](c)cc1ccccccS(C)(F)=O)cc1'\n",
      " 39%|███████████████▍                        | 386/1000 [04:33<05:28,  1.87it/s][19:52:01] SMILES Parse Error: extra close parentheses while parsing: C)C(n2cc(F)ccc3O2)cn1)N(s1=CCC(=O)c1ccscc1n1ccc(Brccccc2cccc(O)Sc1=[nH]1ccc(Br)cc(F)(F)c1N[C@@H]2c1cc\n",
      "[19:52:01] SMILES Parse Error: Failed parsing SMILES 'C)C(n2cc(F)ccc3O2)cn1)N(s1=CCC(=O)c1ccscc1n1ccc(Brccccc2cccc(O)Sc1=[nH]1ccc(Br)cc(F)(F)c1N[C@@H]2c1cc' for input: 'C)C(n2cc(F)ccc3O2)cn1)N(s1=CCC(=O)c1ccscc1n1ccc(Brccccc2cccc(O)Sc1=[nH]1ccc(Br)cc(F)(F)c1N[C@@H]2c1cc'\n",
      " 39%|███████████████▍                        | 387/1000 [04:34<05:36,  1.82it/s][19:52:01] SMILES Parse Error: extra close parentheses while parsing: C)cc1)C1CCS(=O)(=O)c1cccccc(Cl)cc1)n1Cc2cccccc2cc(nccccc(F)(c1)(c1)Oc1cccc1c1cccncn1)c1ccccc(C)n1)n1c\n",
      "[19:52:01] SMILES Parse Error: Failed parsing SMILES 'C)cc1)C1CCS(=O)(=O)c1cccccc(Cl)cc1)n1Cc2cccccc2cc(nccccc(F)(c1)(c1)Oc1cccc1c1cccncn1)c1ccccc(C)n1)n1c' for input: 'C)cc1)C1CCS(=O)(=O)c1cccccc(Cl)cc1)n1Cc2cccccc2cc(nccccc(F)(c1)(c1)Oc1cccc1c1cccncn1)c1ccccc(C)n1)n1c'\n",
      " 39%|███████████████▌                        | 388/1000 [04:35<05:22,  1.90it/s][19:52:02] SMILES Parse Error: syntax error while parsing: C@+]1[C@@H](c1ccc(Br)ccc(F)c1)N(CCCC(=O)O)(=N)C(=Oc]ccc(F)c1C(C)(C)O)C(=O)C1Cc1cccccc1)n1cc(C)ncc(C)c\n",
      "[19:52:02] SMILES Parse Error: Failed parsing SMILES 'C@+]1[C@@H](c1ccc(Br)ccc(F)c1)N(CCCC(=O)O)(=N)C(=Oc]ccc(F)c1C(C)(C)O)C(=O)C1Cc1cccccc1)n1cc(C)ncc(C)c' for input: 'C@+]1[C@@H](c1ccc(Br)ccc(F)c1)N(CCCC(=O)O)(=N)C(=Oc]ccc(F)c1C(C)(C)O)C(=O)C1Cc1cccccc1)n1cc(C)ncc(C)c'\n",
      " 39%|███████████████▌                        | 389/1000 [04:35<05:15,  1.93it/s][19:52:02] SMILES Parse Error: extra close parentheses while parsing: C(SC[C@@H](O)C(=O)O)C(=O)c1cccc(Br)cc1F)(C(=O)O\n",
      "CCC(c1nc2ccsc2n(C)(c1cccc()c1)C[C@H]c1c1cc1ncnccc()c1\n",
      "[19:52:02] SMILES Parse Error: Failed parsing SMILES 'C(SC[C@@H](O)C(=O)O)C(=O)c1cccc(Br)cc1F)(C(=O)O\n",
      "CCC(c1nc2ccsc2n(C)(c1cccc()c1)C[C@H]c1c1cc1ncnccc()c1' for input: 'C(SC[C@@H](O)C(=O)O)C(=O)c1cccc(Br)cc1F)(C(=O)O\n",
      "CCC(c1nc2ccsc2n(C)(c1cccc()c1)C[C@H]c1c1cc1ncnccc()c1'\n",
      " 39%|███████████████▌                        | 390/1000 [04:36<05:21,  1.90it/s][19:52:03] SMILES Parse Error: extra close parentheses while parsing: CO)(C(F)(F)F)c1cccccc1)n1cccc()cc1)n1cccc(Br)ccc1nccc(nn1)c1cccccn1)CC)n1ccccccc1c(nccccc1)nc2cccccn2\n",
      "[19:52:03] SMILES Parse Error: Failed parsing SMILES 'CO)(C(F)(F)F)c1cccccc1)n1cccc()cc1)n1cccc(Br)ccc1nccc(nn1)c1cccccn1)CC)n1ccccccc1c(nccccc1)nc2cccccn2' for input: 'CO)(C(F)(F)F)c1cccccc1)n1cccc()cc1)n1cccc(Br)ccc1nccc(nn1)c1cccccn1)CC)n1ccccccc1c(nccccc1)nc2cccccn2'\n",
      " 39%|███████████████▋                        | 391/1000 [04:36<05:12,  1.95it/s][19:52:03] SMILES Parse Error: extra close parentheses while parsing: C(=O)CC1)c1ccccccc1)n1cccc(SOc(c1)c1cccccc1Cl)c1cccc(C)ncn1)c1ccccc(n1)C[C@H]1CC[C@@H]1O)c1cccccc(O)n\n",
      "[19:52:03] SMILES Parse Error: Failed parsing SMILES 'C(=O)CC1)c1ccccccc1)n1cccc(SOc(c1)c1cccccc1Cl)c1cccc(C)ncn1)c1ccccc(n1)C[C@H]1CC[C@@H]1O)c1cccccc(O)n' for input: 'C(=O)CC1)c1ccccccc1)n1cccc(SOc(c1)c1cccccc1Cl)c1cccc(C)ncn1)c1ccccc(n1)C[C@H]1CC[C@@H]1O)c1cccccc(O)n'\n",
      " 39%|███████████████▋                        | 392/1000 [04:37<05:16,  1.92it/s][19:52:04] SMILES Parse Error: extra close parentheses while parsing: CN)C(=O)C1(COC)CC1)c1cccccc(F)cn1Cc1cccccc1)nc(cc1)n1ccccc(F)cc1)c1ccccccc(H(F)(F)c1ccccccc1)n1cc1ccc\n",
      "[19:52:04] SMILES Parse Error: Failed parsing SMILES 'CN)C(=O)C1(COC)CC1)c1cccccc(F)cn1Cc1cccccc1)nc(cc1)n1ccccc(F)cc1)c1ccccccc(H(F)(F)c1ccccccc1)n1cc1ccc' for input: 'CN)C(=O)C1(COC)CC1)c1cccccc(F)cn1Cc1cccccc1)nc(cc1)n1ccccc(F)cc1)c1ccccccc(H(F)(F)c1ccccccc1)n1cc1ccc'\n",
      " 39%|███████████████▋                        | 393/1000 [04:37<05:49,  1.74it/s][19:52:05] SMILES Parse Error: extra close parentheses while parsing: C)=O)nn2)no1cccccc1)(c1cccccc(F)c1)(C(=O)OCCOCC1)[nH]c1ccc(F)cc(F)c1)NC(=O)C(=O)\n",
      "CCC(C)(C)c1ccc2ncc(S\n",
      "[19:52:05] SMILES Parse Error: Failed parsing SMILES 'C)=O)nn2)no1cccccc1)(c1cccccc(F)c1)(C(=O)OCCOCC1)[nH]c1ccc(F)cc(F)c1)NC(=O)C(=O)\n",
      "CCC(C)(C)c1ccc2ncc(S' for input: 'C)=O)nn2)no1cccccc1)(c1cccccc(F)c1)(C(=O)OCCOCC1)[nH]c1ccc(F)cc(F)c1)NC(=O)C(=O)\n",
      "CCC(C)(C)c1ccc2ncc(S'\n",
      " 39%|███████████████▊                        | 394/1000 [04:38<06:02,  1.67it/s][19:52:05] SMILES Parse Error: extra close parentheses while parsing: Cl)C(=O)C1CCN(C(=O)CCCOc1cccccc1)(=O)ncc1Cc1cccncc1)c1ccccccc1)nc1c1cccc(F)co1)c1nccsc1)c1cccc(F)ccc1\n",
      "[19:52:05] SMILES Parse Error: Failed parsing SMILES 'Cl)C(=O)C1CCN(C(=O)CCCOc1cccccc1)(=O)ncc1Cc1cccncc1)c1ccccccc1)nc1c1cccc(F)co1)c1nccsc1)c1cccc(F)ccc1' for input: 'Cl)C(=O)C1CCN(C(=O)CCCOc1cccccc1)(=O)ncc1Cc1cccncc1)c1ccccccc1)nc1c1cccc(F)co1)c1nccsc1)c1cccc(F)ccc1'\n",
      " 40%|███████████████▊                        | 395/1000 [04:38<05:51,  1.72it/s][19:52:07] SMILES Parse Error: extra close parentheses while parsing: C(=O)n2(C)=O)S1\n",
      "CCC(c1ccccc(C)O)n1)c1ccc(=O)n(c1)c1cccccc1)(c1)OCO\n",
      "CCC(c1ccscn1)C(=O)1c1cccccc1)n1ccc\n",
      "[19:52:07] SMILES Parse Error: Failed parsing SMILES 'C(=O)n2(C)=O)S1\n",
      "CCC(c1ccccc(C)O)n1)c1ccc(=O)n(c1)c1cccccc1)(c1)OCO\n",
      "CCC(c1ccscn1)C(=O)1c1cccccc1)n1ccc' for input: 'C(=O)n2(C)=O)S1\n",
      "CCC(c1ccccc(C)O)n1)c1ccc(=O)n(c1)c1cccccc1)(c1)OCO\n",
      "CCC(c1ccscn1)C(=O)1c1cccccc1)n1ccc'\n",
      " 40%|███████████████▊                        | 396/1000 [04:40<08:28,  1.19it/s][19:52:07] SMILES Parse Error: extra close parentheses while parsing: C/c3cccs3)CC3(CCN1Cc4nc(C(=O)noc3(CN)C3cccc(F)c3)n1-c1cccccc1cccccc1)nnc1)c1ccc(Br)co1)n1cccccc(nc1c(\n",
      "[19:52:07] SMILES Parse Error: Failed parsing SMILES 'C/c3cccs3)CC3(CCN1Cc4nc(C(=O)noc3(CN)C3cccc(F)c3)n1-c1cccccc1cccccc1)nnc1)c1ccc(Br)co1)n1cccccc(nc1c(' for input: 'C/c3cccs3)CC3(CCN1Cc4nc(C(=O)noc3(CN)C3cccc(F)c3)n1-c1cccccc1cccccc1)nnc1)c1ccc(Br)co1)n1cccccc(nc1c('\n",
      " 40%|███████████████▉                        | 397/1000 [04:40<07:30,  1.34it/s][19:52:08] SMILES Parse Error: extra close parentheses while parsing: C=C/c3cc(F)cc(Br)c4)ncnc1Cc1ccc(F)ccc1)N(C)C)C1=O\n",
      "CCC(c1sccnc2c(=O)CCOCC(F)(F)F)cc1\n",
      "CC(=O)C1=N(Cc1ccc\n",
      "[19:52:08] SMILES Parse Error: Failed parsing SMILES 'C=C/c3cc(F)cc(Br)c4)ncnc1Cc1ccc(F)ccc1)N(C)C)C1=O\n",
      "CCC(c1sccnc2c(=O)CCOCC(F)(F)F)cc1\n",
      "CC(=O)C1=N(Cc1ccc' for input: 'C=C/c3cc(F)cc(Br)c4)ncnc1Cc1ccc(F)ccc1)N(C)C)C1=O\n",
      "CCC(c1sccnc2c(=O)CCOCC(F)(F)F)cc1\n",
      "CC(=O)C1=N(Cc1ccc'\n",
      " 40%|███████████████▉                        | 398/1000 [04:41<07:06,  1.41it/s][19:52:08] SMILES Parse Error: extra close parentheses while parsing: C(=O)C(F)(c1cccccn1)SCn1cccccc(F)(O)n1)c1cccnc(O)(cc1)c1cccccccc1)ncnc()C)(c1)c1cccccc(2)nc1)c1ccccc(\n",
      "[19:52:08] SMILES Parse Error: Failed parsing SMILES 'C(=O)C(F)(c1cccccn1)SCn1cccccc(F)(O)n1)c1cccnc(O)(cc1)c1cccccccc1)ncnc()C)(c1)c1cccccc(2)nc1)c1ccccc(' for input: 'C(=O)C(F)(c1cccccn1)SCn1cccccc(F)(O)n1)c1cccnc(O)(cc1)c1cccccccc1)ncnc()C)(c1)c1cccccc(2)nc1)c1ccccc('\n",
      " 40%|███████████████▉                        | 399/1000 [04:42<06:32,  1.53it/s][19:52:09] SMILES Parse Error: extra close parentheses while parsing: CC1Cc1cccc(O)n1c1ccc(O)nc2c1)c1ccnccn1)c1cccc(Br)c(Br)ncc1)c1cccc(O)(F)ccc1nc[nH]c1)c1ccc(F)ccc1OC\n",
      "CC\n",
      "[19:52:09] SMILES Parse Error: Failed parsing SMILES 'CC1Cc1cccc(O)n1c1ccc(O)nc2c1)c1ccnccn1)c1cccc(Br)c(Br)ncc1)c1cccc(O)(F)ccc1nc[nH]c1)c1ccc(F)ccc1OC\n",
      "CC' for input: 'CC1Cc1cccc(O)n1c1ccc(O)nc2c1)c1ccnccn1)c1cccc(Br)c(Br)ncc1)c1cccc(O)(F)ccc1nc[nH]c1)c1ccc(F)ccc1OC\n",
      "CC'\n",
      " 40%|████████████████                        | 400/1000 [04:42<06:07,  1.63it/s][19:52:09] SMILES Parse Error: extra close parentheses while parsing: CN)C(=O)c1Cc2cccc(C)no2)n1ccc(c(C)cc1)nc1cccc(c)cc1)n1ccc(F)ccc(F)c3ccccc)c2)nn1)C(=O)c1cccccnn1)c1nc\n",
      "[19:52:09] SMILES Parse Error: Failed parsing SMILES 'CN)C(=O)c1Cc2cccc(C)no2)n1ccc(c(C)cc1)nc1cccc(c)cc1)n1ccc(F)ccc(F)c3ccccc)c2)nn1)C(=O)c1cccccnn1)c1nc' for input: 'CN)C(=O)c1Cc2cccc(C)no2)n1ccc(c(C)cc1)nc1cccc(c)cc1)n1ccc(F)ccc(F)c3ccccc)c2)nn1)C(=O)c1cccccnn1)c1nc'\n",
      " 40%|████████████████                        | 401/1000 [04:43<05:47,  1.72it/s][19:52:10] SMILES Parse Error: unclosed ring for input: 'COc1ccc2c(cccnc1)C1[C@H]2c1(C[C@H](c1cccccc1F)S2)S1\n",
      "CCC(C)C(c1HCN(c2ccc(Br=)ccc34)[C-c3cnH]3)S2)S1(=O'\n",
      " 40%|████████████████                        | 402/1000 [04:43<05:31,  1.80it/s][19:52:10] SMILES Parse Error: extra close parentheses while parsing: CS2)S1\n",
      "CC#N(CC)C(=O)c1ccc(Br)cnc1)(=O)n1cccHc(=O)n1c1cccc(F)cc1)n1cccc(=O)nn1Cc1cccc(Br)cc1)c1ccccccc\n",
      "[19:52:10] SMILES Parse Error: Failed parsing SMILES 'CS2)S1\n",
      "CC#N(CC)C(=O)c1ccc(Br)cnc1)(=O)n1cccHc(=O)n1c1cccc(F)cc1)n1cccc(=O)nn1Cc1cccc(Br)cc1)c1ccccccc' for input: 'CS2)S1\n",
      "CC#N(CC)C(=O)c1ccc(Br)cnc1)(=O)n1cccHc(=O)n1c1cccc(F)cc1)n1cccc(=O)nn1Cc1cccc(Br)cc1)c1ccccccc'\n",
      " 40%|████████████████                        | 403/1000 [04:44<05:20,  1.86it/s][19:52:11] SMILES Parse Error: extra close parentheses while parsing: C)N)C1Cc2cccc(=O)n2ccc(F)(cccc3c(n2)C)C1=C(c[nH]cnc2c1nccsc2)S1)Cc1ccccc(O)n1)c1ccccc(O)nc2c(=O)n1Cc1\n",
      "[19:52:11] SMILES Parse Error: Failed parsing SMILES 'C)N)C1Cc2cccc(=O)n2ccc(F)(cccc3c(n2)C)C1=C(c[nH]cnc2c1nccsc2)S1)Cc1ccccc(O)n1)c1ccccc(O)nc2c(=O)n1Cc1' for input: 'C)N)C1Cc2cccc(=O)n2ccc(F)(cccc3c(n2)C)C1=C(c[nH]cnc2c1nccsc2)S1)Cc1ccccc(O)n1)c1ccccc(O)nc2c(=O)n1Cc1'\n",
      " 40%|████████████████▏                       | 404/1000 [04:44<05:15,  1.89it/s][19:52:11] SMILES Parse Error: extra close parentheses while parsing: CO2)c1cccccc1)n1cccc(n1)c1cccccccc1)nc(Sc1ncc(N(C)Cc2cnccnc3c(O)n1)c1ccc(Br)cc(C(F)(F)C(F)(F)F)cc1)N(\n",
      "[19:52:11] SMILES Parse Error: Failed parsing SMILES 'CO2)c1cccccc1)n1cccc(n1)c1cccccccc1)nc(Sc1ncc(N(C)Cc2cnccnc3c(O)n1)c1ccc(Br)cc(C(F)(F)C(F)(F)F)cc1)N(' for input: 'CO2)c1cccccc1)n1cccc(n1)c1cccccccc1)nc(Sc1ncc(N(C)Cc2cnccnc3c(O)n1)c1ccc(Br)cc(C(F)(F)C(F)(F)F)cc1)N('\n",
      " 40%|████████████████▏                       | 405/1000 [04:45<05:17,  1.87it/s][19:52:12] SMILES Parse Error: syntax error while parsing: C1c1ccc(sc(S(Sc3c([nHcsccc2)nc1)N(CCCCO)C(=O)[C@@H]1CCCO2ccccc2C1CCOCCO1)C(=O)nc1nccc(N)c(c2)CCCOCC1)\n",
      "[19:52:12] SMILES Parse Error: Failed parsing SMILES 'C1c1ccc(sc(S(Sc3c([nHcsccc2)nc1)N(CCCCO)C(=O)[C@@H]1CCCO2ccccc2C1CCOCCO1)C(=O)nc1nccc(N)c(c2)CCCOCC1)' for input: 'C1c1ccc(sc(S(Sc3c([nHcsccc2)nc1)N(CCCCO)C(=O)[C@@H]1CCCO2ccccc2C1CCOCCO1)C(=O)nc1nccc(N)c(c2)CCCOCC1)'\n",
      " 41%|████████████████▏                       | 406/1000 [04:45<05:09,  1.92it/s][19:52:12] SMILES Parse Error: extra close parentheses while parsing: C)(=O)=s1)N1CC1=O-]2=C(C)=O\n",
      "CC(=O)C1=NO=C(C(=O)NC[C@H]2Cc3c([nH]cc34)CC1c1ccsccc4n1c[nH]n2)C1(C)C)c1c\n",
      "[19:52:12] SMILES Parse Error: Failed parsing SMILES 'C)(=O)=s1)N1CC1=O-]2=C(C)=O\n",
      "CC(=O)C1=NO=C(C(=O)NC[C@H]2Cc3c([nH]cc34)CC1c1ccsccc4n1c[nH]n2)C1(C)C)c1c' for input: 'C)(=O)=s1)N1CC1=O-]2=C(C)=O\n",
      "CC(=O)C1=NO=C(C(=O)NC[C@H]2Cc3c([nH]cc34)CC1c1ccsccc4n1c[nH]n2)C1(C)C)c1c'\n",
      " 41%|████████████████▎                       | 407/1000 [04:46<05:02,  1.96it/s][19:52:13] SMILES Parse Error: extra close parentheses while parsing: C)cc1)N2\n",
      "CCC(=O)Cc1cccnc2c1CCC(=O)N(C)C1+ccccc1)C(=n)c1ccccnc1)n1)c1ccccs1c1Cc(ccccc1)(=O)n1ncnc(-c2c\n",
      "[19:52:13] SMILES Parse Error: Failed parsing SMILES 'C)cc1)N2\n",
      "CCC(=O)Cc1cccnc2c1CCC(=O)N(C)C1+ccccc1)C(=n)c1ccccnc1)n1)c1ccccs1c1Cc(ccccc1)(=O)n1ncnc(-c2c' for input: 'C)cc1)N2\n",
      "CCC(=O)Cc1cccnc2c1CCC(=O)N(C)C1+ccccc1)C(=n)c1ccccnc1)n1)c1ccccs1c1Cc(ccccc1)(=O)n1ncnc(-c2c'\n",
      " 41%|████████████████▎                       | 408/1000 [04:46<05:13,  1.89it/s][19:52:13] SMILES Parse Error: syntax error while parsing: C@H]1c1nc[nscc1)c1cccccc(F)cc1)c1cccnccc(nccc2c1cccic()(c)c1\n",
      "CC1=C(C(=O)C(C)(C)C\n",
      "CC(=O)C1=NN(c2cnoc(O\n",
      "[19:52:13] SMILES Parse Error: Failed parsing SMILES 'C@H]1c1nc[nscc1)c1cccccc(F)cc1)c1cccnccc(nccc2c1cccic()(c)c1\n",
      "CC1=C(C(=O)C(C)(C)C\n",
      "CC(=O)C1=NN(c2cnoc(O' for input: 'C@H]1c1nc[nscc1)c1cccccc(F)cc1)c1cccnccc(nccc2c1cccic()(c)c1\n",
      "CC1=C(C(=O)C(C)(C)C\n",
      "CC(=O)C1=NN(c2cnoc(O'\n",
      " 41%|████████████████▎                       | 409/1000 [04:47<05:04,  1.94it/s][19:52:14] SMILES Parse Error: extra close parentheses while parsing: C(c3cccc(C)nc2)C(C)(C)NC(=S)N1S-C[C@@](c3ccc(F)cc3ccc(Cl)cc4)nc3)S2)SC1(C)c1cccccc1)n-c2ccccc(F)cc2nn\n",
      "[19:52:14] SMILES Parse Error: Failed parsing SMILES 'C(c3cccc(C)nc2)C(C)(C)NC(=S)N1S-C[C@@](c3ccc(F)cc3ccc(Cl)cc4)nc3)S2)SC1(C)c1cccccc1)n-c2ccccc(F)cc2nn' for input: 'C(c3cccc(C)nc2)C(C)(C)NC(=S)N1S-C[C@@](c3ccc(F)cc3ccc(Cl)cc4)nc3)S2)SC1(C)c1cccccc1)n-c2ccccc(F)cc2nn'\n",
      " 41%|████████████████▍                       | 410/1000 [04:47<05:01,  1.95it/s][19:52:14] SMILES Parse Error: extra close parentheses while parsing: COCC3)cc1\n",
      "CCc3c(ccs2)n1Cc1ccccc1)n1nc(nccccc2ccc(F)ccc12n1cH]c(O)nc1)N(CCCCN)C(=O)c1ccc(F)ncc1)n1cccc\n",
      "[19:52:14] SMILES Parse Error: Failed parsing SMILES 'COCC3)cc1\n",
      "CCc3c(ccs2)n1Cc1ccccc1)n1nc(nccccc2ccc(F)ccc12n1cH]c(O)nc1)N(CCCCN)C(=O)c1ccc(F)ncc1)n1cccc' for input: 'COCC3)cc1\n",
      "CCc3c(ccs2)n1Cc1ccccc1)n1nc(nccccc2ccc(F)ccc12n1cH]c(O)nc1)N(CCCCN)C(=O)c1ccc(F)ncc1)n1cccc'\n",
      " 41%|████████████████▍                       | 411/1000 [04:48<05:07,  1.91it/s][19:52:15] SMILES Parse Error: extra close parentheses while parsing: Cc1ccccc1)NC(=O)C(=O)C1Cc1ccc(F)cc1\n",
      "CCC(c1c(sccnc2O)C1(O)ncccn1)c1cccccccc2c1nccc()cc1(=O)c1ccccncn1)\n",
      "[19:52:15] SMILES Parse Error: Failed parsing SMILES 'Cc1ccccc1)NC(=O)C(=O)C1Cc1ccc(F)cc1\n",
      "CCC(c1c(sccnc2O)C1(O)ncccn1)c1cccccccc2c1nccc()cc1(=O)c1ccccncn1)' for input: 'Cc1ccccc1)NC(=O)C(=O)C1Cc1ccc(F)cc1\n",
      "CCC(c1c(sccnc2O)C1(O)ncccn1)c1cccccccc2c1nccc()cc1(=O)c1ccccncn1)'\n",
      " 41%|████████████████▍                       | 412/1000 [04:48<04:58,  1.97it/s][19:52:15] SMILES Parse Error: extra close parentheses while parsing: C\\c3c(Br)[nH]nc2Br)cccc11\n",
      "CC1=C(C(=O)c1cccoc1)(F)C(=O)CC1(CSCc1ccccc(O)(=O)n1n)c1cccccn1)c1cccccc1C(=\n",
      "[19:52:15] SMILES Parse Error: Failed parsing SMILES 'C\\c3c(Br)[nH]nc2Br)cccc11\n",
      "CC1=C(C(=O)c1cccoc1)(F)C(=O)CC1(CSCc1ccccc(O)(=O)n1n)c1cccccn1)c1cccccc1C(=' for input: 'C\\c3c(Br)[nH]nc2Br)cccc11\n",
      "CC1=C(C(=O)c1cccoc1)(F)C(=O)CC1(CSCc1ccccc(O)(=O)n1n)c1cccccn1)c1cccccc1C(='\n",
      " 41%|████████████████▌                       | 413/1000 [04:49<04:55,  1.98it/s][19:52:16] SMILES Parse Error: syntax error while parsing: C1=NN2c3ccc(F)cc(C)c3nnc([C@H](4)CC[S3)nnc1N[C@H]1Oc2ccccc1C)CC(C)(=O)CC\n",
      "CC1scnnc1C1CCOC(CC1)N)c1cccc\n",
      "[19:52:16] SMILES Parse Error: Failed parsing SMILES 'C1=NN2c3ccc(F)cc(C)c3nnc([C@H](4)CC[S3)nnc1N[C@H]1Oc2ccccc1C)CC(C)(=O)CC\n",
      "CC1scnnc1C1CCOC(CC1)N)c1cccc' for input: 'C1=NN2c3ccc(F)cc(C)c3nnc([C@H](4)CC[S3)nnc1N[C@H]1Oc2ccccc1C)CC(C)(=O)CC\n",
      "CC1scnnc1C1CCOC(CC1)N)c1cccc'\n",
      " 41%|████████████████▌                       | 414/1000 [04:49<04:53,  2.00it/s][19:52:16] SMILES Parse Error: syntax error while parsing: C1=NNC[C@2](CO)CC1=C(O)=O(C)C)c1cccccc1)n1ccnccc(1)(c2ccccccc1)nnc1)C1Cc1ccccc(O)nc1)c1ccccc1)c1ccccc\n",
      "[19:52:16] SMILES Parse Error: Failed parsing SMILES 'C1=NNC[C@2](CO)CC1=C(O)=O(C)C)c1cccccc1)n1ccnccc(1)(c2ccccccc1)nnc1)C1Cc1ccccc(O)nc1)c1ccccc1)c1ccccc' for input: 'C1=NNC[C@2](CO)CC1=C(O)=O(C)C)c1cccccc1)n1ccnccc(1)(c2ccccccc1)nnc1)C1Cc1ccccc(O)nc1)c1ccccc1)c1ccccc'\n",
      " 42%|████████████████▌                       | 415/1000 [04:50<04:46,  2.04it/s][19:52:17] SMILES Parse Error: extra close parentheses while parsing: C(=O)NCc3scoc3c(N(C)SC(=O)CO)co2)S1(=C(4C)=O)=NN(c1ccscc(F)c(Br)c1)c1ncccnc)cc1)N(C1CCFCO1)c1ccc(O)cc\n",
      "[19:52:17] SMILES Parse Error: Failed parsing SMILES 'C(=O)NCc3scoc3c(N(C)SC(=O)CO)co2)S1(=C(4C)=O)=NN(c1ccscc(F)c(Br)c1)c1ncccnc)cc1)N(C1CCFCO1)c1ccc(O)cc' for input: 'C(=O)NCc3scoc3c(N(C)SC(=O)CO)co2)S1(=C(4C)=O)=NN(c1ccscc(F)c(Br)c1)c1ncccnc)cc1)N(C1CCFCO1)c1ccc(O)cc'\n",
      " 42%|████████████████▋                       | 416/1000 [04:50<04:43,  2.06it/s][19:52:17] SMILES Parse Error: syntax error while parsing: C=CNC(=C/C=-/c#c3scccn2)S(S(C)(=O)=O)=N)=C(c1ccccco1)n1)c1ccc([nnH]cc1C)nc1cccncc2)Nc1cccs1)(n1cccc(n\n",
      "[19:52:17] SMILES Parse Error: Failed parsing SMILES 'C=CNC(=C/C=-/c#c3scccn2)S(S(C)(=O)=O)=N)=C(c1ccccco1)n1)c1ccc([nnH]cc1C)nc1cccncc2)Nc1cccs1)(n1cccc(n' for input: 'C=CNC(=C/C=-/c#c3scccn2)S(S(C)(=O)=O)=N)=C(c1ccccco1)n1)c1ccc([nnH]cc1C)nc1cccncc2)Nc1cccs1)(n1cccc(n'\n",
      " 42%|████████████████▋                       | 417/1000 [04:51<04:40,  2.08it/s][19:52:18] SMILES Parse Error: extra close parentheses while parsing: C)=N[C@@]1(C)C(OC)Cc1cccccc1)c1cccccccc1)c1ccccccc1(C)(C)O\n",
      "CC[C@H](c1ccccn1)n1cccc(F)c[nH]1)c1cccccnc\n",
      "[19:52:18] SMILES Parse Error: Failed parsing SMILES 'C)=N[C@@]1(C)C(OC)Cc1cccccc1)c1cccccccc1)c1ccccccc1(C)(C)O\n",
      "CC[C@H](c1ccccn1)n1cccc(F)c[nH]1)c1cccccnc' for input: 'C)=N[C@@]1(C)C(OC)Cc1cccccc1)c1cccccccc1)c1ccccccc1(C)(C)O\n",
      "CC[C@H](c1ccccn1)n1cccc(F)c[nH]1)c1cccccnc'\n",
      " 42%|████████████████▋                       | 418/1000 [04:51<04:50,  2.00it/s][19:52:18] SMILES Parse Error: syntax error while parsing: C@@c]2o2c(nccnc3ccc2F)CC[C@@]1(C)CO1)c1cccccc1\n",
      "CCC(NCc1ccccc1)C(=O)Cc1cocc(O)c1)(c1ccccncc(S)nc2c1ccc\n",
      "[19:52:18] SMILES Parse Error: Failed parsing SMILES 'C@@c]2o2c(nccnc3ccc2F)CC[C@@]1(C)CO1)c1cccccc1\n",
      "CCC(NCc1ccccc1)C(=O)Cc1cocc(O)c1)(c1ccccncc(S)nc2c1ccc' for input: 'C@@c]2o2c(nccnc3ccc2F)CC[C@@]1(C)CO1)c1cccccc1\n",
      "CCC(NCc1ccccc1)C(=O)Cc1cocc(O)c1)(c1ccccncc(S)nc2c1ccc'\n",
      " 42%|████████████████▊                       | 419/1000 [04:52<04:43,  2.05it/s][19:52:19] SMILES Parse Error: extra close parentheses while parsing: CNC)=O)C1\n",
      "CCCC[C@H](C)(C)(=O)=O)=N1C(=O)COc2ccc(F)ccc1)[O-])c1ccnccnc1)n1cccccccc2cccccc1)c2cccccc1nn\n",
      "[19:52:19] SMILES Parse Error: Failed parsing SMILES 'CNC)=O)C1\n",
      "CCCC[C@H](C)(C)(=O)=O)=N1C(=O)COc2ccc(F)ccc1)[O-])c1ccnccnc1)n1cccccccc2cccccc1)c2cccccc1nn' for input: 'CNC)=O)C1\n",
      "CCCC[C@H](C)(C)(=O)=O)=N1C(=O)COc2ccc(F)ccc1)[O-])c1ccnccnc1)n1cccccccc2cccccc1)c2cccccc1nn'\n",
      " 42%|████████████████▊                       | 420/1000 [04:52<04:41,  2.06it/s][19:52:19] SMILES Parse Error: extra close parentheses while parsing: Cn2ccnc2)c1ccccccc1ncnc1)c1ccc(Br)cc(F)c1nncc(N)n2c(C)=C[nH]c3c1ccc(F)ccc12\n",
      "NCC(=OCOC2=C(C)NC(=O)C[C@\n",
      "[19:52:19] SMILES Parse Error: Failed parsing SMILES 'Cn2ccnc2)c1ccccccc1ncnc1)c1ccc(Br)cc(F)c1nncc(N)n2c(C)=C[nH]c3c1ccc(F)ccc12\n",
      "NCC(=OCOC2=C(C)NC(=O)C[C@' for input: 'Cn2ccnc2)c1ccccccc1ncnc1)c1ccc(Br)cc(F)c1nncc(N)n2c(C)=C[nH]c3c1ccc(F)ccc12\n",
      "NCC(=OCOC2=C(C)NC(=O)C[C@'\n",
      " 42%|████████████████▊                       | 421/1000 [04:53<04:40,  2.06it/s][19:52:20] SMILES Parse Error: extra close parentheses while parsing: C1(C)c1ccncc1)C(=O)n1ccc(Br)cnc1)c1ncccc(F)c3cccInnc(F)c3csnc(=O)noc1)c1cnccncc1)cc1ccccc(cc1)c1ccccc\n",
      "[19:52:20] SMILES Parse Error: Failed parsing SMILES 'C1(C)c1ccncc1)C(=O)n1ccc(Br)cnc1)c1ncccc(F)c3cccInnc(F)c3csnc(=O)noc1)c1cnccncc1)cc1ccccc(cc1)c1ccccc' for input: 'C1(C)c1ccncc1)C(=O)n1ccc(Br)cnc1)c1ncccc(F)c3cccInnc(F)c3csnc(=O)noc1)c1cnccncc1)cc1ccccc(cc1)c1ccccc'\n",
      " 42%|████████████████▉                       | 422/1000 [04:53<04:35,  2.10it/s][19:52:20] SMILES Parse Error: syntax error while parsing: C@@]=1(CCCN1C(=O)[C@@H]2c1ccccc(F)cc1)n1cccnc(F)cn1)c1nccncc1)c1cccc(F)ccc1)C1CC1FCCC1)c1cccoc1\n",
      "CC(C1\n",
      "[19:52:20] SMILES Parse Error: Failed parsing SMILES 'C@@]=1(CCCN1C(=O)[C@@H]2c1ccccc(F)cc1)n1cccnc(F)cn1)c1nccncc1)c1cccc(F)ccc1)C1CC1FCCC1)c1cccoc1\n",
      "CC(C1' for input: 'C@@]=1(CCCN1C(=O)[C@@H]2c1ccccc(F)cc1)n1cccnc(F)cn1)c1nccncc1)c1cccc(F)ccc1)C1CC1FCCC1)c1cccoc1\n",
      "CC(C1'\n",
      " 42%|████████████████▉                       | 423/1000 [04:53<04:31,  2.13it/s][19:52:21] SMILES Parse Error: extra close parentheses while parsing: C)c1ccccn1)C(=O)Oc1cccc(O)nc1)c1ccccc(F)cn1)c1ccccccc(nc2cccccc2c1)n1ccccc(F)cc1)F2c1ccccc(F)cnc1)c1c\n",
      "[19:52:21] SMILES Parse Error: Failed parsing SMILES 'C)c1ccccn1)C(=O)Oc1cccc(O)nc1)c1ccccc(F)cn1)c1ccccccc(nc2cccccc2c1)n1ccccc(F)cc1)F2c1ccccc(F)cnc1)c1c' for input: 'C)c1ccccn1)C(=O)Oc1cccc(O)nc1)c1ccccc(F)cn1)c1ccccccc(nc2cccccc2c1)n1ccccc(F)cc1)F2c1ccccc(F)cnc1)c1c'\n",
      " 42%|████████████████▉                       | 424/1000 [04:54<04:43,  2.03it/s][19:52:21] SMILES Parse Error: extra close parentheses while parsing: CCon2c(C)nnc[nH]1)c1ccccc(F)c1)nnc1nc(nccccc2c1ccccc3O)nc2cccccc(n1)n1ccc(ncccc(2)c3c1)c2ccccn(C)(C)c\n",
      "[19:52:21] SMILES Parse Error: Failed parsing SMILES 'CCon2c(C)nnc[nH]1)c1ccccc(F)c1)nnc1nc(nccccc2c1ccccc3O)nc2cccccc(n1)n1ccc(ncccc(2)c3c1)c2ccccn(C)(C)c' for input: 'CCon2c(C)nnc[nH]1)c1ccccc(F)c1)nnc1nc(nccccc2c1ccccc3O)nc2cccccc(n1)n1ccc(ncccc(2)c3c1)c2ccccn(C)(C)c'\n",
      " 42%|█████████████████                       | 425/1000 [04:55<04:51,  1.97it/s][19:52:22] SMILES Parse Error: extra close parentheses while parsing: C)(=O)=NN1C(=O)C(C)(C)C\n",
      "CC(=O)C1=NN(C(=O)C(C)(C)C)c1ccc(C(n)cccc)n2)n1ccccc(C)nc1c1cccccs1)CCNc2ccccc\n",
      "[19:52:22] SMILES Parse Error: Failed parsing SMILES 'C)(=O)=NN1C(=O)C(C)(C)C\n",
      "CC(=O)C1=NN(C(=O)C(C)(C)C)c1ccc(C(n)cccc)n2)n1ccccc(C)nc1c1cccccs1)CCNc2ccccc' for input: 'C)(=O)=NN1C(=O)C(C)(C)C\n",
      "CC(=O)C1=NN(C(=O)C(C)(C)C)c1ccc(C(n)cccc)n2)n1ccccc(C)nc1c1cccccs1)CCNc2ccccc'\n",
      " 43%|█████████████████                       | 426/1000 [04:55<04:47,  2.00it/s][19:52:22] SMILES Parse Error: extra close parentheses while parsing: Cc1cscnc1)N=[C@N(C)C(=O)C1Cc1ccc(n2Cc(cncc2)nnH1Cc1ccccc1)C(=O)c1ccc(F)ccc1C(C)C)[C@H](F)C1(CC)[C@H](\n",
      "[19:52:22] SMILES Parse Error: Failed parsing SMILES 'Cc1cscnc1)N=[C@N(C)C(=O)C1Cc1ccc(n2Cc(cncc2)nnH1Cc1ccccc1)C(=O)c1ccc(F)ccc1C(C)C)[C@H](F)C1(CC)[C@H](' for input: 'Cc1cscnc1)N=[C@N(C)C(=O)C1Cc1ccc(n2Cc(cncc2)nnH1Cc1ccccc1)C(=O)c1ccc(F)ccc1C(C)C)[C@H](F)C1(CC)[C@H]('\n",
      " 43%|█████████████████                       | 427/1000 [04:56<04:42,  2.03it/s][19:52:23] SMILES Parse Error: unclosed ring for input: 'C2=NC(=O)/C(=O)C1CCCC1(C)C\n",
      "CC(C)=C(=O)C1=NN2c3cc(F)ccc3OC[C@H]2C1)c1sccc(C)ncc1)S(=O)(=O)C1=NC(=O)/C('\n",
      " 43%|█████████████████                       | 428/1000 [04:56<04:41,  2.03it/s][19:52:23] SMILES Parse Error: extra close parentheses while parsing: CCO1)C(=O)c1cccc(Br)cc1n1c1cccccc()c(Br)c1c1cccccc1)c1nccncncO)n1)N(C(=O)[C@@H](F)F1c1cccc(O)nc1)(=O)\n",
      "[19:52:23] SMILES Parse Error: Failed parsing SMILES 'CCO1)C(=O)c1cccc(Br)cc1n1c1cccccc()c(Br)c1c1cccccc1)c1nccncncO)n1)N(C(=O)[C@@H](F)F1c1cccc(O)nc1)(=O)' for input: 'CCO1)C(=O)c1cccc(Br)cc1n1c1cccccc()c(Br)c1c1cccccc1)c1nccncncO)n1)N(C(=O)[C@@H](F)F1c1cccc(O)nc1)(=O)'\n",
      " 43%|█████████████████▏                      | 429/1000 [04:56<04:35,  2.07it/s][19:52:24] SMILES Parse Error: syntax error while parsing: C@H]1c1cccccc1F)C(=O)C(O1)OCCO\\C\n",
      "CCC[C@H](c3cccno2)c1cccc(O)(c2cccccc2)nc(=O1)[nH]1c(c1ncccccc2)[nH]n\n",
      "[19:52:24] SMILES Parse Error: Failed parsing SMILES 'C@H]1c1cccccc1F)C(=O)C(O1)OCCO\\C\n",
      "CCC[C@H](c3cccno2)c1cccc(O)(c2cccccc2)nc(=O1)[nH]1c(c1ncccccc2)[nH]n' for input: 'C@H]1c1cccccc1F)C(=O)C(O1)OCCO\\C\n",
      "CCC[C@H](c3cccno2)c1cccc(O)(c2cccccc2)nc(=O1)[nH]1c(c1ncccccc2)[nH]n'\n",
      " 43%|█████████████████▏                      | 430/1000 [04:57<04:39,  2.04it/s][19:52:24] SMILES Parse Error: extra close parentheses while parsing: C(=O)C1=NN(c2cc(F)ccc3F)no2)cc1sc\n",
      "CC(C)(C)c1ccc2nccnN)sc23)CCC(=O)N1\n",
      "CC(CB/C(=O)C1=C(=O)Cs1scnc(-c4)s\n",
      "[19:52:24] SMILES Parse Error: Failed parsing SMILES 'C(=O)C1=NN(c2cc(F)ccc3F)no2)cc1sc\n",
      "CC(C)(C)c1ccc2nccnN)sc23)CCC(=O)N1\n",
      "CC(CB/C(=O)C1=C(=O)Cs1scnc(-c4)s' for input: 'C(=O)C1=NN(c2cc(F)ccc3F)no2)cc1sc\n",
      "CC(C)(C)c1ccc2nccnN)sc23)CCC(=O)N1\n",
      "CC(CB/C(=O)C1=C(=O)Cs1scnc(-c4)s'\n",
      " 43%|█████████████████▏                      | 431/1000 [04:58<05:05,  1.86it/s][19:52:25] SMILES Parse Error: extra close parentheses while parsing: C2=NC2=N=CcOc1cccc(Cl)cc1c1)c1cccccc(F)cn1)C(=O)=N1CC[C@H]1c1ccccc(O)n1)C1Cc1cccccc11CCC\n",
      "CCC(C)C(=O)C\n",
      "[19:52:25] SMILES Parse Error: Failed parsing SMILES 'C2=NC2=N=CcOc1cccc(Cl)cc1c1)c1cccccc(F)cn1)C(=O)=N1CC[C@H]1c1ccccc(O)n1)C1Cc1cccccc11CCC\n",
      "CCC(C)C(=O)C' for input: 'C2=NC2=N=CcOc1cccc(Cl)cc1c1)c1cccccc(F)cn1)C(=O)=N1CC[C@H]1c1ccccc(O)n1)C1Cc1cccccc11CCC\n",
      "CCC(C)C(=O)C'\n",
      " 43%|█████████████████▎                      | 432/1000 [04:58<05:06,  1.85it/s][19:52:26] SMILES Parse Error: syntax error while parsing: C@H](O1)c1cccc(Br)cc(F)c1F)[nH]c1ccc(C(=O)O)(F)ccc1)n1)c1ccccc(CO(S)(=O)(C)co1\n",
      "CCC(c1ccccn1)(=O)=O)(=\n",
      "[19:52:26] SMILES Parse Error: Failed parsing SMILES 'C@H](O1)c1cccc(Br)cc(F)c1F)[nH]c1ccc(C(=O)O)(F)ccc1)n1)c1ccccc(CO(S)(=O)(C)co1\n",
      "CCC(c1ccccn1)(=O)=O)(=' for input: 'C@H](O1)c1cccc(Br)cc(F)c1F)[nH]c1ccc(C(=O)O)(F)ccc1)n1)c1ccccc(CO(S)(=O)(C)co1\n",
      "CCC(c1ccccn1)(=O)=O)(='\n",
      " 43%|█████████████████▎                      | 433/1000 [04:59<06:55,  1.36it/s][19:52:27] SMILES Parse Error: extra close parentheses while parsing: Cc3ccc(F)cc3)n2)C1(C)C\n",
      "CCNC(=O)C(=O)[C@\\C)C1c1ccccn1)nc1ccccccc2cccncc1)nc1c1ccccnc2c)n1)c1cccccc1)n1\n",
      "[19:52:27] SMILES Parse Error: Failed parsing SMILES 'Cc3ccc(F)cc3)n2)C1(C)C\n",
      "CCNC(=O)C(=O)[C@\\C)C1c1ccccn1)nc1ccccccc2cccncc1)nc1c1ccccnc2c)n1)c1cccccc1)n1' for input: 'Cc3ccc(F)cc3)n2)C1(C)C\n",
      "CCNC(=O)C(=O)[C@\\C)C1c1ccccn1)nc1ccccccc2cccncc1)nc1c1ccccnc2c)n1)c1cccccc1)n1'\n",
      " 43%|█████████████████▎                      | 434/1000 [05:00<06:32,  1.44it/s][19:52:27] SMILES Parse Error: unclosed ring for input: 'CN1C(=O)C(C)C\n",
      "CCC(c1(C)Oc1ccc(F)nc1)n1cccnc(F)c1)(c1cccccc()(c)nc1)c1ccccc(Sc(n2)n(C)n1cccccc(ccc1)c1'\n",
      " 44%|█████████████████▍                      | 435/1000 [05:01<06:26,  1.46it/s][19:52:28] SMILES Parse Error: extra close parentheses while parsing: C-c2cccnc2)C1c1c[nH]nc1n1cccnc(N)cc2)O1\n",
      "CCC(c)[C@H](N)C(=O)N1Cc2scc(OC)cc1)n1ccccc(C)nc1n)c1ccc(OHncc\n",
      "[19:52:28] SMILES Parse Error: Failed parsing SMILES 'C-c2cccnc2)C1c1c[nH]nc1n1cccnc(N)cc2)O1\n",
      "CCC(c)[C@H](N)C(=O)N1Cc2scc(OC)cc1)n1ccccc(C)nc1n)c1ccc(OHncc' for input: 'C-c2cccnc2)C1c1c[nH]nc1n1cccnc(N)cc2)O1\n",
      "CCC(c)[C@H](N)C(=O)N1Cc2scc(OC)cc1)n1ccccc(C)nc1n)c1ccc(OHncc'\n",
      " 44%|█████████████████▍                      | 436/1000 [05:01<06:25,  1.46it/s][19:52:29] SMILES Parse Error: unclosed ring for input: 'C(C#N)(c2ccccn2)n1Cc1ccc(O)nc(-c2cccoc2)n1c(nccccc2cccccc2c1ncccc(N)c4cc(Br)nn1)c1cccc2c(o)cc(F)(F)c1'\n",
      " 44%|█████████████████▍                      | 437/1000 [05:02<06:13,  1.51it/s][19:52:29] SMILES Parse Error: extra close parentheses while parsing: C)ccc3c(ncnc(C)cc3)S(=O)(=O)=O)=N1\n",
      "CC1(C)Oc1cccc(-c2ccnc(O)C(C)c3csc(O)cc1)N2\n",
      "CC(=O)N1CCc2c(cc(C)nccn\n",
      "[19:52:29] SMILES Parse Error: Failed parsing SMILES 'C)ccc3c(ncnc(C)cc3)S(=O)(=O)=O)=N1\n",
      "CC1(C)Oc1cccc(-c2ccnc(O)C(C)c3csc(O)cc1)N2\n",
      "CC(=O)N1CCc2c(cc(C)nccn' for input: 'C)ccc3c(ncnc(C)cc3)S(=O)(=O)=O)=N1\n",
      "CC1(C)Oc1cccc(-c2ccnc(O)C(C)c3csc(O)cc1)N2\n",
      "CC(=O)N1CCc2c(cc(C)nccn'\n",
      " 44%|█████████████████▌                      | 438/1000 [05:03<06:05,  1.54it/s][19:52:30] SMILES Parse Error: extra close parentheses while parsing: CF)cc3c1CCNC2=C(=O)C1)c1ccccs1C(=O)C(=O)OC)[C@](C)C(=O)OC\n",
      "CCC(c1ccccnc1)C1(C)CC)C(=O)c1cccc(Br)ccc1)c\n",
      "[19:52:30] SMILES Parse Error: Failed parsing SMILES 'CF)cc3c1CCNC2=C(=O)C1)c1ccccs1C(=O)C(=O)OC)[C@](C)C(=O)OC\n",
      "CCC(c1ccccnc1)C1(C)CC)C(=O)c1cccc(Br)ccc1)c' for input: 'CF)cc3c1CCNC2=C(=O)C1)c1ccccs1C(=O)C(=O)OC)[C@](C)C(=O)OC\n",
      "CCC(c1ccccnc1)C1(C)CC)C(=O)c1cccc(Br)ccc1)c'\n",
      " 44%|█████████████████▌                      | 439/1000 [05:03<05:36,  1.67it/s][19:52:30] SMILES Parse Error: extra close parentheses while parsing: C(=O)[C@H]2CCCO2)c1cccccc(F)c1ccccccc2c1ncccc(o)c1)nc1cccccccc1cccccc1cccccc1)ccc1Oc1cccccc(F))cc1)n1\n",
      "[19:52:30] SMILES Parse Error: Failed parsing SMILES 'C(=O)[C@H]2CCCO2)c1cccccc(F)c1ccccccc2c1ncccc(o)c1)nc1cccccccc1cccccc1cccccc1)ccc1Oc1cccccc(F))cc1)n1' for input: 'C(=O)[C@H]2CCCO2)c1cccccc(F)c1ccccccc2c1ncccc(o)c1)nc1cccccccc1cccccc1cccccc1)ccc1Oc1cccccc(F))cc1)n1'\n",
      " 44%|█████████████████▌                      | 440/1000 [05:04<05:29,  1.70it/s][19:52:31] SMILES Parse Error: extra close parentheses while parsing: C1=O)CC1c1cccccc1\n",
      "CC1=C(C(=O)C1=NN(C(=O)C(C)(C)(C)SC(=O)C(=NC1C=C(c2ccc(Br)ccc1)N(Cc1ccscn2)nc1ccsccc\n",
      "[19:52:31] SMILES Parse Error: Failed parsing SMILES 'C1=O)CC1c1cccccc1\n",
      "CC1=C(C(=O)C1=NN(C(=O)C(C)(C)(C)SC(=O)C(=NC1C=C(c2ccc(Br)ccc1)N(Cc1ccscn2)nc1ccsccc' for input: 'C1=O)CC1c1cccccc1\n",
      "CC1=C(C(=O)C1=NN(C(=O)C(C)(C)(C)SC(=O)C(=NC1C=C(c2ccc(Br)ccc1)N(Cc1ccscn2)nc1ccsccc'\n",
      " 44%|█████████████████▋                      | 441/1000 [05:04<05:09,  1.80it/s][19:52:31] SMILES Parse Error: extra close parentheses while parsing: C)[C@H](O)C(=O)N1CC(c2cc(F)ccc(Br)[C@H](N)S(=O)(=O)C(=O)c1ccc(F)ccc1)n1cccnccc1)c1ccccccc2n1Cc1ccsccc\n",
      "[19:52:31] SMILES Parse Error: Failed parsing SMILES 'C)[C@H](O)C(=O)N1CC(c2cc(F)ccc(Br)[C@H](N)S(=O)(=O)C(=O)c1ccc(F)ccc1)n1cccnccc1)c1ccccccc2n1Cc1ccsccc' for input: 'C)[C@H](O)C(=O)N1CC(c2cc(F)ccc(Br)[C@H](N)S(=O)(=O)C(=O)c1ccc(F)ccc1)n1cccnccc1)c1ccccccc2n1Cc1ccsccc'\n",
      " 44%|█████████████████▋                      | 442/1000 [05:05<05:25,  1.71it/s][19:52:32] SMILES Parse Error: extra close parentheses while parsing: Cc34)[C@@H](c1ccccc(F)(F)F)c1)n1ccccccc2c(cccccc2c1CCCOC(=O)OCCO1)c1cccccncnc1)c1ccccccc((O)c1nccnccc\n",
      "[19:52:32] SMILES Parse Error: Failed parsing SMILES 'Cc34)[C@@H](c1ccccc(F)(F)F)c1)n1ccccccc2c(cccccc2c1CCCOC(=O)OCCO1)c1cccccncnc1)c1ccccccc((O)c1nccnccc' for input: 'Cc34)[C@@H](c1ccccc(F)(F)F)c1)n1ccccccc2c(cccccc2c1CCCOC(=O)OCCO1)c1cccccncnc1)c1ccccccc((O)c1nccnccc'\n",
      " 44%|█████████████████▋                      | 443/1000 [05:05<05:28,  1.70it/s][19:52:33] SMILES Parse Error: syntax error while parsing: C(=O)C(C1=C=C/C=NC(Oc1ccccc1)c1nccnc()c1)C(=O)COc1cccccc1)(nc1ccccccccc2)c(F)(F)N1C(C)(C)C\n",
      "CC(=O)C1=N\n",
      "[19:52:33] SMILES Parse Error: Failed parsing SMILES 'C(=O)C(C1=C=C/C=NC(Oc1ccccc1)c1nccnc()c1)C(=O)COc1cccccc1)(nc1ccccccccc2)c(F)(F)N1C(C)(C)C\n",
      "CC(=O)C1=N' for input: 'C(=O)C(C1=C=C/C=NC(Oc1ccccc1)c1nccnc()c1)C(=O)COc1cccccc1)(nc1ccccccccc2)c(F)(F)N1C(C)(C)C\n",
      "CC(=O)C1=N'\n",
      " 44%|█████████████████▊                      | 444/1000 [05:06<05:48,  1.60it/s][19:52:34] SMILES Parse Error: unclosed ring for input: 'C(C)cc1C\n",
      "CC1=C(CSC(c2ccc(onc()n2)c1cccc(C)(=O)nc1Cc1ccccccc1cccccc1c1cccccc1)c1cccsc1)S1(=O)(=O)[C@@H'\n",
      " 44%|█████████████████▊                      | 445/1000 [05:07<06:30,  1.42it/s][19:52:34] SMILES Parse Error: extra close parentheses while parsing: C1)[C@@H]1OCCC[C@H]1[C@H](c1cccccn1)c1ccccc)cc1)c1cccccc(F)c1)=CO[nH]1ccccco1)C(=O)C(=O)COc1ccccn1)c1\n",
      "[19:52:34] SMILES Parse Error: Failed parsing SMILES 'C1)[C@@H]1OCCC[C@H]1[C@H](c1cccccn1)c1ccccc)cc1)c1cccccc(F)c1)=CO[nH]1ccccco1)C(=O)C(=O)COc1ccccn1)c1' for input: 'C1)[C@@H]1OCCC[C@H]1[C@H](c1cccccn1)c1ccccc)cc1)c1cccccc(F)c1)=CO[nH]1ccccco1)C(=O)C(=O)COc1ccccn1)c1'\n",
      " 45%|█████████████████▊                      | 446/1000 [05:07<05:53,  1.57it/s][19:52:35] SMILES Parse Error: extra open parentheses for input: 'C(c1cccncn1)C(=O\n",
      "CC(=O)C1=NN(C(=O)C(C)(c3cccc([N+](=O)[O-])c3c1OC)C(=O)O\n",
      "CCC(c1cccnc(S(N)(=O)=O)(c1)O'\n",
      " 45%|█████████████████▉                      | 447/1000 [05:08<05:55,  1.56it/s][19:52:35] SMILES Parse Error: extra close parentheses while parsing: C)c3cccon2)S1\n",
      "CCC(c1cNcnccncc1)C(=O)n1cccccn1)c1nc(C)nc(C)n1Cc1ccccc(F)c1)(C)(c1cccccc1)n1cccncc1)CC(\n",
      "[19:52:35] SMILES Parse Error: Failed parsing SMILES 'C)c3cccon2)S1\n",
      "CCC(c1cNcnccncc1)C(=O)n1cccccn1)c1nc(C)nc(C)n1Cc1ccccc(F)c1)(C)(c1cccccc1)n1cccncc1)CC(' for input: 'C)c3cccon2)S1\n",
      "CCC(c1cNcnccncc1)C(=O)n1cccccn1)c1nc(C)nc(C)n1Cc1ccccc(F)c1)(C)(c1cccccc1)n1cccncc1)CC('\n",
      " 45%|█████████████████▉                      | 448/1000 [05:09<05:40,  1.62it/s][19:52:36] SMILES Parse Error: extra open parentheses for input: 'C1=NN(c(c2ccsc(F)(F)ccn2)S1(=O)=O\n",
      "CC(=O)[C@H]2Cc3c(cccO2)S1(=O)=O\n",
      "CCOC(=O)C1c(c2ccc(O)nc2)sc2cHc(ncnc'\n",
      " 45%|█████████████████▉                      | 449/1000 [05:09<05:37,  1.63it/s][19:52:37] SMILES Parse Error: extra close parentheses while parsing: C1C1Cc1ccccnc1)c1cccnc1C)n1cccc(S(C)(=O)=O)nc1c1ccccc(F)cc1)c1cccc(F)(cc1)n1ccccc(c(F)c1)nccc(NS(=O)=\n",
      "[19:52:37] SMILES Parse Error: Failed parsing SMILES 'C1C1Cc1ccccnc1)c1cccnc1C)n1cccc(S(C)(=O)=O)nc1c1ccccc(F)cc1)c1cccc(F)(cc1)n1ccccc(c(F)c1)nccc(NS(=O)=' for input: 'C1C1Cc1ccccnc1)c1cccnc1C)n1cccc(S(C)(=O)=O)nc1c1ccccc(F)cc1)c1cccc(F)(cc1)n1ccccc(c(F)c1)nccc(NS(=O)='\n",
      " 45%|██████████████████                      | 450/1000 [05:10<05:28,  1.67it/s][19:52:37] SMILES Parse Error: extra close parentheses while parsing: C(F)(F)F2Cc3cccc(O)c3c2c1nsc(C)no1)c1ncc(Cccccc2)nc1[nH]nc1c(=n)n1cccc(Br)(F)c1)c1cccc(Br)cc1)N2\n",
      "CC1=\n",
      "[19:52:37] SMILES Parse Error: Failed parsing SMILES 'C(F)(F)F2Cc3cccc(O)c3c2c1nsc(C)no1)c1ncc(Cccccc2)nc1[nH]nc1c(=n)n1cccc(Br)(F)c1)c1cccc(Br)cc1)N2\n",
      "CC1=' for input: 'C(F)(F)F2Cc3cccc(O)c3c2c1nsc(C)no1)c1ncc(Cccccc2)nc1[nH]nc1c(=n)n1cccc(Br)(F)c1)c1cccc(Br)cc1)N2\n",
      "CC1='\n",
      " 45%|██████████████████                      | 451/1000 [05:10<05:27,  1.68it/s][19:52:38] SMILES Parse Error: unclosed ring for input: 'C(c2cccncn2)S1\n",
      "CCC(c1ccccnc1)C(=O)c1ccc(Br)ccc1C(=O)OC(=O)CC(=O)C1=NN(C(=O)C(C)(=O)C(C)C\n",
      "CC(=O)OC1Cc3'\n",
      " 45%|██████████████████                      | 452/1000 [05:11<05:09,  1.77it/s][19:52:38] SMILES Parse Error: extra close parentheses while parsing: C)C2)c1ccccc(c1)c1nccncc2(S(C(=O)=O)=C(=O)OC1C)Cc1ccccc(O)c1)([C@H]1c1ccccc(O)n1cncc(cc(=O)n1)c1ccccc\n",
      "[19:52:38] SMILES Parse Error: Failed parsing SMILES 'C)C2)c1ccccc(c1)c1nccncc2(S(C(=O)=O)=C(=O)OC1C)Cc1ccccc(O)c1)([C@H]1c1ccccc(O)n1cncc(cc(=O)n1)c1ccccc' for input: 'C)C2)c1ccccc(c1)c1nccncc2(S(C(=O)=O)=C(=O)OC1C)Cc1ccccc(O)c1)([C@H]1c1ccccc(O)n1cncc(cc(=O)n1)c1ccccc'\n",
      " 45%|██████████████████                      | 453/1000 [05:11<04:55,  1.85it/s][19:52:39] SMILES Parse Error: extra close parentheses while parsing: C)c2c[nH]c2scc([N+](=O)c3ccoo3)n3)n1cccnc1)n2ccnc(-)c3ccc(F)ccc2O1\n",
      "CC1=C(C@]2[C@H](C1)CC(=O)[C@H]1c1c\n",
      "[19:52:39] SMILES Parse Error: Failed parsing SMILES 'C)c2c[nH]c2scc([N+](=O)c3ccoo3)n3)n1cccnc1)n2ccnc(-)c3ccc(F)ccc2O1\n",
      "CC1=C(C@]2[C@H](C1)CC(=O)[C@H]1c1c' for input: 'C)c2c[nH]c2scc([N+](=O)c3ccoo3)n3)n1cccnc1)n2ccnc(-)c3ccc(F)ccc2O1\n",
      "CC1=C(C@]2[C@H](C1)CC(=O)[C@H]1c1c'\n",
      " 45%|██████████████████▏                     | 454/1000 [05:12<05:15,  1.73it/s][19:52:39] SMILES Parse Error: extra close parentheses while parsing: C/c3cccs34)sc2n1ncnc(C)c2c(sN)n3ccc(Br)c(Br)c3ccc(NS(N)C)(=O)(=O)N=C(=O)/C(=O)CC)cc34)c1\n",
      "CCC(C)C(=O)N\n",
      "[19:52:39] SMILES Parse Error: Failed parsing SMILES 'C/c3cccs34)sc2n1ncnc(C)c2c(sN)n3ccc(Br)c(Br)c3ccc(NS(N)C)(=O)(=O)N=C(=O)/C(=O)CC)cc34)c1\n",
      "CCC(C)C(=O)N' for input: 'C/c3cccs34)sc2n1ncnc(C)c2c(sN)n3ccc(Br)c(Br)c3ccc(NS(N)C)(=O)(=O)N=C(=O)/C(=O)CC)cc34)c1\n",
      "CCC(C)C(=O)N'\n",
      " 46%|██████████████████▏                     | 455/1000 [05:13<05:14,  1.73it/s][19:52:40] SMILES Parse Error: extra close parentheses while parsing: C)C)cc1\n",
      "CCCC1Cc2c(Cl)ccc3c(F)ccccn1)n1Cc1cccc(S2nI(C)(F)ncnc1)c1cccncc2)nc1)c1ccccc(S(N)(=O)=c)nc1\n",
      "CC\n",
      "[19:52:40] SMILES Parse Error: Failed parsing SMILES 'C)C)cc1\n",
      "CCCC1Cc2c(Cl)ccc3c(F)ccccn1)n1Cc1cccc(S2nI(C)(F)ncnc1)c1cccncc2)nc1)c1ccccc(S(N)(=O)=c)nc1\n",
      "CC' for input: 'C)C)cc1\n",
      "CCCC1Cc2c(Cl)ccc3c(F)ccccn1)n1Cc1cccc(S2nI(C)(F)ncnc1)c1cccncc2)nc1)c1ccccc(S(N)(=O)=c)nc1\n",
      "CC'\n",
      " 46%|██████████████████▏                     | 456/1000 [05:13<05:17,  1.71it/s][19:52:40] SMILES Parse Error: extra close parentheses while parsing: C3Cc4cccs2)n1)NC(=O)C(=O)c1cccccc1)nc1c1ccccccc3c(n1)c1cccncc1)n(c1)c1cccccc((N)Cl)c1)n1ccccc(nc(O)c1\n",
      "[19:52:40] SMILES Parse Error: Failed parsing SMILES 'C3Cc4cccs2)n1)NC(=O)C(=O)c1cccccc1)nc1c1ccccccc3c(n1)c1cccncc1)n(c1)c1cccccc((N)Cl)c1)n1ccccc(nc(O)c1' for input: 'C3Cc4cccs2)n1)NC(=O)C(=O)c1cccccc1)nc1c1ccccccc3c(n1)c1cccncc1)n(c1)c1cccccc((N)Cl)c1)n1ccccc(nc(O)c1'\n",
      " 46%|██████████████████▎                     | 457/1000 [05:14<04:59,  1.81it/s][19:52:41] SMILES Parse Error: extra close parentheses while parsing: Cc3ccccc34)[C@c344)[C@H](c3cccc(O)c3)C2)cc1ccccccc1c1)nc2c1nccncc2c1Cc1ccccn1)C1(C)(C)C1\n",
      "CC(=O)/C(=S\n",
      "\n",
      "[19:52:41] SMILES Parse Error: Failed parsing SMILES 'Cc3ccccc34)[C@c344)[C@H](c3cccc(O)c3)C2)cc1ccccccc1c1)nc2c1nccncc2c1Cc1ccccn1)C1(C)(C)C1\n",
      "CC(=O)/C(=S\n",
      "' for input: 'Cc3ccccc34)[C@c344)[C@H](c3cccc(O)c3)C2)cc1ccccccc1c1)nc2c1nccncc2c1Cc1ccccn1)C1(C)(C)C1\n",
      "CC(=O)/C(=S\n",
      "'\n",
      " 46%|██████████████████▎                     | 458/1000 [05:14<04:47,  1.89it/s][19:52:41] SMILES Parse Error: extra close parentheses while parsing: C(=O)(-c2ccncc2)nc1)c1cccc(F)ccc1)[nH]n1)c1cc1cccccc1\n",
      "CC(=O)C1[C@@H](F)C(=O)C1C\n",
      "CCC(c1cccc(O)nc1)[nH]\n",
      "[19:52:41] SMILES Parse Error: Failed parsing SMILES 'C(=O)(-c2ccncc2)nc1)c1cccc(F)ccc1)[nH]n1)c1cc1cccccc1\n",
      "CC(=O)C1[C@@H](F)C(=O)C1C\n",
      "CCC(c1cccc(O)nc1)[nH]' for input: 'C(=O)(-c2ccncc2)nc1)c1cccc(F)ccc1)[nH]n1)c1cc1cccccc1\n",
      "CC(=O)C1[C@@H](F)C(=O)C1C\n",
      "CCC(c1cccc(O)nc1)[nH]'\n",
      " 46%|██████████████████▎                     | 459/1000 [05:15<04:50,  1.86it/s][19:52:42] SMILES Parse Error: extra close parentheses while parsing: C2=NC(=O)c3ccco2)n1c\n",
      "CC(C)(C)c1ccc2c(c1)NC(=OC)s1nccsc1)CC(C)OC)=n1ccc(Br)(c2cccccc1)[nH]nc1C1CC1OC)C\n",
      "[19:52:42] SMILES Parse Error: Failed parsing SMILES 'C2=NC(=O)c3ccco2)n1c\n",
      "CC(C)(C)c1ccc2c(c1)NC(=OC)s1nccsc1)CC(C)OC)=n1ccc(Br)(c2cccccc1)[nH]nc1C1CC1OC)C' for input: 'C2=NC(=O)c3ccco2)n1c\n",
      "CC(C)(C)c1ccc2c(c1)NC(=OC)s1nccsc1)CC(C)OC)=n1ccc(Br)(c2cccccc1)[nH]nc1C1CC1OC)C'\n",
      " 46%|██████████████████▍                     | 460/1000 [05:15<04:42,  1.91it/s][19:52:42] SMILES Parse Error: extra close parentheses while parsing: C[C@H]2OC(=O)C1c1nc2cc(C)nsc1)n1ccc(ncccc2c)n1)C(=O)\n",
      "CC1=C(C(=C/C(=O)C1)C(=O)c1ccccncc1)C1SCc1ccc(OC)\n",
      "[19:52:42] SMILES Parse Error: Failed parsing SMILES 'C[C@H]2OC(=O)C1c1nc2cc(C)nsc1)n1ccc(ncccc2c)n1)C(=O)\n",
      "CC1=C(C(=C/C(=O)C1)C(=O)c1ccccncc1)C1SCc1ccc(OC)' for input: 'C[C@H]2OC(=O)C1c1nc2cc(C)nsc1)n1ccc(ncccc2c)n1)C(=O)\n",
      "CC1=C(C(=C/C(=O)C1)C(=O)c1ccccncc1)C1SCc1ccc(OC)'\n",
      " 46%|██████████████████▍                     | 461/1000 [05:16<04:45,  1.89it/s][19:52:43] SMILES Parse Error: extra close parentheses while parsing: C4)cco2)n1ccncc1nc1cccccc2c1ccccc(O)nc1)n1ccc(nCc2cc(F)coc2N21C[C@@H](o2)c1ccccccc1)n1cccccc1)nc1cccc\n",
      "[19:52:43] SMILES Parse Error: Failed parsing SMILES 'C4)cco2)n1ccncc1nc1cccccc2c1ccccc(O)nc1)n1ccc(nCc2cc(F)coc2N21C[C@@H](o2)c1ccccccc1)n1cccccc1)nc1cccc' for input: 'C4)cco2)n1ccncc1nc1cccccc2c1ccccc(O)nc1)n1ccc(nCc2cc(F)coc2N21C[C@@H](o2)c1ccccccc1)n1cccccc1)nc1cccc'\n",
      " 46%|██████████████████▍                     | 462/1000 [05:16<04:40,  1.92it/s][19:52:44] SMILES Parse Error: extra close parentheses while parsing: CCl)c1)C(=O)n1cc[nH]1)c1ccccc()(F)(F)c1ccccc1)c1cccccnc1)n1cccccc(S(c)(c1)ccccc1(O)=c1nccc(O)C(=O)C(=\n",
      "[19:52:44] SMILES Parse Error: Failed parsing SMILES 'CCl)c1)C(=O)n1cc[nH]1)c1ccccc()(F)(F)c1ccccc1)c1cccccnc1)n1cccccc(S(c)(c1)ccccc1(O)=c1nccc(O)C(=O)C(=' for input: 'CCl)c1)C(=O)n1cc[nH]1)c1ccccc()(F)(F)c1ccccc1)c1cccccnc1)n1cccccc(S(c)(c1)ccccc1(O)=c1nccc(O)C(=O)C(='\n",
      " 46%|██████████████████▌                     | 463/1000 [05:17<04:42,  1.90it/s][19:52:44] SMILES Parse Error: extra close parentheses while parsing: Cl)c3cccs(S2)c(=O)nc2-c=nonc2)S1c1ncc[nH]1)c1cccc(F)(c)ccc1\n",
      "CC(C)(C)c1cccsc1-c1cccnc1)S(N)C(=O)(=O\n",
      "CC\n",
      "[19:52:44] SMILES Parse Error: Failed parsing SMILES 'Cl)c3cccs(S2)c(=O)nc2-c=nonc2)S1c1ncc[nH]1)c1cccc(F)(c)ccc1\n",
      "CC(C)(C)c1cccsc1-c1cccnc1)S(N)C(=O)(=O\n",
      "CC' for input: 'Cl)c3cccs(S2)c(=O)nc2-c=nonc2)S1c1ncc[nH]1)c1cccc(F)(c)ccc1\n",
      "CC(C)(C)c1cccsc1-c1cccnc1)S(N)C(=O)(=O\n",
      "CC'\n",
      " 46%|██████████████████▌                     | 464/1000 [05:17<04:33,  1.96it/s][19:52:45] SMILES Parse Error: extra close parentheses while parsing: C)(=O)=N1C(=O)C[CCN=C(F)C1c2cccsc2s1)CCo1cccc(O)n1cccc(F)cc1)NC(=O)c1cccccc1Cc1cccnc()c1)n1ccccccc2cc\n",
      "[19:52:45] SMILES Parse Error: Failed parsing SMILES 'C)(=O)=N1C(=O)C[CCN=C(F)C1c2cccsc2s1)CCo1cccc(O)n1cccc(F)cc1)NC(=O)c1cccccc1Cc1cccnc()c1)n1ccccccc2cc' for input: 'C)(=O)=N1C(=O)C[CCN=C(F)C1c2cccsc2s1)CCo1cccc(O)n1cccc(F)cc1)NC(=O)c1cccccc1Cc1cccnc()c1)n1ccccccc2cc'\n",
      " 46%|██████████████████▌                     | 465/1000 [05:18<04:39,  1.91it/s][19:52:45] SMILES Parse Error: extra close parentheses while parsing: C(N)=O)C1c1c[n-ccncc1)n1ccc(Br)ccc1ncncc(=O)c1)c1cccccc1)c1ncc(C)(C)O)nc1)c1cccc4cc[nH]nc2)c1ccccc(F)\n",
      "[19:52:45] SMILES Parse Error: Failed parsing SMILES 'C(N)=O)C1c1c[n-ccncc1)n1ccc(Br)ccc1ncncc(=O)c1)c1cccccc1)c1ncc(C)(C)O)nc1)c1cccc4cc[nH]nc2)c1ccccc(F)' for input: 'C(N)=O)C1c1c[n-ccncc1)n1ccc(Br)ccc1ncncc(=O)c1)c1cccccc1)c1ncc(C)(C)O)nc1)c1cccc4cc[nH]nc2)c1ccccc(F)'\n",
      " 47%|██████████████████▋                     | 466/1000 [05:18<04:30,  1.97it/s][19:52:45] SMILES Parse Error: extra close parentheses while parsing: C1)c1cccccc(Br)cc(O)c1cncc(NC(S)(=O)=O)cc1nccc(C)nc1C1(C)CC(=O)NC/c+](=O)[nH]c1)C(=O)C1CC1(F)c1cccccc\n",
      "[19:52:45] SMILES Parse Error: Failed parsing SMILES 'C1)c1cccccc(Br)cc(O)c1cncc(NC(S)(=O)=O)cc1nccc(C)nc1C1(C)CC(=O)NC/c+](=O)[nH]c1)C(=O)C1CC1(F)c1cccccc' for input: 'C1)c1cccccc(Br)cc(O)c1cncc(NC(S)(=O)=O)cc1nccc(C)nc1C1(C)CC(=O)NC/c+](=O)[nH]c1)C(=O)C1CC1(F)c1cccccc'\n",
      " 47%|██████████████████▋                     | 467/1000 [05:19<04:24,  2.02it/s][19:52:46] SMILES Parse Error: extra close parentheses while parsing: CCCF)C1\n",
      "CCCC1CCNC(=O)C1)C(c1cccc(O)cc1)C1(C)c1ccccc1)C\n",
      "CC1=C(C(=O)C2=C(C(=O)C2=O\n",
      "CC(=O)C1Cc2ccc(C(F)(\n",
      "[19:52:46] SMILES Parse Error: Failed parsing SMILES 'CCCF)C1\n",
      "CCCC1CCNC(=O)C1)C(c1cccc(O)cc1)C1(C)c1ccccc1)C\n",
      "CC1=C(C(=O)C2=C(C(=O)C2=O\n",
      "CC(=O)C1Cc2ccc(C(F)(' for input: 'CCCF)C1\n",
      "CCCC1CCNC(=O)C1)C(c1cccc(O)cc1)C1(C)c1ccccc1)C\n",
      "CC1=C(C(=O)C2=C(C(=O)C2=O\n",
      "CC(=O)C1Cc2ccc(C(F)('\n",
      " 47%|██████████████████▋                     | 468/1000 [05:19<04:32,  1.95it/s][19:52:47] SMILES Parse Error: extra close parentheses while parsing: CCN)C(=O)C(=O)Cc1cccc(C)cn1)c1ncnccnc1)c1cccc(F)(c1)cncc1)n1cccncnc2)Cc1ccccc(F)cc1)(n1ccsccc((O)c1)N\n",
      "[19:52:47] SMILES Parse Error: Failed parsing SMILES 'CCN)C(=O)C(=O)Cc1cccc(C)cn1)c1ncnccnc1)c1cccc(F)(c1)cncc1)n1cccncnc2)Cc1ccccc(F)cc1)(n1ccsccc((O)c1)N' for input: 'CCN)C(=O)C(=O)Cc1cccc(C)cn1)c1ncnccnc1)c1cccc(F)(c1)cncc1)n1cccncnc2)Cc1ccccc(F)cc1)(n1ccsccc((O)c1)N'\n",
      " 47%|██████████████████▊                     | 469/1000 [05:20<04:25,  2.00it/s][19:52:47] SMILES Parse Error: syntax error while parsing: C@H]1OcCc2ccccc2O1)c1ccccc(F)c(Br)cc1ic[nH]n1)c1cccccc1C(F)(F)F)cc1)C(=O)O\n",
      "CC1=CCC(cc3c/ccnon1)n1cccc\n",
      "[19:52:47] SMILES Parse Error: Failed parsing SMILES 'C@H]1OcCc2ccccc2O1)c1ccccc(F)c(Br)cc1ic[nH]n1)c1cccccc1C(F)(F)F)cc1)C(=O)O\n",
      "CC1=CCC(cc3c/ccnon1)n1cccc' for input: 'C@H]1OcCc2ccccc2O1)c1ccccc(F)c(Br)cc1ic[nH]n1)c1cccccc1C(F)(F)F)cc1)C(=O)O\n",
      "CC1=CCC(cc3c/ccnon1)n1cccc'\n",
      " 47%|██████████████████▊                     | 471/1000 [05:21<04:27,  1.98it/s][19:52:48] SMILES Parse Error: extra close parentheses while parsing: CC[C@@H]1c1cccccn1)CC(F)(F)F\n",
      "CCC(c1ccc(S)nn1Cc1ccc(N(C)C(=O)O)ncc1c1)(CO(C)=c1ccccccO)c1\n",
      "CC1=C(C(=O)C\n",
      "[19:52:48] SMILES Parse Error: Failed parsing SMILES 'CC[C@@H]1c1cccccn1)CC(F)(F)F\n",
      "CCC(c1ccc(S)nn1Cc1ccc(N(C)C(=O)O)ncc1c1)(CO(C)=c1ccccccO)c1\n",
      "CC1=C(C(=O)C' for input: 'CC[C@@H]1c1cccccn1)CC(F)(F)F\n",
      "CCC(c1ccc(S)nn1Cc1ccc(N(C)C(=O)O)ncc1c1)(CO(C)=c1ccccccO)c1\n",
      "CC1=C(C(=O)C'\n",
      " 47%|██████████████████▉                     | 472/1000 [05:21<04:30,  1.95it/s][19:52:49] SMILES Parse Error: extra open parentheses for input: 'C1=C(C)(SCN(CCCO)C[C@@H]12\n",
      "CCC(c3ccc(F)ccc3F)C2(SCC)C=C(O)/c3cccc(O)(C)=O)C3c1cccc(n3c(nccccc2cncccc2'\n",
      " 47%|██████████████████▉                     | 473/1000 [05:22<04:45,  1.84it/s][19:52:49] SMILES Parse Error: extra close parentheses while parsing: C3=O)C1c1cccsc1)nc1ccscccncc2scscc2c1ncc(NSc(c(B=O)O)ccs2)o1)c1F\n",
      "CCOC(=O)C1COC(=C)/C(=c\\c[nH]nc3cccs2\n",
      "[19:52:49] SMILES Parse Error: Failed parsing SMILES 'C3=O)C1c1cccsc1)nc1ccscccncc2scscc2c1ncc(NSc(c(B=O)O)ccs2)o1)c1F\n",
      "CCOC(=O)C1COC(=C)/C(=c\\c[nH]nc3cccs2' for input: 'C3=O)C1c1cccsc1)nc1ccscccncc2scscc2c1ncc(NSc(c(B=O)O)ccs2)o1)c1F\n",
      "CCOC(=O)C1COC(=C)/C(=c\\c[nH]nc3cccs2'\n",
      " 47%|██████████████████▉                     | 474/1000 [05:22<04:45,  1.85it/s][19:52:50] SMILES Parse Error: extra close parentheses while parsing: C(=O)CCC)C1)c1cccccc1(C)(=O)C(c1cccccncc1)cc1c1)C(=O)C\n",
      "CC1=C(C(=O)OCCCOc1ccc(O)ccc2)n1ccnc([nH]c3ccc(\n",
      "[19:52:50] SMILES Parse Error: Failed parsing SMILES 'C(=O)CCC)C1)c1cccccc1(C)(=O)C(c1cccccncc1)cc1c1)C(=O)C\n",
      "CC1=C(C(=O)OCCCOc1ccc(O)ccc2)n1ccnc([nH]c3ccc(' for input: 'C(=O)CCC)C1)c1cccccc1(C)(=O)C(c1cccccncc1)cc1c1)C(=O)C\n",
      "CC1=C(C(=O)OCCCOc1ccc(O)ccc2)n1ccnc([nH]c3ccc('\n",
      " 48%|███████████████████                     | 475/1000 [05:23<04:51,  1.80it/s][19:52:50] SMILES Parse Error: unclosed ring for input: 'C2\n",
      "CC(C)c1cccc(C2=N+(=O)C(=O)nH[nH]c2)c1ccccccc1)(nccccccc2cccccc)cc1)(c1cccccn1)c1cccccc2c1(S(N)(C)('\n",
      " 48%|███████████████████                     | 476/1000 [05:24<05:07,  1.70it/s][19:52:51] SMILES Parse Error: syntax error while parsing: C/C=C#\\CN)C(=O)CCN(C)C\n",
      "CC(=O)/C(=O)C1=C(C)C(=O)C1=O)C2=C(C)NC(=C(=O)COc1ccc(C)no1)c1cccccc1)(n1ccncc(\n",
      "[19:52:51] SMILES Parse Error: Failed parsing SMILES 'C/C=C#\\CN)C(=O)CCN(C)C\n",
      "CC(=O)/C(=O)C1=C(C)C(=O)C1=O)C2=C(C)NC(=C(=O)COc1ccc(C)no1)c1cccccc1)(n1ccncc(' for input: 'C/C=C#\\CN)C(=O)CCN(C)C\n",
      "CC(=O)/C(=O)C1=C(C)C(=O)C1=O)C2=C(C)NC(=C(=O)COc1ccc(C)no1)c1cccccc1)(n1ccncc('\n",
      " 48%|███████████████████                     | 477/1000 [05:24<05:01,  1.73it/s][19:52:52] SMILES Parse Error: syntax error while parsing: C@@]1(CO)CCCO1nnHc(c2ccc(Br)ccc2F)=C/[C@H]1c1cccccn1)n1ccccc(=O)n1Cc1ccc(O)nc(\\)c1)C(=O)O\n",
      "CCOCCN1CC(=\n",
      "[19:52:52] SMILES Parse Error: Failed parsing SMILES 'C@@]1(CO)CCCO1nnHc(c2ccc(Br)ccc2F)=C/[C@H]1c1cccccn1)n1ccccc(=O)n1Cc1ccc(O)nc(\\)c1)C(=O)O\n",
      "CCOCCN1CC(=' for input: 'C@@]1(CO)CCCO1nnHc(c2ccc(Br)ccc2F)=C/[C@H]1c1cccccn1)n1ccccc(=O)n1Cc1ccc(O)nc(\\)c1)C(=O)O\n",
      "CCOCCN1CC(='\n",
      " 48%|███████████████████                     | 478/1000 [05:25<05:09,  1.69it/s][19:52:52] SMILES Parse Error: extra close parentheses while parsing: C(C)=O)NC1c1ccccc(O)n1)c1ccccc(O)(F)c1)c1ncccc(O)(c)cc1cccccc1ccccc1ccc(s1)c1ccccc(F)c1)nnc1cccccc(c1\n",
      "[19:52:52] SMILES Parse Error: Failed parsing SMILES 'C(C)=O)NC1c1ccccc(O)n1)c1ccccc(O)(F)c1)c1ncccc(O)(c)cc1cccccc1ccccc1ccc(s1)c1ccccc(F)c1)nnc1cccccc(c1' for input: 'C(C)=O)NC1c1ccccc(O)n1)c1ccccc(O)(F)c1)c1ncccc(O)(c)cc1cccccc1ccccc1ccc(s1)c1ccccc(F)c1)nnc1cccccc(c1'\n",
      " 48%|███████████████████▏                    | 479/1000 [05:25<05:04,  1.71it/s][19:52:53] SMILES Parse Error: extra close parentheses while parsing: C)c1ccc2nnc(c(-c)ccc(O)nc1)N2\n",
      "CC(=O)N1Cc2c(ncnc(C)c(C)c2ncc(F)no2)C(=O)[C@H]2Cc3c([nH]cc3cccc(O)ncn2)\n",
      "[19:52:53] SMILES Parse Error: Failed parsing SMILES 'C)c1ccc2nnc(c(-c)ccc(O)nc1)N2\n",
      "CC(=O)N1Cc2c(ncnc(C)c(C)c2ncc(F)no2)C(=O)[C@H]2Cc3c([nH]cc3cccc(O)ncn2)' for input: 'C)c1ccc2nnc(c(-c)ccc(O)nc1)N2\n",
      "CC(=O)N1Cc2c(ncnc(C)c(C)c2ncc(F)no2)C(=O)[C@H]2Cc3c([nH]cc3cccc(O)ncn2)'\n",
      " 48%|███████████████████▏                    | 480/1000 [05:26<05:08,  1.69it/s][19:52:53] SMILES Parse Error: extra close parentheses while parsing: C1c1ccccc(F)c1)C1c1cccccc1)c1ccccc(F)(F)cc1N)n1cccc(Br)ccc(F)c1)n1cccc(F)cc1nc1ccccc(F)(c1)n1cccc()c1\n",
      "[19:52:53] SMILES Parse Error: Failed parsing SMILES 'C1c1ccccc(F)c1)C1c1cccccc1)c1ccccc(F)(F)cc1N)n1cccc(Br)ccc(F)c1)n1cccc(F)cc1nc1ccccc(F)(c1)n1cccc()c1' for input: 'C1c1ccccc(F)c1)C1c1cccccc1)c1ccccc(F)(F)cc1N)n1cccc(Br)ccc(F)c1)n1cccc(F)cc1nc1ccccc(F)(c1)n1cccc()c1'\n",
      " 48%|███████████████████▏                    | 481/1000 [05:27<04:55,  1.76it/s][19:52:54] SMILES Parse Error: extra close parentheses while parsing: C2=NC(=O)C3)c1\n",
      "CCS(=O)C1=NN(C(=O)c2ccccc1CCC(=O)C1)c1cccccn1)Cc1ccccc(O)cc1On1cccccc(F)c(F)c1)S(=O)(=\n",
      "[19:52:54] SMILES Parse Error: Failed parsing SMILES 'C2=NC(=O)C3)c1\n",
      "CCS(=O)C1=NN(C(=O)c2ccccc1CCC(=O)C1)c1cccccn1)Cc1ccccc(O)cc1On1cccccc(F)c(F)c1)S(=O)(=' for input: 'C2=NC(=O)C3)c1\n",
      "CCS(=O)C1=NN(C(=O)c2ccccc1CCC(=O)C1)c1cccccn1)Cc1ccccc(O)cc1On1cccccc(F)c(F)c1)S(=O)(='\n",
      " 48%|███████████████████▎                    | 482/1000 [05:27<04:53,  1.77it/s][19:52:54] SMILES Parse Error: extra close parentheses while parsing: CO)C(=O)C1Cc1cccc(O)nc1)C(=O)c1ccccc(Br)cc1O[\n",
      "CCCC(c1nc[nH]n2)NC(=S)=N(CC)CC1)c1cccccncc1)c1cccccc2C1\n",
      "[19:52:54] SMILES Parse Error: Failed parsing SMILES 'CO)C(=O)C1Cc1cccc(O)nc1)C(=O)c1ccccc(Br)cc1O[\n",
      "CCCC(c1nc[nH]n2)NC(=S)=N(CC)CC1)c1cccccncc1)c1cccccc2C1' for input: 'CO)C(=O)C1Cc1cccc(O)nc1)C(=O)c1ccccc(Br)cc1O[\n",
      "CCCC(c1nc[nH]n2)NC(=S)=N(CC)CC1)c1cccccncc1)c1cccccc2C1'\n",
      " 48%|███████████████████▎                    | 483/1000 [05:28<04:45,  1.81it/s][19:52:55] SMILES Parse Error: extra close parentheses while parsing: COC1=C(C1)c1cncscc1)n(c2cccccc2c1c(F)(c]ccccc1C)n1ccccn2)ncccc(c)ncc1)c1cccccc4ccnccc1n1)c1Cc1ccc(Br)\n",
      "[19:52:55] SMILES Parse Error: Failed parsing SMILES 'COC1=C(C1)c1cncscc1)n(c2cccccc2c1c(F)(c]ccccc1C)n1ccccn2)ncccc(c)ncc1)c1cccccc4ccnccc1n1)c1Cc1ccc(Br)' for input: 'COC1=C(C1)c1cncscc1)n(c2cccccc2c1c(F)(c]ccccc1C)n1ccccn2)ncccc(c)ncc1)c1cccccc4ccnccc1n1)c1Cc1ccc(Br)'\n",
      " 48%|███████████████████▎                    | 484/1000 [05:28<05:22,  1.60it/s][19:52:56] SMILES Parse Error: syntax error while parsing: C2=C(C1)NC(=S)N[C@C(=O)/C(=C/c3ccsc(C)(C)c3cnoc(C)c3cccc(Brr)C3)cc3c2ccncn()n1)c1ccccc(F)(=O)c1cccccc\n",
      "[19:52:56] SMILES Parse Error: Failed parsing SMILES 'C2=C(C1)NC(=S)N[C@C(=O)/C(=C/c3ccsc(C)(C)c3cnoc(C)c3cccc(Brr)C3)cc3c2ccncn()n1)c1ccccc(F)(=O)c1cccccc' for input: 'C2=C(C1)NC(=S)N[C@C(=O)/C(=C/c3ccsc(C)(C)c3cnoc(C)c3cccc(Brr)C3)cc3c2ccncn()n1)c1ccccc(F)(=O)c1cccccc'\n",
      " 48%|███████████████████▍                    | 485/1000 [05:29<05:28,  1.57it/s][19:52:57] SMILES Parse Error: unclosed ring for input: 'C(=S)N12\n",
      "CC1=C(C(=O)C2=C(C1)=C=C(C1)=N1C(=O)C(=O)C(=1CC(C1(C)=O)C1c1cccc(O)nc1)n1ncc(C)cnc(C)c2ccsc(='\n",
      " 49%|███████████████████▍                    | 486/1000 [05:30<05:31,  1.55it/s][19:52:57] SMILES Parse Error: extra close parentheses while parsing: C2ncsc2c1C)C1Cc1ccccnO)c1ccccc(O)(c1)[nH]c1nccc(N(C)(C)C)=O)nc1ccccc(B()c1N(C)CC(=O\n",
      "CC(=O)c1ccc(-c2cc\n",
      "[19:52:57] SMILES Parse Error: Failed parsing SMILES 'C2ncsc2c1C)C1Cc1ccccnO)c1ccccc(O)(c1)[nH]c1nccc(N(C)(C)C)=O)nc1ccccc(B()c1N(C)CC(=O\n",
      "CC(=O)c1ccc(-c2cc' for input: 'C2ncsc2c1C)C1Cc1ccccnO)c1ccccc(O)(c1)[nH]c1nccc(N(C)(C)C)=O)nc1ccccc(B()c1N(C)CC(=O\n",
      "CC(=O)c1ccc(-c2cc'\n",
      " 49%|███████████████████▍                    | 487/1000 [05:30<05:07,  1.67it/s][19:52:58] SMILES Parse Error: syntax error while parsing: C(=O)N2CC(c3ccc4)S[C@@H]3OC[C@@H](F)C1(O)CCN1C(=O)CCc1c[nHcccn1)c1ccc(O)cccc1)c2ccscnc2c1Cc\n",
      "n1Cc1cccc\n",
      "[19:52:58] SMILES Parse Error: Failed parsing SMILES 'C(=O)N2CC(c3ccc4)S[C@@H]3OC[C@@H](F)C1(O)CCN1C(=O)CCc1c[nHcccn1)c1ccc(O)cccc1)c2ccscnc2c1Cc\n",
      "n1Cc1cccc' for input: 'C(=O)N2CC(c3ccc4)S[C@@H]3OC[C@@H](F)C1(O)CCN1C(=O)CCc1c[nHcccn1)c1ccc(O)cccc1)c2ccscnc2c1Cc\n",
      "n1Cc1cccc'\n",
      " 49%|███████████████████▌                    | 488/1000 [05:31<05:44,  1.49it/s][19:52:59] SMILES Parse Error: extra close parentheses while parsing: CCC3)c2)OCC\n",
      "CCC(c1nc2ccncnc2)C(=O)C1c1ccccc()nc1)SC(=O)\n",
      "CC(=C(c1cccncS(N)(=O)nc2c(nccccc2cccc(=O)n1)c\n",
      "[19:52:59] SMILES Parse Error: Failed parsing SMILES 'CCC3)c2)OCC\n",
      "CCC(c1nc2ccncnc2)C(=O)C1c1ccccc()nc1)SC(=O)\n",
      "CC(=C(c1cccncS(N)(=O)nc2c(nccccc2cccc(=O)n1)c' for input: 'CCC3)c2)OCC\n",
      "CCC(c1nc2ccncnc2)C(=O)C1c1ccccc()nc1)SC(=O)\n",
      "CC(=C(c1cccncS(N)(=O)nc2c(nccccc2cccc(=O)n1)c'\n",
      " 49%|███████████████████▌                    | 489/1000 [05:32<05:41,  1.49it/s][19:52:59] SMILES Parse Error: extra close parentheses while parsing: Cc3c(F)ccc(O)c34)n1)C1c1ccc(F))cn1)c1cccscnc1)n1cccccnc1)c1cccccccc1)n1ccccc(@)c1nccccc2c1CCN(CCCCOC)\n",
      "[19:52:59] SMILES Parse Error: Failed parsing SMILES 'Cc3c(F)ccc(O)c34)n1)C1c1ccc(F))cn1)c1cccscnc1)n1cccccnc1)c1cccccccc1)n1ccccc(@)c1nccccc2c1CCN(CCCCOC)' for input: 'Cc3c(F)ccc(O)c34)n1)C1c1ccc(F))cn1)c1cccscnc1)n1cccccnc1)c1cccccccc1)n1ccccc(@)c1nccccc2c1CCN(CCCCOC)'\n",
      " 49%|███████████████████▌                    | 490/1000 [05:32<05:42,  1.49it/s][19:53:00] SMILES Parse Error: extra close parentheses while parsing: C1Cc2c(sccncc4c1Cc3OC(N)=O)n[nH]c1)OC(=O)c1ccccc(O)c1)On1cc(ncccc(c(c)c(c2)OCOC3)c1cccccn1Cc1ccccc(O)\n",
      "[19:53:00] SMILES Parse Error: Failed parsing SMILES 'C1Cc2c(sccncc4c1Cc3OC(N)=O)n[nH]c1)OC(=O)c1ccccc(O)c1)On1cc(ncccc(c(c)c(c2)OCOC3)c1cccccn1Cc1ccccc(O)' for input: 'C1Cc2c(sccncc4c1Cc3OC(N)=O)n[nH]c1)OC(=O)c1ccccc(O)c1)On1cc(ncccc(c(c)c(c2)OCOC3)c1cccccn1Cc1ccccc(O)'\n",
      " 49%|███████████████████▋                    | 491/1000 [05:33<05:14,  1.62it/s][19:53:00] SMILES Parse Error: extra close parentheses while parsing: C1c1cc-ccc(NC(=O)c2ncnco1)n1ccccc2c1CCS(=O)(=O)C(=O)C1CC1)NC\n",
      "CCC(=O)C1=C(C)NC(=S)NC1c1ccccc(O)c1c1ccc\n",
      "[19:53:00] SMILES Parse Error: Failed parsing SMILES 'C1c1cc-ccc(NC(=O)c2ncnco1)n1ccccc2c1CCS(=O)(=O)C(=O)C1CC1)NC\n",
      "CCC(=O)C1=C(C)NC(=S)NC1c1ccccc(O)c1c1ccc' for input: 'C1c1cc-ccc(NC(=O)c2ncnco1)n1ccccc2c1CCS(=O)(=O)C(=O)C1CC1)NC\n",
      "CCC(=O)C1=C(C)NC(=S)NC1c1ccccc(O)c1c1ccc'\n",
      " 49%|███████████████████▋                    | 492/1000 [05:33<05:02,  1.68it/s][19:53:01] SMILES Parse Error: extra close parentheses while parsing: CO1)Cc1cccc(O)c1cccccc1O\n",
      "CC1=C(C(=O)C[C@H]2O)cc1Cc1ccccc(S(N)(=O)=O)nc1)N[C@@H]1c1ccc(O)nc(F)c11)c1Cc\n",
      "[19:53:01] SMILES Parse Error: Failed parsing SMILES 'CO1)Cc1cccc(O)c1cccccc1O\n",
      "CC1=C(C(=O)C[C@H]2O)cc1Cc1ccccc(S(N)(=O)=O)nc1)N[C@@H]1c1ccc(O)nc(F)c11)c1Cc' for input: 'CO1)Cc1cccc(O)c1cccccc1O\n",
      "CC1=C(C(=O)C[C@H]2O)cc1Cc1ccccc(S(N)(=O)=O)nc1)N[C@@H]1c1ccc(O)nc(F)c11)c1Cc'\n",
      " 49%|███████████████████▋                    | 493/1000 [05:34<04:49,  1.75it/s][19:53:01] SMILES Parse Error: extra close parentheses while parsing: CO1(c2ccccn2)CC(=O)NC1c1cccccc1)n1ccc(Br)ccc1ncccn1)ccccc1ccc[cn1)n1cccc(Br)ccc1O)n1ccc(c2cccc(O)nc2)\n",
      "[19:53:01] SMILES Parse Error: Failed parsing SMILES 'CO1(c2ccccn2)CC(=O)NC1c1cccccc1)n1ccc(Br)ccc1ncccn1)ccccc1ccc[cn1)n1cccc(Br)ccc1O)n1ccc(c2cccc(O)nc2)' for input: 'CO1(c2ccccn2)CC(=O)NC1c1cccccc1)n1ccc(Br)ccc1ncccn1)ccccc1ccc[cn1)n1cccc(Br)ccc1O)n1ccc(c2cccc(O)nc2)'\n",
      " 49%|███████████████████▊                    | 494/1000 [05:35<04:49,  1.75it/s][19:53:02] SMILES Parse Error: extra close parentheses while parsing: CN)=csc(N(H(=O)=o)nCC(=O)O)(2)C1)c1cccncc1C\n",
      "NCC(=O)C(C)C\n",
      "CC(=O)C1(c2ccc(F)ccc2F(F)(o1)c1cccccnc2O1)C(\n",
      "[19:53:02] SMILES Parse Error: Failed parsing SMILES 'CN)=csc(N(H(=O)=o)nCC(=O)O)(2)C1)c1cccncc1C\n",
      "NCC(=O)C(C)C\n",
      "CC(=O)C1(c2ccc(F)ccc2F(F)(o1)c1cccccnc2O1)C(' for input: 'CN)=csc(N(H(=O)=o)nCC(=O)O)(2)C1)c1cccncc1C\n",
      "NCC(=O)C(C)C\n",
      "CC(=O)C1(c2ccc(F)ccc2F(F)(o1)c1cccccnc2O1)C('\n",
      " 50%|███████████████████▊                    | 495/1000 [05:35<04:35,  1.83it/s][19:53:02] SMILES Parse Error: syntax error while parsing: CN+]=[N-[]+]=[[C@)CCO2c1ccccc(O)nc1)c1ccccc(O)(c1)c1cccc(O)ncc1nccccc(c1)N2\n",
      "CC(=O)C1CNC(=O)C(c2cccccc\n",
      "[19:53:02] SMILES Parse Error: Failed parsing SMILES 'CN+]=[N-[]+]=[[C@)CCO2c1ccccc(O)nc1)c1ccccc(O)(c1)c1cccc(O)ncc1nccccc(c1)N2\n",
      "CC(=O)C1CNC(=O)C(c2cccccc' for input: 'CN+]=[N-[]+]=[[C@)CCO2c1ccccc(O)nc1)c1ccccc(O)(c1)c1cccc(O)ncc1nccccc(c1)N2\n",
      "CC(=O)C1CNC(=O)C(c2cccccc'\n",
      " 50%|███████████████████▊                    | 496/1000 [05:36<04:49,  1.74it/s][19:53:03] SMILES Parse Error: extra close parentheses while parsing: C2=O)cc1C\n",
      "CCC(c1ccccc1CNC[C@@H]1c1cccnc(F)F)cc1)C(=O)=NN(C)C(=O)c\n",
      "CC(=O)C1)c1ccccnc(F)n1Cc1cccccc1)cc\n",
      "[19:53:03] SMILES Parse Error: Failed parsing SMILES 'C2=O)cc1C\n",
      "CCC(c1ccccc1CNC[C@@H]1c1cccnc(F)F)cc1)C(=O)=NN(C)C(=O)c\n",
      "CC(=O)C1)c1ccccnc(F)n1Cc1cccccc1)cc' for input: 'C2=O)cc1C\n",
      "CCC(c1ccccc1CNC[C@@H]1c1cccnc(F)F)cc1)C(=O)=NN(C)C(=O)c\n",
      "CC(=O)C1)c1ccccnc(F)n1Cc1cccccc1)cc'\n",
      " 50%|███████████████████▉                    | 497/1000 [05:36<04:43,  1.78it/s][19:53:04] SMILES Parse Error: syntax error while parsing: C(=O)C1=NN(C(=O)C(=O)=N1C=C(C[C@@]1(c1ccccc)n1)nc1nccccc2c(C)c(n(cc)cc1ncccc2cccccc2cF@@]1)N1C(=O)C1=\n",
      "[19:53:04] SMILES Parse Error: Failed parsing SMILES 'C(=O)C1=NN(C(=O)C(=O)=N1C=C(C[C@@]1(c1ccccc)n1)nc1nccccc2c(C)c(n(cc)cc1ncccc2cccccc2cF@@]1)N1C(=O)C1=' for input: 'C(=O)C1=NN(C(=O)C(=O)=N1C=C(C[C@@]1(c1ccccc)n1)nc1nccccc2c(C)c(n(cc)cc1ncccc2cccccc2cF@@]1)N1C(=O)C1='\n",
      " 50%|███████████████████▉                    | 498/1000 [05:37<04:52,  1.71it/s][19:53:04] SMILES Parse Error: extra close parentheses while parsing: CF)c1cccc(Br)ccc1)[nH]c1ccscF(1)(F)=O\n",
      "CCC(c1cccc(F)cc1)C(=O)O)(=O)CC(C)C\n",
      "CC(=O)C1=NN(C(=O)C(C)(C)C)c1\n",
      "[19:53:04] SMILES Parse Error: Failed parsing SMILES 'CF)c1cccc(Br)ccc1)[nH]c1ccscF(1)(F)=O\n",
      "CCC(c1cccc(F)cc1)C(=O)O)(=O)CC(C)C\n",
      "CC(=O)C1=NN(C(=O)C(C)(C)C)c1' for input: 'CF)c1cccc(Br)ccc1)[nH]c1ccscF(1)(F)=O\n",
      "CCC(c1cccc(F)cc1)C(=O)O)(=O)CC(C)C\n",
      "CC(=O)C1=NN(C(=O)C(C)(C)C)c1'\n",
      " 50%|███████████████████▉                    | 499/1000 [05:37<04:40,  1.79it/s][19:53:05] SMILES Parse Error: syntax error while parsing: C2Cc3c(=O)noc3cc(C)ccc3c(=O)/=C(=C/c3c3cnoc4cccscc3)N2)[C@@H](c2ccccCn3)S1)c1scccc2c(n1)(CC1N=O)C1c1c\n",
      "[19:53:05] SMILES Parse Error: Failed parsing SMILES 'C2Cc3c(=O)noc3cc(C)ccc3c(=O)/=C(=C/c3c3cnoc4cccscc3)N2)[C@@H](c2ccccCn3)S1)c1scccc2c(n1)(CC1N=O)C1c1c' for input: 'C2Cc3c(=O)noc3cc(C)ccc3c(=O)/=C(=C/c3c3cnoc4cccscc3)N2)[C@@H](c2ccccCn3)S1)c1scccc2c(n1)(CC1N=O)C1c1c'\n",
      " 50%|████████████████████                    | 500/1000 [05:38<04:29,  1.86it/s][19:53:05] SMILES Parse Error: extra close parentheses while parsing: Cc2sc(NC(=O)c3cccs2)S1(C)(=O)c1cccccc2c1ncc(c)c(F)cc1)n1\n",
      "Cc1cccc2nccccn1)c3ccccc3Oc1ccsc(O)n1cccc(F)c\n",
      "[19:53:05] SMILES Parse Error: Failed parsing SMILES 'Cc2sc(NC(=O)c3cccs2)S1(C)(=O)c1cccccc2c1ncc(c)c(F)cc1)n1\n",
      "Cc1cccc2nccccn1)c3ccccc3Oc1ccsc(O)n1cccc(F)c' for input: 'Cc2sc(NC(=O)c3cccs2)S1(C)(=O)c1cccccc2c1ncc(c)c(F)cc1)n1\n",
      "Cc1cccc2nccccn1)c3ccccc3Oc1ccsc(O)n1cccc(F)c'\n",
      " 50%|████████████████████                    | 501/1000 [05:38<04:36,  1.80it/s][19:53:06] SMILES Parse Error: extra close parentheses while parsing: C)(c1ncc[ncH]1)c1ccccc(O)cc1)c1cccncc1)C(=O)O\n",
      "CCC(c1cccco[nn1)c1nccc(Nc2ccccc()(C)c3cc(C)non3)c1\n",
      "CC(=\n",
      "[19:53:06] SMILES Parse Error: Failed parsing SMILES 'C)(c1ncc[ncH]1)c1ccccc(O)cc1)c1cccncc1)C(=O)O\n",
      "CCC(c1cccco[nn1)c1nccc(Nc2ccccc()(C)c3cc(C)non3)c1\n",
      "CC(=' for input: 'C)(c1ncc[ncH]1)c1ccccc(O)cc1)c1cccncc1)C(=O)O\n",
      "CCC(c1cccco[nn1)c1nccc(Nc2ccccc()(C)c3cc(C)non3)c1\n",
      "CC(='\n",
      " 50%|████████████████████                    | 502/1000 [05:39<04:28,  1.86it/s][19:53:06] SMILES Parse Error: extra close parentheses while parsing: C)(c2cccncc)c3)no2)C(=O)3)n2c(C)n(ncnc2-c2cccnn2)n1)Oc1cccccc1)n1cccc(c(n1)n1cccccc(c2ccccc(F)(c1)cnc\n",
      "[19:53:06] SMILES Parse Error: Failed parsing SMILES 'C)(c2cccncc)c3)no2)C(=O)3)n2c(C)n(ncnc2-c2cccnn2)n1)Oc1cccccc1)n1cccc(c(n1)n1cccccc(c2ccccc(F)(c1)cnc' for input: 'C)(c2cccncc)c3)no2)C(=O)3)n2c(C)n(ncnc2-c2cccnn2)n1)Oc1cccccc1)n1cccc(c(n1)n1cccccc(c2ccccc(F)(c1)cnc'\n",
      " 50%|████████████████████                    | 503/1000 [05:39<04:24,  1.88it/s][19:53:07] SMILES Parse Error: extra close parentheses while parsing: C(=O)c1cccnc1)c1ccc(O)nccccoc1)n1ccc(O)ncc(c(c)ccccc1nccccc2c1cc(c)ncc(c)cc1)n1cccFc(c)cc1)Sc1ccscc1)\n",
      "[19:53:07] SMILES Parse Error: Failed parsing SMILES 'C(=O)c1cccnc1)c1ccc(O)nccccoc1)n1ccc(O)ncc(c(c)ccccc1nccccc2c1cc(c)ncc(c)cc1)n1cccFc(c)cc1)Sc1ccscc1)' for input: 'C(=O)c1cccnc1)c1ccc(O)nccccoc1)n1ccc(O)ncc(c(c)ccccc1nccccc2c1cc(c)ncc(c)cc1)n1cccFc(c)cc1)Sc1ccscc1)'\n",
      " 50%|████████████████████▏                   | 504/1000 [05:40<04:33,  1.81it/s][19:53:07] SMILES Parse Error: extra close parentheses while parsing: C)F)cc1\n",
      "CCC(c1cccc(C(F)(F)F)cc1)C1C#C(C(=O)O\n",
      "CCC(=O)N1CCc2c1ccccc3c2nnc(C)nc(C)c3ccc(Br)ccc34)[nH]1c1\n",
      "[19:53:07] SMILES Parse Error: Failed parsing SMILES 'C)F)cc1\n",
      "CCC(c1cccc(C(F)(F)F)cc1)C1C#C(C(=O)O\n",
      "CCC(=O)N1CCc2c1ccccc3c2nnc(C)nc(C)c3ccc(Br)ccc34)[nH]1c1' for input: 'C)F)cc1\n",
      "CCC(c1cccc(C(F)(F)F)cc1)C1C#C(C(=O)O\n",
      "CCC(=O)N1CCc2c1ccccc3c2nnc(C)nc(C)c3ccc(Br)ccc34)[nH]1c1'\n",
      " 50%|████████████████████▏                   | 505/1000 [05:41<04:21,  1.89it/s][19:53:08] SMILES Parse Error: extra close parentheses while parsing: C3)ncc2C)=\n",
      "CC(=O)/C(=O)c1c4cccccns2)s1c1cccnc(O)c1cccncc(F)cc1)(c1ccccccc1)nn1nccc(c)cc1)c1ccccncc1nc\n",
      "[19:53:08] SMILES Parse Error: Failed parsing SMILES 'C3)ncc2C)=\n",
      "CC(=O)/C(=O)c1c4cccccns2)s1c1cccnc(O)c1cccncc(F)cc1)(c1ccccccc1)nn1nccc(c)cc1)c1ccccncc1nc' for input: 'C3)ncc2C)=\n",
      "CC(=O)/C(=O)c1c4cccccns2)s1c1cccnc(O)c1cccncc(F)cc1)(c1ccccccc1)nn1nccc(c)cc1)c1ccccncc1nc'\n",
      " 51%|████████████████████▏                   | 506/1000 [05:41<04:26,  1.85it/s][19:53:08] SMILES Parse Error: extra close parentheses while parsing: C)C)C1(c1ccscnc1)C(=O)c1ccccnc1)c1cccccc1)n1cccccc2c1cccc(c)cc1)nccc1ncccc(F)c1)c1nccnc1)n1cccnc2c(n1\n",
      "[19:53:08] SMILES Parse Error: Failed parsing SMILES 'C)C)C1(c1ccscnc1)C(=O)c1ccccnc1)c1cccccc1)n1cccccc2c1cccc(c)cc1)nccc1ncccc(F)c1)c1nccnc1)n1cccnc2c(n1' for input: 'C)C)C1(c1ccscnc1)C(=O)c1ccccnc1)c1cccccc1)n1cccccc2c1cccc(c)cc1)nccc1ncccc(F)c1)c1nccnc1)n1cccnc2c(n1'\n",
      " 51%|████████████████████▎                   | 507/1000 [05:42<04:17,  1.91it/s][19:53:09] SMILES Parse Error: extra close parentheses while parsing: C)(C)C)=[C@@H]1c1cccccc1)c1ccccc(O)n1Cc1ccccc(O)n1ccc(Br)ccc1nccc(Br)(c1)n1ccccc1ncccc1)N(Cc1ccccnc1)\n",
      "[19:53:09] SMILES Parse Error: Failed parsing SMILES 'C)(C)C)=[C@@H]1c1cccccc1)c1ccccc(O)n1Cc1ccccc(O)n1ccc(Br)ccc1nccc(Br)(c1)n1ccccc1ncccc1)N(Cc1ccccnc1)' for input: 'C)(C)C)=[C@@H]1c1cccccc1)c1ccccc(O)n1Cc1ccccc(O)n1ccc(Br)ccc1nccc(Br)(c1)n1ccccc1ncccc1)N(Cc1ccccnc1)'\n",
      " 51%|████████████████████▎                   | 508/1000 [05:42<04:11,  1.95it/s][19:53:10] SMILES Parse Error: extra close parentheses while parsing: C[C@H]21)c1ccccc1nn1ccccc(c)c1)n1ccccnc(c)cn1)c1ncc[nH]1)c1cccccc(1)cc1ccncnc1)c1cccccc1(F)(F)n1ccc(B\n",
      "[19:53:10] SMILES Parse Error: Failed parsing SMILES 'C[C@H]21)c1ccccc1nn1ccccc(c)c1)n1ccccnc(c)cn1)c1ncc[nH]1)c1cccccc(1)cc1ccncnc1)c1cccccc1(F)(F)n1ccc(B' for input: 'C[C@H]21)c1ccccc1nn1ccccc(c)c1)n1ccccnc(c)cn1)c1ncc[nH]1)c1cccccc(1)cc1ccncnc1)c1cccccc1(F)(F)n1ccc(B'\n",
      " 51%|████████████████████▎                   | 509/1000 [05:43<04:45,  1.72it/s][19:53:10] SMILES Parse Error: extra close parentheses while parsing: C[C@H](F)C)[n+]1c1cccc(O)nc1)c1cccccc1c(cc1ccccc(F)(F)c1)N1C(=O/)C(C)CC\n",
      "CC(C)=n1c(-c2ccoc2C)C[C@H]12C\n",
      "[19:53:10] SMILES Parse Error: Failed parsing SMILES 'C[C@H](F)C)[n+]1c1cccc(O)nc1)c1cccccc1c(cc1ccccc(F)(F)c1)N1C(=O/)C(C)CC\n",
      "CC(C)=n1c(-c2ccoc2C)C[C@H]12C' for input: 'C[C@H](F)C)[n+]1c1cccc(O)nc1)c1cccccc1c(cc1ccccc(F)(F)c1)N1C(=O/)C(C)CC\n",
      "CC(C)=n1c(-c2ccoc2C)C[C@H]12C'\n",
      " 51%|████████████████████▍                   | 510/1000 [05:43<04:35,  1.78it/s][19:53:11] SMILES Parse Error: extra close parentheses while parsing: COCO1)c1ccccnc1)CCN(C(=O)CC1C)Cc1cccccc(F)(c2)c1nccncc1)nc1ccccnHc1)ncc1c1cccccc1)c1nccc(S(C)(=O)(=O)\n",
      "[19:53:11] SMILES Parse Error: Failed parsing SMILES 'COCO1)c1ccccnc1)CCN(C(=O)CC1C)Cc1cccccc(F)(c2)c1nccncc1)nc1ccccnHc1)ncc1c1cccccc1)c1nccc(S(C)(=O)(=O)' for input: 'COCO1)c1ccccnc1)CCN(C(=O)CC1C)Cc1cccccc(F)(c2)c1nccncc1)nc1ccccnHc1)ncc1c1cccccc1)c1nccc(S(C)(=O)(=O)'\n",
      " 51%|████████████████████▍                   | 511/1000 [05:44<04:35,  1.78it/s][19:53:11] SMILES Parse Error: extra close parentheses while parsing: CCOs2)S1\n",
      "CCC(=O)c1c([nH]nc1C)cccnc1)C(=O)C(C)(C)C)=O\n",
      "CC1(C)C(=O)C1=NN2c3cc(F)cc(O)C(=O)c3ccc(Br)sc34)\n",
      "[19:53:11] SMILES Parse Error: Failed parsing SMILES 'CCOs2)S1\n",
      "CCC(=O)c1c([nH]nc1C)cccnc1)C(=O)C(C)(C)C)=O\n",
      "CC1(C)C(=O)C1=NN2c3cc(F)cc(O)C(=O)c3ccc(Br)sc34)' for input: 'CCOs2)S1\n",
      "CCC(=O)c1c([nH]nc1C)cccnc1)C(=O)C(C)(C)C)=O\n",
      "CC1(C)C(=O)C1=NN2c3cc(F)cc(O)C(=O)c3ccc(Br)sc34)'\n",
      " 51%|████████████████████▍                   | 512/1000 [05:44<04:22,  1.86it/s][19:53:12] SMILES Parse Error: extra close parentheses while parsing: C)C)S1\n",
      "CC(=O)C1=NN(C(=O)C(C)(=)C(=O)c1ccccnc1)c1cccc(O)(F)(F)cc1)[nH]1c1cccccc1)n1ccc(Br)cc(n1)c2cc1n\n",
      "[19:53:12] SMILES Parse Error: Failed parsing SMILES 'C)C)S1\n",
      "CC(=O)C1=NN(C(=O)C(C)(=)C(=O)c1ccccnc1)c1cccc(O)(F)(F)cc1)[nH]1c1cccccc1)n1ccc(Br)cc(n1)c2cc1n' for input: 'C)C)S1\n",
      "CC(=O)C1=NN(C(=O)C(C)(=)C(=O)c1ccccnc1)c1cccc(O)(F)(F)cc1)[nH]1c1cccccc1)n1ccc(Br)cc(n1)c2cc1n'\n",
      " 51%|████████████████████▌                   | 514/1000 [05:45<04:18,  1.88it/s][19:53:13] SMILES Parse Error: extra close parentheses while parsing: Cc(c1cccnnc1)n1ccccc2cccccn2)C[C@H]1c1ccncc(C)c1COc1cccccc1)n1ccc(F)ccc1NCc1ccc(O)(c2c)nc(c(c2)nc(c2c\n",
      "[19:53:13] SMILES Parse Error: Failed parsing SMILES 'Cc(c1cccnnc1)n1ccccc2cccccn2)C[C@H]1c1ccncc(C)c1COc1cccccc1)n1ccc(F)ccc1NCc1ccc(O)(c2c)nc(c(c2)nc(c2c' for input: 'Cc(c1cccnnc1)n1ccccc2cccccn2)C[C@H]1c1ccncc(C)c1COc1cccccc1)n1ccc(F)ccc1NCc1ccc(O)(c2c)nc(c(c2)nc(c2c'\n",
      " 52%|████████████████████▌                   | 515/1000 [05:46<04:09,  1.94it/s][19:53:13] SMILES Parse Error: syntax error while parsing: C(=O)C1=NN2N(c3ccnc(F)c(C)n1nccnc2c1cccnc(/)c1ccc([nH]c2ccccc3OC[C@H]2[C@H]1c1ccc(Br)ncc1ccccnc1)nc1c\n",
      "[19:53:13] SMILES Parse Error: Failed parsing SMILES 'C(=O)C1=NN2N(c3ccnc(F)c(C)n1nccnc2c1cccnc(/)c1ccc([nH]c2ccccc3OC[C@H]2[C@H]1c1ccc(Br)ncc1ccccnc1)nc1c' for input: 'C(=O)C1=NN2N(c3ccnc(F)c(C)n1nccnc2c1cccnc(/)c1ccc([nH]c2ccccc3OC[C@H]2[C@H]1c1ccc(Br)ncc1ccccnc1)nc1c'\n",
      " 52%|████████████████████▋                   | 516/1000 [05:46<04:19,  1.86it/s][19:53:14] SMILES Parse Error: syntax error while parsing: C@2)=C\n",
      "CC(=N)c1cccc(F)cc1)C1(C)CCOC(=O)C1c1cccccc1)n1cc(Sc2ccc(O)ncc2N)n1cc(c(F)ccc(F)c2c(F)Cc2cN[nH]\n",
      "[19:53:14] SMILES Parse Error: Failed parsing SMILES 'C@2)=C\n",
      "CC(=N)c1cccc(F)cc1)C1(C)CCOC(=O)C1c1cccccc1)n1cc(Sc2ccc(O)ncc2N)n1cc(c(F)ccc(F)c2c(F)Cc2cN[nH]' for input: 'C@2)=C\n",
      "CC(=N)c1cccc(F)cc1)C1(C)CCOC(=O)C1c1cccccc1)n1cc(Sc2ccc(O)ncc2N)n1cc(c(F)ccc(F)c2c(F)Cc2cN[nH]'\n",
      " 52%|████████████████████▋                   | 517/1000 [05:47<04:18,  1.87it/s][19:53:14] SMILES Parse Error: unclosed ring for input: 'C2\n",
      "CCC(c1cccc(Cl)cc3)n1ccccc(C)(C)C)nc1)[nH]nc1cccccc2)C(=O)C1(C)C)CC1ncc(C)nc(-c2ccscn2)C[C@@H](c1cc'\n",
      " 52%|████████████████████▋                   | 518/1000 [05:48<04:29,  1.79it/s][19:53:15] SMILES Parse Error: syntax error while parsing: C@H]1c1ccc(C)ns1)[nH]n1\n",
      "CC1=C(C)C(HNC2=NN3C(=O)C[C@@H]1=Cl\n",
      "CCC1c1cccc(C)n1Cc1cccc(F)c1)C(=O)c1cccsc1)\n",
      "[19:53:15] SMILES Parse Error: Failed parsing SMILES 'C@H]1c1ccc(C)ns1)[nH]n1\n",
      "CC1=C(C)C(HNC2=NN3C(=O)C[C@@H]1=Cl\n",
      "CCC1c1cccc(C)n1Cc1cccc(F)c1)C(=O)c1cccsc1)' for input: 'C@H]1c1ccc(C)ns1)[nH]n1\n",
      "CC1=C(C)C(HNC2=NN3C(=O)C[C@@H]1=Cl\n",
      "CCC1c1cccc(C)n1Cc1cccc(F)c1)C(=O)c1cccsc1)'\n",
      " 52%|████████████████████▊                   | 519/1000 [05:48<04:20,  1.85it/s][19:53:15] SMILES Parse Error: syntax error while parsing: Cc1ncrcccnc2c(=O)n1Cc1cccccc1)nc1cccccc1)c1cccccc1)nnc1)n1cccnc-c2ccccc3c2sncnc)n1)c1ccccc(O)n1)c1ccc\n",
      "[19:53:15] SMILES Parse Error: Failed parsing SMILES 'Cc1ncrcccnc2c(=O)n1Cc1cccccc1)nc1cccccc1)c1cccccc1)nnc1)n1cccnc-c2ccccc3c2sncnc)n1)c1ccccc(O)n1)c1ccc' for input: 'Cc1ncrcccnc2c(=O)n1Cc1cccccc1)nc1cccccc1)c1cccccc1)nnc1)n1cccnc-c2ccccc3c2sncnc)n1)c1ccccc(O)n1)c1ccc'\n",
      " 52%|████████████████████▊                   | 520/1000 [05:49<04:26,  1.80it/s][19:53:16] SMILES Parse Error: extra close parentheses while parsing: C[C@H]1c1ccscc1)n1cccc(ncccc1)c1ccccc(F)(ccn1)n1ccccc1)n1ccccccc11)c1cccc(F)cc1)(=O)C(F)(F)F1(CCCN1C)\n",
      "[19:53:16] SMILES Parse Error: Failed parsing SMILES 'C[C@H]1c1ccscc1)n1cccc(ncccc1)c1ccccc(F)(ccn1)n1ccccc1)n1ccccccc11)c1cccc(F)cc1)(=O)C(F)(F)F1(CCCN1C)' for input: 'C[C@H]1c1ccscc1)n1cccc(ncccc1)c1ccccc(F)(ccn1)n1ccccc1)n1ccccccc11)c1cccc(F)cc1)(=O)C(F)(F)F1(CCCN1C)'\n",
      " 52%|████████████████████▊                   | 521/1000 [05:49<04:29,  1.78it/s][19:53:17] SMILES Parse Error: extra close parentheses while parsing: C(NC=OCCO)C(=O)Oc2ccccc2)ccc1nHccncc1)c1ccccccc1n1ccccccc1)nc1)c1cccccc2nccnc2c(=O)n1cccccc2)n1cccccc\n",
      "[19:53:17] SMILES Parse Error: Failed parsing SMILES 'C(NC=OCCO)C(=O)Oc2ccccc2)ccc1nHccncc1)c1ccccccc1n1ccccccc1)nc1)c1cccccc2nccnc2c(=O)n1cccccc2)n1cccccc' for input: 'C(NC=OCCO)C(=O)Oc2ccccc2)ccc1nHccncc1)c1ccccccc1n1ccccccc1)nc1)c1cccccc2nccnc2c(=O)n1cccccc2)n1cccccc'\n",
      " 52%|████████████████████▉                   | 522/1000 [05:50<04:41,  1.70it/s][19:53:17] SMILES Parse Error: extra close parentheses while parsing: CN(C1CCOCC1)c1cccccc1Cc1ccccc(F)c1cccc(O)nc1)n1cccccc1cccc(n)cc1)c1cccccc(F)cc1nccnn1)c1ccccs[nH]2)c1\n",
      "[19:53:17] SMILES Parse Error: Failed parsing SMILES 'CN(C1CCOCC1)c1cccccc1Cc1ccccc(F)c1cccc(O)nc1)n1cccccc1cccc(n)cc1)c1cccccc(F)cc1nccnn1)c1ccccs[nH]2)c1' for input: 'CN(C1CCOCC1)c1cccccc1Cc1ccccc(F)c1cccc(O)nc1)n1cccccc1cccc(n)cc1)c1cccccc(F)cc1nccnn1)c1ccccs[nH]2)c1'\n",
      " 52%|████████████████████▉                   | 523/1000 [05:50<04:28,  1.78it/s][19:53:18] SMILES Parse Error: extra close parentheses while parsing: C1)c1cccccc1SCCO\n",
      "CCC(c1ccccnc1)(c1(C)F)CCCOCC1)c1ccccc(F)(F)n1Cc1ccccc1)n(C)cc1cccc(B)cc1)c1ccccc(F)c\n",
      "[19:53:18] SMILES Parse Error: Failed parsing SMILES 'C1)c1cccccc1SCCO\n",
      "CCC(c1ccccnc1)(c1(C)F)CCCOCC1)c1ccccc(F)(F)n1Cc1ccccc1)n(C)cc1cccc(B)cc1)c1ccccc(F)c' for input: 'C1)c1cccccc1SCCO\n",
      "CCC(c1ccccnc1)(c1(C)F)CCCOCC1)c1ccccc(F)(F)n1Cc1ccccc1)n(C)cc1cccc(B)cc1)c1ccccc(F)c'\n",
      " 52%|████████████████████▉                   | 524/1000 [05:51<04:38,  1.71it/s][19:53:18] SMILES Parse Error: extra close parentheses while parsing: C1)=Cl=C(NC2=O)nc1)c1ccc[nnccnc1)n1cccc(O)cc1ccccccc1)c1cccccc(F)(c1)(c1ccccc()(=O)nccc1cccccc1)n1Cc1\n",
      "[19:53:18] SMILES Parse Error: Failed parsing SMILES 'C1)=Cl=C(NC2=O)nc1)c1ccc[nnccnc1)n1cccc(O)cc1ccccccc1)c1cccccc(F)(c1)(c1ccccc()(=O)nccc1cccccc1)n1Cc1' for input: 'C1)=Cl=C(NC2=O)nc1)c1ccc[nnccnc1)n1cccc(O)cc1ccccccc1)c1cccccc(F)(c1)(c1ccccc()(=O)nccc1cccccc1)n1Cc1'\n",
      " 52%|█████████████████████                   | 525/1000 [05:52<04:29,  1.77it/s][19:53:19] SMILES Parse Error: extra close parentheses while parsing: CNC[C@H]1c1cccccc1n1Cc2ccc(C)ccc2)n1c1cccc(F)cc1)N2\n",
      "CC(F)(F)C1\n",
      "CC(=O)C1=N(C(=O)c2cccoc2)n1ccc(cccccc1\n",
      "[19:53:19] SMILES Parse Error: Failed parsing SMILES 'CNC[C@H]1c1cccccc1n1Cc2ccc(C)ccc2)n1c1cccc(F)cc1)N2\n",
      "CC(F)(F)C1\n",
      "CC(=O)C1=N(C(=O)c2cccoc2)n1ccc(cccccc1' for input: 'CNC[C@H]1c1cccccc1n1Cc2ccc(C)ccc2)n1c1cccc(F)cc1)N2\n",
      "CC(F)(F)C1\n",
      "CC(=O)C1=N(C(=O)c2cccoc2)n1ccc(cccccc1'\n",
      " 53%|█████████████████████                   | 526/1000 [05:52<04:29,  1.76it/s][19:53:20] SMILES Parse Error: extra close parentheses while parsing: COC(=O)C1=C(CNS(c)(=O)=OC(=O)C1)c1c[nH]c3ccc(Cl)ccc1)C(=O)Cc1cccncc1)n1ccccccc1)ncccc(Sc1)cnncc2c(=O)\n",
      "[19:53:20] SMILES Parse Error: Failed parsing SMILES 'COC(=O)C1=C(CNS(c)(=O)=OC(=O)C1)c1c[nH]c3ccc(Cl)ccc1)C(=O)Cc1cccncc1)n1ccccccc1)ncccc(Sc1)cnncc2c(=O)' for input: 'COC(=O)C1=C(CNS(c)(=O)=OC(=O)C1)c1c[nH]c3ccc(Cl)ccc1)C(=O)Cc1cccncc1)n1ccccccc1)ncccc(Sc1)cnncc2c(=O)'\n",
      " 53%|█████████████████████                   | 527/1000 [05:53<04:34,  1.73it/s][19:53:20] SMILES Parse Error: extra close parentheses while parsing: C1c1nnc(-c)cccNS(O)(=O)=N(C(=O)(=O)C(=O)C1=C(OC)Cc1cccc(F)cc1)c1ccccccc1)n1cccccnc1)n1ccccc2c(ncccccc\n",
      "[19:53:20] SMILES Parse Error: Failed parsing SMILES 'C1c1nnc(-c)cccNS(O)(=O)=N(C(=O)(=O)C(=O)C1=C(OC)Cc1cccc(F)cc1)c1ccccccc1)n1cccccnc1)n1ccccc2c(ncccccc' for input: 'C1c1nnc(-c)cccNS(O)(=O)=N(C(=O)(=O)C(=O)C1=C(OC)Cc1cccc(F)cc1)c1ccccccc1)n1cccccnc1)n1ccccc2c(ncccccc'\n",
      " 53%|█████████████████████                   | 528/1000 [05:53<04:33,  1.72it/s][19:53:21] SMILES Parse Error: unclosed ring for input: 'C2\n",
      "CC(=O)NC1=NN(C(=O)C(C)(C)C)C2=OC(F)C1F)n1ccc(O)(c1)c1ccccc(F)cc1)C1(C)=C1=NN(C(F)(F)F)n1c(nccccc2c'\n",
      " 53%|█████████████████████▏                  | 529/1000 [05:54<05:07,  1.53it/s][19:53:22] SMILES Parse Error: unclosed ring for input: 'CCNC(=O)C1=O\n",
      "CC1=C(C(=O)C(C)(=O)C(C1=COc1cccc(-c)cc1\n",
      "CCCc1cccc(C)c1nncc(N)(=O)nc(s2)S1\n",
      "CC(=O)C1NC(=O)'\n",
      " 53%|█████████████████████▏                  | 530/1000 [05:56<06:53,  1.14it/s][19:53:23] SMILES Parse Error: extra close parentheses while parsing: C1=C(C)c([nH]cnc(c1)OC(=O)c1cccoc1)c1nccnc(O)c1)c1ccccccc2c(O)n1cccccc(c((()c2cncc(Br)ccc2ccncc(S)nc2\n",
      "[19:53:23] SMILES Parse Error: Failed parsing SMILES 'C1=C(C)c([nH]cnc(c1)OC(=O)c1cccoc1)c1nccnc(O)c1)c1ccccccc2c(O)n1cccccc(c((()c2cncc(Br)ccc2ccncc(S)nc2' for input: 'C1=C(C)c([nH]cnc(c1)OC(=O)c1cccoc1)c1nccnc(O)c1)c1ccccccc2c(O)n1cccccc(c((()c2cncc(Br)ccc2ccncc(S)nc2'\n",
      " 53%|█████████████████████▏                  | 531/1000 [05:56<06:23,  1.22it/s][19:53:24] SMILES Parse Error: extra close parentheses while parsing: C(=O)OCCO)C(=O)c1cccon1)n1cccccc(F)c(F)c1)[nH]nc1cccc(Br)cc(F)c1)[nH]1c1cccc(O)=c1ccccc[n1)c1ccc(n2cc\n",
      "[19:53:24] SMILES Parse Error: Failed parsing SMILES 'C(=O)OCCO)C(=O)c1cccon1)n1cccccc(F)c(F)c1)[nH]nc1cccc(Br)cc(F)c1)[nH]1c1cccc(O)=c1ccccc[n1)c1ccc(n2cc' for input: 'C(=O)OCCO)C(=O)c1cccon1)n1cccccc(F)c(F)c1)[nH]nc1cccc(Br)cc(F)c1)[nH]1c1cccc(O)=c1ccccc[n1)c1ccc(n2cc'\n",
      " 53%|█████████████████████▎                  | 532/1000 [05:57<06:22,  1.22it/s][19:53:24] SMILES Parse Error: extra close parentheses while parsing: C2)ccc1-c1nccscn1)nc1ccccccc1cccccc1ccccc(c1)c1cccccc2c1CC(F)(F)1CCc1cccnc1)()=O\n",
      "CCc1cccc(-C)=c1)n1cn\n",
      "[19:53:24] SMILES Parse Error: Failed parsing SMILES 'C2)ccc1-c1nccscn1)nc1ccccccc1cccccc1ccccc(c1)c1cccccc2c1CC(F)(F)1CCc1cccnc1)()=O\n",
      "CCc1cccc(-C)=c1)n1cn' for input: 'C2)ccc1-c1nccscn1)nc1ccccccc1cccccc1ccccc(c1)c1cccccc2c1CC(F)(F)1CCc1cccnc1)()=O\n",
      "CCc1cccc(-C)=c1)n1cn'\n",
      " 53%|█████████████████████▎                  | 533/1000 [05:58<05:47,  1.34it/s][19:53:25] SMILES Parse Error: extra close parentheses while parsing: C2F)S1\n",
      "CCS(=O)(C/c)nc(Br)cc1-c1ccc(F)ccc11cnc[nH]c1)N(CCO)C(=O)n1cccccn1)c1cccccc(F)(C)c1)c1cccccc(F)\n",
      "[19:53:25] SMILES Parse Error: Failed parsing SMILES 'C2F)S1\n",
      "CCS(=O)(C/c)nc(Br)cc1-c1ccc(F)ccc11cnc[nH]c1)N(CCO)C(=O)n1cccccn1)c1cccccc(F)(C)c1)c1cccccc(F)' for input: 'C2F)S1\n",
      "CCS(=O)(C/c)nc(Br)cc1-c1ccc(F)ccc11cnc[nH]c1)N(CCO)C(=O)n1cccccn1)c1cccccc(F)(C)c1)c1cccccc(F)'\n",
      " 53%|█████████████████████▎                  | 534/1000 [05:58<05:28,  1.42it/s][19:53:26] SMILES Parse Error: extra close parentheses while parsing: C(=O)O)Cc1ccccc(F)c1)N(C(=O)=O\n",
      "CCCS(=O)(=O)c1ccc(-c2cc(c(F)cn1)c1nc[nH]n1)c2ccc(F)ccc(O)c1)S2\n",
      "CC(=OOC\n",
      "[19:53:26] SMILES Parse Error: Failed parsing SMILES 'C(=O)O)Cc1ccccc(F)c1)N(C(=O)=O\n",
      "CCCS(=O)(=O)c1ccc(-c2cc(c(F)cn1)c1nc[nH]n1)c2ccc(F)ccc(O)c1)S2\n",
      "CC(=OOC' for input: 'C(=O)O)Cc1ccccc(F)c1)N(C(=O)=O\n",
      "CCCS(=O)(=O)c1ccc(-c2cc(c(F)cn1)c1nc[nH]n1)c2ccc(F)ccc(O)c1)S2\n",
      "CC(=OOC'\n",
      " 54%|█████████████████████▍                  | 535/1000 [05:59<04:57,  1.56it/s][19:53:26] SMILES Parse Error: extra close parentheses while parsing: C=C(=O)S1(=O)C(=O)CC1)c1cccccc1cc1ccccc1Cn1cccc(S(N)(=O)=c3c(F)ccccn1(O)Cc1cccc(O)c+c1)Oc1nccsc(C)n(C\n",
      "[19:53:26] SMILES Parse Error: Failed parsing SMILES 'C=C(=O)S1(=O)C(=O)CC1)c1cccccc1cc1ccccc1Cn1cccc(S(N)(=O)=c3c(F)ccccn1(O)Cc1cccc(O)c+c1)Oc1nccsc(C)n(C' for input: 'C=C(=O)S1(=O)C(=O)CC1)c1cccccc1cc1ccccc1Cn1cccc(S(N)(=O)=c3c(F)ccccn1(O)Cc1cccc(O)c+c1)Oc1nccsc(C)n(C'\n",
      " 54%|█████████████████████▍                  | 536/1000 [05:59<04:47,  1.62it/s][19:53:27] SMILES Parse Error: extra close parentheses while parsing: C1=C(C(=O)NCc1ccc(C)nc1)c1cccccc1)(nc1)c1nccccc1)nnc1)c1cccc(F)ccc1nc[nH])c1cccccc1)n1Cc1ccncc(=O)n1)\n",
      "[19:53:27] SMILES Parse Error: Failed parsing SMILES 'C1=C(C(=O)NCc1ccc(C)nc1)c1cccccc1)(nc1)c1nccccc1)nnc1)c1cccc(F)ccc1nc[nH])c1cccccc1)n1Cc1ccncc(=O)n1)' for input: 'C1=C(C(=O)NCc1ccc(C)nc1)c1cccccc1)(nc1)c1nccccc1)nnc1)c1cccc(F)ccc1nc[nH])c1cccccc1)n1Cc1ccncc(=O)n1)'\n",
      " 54%|█████████████████████▍                  | 537/1000 [06:00<04:27,  1.73it/s][19:53:27] SMILES Parse Error: unclosed ring for input: 'C2\n",
      "CCC(c1c2cnccn1)n2ccncc2C)C1)c1cccccs1)N(CC)(c1cccccc(F)c1)nc1cccccccc(C)c(n1)cc1cccccc1)nc1)c1cccc'\n",
      " 54%|█████████████████████▌                  | 538/1000 [06:00<04:12,  1.83it/s][19:53:28] SMILES Parse Error: extra close parentheses while parsing: Cn3cc(Cl)ccc3Br)[nH]nc1N=NN(C(=O)C(=O)NC1(C(=O)O)Cc1ccc(F)ccc1)c1nccsc1nc(ccc(c(S)ncc2ccccc(O)(c[cccc\n",
      "[19:53:28] SMILES Parse Error: Failed parsing SMILES 'Cn3cc(Cl)ccc3Br)[nH]nc1N=NN(C(=O)C(=O)NC1(C(=O)O)Cc1ccc(F)ccc1)c1nccsc1nc(ccc(c(S)ncc2ccccc(O)(c[cccc' for input: 'Cn3cc(Cl)ccc3Br)[nH]nc1N=NN(C(=O)C(=O)NC1(C(=O)O)Cc1ccc(F)ccc1)c1nccsc1nc(ccc(c(S)ncc2ccccc(O)(c[cccc'\n",
      " 54%|█████████████████████▌                  | 539/1000 [06:01<04:16,  1.80it/s][19:53:28] SMILES Parse Error: syntax error while parsing: C@@H](c3cc(F)ccc3)CCO2)c1\n",
      "CC(=O)C1=NN(C(=O)C(=O)C21CC(c1cccc(O)ncc1)n1cccc(c(=O)nn1)c1cccccc(C)cc1)c1\n",
      "[19:53:28] SMILES Parse Error: Failed parsing SMILES 'C@@H](c3cc(F)ccc3)CCO2)c1\n",
      "CC(=O)C1=NN(C(=O)C(=O)C21CC(c1cccc(O)ncc1)n1cccc(c(=O)nn1)c1cccccc(C)cc1)c1' for input: 'C@@H](c3cc(F)ccc3)CCO2)c1\n",
      "CC(=O)C1=NN(C(=O)C(=O)C21CC(c1cccc(O)ncc1)n1cccc(c(=O)nn1)c1cccccc(C)cc1)c1'\n",
      " 54%|█████████████████████▌                  | 540/1000 [06:01<04:03,  1.89it/s][19:53:29] SMILES Parse Error: unclosed ring for input: 'C1\n",
      "CCC(C)=C(=O)O1CCOC1=C(C)=O)Cc1csccn1)ccccn1)C(=O)C1=Cl(F)C1\n",
      "CCC(c1cccc(O)nc1)[C@@H]1nc2ccc(O)cc(F)'\n",
      " 54%|█████████████████████▋                  | 541/1000 [06:02<03:56,  1.94it/s][19:53:29] SMILES Parse Error: extra close parentheses while parsing: C)C(=O)N[C@@]1C[C@@(O12CCCN(C(=O)CCc3cccc(O)c2)C(=O)C1c1c(=O)nccc1O)c1ccccc(O)(F)c1)c1cccccccc1)(C)=O\n",
      "[19:53:29] SMILES Parse Error: Failed parsing SMILES 'C)C(=O)N[C@@]1C[C@@(O12CCCN(C(=O)CCc3cccc(O)c2)C(=O)C1c1c(=O)nccc1O)c1ccccc(O)(F)c1)c1cccccccc1)(C)=O' for input: 'C)C(=O)N[C@@]1C[C@@(O12CCCN(C(=O)CCc3cccc(O)c2)C(=O)C1c1c(=O)nccc1O)c1ccccc(O)(F)c1)c1cccccccc1)(C)=O'\n",
      " 54%|█████████████████████▋                  | 542/1000 [06:02<04:03,  1.88it/s][19:53:30] SMILES Parse Error: extra close parentheses while parsing: C(=O)C2=CBC(C(=O)O)C(=O)C1c1ccccc(F)c1)c1cccccc(F)(F)cc1)c1cccccccc1)ncc(n1)c1cccccc1)(c1cccccc2c(ncI\n",
      "[19:53:30] SMILES Parse Error: Failed parsing SMILES 'C(=O)C2=CBC(C(=O)O)C(=O)C1c1ccccc(F)c1)c1cccccc(F)(F)cc1)c1cccccccc1)ncc(n1)c1cccccc1)(c1cccccc2c(ncI' for input: 'C(=O)C2=CBC(C(=O)O)C(=O)C1c1ccccc(F)c1)c1cccccc(F)(F)cc1)c1cccccccc1)ncc(n1)c1cccccc1)(c1cccccc2c(ncI'\n",
      " 54%|█████████████████████▋                  | 543/1000 [06:03<03:53,  1.96it/s][19:53:30] SMILES Parse Error: extra close parentheses while parsing: CF)(NC(=O)C(C)(C)C\n",
      "CC(C)=c1ccc2c(n1)C[C@@H](I)C[C@H]1F)C(=O)c1ccccccc1(F)C()C)c1ccccccc1)nc1c1ccccccn\n",
      "[19:53:30] SMILES Parse Error: Failed parsing SMILES 'CF)(NC(=O)C(C)(C)C\n",
      "CC(C)=c1ccc2c(n1)C[C@@H](I)C[C@H]1F)C(=O)c1ccccccc1(F)C()C)c1ccccccc1)nc1c1ccccccn' for input: 'CF)(NC(=O)C(C)(C)C\n",
      "CC(C)=c1ccc2c(n1)C[C@@H](I)C[C@H]1F)C(=O)c1ccccccc1(F)C()C)c1ccccccc1)nc1c1ccccccn'\n",
      " 54%|█████████████████████▊                  | 544/1000 [06:03<03:49,  1.99it/s][19:53:31] SMILES Parse Error: extra close parentheses while parsing: Cc3c(ncc(n)cc3)S2)SCC(Cl)(C=O)==O)=N1\n",
      "CCC(c3ccc(C)no1)C(=O)CC1CC1)c1ccccccc1)n1nccncc(=O)n1)c1ccccc(F\n",
      "[19:53:31] SMILES Parse Error: Failed parsing SMILES 'Cc3c(ncc(n)cc3)S2)SCC(Cl)(C=O)==O)=N1\n",
      "CCC(c3ccc(C)no1)C(=O)CC1CC1)c1ccccccc1)n1nccncc(=O)n1)c1ccccc(F' for input: 'Cc3c(ncc(n)cc3)S2)SCC(Cl)(C=O)==O)=N1\n",
      "CCC(c3ccc(C)no1)C(=O)CC1CC1)c1ccccccc1)n1nccncc(=O)n1)c1ccccc(F'\n",
      " 55%|█████████████████████▊                  | 545/1000 [06:04<04:00,  1.89it/s][19:53:31] SMILES Parse Error: extra close parentheses while parsing: CBN=CcO[C@H]1c1cccccc(O)n1)N(C)C(=O\n",
      "CC(=O)C1=N(C(=O)C(C)(C)COCC)=NNC(=O)C(=O)N1Cc2c(2ccc(F)cccc2F)CCC\n",
      "[19:53:31] SMILES Parse Error: Failed parsing SMILES 'CBN=CcO[C@H]1c1cccccc(O)n1)N(C)C(=O\n",
      "CC(=O)C1=N(C(=O)C(C)(C)COCC)=NNC(=O)C(=O)N1Cc2c(2ccc(F)cccc2F)CCC' for input: 'CBN=CcO[C@H]1c1cccccc(O)n1)N(C)C(=O\n",
      "CC(=O)C1=N(C(=O)C(C)(C)COCC)=NNC(=O)C(=O)N1Cc2c(2ccc(F)cccc2F)CCC'\n",
      " 55%|█████████████████████▊                  | 546/1000 [06:04<03:52,  1.95it/s][19:53:32] SMILES Parse Error: syntax error while parsing: C@@](c3cccc(F)c3)C1\n",
      "CC(=O)CC1=C(C)C(NC[C@@H]2[C@@](F)C1)c1cccccc(F)c1)N2\n",
      "CC/C(=O)C1=C#C(NC(=O)C(=O)C(\n",
      "[19:53:32] SMILES Parse Error: Failed parsing SMILES 'C@@](c3cccc(F)c3)C1\n",
      "CC(=O)CC1=C(C)C(NC[C@@H]2[C@@](F)C1)c1cccccc(F)c1)N2\n",
      "CC/C(=O)C1=C#C(NC(=O)C(=O)C(' for input: 'C@@](c3cccc(F)c3)C1\n",
      "CC(=O)CC1=C(C)C(NC[C@@H]2[C@@](F)C1)c1cccccc(F)c1)N2\n",
      "CC/C(=O)C1=C#C(NC(=O)C(=O)C('\n",
      " 55%|█████████████████████▉                  | 547/1000 [06:05<03:49,  1.98it/s][19:53:32] SMILES Parse Error: syntax error while parsing: CNS(C(=O)=O)C(c3ccc(O)C(=O)(c3cccccl)c3)S2)S1\n",
      "CC(=O)N1CCc2c2c(CC(c3ccccn4)Cn2ccncc2)c1cccnnn1)c1ccccc\n",
      "[19:53:32] SMILES Parse Error: Failed parsing SMILES 'CNS(C(=O)=O)C(c3ccc(O)C(=O)(c3cccccl)c3)S2)S1\n",
      "CC(=O)N1CCc2c2c(CC(c3ccccn4)Cn2ccncc2)c1cccnnn1)c1ccccc' for input: 'CNS(C(=O)=O)C(c3ccc(O)C(=O)(c3cccccl)c3)S2)S1\n",
      "CC(=O)N1CCc2c2c(CC(c3ccccn4)Cn2ccncc2)c1cccnnn1)c1ccccc'\n",
      " 55%|█████████████████████▉                  | 548/1000 [06:05<03:59,  1.89it/s][19:53:33] SMILES Parse Error: extra close parentheses while parsing: C1=NN[C](C(=O)C(=O)Oc1cccc(c1)n1ccnc(O)c1ccc(Br)ccc1)N(CCCO)c1ccccccc1nccc(S)n1)ncc(c(=O)O)ccc1c1cccc\n",
      "[19:53:33] SMILES Parse Error: Failed parsing SMILES 'C1=NN[C](C(=O)C(=O)Oc1cccc(c1)n1ccnc(O)c1ccc(Br)ccc1)N(CCCO)c1ccccccc1nccc(S)n1)ncc(c(=O)O)ccc1c1cccc' for input: 'C1=NN[C](C(=O)C(=O)Oc1cccc(c1)n1ccnc(O)c1ccc(Br)ccc1)N(CCCO)c1ccccccc1nccc(S)n1)ncc(c(=O)O)ccc1c1cccc'\n",
      " 55%|█████████████████████▉                  | 549/1000 [06:06<03:54,  1.92it/s][19:53:33] SMILES Parse Error: extra close parentheses while parsing: C)/C(=C/c3ccc(CCN)(nc3ncccc3OC)CC3(c3cccccc)nc3)n2)=N(C)C(=O)=O)C(c1cccncc1)C1C(=O)OC\n",
      "CCC(c1ccc(F)cnc\n",
      "[19:53:33] SMILES Parse Error: Failed parsing SMILES 'C)/C(=C/c3ccc(CCN)(nc3ncccc3OC)CC3(c3cccccc)nc3)n2)=N(C)C(=O)=O)C(c1cccncc1)C1C(=O)OC\n",
      "CCC(c1ccc(F)cnc' for input: 'C)/C(=C/c3ccc(CCN)(nc3ncccc3OC)CC3(c3cccccc)nc3)n2)=N(C)C(=O)=O)C(c1cccncc1)C1C(=O)OC\n",
      "CCC(c1ccc(F)cnc'\n",
      " 55%|██████████████████████                  | 550/1000 [06:06<03:47,  1.98it/s][19:53:34] SMILES Parse Error: syntax error while parsing: C1=N2C(C(=O)C(c3ccc(O)ccc3OC[C@H]2[C@]1(CCCO1)c1ccccc(O)nc1)c1ccccc(F)(c2)cc1ccccc1)(1CCO[C@@]2(C1)C1\n",
      "[19:53:34] SMILES Parse Error: Failed parsing SMILES 'C1=N2C(C(=O)C(c3ccc(O)ccc3OC[C@H]2[C@]1(CCCO1)c1ccccc(O)nc1)c1ccccc(F)(c2)cc1ccccc1)(1CCO[C@@]2(C1)C1' for input: 'C1=N2C(C(=O)C(c3ccc(O)ccc3OC[C@H]2[C@]1(CCCO1)c1ccccc(O)nc1)c1ccccc(F)(c2)cc1ccccc1)(1CCO[C@@]2(C1)C1'\n",
      " 55%|██████████████████████                  | 551/1000 [06:07<04:02,  1.86it/s][19:53:34] SMILES Parse Error: extra close parentheses while parsing: C1=[N+](=O)[O-])C(=O)C1CCCC1\n",
      "CCC(c1cccc(O)nc2cccc(O)nc1)c1cccc(O)(c)cc1)n1ccccc(O)n1)c1ccccccc1)n1ccc\n",
      "[19:53:34] SMILES Parse Error: Failed parsing SMILES 'C1=[N+](=O)[O-])C(=O)C1CCCC1\n",
      "CCC(c1cccc(O)nc2cccc(O)nc1)c1cccc(O)(c)cc1)n1ccccc(O)n1)c1ccccccc1)n1ccc' for input: 'C1=[N+](=O)[O-])C(=O)C1CCCC1\n",
      "CCC(c1cccc(O)nc2cccc(O)nc1)c1cccc(O)(c)cc1)n1ccccc(O)n1)c1ccccccc1)n1ccc'\n",
      " 55%|██████████████████████                  | 552/1000 [06:08<03:56,  1.89it/s][19:53:35] SMILES Parse Error: extra close parentheses while parsing: CO[C@H]1c1)NC(=O)N=C[C@@](c1nccc(C)cc1)(=O)nc1ccccc(C)nc1)c1ncccn1)C\n",
      "CC(=O)C1=C(C)NC\n",
      "CC(=O)C12CCNC2\n",
      "C\n",
      "[19:53:35] SMILES Parse Error: Failed parsing SMILES 'CO[C@H]1c1)NC(=O)N=C[C@@](c1nccc(C)cc1)(=O)nc1ccccc(C)nc1)c1ncccn1)C\n",
      "CC(=O)C1=C(C)NC\n",
      "CC(=O)C12CCNC2\n",
      "C' for input: 'CO[C@H]1c1)NC(=O)N=C[C@@](c1nccc(C)cc1)(=O)nc1ccccc(C)nc1)c1ncccn1)C\n",
      "CC(=O)C1=C(C)NC\n",
      "CC(=O)C12CCNC2\n",
      "C'\n",
      " 55%|██████████████████████                  | 553/1000 [06:08<03:58,  1.87it/s][19:53:35] SMILES Parse Error: extra close parentheses while parsing: CCCN(C)C(=O)c1ccc(OC)n(c1)n1c1cccc(Br)ccc2nocc1)c1ccccccccc1(C)C)(O1)c1ccccccc(n)nc1)c1cccccc1)C1C(=O\n",
      "[19:53:35] SMILES Parse Error: Failed parsing SMILES 'CCCN(C)C(=O)c1ccc(OC)n(c1)n1c1cccc(Br)ccc2nocc1)c1ccccccccc1(C)C)(O1)c1ccccccc(n)nc1)c1cccccc1)C1C(=O' for input: 'CCCN(C)C(=O)c1ccc(OC)n(c1)n1c1cccc(Br)ccc2nocc1)c1ccccccccc1(C)C)(O1)c1ccccccc(n)nc1)c1cccccc1)C1C(=O'\n",
      " 55%|██████████████████████▏                 | 554/1000 [06:09<03:49,  1.95it/s][19:53:36] SMILES Parse Error: extra close parentheses while parsing: Cl)cc2)n1c(ncncc()c3ccccc(SC)C(=O)O)cn2)S1(C)(=O)=NN(C(=O)C(C)(C)C\n",
      "CC1=C(C(=O)C1-c2ccc(F)nc2)(c1ccccc\n",
      "[19:53:36] SMILES Parse Error: Failed parsing SMILES 'Cl)cc2)n1c(ncncc()c3ccccc(SC)C(=O)O)cn2)S1(C)(=O)=NN(C(=O)C(C)(C)C\n",
      "CC1=C(C(=O)C1-c2ccc(F)nc2)(c1ccccc' for input: 'Cl)cc2)n1c(ncncc()c3ccccc(SC)C(=O)O)cn2)S1(C)(=O)=NN(C(=O)C(C)(C)C\n",
      "CC1=C(C(=O)C1-c2ccc(F)nc2)(c1ccccc'\n",
      " 56%|██████████████████████▏                 | 555/1000 [06:09<03:53,  1.91it/s][19:53:36] SMILES Parse Error: extra close parentheses while parsing: C/c3c4ccccc3O)CCNC3)/C(=O)C1=C(C)=[C@C@]1(O)CCC(=O)[C@H]1c1ccccc(O)(O)c1)c1cccccc1)N2\n",
      "CC(C)=Oc1ccc2nc\n",
      "[19:53:36] SMILES Parse Error: Failed parsing SMILES 'C/c3c4ccccc3O)CCNC3)/C(=O)C1=C(C)=[C@C@]1(O)CCC(=O)[C@H]1c1ccccc(O)(O)c1)c1cccccc1)N2\n",
      "CC(C)=Oc1ccc2nc' for input: 'C/c3c4ccccc3O)CCNC3)/C(=O)C1=C(C)=[C@C@]1(O)CCC(=O)[C@H]1c1ccccc(O)(O)c1)c1cccccc1)N2\n",
      "CC(C)=Oc1ccc2nc'\n",
      " 56%|██████████████████████▏                 | 556/1000 [06:10<03:47,  1.95it/s][19:53:37] SMILES Parse Error: extra close parentheses while parsing: C3)c2nc2nc(SnCc3ccc(=O)nc3)N2)N1\n",
      "CCC(c1ccccnc)c1)(c1ncccccc2)n1)[nH]nc1ccccc(O)n1)c1ccccc(F)cc1)c1ncc\n",
      "[19:53:37] SMILES Parse Error: Failed parsing SMILES 'C3)c2nc2nc(SnCc3ccc(=O)nc3)N2)N1\n",
      "CCC(c1ccccnc)c1)(c1ncccccc2)n1)[nH]nc1ccccc(O)n1)c1ccccc(F)cc1)c1ncc' for input: 'C3)c2nc2nc(SnCc3ccc(=O)nc3)N2)N1\n",
      "CCC(c1ccccnc)c1)(c1ncccccc2)n1)[nH]nc1ccccc(O)n1)c1ccccc(F)cc1)c1ncc'\n",
      " 56%|██████████████████████▎                 | 557/1000 [06:10<03:58,  1.86it/s][19:53:37] SMILES Parse Error: extra close parentheses while parsing: C[C@H]1c1cccccc1)nc1ccccccc1ccccc1)n1Cc1ccccc1)n1nccc(F)c1cccc2cccc(O)n1)C(=O)(c1ccccc(F)cc1)C\n",
      "CC(=ON\n",
      "[19:53:37] SMILES Parse Error: Failed parsing SMILES 'C[C@H]1c1cccccc1)nc1ccccccc1ccccc1)n1Cc1ccccc1)n1nccc(F)c1cccc2cccc(O)n1)C(=O)(c1ccccc(F)cc1)C\n",
      "CC(=ON' for input: 'C[C@H]1c1cccccc1)nc1ccccccc1ccccc1)n1Cc1ccccc1)n1nccc(F)c1cccc2cccc(O)n1)C(=O)(c1ccccc(F)cc1)C\n",
      "CC(=ON'\n",
      " 56%|██████████████████████▎                 | 558/1000 [06:11<03:50,  1.92it/s][19:53:38] SMILES Parse Error: extra close parentheses while parsing: CO)C(=O)c1ccc(-c2cc(F)cn2)cc1\n",
      "CC1(C)O)c1ccc(-c2c(ncncn2)n1cccc(c)c1)S1=[nH]s(Br)ccc1[nH]c1cccccc1)n1c\n",
      "[19:53:38] SMILES Parse Error: Failed parsing SMILES 'CO)C(=O)c1ccc(-c2cc(F)cn2)cc1\n",
      "CC1(C)O)c1ccc(-c2c(ncncn2)n1cccc(c)c1)S1=[nH]s(Br)ccc1[nH]c1cccccc1)n1c' for input: 'CO)C(=O)c1ccc(-c2cc(F)cn2)cc1\n",
      "CC1(C)O)c1ccc(-c2c(ncncn2)n1cccc(c)c1)S1=[nH]s(Br)ccc1[nH]c1cccccc1)n1c'\n",
      " 56%|██████████████████████▎                 | 559/1000 [06:11<03:57,  1.85it/s][19:53:38] SMILES Parse Error: syntax error while parsing: C@@]1(c2cccccn2)C1CCS(=O)(=O)1)n1ccc(Br)cccc1ncccno2)c1ccccccc1)nccc1(O)[C@@H]1OCCCc21cccnc(C)noc2c1c\n",
      "[19:53:38] SMILES Parse Error: Failed parsing SMILES 'C@@]1(c2cccccn2)C1CCS(=O)(=O)1)n1ccc(Br)cccc1ncccno2)c1ccccccc1)nccc1(O)[C@@H]1OCCCc21cccnc(C)noc2c1c' for input: 'C@@]1(c2cccccn2)C1CCS(=O)(=O)1)n1ccc(Br)cccc1ncccno2)c1ccccccc1)nccc1(O)[C@@H]1OCCCc21cccnc(C)noc2c1c'\n",
      " 56%|██████████████████████▍                 | 560/1000 [06:12<03:48,  1.92it/s][19:53:39] SMILES Parse Error: syntax error while parsing: C@H](c2)N1C(=O)[C@CH]2c1cccc(O)ccc1\n",
      "CC(=O)C1=C(Br)c1cccncn1)c1ccccc(S()(=O)=O)c1nccncc1)n1ncc(C)c(scI\n",
      "[19:53:39] SMILES Parse Error: Failed parsing SMILES 'C@H](c2)N1C(=O)[C@CH]2c1cccc(O)ccc1\n",
      "CC(=O)C1=C(Br)c1cccncn1)c1ccccc(S()(=O)=O)c1nccncc1)n1ncc(C)c(scI' for input: 'C@H](c2)N1C(=O)[C@CH]2c1cccc(O)ccc1\n",
      "CC(=O)C1=C(Br)c1cccncn1)c1ccccc(S()(=O)=O)c1nccncc1)n1ncc(C)c(scI'\n",
      " 56%|██████████████████████▍                 | 561/1000 [06:12<03:51,  1.89it/s][19:53:40] SMILES Parse Error: extra close parentheses while parsing: C(N)=O)C3cccc(F)c3)C1)c1cccscc2c1nccncn1)S1\n",
      "CC(N=C(F)(C)Cn1ccc(F)c2ccccccnc2)nnc1)c1ccccccc1)n1ncccc(\n",
      "[19:53:40] SMILES Parse Error: Failed parsing SMILES 'C(N)=O)C3cccc(F)c3)C1)c1cccscc2c1nccncn1)S1\n",
      "CC(N=C(F)(C)Cn1ccc(F)c2ccccccnc2)nnc1)c1ccccccc1)n1ncccc(' for input: 'C(N)=O)C3cccc(F)c3)C1)c1cccscc2c1nccncn1)S1\n",
      "CC(N=C(F)(C)Cn1ccc(F)c2ccccccnc2)nnc1)c1ccccccc1)n1ncccc('\n",
      " 56%|██████████████████████▍                 | 562/1000 [06:13<03:43,  1.96it/s][19:53:40] SMILES Parse Error: extra close parentheses while parsing: CCc2scn2B)cc1cccccc2c1ncnc(F)(c1)c1ccc(C)no1)c1cccc(F)cc1c1ccccc(O)n1)c1cccccc1)cc1n\n",
      "CC(=O)C1)c1ccccc\n",
      "[19:53:40] SMILES Parse Error: Failed parsing SMILES 'CCc2scn2B)cc1cccccc2c1ncnc(F)(c1)c1ccc(C)no1)c1cccc(F)cc1c1ccccc(O)n1)c1cccccc1)cc1n\n",
      "CC(=O)C1)c1ccccc' for input: 'CCc2scn2B)cc1cccccc2c1ncnc(F)(c1)c1ccc(C)no1)c1cccc(F)cc1c1ccccc(O)n1)c1cccccc1)cc1n\n",
      "CC(=O)C1)c1ccccc'\n",
      " 56%|██████████████████████▌                 | 563/1000 [06:13<03:48,  1.91it/s][19:53:41] SMILES Parse Error: extra close parentheses while parsing: C-c3ccco3)S2)S1(=O)=O\n",
      "CCC(c1ccnc(O)n2Cc1Fc1cccccc1)n1cccc(n)c(O)(C)Oc3cccc(O)cc21ncnc(=Oc2cccc(OC(F)=\n",
      "[19:53:41] SMILES Parse Error: Failed parsing SMILES 'C-c3ccco3)S2)S1(=O)=O\n",
      "CCC(c1ccnc(O)n2Cc1Fc1cccccc1)n1cccc(n)c(O)(C)Oc3cccc(O)cc21ncnc(=Oc2cccc(OC(F)=' for input: 'C-c3ccco3)S2)S1(=O)=O\n",
      "CCC(c1ccnc(O)n2Cc1Fc1cccccc1)n1cccc(n)c(O)(C)Oc3cccc(O)cc21ncnc(=Oc2cccc(OC(F)='\n",
      " 56%|██████████████████████▌                 | 564/1000 [06:14<03:42,  1.96it/s][19:53:41] SMILES Parse Error: extra close parentheses while parsing: C)(c2ccccc3OC[C@H]32)cc1ccccccc1)n1ccccccc(c1)(cc1nc2cccccc2ccsccc2ccccc1)ncccc1)(2)C(=O\n",
      "CC(=O)C[C@H]\n",
      "[19:53:41] SMILES Parse Error: Failed parsing SMILES 'C)(c2ccccc3OC[C@H]32)cc1ccccccc1)n1ccccccc(c1)(cc1nc2cccccc2ccsccc2ccccc1)ncccc1)(2)C(=O\n",
      "CC(=O)C[C@H]' for input: 'C)(c2ccccc3OC[C@H]32)cc1ccccccc1)n1ccccccc(c1)(cc1nc2cccccc2ccsccc2ccccc1)ncccc1)(2)C(=O\n",
      "CC(=O)C[C@H]'\n",
      " 56%|██████████████████████▌                 | 565/1000 [06:14<03:45,  1.93it/s][19:53:42] SMILES Parse Error: syntax error while parsing: Co1=N-/C(=C/C(=O)=C(C(F)(F)F)SC1(SC)C(=O)NC2=OF)c1ccccccc1)ccccnc1\n",
      "CCC1\n",
      "CC(=O)C1=C(C(=O)N(C)CCN(CCCO)\n",
      "[19:53:42] SMILES Parse Error: Failed parsing SMILES 'Co1=N-/C(=C/C(=O)=C(C(F)(F)F)SC1(SC)C(=O)NC2=OF)c1ccccccc1)ccccnc1\n",
      "CCC1\n",
      "CC(=O)C1=C(C(=O)N(C)CCN(CCCO)' for input: 'Co1=N-/C(=C/C(=O)=C(C(F)(F)F)SC1(SC)C(=O)NC2=OF)c1ccccccc1)ccccnc1\n",
      "CCC1\n",
      "CC(=O)C1=C(C(=O)N(C)CCN(CCCO)'\n",
      " 57%|██████████████████████▋                 | 566/1000 [06:15<03:38,  1.98it/s][19:53:42] SMILES Parse Error: extra close parentheses while parsing: C(c1ccc(Br)ccc1)(=O)n1cccc(Br)c2cccccc2n1cccccc2c1cccncc1)n(c1)c1cccccc2cc(cncso2c1nc(c2cccsc3c(C)[nH\n",
      "[19:53:42] SMILES Parse Error: Failed parsing SMILES 'C(c1ccc(Br)ccc1)(=O)n1cccc(Br)c2cccccc2n1cccccc2c1cccncc1)n(c1)c1cccccc2cc(cncso2c1nc(c2cccsc3c(C)[nH' for input: 'C(c1ccc(Br)ccc1)(=O)n1cccc(Br)c2cccccc2n1cccccc2c1cccncc1)n(c1)c1cccccc2cc(cncso2c1nc(c2cccsc3c(C)[nH'\n",
      " 57%|██████████████████████▋                 | 567/1000 [06:15<03:47,  1.90it/s][19:53:43] SMILES Parse Error: extra close parentheses while parsing: CO4)[C@l]2(CC(=O)N(c3ccc(O)nc(F)c3)CCC(c3ccccn3)n2C)CC1c1ccccc(O)cc1)c1ccc[nHc1)n1ccccc(F)cn1)=O\n",
      "CCC(\n",
      "[19:53:43] SMILES Parse Error: Failed parsing SMILES 'CO4)[C@l]2(CC(=O)N(c3ccc(O)nc(F)c3)CCC(c3ccccn3)n2C)CC1c1ccccc(O)cc1)c1ccc[nHc1)n1ccccc(F)cn1)=O\n",
      "CCC(' for input: 'CO4)[C@l]2(CC(=O)N(c3ccc(O)nc(F)c3)CCC(c3ccccn3)n2C)CC1c1ccccc(O)cc1)c1ccc[nHc1)n1ccccc(F)cn1)=O\n",
      "CCC('\n",
      " 57%|██████████████████████▋                 | 568/1000 [06:16<03:39,  1.97it/s][19:53:43] SMILES Parse Error: extra close parentheses while parsing: CCCOC)2=O)cc1nN2ccccc2O)n1ccnc(C)cc1nc(c()ccccc2)Nc1ncncc([nH]1)c1cccncc1)c1ncc[nH]1)c1cccccc1)c1cccc\n",
      "[19:53:43] SMILES Parse Error: Failed parsing SMILES 'CCCOC)2=O)cc1nN2ccccc2O)n1ccnc(C)cc1nc(c()ccccc2)Nc1ncncc([nH]1)c1cccncc1)c1ncc[nH]1)c1cccccc1)c1cccc' for input: 'CCCOC)2=O)cc1nN2ccccc2O)n1ccnc(C)cc1nc(c()ccccc2)Nc1ncncc([nH]1)c1cccncc1)c1ncc[nH]1)c1cccccc1)c1cccc'\n",
      " 57%|██████████████████████▊                 | 569/1000 [06:16<03:45,  1.91it/s][19:53:44] SMILES Parse Error: syntax error while parsing: C[@H]1c1ccccc(O)cc1ncc(NS(C)(=O)=O)nn1)c1ccccc(F)c1C1)c1ccccccc2c1CCO[C@H]2COC[C@H]1n1cccnc1)c1cccccc\n",
      "[19:53:44] SMILES Parse Error: Failed parsing SMILES 'C[@H]1c1ccccc(O)cc1ncc(NS(C)(=O)=O)nn1)c1ccccc(F)c1C1)c1ccccccc2c1CCO[C@H]2COC[C@H]1n1cccnc1)c1cccccc' for input: 'C[@H]1c1ccccc(O)cc1ncc(NS(C)(=O)=O)nn1)c1ccccc(F)c1C1)c1ccccccc2c1CCO[C@H]2COC[C@H]1n1cccnc1)c1cccccc'\n",
      " 57%|██████████████████████▊                 | 570/1000 [06:17<03:42,  1.93it/s][19:53:44] SMILES Parse Error: extra close parentheses while parsing: C3c4ccccO3)S1\n",
      "CC1=C(CCn2ccnc(N)(=O)c2ccccn2)S1\n",
      "CC(=O)C1=NN(C(=O)C(c2cccc(O)c(O)n2)c(=O)no1)c1ccccccc1\n",
      "[19:53:44] SMILES Parse Error: Failed parsing SMILES 'C3c4ccccO3)S1\n",
      "CC1=C(CCn2ccnc(N)(=O)c2ccccn2)S1\n",
      "CC(=O)C1=NN(C(=O)C(c2cccc(O)c(O)n2)c(=O)no1)c1ccccccc1' for input: 'C3c4ccccO3)S1\n",
      "CC1=C(CCn2ccnc(N)(=O)c2ccccn2)S1\n",
      "CC(=O)C1=NN(C(=O)C(c2cccc(O)c(O)n2)c(=O)no1)c1ccccccc1'\n",
      " 57%|██████████████████████▊                 | 571/1000 [06:18<03:51,  1.86it/s][19:53:45] SMILES Parse Error: extra close parentheses while parsing: CC(=O)Cn1ccc(C)nc(Br)c1ccccccc1ccccccc1ccccc1)ncc2cc1ccccoc2c(=O)n1Cc1cccccc1)n1nccnc)c1)NC(=O)n1cccc\n",
      "[19:53:45] SMILES Parse Error: Failed parsing SMILES 'CC(=O)Cn1ccc(C)nc(Br)c1ccccccc1ccccccc1ccccc1)ncc2cc1ccccoc2c(=O)n1Cc1cccccc1)n1nccnc)c1)NC(=O)n1cccc' for input: 'CC(=O)Cn1ccc(C)nc(Br)c1ccccccc1ccccccc1ccccc1)ncc2cc1ccccoc2c(=O)n1Cc1cccccc1)n1nccnc)c1)NC(=O)n1cccc'\n",
      " 57%|██████████████████████▉                 | 572/1000 [06:18<03:47,  1.88it/s][19:53:45] SMILES Parse Error: extra close parentheses while parsing: C[C@H]1c1ncco1)n1ccc(nccncc2)c1cccc(F)cc1)N1COc1nccc(C)c(Br)cc1)n1ccccnsc2c(nccccc2c)n1)C1c1cccccc(F)\n",
      "[19:53:45] SMILES Parse Error: Failed parsing SMILES 'C[C@H]1c1ncco1)n1ccc(nccncc2)c1cccc(F)cc1)N1COc1nccc(C)c(Br)cc1)n1ccccnsc2c(nccccc2c)n1)C1c1cccccc(F)' for input: 'C[C@H]1c1ncco1)n1ccc(nccncc2)c1cccc(F)cc1)N1COc1nccc(C)c(Br)cc1)n1ccccnsc2c(nccccc2c)n1)C1c1cccccc(F)'\n",
      " 57%|██████████████████████▉                 | 573/1000 [06:18<03:39,  1.95it/s][19:53:46] SMILES Parse Error: extra close parentheses while parsing: C[C@H]2Cc2ccco2)C(c1cccccnc1)n1Cc1ccccco1)c1cccc(Br)cccOc1)n1ncc(F)ccn1)N[C@H]1CC@H]1cccn(O)c1cccccc(\n",
      "[19:53:46] SMILES Parse Error: Failed parsing SMILES 'C[C@H]2Cc2ccco2)C(c1cccccnc1)n1Cc1ccccco1)c1cccc(Br)cccOc1)n1ncc(F)ccn1)N[C@H]1CC@H]1cccn(O)c1cccccc(' for input: 'C[C@H]2Cc2ccco2)C(c1cccccnc1)n1Cc1ccccco1)c1cccc(Br)cccOc1)n1ncc(F)ccn1)N[C@H]1CC@H]1cccn(O)c1cccccc('\n",
      " 57%|██████████████████████▉                 | 574/1000 [06:19<03:45,  1.89it/s][19:53:46] SMILES Parse Error: extra close parentheses while parsing: C1)c1ccc(Br)ncc([nH@H]c2scccc2ncc(Br)ncc1)n1ccccc(C)(c2cccccc2)nc1)c1cccc(F)(F)c1cccccc1cccccc1)c1ccc\n",
      "[19:53:46] SMILES Parse Error: Failed parsing SMILES 'C1)c1ccc(Br)ncc([nH@H]c2scccc2ncc(Br)ncc1)n1ccccc(C)(c2cccccc2)nc1)c1cccc(F)(F)c1cccccc1cccccc1)c1ccc' for input: 'C1)c1ccc(Br)ncc([nH@H]c2scccc2ncc(Br)ncc1)n1ccccc(C)(c2cccccc2)nc1)c1cccc(F)(F)c1cccccc1cccccc1)c1ccc'\n",
      " 57%|███████████████████████                 | 575/1000 [06:20<03:38,  1.94it/s][19:53:47] SMILES Parse Error: extra close parentheses while parsing: C(=O)Cc3cccnc)n3)C2)c1-c1ccccncc1)cccc1)c1cccccc(F)c1C(F)(F)F)c1cccccc(O)(C)c1ccccc(O)n1)c1cccccc1)n1\n",
      "[19:53:47] SMILES Parse Error: Failed parsing SMILES 'C(=O)Cc3cccnc)n3)C2)c1-c1ccccncc1)cccc1)c1cccccc(F)c1C(F)(F)F)c1cccccc(O)(C)c1ccccc(O)n1)c1cccccc1)n1' for input: 'C(=O)Cc3cccnc)n3)C2)c1-c1ccccncc1)cccc1)c1cccccc(F)c1C(F)(F)F)c1cccccc(O)(C)c1ccccc(O)n1)c1cccccc1)n1'\n",
      " 58%|███████████████████████                 | 576/1000 [06:20<03:32,  1.99it/s][19:53:47] SMILES Parse Error: extra close parentheses while parsing: CCOC1CCC(OCCO1)C12c1ccccc(N)(=O)n1)c1cccccc1)n1cccccccc(c)cc1)N[C@H](c1ccccn1)n1ccccc(c)n1)c1cccccc2c\n",
      "[19:53:47] SMILES Parse Error: Failed parsing SMILES 'CCOC1CCC(OCCO1)C12c1ccccc(N)(=O)n1)c1cccccc1)n1cccccccc(c)cc1)N[C@H](c1ccccn1)n1ccccc(c)n1)c1cccccc2c' for input: 'CCOC1CCC(OCCO1)C12c1ccccc(N)(=O)n1)c1cccccc1)n1cccccccc(c)cc1)N[C@H](c1ccccn1)n1ccccc(c)n1)c1cccccc2c'\n",
      " 58%|███████████████████████                 | 577/1000 [06:21<03:41,  1.91it/s][19:53:48] SMILES Parse Error: syntax error while parsing: C(=O)C=C(c1nc+nn(C)[nH]1)c1cccsc1)c1nccsc1)C1(OC)CC1)c1cccccccc1)n1cccccc2c1cccBcc3ccccc2c1ncccncH(F)\n",
      "[19:53:48] SMILES Parse Error: Failed parsing SMILES 'C(=O)C=C(c1nc+nn(C)[nH]1)c1cccsc1)c1nccsc1)C1(OC)CC1)c1cccccccc1)n1cccccc2c1cccBcc3ccccc2c1ncccncH(F)' for input: 'C(=O)C=C(c1nc+nn(C)[nH]1)c1cccsc1)c1nccsc1)C1(OC)CC1)c1cccccccc1)n1cccccc2c1cccBcc3ccccc2c1ncccncH(F)'\n",
      " 58%|███████████████████████                 | 578/1000 [06:21<03:34,  1.97it/s][19:53:48] SMILES Parse Error: extra close parentheses while parsing: Ccs2ccocc2)sc1\n",
      "CC(=O)c1ncc2nn(C)@2cncc((=O)n(c2)ccccnn2)n1cccccc2c(=O)/c1ccnccc2)\n",
      "CCOC(=O)C1NC(=O)[C@\n",
      "[19:53:48] SMILES Parse Error: Failed parsing SMILES 'Ccs2ccocc2)sc1\n",
      "CC(=O)c1ncc2nn(C)@2cncc((=O)n(c2)ccccnn2)n1cccccc2c(=O)/c1ccnccc2)\n",
      "CCOC(=O)C1NC(=O)[C@' for input: 'Ccs2ccocc2)sc1\n",
      "CC(=O)c1ncc2nn(C)@2cncc((=O)n(c2)ccccnn2)n1cccccc2c(=O)/c1ccnccc2)\n",
      "CCOC(=O)C1NC(=O)[C@'\n",
      " 58%|███████████████████████▏                | 579/1000 [06:22<03:29,  2.01it/s][19:53:49] SMILES Parse Error: syntax error while parsing: C(=O)/C(=B/r/c3cccoc3)S2(=O))(])c1\n",
      "CCCOC(F)c1cccccc1CC1=O)nnc1Cc1ccncc(c)c1)n1)C(=O)O)c1cccsc1)C(=O)n\n",
      "[19:53:49] SMILES Parse Error: Failed parsing SMILES 'C(=O)/C(=B/r/c3cccoc3)S2(=O))(])c1\n",
      "CCCOC(F)c1cccccc1CC1=O)nnc1Cc1ccncc(c)c1)n1)C(=O)O)c1cccsc1)C(=O)n' for input: 'C(=O)/C(=B/r/c3cccoc3)S2(=O))(])c1\n",
      "CCCOC(F)c1cccccc1CC1=O)nnc1Cc1ccncc(c)c1)n1)C(=O)O)c1cccsc1)C(=O)n'\n",
      " 58%|███████████████████████▏                | 580/1000 [06:22<03:39,  1.92it/s][19:53:49] SMILES Parse Error: extra close parentheses while parsing: CO)C(=O)c1cccccn1)(=O)C(F)(F)(F)F)c1ncccnc(O)n1)c1ccccc(O)nc1)c1cccccn1)n1cccccccccc2cc(c1)c1cccccc1)\n",
      "[19:53:49] SMILES Parse Error: Failed parsing SMILES 'CO)C(=O)c1cccccn1)(=O)C(F)(F)(F)F)c1ncccnc(O)n1)c1ccccc(O)nc1)c1cccccn1)n1cccccccccc2cc(c1)c1cccccc1)' for input: 'CO)C(=O)c1cccccn1)(=O)C(F)(F)(F)F)c1ncccnc(O)n1)c1ccccc(O)nc1)c1cccccn1)n1cccccccccc2cc(c1)c1cccccc1)'\n",
      " 58%|███████████████████████▏                | 581/1000 [06:23<03:34,  1.95it/s][19:53:50] SMILES Parse Error: extra close parentheses while parsing: Cc3c(F)ccc(O)c3)C(=O)C1=N[C@@H]2[C@@]1(CCCO)ncc1)c1cccccc)c1)n1ccccc(C)n1\n",
      "CC(CCNC(C)=O)[C@@H](O)c1ccc\n",
      "[19:53:50] SMILES Parse Error: Failed parsing SMILES 'Cc3c(F)ccc(O)c3)C(=O)C1=N[C@@H]2[C@@]1(CCCO)ncc1)c1cccccc)c1)n1ccccc(C)n1\n",
      "CC(CCNC(C)=O)[C@@H](O)c1ccc' for input: 'Cc3c(F)ccc(O)c3)C(=O)C1=N[C@@H]2[C@@]1(CCCO)ncc1)c1cccccc)c1)n1ccccc(C)n1\n",
      "CC(CCNC(C)=O)[C@@H](O)c1ccc'\n",
      " 58%|███████████████████████▎                | 582/1000 [06:23<03:30,  1.99it/s][19:53:50] SMILES Parse Error: extra close parentheses while parsing: Cc(c1)[C@H]2c1ccccnc2)n1ccccc(F)c1)C(n1cccc(O)n1)c1cccccc(=O)n1Cc1ccn(C)nc()c1)c1cccccc(C)n1cccc2c(c1\n",
      "[19:53:50] SMILES Parse Error: Failed parsing SMILES 'Cc(c1)[C@H]2c1ccccnc2)n1ccccc(F)c1)C(n1cccc(O)n1)c1cccccc(=O)n1Cc1ccn(C)nc()c1)c1cccccc(C)n1cccc2c(c1' for input: 'Cc(c1)[C@H]2c1ccccnc2)n1ccccc(F)c1)C(n1cccc(O)n1)c1cccccc(=O)n1Cc1ccn(C)nc()c1)c1cccccc(C)n1cccc2c(c1'\n",
      " 58%|███████████████████████▎                | 583/1000 [06:24<03:39,  1.90it/s][19:53:51] SMILES Parse Error: unclosed ring for input: 'CCC2\n",
      "CC1=C(C(=O)C1=C(CC1C)C2)[nH]c1ccccc(O)c1)N(CCCN)C(=O)c1ccccc(Br)cc1s\n",
      "CC(=O)C(C)=C\\COC(=O)C1Cc1cc'\n",
      " 58%|███████████████████████▎                | 584/1000 [06:24<03:34,  1.94it/s][19:53:51] SMILES Parse Error: extra close parentheses while parsing: Cl)cc1)C1CC1\n",
      "CCC(=O)C1CCNC(=O)CC1)c1cccccc1)c1cccc(F)cncn1)c1cccccc1c1nccccc(c)c(O)n1)c1cccccn1)[nH]n\n",
      "[19:53:51] SMILES Parse Error: Failed parsing SMILES 'Cl)cc1)C1CC1\n",
      "CCC(=O)C1CCNC(=O)CC1)c1cccccc1)c1cccc(F)cncn1)c1cccccc1c1nccccc(c)c(O)n1)c1cccccn1)[nH]n' for input: 'Cl)cc1)C1CC1\n",
      "CCC(=O)C1CCNC(=O)CC1)c1cccccc1)c1cccc(F)cncn1)c1cccccc1c1nccccc(c)c(O)n1)c1cccccn1)[nH]n'\n",
      " 58%|███████████████████████▍                | 585/1000 [06:25<03:28,  1.99it/s][19:53:52] SMILES Parse Error: syntax error while parsing: C(=O)[)sc(-c2cnc(C)cc2)nn1)c1cccccc1)ncccc1c1cccccc1)ncccnc2c1ccccc2c(=O)n1)c1cccccc(F)(c1)ncc1(1)=CC\n",
      "[19:53:52] SMILES Parse Error: Failed parsing SMILES 'C(=O)[)sc(-c2cnc(C)cc2)nn1)c1cccccc1)ncccc1c1cccccc1)ncccnc2c1ccccc2c(=O)n1)c1cccccc(F)(c1)ncc1(1)=CC' for input: 'C(=O)[)sc(-c2cnc(C)cc2)nn1)c1cccccc1)ncccc1c1cccccc1)ncccnc2c1ccccc2c(=O)n1)c1cccccc(F)(c1)ncc1(1)=CC'\n",
      " 59%|███████████████████████▍                | 586/1000 [06:25<03:49,  1.81it/s][19:53:53] SMILES Parse Error: ring closure 1 duplicates bond between atom 1 and atom 2 for input: 'CC1c1cccnc(N)(=O)c1N(CCO)C(=O)C(C)(C)C\n",
      "CCC(=O)N1Cc2c(c(cccc(F)cc1)N2\n",
      "CCC(c1cccnc1)C(=O)c1cccsc1CC(F)('\n",
      " 59%|███████████████████████▍                | 587/1000 [06:26<03:39,  1.88it/s][19:53:53] SMILES Parse Error: extra close parentheses while parsing: C(C)=O)[C@](C)(c1ccccccc)n1)n1ccccncc1)C(=O)c1ccccnn1C)n1ccc(C)c(Br)ccnc1)c1nccccFc(O)n1)n1nccnc(C)c1\n",
      "[19:53:53] SMILES Parse Error: Failed parsing SMILES 'C(C)=O)[C@](C)(c1ccccccc)n1)n1ccccncc1)C(=O)c1ccccnn1C)n1ccc(C)c(Br)ccnc1)c1nccccFc(O)n1)n1nccnc(C)c1' for input: 'C(C)=O)[C@](C)(c1ccccccc)n1)n1ccccncc1)C(=O)c1ccccnn1C)n1ccc(C)c(Br)ccnc1)c1nccccFc(O)n1)n1nccnc(C)c1'\n",
      " 59%|███████████████████████▌                | 588/1000 [06:26<03:31,  1.95it/s][19:53:54] SMILES Parse Error: extra close parentheses while parsing: Cc2cccc(F)c2)C(=O)=O)CC1)c1ncNC\n",
      "CCC(c1cccc(N)nc2c(C)n1Cc1cccnc(C)n1c1ccccc()n=c3ccccc(Br)c2)n1cc1sccc\n",
      "[19:53:54] SMILES Parse Error: Failed parsing SMILES 'Cc2cccc(F)c2)C(=O)=O)CC1)c1ncNC\n",
      "CCC(c1cccc(N)nc2c(C)n1Cc1cccnc(C)n1c1ccccc()n=c3ccccc(Br)c2)n1cc1sccc' for input: 'Cc2cccc(F)c2)C(=O)=O)CC1)c1ncNC\n",
      "CCC(c1cccc(N)nc2c(C)n1Cc1cccnc(C)n1c1ccccc()n=c3ccccc(Br)c2)n1cc1sccc'\n",
      " 59%|███████████████████████▌                | 589/1000 [06:27<03:37,  1.89it/s][19:53:54] SMILES Parse Error: extra close parentheses while parsing: C/c3ccc(Br)cc3)S2)S1)(=O)=N[C@H]1c1ccc(O)nc1)c1ccccc1\n",
      "CCC(NC(=O)C(=O)C1=C(C)NC(=S)NC1c1ccccnc1)c1cccc\n",
      "[19:53:54] SMILES Parse Error: Failed parsing SMILES 'C/c3ccc(Br)cc3)S2)S1)(=O)=N[C@H]1c1ccc(O)nc1)c1ccccc1\n",
      "CCC(NC(=O)C(=O)C1=C(C)NC(=S)NC1c1ccccnc1)c1cccc' for input: 'C/c3ccc(Br)cc3)S2)S1)(=O)=N[C@H]1c1ccc(O)nc1)c1ccccc1\n",
      "CCC(NC(=O)C(=O)C1=C(C)NC(=S)NC1c1ccccnc1)c1cccc'\n",
      " 59%|███████████████████████▌                | 590/1000 [06:27<03:30,  1.94it/s][19:53:55] SMILES Parse Error: unclosed ring for input: 'CCS23\n",
      "CC(=O)C1=O)S1(C)C(=O)NC1ccc(O)nc1)c1ccccc(n1)c1cc(cccccc2ccccccc1)c1nccccn1)ncc1)c1ccccc(O)(C(='\n",
      " 59%|███████████████████████▋                | 591/1000 [06:28<03:37,  1.88it/s][19:53:55] SMILES Parse Error: extra close parentheses while parsing: CC(=O)c1ccc(C(C)(C)C)cs1)N2\n",
      "CCC(C)C(=O)C(=O)C1=C(C)(C)cnc(C)c1ccccnc1)n1S)(C)(=)c1cccc(Br)ccc1)NCc1cc\n",
      "[19:53:55] SMILES Parse Error: Failed parsing SMILES 'CC(=O)c1ccc(C(C)(C)C)cs1)N2\n",
      "CCC(C)C(=O)C(=O)C1=C(C)(C)cnc(C)c1ccccnc1)n1S)(C)(=)c1cccc(Br)ccc1)NCc1cc' for input: 'CC(=O)c1ccc(C(C)(C)C)cs1)N2\n",
      "CCC(C)C(=O)C(=O)C1=C(C)(C)cnc(C)c1ccccnc1)n1S)(C)(=)c1cccc(Br)ccc1)NCc1cc'\n",
      " 59%|███████████████████████▋                | 592/1000 [06:28<03:29,  1.95it/s][19:53:56] SMILES Parse Error: syntax error while parsing: C(F)=[+](r)C(=O)C[C@@]1(C)CCCO1c1ccccc1\n",
      "CCC(c1nc\\ccc(F)C(@H/c1ccccc1)nOc1cccc(O)ncc2cccccc12)C1CC1(C)\n",
      "[19:53:56] SMILES Parse Error: Failed parsing SMILES 'C(F)=[+](r)C(=O)C[C@@]1(C)CCCO1c1ccccc1\n",
      "CCC(c1nc\\ccc(F)C(@H/c1ccccc1)nOc1cccc(O)ncc2cccccc12)C1CC1(C)' for input: 'C(F)=[+](r)C(=O)C[C@@]1(C)CCCO1c1ccccc1\n",
      "CCC(c1nc\\ccc(F)C(@H/c1ccccc1)nOc1cccc(O)ncc2cccccc12)C1CC1(C)'\n",
      " 59%|███████████████████████▋                | 593/1000 [06:29<03:24,  1.99it/s][19:53:56] SMILES Parse Error: extra close parentheses while parsing: CNCC3=NC(N)C(=O)C(C)(c2cccccc3)n2c1ncccnc2c1Cc1cccs1)S(=)(=O)C(=O)=O)C(=O)c1cccccn1CC)Cc1ccccnc1)C1(C\n",
      "[19:53:56] SMILES Parse Error: Failed parsing SMILES 'CNCC3=NC(N)C(=O)C(C)(c2cccccc3)n2c1ncccnc2c1Cc1cccs1)S(=)(=O)C(=O)=O)C(=O)c1cccccn1CC)Cc1ccccnc1)C1(C' for input: 'CNCC3=NC(N)C(=O)C(C)(c2cccccc3)n2c1ncccnc2c1Cc1cccs1)S(=)(=O)C(=O)=O)C(=O)c1cccccn1CC)Cc1ccccnc1)C1(C'\n",
      " 59%|███████████████████████▊                | 594/1000 [06:29<03:30,  1.93it/s][19:53:57] SMILES Parse Error: syntax error while parsing: CC1c1cccsc1[C@H](=O)C1nccc(C)c(4)nc(-c3ccc(N2)=C(C)=O)C1c1cccccn1)c1nccncn2)Cc1cccc(F)cc1)nnc1ccc(CC)\n",
      "[19:53:57] SMILES Parse Error: Failed parsing SMILES 'CC1c1cccsc1[C@H](=O)C1nccc(C)c(4)nc(-c3ccc(N2)=C(C)=O)C1c1cccccn1)c1nccncn2)Cc1cccc(F)cc1)nnc1ccc(CC)' for input: 'CC1c1cccsc1[C@H](=O)C1nccc(C)c(4)nc(-c3ccc(N2)=C(C)=O)C1c1cccccn1)c1nccncn2)Cc1cccc(F)cc1)nnc1ccc(CC)'\n",
      " 60%|███████████████████████▊                | 595/1000 [06:30<03:24,  1.98it/s][19:53:57] SMILES Parse Error: extra close parentheses while parsing: C(=O)O)c3ccccc4)n1)[nH]1c1ccc(Br)cnc1)n1ccccc(C)(C)=N)cc1nccnc(-c3cccc(O)nc(C)C)nc2c1Cc1cccc(O)(F)c1c\n",
      "[19:53:57] SMILES Parse Error: Failed parsing SMILES 'C(=O)O)c3ccccc4)n1)[nH]1c1ccc(Br)cnc1)n1ccccc(C)(C)=N)cc1nccnc(-c3cccc(O)nc(C)C)nc2c1Cc1cccc(O)(F)c1c' for input: 'C(=O)O)c3ccccc4)n1)[nH]1c1ccc(Br)cnc1)n1ccccc(C)(C)=N)cc1nccnc(-c3cccc(O)nc(C)C)nc2c1Cc1cccc(O)(F)c1c'\n",
      " 60%|███████████████████████▊                | 596/1000 [06:30<03:28,  1.94it/s][19:53:58] SMILES Parse Error: extra close parentheses while parsing: C(=S)NC[C@H]2C1(Cc1ccccccnS)n1)c1ccccccOc(n2)nnc1ncccccc)c1)n1ccccncccc2c1ccc(S(()(=O)=O)ccc21)n1cccc\n",
      "[19:53:58] SMILES Parse Error: Failed parsing SMILES 'C(=S)NC[C@H]2C1(Cc1ccccccnS)n1)c1ccccccOc(n2)nnc1ncccccc)c1)n1ccccncccc2c1ccc(S(()(=O)=O)ccc21)n1cccc' for input: 'C(=S)NC[C@H]2C1(Cc1ccccccnS)n1)c1ccccccOc(n2)nnc1ncccccc)c1)n1ccccncccc2c1ccc(S(()(=O)=O)ccc21)n1cccc'\n",
      " 60%|███████████████████████▉                | 597/1000 [06:31<03:22,  1.99it/s][19:53:58] SMILES Parse Error: extra close parentheses while parsing: C2=O)C(F)(F)C1c1ccccccc1)c1nccncc(C)(F)c1nc(-c2ccn2)cncc1)n1cccnc(C)c1cccccc1)nc1ccc(F)(c3cccc([N+](=\n",
      "[19:53:58] SMILES Parse Error: Failed parsing SMILES 'C2=O)C(F)(F)C1c1ccccccc1)c1nccncc(C)(F)c1nc(-c2ccn2)cncc1)n1cccnc(C)c1cccccc1)nc1ccc(F)(c3cccc([N+](=' for input: 'C2=O)C(F)(F)C1c1ccccccc1)c1nccncc(C)(F)c1nc(-c2ccn2)cncc1)n1cccnc(C)c1cccccc1)nc1ccc(F)(c3cccc([N+](='\n",
      " 60%|███████████████████████▉                | 598/1000 [06:31<03:32,  1.89it/s][19:53:59] SMILES Parse Error: syntax error while parsing: C@H]2c2cccccc1)sc2c1CC(=O)CC1CCOCCO\n",
      "CC(=O)C1=C(CS(+1(=O)(O)(c1cccccc1)(=n)c1Ccccc1)(c1)nccc(O)c1)cocc\n",
      "[19:53:59] SMILES Parse Error: Failed parsing SMILES 'C@H]2c2cccccc1)sc2c1CC(=O)CC1CCOCCO\n",
      "CC(=O)C1=C(CS(+1(=O)(O)(c1cccccc1)(=n)c1Ccccc1)(c1)nccc(O)c1)cocc' for input: 'C@H]2c2cccccc1)sc2c1CC(=O)CC1CCOCCO\n",
      "CC(=O)C1=C(CS(+1(=O)(O)(c1cccccc1)(=n)c1Ccccc1)(c1)nccc(O)c1)cocc'\n",
      " 60%|███████████████████████▉                | 599/1000 [06:32<03:26,  1.94it/s][19:53:59] SMILES Parse Error: extra close parentheses while parsing: Cn2ccc(=O)nc2cc(C)noc3cc[nH]c4C)c3cccccc34)[nH]nc2N1\n",
      "CC(=O)C1=N(C(=O)C(C)=O)Nc1ccccc(O)(C)c[nH]1)(=O)\n",
      "[19:53:59] SMILES Parse Error: Failed parsing SMILES 'Cn2ccc(=O)nc2cc(C)noc3cc[nH]c4C)c3cccccc34)[nH]nc2N1\n",
      "CC(=O)C1=N(C(=O)C(C)=O)Nc1ccccc(O)(C)c[nH]1)(=O)' for input: 'Cn2ccc(=O)nc2cc(C)noc3cc[nH]c4C)c3cccccc34)[nH]nc2N1\n",
      "CC(=O)C1=N(C(=O)C(C)=O)Nc1ccccc(O)(C)c[nH]1)(=O)'\n",
      " 60%|████████████████████████                | 600/1000 [06:32<03:30,  1.90it/s][19:54:00] SMILES Parse Error: extra close parentheses while parsing: C)C1c1ccccc(O)c1c1cccncn1)n1cc(Brccc]cc2ccncc(n()cc1)C2=NCC(=O)c1nccccn1)n1ccccc(n2)ccc()ncc1)c1ccccc\n",
      "[19:54:00] SMILES Parse Error: Failed parsing SMILES 'C)C1c1ccccc(O)c1c1cccncn1)n1cc(Brccc]cc2ccncc(n()cc1)C2=NCC(=O)c1nccccn1)n1ccccc(n2)ccc()ncc1)c1ccccc' for input: 'C)C1c1ccccc(O)c1c1cccncn1)n1cc(Brccc]cc2ccncc(n()cc1)C2=NCC(=O)c1nccccn1)n1ccccc(n2)ccc()ncc1)c1ccccc'\n",
      " 60%|████████████████████████                | 601/1000 [06:33<03:22,  1.97it/s][19:54:00] SMILES Parse Error: extra close parentheses while parsing: C)C2)c1Cs(ncc2ccccc1)ncn1)c1cccccc1n(cc1)(c1ccccc(O)(c)cc)n1)c1cccccc1c(c1)nnccc3c1ccc(c)cc(O)(=C/c\\c\n",
      "[19:54:00] SMILES Parse Error: Failed parsing SMILES 'C)C2)c1Cs(ncc2ccccc1)ncn1)c1cccccc1n(cc1)(c1ccccc(O)(c)cc)n1)c1cccccc1c(c1)nnccc3c1ccc(c)cc(O)(=C/c\\c' for input: 'C)C2)c1Cs(ncc2ccccc1)ncn1)c1cccccc1n(cc1)(c1ccccc(O)(c)cc)n1)c1cccccc1c(c1)nnccc3c1ccc(c)cc(O)(=C/c\\c'\n",
      " 60%|████████████████████████                | 602/1000 [06:34<03:27,  1.92it/s][19:54:01] SMILES Parse Error: extra close parentheses while parsing: C#N)(c2ncc[nH]Oc3)ccccc2)S1(O)C(=O)N1CCOC(c1ccccc(O)(C)(F)n1)c1sccc(C(F)(C)O)ccc1F)n1cccc(Br)ccc1F)CC\n",
      "[19:54:01] SMILES Parse Error: Failed parsing SMILES 'C#N)(c2ncc[nH]Oc3)ccccc2)S1(O)C(=O)N1CCOC(c1ccccc(O)(C)(F)n1)c1sccc(C(F)(C)O)ccc1F)n1cccc(Br)ccc1F)CC' for input: 'C#N)(c2ncc[nH]Oc3)ccccc2)S1(O)C(=O)N1CCOC(c1ccccc(O)(C)(F)n1)c1sccc(C(F)(C)O)ccc1F)n1cccc(Br)ccc1F)CC'\n",
      " 60%|████████████████████████                | 603/1000 [06:34<03:24,  1.95it/s][19:54:01] SMILES Parse Error: syntax error while parsing: Cc1ccoc2snc(C)cc(Br)c3c2c[nH]c4cc(C)nH]c1c1nc(O)ncc(Br)cc2n1cccc(Br)c1)N2\n",
      "CC(CC1)c1ncnccn1)C(=O)C1CC(\n",
      "[19:54:01] SMILES Parse Error: Failed parsing SMILES 'Cc1ccoc2snc(C)cc(Br)c3c2c[nH]c4cc(C)nH]c1c1nc(O)ncc(Br)cc2n1cccc(Br)c1)N2\n",
      "CC(CC1)c1ncnccn1)C(=O)C1CC(' for input: 'Cc1ccoc2snc(C)cc(Br)c3c2c[nH]c4cc(C)nH]c1c1nc(O)ncc(Br)cc2n1cccc(Br)c1)N2\n",
      "CC(CC1)c1ncnccn1)C(=O)C1CC('\n",
      " 60%|████████████████████████▏               | 604/1000 [06:35<03:29,  1.89it/s][19:54:02] SMILES Parse Error: extra close parentheses while parsing: C[C@@]1(c1ccccc(I)c1)n1cccc(c)cc1)(c2ccccccc2c)cC\n",
      "CCc1ccc2n(cc(C)cc3)C[C@H]()1c1cccccc(F)(c)cc1)nc1)c\n",
      "[19:54:02] SMILES Parse Error: Failed parsing SMILES 'C[C@@]1(c1ccccc(I)c1)n1cccc(c)cc1)(c2ccccccc2c)cC\n",
      "CCc1ccc2n(cc(C)cc3)C[C@H]()1c1cccccc(F)(c)cc1)nc1)c' for input: 'C[C@@]1(c1ccccc(I)c1)n1cccc(c)cc1)(c2ccccccc2c)cC\n",
      "CCc1ccc2n(cc(C)cc3)C[C@H]()1c1cccccc(F)(c)cc1)nc1)c'\n",
      " 60%|████████████████████████▏               | 605/1000 [06:35<03:22,  1.95it/s][19:54:02] SMILES Parse Error: extra close parentheses while parsing: Cl)s1)OC\n",
      "CCC(c3c(ccscc2)S1\n",
      "CC2=C(C1@C(=O)CC1n3nccnc(NS(l)(=O)n1ccc(F)ccc1)N2c1scnccc2c1CNC(=O)CCN[C1c\n",
      "[19:54:02] SMILES Parse Error: Failed parsing SMILES 'Cl)s1)OC\n",
      "CCC(c3c(ccscc2)S1\n",
      "CC2=C(C1@C(=O)CC1n3nccnc(NS(l)(=O)n1ccc(F)ccc1)N2c1scnccc2c1CNC(=O)CCN[C1c' for input: 'Cl)s1)OC\n",
      "CCC(c3c(ccscc2)S1\n",
      "CC2=C(C1@C(=O)CC1n3nccnc(NS(l)(=O)n1ccc(F)ccc1)N2c1scnccc2c1CNC(=O)CCN[C1c'\n",
      " 61%|████████████████████████▏               | 606/1000 [06:36<03:27,  1.90it/s][19:54:03] SMILES Parse Error: extra close parentheses while parsing: C2)c1\n",
      "CC(CO(C)C\n",
      "CC(=O)SC1CC(CNHc1cccc(Br)ccc1)nc1ccccccc2ccccc(O)n1)c1cccoc1)n1ccccc(l)(c2)n1cccccnc2\n",
      "[19:54:03] SMILES Parse Error: Failed parsing SMILES 'C2)c1\n",
      "CC(CO(C)C\n",
      "CC(=O)SC1CC(CNHc1cccc(Br)ccc1)nc1ccccccc2ccccc(O)n1)c1cccoc1)n1ccccc(l)(c2)n1cccccnc2' for input: 'C2)c1\n",
      "CC(CO(C)C\n",
      "CC(=O)SC1CC(CNHc1cccc(Br)ccc1)nc1ccccccc2ccccc(O)n1)c1cccoc1)n1ccccc(l)(c2)n1cccccnc2'\n",
      " 61%|████████████████████████▎               | 607/1000 [06:36<03:20,  1.96it/s][19:54:03] SMILES Parse Error: extra close parentheses while parsing: C2)cc1sccc(nc(O)nc1n=ncc(nc2cc(F)ccc2c)n(C)(c1cccccccc1)nc1N(C)c1cccc(O)nc1)c1cccccc(F)c1)C(=O)CC(C)C\n",
      "[19:54:03] SMILES Parse Error: Failed parsing SMILES 'C2)cc1sccc(nc(O)nc1n=ncc(nc2cc(F)ccc2c)n(C)(c1cccccccc1)nc1N(C)c1cccc(O)nc1)c1cccccc(F)c1)C(=O)CC(C)C' for input: 'C2)cc1sccc(nc(O)nc1n=ncc(nc2cc(F)ccc2c)n(C)(c1cccccccc1)nc1N(C)c1cccc(O)nc1)c1cccccc(F)c1)C(=O)CC(C)C'\n",
      " 61%|████████████████████████▎               | 608/1000 [06:37<03:25,  1.91it/s][19:54:04] SMILES Parse Error: extra close parentheses while parsing: Ccoc1F)C(=O)c1ccccnc1)c1ccccc(cH(F)cc1)ncccc1)C(=O)Oc1ccccncn1)c1cccc()(F)cc1)n1cccccccccc1)c1cccc(C)\n",
      "[19:54:04] SMILES Parse Error: Failed parsing SMILES 'Ccoc1F)C(=O)c1ccccnc1)c1ccccc(cH(F)cc1)ncccc1)C(=O)Oc1ccccncn1)c1cccc()(F)cc1)n1cccccccccc1)c1cccc(C)' for input: 'Ccoc1F)C(=O)c1ccccnc1)c1ccccc(cH(F)cc1)ncccc1)C(=O)Oc1ccccncn1)c1cccc()(F)cc1)n1cccccccccc1)c1cccc(C)'\n",
      " 61%|████████████████████████▎               | 609/1000 [06:37<03:20,  1.95it/s][19:54:04] SMILES Parse Error: extra close parentheses while parsing: C#N)C(=O)C(=C)CC1c1cccccc1)CCN(C(=O)CC\n",
      "CCC(c1cscc(F)(c)cc1)OC\n",
      "CCCC(=O)C1=NN1nicccc(NS(=O)(=O)C(O)C)(c\n",
      "[19:54:04] SMILES Parse Error: Failed parsing SMILES 'C#N)C(=O)C(=C)CC1c1cccccc1)CCN(C(=O)CC\n",
      "CCC(c1cscc(F)(c)cc1)OC\n",
      "CCCC(=O)C1=NN1nicccc(NS(=O)(=O)C(O)C)(c' for input: 'C#N)C(=O)C(=C)CC1c1cccccc1)CCN(C(=O)CC\n",
      "CCC(c1cscc(F)(c)cc1)OC\n",
      "CCCC(=O)C1=NN1nicccc(NS(=O)(=O)C(O)C)(c'\n",
      " 61%|████████████████████████▍               | 610/1000 [06:38<03:25,  1.90it/s][19:54:05] SMILES Parse Error: syntax error while parsing: CCNC(=O)C(=O)C1=C(C)(C)c1ccccc1nncnc(S)c1c1ccccc(F)c(O)n1c1ccccccc1(C)Oc1ncc(C)ccnc2nSc3cc(Fr(ncccc3)\n",
      "[19:54:05] SMILES Parse Error: Failed parsing SMILES 'CCNC(=O)C(=O)C1=C(C)(C)c1ccccc1nncnc(S)c1c1ccccc(F)c(O)n1c1ccccccc1(C)Oc1ncc(C)ccnc2nSc3cc(Fr(ncccc3)' for input: 'CCNC(=O)C(=O)C1=C(C)(C)c1ccccc1nncnc(S)c1c1ccccc(F)c(O)n1c1ccccccc1(C)Oc1ncc(C)ccnc2nSc3cc(Fr(ncccc3)'\n",
      " 61%|████████████████████████▍               | 611/1000 [06:38<03:24,  1.90it/s][19:54:06] SMILES Parse Error: extra close parentheses while parsing: CN)c1)N)c1cccccc1c1c(c1n[nH]nc2c1)c1nccncc2c(=O)[nH]1CC[C@H]1c1cccco1)n1ccccncc1)C1(C)OC)C1\n",
      "CCCC+1c1c\n",
      "[19:54:06] SMILES Parse Error: Failed parsing SMILES 'CN)c1)N)c1cccccc1c1c(c1n[nH]nc2c1)c1nccncc2c(=O)[nH]1CC[C@H]1c1cccco1)n1ccccncc1)C1(C)OC)C1\n",
      "CCCC+1c1c' for input: 'CN)c1)N)c1cccccc1c1c(c1n[nH]nc2c1)c1nccncc2c(=O)[nH]1CC[C@H]1c1cccco1)n1ccccncc1)C1(C)OC)C1\n",
      "CCCC+1c1c'\n",
      " 61%|████████████████████████▍               | 612/1000 [06:39<03:33,  1.82it/s][19:54:06] SMILES Parse Error: extra close parentheses while parsing: C#N4CCc3cc(F)ccc3O)cn1C\n",
      "CCC(C)C(S(=O)(=O)C)SC1(C)(c1ccccccc1)(c1ccccccncc1)n1ccccccc2c1CCO[C@](C)(c1c\n",
      "[19:54:06] SMILES Parse Error: Failed parsing SMILES 'C#N4CCc3cc(F)ccc3O)cn1C\n",
      "CCC(C)C(S(=O)(=O)C)SC1(C)(c1ccccccc1)(c1ccccccncc1)n1ccccccc2c1CCO[C@](C)(c1c' for input: 'C#N4CCc3cc(F)ccc3O)cn1C\n",
      "CCC(C)C(S(=O)(=O)C)SC1(C)(c1ccccccc1)(c1ccccccncc1)n1ccccccc2c1CCO[C@](C)(c1c'\n",
      " 61%|████████████████████████▌               | 613/1000 [06:39<03:24,  1.89it/s][19:54:07] SMILES Parse Error: extra close parentheses while parsing: C)=O)Cc1ccccn1)c1ncc(C)c(C)cc(O)c1nccnc(c2cccccc2)c1cccccc1)c1cccccc(F)(c1)n1ccsccc1)n1ccccccc(c(S(C)\n",
      "[19:54:07] SMILES Parse Error: Failed parsing SMILES 'C)=O)Cc1ccccn1)c1ncc(C)c(C)cc(O)c1nccnc(c2cccccc2)c1cccccc1)c1cccccc(F)(c1)n1ccsccc1)n1ccccccc(c(S(C)' for input: 'C)=O)Cc1ccccn1)c1ncc(C)c(C)cc(O)c1nccnc(c2cccccc2)c1cccccc1)c1cccccc(F)(c1)n1ccsccc1)n1ccccccc(c(S(C)'\n",
      " 61%|████████████████████████▌               | 614/1000 [06:40<03:28,  1.85it/s][19:54:07] SMILES Parse Error: unclosed ring for input: 'C-NC(=O)C1(C)C\n",
      "CC(=O)C1CN(CC\\c2ccccc(F)c2cccccc(S)n1)nc1ccc(ccccc1nccccc1)nncc2cc(c)cc(F)c(F)c1)[nH]n'\n",
      " 62%|████████████████████████▌               | 615/1000 [06:40<03:19,  1.93it/s][19:54:08] SMILES Parse Error: extra close parentheses while parsing: C)c1cccc2c(ccccc2)NC(=S)N1C(=O)C(=O)/C(=C/c3cccc(Br)c3)S1=O\n",
      "CC(C@@H](c1ccccc1)nc1)N2\n",
      "CCc1ccc(C)ns1)c1\n",
      "[19:54:08] SMILES Parse Error: Failed parsing SMILES 'C)c1cccc2c(ccccc2)NC(=S)N1C(=O)C(=O)/C(=C/c3cccc(Br)c3)S1=O\n",
      "CC(C@@H](c1ccccc1)nc1)N2\n",
      "CCc1ccc(C)ns1)c1' for input: 'C)c1cccc2c(ccccc2)NC(=S)N1C(=O)C(=O)/C(=C/c3cccc(Br)c3)S1=O\n",
      "CC(C@@H](c1ccccc1)nc1)N2\n",
      "CCc1ccc(C)ns1)c1'\n",
      " 62%|████████████████████████▋               | 616/1000 [06:41<03:24,  1.88it/s][19:54:08] SMILES Parse Error: extra close parentheses while parsing: Cc3ccsc3)S2)SC1(C)=O\n",
      "CCC(c1cccc(Cl)cc1)C@C(C)C\n",
      "CCC(c1ccccn1)C(=O)C1CCN(C(C)C)c1ccccccc1)c1nccc(F)ccc(\n",
      "[19:54:08] SMILES Parse Error: Failed parsing SMILES 'Cc3ccsc3)S2)SC1(C)=O\n",
      "CCC(c1cccc(Cl)cc1)C@C(C)C\n",
      "CCC(c1ccccn1)C(=O)C1CCN(C(C)C)c1ccccccc1)c1nccc(F)ccc(' for input: 'Cc3ccsc3)S2)SC1(C)=O\n",
      "CCC(c1cccc(Cl)cc1)C@C(C)C\n",
      "CCC(c1ccccn1)C(=O)C1CCN(C(C)C)c1ccccccc1)c1nccc(F)ccc('\n",
      " 62%|████████████████████████▋               | 618/1000 [06:42<03:19,  1.91it/s][19:54:09] SMILES Parse Error: extra close parentheses while parsing: C)C(=O)[C@]1(C)(c1cccccc1)(c1)CC(F)(O)c1ccccc(Br)ccc1)c1nccnnc(C)c1)c1cccccc1)(=1n-ccccncO)c1)C1CCC(F\n",
      "[19:54:09] SMILES Parse Error: Failed parsing SMILES 'C)C(=O)[C@]1(C)(c1cccccc1)(c1)CC(F)(O)c1ccccc(Br)ccc1)c1nccnnc(C)c1)c1cccccc1)(=1n-ccccncO)c1)C1CCC(F' for input: 'C)C(=O)[C@]1(C)(c1cccccc1)(c1)CC(F)(O)c1ccccc(Br)ccc1)c1nccnnc(C)c1)c1cccccc1)(=1n-ccccncO)c1)C1CCC(F'\n",
      " 62%|████████████████████████▊               | 619/1000 [06:42<03:15,  1.95it/s][19:54:10] SMILES Parse Error: extra close parentheses while parsing: CCO)C(=O)C1=C(C)NC(=S)NC1c1ccccc(Sc1nc2cc(ccF)ccc2c1CC(F)(F)F)n1cccnc(O)c1)(c1cccccc1)n1cccccc(c(O)(C\n",
      "[19:54:10] SMILES Parse Error: Failed parsing SMILES 'CCO)C(=O)C1=C(C)NC(=S)NC1c1ccccc(Sc1nc2cc(ccF)ccc2c1CC(F)(F)F)n1cccnc(O)c1)(c1cccccc1)n1cccccc(c(O)(C' for input: 'CCO)C(=O)C1=C(C)NC(=S)NC1c1ccccc(Sc1nc2cc(ccF)ccc2c1CC(F)(F)F)n1cccnc(O)c1)(c1cccccc1)n1cccccc(c(O)(C'\n",
      " 62%|████████████████████████▊               | 620/1000 [06:43<03:21,  1.88it/s][19:54:10] SMILES Parse Error: extra close parentheses while parsing: Cc3ccsc2)cc1)C(=O)O\n",
      "CCC(c1cccc2c(c1)nnccc1N)C[C@H]2c1cccccc1(CC)CC(=O)c1cccccc1)n1ccccccc2c(=O)n1Cc1c\n",
      "[19:54:10] SMILES Parse Error: Failed parsing SMILES 'Cc3ccsc2)cc1)C(=O)O\n",
      "CCC(c1cccc2c(c1)nnccc1N)C[C@H]2c1cccccc1(CC)CC(=O)c1cccccc1)n1ccccccc2c(=O)n1Cc1c' for input: 'Cc3ccsc2)cc1)C(=O)O\n",
      "CCC(c1cccc2c(c1)nnccc1N)C[C@H]2c1cccccc1(CC)CC(=O)c1cccccc1)n1ccccccc2c(=O)n1Cc1c'\n",
      " 62%|████████████████████████▊               | 621/1000 [06:43<03:17,  1.92it/s][19:54:11] SMILES Parse Error: extra close parentheses while parsing: CIc3ccco2)nc2cccsc2CC)Oc1ccc(Br)ccc1)(F)F)n1cnc(cc(cnccc(F)c3ccc(F)cc(F)c3ccc(C)no3cc([nH]c4oc4ccccc3\n",
      "[19:54:11] SMILES Parse Error: Failed parsing SMILES 'CIc3ccco2)nc2cccsc2CC)Oc1ccc(Br)ccc1)(F)F)n1cnc(cc(cnccc(F)c3ccc(F)cc(F)c3ccc(C)no3cc([nH]c4oc4ccccc3' for input: 'CIc3ccco2)nc2cccsc2CC)Oc1ccc(Br)ccc1)(F)F)n1cnc(cc(cnccc(F)c3ccc(F)cc(F)c3ccc(C)no3cc([nH]c4oc4ccccc3'\n",
      " 62%|████████████████████████▉               | 622/1000 [06:44<03:11,  1.98it/s][19:54:11] SMILES Parse Error: syntax error while parsing: C(c2cccs2)c(O)c1cHccncc1(C)=O)C(=O)OCO1(C)C\n",
      "CCC(F)C(=O)NC1=N[C@@H]2C[C@@H](F)CC11CO1)c1cccc(Br)ccn1)n\n",
      "[19:54:11] SMILES Parse Error: Failed parsing SMILES 'C(c2cccs2)c(O)c1cHccncc1(C)=O)C(=O)OCO1(C)C\n",
      "CCC(F)C(=O)NC1=N[C@@H]2C[C@@H](F)CC11CO1)c1cccc(Br)ccn1)n' for input: 'C(c2cccs2)c(O)c1cHccncc1(C)=O)C(=O)OCO1(C)C\n",
      "CCC(F)C(=O)NC1=N[C@@H]2C[C@@H](F)CC11CO1)c1cccc(Br)ccn1)n'\n",
      " 62%|████████████████████████▉               | 623/1000 [06:44<03:18,  1.90it/s][19:54:12] SMILES Parse Error: unclosed ring for input: 'C(=O)C1=O\n",
      "CCC(C)C1=C(=O)CN(Cc2c(F)nccnc2Br)cs1)N2\n",
      "CC(=O)C1=C(C\\c3ccc(OC)ncc(C)n1)C(=O)c1ccccccn1)sccc'\n",
      " 62%|████████████████████████▉               | 624/1000 [06:45<03:11,  1.96it/s][19:54:12] SMILES Parse Error: unclosed ring for input: 'C(=S)N1C\n",
      "CCC(c1c1nc(-c)cc2c1CCN(C2CCCC1=C(Ol)cHnc2ccc(C)no1)c1cccccc1)nnc1)C(=O)c1cccncc1)c1ccccc(cc1'\n",
      " 62%|█████████████████████████               | 625/1000 [06:45<03:07,  2.00it/s][19:54:13] SMILES Parse Error: unclosed ring for input: 'C(=O)CC1=C(C)Oc1ccc(-c2ncc(Br)ccc2c(=C\\C(=O)O)(C)ncc(S)nc(C)nc2cnc(n3)c4ccscc34)3c2ccc(F)ccc3OC[C@H]2'\n",
      " 63%|█████████████████████████               | 626/1000 [06:46<03:20,  1.86it/s][19:54:13] SMILES Parse Error: extra close parentheses while parsing: C(=O)/C(=O)C1=NN(c1cccnnc1)C(C)=C\\c1ccccn1)n1c(ccccc2cc(scccccc2c\n",
      "CCC(c)c1ccc(C()ccccn2)nn2cccccc2c1)\n",
      "[19:54:13] SMILES Parse Error: Failed parsing SMILES 'C(=O)/C(=O)C1=NN(c1cccnnc1)C(C)=C\\c1ccccn1)n1c(ccccc2cc(scccccc2c\n",
      "CCC(c)c1ccc(C()ccccn2)nn2cccccc2c1)' for input: 'C(=O)/C(=O)C1=NN(c1cccnnc1)C(C)=C\\c1ccccn1)n1c(ccccc2cc(scccccc2c\n",
      "CCC(c)c1ccc(C()ccccn2)nn2cccccc2c1)'\n",
      " 63%|█████████████████████████               | 627/1000 [06:47<03:13,  1.92it/s][19:54:14] SMILES Parse Error: extra close parentheses while parsing: C[C@H](F)C1)c1ccc(F)ccc1-c1cccncc1)cncc2c1nccccc(c)cc2c(=O)n1ccccc(F)c3ccccco2)c1cccsc1C(C)=C)CC1(C)C\n",
      "[19:54:14] SMILES Parse Error: Failed parsing SMILES 'C[C@H](F)C1)c1ccc(F)ccc1-c1cccncc1)cncc2c1nccccc(c)cc2c(=O)n1ccccc(F)c3ccccco2)c1cccsc1C(C)=C)CC1(C)C' for input: 'C[C@H](F)C1)c1ccc(F)ccc1-c1cccncc1)cncc2c1nccccc(c)cc2c(=O)n1ccccc(F)c3ccccco2)c1cccsc1C(C)=C)CC1(C)C'\n",
      " 63%|█████████████████████████               | 628/1000 [06:47<03:08,  1.98it/s][19:54:14] SMILES Parse Error: extra close parentheses while parsing: CN(C(C)=O)C(=O)/C(=O)C1=C(=O)/C(=O)C(c1ccccnc)c1)S(C)(=O)=O(=O)c1cccc(Br)cc1)C1[C@CC)C1c1ccccccO)(F)c\n",
      "[19:54:14] SMILES Parse Error: Failed parsing SMILES 'CN(C(C)=O)C(=O)/C(=O)C1=C(=O)/C(=O)C(c1ccccnc)c1)S(C)(=O)=O(=O)c1cccc(Br)cc1)C1[C@CC)C1c1ccccccO)(F)c' for input: 'CN(C(C)=O)C(=O)/C(=O)C1=C(=O)/C(=O)C(c1ccccnc)c1)S(C)(=O)=O(=O)c1cccc(Br)cc1)C1[C@CC)C1c1ccccccO)(F)c'\n",
      " 63%|█████████████████████████▏              | 629/1000 [06:48<03:17,  1.88it/s][19:54:15] SMILES Parse Error: extra close parentheses while parsing: C)/C(=O)CC1Cc1ccccnc1)(c2cccc(F)cc1)c1cccccc1)c1C(F)(F)F)cc1\n",
      "CC(=O)C[C@@]1)c1ccccncc1)nc1cccccccc1ncc\n",
      "[19:54:15] SMILES Parse Error: Failed parsing SMILES 'C)/C(=O)CC1Cc1ccccnc1)(c2cccc(F)cc1)c1cccccc1)c1C(F)(F)F)cc1\n",
      "CC(=O)C[C@@]1)c1ccccncc1)nc1cccccccc1ncc' for input: 'C)/C(=O)CC1Cc1ccccnc1)(c2cccc(F)cc1)c1cccccc1)c1C(F)(F)F)cc1\n",
      "CC(=O)C[C@@]1)c1ccccncc1)nc1cccccccc1ncc'\n",
      " 63%|█████████████████████████▏              | 631/1000 [06:49<03:16,  1.88it/s][19:54:16] SMILES Parse Error: unclosed ring for input: 'C1=NN(c2cc(F)cc(F)(F)c2)C(C)=O\n",
      "CCC(C)(C)c1ccccc2nc(-c3cc(c(F)(F)ccc2F)n1ccccn1C[C@@H](F)C1(C(F)(F)F)C'\n",
      " 63%|█████████████████████████▎              | 632/1000 [06:49<03:09,  1.94it/s][19:54:16] SMILES Parse Error: extra close parentheses while parsing: CCN)C(=O)c1)C1CCC(F)(F)C1\n",
      "CCOCCNC(=O)[C@OC(=O)c1c(NC(=O)C(=O)OCCOC(=O)CC)C1)c1ccccc(Br)ccn1)(c1cc1[nH\n",
      "[19:54:16] SMILES Parse Error: Failed parsing SMILES 'CCN)C(=O)c1)C1CCC(F)(F)C1\n",
      "CCOCCNC(=O)[C@OC(=O)c1c(NC(=O)C(=O)OCCOC(=O)CC)C1)c1ccccc(Br)ccn1)(c1cc1[nH' for input: 'CCN)C(=O)c1)C1CCC(F)(F)C1\n",
      "CCOCCNC(=O)[C@OC(=O)c1c(NC(=O)C(=O)OCCOC(=O)CC)C1)c1ccccc(Br)ccn1)(c1cc1[nH'\n",
      " 63%|█████████████████████████▎              | 633/1000 [06:50<03:04,  1.99it/s][19:54:17] SMILES Parse Error: extra close parentheses while parsing: C2sc(O)nc2C)S1)c1ccccc(Br)cc2c1\n",
      "CC(C)=C(C)=O)C1c1cccc(F)nc1)C(=O)N(C)C(=O\n",
      "CC1=C(C(=O)C(C)(C)C(=O)C1c1\n",
      "[19:54:17] SMILES Parse Error: Failed parsing SMILES 'C2sc(O)nc2C)S1)c1ccccc(Br)cc2c1\n",
      "CC(C)=C(C)=O)C1c1cccc(F)nc1)C(=O)N(C)C(=O\n",
      "CC1=C(C(=O)C(C)(C)C(=O)C1c1' for input: 'C2sc(O)nc2C)S1)c1ccccc(Br)cc2c1\n",
      "CC(C)=C(C)=O)C1c1cccc(F)nc1)C(=O)N(C)C(=O\n",
      "CC1=C(C(=O)C(C)(C)C(=O)C1c1'\n",
      " 63%|█████████████████████████▎              | 634/1000 [06:50<03:12,  1.91it/s][19:54:17] SMILES Parse Error: extra close parentheses while parsing: Cl)c1)NC(=O\n",
      "CC1=C(C(=O)(CO)C(=O)C1Cc1ccccn1)C(=O)C1CC1COc1cccccc1)c1ccccc(F)cc1)Sc1ccccc(O)(=O)c3cccc\n",
      "[19:54:17] SMILES Parse Error: Failed parsing SMILES 'Cl)c1)NC(=O\n",
      "CC1=C(C(=O)(CO)C(=O)C1Cc1ccccn1)C(=O)C1CC1COc1cccccc1)c1ccccc(F)cc1)Sc1ccccc(O)(=O)c3cccc' for input: 'Cl)c1)NC(=O\n",
      "CC1=C(C(=O)(CO)C(=O)C1Cc1ccccn1)C(=O)C1CC1COc1cccccc1)c1ccccc(F)cc1)Sc1ccccc(O)(=O)c3cccc'\n",
      " 64%|█████████████████████████▍              | 635/1000 [06:51<03:05,  1.96it/s][19:54:18] SMILES Parse Error: extra close parentheses while parsing: C1CO2)SC1(C)c1ccccccc1)n1cccccc(c1)c1ccsccc1(C)=O)c1ccnccc1ncccccc2c1ncccnc2cc(O)nc(C)ccHH]1)c1ccc(F)\n",
      "[19:54:18] SMILES Parse Error: Failed parsing SMILES 'C1CO2)SC1(C)c1ccccccc1)n1cccccc(c1)c1ccsccc1(C)=O)c1ccnccc1ncccccc2c1ncccnc2cc(O)nc(C)ccHH]1)c1ccc(F)' for input: 'C1CO2)SC1(C)c1ccccccc1)n1cccccc(c1)c1ccsccc1(C)=O)c1ccnccc1ncccccc2c1ncccnc2cc(O)nc(C)ccHH]1)c1ccc(F)'\n",
      " 64%|█████████████████████████▍              | 636/1000 [06:51<03:14,  1.87it/s][19:54:18] SMILES Parse Error: extra close parentheses while parsing: C2)=OBrn1ccc(2c(=S)nn(c)cc1)n1cccccc1)c1cccc2c(cSc(ncccc2c(=O)/c1ccc(NS(=O)=O)(cc2c(cccccc()cnn3)C1)c\n",
      "[19:54:18] SMILES Parse Error: Failed parsing SMILES 'C2)=OBrn1ccc(2c(=S)nn(c)cc1)n1cccccc1)c1cccc2c(cSc(ncccc2c(=O)/c1ccc(NS(=O)=O)(cc2c(cccccc()cnn3)C1)c' for input: 'C2)=OBrn1ccc(2c(=S)nn(c)cc1)n1cccccc1)c1cccc2c(cSc(ncccc2c(=O)/c1ccc(NS(=O)=O)(cc2c(cccccc()cnn3)C1)c'\n",
      " 64%|█████████████████████████▍              | 637/1000 [06:52<03:06,  1.94it/s][19:54:19] SMILES Parse Error: extra close parentheses while parsing: C(=C/c3cccno)nc2)nc(-c3cc(F)ccc3OC[C@H]O2)no2)S1\n",
      "CCC(c1ccccn1)CCc1cccc(F)cn1)n1cccccc(S()(=O)=O)cc1)c\n",
      "[19:54:19] SMILES Parse Error: Failed parsing SMILES 'C(=C/c3cccno)nc2)nc(-c3cc(F)ccc3OC[C@H]O2)no2)S1\n",
      "CCC(c1ccccn1)CCc1cccc(F)cn1)n1cccccc(S()(=O)=O)cc1)c' for input: 'C(=C/c3cccno)nc2)nc(-c3cc(F)ccc3OC[C@H]O2)no2)S1\n",
      "CCC(c1ccccn1)CCc1cccc(F)cn1)n1cccccc(S()(=O)=O)cc1)c'\n",
      " 64%|█████████████████████████▌              | 638/1000 [06:52<03:05,  1.95it/s][19:54:20] SMILES Parse Error: extra close parentheses while parsing: C)=O)ccs2)S1)Cc1ccccno1)c1cccccc1)n1cccc(C)nc1cccccc1ccccccc1)n1cccccnc1)nc1c1cccccccc2c1CCO)(c1ccccc\n",
      "[19:54:20] SMILES Parse Error: Failed parsing SMILES 'C)=O)ccs2)S1)Cc1ccccno1)c1cccccc1)n1cccc(C)nc1cccccc1ccccccc1)n1cccccnc1)nc1c1cccccccc2c1CCO)(c1ccccc' for input: 'C)=O)ccs2)S1)Cc1ccccno1)c1cccccc1)n1cccc(C)nc1cccccc1ccccccc1)n1cccccnc1)nc1c1cccccccc2c1CCO)(c1ccccc'\n",
      " 64%|█████████████████████████▌              | 639/1000 [06:53<03:14,  1.86it/s][19:54:20] SMILES Parse Error: unclosed ring for input: 'C1=NN(C(=O)Cc2cccsc2c(=O)n1Cc1cccccc(nc1)c1cccccc3c1)CC2\n",
      "CCC(c1cccc(O)nn1)c1ncc(n2ccccc2c(=O)no1)c1cc'\n",
      " 64%|█████████████████████████▌              | 640/1000 [06:53<03:06,  1.93it/s][19:54:21] SMILES Parse Error: extra open parentheses for input: 'C1=SN(C(=O)CCc1ccccc1\n",
      "CC(=O)C1)cccc1n1ccnc()nc(c2ccc(=O)ccn)n2)n2ccc(c1)nc1nccncc2c(C)c1cccoc2)c1nccc'\n",
      " 64%|█████████████████████████▋              | 641/1000 [06:54<03:10,  1.88it/s][19:54:21] SMILES Parse Error: extra close parentheses while parsing: C(=O)NC1=N=C(Br)ccc1ncccncc2)n1cccnc()(=O)n1)C1c1cccccc1)n1cccnc2c1ccccS(=O)(=O)ncc1)C(S[C@H]1OCOC2FC\n",
      "[19:54:21] SMILES Parse Error: Failed parsing SMILES 'C(=O)NC1=N=C(Br)ccc1ncccncc2)n1cccnc()(=O)n1)C1c1cccccc1)n1cccnc2c1ccccS(=O)(=O)ncc1)C(S[C@H]1OCOC2FC' for input: 'C(=O)NC1=N=C(Br)ccc1ncccncc2)n1cccnc()(=O)n1)C1c1cccccc1)n1cccnc2c1ccccS(=O)(=O)ncc1)C(S[C@H]1OCOC2FC'\n",
      " 64%|█████████████████████████▋              | 642/1000 [06:54<03:05,  1.93it/s][19:54:22] SMILES Parse Error: extra close parentheses while parsing: C(C)C1)c1ccccc(O)nc2c1ccc(N(C)C(F)=O)=nHcc12C1CC(=O)NCCOC\n",
      "CC(C)=c1c(CHCCNCCO)c1sccccn1)n1ccc(c(S)(C)(\n",
      "[19:54:22] SMILES Parse Error: Failed parsing SMILES 'C(C)C1)c1ccccc(O)nc2c1ccc(N(C)C(F)=O)=nHcc12C1CC(=O)NCCOC\n",
      "CC(C)=c1c(CHCCNCCO)c1sccccn1)n1ccc(c(S)(C)(' for input: 'C(C)C1)c1ccccc(O)nc2c1ccc(N(C)C(F)=O)=nHcc12C1CC(=O)NCCOC\n",
      "CC(C)=c1c(CHCCNCCO)c1sccccn1)n1ccc(c(S)(C)('\n",
      " 64%|█████████████████████████▋              | 643/1000 [06:55<03:00,  1.98it/s][19:54:22] SMILES Parse Error: syntax error while parsing: C@H]1)c1ccccc1C=ON(C)C\n",
      "CC(=O)CC1([C@@H](O)C(=O)OC(C)C)C[C@H]1[C@H]2C1CCS1\n",
      "CCC1CCN1C(=O)c1cc(-c2cc(F)c\n",
      "[19:54:22] SMILES Parse Error: Failed parsing SMILES 'C@H]1)c1ccccc1C=ON(C)C\n",
      "CC(=O)CC1([C@@H](O)C(=O)OC(C)C)C[C@H]1[C@H]2C1CCS1\n",
      "CCC1CCN1C(=O)c1cc(-c2cc(F)c' for input: 'C@H]1)c1ccccc1C=ON(C)C\n",
      "CC(=O)CC1([C@@H](O)C(=O)OC(C)C)C[C@H]1[C@H]2C1CCS1\n",
      "CCC1CCN1C(=O)c1cc(-c2cc(F)c'\n",
      " 64%|█████████████████████████▊              | 644/1000 [06:55<03:04,  1.93it/s][19:54:23] SMILES Parse Error: unclosed ring for input: 'CSC1\n",
      "CCC(c1Oc4cccc(O)nc2n2ccc(O)nc2)S1\n",
      "CCNC2=CCNC(=O)C1CCN(C(=O)C2=C(c3cccc(Br)cc34)[n@H]c1ccccc1CCO)'\n",
      " 64%|█████████████████████████▊              | 645/1000 [06:56<02:58,  1.99it/s][19:54:23] SMILES Parse Error: extra close parentheses while parsing: Ccc34)[C@@H](O)C3)cc1\n",
      "CC(C)C(c1cccncc1)NC(=O)c1cccncn1)n1ccccc(C)n1cccccc1)ncc(C)(c1)ccccncc1)nc1ncc(\n",
      "[19:54:23] SMILES Parse Error: Failed parsing SMILES 'Ccc34)[C@@H](O)C3)cc1\n",
      "CC(C)C(c1cccncc1)NC(=O)c1cccncn1)n1ccccc(C)n1cccccc1)ncc(C)(c1)ccccncc1)nc1ncc(' for input: 'Ccc34)[C@@H](O)C3)cc1\n",
      "CC(C)C(c1cccncc1)NC(=O)c1cccncn1)n1ccccc(C)n1cccccc1)ncc(C)(c1)ccccncc1)nc1ncc('\n",
      " 65%|█████████████████████████▊              | 646/1000 [06:56<03:05,  1.91it/s][19:54:24] SMILES Parse Error: extra close parentheses while parsing: C(F)(C))[nH]1)c1ccccncc1)c1sccnc12c1ccccccc1)ncc1n1c(ccccc2cc(C)CC(=O)CC1)c1occcccc1)c1c(ccncc2)n1)c1\n",
      "[19:54:24] SMILES Parse Error: Failed parsing SMILES 'C(F)(C))[nH]1)c1ccccncc1)c1sccnc12c1ccccccc1)ncc1n1c(ccccc2cc(C)CC(=O)CC1)c1occcccc1)c1c(ccncc2)n1)c1' for input: 'C(F)(C))[nH]1)c1ccccncc1)c1sccnc12c1ccccccc1)ncc1n1c(ccccc2cc(C)CC(=O)CC1)c1occcccc1)c1c(ccncc2)n1)c1'\n",
      " 65%|█████████████████████████▉              | 647/1000 [06:57<02:59,  1.97it/s][19:54:24] SMILES Parse Error: extra close parentheses while parsing: CNC2=N)C(=O)c2)C(c2ccco2)nnc1ccnccc(c2ccccccc1cccccc1c(cc1)c1cccccnc2c1cccc(F)(F)cc1)n1cccccc2c(cc(F)\n",
      "[19:54:24] SMILES Parse Error: Failed parsing SMILES 'CNC2=N)C(=O)c2)C(c2ccco2)nnc1ccnccc(c2ccccccc1cccccc1c(cc1)c1cccccnc2c1cccc(F)(F)cc1)n1cccccc2c(cc(F)' for input: 'CNC2=N)C(=O)c2)C(c2ccco2)nnc1ccnccc(c2ccccccc1cccccc1c(cc1)c1cccccnc2c1cccc(F)(F)cc1)n1cccccc2c(cc(F)'\n",
      " 65%|█████████████████████████▉              | 649/1000 [06:58<02:58,  1.97it/s][19:54:25] SMILES Parse Error: extra close parentheses while parsing: CN)C1CC1)c1cccccc1\n",
      "CCC(c1nc2ccnc(O)n3c(C)nsnc2)S1nHcnc(N(C)C(=O)=O)[nH]1)c1cccc(Br)nc1C)c1cccccc(F)c1\n",
      "[19:54:25] SMILES Parse Error: Failed parsing SMILES 'CN)C1CC1)c1cccccc1\n",
      "CCC(c1nc2ccnc(O)n3c(C)nsnc2)S1nHcnc(N(C)C(=O)=O)[nH]1)c1cccc(Br)nc1C)c1cccccc(F)c1' for input: 'CN)C1CC1)c1cccccc1\n",
      "CCC(c1nc2ccnc(O)n3c(C)nsnc2)S1nHcnc(N(C)C(=O)=O)[nH]1)c1cccc(Br)nc1C)c1cccccc(F)c1'\n",
      " 65%|██████████████████████████              | 650/1000 [06:58<03:05,  1.89it/s][19:54:26] SMILES Parse Error: extra close parentheses while parsing: CCC(OC)C1)c1ccccccnccc1)n1cccccncc1)cc1cccccc(O)c1ccccc(O)nc1)c1ccc(Br)ccc1nnncnc1)(c1ccccccnc2\n",
      "CC(=O\n",
      "[19:54:26] SMILES Parse Error: Failed parsing SMILES 'CCC(OC)C1)c1ccccccnccc1)n1cccccncc1)cc1cccccc(O)c1ccccc(O)nc1)c1ccc(Br)ccc1nnncnc1)(c1ccccccnc2\n",
      "CC(=O' for input: 'CCC(OC)C1)c1ccccccnccc1)n1cccccncc1)cc1cccccc(O)c1ccccc(O)nc1)c1ccc(Br)ccc1nnncnc1)(c1ccccccnc2\n",
      "CC(=O'\n",
      " 65%|██████████████████████████              | 651/1000 [06:59<02:58,  1.95it/s][19:54:26] SMILES Parse Error: syntax error while parsing: C@H]2[C@@]l(c1cccccc1)(F)(C)C)NS(=O)(=O)NC2ccc(F)cc1)n1ccccccc2c(=O)Cc1ccccnc(F)(F)c1)C(n1ccccc()n)cc\n",
      "[19:54:26] SMILES Parse Error: Failed parsing SMILES 'C@H]2[C@@]l(c1cccccc1)(F)(C)C)NS(=O)(=O)NC2ccc(F)cc1)n1ccccccc2c(=O)Cc1ccccnc(F)(F)c1)C(n1ccccc()n)cc' for input: 'C@H]2[C@@]l(c1cccccc1)(F)(C)C)NS(=O)(=O)NC2ccc(F)cc1)n1ccccccc2c(=O)Cc1ccccnc(F)(F)c1)C(n1ccccc()n)cc'\n",
      " 65%|██████████████████████████              | 652/1000 [07:00<03:03,  1.89it/s][19:54:27] SMILES Parse Error: extra close parentheses while parsing: C)=O)c1)S1N=S(n2cc(=O)C(=O)no1cc(cnccc1c1cccccc1)c1ncccc()c(nc1)c1ccccc(c1)(C)=O\n",
      "CCOC(=O)C1=C(n2cccnc\n",
      "[19:54:27] SMILES Parse Error: Failed parsing SMILES 'C)=O)c1)S1N=S(n2cc(=O)C(=O)no1cc(cnccc1c1cccccc1)c1ncccc()c(nc1)c1ccccc(c1)(C)=O\n",
      "CCOC(=O)C1=C(n2cccnc' for input: 'C)=O)c1)S1N=S(n2cc(=O)C(=O)no1cc(cnccc1c1cccccc1)c1ncccc()c(nc1)c1ccccc(c1)(C)=O\n",
      "CCOC(=O)C1=C(n2cccnc'\n",
      " 65%|██████████████████████████              | 653/1000 [07:00<03:02,  1.90it/s][19:54:27] SMILES Parse Error: extra close parentheses while parsing: CC1c1cccccc1)n1cccc(n)cc1)S(=O)(=O)c1ccsccn1C[C@OC)C1(CC)CC1)c1cccccccc1)c1nccnc(C)n1Sc1ccccc(Sc2ncco\n",
      "[19:54:27] SMILES Parse Error: Failed parsing SMILES 'CC1c1cccccc1)n1cccc(n)cc1)S(=O)(=O)c1ccsccn1C[C@OC)C1(CC)CC1)c1cccccccc1)c1nccnc(C)n1Sc1ccccc(Sc2ncco' for input: 'CC1c1cccccc1)n1cccc(n)cc1)S(=O)(=O)c1ccsccn1C[C@OC)C1(CC)CC1)c1cccccccc1)c1nccnc(C)n1Sc1ccccc(Sc2ncco'\n",
      " 65%|██████████████████████████▏             | 654/1000 [07:01<03:06,  1.86it/s][19:54:28] SMILES Parse Error: extra close parentheses while parsing: CF)(F)=C(=O)n1nccnc(-c3ccc(N)nc(Br)cc1)N2\n",
      "CC(=CCOC(=O)C1=C(C(=O)NC[C@@](HI)c1cccccncn1)Cc1ccccc(O)n1C\n",
      "[19:54:28] SMILES Parse Error: Failed parsing SMILES 'CF)(F)=C(=O)n1nccnc(-c3ccc(N)nc(Br)cc1)N2\n",
      "CC(=CCOC(=O)C1=C(C(=O)NC[C@@](HI)c1cccccncn1)Cc1ccccc(O)n1C' for input: 'CF)(F)=C(=O)n1nccnc(-c3ccc(N)nc(Br)cc1)N2\n",
      "CC(=CCOC(=O)C1=C(C(=O)NC[C@@](HI)c1cccccncn1)Cc1ccccc(O)n1C'\n",
      " 66%|██████████████████████████▏             | 655/1000 [07:01<02:58,  1.93it/s][19:54:28] SMILES Parse Error: extra close parentheses while parsing: C(CS(=O)(=O)(c1ccccccc1)n1)Cc1ccccc(F)c1)n1ccccccc1)ncc(c1)nnc1)c1cccccc(F)(O)n1)c1ccccc(F)cc1)n1cccc\n",
      "[19:54:28] SMILES Parse Error: Failed parsing SMILES 'C(CS(=O)(=O)(c1ccccccc1)n1)Cc1ccccc(F)c1)n1ccccccc1)ncc(c1)nnc1)c1cccccc(F)(O)n1)c1ccccc(F)cc1)n1cccc' for input: 'C(CS(=O)(=O)(c1ccccccc1)n1)Cc1ccccc(F)c1)n1ccccccc1)ncc(c1)nnc1)c1cccccc(F)(O)n1)c1ccccc(F)cc1)n1cccc'\n",
      " 66%|██████████████████████████▏             | 656/1000 [07:02<03:01,  1.89it/s][19:54:29] SMILES Parse Error: extra close parentheses while parsing: C1-c2cccc(O)c(Br)c1)c1ccccccc(2)O1)c1c[nH]c-ccc(F)cc1ncnc(O)n1\n",
      "CCCC[C@H]1c1ccccc(O)c1)NC(=O)C(C)(c1cc\n",
      "[19:54:29] SMILES Parse Error: Failed parsing SMILES 'C1-c2cccc(O)c(Br)c1)c1ccccccc(2)O1)c1c[nH]c-ccc(F)cc1ncnc(O)n1\n",
      "CCCC[C@H]1c1ccccc(O)c1)NC(=O)C(C)(c1cc' for input: 'C1-c2cccc(O)c(Br)c1)c1ccccccc(2)O1)c1c[nH]c-ccc(F)cc1ncnc(O)n1\n",
      "CCCC[C@H]1c1ccccc(O)c1)NC(=O)C(C)(c1cc'\n",
      " 66%|██████████████████████████▎             | 657/1000 [07:02<02:55,  1.95it/s][19:54:29] SMILES Parse Error: syntax error while parsing: C@H]1c1ccncc(O)c1c(N=C/C=C/c3cccoc3)S2)S1\n",
      "CCC(c1ccccnc1)Cc1cccsc(=O)n1)c1ccnccc(ncccc2c1)N(C(=O)C1=C(\n",
      "[19:54:29] SMILES Parse Error: Failed parsing SMILES 'C@H]1c1ccncc(O)c1c(N=C/C=C/c3cccoc3)S2)S1\n",
      "CCC(c1ccccnc1)Cc1cccsc(=O)n1)c1ccnccc(ncccc2c1)N(C(=O)C1=C(' for input: 'C@H]1c1ccncc(O)c1c(N=C/C=C/c3cccoc3)S2)S1\n",
      "CCC(c1ccccnc1)Cc1cccsc(=O)n1)c1ccnccc(ncccc2c1)N(C(=O)C1=C('\n",
      " 66%|██████████████████████████▎             | 658/1000 [07:03<03:01,  1.89it/s][19:54:30] SMILES Parse Error: extra close parentheses while parsing: C1c1cccc(F)cc1)(c1c1cccccc1)nccc(OC)c1ncc(nc2cc(F)cc(Br)c2ccsccnc2)n1ccc(n2cccoc2)n1)c1ccc(F)ccc1c1cc\n",
      "[19:54:30] SMILES Parse Error: Failed parsing SMILES 'C1c1cccc(F)cc1)(c1c1cccccc1)nccc(OC)c1ncc(nc2cc(F)cc(Br)c2ccsccnc2)n1ccc(n2cccoc2)n1)c1ccc(F)ccc1c1cc' for input: 'C1c1cccc(F)cc1)(c1c1cccccc1)nccc(OC)c1ncc(nc2cc(F)cc(Br)c2ccsccnc2)n1ccc(n2cccoc2)n1)c1ccc(F)ccc1c1cc'\n",
      " 66%|██████████████████████████▎             | 659/1000 [07:03<02:55,  1.94it/s][19:54:30] SMILES Parse Error: syntax error while parsing: CoH]1)N(CCCN1CC=CC1)c1cccccc1)n1Cc1ncccnc(C)c1c1cccc(O)nnc1)n1cccccc(c)c1)S(=O)(=O)C1CCc1cccccc1)nc1n\n",
      "[19:54:30] SMILES Parse Error: Failed parsing SMILES 'CoH]1)N(CCCN1CC=CC1)c1cccccc1)n1Cc1ncccnc(C)c1c1cccc(O)nnc1)n1cccccc(c)c1)S(=O)(=O)C1CCc1cccccc1)nc1n' for input: 'CoH]1)N(CCCN1CC=CC1)c1cccccc1)n1Cc1ncccnc(C)c1c1cccc(O)nnc1)n1cccccc(c)c1)S(=O)(=O)C1CCc1cccccc1)nc1n'\n",
      " 66%|██████████████████████████▍             | 660/1000 [07:04<02:59,  1.90it/s][19:54:31] SMILES Parse Error: syntax error while parsing: C@]2[C@@]1(CCO)c1ccccno1)[nH]c1c1cccccc1)nnc1)c1cccccc(F)c1)N(C[CCN)C(=O)C1c1ccccn1)n1cccc(=O)]n1)c1c\n",
      "[19:54:31] SMILES Parse Error: Failed parsing SMILES 'C@]2[C@@]1(CCO)c1ccccno1)[nH]c1c1cccccc1)nnc1)c1cccccc(F)c1)N(C[CCN)C(=O)C1c1ccccn1)n1cccc(=O)]n1)c1c' for input: 'C@]2[C@@]1(CCO)c1ccccno1)[nH]c1c1cccccc1)nnc1)c1cccccc(F)c1)N(C[CCN)C(=O)C1c1ccccn1)n1cccc(=O)]n1)c1c'\n",
      " 66%|██████████████████████████▍             | 661/1000 [07:04<02:54,  1.94it/s][19:54:32] SMILES Parse Error: extra close parentheses while parsing: CN)C(=O)c1cccc(C)nc(O)c1cccccn1)c1cccccn1)n1cccc(n(c)cc1)c1nccnnn12)C(=O)\n",
      "CC(=O)C1Cc1ccc(O)ccc1\n",
      "CCc3c\n",
      "[19:54:32] SMILES Parse Error: Failed parsing SMILES 'CN)C(=O)c1cccc(C)nc(O)c1cccccn1)c1cccccn1)n1cccc(n(c)cc1)c1nccnnn12)C(=O)\n",
      "CC(=O)C1Cc1ccc(O)ccc1\n",
      "CCc3c' for input: 'CN)C(=O)c1cccc(C)nc(O)c1cccccn1)c1cccccn1)n1cccc(n(c)cc1)c1nccnnn12)C(=O)\n",
      "CC(=O)C1Cc1ccc(O)ccc1\n",
      "CCc3c'\n",
      " 66%|██████████████████████████▍             | 662/1000 [07:05<03:00,  1.87it/s][19:54:32] SMILES Parse Error: extra close parentheses while parsing: C(=O)C2=C(=O)C3CCC(=O)N3)CC1cc(C)no1)c1ccccc(O)(=O)nc1)c1cccccnc1)n1=c1nccno1)c1cccc(C)(O)nc1)c1ccccc\n",
      "[19:54:32] SMILES Parse Error: Failed parsing SMILES 'C(=O)C2=C(=O)C3CCC(=O)N3)CC1cc(C)no1)c1ccccc(O)(=O)nc1)c1cccccnc1)n1=c1nccno1)c1cccc(C)(O)nc1)c1ccccc' for input: 'C(=O)C2=C(=O)C3CCC(=O)N3)CC1cc(C)no1)c1ccccc(O)(=O)nc1)c1cccccnc1)n1=c1nccno1)c1cccc(C)(O)nc1)c1ccccc'\n",
      " 66%|██████████████████████████▌             | 663/1000 [07:05<02:53,  1.94it/s][19:54:33] SMILES Parse Error: extra close parentheses while parsing: C(c2cccc4cccccn3)S2)nc2ccs1\n",
      "CCOC1=NC(=O)C(C)(C)C\n",
      "CC(CCC(=O)N1CCc2nc2ccc(Cl)cc(F)c1)[nH]O1)Nc1ccccc(O)\n",
      "[19:54:33] SMILES Parse Error: Failed parsing SMILES 'C(c2cccc4cccccn3)S2)nc2ccs1\n",
      "CCOC1=NC(=O)C(C)(C)C\n",
      "CC(CCC(=O)N1CCc2nc2ccc(Cl)cc(F)c1)[nH]O1)Nc1ccccc(O)' for input: 'C(c2cccc4cccccn3)S2)nc2ccs1\n",
      "CCOC1=NC(=O)C(C)(C)C\n",
      "CC(CCC(=O)N1CCc2nc2ccc(Cl)cc(F)c1)[nH]O1)Nc1ccccc(O)'\n",
      " 66%|██████████████████████████▌             | 664/1000 [07:06<02:58,  1.89it/s][19:54:33] SMILES Parse Error: extra close parentheses while parsing: C(c2ccc3cccccc3)noc2nn2c(c(=O)n)ccnc1C)nc1scc(Br)ccc1)(=O)n1cccccc1cc(F))c1nHncc(N)c1cccc(Br)cc(F)n1)\n",
      "[19:54:33] SMILES Parse Error: Failed parsing SMILES 'C(c2ccc3cccccc3)noc2nn2c(c(=O)n)ccnc1C)nc1scc(Br)ccc1)(=O)n1cccccc1cc(F))c1nHncc(N)c1cccc(Br)cc(F)n1)' for input: 'C(c2ccc3cccccc3)noc2nn2c(c(=O)n)ccnc1C)nc1scc(Br)ccc1)(=O)n1cccccc1cc(F))c1nHncc(N)c1cccc(Br)cc(F)n1)'\n",
      " 66%|██████████████████████████▌             | 665/1000 [07:06<02:52,  1.94it/s][19:54:34] SMILES Parse Error: extra close parentheses while parsing: CNB)c1ccccn1C\n",
      "CCC(OC)C(=O)C1Ccc2cccc(Br)cc2nc[nH]nc2s1)c1ccccccc1)(NC(C)(C)=O)C1=C[C@@H]lO1\n",
      "CCC(c1(C)\n",
      "[19:54:34] SMILES Parse Error: Failed parsing SMILES 'CNB)c1ccccn1C\n",
      "CCC(OC)C(=O)C1Ccc2cccc(Br)cc2nc[nH]nc2s1)c1ccccccc1)(NC(C)(C)=O)C1=C[C@@H]lO1\n",
      "CCC(c1(C)' for input: 'CNB)c1ccccn1C\n",
      "CCC(OC)C(=O)C1Ccc2cccc(Br)cc2nc[nH]nc2s1)c1ccccccc1)(NC(C)(C)=O)C1=C[C@@H]lO1\n",
      "CCC(c1(C)'\n",
      " 67%|██████████████████████████▋             | 666/1000 [07:07<03:11,  1.74it/s][19:54:34] SMILES Parse Error: extra close parentheses while parsing: C)NC[C@H]23c1cccccc1)n1ccc(Br)cc(Br)c3c1CC2=CC(=Cl)C+]1)C(=O)c1ccc(-c2ccncc2)n1)c1cccccc1)nc1nccccc1)\n",
      "[19:54:34] SMILES Parse Error: Failed parsing SMILES 'C)NC[C@H]23c1cccccc1)n1ccc(Br)cc(Br)c3c1CC2=CC(=Cl)C+]1)C(=O)c1ccc(-c2ccncc2)n1)c1cccccc1)nc1nccccc1)' for input: 'C)NC[C@H]23c1cccccc1)n1ccc(Br)cc(Br)c3c1CC2=CC(=Cl)C+]1)C(=O)c1ccc(-c2ccncc2)n1)c1cccccc1)nc1nccccc1)'\n",
      " 67%|██████████████████████████▋             | 667/1000 [07:08<03:02,  1.82it/s][19:54:35] SMILES Parse Error: extra close parentheses while parsing: C(=O)C=C/C=C/c3ccc(OCC)ncc34)sc1Cl)c1cccccc((O)n1cccncc1)c1cccccccc12cNcncnc(O)nc1)n1ccscn2c1nccc(N)(\n",
      "[19:54:35] SMILES Parse Error: Failed parsing SMILES 'C(=O)C=C/C=C/c3ccc(OCC)ncc34)sc1Cl)c1cccccc((O)n1cccncc1)c1cccccccc12cNcncnc(O)nc1)n1ccscn2c1nccc(N)(' for input: 'C(=O)C=C/C=C/c3ccc(OCC)ncc34)sc1Cl)c1cccccc((O)n1cccncc1)c1cccccccc12cNcncnc(O)nc1)n1ccscn2c1nccc(N)('\n",
      " 67%|██████████████████████████▋             | 668/1000 [07:08<03:07,  1.77it/s][19:54:35] SMILES Parse Error: extra close parentheses while parsing: C(=O)C1Cc1cccc(F)c1)(=O)=NN(C)C[C@H]1c1ccccFn2c1ncccn2)n1c(c)cc(C)cc1)c1cccc(O)(c1)c1ccccc(O)n1cccccc\n",
      "[19:54:35] SMILES Parse Error: Failed parsing SMILES 'C(=O)C1Cc1cccc(F)c1)(=O)=NN(C)C[C@H]1c1ccccFn2c1ncccn2)n1c(c)cc(C)cc1)c1cccc(O)(c1)c1ccccc(O)n1cccccc' for input: 'C(=O)C1Cc1cccc(F)c1)(=O)=NN(C)C[C@H]1c1ccccFn2c1ncccn2)n1c(c)cc(C)cc1)c1cccc(O)(c1)c1ccccc(O)n1cccccc'\n",
      " 67%|██████████████████████████▊             | 669/1000 [07:09<03:09,  1.75it/s][19:54:36] SMILES Parse Error: unclosed ring for input: 'CCC(N(C)C)#c3cc([nH](C)([nH]c4)scc1)N2\n",
      "CCC(c1cccc(O)nc1)N2\n",
      "CCC(C@](c)(c1)c1cccccc1)n1ccccc(n)c1)n1ccc'\n",
      " 67%|██████████████████████████▊             | 670/1000 [07:09<03:06,  1.77it/s][19:54:37] SMILES Parse Error: extra close parentheses while parsing: C/c3cccc(O)n3)cc1-c1cccc(Br)ccn1)n1cccc(C)ncc1c1cccccc1)c1cccccc1)n1cccccc1)nc1cccccccc1ccccc1)c1cccc\n",
      "[19:54:37] SMILES Parse Error: Failed parsing SMILES 'C/c3cccc(O)n3)cc1-c1cccc(Br)ccn1)n1cccc(C)ncc1c1cccccc1)c1cccccc1)n1cccccc1)nc1cccccccc1ccccc1)c1cccc' for input: 'C/c3cccc(O)n3)cc1-c1cccc(Br)ccn1)n1cccc(C)ncc1c1cccccc1)c1cccccc1)n1cccccc1)nc1cccccccc1ccccc1)c1cccc'\n",
      " 67%|██████████████████████████▊             | 671/1000 [07:10<03:20,  1.64it/s][19:54:37] SMILES Parse Error: extra close parentheses while parsing: CCCCNS(=O)(=O)Cl)C1nc(F)cccc1)[nH]c1cc(O)cccc1F)nc1cccccccc2ccccc(c2)nn1)c1cccccc1C1)CCNC(=O)C(=O)[n1\n",
      "[19:54:37] SMILES Parse Error: Failed parsing SMILES 'CCCCNS(=O)(=O)Cl)C1nc(F)cccc1)[nH]c1cc(O)cccc1F)nc1cccccccc2ccccc(c2)nn1)c1cccccc1C1)CCNC(=O)C(=O)[n1' for input: 'CCCCNS(=O)(=O)Cl)C1nc(F)cccc1)[nH]c1cc(O)cccc1F)nc1cccccccc2ccccc(c2)nn1)c1cccccc1C1)CCNC(=O)C(=O)[n1'\n",
      " 67%|██████████████████████████▉             | 672/1000 [07:11<03:14,  1.68it/s][19:54:38] SMILES Parse Error: extra close parentheses while parsing: CN(C)C1=C(=O)=O)n1c(nccc(O)nc2c(S(N)(=O)=[O)nc2nconc3c)C1\n",
      "CCCC1(c2ccccnn2)C(=O)C1s1cccnc1)(C)n1ccc(O)\n",
      "[19:54:38] SMILES Parse Error: Failed parsing SMILES 'CN(C)C1=C(=O)=O)n1c(nccc(O)nc2c(S(N)(=O)=[O)nc2nconc3c)C1\n",
      "CCCC1(c2ccccnn2)C(=O)C1s1cccnc1)(C)n1ccc(O)' for input: 'CN(C)C1=C(=O)=O)n1c(nccc(O)nc2c(S(N)(=O)=[O)nc2nconc3c)C1\n",
      "CCCC1(c2ccccnn2)C(=O)C1s1cccnc1)(C)n1ccc(O)'\n",
      " 67%|██████████████████████████▉             | 673/1000 [07:11<03:19,  1.64it/s][19:54:38] SMILES Parse Error: extra close parentheses while parsing: C2=C(=O)NS(=O)(=O)=c1ccccccc1)n1cccccc)c(Br)cc1)n1ccc(Br)cccn1)n1ccccc(F)(C)nc1)c1ccccccc1)n1ccccc(N)\n",
      "[19:54:38] SMILES Parse Error: Failed parsing SMILES 'C2=C(=O)NS(=O)(=O)=c1ccccccc1)n1cccccc)c(Br)cc1)n1ccc(Br)cccn1)n1ccccc(F)(C)nc1)c1ccccccc1)n1ccccc(N)' for input: 'C2=C(=O)NS(=O)(=O)=c1ccccccc1)n1cccccc)c(Br)cc1)n1ccc(Br)cccn1)n1ccccc(F)(C)nc1)c1ccccccc1)n1ccccc(N)'\n",
      " 67%|██████████████████████████▉             | 674/1000 [07:12<03:14,  1.68it/s][19:54:39] SMILES Parse Error: syntax error while parsing: C@@]1(c2cccc)cc1)c1cc1ccccccc(O)cc12n1Cc1cccs1)n1ccccc(c(c)cc1ncccc1)nc1ccc(F)cccc1c1ncc(C)ccc(Br)c1)\n",
      "[19:54:39] SMILES Parse Error: Failed parsing SMILES 'C@@]1(c2cccc)cc1)c1cc1ccccccc(O)cc12n1Cc1cccs1)n1ccccc(c(c)cc1ncccc1)nc1ccc(F)cccc1c1ncc(C)ccc(Br)c1)' for input: 'C@@]1(c2cccc)cc1)c1cc1ccccccc(O)cc12n1Cc1cccs1)n1ccccc(c(c)cc1ncccc1)nc1ccc(F)cccc1c1ncc(C)ccc(Br)c1)'\n",
      " 68%|███████████████████████████             | 675/1000 [07:12<03:10,  1.71it/s][19:54:40] SMILES Parse Error: unclosed ring for input: 'CCC[C@]1[C@H]\n",
      "CCOC(=O)C1=C(CN)C(=O)c1ccccc1Cc1cccccc1)c2cccnco2)(c2cccccc1)c1cccc(O)cc(Br)(c1)n1ccccc'\n",
      " 68%|███████████████████████████             | 676/1000 [07:13<03:17,  1.64it/s][19:54:40] SMILES Parse Error: extra close parentheses while parsing: C1)c1cccccc1n1ncnc(O)ncc1Cc1cc(O)nccc1c1cccsc1)n1Cc2ccc(-n2cnc(-c2cnc(Br)cc(=O)no1)c1ccccc(F)cc1)c1cc\n",
      "[19:54:40] SMILES Parse Error: Failed parsing SMILES 'C1)c1cccccc1n1ncnc(O)ncc1Cc1cc(O)nccc1c1cccsc1)n1Cc2ccc(-n2cnc(-c2cnc(Br)cc(=O)no1)c1ccccc(F)cc1)c1cc' for input: 'C1)c1cccccc1n1ncnc(O)ncc1Cc1cc(O)nccc1c1cccsc1)n1Cc2ccc(-n2cnc(-c2cnc(Br)cc(=O)no1)c1ccccc(F)cc1)c1cc'\n",
      " 68%|███████████████████████████             | 677/1000 [07:13<03:09,  1.70it/s][19:54:41] SMILES Parse Error: extra close parentheses while parsing: C(=O)n1Cc1cccc(C)n1)C(=O)CC1C1)c1cccccccc1)n1cccccc(O)n1Cc1ccc(Occccc)c1)n1cccc(O)ncc1ccccc(F)(c1)cnc\n",
      "[19:54:41] SMILES Parse Error: Failed parsing SMILES 'C(=O)n1Cc1cccc(C)n1)C(=O)CC1C1)c1cccccccc1)n1cccccc(O)n1Cc1ccc(Occccc)c1)n1cccc(O)ncc1ccccc(F)(c1)cnc' for input: 'C(=O)n1Cc1cccc(C)n1)C(=O)CC1C1)c1cccccccc1)n1cccccc(O)n1Cc1ccc(Occccc)c1)n1cccc(O)ncc1ccccc(F)(c1)cnc'\n",
      " 68%|███████████████████████████             | 678/1000 [07:14<03:12,  1.68it/s][19:54:41] SMILES Parse Error: extra close parentheses while parsing: C2)c1-c1nc[nH]c1(C)C)=N1CC(O)(c1cccsc1)C(=O)CC\n",
      "CCC(c1ccc(B)nc(=O)n1c1ccc(Br)ccc1)C(=O)C(C)(C)n1cccc2n\n",
      "[19:54:41] SMILES Parse Error: Failed parsing SMILES 'C2)c1-c1nc[nH]c1(C)C)=N1CC(O)(c1cccsc1)C(=O)CC\n",
      "CCC(c1ccc(B)nc(=O)n1c1ccc(Br)ccc1)C(=O)C(C)(C)n1cccc2n' for input: 'C2)c1-c1nc[nH]c1(C)C)=N1CC(O)(c1cccsc1)C(=O)CC\n",
      "CCC(c1ccc(B)nc(=O)n1c1ccc(Br)ccc1)C(=O)C(C)(C)n1cccc2n'\n",
      " 68%|███████████████████████████▏            | 679/1000 [07:15<03:01,  1.77it/s][19:54:42] SMILES Parse Error: extra close parentheses while parsing: C1=C(COc2ccccn2)[nH]2c)c1\n",
      "CCCC(=O)C1=NN(C(=O)C(c3ccc(Br)ccc3N(C)C=S(=O)=O)C(=O)=1)O\n",
      "CC(=O)C(C)F\n",
      "CCC(c\n",
      "[19:54:42] SMILES Parse Error: Failed parsing SMILES 'C1=C(COc2ccccn2)[nH]2c)c1\n",
      "CCCC(=O)C1=NN(C(=O)C(c3ccc(Br)ccc3N(C)C=S(=O)=O)C(=O)=1)O\n",
      "CC(=O)C(C)F\n",
      "CCC(c' for input: 'C1=C(COc2ccccn2)[nH]2c)c1\n",
      "CCCC(=O)C1=NN(C(=O)C(c3ccc(Br)ccc3N(C)C=S(=O)=O)C(=O)=1)O\n",
      "CC(=O)C(C)F\n",
      "CCC(c'\n",
      " 68%|███████████████████████████▏            | 680/1000 [07:15<03:01,  1.76it/s][19:54:42] SMILES Parse Error: syntax error while parsing: C@H](c1ccccn2)nc1cccccccc1)nc1)(=O)(=NC[C@@H]1c1cccc(O)n1)c1cccccn1)n1cc(nccnc2)nc(c2cccc(F)cc(Br)c1)\n",
      "[19:54:42] SMILES Parse Error: Failed parsing SMILES 'C@H](c1ccccn2)nc1cccccccc1)nc1)(=O)(=NC[C@@H]1c1cccc(O)n1)c1cccccn1)n1cc(nccnc2)nc(c2cccc(F)cc(Br)c1)' for input: 'C@H](c1ccccn2)nc1cccccccc1)nc1)(=O)(=NC[C@@H]1c1cccc(O)n1)c1cccccn1)n1cc(nccnc2)nc(c2cccc(F)cc(Br)c1)'\n",
      " 68%|███████████████████████████▏            | 681/1000 [07:16<02:51,  1.86it/s][19:54:43] SMILES Parse Error: extra close parentheses while parsing: C(=O)n2)O1)c1cccccc(F)cc1cccc([C(H)(CC)c1ncc[nH]c1)c1cccccc(F)c3cccs(O)c2c1CC(F)(F)C1)c1cccccc1OCn1nc\n",
      "[19:54:43] SMILES Parse Error: Failed parsing SMILES 'C(=O)n2)O1)c1cccccc(F)cc1cccc([C(H)(CC)c1ncc[nH]c1)c1cccccc(F)c3cccs(O)c2c1CC(F)(F)C1)c1cccccc1OCn1nc' for input: 'C(=O)n2)O1)c1cccccc(F)cc1cccc([C(H)(CC)c1ncc[nH]c1)c1cccccc(F)c3cccs(O)c2c1CC(F)(F)C1)c1cccccc1OCn1nc'\n",
      " 68%|███████████████████████████▎            | 682/1000 [07:17<03:43,  1.43it/s][19:54:44] SMILES Parse Error: extra close parentheses while parsing: C1(C)C(=O)N)C(=O)[C@\n",
      "CCC(c1ccccc(F)c1)N(CC[C@H]1COC[C@H]1CC[C@@H]1CC[C@@1()c1nccc(C)c(O)n1)c1nc2ccc(B\n",
      "[19:54:44] SMILES Parse Error: Failed parsing SMILES 'C1(C)C(=O)N)C(=O)[C@\n",
      "CCC(c1ccccc(F)c1)N(CC[C@H]1COC[C@H]1CC[C@@H]1CC[C@@1()c1nccc(C)c(O)n1)c1nc2ccc(B' for input: 'C1(C)C(=O)N)C(=O)[C@\n",
      "CCC(c1ccccc(F)c1)N(CC[C@H]1COC[C@H]1CC[C@@H]1CC[C@@1()c1nccc(C)c(O)n1)c1nc2ccc(B'\n",
      " 68%|███████████████████████████▎            | 684/1000 [07:18<03:56,  1.33it/s][19:54:46] SMILES Parse Error: extra close parentheses while parsing: C[C@H]1c1ccccnc1)n1ccccc(C)c(O)nc1)c1cccc(F)(F)cccc1)n1cccc(c(ncccccc2)ccccc1)n1cccccccc1O)n1ccccccc2\n",
      "[19:54:46] SMILES Parse Error: Failed parsing SMILES 'C[C@H]1c1ccccnc1)n1ccccc(C)c(O)nc1)c1cccc(F)(F)cccc1)n1cccc(c(ncccccc2)ccccc1)n1cccccccc1O)n1ccccccc2' for input: 'C[C@H]1c1ccccnc1)n1ccccc(C)c(O)nc1)c1cccc(F)(F)cccc1)n1cccc(c(ncccccc2)ccccc1)n1cccccccc1O)n1ccccccc2'\n",
      " 68%|███████████████████████████▍            | 685/1000 [07:19<04:08,  1.27it/s][19:54:46] SMILES Parse Error: extra close parentheses while parsing: C)ccc2)c2ccc(-c3ccc(OC)cc3)SC1(CC)C)(Br)=c1ccccc(O)n1)n1ccc(C)nc(O)n1)c1cccc(F)cc1)N2N2C[C@H](O)C(=O)\n",
      "[19:54:46] SMILES Parse Error: Failed parsing SMILES 'C)ccc2)c2ccc(-c3ccc(OC)cc3)SC1(CC)C)(Br)=c1ccccc(O)n1)n1ccc(C)nc(O)n1)c1cccc(F)cc1)N2N2C[C@H](O)C(=O)' for input: 'C)ccc2)c2ccc(-c3ccc(OC)cc3)SC1(CC)C)(Br)=c1ccccc(O)n1)n1ccc(C)nc(O)n1)c1cccc(F)cc1)N2N2C[C@H](O)C(=O)'\n",
      " 69%|███████████████████████████▍            | 686/1000 [07:20<03:47,  1.38it/s][19:54:47] SMILES Parse Error: extra close parentheses while parsing: C)1C(CNc1ccccc(F)c1)C(=O)C1CCOC(=O)(O)=c1ccccccc1n1)c1cccc(O)n1)C(=O)c1ccccc(NC(=O)c1cccc(Br)cc1)c1cc\n",
      "[19:54:47] SMILES Parse Error: Failed parsing SMILES 'C)1C(CNc1ccccc(F)c1)C(=O)C1CCOC(=O)(O)=c1ccccccc1n1)c1cccc(O)n1)C(=O)c1ccccc(NC(=O)c1cccc(Br)cc1)c1cc' for input: 'C)1C(CNc1ccccc(F)c1)C(=O)C1CCOC(=O)(O)=c1ccccccc1n1)c1cccc(O)n1)C(=O)c1ccccc(NC(=O)c1cccc(Br)cc1)c1cc'\n",
      " 69%|███████████████████████████▍            | 687/1000 [07:20<03:24,  1.53it/s][19:54:48] SMILES Parse Error: extra close parentheses while parsing: C2=C(C1=O)OC(=OC[C@H]1c1cccc(c1)n1ccsccn1)c1nccc(F)cn1)(C)C[C@@H](F)c1ccccc(O)n)c1)c1cccccc(F)(F)c1)N\n",
      "[19:54:48] SMILES Parse Error: Failed parsing SMILES 'C2=C(C1=O)OC(=OC[C@H]1c1cccc(c1)n1ccsccn1)c1nccc(F)cn1)(C)C[C@@H](F)c1ccccc(O)n)c1)c1cccccc(F)(F)c1)N' for input: 'C2=C(C1=O)OC(=OC[C@H]1c1cccc(c1)n1ccsccn1)c1nccc(F)cn1)(C)C[C@@H](F)c1ccccc(O)n)c1)c1cccccc(F)(F)c1)N'\n",
      " 69%|███████████████████████████▌            | 688/1000 [07:21<03:29,  1.49it/s][19:54:48] Explicit valence for atom # 4 O, 4, is greater than permitted\n",
      " 69%|███████████████████████████▌            | 689/1000 [07:21<03:12,  1.62it/s][19:54:49] SMILES Parse Error: extra close parentheses while parsing: C(=O)SC1(=O)CCc2cccc(O)nc2)c1c\n",
      "CC(N)C(=O)C1=NN(C(=O)C(OC)C(=O)c2cncc(N)(C)=ncnc1)(n1ccccccc4cc3c)cr1)\n",
      "[19:54:49] SMILES Parse Error: Failed parsing SMILES 'C(=O)SC1(=O)CCc2cccc(O)nc2)c1c\n",
      "CC(N)C(=O)C1=NN(C(=O)C(OC)C(=O)c2cncc(N)(C)=ncnc1)(n1ccccccc4cc3c)cr1)' for input: 'C(=O)SC1(=O)CCc2cccc(O)nc2)c1c\n",
      "CC(N)C(=O)C1=NN(C(=O)C(OC)C(=O)c2cncc(N)(C)=ncnc1)(n1ccccccc4cc3c)cr1)'\n",
      " 69%|███████████████████████████▌            | 690/1000 [07:22<03:16,  1.58it/s][19:54:49] SMILES Parse Error: extra close parentheses while parsing: C)C\n",
      "CCC(c1ccccc(F)cC(=O)n1)N1CCC(=O)C(=O)C1)c1cccccc1OC(C)(=O)=(C)C\n",
      "CC(N(C)C(=O)C1CCc2c1ccccc(C)c(n2)\n",
      "[19:54:49] SMILES Parse Error: Failed parsing SMILES 'C)C\n",
      "CCC(c1ccccc(F)cC(=O)n1)N1CCC(=O)C(=O)C1)c1cccccc1OC(C)(=O)=(C)C\n",
      "CC(N(C)C(=O)C1CCc2c1ccccc(C)c(n2)' for input: 'C)C\n",
      "CCC(c1ccccc(F)cC(=O)n1)N1CCC(=O)C(=O)C1)c1cccccc1OC(C)(=O)=(C)C\n",
      "CC(N(C)C(=O)C1CCc2c1ccccc(C)c(n2)'\n",
      " 69%|███████████████████████████▋            | 691/1000 [07:23<03:06,  1.65it/s][19:54:50] SMILES Parse Error: extra close parentheses while parsing: C)Csc2cccccn2)n1ccccc1c(S)nccc(ccccc1)c1cccccc(SO)cc(Br)cN1ccccccc1)(c1ncccccSc(O)(c2cccccc1)ncc1)c1c\n",
      "[19:54:50] SMILES Parse Error: Failed parsing SMILES 'C)Csc2cccccn2)n1ccccc1c(S)nccc(ccccc1)c1cccccc(SO)cc(Br)cN1ccccccc1)(c1ncccccSc(O)(c2cccccc1)ncc1)c1c' for input: 'C)Csc2cccccn2)n1ccccc1c(S)nccc(ccccc1)c1cccccc(SO)cc(Br)cN1ccccccc1)(c1ncccccSc(O)(c2cccccc1)ncc1)c1c'\n",
      " 69%|███████████████████████████▋            | 692/1000 [07:23<03:13,  1.59it/s][19:54:51] SMILES Parse Error: extra close parentheses while parsing: C(N(C)C)S(=O)(=O)(c1cc(F)=c(F)sc(F)c1ccccccc1)nc1)c1cccccc1nccccnc1)c1cccc(=O)n1Cc1ccccc(F)(F)cc1)c1n\n",
      "[19:54:51] SMILES Parse Error: Failed parsing SMILES 'C(N(C)C)S(=O)(=O)(c1cc(F)=c(F)sc(F)c1ccccccc1)nc1)c1cccccc1nccccnc1)c1cccc(=O)n1Cc1ccccc(F)(F)cc1)c1n' for input: 'C(N(C)C)S(=O)(=O)(c1cc(F)=c(F)sc(F)c1ccccccc1)nc1)c1cccccc1nccccnc1)c1cccc(=O)n1Cc1ccccc(F)(F)cc1)c1n'\n",
      " 69%|███████████████████████████▋            | 693/1000 [07:24<03:05,  1.66it/s][19:54:51] SMILES Parse Error: extra close parentheses while parsing: C)NC(=O)C(=O)N1CCc2c(C2\n",
      "CCOC(=O)C(c1ccccc(F)c1)c1cccn(C)ns1)NC(=O)C(=O)c1cccccn1)Cc1ccccc(-c2ccsc2)nc\n",
      "[19:54:51] SMILES Parse Error: Failed parsing SMILES 'C)NC(=O)C(=O)N1CCc2c(C2\n",
      "CCOC(=O)C(c1ccccc(F)c1)c1cccn(C)ns1)NC(=O)C(=O)c1cccccn1)Cc1ccccc(-c2ccsc2)nc' for input: 'C)NC(=O)C(=O)N1CCc2c(C2\n",
      "CCOC(=O)C(c1ccccc(F)c1)c1cccn(C)ns1)NC(=O)C(=O)c1cccccn1)Cc1ccccc(-c2ccsc2)nc'\n",
      " 69%|███████████████████████████▊            | 694/1000 [07:24<03:01,  1.68it/s][19:54:52] SMILES Parse Error: syntax error while parsing: C@]2C1)c1cccnc(O)c1ccccccn1)n1cccccccnc12C(C)(=O)C(=O)c1cccc(OC)n1Cc1cccnc1)n1nccnc(O)c1)c1cccoc1)CC(\n",
      "[19:54:52] SMILES Parse Error: Failed parsing SMILES 'C@]2C1)c1cccnc(O)c1ccccccn1)n1cccccccnc12C(C)(=O)C(=O)c1cccc(OC)n1Cc1cccnc1)n1nccnc(O)c1)c1cccoc1)CC(' for input: 'C@]2C1)c1cccnc(O)c1ccccccn1)n1cccccccnc12C(C)(=O)C(=O)c1cccc(OC)n1Cc1cccnc1)n1nccnc(O)c1)c1cccoc1)CC('\n",
      " 70%|███████████████████████████▊            | 695/1000 [07:25<02:52,  1.77it/s][19:54:52] SMILES Parse Error: extra close parentheses while parsing: CCOC(=O)C2=COC)c1cccc(F)cc1)n1ccccnc1O)c1ccccccc1cccc(F)(F)c1)n1ccccc(s2)c1cccccc1)Cn1ccc([nH](F)cccc\n",
      "[19:54:52] SMILES Parse Error: Failed parsing SMILES 'CCOC(=O)C2=COC)c1cccc(F)cc1)n1ccccnc1O)c1ccccccc1cccc(F)(F)c1)n1ccccc(s2)c1cccccc1)Cn1ccc([nH](F)cccc' for input: 'CCOC(=O)C2=COC)c1cccc(F)cc1)n1ccccnc1O)c1ccccccc1cccc(F)(F)c1)n1ccccc(s2)c1cccccc1)Cn1ccc([nH](F)cccc'\n",
      " 70%|███████████████████████████▊            | 696/1000 [07:26<02:55,  1.73it/s][19:54:53] SMILES Parse Error: extra close parentheses while parsing: Cc4c3cc=OC)CC[C@H]2c2nc2nc3C)noc2c1ccc(Br)ccc2F)n1Cc1ccc(F)ccc1ncccOc1)c1ccccccc(Br)cn1)NC(=S)n1ccccn\n",
      "[19:54:53] SMILES Parse Error: Failed parsing SMILES 'Cc4c3cc=OC)CC[C@H]2c2nc2nc3C)noc2c1ccc(Br)ccc2F)n1Cc1ccc(F)ccc1ncccOc1)c1ccccccc(Br)cn1)NC(=S)n1ccccn' for input: 'Cc4c3cc=OC)CC[C@H]2c2nc2nc3C)noc2c1ccc(Br)ccc2F)n1Cc1ccc(F)ccc1ncccOc1)c1ccccccc(Br)cn1)NC(=S)n1ccccn'\n",
      " 70%|███████████████████████████▉            | 697/1000 [07:26<02:45,  1.83it/s][19:54:53] SMILES Parse Error: syntax error while parsing: C@N2c3cc(F)ncc3OC[C@H]2C[C@H]1c1scccnc()C(()C)cc1nccc(n)cc2c1)c1ccc(F)ccc(F)cn1)c1ccccccc(1)n1cccc(Sc\n",
      "[19:54:53] SMILES Parse Error: Failed parsing SMILES 'C@N2c3cc(F)ncc3OC[C@H]2C[C@H]1c1scccnc()C(()C)cc1nccc(n)cc2c1)c1ccc(F)ccc(F)cn1)c1ccccccc(1)n1cccc(Sc' for input: 'C@N2c3cc(F)ncc3OC[C@H]2C[C@H]1c1scccnc()C(()C)cc1nccc(n)cc2c1)c1ccc(F)ccc(F)cn1)c1ccccccc(1)n1cccc(Sc'\n",
      " 70%|███████████████████████████▉            | 698/1000 [07:27<02:46,  1.82it/s][19:54:54] SMILES Parse Error: extra close parentheses while parsing: C3(O)=C(c3ccco4)c3cc(=S)NO2)cc1C(F)(F)F)n1c(cccccc2nc(Br)ccs1)n1ccccc(n2c(c)cc([nH]c1)c1cccccc1)n1Cc1\n",
      "[19:54:54] SMILES Parse Error: Failed parsing SMILES 'C3(O)=C(c3ccco4)c3cc(=S)NO2)cc1C(F)(F)F)n1c(cccccc2nc(Br)ccs1)n1ccccc(n2c(c)cc([nH]c1)c1cccccc1)n1Cc1' for input: 'C3(O)=C(c3ccco4)c3cc(=S)NO2)cc1C(F)(F)F)n1c(cccccc2nc(Br)ccs1)n1ccccc(n2c(c)cc([nH]c1)c1cccccc1)n1Cc1'\n",
      " 70%|███████████████████████████▉            | 699/1000 [07:27<02:39,  1.89it/s][19:54:54] SMILES Parse Error: extra close parentheses while parsing: C(=O)C1CCOCC1)c1cccccc1C\n",
      "CCS(=O)(=O)c1ccccc(N1CCC(=O)N(C)CC)c1ccnoc1C)c1cccccn1)C\n",
      "CCC(c1cccnc(F)c1)(O\n",
      "[19:54:54] SMILES Parse Error: Failed parsing SMILES 'C(=O)C1CCOCC1)c1cccccc1C\n",
      "CCS(=O)(=O)c1ccccc(N1CCC(=O)N(C)CC)c1ccnoc1C)c1cccccn1)C\n",
      "CCC(c1cccnc(F)c1)(O' for input: 'C(=O)C1CCOCC1)c1cccccc1C\n",
      "CCS(=O)(=O)c1ccccc(N1CCC(=O)N(C)CC)c1ccnoc1C)c1cccccn1)C\n",
      "CCC(c1cccnc(F)c1)(O'\n",
      " 70%|████████████████████████████            | 700/1000 [07:28<02:49,  1.77it/s][19:54:55] SMILES Parse Error: extra close parentheses while parsing: Cn1ccc(Br)c3c(O)ncnc2c1)c1ccccc1n1cccccc1)c1cccccc(c)c1)C(=O)=1COc1cccnc(O)(c2ccccO(c1)n1cccc(O)ncc1)\n",
      "[19:54:55] SMILES Parse Error: Failed parsing SMILES 'Cn1ccc(Br)c3c(O)ncnc2c1)c1ccccc1n1cccccc1)c1cccccc(c)c1)C(=O)=1COc1cccnc(O)(c2ccccO(c1)n1cccc(O)ncc1)' for input: 'Cn1ccc(Br)c3c(O)ncnc2c1)c1ccccc1n1cccccc1)c1cccccc(c)c1)C(=O)=1COc1cccnc(O)(c2ccccO(c1)n1cccc(O)ncc1)'\n",
      " 70%|████████████████████████████            | 701/1000 [07:28<02:41,  1.85it/s][19:54:56] SMILES Parse Error: extra close parentheses while parsing: CN1c1ccccn1)C(=C)c1ccccnO)n1)c1cccc(F)(C)=O)cc1)C1nc2cccsc2c(=O)nc2ccccc1c(O)n1cccc(c()c1)c(ncccccc1)\n",
      "[19:54:56] SMILES Parse Error: Failed parsing SMILES 'CN1c1ccccn1)C(=C)c1ccccnO)n1)c1cccc(F)(C)=O)cc1)C1nc2cccsc2c(=O)nc2ccccc1c(O)n1cccc(c()c1)c(ncccccc1)' for input: 'CN1c1ccccn1)C(=C)c1ccccnO)n1)c1cccc(F)(C)=O)cc1)C1nc2cccsc2c(=O)nc2ccccc1c(O)n1cccc(c()c1)c(ncccccc1)'\n",
      " 70%|████████████████████████████            | 702/1000 [07:29<02:54,  1.71it/s][19:54:56] SMILES Parse Error: extra close parentheses while parsing: C)(c3cccn(O)c3c=N(C(=O)=O)/n1cc(C(=O)C(C)(C)C)ncc2)[C@c2ccc(n)cc2)nc12CCc2c+ccc(F)cn1)c1cccccc1)n1ccc\n",
      "[19:54:56] SMILES Parse Error: Failed parsing SMILES 'C)(c3cccn(O)c3c=N(C(=O)=O)/n1cc(C(=O)C(C)(C)C)ncc2)[C@c2ccc(n)cc2)nc12CCc2c+ccc(F)cn1)c1cccccc1)n1ccc' for input: 'C)(c3cccn(O)c3c=N(C(=O)=O)/n1cc(C(=O)C(C)(C)C)ncc2)[C@c2ccc(n)cc2)nc12CCc2c+ccc(F)cn1)c1cccccc1)n1ccc'\n",
      " 70%|████████████████████████████            | 703/1000 [07:29<02:46,  1.78it/s][19:54:57] SMILES Parse Error: extra close parentheses while parsing: C)C\n",
      "CC(=O)C1Cc2c(iccc(F)ccc1N[C@H]2c1cccccn1)nc1ccccccc2)n1ccnccc2c1CCN(C(C)=O)C(=O)nHc1ccccn1)C1CCc1\n",
      "[19:54:57] SMILES Parse Error: Failed parsing SMILES 'C)C\n",
      "CC(=O)C1Cc2c(iccc(F)ccc1N[C@H]2c1cccccn1)nc1ccccccc2)n1ccnccc2c1CCN(C(C)=O)C(=O)nHc1ccccn1)C1CCc1' for input: 'C)C\n",
      "CC(=O)C1Cc2c(iccc(F)ccc1N[C@H]2c1cccccn1)nc1ccccccc2)n1ccnccc2c1CCN(C(C)=O)C(=O)nHc1ccccn1)C1CCc1'\n",
      " 70%|████████████████████████████▏           | 705/1000 [07:31<02:46,  1.78it/s][19:54:58] SMILES Parse Error: syntax error while parsing: C@@H](N)C(=O)NC1=NN(C(=O)C(C)(C)C)c1cccccc(F)(c1)n1ccccc(F)c1)nnc1ccccc(=O)nc1)c1cccccc2c1Cc(F(F)cccc\n",
      "[19:54:58] SMILES Parse Error: Failed parsing SMILES 'C@@H](N)C(=O)NC1=NN(C(=O)C(C)(C)C)c1cccccc(F)(c1)n1ccccc(F)c1)nnc1ccccc(=O)nc1)c1cccccc2c1Cc(F(F)cccc' for input: 'C@@H](N)C(=O)NC1=NN(C(=O)C(C)(C)C)c1cccccc(F)(c1)n1ccccc(F)c1)nnc1ccccc(=O)nc1)c1cccccc2c1Cc(F(F)cccc'\n",
      " 71%|████████████████████████████▏           | 706/1000 [07:31<02:46,  1.77it/s][19:54:58] SMILES Parse Error: extra close parentheses while parsing: Cc2ccsc2)sc(=O)n1Cc1ccccc1)c1nccncn1)c1ccc(Br(F)(F)c3ccccc1)c1ccccnc()c2c(nccccncc2n(ncccccc2c1)NC(=O\n",
      "[19:54:58] SMILES Parse Error: Failed parsing SMILES 'Cc2ccsc2)sc(=O)n1Cc1ccccc1)c1nccncn1)c1ccc(Br(F)(F)c3ccccc1)c1ccccnc()c2c(nccccncc2n(ncccccc2c1)NC(=O' for input: 'Cc2ccsc2)sc(=O)n1Cc1ccccc1)c1nccncn1)c1ccc(Br(F)(F)c3ccccc1)c1ccccnc()c2c(nccccncc2n(ncccccc2c1)NC(=O'\n",
      " 71%|████████████████████████████▎           | 707/1000 [07:32<02:48,  1.74it/s][19:54:59] SMILES Parse Error: extra close parentheses while parsing: C1=NN(C(=O)C(c)c1cccccn2)nnnc1)n1ccc(nccccc2c)c(F)cc1)N2C1=C(=O)N1\n",
      "CC(=O)C1=NN(C(=O)C(=O)/c2ncc(Br)cc\n",
      "[19:54:59] SMILES Parse Error: Failed parsing SMILES 'C1=NN(C(=O)C(c)c1cccccn2)nnnc1)n1ccc(nccccc2c)c(F)cc1)N2C1=C(=O)N1\n",
      "CC(=O)C1=NN(C(=O)C(=O)/c2ncc(Br)cc' for input: 'C1=NN(C(=O)C(c)c1cccccn2)nnnc1)n1ccc(nccccc2c)c(F)cc1)N2C1=C(=O)N1\n",
      "CC(=O)C1=NN(C(=O)C(=O)/c2ncc(Br)cc'\n",
      " 71%|████████████████████████████▎           | 708/1000 [07:32<02:57,  1.65it/s][19:55:00] SMILES Parse Error: extra close parentheses while parsing: CCOC(=O)C1CCN([C@@H]2c1ccccc(O)c3ccccn1)C1OC)=c1ccccc((O)nc1Sc1ccccc(F)cc1)NC(=O)(c1ccccccc1)c1cccc(F\n",
      "[19:55:00] SMILES Parse Error: Failed parsing SMILES 'CCOC(=O)C1CCN([C@@H]2c1ccccc(O)c3ccccn1)C1OC)=c1ccccc((O)nc1Sc1ccccc(F)cc1)NC(=O)(c1ccccccc1)c1cccc(F' for input: 'CCOC(=O)C1CCN([C@@H]2c1ccccc(O)c3ccccn1)C1OC)=c1ccccc((O)nc1Sc1ccccc(F)cc1)NC(=O)(c1ccccccc1)c1cccc(F'\n",
      " 71%|████████████████████████████▎           | 709/1000 [07:33<02:50,  1.71it/s][19:55:01] SMILES Parse Error: extra close parentheses while parsing: C)(=C/c3ccc(C)cc3)S2n1ccc(O)nc2)C1(C)(c+cccccc1)n1cccc(c)cc1)C(=O)c1ncc([nH]c2ccccs1)2C[C@@H]1CCCO-1\n",
      "\n",
      "[19:55:01] SMILES Parse Error: Failed parsing SMILES 'C)(=C/c3ccc(C)cc3)S2n1ccc(O)nc2)C1(C)(c+cccccc1)n1cccc(c)cc1)C(=O)c1ncc([nH]c2ccccs1)2C[C@@H]1CCCO-1\n",
      "' for input: 'C)(=C/c3ccc(C)cc3)S2n1ccc(O)nc2)C1(C)(c+cccccc1)n1cccc(c)cc1)C(=O)c1ncc([nH]c2ccccs1)2C[C@@H]1CCCO-1\n",
      "'\n",
      " 71%|████████████████████████████▍           | 710/1000 [07:34<03:25,  1.41it/s][19:55:02] SMILES Parse Error: extra close parentheses while parsing: Cc3ccc(OC)cco2)n1)Sn1cccc(F)cc1)[nH]1c1cccccc1)c1ccccccc(F)(F)c1ccccc(F)c1)N2\n",
      "CC(=O1\n",
      "CCC(c1cccnc2)CC(\n",
      "[19:55:02] SMILES Parse Error: Failed parsing SMILES 'Cc3ccc(OC)cco2)n1)Sn1cccc(F)cc1)[nH]1c1cccccc1)c1ccccccc(F)(F)c1ccccc(F)c1)N2\n",
      "CC(=O1\n",
      "CCC(c1cccnc2)CC(' for input: 'Cc3ccc(OC)cco2)n1)Sn1cccc(F)cc1)[nH]1c1cccccc1)c1ccccccc(F)(F)c1ccccc(F)c1)N2\n",
      "CC(=O1\n",
      "CCC(c1cccnc2)CC('\n",
      " 71%|████████████████████████████▍           | 711/1000 [07:35<04:03,  1.19it/s][19:55:02] SMILES Parse Error: unclosed ring for input: 'C[C@]14\n",
      "CC(=O)C1=NN(C(=O)C(C)(C)C)c1cccccc1n1ccccc(F)cc1)N1[C@H](c2ccccc(O)c(O)nc2)S1)c1ccccccc1)C(=O'\n",
      " 71%|████████████████████████████▍           | 712/1000 [07:36<03:35,  1.34it/s][19:55:03] SMILES Parse Error: extra close parentheses while parsing: C(c3ccso1)n2ccnc(C)nn2)(cc=nocc2[nH]1)c1ccc(Br)ccc(F)c1O)n1ccc(Br)ccc1)N2\n",
      "CC(=O)C1(cBcccc(N)ncc2)c1cc\n",
      "[19:55:03] SMILES Parse Error: Failed parsing SMILES 'C(c3ccso1)n2ccnc(C)nn2)(cc=nocc2[nH]1)c1ccc(Br)ccc(F)c1O)n1ccc(Br)ccc1)N2\n",
      "CC(=O)C1(cBcccc(N)ncc2)c1cc' for input: 'C(c3ccso1)n2ccnc(C)nn2)(cc=nocc2[nH]1)c1ccc(Br)ccc(F)c1O)n1ccc(Br)ccc1)N2\n",
      "CC(=O)C1(cBcccc(N)ncc2)c1cc'\n",
      " 71%|████████████████████████████▌           | 713/1000 [07:36<03:24,  1.40it/s][19:55:03] SMILES Parse Error: extra close parentheses while parsing: C1c1cccc(O)nc1)c1nc2cccs2N(F)(C)C)c1cccsc1CCSC[C@H](F)C\n",
      "CC1(C)COcc2cncc(N(C)C)ccc2F)C[C@H]1c1cccccc1n\n",
      "[19:55:03] SMILES Parse Error: Failed parsing SMILES 'C1c1cccc(O)nc1)c1nc2cccs2N(F)(C)C)c1cccsc1CCSC[C@H](F)C\n",
      "CC1(C)COcc2cncc(N(C)C)ccc2F)C[C@H]1c1cccccc1n' for input: 'C1c1cccc(O)nc1)c1nc2cccs2N(F)(C)C)c1cccsc1CCSC[C@H](F)C\n",
      "CC1(C)COcc2cncc(N(C)C)ccc2F)C[C@H]1c1cccccc1n'\n",
      " 72%|████████████████████████████▋           | 716/1000 [07:38<02:45,  1.72it/s][19:55:05] SMILES Parse Error: extra close parentheses while parsing: CN=C)NC(=S)NC1=C(=O)/C(=O)C(=O)C1C[@@H]2c1cccc(O)n1Cc1cccc(F)cc1)n1Cc1cccc(O)(C)c1cccc(F)cc1)n1cccc(F\n",
      "[19:55:05] SMILES Parse Error: Failed parsing SMILES 'CN=C)NC(=S)NC1=C(=O)/C(=O)C(=O)C1C[@@H]2c1cccc(O)n1Cc1cccc(F)cc1)n1Cc1cccc(O)(C)c1cccc(F)cc1)n1cccc(F' for input: 'CN=C)NC(=S)NC1=C(=O)/C(=O)C(=O)C1C[@@H]2c1cccc(O)n1Cc1cccc(F)cc1)n1Cc1cccc(O)(C)c1cccc(F)cc1)n1cccc(F'\n",
      " 72%|████████████████████████████▋           | 717/1000 [07:38<02:36,  1.81it/s][19:55:05] SMILES Parse Error: extra close parentheses while parsing: C(c1nc2)c1cccccc(F)c1)(c1ccccccc1)(c1ncccccc2)(c1C(n1=O)COC(=O)NC1=[C@H](c1cccccn1)Cc1ccc1)n1cccccc1)\n",
      "[19:55:05] SMILES Parse Error: Failed parsing SMILES 'C(c1nc2)c1cccccc(F)c1)(c1ccccccc1)(c1ncccccc2)(c1C(n1=O)COC(=O)NC1=[C@H](c1cccccn1)Cc1ccc1)n1cccccc1)' for input: 'C(c1nc2)c1cccccc(F)c1)(c1ccccccc1)(c1ncccccc2)(c1C(n1=O)COC(=O)NC1=[C@H](c1cccccn1)Cc1ccc1)n1cccccc1)'\n",
      " 72%|████████████████████████████▋           | 718/1000 [07:39<02:30,  1.88it/s][19:55:06] SMILES Parse Error: syntax error while parsing: Cll)S1\n",
      "CCC(C)C(=O)N[C@@H](c1cccc(O)nc1)C1Cc1ccsc(F)cc1n1Cc1ccc(F)cc1)n1ccccc1)nc(ncccc)cc1)c1ccccc(F)\n",
      "[19:55:06] SMILES Parse Error: Failed parsing SMILES 'Cll)S1\n",
      "CCC(C)C(=O)N[C@@H](c1cccc(O)nc1)C1Cc1ccsc(F)cc1n1Cc1ccc(F)cc1)n1ccccc1)nc(ncccc)cc1)c1ccccc(F)' for input: 'Cll)S1\n",
      "CCC(C)C(=O)N[C@@H](c1cccc(O)nc1)C1Cc1ccsc(F)cc1n1Cc1ccc(F)cc1)n1ccccc1)nc(ncccc)cc1)c1ccccc(F)'\n",
      " 72%|████████████████████████████▊           | 719/1000 [07:39<02:27,  1.91it/s][19:55:07] SMILES Parse Error: extra open parentheses for input: 'Cc1ccc(C(SC[C@H](N)C(=O)O)(cc2ccccccc2)[nH]1\n",
      "CC(=O)C1C1CCO1CC1=NN(CC=O[N2c1cccc(O)(c)cc1)ncc1)Cc1cccc'\n",
      " 72%|████████████████████████████▊           | 720/1000 [07:40<02:28,  1.88it/s][19:55:07] SMILES Parse Error: extra close parentheses while parsing: C1=NN(C(=O)C(=O)c1ccccc(N)(=O)cc1)N(CCCO)C(=O)c1cccccc1)[nH]c1ccc(Br)cc(Br)(F)n1cccccn1)F)nc1nc(cccc1\n",
      "[19:55:07] SMILES Parse Error: Failed parsing SMILES 'C1=NN(C(=O)C(=O)c1ccccc(N)(=O)cc1)N(CCCO)C(=O)c1cccccc1)[nH]c1ccc(Br)cc(Br)(F)n1cccccn1)F)nc1nc(cccc1' for input: 'C1=NN(C(=O)C(=O)c1ccccc(N)(=O)cc1)N(CCCO)C(=O)c1cccccc1)[nH]c1ccc(Br)cc(Br)(F)n1cccccn1)F)nc1nc(cccc1'\n",
      " 72%|████████████████████████████▊           | 721/1000 [07:40<02:22,  1.96it/s][19:55:07] SMILES Parse Error: extra close parentheses while parsing: CCl)cc1)N2\n",
      "CC(C)(C)C(=O)C1CCN([C@@]2(c)ccccn1)C(=O)=1C(CO)CC1)c1ccccccs1)n1ccnc(c(C)n1cccc(O)c1ncc(Br\n",
      "[19:55:07] SMILES Parse Error: Failed parsing SMILES 'CCl)cc1)N2\n",
      "CC(C)(C)C(=O)C1CCN([C@@]2(c)ccccn1)C(=O)=1C(CO)CC1)c1ccccccs1)n1ccnc(c(C)n1cccc(O)c1ncc(Br' for input: 'CCl)cc1)N2\n",
      "CC(C)(C)C(=O)C1CCN([C@@]2(c)ccccn1)C(=O)=1C(CO)CC1)c1ccccccs1)n1ccnc(c(C)n1cccc(O)c1ncc(Br'\n",
      " 72%|████████████████████████████▉           | 722/1000 [07:41<02:20,  1.97it/s][19:55:08] SMILES Parse Error: extra close parentheses while parsing: CC2=O)c2cccncc1)n1ccc(Br)cc(C)c1ccncc(C)cHs1)c1cccccc1(=O)C(=O)O\n",
      "CC1=C(C(=O)C(=O)C1=NOC/N=C+])c1nccsc\n",
      "[19:55:08] SMILES Parse Error: Failed parsing SMILES 'CC2=O)c2cccncc1)n1ccc(Br)cc(C)c1ccncc(C)cHs1)c1cccccc1(=O)C(=O)O\n",
      "CC1=C(C(=O)C(=O)C1=NOC/N=C+])c1nccsc' for input: 'CC2=O)c2cccncc1)n1ccc(Br)cc(C)c1ccncc(C)cHs1)c1cccccc1(=O)C(=O)O\n",
      "CC1=C(C(=O)C(=O)C1=NOC/N=C+])c1nccsc'\n",
      " 72%|████████████████████████████▉           | 724/1000 [07:42<02:38,  1.74it/s][19:55:09] SMILES Parse Error: extra close parentheses while parsing: C(=O)CONC(=O)NC1=NC(=O)Cc1ccccn1)c1ccccccc(O)(O)c1cccccc1)c1cccccc(O)(C)c1ccccc(O)cc1cccc(F)(c)ncc1)c\n",
      "[19:55:09] SMILES Parse Error: Failed parsing SMILES 'C(=O)CONC(=O)NC1=NC(=O)Cc1ccccn1)c1ccccccc(O)(O)c1cccccc1)c1cccccc(O)(C)c1ccccc(O)cc1cccc(F)(c)ncc1)c' for input: 'C(=O)CONC(=O)NC1=NC(=O)Cc1ccccn1)c1ccccccc(O)(O)c1cccccc1)c1cccccc(O)(C)c1ccccc(O)cc1cccc(F)(c)ncc1)c'\n",
      " 72%|█████████████████████████████           | 725/1000 [07:42<02:30,  1.82it/s][19:55:10] SMILES Parse Error: syntax error while parsing: C=C(C\\=C/c3c[nH]nc2N)C(=O)c1cccoc1CC\n",
      "CC(CC)NC1=NN(C(=O)CC(F)(c2cccccc2ncnc(cHnc2)C(=O)C1(C)C=CCCCC1c1\n",
      "[19:55:10] SMILES Parse Error: Failed parsing SMILES 'C=C(C\\=C/c3c[nH]nc2N)C(=O)c1cccoc1CC\n",
      "CC(CC)NC1=NN(C(=O)CC(F)(c2cccccc2ncnc(cHnc2)C(=O)C1(C)C=CCCCC1c1' for input: 'C=C(C\\=C/c3c[nH]nc2N)C(=O)c1cccoc1CC\n",
      "CC(CC)NC1=NN(C(=O)CC(F)(c2cccccc2ncnc(cHnc2)C(=O)C1(C)C=CCCCC1c1'\n",
      " 73%|█████████████████████████████           | 726/1000 [07:43<02:24,  1.89it/s][19:55:10] SMILES Parse Error: extra close parentheses while parsing: C)F)sc1C)CC\n",
      "CC(=O)C1=C(Br)C(SC1(C)[C@@H](c3cccn()()c1)N2\n",
      "CCC(NC(=O)c1ccc(C(F)(F)F)ccc1ncnccccc1)C(=O)\n",
      "[19:55:10] SMILES Parse Error: Failed parsing SMILES 'C)F)sc1C)CC\n",
      "CC(=O)C1=C(Br)C(SC1(C)[C@@H](c3cccn()()c1)N2\n",
      "CCC(NC(=O)c1ccc(C(F)(F)F)ccc1ncnccccc1)C(=O)' for input: 'C)F)sc1C)CC\n",
      "CC(=O)C1=C(Br)C(SC1(C)[C@@H](c3cccn()()c1)N2\n",
      "CCC(NC(=O)c1ccc(C(F)(F)F)ccc1ncnccccc1)C(=O)'\n",
      " 73%|█████████████████████████████           | 727/1000 [07:43<02:19,  1.96it/s][19:55:11] SMILES Parse Error: unclosed ring for input: 'C(=S)N1C\n",
      "CCC(C)(C)C(=O)N1CCc2cHcnc(N2CC=CC(OC)C2)c1c[nH]nc2c1cccc(n()c1)c1nccn(C)(c)c1)C1CCCN(C(C)=O)'\n",
      " 73%|█████████████████████████████           | 728/1000 [07:44<02:21,  1.93it/s][19:55:11] SMILES Parse Error: extra close parentheses while parsing: C(=O)C(c1ccc(C)no1)c1cccnccc1)Cn1cccc((=O)n1)c1)Sc1ccccccc1)n1cccc(C)c1)n1cccncnc1)N(C)=O\n",
      "CCC(c1ccccO\n",
      "[19:55:11] SMILES Parse Error: Failed parsing SMILES 'C(=O)C(c1ccc(C)no1)c1cccnccc1)Cn1cccc((=O)n1)c1)Sc1ccccccc1)n1cccc(C)c1)n1cccncnc1)N(C)=O\n",
      "CCC(c1ccccO' for input: 'C(=O)C(c1ccc(C)no1)c1cccnccc1)Cn1cccc((=O)n1)c1)Sc1ccccccc1)n1cccc(C)c1)n1cccncnc1)N(C)=O\n",
      "CCC(c1ccccO'\n",
      " 73%|█████████████████████████████▏          | 729/1000 [07:44<02:17,  1.96it/s][19:55:12] SMILES Parse Error: extra close parentheses while parsing: C(=O)C1=NN(C(=O)C(=O)c2cccc(C)cn1)c1cccccc(F)c1)\n",
      "CC(C)(C)c1cscnc2C(=C(F)(c1cccccc)c\n",
      "C)C(=O)/C(=O)OC(C\n",
      "[19:55:12] SMILES Parse Error: Failed parsing SMILES 'C(=O)C1=NN(C(=O)C(=O)c2cccc(C)cn1)c1cccccc(F)c1)\n",
      "CC(C)(C)c1cscnc2C(=C(F)(c1cccccc)c\n",
      "C)C(=O)/C(=O)OC(C' for input: 'C(=O)C1=NN(C(=O)C(=O)c2cccc(C)cn1)c1cccccc(F)c1)\n",
      "CC(C)(C)c1cscnc2C(=C(F)(c1cccccc)c\n",
      "C)C(=O)/C(=O)OC(C'\n",
      " 73%|█████████████████████████████▏          | 730/1000 [07:45<02:26,  1.84it/s][19:55:13] SMILES Parse Error: syntax error while parsing: C@H]1OCCC[C@H]1[C@H]1c1ccccnc1)c1ncccc(cnc1)c1ccccncc1)(nccccncc1)ccc1)(c1ccccccc2)nc1c1cccccc1)n1ccc\n",
      "[19:55:13] SMILES Parse Error: Failed parsing SMILES 'C@H]1OCCC[C@H]1[C@H]1c1ccccnc1)c1ncccc(cnc1)c1ccccncc1)(nccccncc1)ccc1)(c1ccccccc2)nc1c1cccccc1)n1ccc' for input: 'C@H]1OCCC[C@H]1[C@H]1c1ccccnc1)c1ncccc(cnc1)c1ccccncc1)(nccccncc1)ccc1)(c1ccccccc2)nc1c1cccccc1)n1ccc'\n",
      " 73%|█████████████████████████████▏          | 731/1000 [07:46<02:43,  1.64it/s][19:55:13] SMILES Parse Error: extra close parentheses while parsing: C1=O)C1Cc1ccccc1)n1ccc(Br)cnc1)c1cccccc1)n1cccccH(c2ccccncn1)nc(c(=O)n1cccccc1)c1ccc(F)(C#)nccc2c(=O)\n",
      "[19:55:13] SMILES Parse Error: Failed parsing SMILES 'C1=O)C1Cc1ccccc1)n1ccc(Br)cnc1)c1cccccc1)n1cccccH(c2ccccncn1)nc(c(=O)n1cccccc1)c1ccc(F)(C#)nccc2c(=O)' for input: 'C1=O)C1Cc1ccccc1)n1ccc(Br)cnc1)c1cccccc1)n1cccccH(c2ccccncn1)nc(c(=O)n1cccccc1)c1ccc(F)(C#)nccc2c(=O)'\n",
      " 73%|█████████████████████████████▎          | 732/1000 [07:47<02:55,  1.53it/s][19:55:14] SMILES Parse Error: extra close parentheses while parsing: C(c3ccc(F)cc3[nH]2)ccc1N[C@H]1c1ccccnc1C)C\n",
      "CCN(CN1Cc2c(Fccnc()cc1)c1ccccc(n1)=ncccccc1)ccc(O)(c1)[nH]\n",
      "[19:55:14] SMILES Parse Error: Failed parsing SMILES 'C(c3ccc(F)cc3[nH]2)ccc1N[C@H]1c1ccccnc1C)C\n",
      "CCN(CN1Cc2c(Fccnc()cc1)c1ccccc(n1)=ncccccc1)ccc(O)(c1)[nH]' for input: 'C(c3ccc(F)cc3[nH]2)ccc1N[C@H]1c1ccccnc1C)C\n",
      "CCN(CN1Cc2c(Fccnc()cc1)c1ccccc(n1)=ncccccc1)ccc(O)(c1)[nH]'\n",
      " 73%|█████████████████████████████▎          | 733/1000 [07:47<02:49,  1.57it/s][19:55:14] SMILES Parse Error: extra close parentheses while parsing: C)=O)sc[nH]c4ccc4c(F)c4)n1)N(CC1CN3CCOC)C2)c1cccccc1C)Cn1ccc(F)ncc1)n1ccccc(S(C)(=O)(n)cc1)n1cccc(F)c\n",
      "[19:55:14] SMILES Parse Error: Failed parsing SMILES 'C)=O)sc[nH]c4ccc4c(F)c4)n1)N(CC1CN3CCOC)C2)c1cccccc1C)Cn1ccc(F)ncc1)n1ccccc(S(C)(=O)(n)cc1)n1cccc(F)c' for input: 'C)=O)sc[nH]c4ccc4c(F)c4)n1)N(CC1CN3CCOC)C2)c1cccccc1C)Cn1ccc(F)ncc1)n1ccccc(S(C)(=O)(n)cc1)n1cccc(F)c'\n",
      " 73%|█████████████████████████████▎          | 734/1000 [07:48<02:42,  1.64it/s][19:55:15] SMILES Parse Error: extra close parentheses while parsing: C(c2ccc(O)c(F)c1)nnc2ncnc(-c)c2ccc(F)cc(F)c3)C2=CC(c3cccnc3)[nH]n2)c1cccccc(F)c1cccccccc1)[nH]nc1nc(N\n",
      "[19:55:15] SMILES Parse Error: Failed parsing SMILES 'C(c2ccc(O)c(F)c1)nnc2ncnc(-c)c2ccc(F)cc(F)c3)C2=CC(c3cccnc3)[nH]n2)c1cccccc(F)c1cccccccc1)[nH]nc1nc(N' for input: 'C(c2ccc(O)c(F)c1)nnc2ncnc(-c)c2ccc(F)cc(F)c3)C2=CC(c3cccnc3)[nH]n2)c1cccccc(F)c1cccccccc1)[nH]nc1nc(N'\n",
      " 74%|█████████████████████████████▍          | 735/1000 [07:48<02:40,  1.65it/s][19:55:16] SMILES Parse Error: extra close parentheses while parsing: C\\c3cc(F)ccc3OCC[C@H]2)[nH]c1cccccc1)c1ncccc(Br)c2cccccc(Br)c2cccccnc2c1nccn(c2cc(nccccccc21)N2\n",
      "CC(=O\n",
      "[19:55:16] SMILES Parse Error: Failed parsing SMILES 'C\\c3cc(F)ccc3OCC[C@H]2)[nH]c1cccccc1)c1ncccc(Br)c2cccccc(Br)c2cccccnc2c1nccn(c2cc(nccccccc21)N2\n",
      "CC(=O' for input: 'C\\c3cc(F)ccc3OCC[C@H]2)[nH]c1cccccc1)c1ncccc(Br)c2cccccc(Br)c2cccccnc2c1nccn(c2cc(nccccccc21)N2\n",
      "CC(=O'\n",
      " 74%|█████████████████████████████▍          | 737/1000 [07:50<02:42,  1.62it/s][19:55:17] SMILES Parse Error: extra close parentheses while parsing: C(c1ccccc2nccc3c(c)3cccsc3)N(C)C(=O)C1)c1cccccccc1cccccc1nnccc((O)n1)c1cccccncc1)(=O)n1ccccc(F)c1cccc\n",
      "[19:55:17] SMILES Parse Error: Failed parsing SMILES 'C(c1ccccc2nccc3c(c)3cccsc3)N(C)C(=O)C1)c1cccccccc1cccccc1nnccc((O)n1)c1cccccncc1)(=O)n1ccccc(F)c1cccc' for input: 'C(c1ccccc2nccc3c(c)3cccsc3)N(C)C(=O)C1)c1cccccccc1cccccc1nnccc((O)n1)c1cccccncc1)(=O)n1ccccc(F)c1cccc'\n",
      " 74%|█████████████████████████████▌          | 738/1000 [07:50<02:35,  1.69it/s][19:55:18] SMILES Parse Error: syntax error while parsing: C@@H](c)cc2F)(C(=O)NC)c1ccccccc1n1cccc(F)(c1)n1cccccccc1CCn1ccccccnc)cc1)c1cccccc1)n1ccccc(F)c(Br)c1c\n",
      "[19:55:18] SMILES Parse Error: Failed parsing SMILES 'C@@H](c)cc2F)(C(=O)NC)c1ccccccc1n1cccc(F)(c1)n1cccccccc1CCn1ccccccnc)cc1)c1cccccc1)n1ccccc(F)c(Br)c1c' for input: 'C@@H](c)cc2F)(C(=O)NC)c1ccccccc1n1cccc(F)(c1)n1cccccccc1CCn1ccccccnc)cc1)c1cccccc1)n1ccccc(F)c(Br)c1c'\n",
      " 74%|█████████████████████████████▌          | 739/1000 [07:51<02:38,  1.64it/s][19:55:18] SMILES Parse Error: syntax error while parsing: C@@]12OCCCO[C@H]2[n\\c2ccc(F)cc(c1)(=O)C[C@](C)(c2ccccccc2)cc1\n",
      "CC1=C=C(BCCN/C(=O)C(=O)CC(=O)N(CC(F)(F)\n",
      "[19:55:18] SMILES Parse Error: Failed parsing SMILES 'C@@]12OCCCO[C@H]2[n\\c2ccc(F)cc(c1)(=O)C[C@](C)(c2ccccccc2)cc1\n",
      "CC1=C=C(BCCN/C(=O)C(=O)CC(=O)N(CC(F)(F)' for input: 'C@@]12OCCCO[C@H]2[n\\c2ccc(F)cc(c1)(=O)C[C@](C)(c2ccccccc2)cc1\n",
      "CC1=C=C(BCCN/C(=O)C(=O)CC(=O)N(CC(F)(F)'\n",
      " 74%|█████████████████████████████▌          | 740/1000 [07:51<02:32,  1.71it/s][19:55:19] SMILES Parse Error: extra close parentheses while parsing: C)[C@H](c1nc(-c1)/C=C/c+](O)[nH]c1)c1ccccc(n1)(C)c1ccncc(C)c1ncHsnc(S)(N)sc(=O)c1cccc(O)(=)=O\n",
      "CCCC(c3\n",
      "[19:55:19] SMILES Parse Error: Failed parsing SMILES 'C)[C@H](c1nc(-c1)/C=C/c+](O)[nH]c1)c1ccccc(n1)(C)c1ccncc(C)c1ncHsnc(S)(N)sc(=O)c1cccc(O)(=)=O\n",
      "CCCC(c3' for input: 'C)[C@H](c1nc(-c1)/C=C/c+](O)[nH]c1)c1ccccc(n1)(C)c1ccncc(C)c1ncHsnc(S)(N)sc(=O)c1cccc(O)(=)=O\n",
      "CCCC(c3'\n",
      " 74%|█████████████████████████████▋          | 741/1000 [07:52<02:30,  1.72it/s][19:55:19] SMILES Parse Error: extra close parentheses while parsing: CC(=O)N1Cc2c(nccnc3)c1cccc(F)c(F)cc1)[nH]nc1cccc(Br)cccc2c1nccc(Br)cc(F)c1)(c1ccccccnc1)n1ccccc2ccncc\n",
      "[19:55:19] SMILES Parse Error: Failed parsing SMILES 'CC(=O)N1Cc2c(nccnc3)c1cccc(F)c(F)cc1)[nH]nc1cccc(Br)cccc2c1nccc(Br)cc(F)c1)(c1ccccccnc1)n1ccccc2ccncc' for input: 'CC(=O)N1Cc2c(nccnc3)c1cccc(F)c(F)cc1)[nH]nc1cccc(Br)cccc2c1nccc(Br)cc(F)c1)(c1ccccccnc1)n1ccccc2ccncc'\n",
      " 74%|█████████████████████████████▋          | 742/1000 [07:52<02:21,  1.83it/s][19:55:20] SMILES Parse Error: extra close parentheses while parsing: C3CC2)ccc1[nH]nc1nccnc(C)c(Br)c1)N2\n",
      "CCC(=O)C1CC(=O)C(c2cccccO)(c1)c1ccccc(O)c1nccccc1nccoc2c(=O)n1C(C\n",
      "[19:55:20] SMILES Parse Error: Failed parsing SMILES 'C3CC2)ccc1[nH]nc1nccnc(C)c(Br)c1)N2\n",
      "CCC(=O)C1CC(=O)C(c2cccccO)(c1)c1ccccc(O)c1nccccc1nccoc2c(=O)n1C(C' for input: 'C3CC2)ccc1[nH]nc1nccnc(C)c(Br)c1)N2\n",
      "CCC(=O)C1CC(=O)C(c2cccccO)(c1)c1ccccc(O)c1nccccc1nccoc2c(=O)n1C(C'\n",
      " 74%|█████████████████████████████▋          | 743/1000 [07:53<02:22,  1.81it/s][19:55:20] SMILES Parse Error: extra close parentheses while parsing: CCN)c1ccccc(F)c1ncocc1cccccc3c(c)cccc2n1)NC[C@@H]1c1ccCc1nc1nccc(O)ccc1ncc(C)cc(F)c1)[nH]1c1ccccc1)C(\n",
      "[19:55:20] SMILES Parse Error: Failed parsing SMILES 'CCN)c1ccccc(F)c1ncocc1cccccc3c(c)cccc2n1)NC[C@@H]1c1ccCc1nc1nccc(O)ccc1ncc(C)cc(F)c1)[nH]1c1ccccc1)C(' for input: 'CCN)c1ccccc(F)c1ncocc1cccccc3c(c)cccc2n1)NC[C@@H]1c1ccCc1nc1nccc(O)ccc1ncc(C)cc(F)c1)[nH]1c1ccccc1)C('\n",
      " 74%|█████████████████████████████▊          | 744/1000 [07:53<02:21,  1.81it/s][19:55:21] SMILES Parse Error: extra close parentheses while parsing: C)=O)NC1c1cccc(O)c1cccccc1n1ccc(F)cc1F)(S1\n",
      "CCC(c1ccccc(F)(c)cc1)s1ncccccO)c(Br)(c1)c1cccccn1)n1ccccnc\n",
      "[19:55:21] SMILES Parse Error: Failed parsing SMILES 'C)=O)NC1c1cccc(O)c1cccccc1n1ccc(F)cc1F)(S1\n",
      "CCC(c1ccccc(F)(c)cc1)s1ncccccO)c(Br)(c1)c1cccccn1)n1ccccnc' for input: 'C)=O)NC1c1cccc(O)c1cccccc1n1ccc(F)cc1F)(S1\n",
      "CCC(c1ccccc(F)(c)cc1)s1ncccccO)c(Br)(c1)c1cccccn1)n1ccccnc'\n",
      " 74%|█████████████████████████████▊          | 745/1000 [07:54<02:20,  1.81it/s][19:55:21] SMILES Parse Error: extra close parentheses while parsing: C1c1ccccc(Br)c1)N=S(=O)(=O\n",
      "CC(=O)C1=NN(C(=O)CC1)c1cccccc(F)nc1)c1ccccc(F)(c1)cccc1(C)([O)=1)=nC(C)=/C\n",
      "[19:55:21] SMILES Parse Error: Failed parsing SMILES 'C1c1ccccc(Br)c1)N=S(=O)(=O\n",
      "CC(=O)C1=NN(C(=O)CC1)c1cccccc(F)nc1)c1ccccc(F)(c1)cccc1(C)([O)=1)=nC(C)=/C' for input: 'C1c1ccccc(Br)c1)N=S(=O)(=O\n",
      "CC(=O)C1=NN(C(=O)CC1)c1cccccc(F)nc1)c1ccccc(F)(c1)cccc1(C)([O)=1)=nC(C)=/C'\n",
      " 75%|█████████████████████████████▊          | 746/1000 [07:55<02:17,  1.85it/s][19:55:22] SMILES Parse Error: extra close parentheses while parsing: C)cccC(=O)O1)c1ccccc(F)cn1)N\n",
      "CC(=O)C1COCC1)C(=O)C1CN(Cc1cccccc1)(C)n1cccc(C)c1cccccc1)(c1ccccccn1)n1c\n",
      "[19:55:22] SMILES Parse Error: Failed parsing SMILES 'C)cccC(=O)O1)c1ccccc(F)cn1)N\n",
      "CC(=O)C1COCC1)C(=O)C1CN(Cc1cccccc1)(C)n1cccc(C)c1cccccc1)(c1ccccccn1)n1c' for input: 'C)cccC(=O)O1)c1ccccc(F)cn1)N\n",
      "CC(=O)C1COCC1)C(=O)C1CN(Cc1cccccc1)(C)n1cccc(C)c1cccccc1)(c1ccccccn1)n1c'\n",
      " 75%|█████████████████████████████▉          | 747/1000 [07:55<02:18,  1.83it/s][19:55:22] SMILES Parse Error: extra close parentheses while parsing: CCO2)S1(=O)C(=O)=N1CC(C)=Cc3[nH]cccc2)N1C(=O)C1=C(C)CC\n",
      "CC1=C(C(=O)NCC1)c1cccc(Br)cc1)N2c1CcCc(Cc3ccco\n",
      "[19:55:22] SMILES Parse Error: Failed parsing SMILES 'CCO2)S1(=O)C(=O)=N1CC(C)=Cc3[nH]cccc2)N1C(=O)C1=C(C)CC\n",
      "CC1=C(C(=O)NCC1)c1cccc(Br)cc1)N2c1CcCc(Cc3ccco' for input: 'CCO2)S1(=O)C(=O)=N1CC(C)=Cc3[nH]cccc2)N1C(=O)C1=C(C)CC\n",
      "CC1=C(C(=O)NCC1)c1cccc(Br)cc1)N2c1CcCc(Cc3ccco'\n",
      " 75%|█████████████████████████████▉          | 748/1000 [07:56<02:22,  1.77it/s][19:55:23] SMILES Parse Error: extra close parentheses while parsing: C)(c2ccccc(C)c3c(F)F)nc2)nn(-c2cccnc2)n1Hccccc1)C1(C)NCc1ccccc(O)nc1c1ccccnc1)c1nccsc1)C1c1ccccccn1\n",
      "C\n",
      "[19:55:23] SMILES Parse Error: Failed parsing SMILES 'C)(c2ccccc(C)c3c(F)F)nc2)nn(-c2cccnc2)n1Hccccc1)C1(C)NCc1ccccc(O)nc1c1ccccnc1)c1nccsc1)C1c1ccccccn1\n",
      "C' for input: 'C)(c2ccccc(C)c3c(F)F)nc2)nn(-c2cccnc2)n1Hccccc1)C1(C)NCc1ccccc(O)nc1c1ccccnc1)c1nccsc1)C1c1ccccccn1\n",
      "C'\n",
      " 75%|█████████████████████████████▉          | 749/1000 [07:56<02:17,  1.83it/s][19:55:24] SMILES Parse Error: extra close parentheses while parsing: CO2)c1-c1ccccc(F)cc1)c1cccc(C(F)(F)F)ccc1cccccc1cccccc1)nc1)N(C(=O)CC[C@](2)(c1ccccccc1)ncc(()(C)c1cc\n",
      "[19:55:24] SMILES Parse Error: Failed parsing SMILES 'CO2)c1-c1ccccc(F)cc1)c1cccc(C(F)(F)F)ccc1cccccc1cccccc1)nc1)N(C(=O)CC[C@](2)(c1ccccccc1)ncc(()(C)c1cc' for input: 'CO2)c1-c1ccccc(F)cc1)c1cccc(C(F)(F)F)ccc1cccccc1cccccc1)nc1)N(C(=O)CC[C@](2)(c1ccccccc1)ncc(()(C)c1cc'\n",
      " 75%|██████████████████████████████          | 750/1000 [07:57<02:18,  1.80it/s][19:55:24] SMILES Parse Error: syntax error while parsing: C@H](NC(=O)c1cscnc(n)c(C)c1(C)Cc1ccccn1)n1cccc(Br)cc1)c1ccc(F)ccc1)n1ccccc(F)(c2cccccc1)n[cH]1)c1cccs\n",
      "[19:55:24] SMILES Parse Error: Failed parsing SMILES 'C@H](NC(=O)c1cscnc(n)c(C)c1(C)Cc1ccccn1)n1cccc(Br)cc1)c1ccc(F)ccc1)n1ccccc(F)(c2cccccc1)n[cH]1)c1cccs' for input: 'C@H](NC(=O)c1cscnc(n)c(C)c1(C)Cc1ccccn1)n1cccc(Br)cc1)c1ccc(F)ccc1)n1ccccc(F)(c2cccccc1)n[cH]1)c1cccs'\n",
      " 75%|██████████████████████████████          | 751/1000 [07:57<02:19,  1.78it/s][19:55:25] SMILES Parse Error: syntax error while parsing: CO=CC/C@C=C/c3ccc(OCc3cncc(O)nc2C)nc(-c2cccnc2)S1(=O)=C(=O)C=C1ccc(OC)ncc1)c1cccccc(O)(C)n1cccncc1)c1\n",
      "[19:55:25] SMILES Parse Error: Failed parsing SMILES 'CO=CC/C@C=C/c3ccc(OCc3cncc(O)nc2C)nc(-c2cccnc2)S1(=O)=C(=O)C=C1ccc(OC)ncc1)c1cccccc(O)(C)n1cccncc1)c1' for input: 'CO=CC/C@C=C/c3ccc(OCc3cncc(O)nc2C)nc(-c2cccnc2)S1(=O)=C(=O)C=C1ccc(OC)ncc1)c1cccccc(O)(C)n1cccncc1)c1'\n",
      " 75%|██████████████████████████████          | 752/1000 [07:58<02:11,  1.88it/s][19:55:25] SMILES Parse Error: extra close parentheses while parsing: C[C@H]32)/C(=O)C1=s1ccccc(F)c1)(=O)n1cccnc(=O)n1Cc1cccccc1n1ccccc(s2)OC1(CO)CCNCo1ccccc1F)C(=O)c1cccc\n",
      "[19:55:25] SMILES Parse Error: Failed parsing SMILES 'C[C@H]32)/C(=O)C1=s1ccccc(F)c1)(=O)n1cccnc(=O)n1Cc1cccccc1n1ccccc(s2)OC1(CO)CCNCo1ccccc1F)C(=O)c1cccc' for input: 'C[C@H]32)/C(=O)C1=s1ccccc(F)c1)(=O)n1cccnc(=O)n1Cc1cccccc1n1ccccc(s2)OC1(CO)CCNCo1ccccc1F)C(=O)c1cccc'\n",
      " 75%|██████████████████████████████          | 753/1000 [07:58<02:14,  1.84it/s][19:55:26] SMILES Parse Error: extra close parentheses while parsing: CCS)C(=C)c1ccc(F)ccc1)[nH]1c1ccncc1)\n",
      "CC(C4)CCNC[C@H]1c1ccccs1)C\n",
      "CC(=O)C1=C(C)NC1c1cccc(O)n1)c1ccccccO\n",
      "[19:55:26] SMILES Parse Error: Failed parsing SMILES 'CCS)C(=C)c1ccc(F)ccc1)[nH]1c1ccncc1)\n",
      "CC(C4)CCNC[C@H]1c1ccccs1)C\n",
      "CC(=O)C1=C(C)NC1c1cccc(O)n1)c1ccccccO' for input: 'CCS)C(=C)c1ccc(F)ccc1)[nH]1c1ccncc1)\n",
      "CC(C4)CCNC[C@H]1c1ccccs1)C\n",
      "CC(=O)C1=C(C)NC1c1cccc(O)n1)c1ccccccO'\n",
      " 75%|██████████████████████████████▏         | 754/1000 [07:59<02:18,  1.78it/s][19:55:26] SMILES Parse Error: extra close parentheses while parsing: C)cc1\n",
      "CCCC(=O)C1)NC(=O)C1c1cccccc1ccccc(O)n1cccccc1c(ncc1cccccc2c1)S(=O)(=O)CC2\n",
      "CC(=O)C1(c2ccccs1)nc1\n",
      "[19:55:26] SMILES Parse Error: Failed parsing SMILES 'C)cc1\n",
      "CCCC(=O)C1)NC(=O)C1c1cccccc1ccccc(O)n1cccccc1c(ncc1cccccc2c1)S(=O)(=O)CC2\n",
      "CC(=O)C1(c2ccccs1)nc1' for input: 'C)cc1\n",
      "CCCC(=O)C1)NC(=O)C1c1cccccc1ccccc(O)n1cccccc1c(ncc1cccccc2c1)S(=O)(=O)CC2\n",
      "CC(=O)C1(c2ccccs1)nc1'\n",
      " 76%|██████████████████████████████▏         | 755/1000 [07:59<02:11,  1.86it/s][19:55:27] SMILES Parse Error: extra close parentheses while parsing: C(F)(O)[C@@H](c2ccccco2)=n1ccccc(C)(c)cc1Cc1cccccnc1)nc1)c1ccccc()=N(C)(C)=Oc3cccoc(O)c3ccccnc=O)n2)c\n",
      "[19:55:27] SMILES Parse Error: Failed parsing SMILES 'C(F)(O)[C@@H](c2ccccco2)=n1ccccc(C)(c)cc1Cc1cccccnc1)nc1)c1ccccc()=N(C)(C)=Oc3cccoc(O)c3ccccnc=O)n2)c' for input: 'C(F)(O)[C@@H](c2ccccco2)=n1ccccc(C)(c)cc1Cc1cccccnc1)nc1)c1ccccc()=N(C)(C)=Oc3cccoc(O)c3ccccnc=O)n2)c'\n",
      " 76%|██████████████████████████████▏         | 756/1000 [08:00<02:15,  1.81it/s][19:55:27] SMILES Parse Error: extra close parentheses while parsing: C)c1c[n-cccnc2c(ncccccn4ccccc4nc44)1)n1ccc(Br)cc(F(=O)c1ccscnc()n1)c1cccsc2c1cccccc(c)cc1)N2\n",
      "CC(NC(=O\n",
      "[19:55:27] SMILES Parse Error: Failed parsing SMILES 'C)c1c[n-cccnc2c(ncccccn4ccccc4nc44)1)n1ccc(Br)cc(F(=O)c1ccscnc()n1)c1cccsc2c1cccccc(c)cc1)N2\n",
      "CC(NC(=O' for input: 'C)c1c[n-cccnc2c(ncccccn4ccccc4nc44)1)n1ccc(Br)cc(F(=O)c1ccscnc()n1)c1cccsc2c1cccccc(c)cc1)N2\n",
      "CC(NC(=O'\n",
      " 76%|██████████████████████████████▎         | 757/1000 [08:01<02:08,  1.88it/s][19:55:28] SMILES Parse Error: extra close parentheses while parsing: C2)N1\n",
      "CCC(c1c1cccccn1)CCOC[C@H]1CCNCCO1Cc1cccc(O)nc1)c1ccccc(O)n1cccc(O)nc1)C(=S)O\n",
      "CCC(c1ccccc(O)n3)c\n",
      "[19:55:28] SMILES Parse Error: Failed parsing SMILES 'C2)N1\n",
      "CCC(c1c1cccccn1)CCOC[C@H]1CCNCCO1Cc1cccc(O)nc1)c1ccccc(O)n1cccc(O)nc1)C(=S)O\n",
      "CCC(c1ccccc(O)n3)c' for input: 'C2)N1\n",
      "CCC(c1c1cccccn1)CCOC[C@H]1CCNCCO1Cc1cccc(O)nc1)c1ccccc(O)n1cccc(O)nc1)C(=S)O\n",
      "CCC(c1ccccc(O)n3)c'\n",
      " 76%|██████████████████████████████▎         | 758/1000 [08:01<02:10,  1.85it/s][19:55:28] SMILES Parse Error: syntax error while parsing: CCOCOC(=O)C3CC1(O)C[C=@H]1c1ccccn1)n1cccccnc2)cc1cccccc(n1)(=O)c1c[cncccc1)c2ccccc()(F)c1)n1cccc(c(r)\n",
      "[19:55:28] SMILES Parse Error: Failed parsing SMILES 'CCOCOC(=O)C3CC1(O)C[C=@H]1c1ccccn1)n1cccccnc2)cc1cccccc(n1)(=O)c1c[cncccc1)c2ccccc()(F)c1)n1cccc(c(r)' for input: 'CCOCOC(=O)C3CC1(O)C[C=@H]1c1ccccn1)n1cccccnc2)cc1cccccc(n1)(=O)c1c[cncccc1)c2ccccc()(F)c1)n1cccc(c(r)'\n",
      " 76%|██████████████████████████████▎         | 759/1000 [08:02<02:05,  1.93it/s][19:55:29] SMILES Parse Error: extra close parentheses while parsing: C[C@H](O1)c1ccc(Br)cccc1)C1oc2c(cccc(F)nc2)n1cccc(C)nc()n1)cccccc1)C1(c1cccccc(F)c1)n1ccccccc1)ccc(F)\n",
      "[19:55:29] SMILES Parse Error: Failed parsing SMILES 'C[C@H](O1)c1ccc(Br)cccc1)C1oc2c(cccc(F)nc2)n1cccc(C)nc()n1)cccccc1)C1(c1cccccc(F)c1)n1ccccccc1)ccc(F)' for input: 'C[C@H](O1)c1ccc(Br)cccc1)C1oc2c(cccc(F)nc2)n1cccc(C)nc()n1)cccccc1)C1(c1cccccc(F)c1)n1ccccccc1)ccc(F)'\n",
      " 76%|██████████████████████████████▍         | 760/1000 [08:02<02:08,  1.86it/s][19:55:30] SMILES Parse Error: syntax error while parsing: CC(=HCCN[C@@H]1c1ccccc3O1CCNC(=O)CC1)c1ccccccc1)n1cccccccc1cccccc1ncccccc(n1)cccc1)N2c1ccc(O)ccc1)c1n\n",
      "[19:55:30] SMILES Parse Error: Failed parsing SMILES 'CC(=HCCN[C@@H]1c1ccccc3O1CCNC(=O)CC1)c1ccccccc1)n1cccccccc1cccccc1ncccccc(n1)cccc1)N2c1ccc(O)ccc1)c1n' for input: 'CC(=HCCN[C@@H]1c1ccccc3O1CCNC(=O)CC1)c1ccccccc1)n1cccccccc1cccccc1ncccccc(n1)cccc1)N2c1ccc(O)ccc1)c1n'\n",
      " 76%|██████████████████████████████▍         | 761/1000 [08:03<02:14,  1.78it/s][19:55:30] SMILES Parse Error: extra close parentheses while parsing: CC)[C@@H](F)C1)c1cccccc1)C\n",
      "CC(c1cccs1)C1(C)C\n",
      "CCC=C(=O)C1(C)C(SC[C@H]1CCCO1c1ccccc(O)nc1)c1ncccn2)nc1c\n",
      "[19:55:30] SMILES Parse Error: Failed parsing SMILES 'CC)[C@@H](F)C1)c1cccccc1)C\n",
      "CC(c1cccs1)C1(C)C\n",
      "CCC=C(=O)C1(C)C(SC[C@H]1CCCO1c1ccccc(O)nc1)c1ncccn2)nc1c' for input: 'CC)[C@@H](F)C1)c1cccccc1)C\n",
      "CC(c1cccs1)C1(C)C\n",
      "CCC=C(=O)C1(C)C(SC[C@H]1CCCO1c1ccccc(O)nc1)c1ncccn2)nc1c'\n",
      " 76%|██████████████████████████████▍         | 762/1000 [08:03<02:13,  1.78it/s][19:55:31] SMILES Parse Error: extra close parentheses while parsing: CO)N2c1cccc(O)cc1\n",
      "CC(F)C(=O)C1CCN(CC)C(=O)c1cccsc1)n1cccc(N(C)C)nc(c()c1nccc(N)c)cc1)C(=O)Oc1ccc2cccc\n",
      "[19:55:31] SMILES Parse Error: Failed parsing SMILES 'CO)N2c1cccc(O)cc1\n",
      "CC(F)C(=O)C1CCN(CC)C(=O)c1cccsc1)n1cccc(N(C)C)nc(c()c1nccc(N)c)cc1)C(=O)Oc1ccc2cccc' for input: 'CO)N2c1cccc(O)cc1\n",
      "CC(F)C(=O)C1CCN(CC)C(=O)c1cccsc1)n1cccc(N(C)C)nc(c()c1nccc(N)c)cc1)C(=O)Oc1ccc2cccc'\n",
      " 76%|██████████████████████████████▌         | 763/1000 [08:04<02:07,  1.86it/s][19:55:31] SMILES Parse Error: extra close parentheses while parsing: C(c2cccnc2)C(=O)n1Cc1cccnc1)c1ncnc(-c2ccc(Cl)cc2)n1ccncc(F)(c2c)cccn1)c1cccc(=O)noc2)c1cccncc1)CC(F)(\n",
      "[19:55:31] SMILES Parse Error: Failed parsing SMILES 'C(c2cccnc2)C(=O)n1Cc1cccnc1)c1ncnc(-c2ccc(Cl)cc2)n1ccncc(F)(c2c)cccn1)c1cccc(=O)noc2)c1cccncc1)CC(F)(' for input: 'C(c2cccnc2)C(=O)n1Cc1cccnc1)c1ncnc(-c2ccc(Cl)cc2)n1ccncc(F)(c2c)cccn1)c1cccc(=O)noc2)c1cccncc1)CC(F)('\n",
      " 76%|██████████████████████████████▌         | 764/1000 [08:04<02:09,  1.83it/s][19:55:32] SMILES Parse Error: extra open parentheses for input: 'CN(C2C)C1=C(CN)C(=O-C\n",
      "CCC(c1cccc(C(F)(F)(F)F)nc1)n1cccccc1)nc1c\n",
      "CC1(C)nccoc1CCc1cccnc1)S(=O)(=O(C)=C('\n",
      " 76%|██████████████████████████████▌         | 765/1000 [08:05<02:10,  1.80it/s][19:55:32] SMILES Parse Error: extra close parentheses while parsing: Cc1ccn(C)c1)c1nc(-c[ccFF)cncc1)C1=NNC(=O)C\n",
      "CC(=O)C1Sc1ccc(Br)ccc1)(=O)n1ccccc1)nncc1nCccccc2c1(CCC(N)\n",
      "[19:55:32] SMILES Parse Error: Failed parsing SMILES 'Cc1ccn(C)c1)c1nc(-c[ccFF)cncc1)C1=NNC(=O)C\n",
      "CC(=O)C1Sc1ccc(Br)ccc1)(=O)n1ccccc1)nncc1nCccccc2c1(CCC(N)' for input: 'Cc1ccn(C)c1)c1nc(-c[ccFF)cncc1)C1=NNC(=O)C\n",
      "CC(=O)C1Sc1ccc(Br)ccc1)(=O)n1ccccc1)nncc1nCccccc2c1(CCC(N)'\n",
      " 77%|██████████████████████████████▋         | 766/1000 [08:05<02:04,  1.88it/s][19:55:33] SMILES Parse Error: extra close parentheses while parsing: C(=O)C1=NN(C(=O)C(c)cccc1C)n1cccccc2c1CCS(=O)(=O)CC1)c1cccccc1)c1ccccc(=O)n1cccc(C(F)(F)C(F)(C)C)ccc1\n",
      "[19:55:33] SMILES Parse Error: Failed parsing SMILES 'C(=O)C1=NN(C(=O)C(c)cccc1C)n1cccccc2c1CCS(=O)(=O)CC1)c1cccccc1)c1ccccc(=O)n1cccc(C(F)(F)C(F)(C)C)ccc1' for input: 'C(=O)C1=NN(C(=O)C(c)cccc1C)n1cccccc2c1CCS(=O)(=O)CC1)c1cccccc1)c1ccccc(=O)n1cccc(C(F)(F)C(F)(C)C)ccc1'\n",
      " 77%|██████████████████████████████▋         | 767/1000 [08:06<02:07,  1.82it/s][19:55:33] SMILES Parse Error: extra close parentheses while parsing: CF)S1\n",
      "CC1NC(=O)C(=O)c1c[nH]cn1)c1cccscc1C(C)C\n",
      "CCC(c1)c1cccc(O)(C)C(=O)O)c1)C(=O)c1ccc(C(=O)OC)no1)n1c\n",
      "[19:55:33] SMILES Parse Error: Failed parsing SMILES 'CF)S1\n",
      "CC1NC(=O)C(=O)c1c[nH]cn1)c1cccscc1C(C)C\n",
      "CCC(c1)c1cccc(O)(C)C(=O)O)c1)C(=O)c1ccc(C(=O)OC)no1)n1c' for input: 'CF)S1\n",
      "CC1NC(=O)C(=O)c1c[nH]cn1)c1cccscc1C(C)C\n",
      "CCC(c1)c1cccc(O)(C)C(=O)O)c1)C(=O)c1ccc(C(=O)OC)no1)n1c'\n",
      " 77%|██████████████████████████████▊         | 770/1000 [08:08<02:12,  1.74it/s][19:55:35] SMILES Parse Error: extra close parentheses while parsing: C(=O)N=C(c2cccc(Cl)c2)C(c1cccccn1)c1cc1Cc1ccccc(F)cc1)C(=O)C1COc2ccccc2c(O)CCOC(=O)n1Cc1cccncc1)c1ccc\n",
      "[19:55:35] SMILES Parse Error: Failed parsing SMILES 'C(=O)N=C(c2cccc(Cl)c2)C(c1cccccn1)c1cc1Cc1ccccc(F)cc1)C(=O)C1COc2ccccc2c(O)CCOC(=O)n1Cc1cccncc1)c1ccc' for input: 'C(=O)N=C(c2cccc(Cl)c2)C(c1cccccn1)c1cc1Cc1ccccc(F)cc1)C(=O)C1COc2ccccc2c(O)CCOC(=O)n1Cc1cccncc1)c1ccc'\n",
      " 77%|██████████████████████████████▊         | 771/1000 [08:08<02:13,  1.71it/s][19:55:36] SMILES Parse Error: extra close parentheses while parsing: CSc1ccc(F)ncc1)c1nc(-ccccc2c(n)[nH]n1)c1ccccc(F)c1)C1(C(=O)N(C)CC1CC1\\C(=O)C(c1cccccn1)c1nccsc1)N(CC(\n",
      "[19:55:36] SMILES Parse Error: Failed parsing SMILES 'CSc1ccc(F)ncc1)c1nc(-ccccc2c(n)[nH]n1)c1ccccc(F)c1)C1(C(=O)N(C)CC1CC1\\C(=O)C(c1cccccn1)c1nccsc1)N(CC(' for input: 'CSc1ccc(F)ncc1)c1nc(-ccccc2c(n)[nH]n1)c1ccccc(F)c1)C1(C(=O)N(C)CC1CC1\\C(=O)C(c1cccccn1)c1nccsc1)N(CC('\n",
      " 77%|██████████████████████████████▉         | 772/1000 [08:09<02:06,  1.81it/s][19:55:36] SMILES Parse Error: syntax error while parsing: C@@]1(O)c1ccccc1)c1cccccc[nH]c1)(C1OC)CC1c1ccccccc1)c1nc1cccc(F)n1)Cn1ccc(O)cnc1)c1ccccnc(O)(c1)C1(CC\n",
      "[19:55:36] SMILES Parse Error: Failed parsing SMILES 'C@@]1(O)c1ccccc1)c1cccccc[nH]c1)(C1OC)CC1c1ccccccc1)c1nc1cccc(F)n1)Cn1ccc(O)cnc1)c1ccccnc(O)(c1)C1(CC' for input: 'C@@]1(O)c1ccccc1)c1cccccc[nH]c1)(C1OC)CC1c1ccccccc1)c1nc1cccc(F)n1)Cn1ccc(O)cnc1)c1ccccnc(O)(c1)C1(CC'\n",
      " 77%|██████████████████████████████▉         | 773/1000 [08:10<02:11,  1.73it/s][19:55:37] SMILES Parse Error: syntax error while parsing: CCNCCOCCOCCS@H]1c1ccccc(O)c1nccnc(NS(C)c(=O)(=O)noc1)c1ccccnc1n1ccccc(C)c1cccccc1)n1Cc1ccccc(F)c1)SC(\n",
      "[19:55:37] SMILES Parse Error: Failed parsing SMILES 'CCNCCOCCOCCS@H]1c1ccccc(O)c1nccnc(NS(C)c(=O)(=O)noc1)c1ccccnc1n1ccccc(C)c1cccccc1)n1Cc1ccccc(F)c1)SC(' for input: 'CCNCCOCCOCCS@H]1c1ccccc(O)c1nccnc(NS(C)c(=O)(=O)noc1)c1ccccnc1n1ccccc(C)c1cccccc1)n1Cc1ccccc(F)c1)SC('\n",
      " 77%|██████████████████████████████▉         | 774/1000 [08:10<02:08,  1.76it/s][19:55:37] SMILES Parse Error: syntax error while parsing: CN-](=O)C1=N+](=O)C(=O)N(C(CC#C)=O)C1)N1Cc1ccc(O)nc1C1c1ncc(-c2ccc(O)cc2(F)c1cccccccc1c1ncccc(O)nn1)c\n",
      "[19:55:37] SMILES Parse Error: Failed parsing SMILES 'CN-](=O)C1=N+](=O)C(=O)N(C(CC#C)=O)C1)N1Cc1ccc(O)nc1C1c1ncc(-c2ccc(O)cc2(F)c1cccccccc1c1ncccc(O)nn1)c' for input: 'CN-](=O)C1=N+](=O)C(=O)N(C(CC#C)=O)C1)N1Cc1ccc(O)nc1C1c1ncc(-c2ccc(O)cc2(F)c1cccccccc1c1ncccc(O)nn1)c'\n",
      " 78%|███████████████████████████████         | 775/1000 [08:11<02:09,  1.74it/s][19:55:38] SMILES Parse Error: extra close parentheses while parsing: C(=O)(=O)CN)c1ccccnc(F)cc1)C1ncc(O)ccc1ncccnccc1)c1cccccc(F)c1cncccc2ccccc1(F)(F)c1cccc(F)cc1)C(=O)C1\n",
      "[19:55:38] SMILES Parse Error: Failed parsing SMILES 'C(=O)(=O)CN)c1ccccnc(F)cc1)C1ncc(O)ccc1ncccnccc1)c1cccccc(F)c1cncccc2ccccc1(F)(F)c1cccc(F)cc1)C(=O)C1' for input: 'C(=O)(=O)CN)c1ccccnc(F)cc1)C1ncc(O)ccc1ncccnccc1)c1cccccc(F)c1cncccc2ccccc1(F)(F)c1cccc(F)cc1)C(=O)C1'\n",
      " 78%|███████████████████████████████         | 776/1000 [08:11<02:13,  1.68it/s][19:55:39] SMILES Parse Error: extra close parentheses while parsing: COc3ccc(Br)cc4)C1c1c[nH]c1ccccc1)C2=C(=O)=NN1C(C)=O)C(=O)[C@@H]1OCCC[C@H]1[C@H](c1ccccHon1)c1ccccccc(\n",
      "[19:55:39] SMILES Parse Error: Failed parsing SMILES 'COc3ccc(Br)cc4)C1c1c[nH]c1ccccc1)C2=C(=O)=NN1C(C)=O)C(=O)[C@@H]1OCCC[C@H]1[C@H](c1ccccHon1)c1ccccccc(' for input: 'COc3ccc(Br)cc4)C1c1c[nH]c1ccccc1)C2=C(=O)=NN1C(C)=O)C(=O)[C@@H]1OCCC[C@H]1[C@H](c1ccccHon1)c1ccccccc('\n",
      " 78%|███████████████████████████████         | 777/1000 [08:12<02:14,  1.65it/s][19:55:40] SMILES Parse Error: syntax error while parsing: C@@]1(CCCOS1)(=O)=N1C1CC(C)CC1ccc(F)ccc1[nH]ncnc1()=Cc1cccnc(C)c1ccccccc1)Cc1cccnc1)c1ccc(F)cccc1)n1c\n",
      "[19:55:40] SMILES Parse Error: Failed parsing SMILES 'C@@]1(CCCOS1)(=O)=N1C1CC(C)CC1ccc(F)ccc1[nH]ncnc1()=Cc1cccnc(C)c1ccccccc1)Cc1cccnc1)c1ccc(F)cccc1)n1c' for input: 'C@@]1(CCCOS1)(=O)=N1C1CC(C)CC1ccc(F)ccc1[nH]ncnc1()=Cc1cccnc(C)c1ccccccc1)Cc1cccnc1)c1ccc(F)cccc1)n1c'\n",
      " 78%|███████████████████████████████         | 778/1000 [08:13<02:32,  1.46it/s][19:55:41] SMILES Parse Error: extra close parentheses while parsing: C1c1cccnc(O)c1N)c1cccccc1CC)n1cccccccc1)c1ncc(Br)ccc1(NC(=O)/C(=O)CC1)c1cccccc(Cl)c1cccccnn1)C1(CC)(C\n",
      "[19:55:41] SMILES Parse Error: Failed parsing SMILES 'C1c1cccnc(O)c1N)c1cccccc1CC)n1cccccccc1)c1ncc(Br)ccc1(NC(=O)/C(=O)CC1)c1cccccc(Cl)c1cccccnn1)C1(CC)(C' for input: 'C1c1cccnc(O)c1N)c1cccccc1CC)n1cccccccc1)c1ncc(Br)ccc1(NC(=O)/C(=O)CC1)c1cccccc(Cl)c1cccccnn1)C1(CC)(C'\n",
      " 78%|███████████████████████████████▏        | 779/1000 [08:14<03:07,  1.18it/s][19:55:41] SMILES Parse Error: extra close parentheses while parsing: C(c3ccsO))c1)n1ccccccc1cc(cccc(c(C)c1ccccccc2ccnccn2)nn1ccc(oc)cc1)(c1cccccc)c1)n1ccccnc1)n1ccccc(F)(\n",
      "[19:55:41] SMILES Parse Error: Failed parsing SMILES 'C(c3ccsO))c1)n1ccccccc1cc(cccc(c(C)c1ccccccc2ccnccn2)nn1ccc(oc)cc1)(c1cccccc)c1)n1ccccnc1)n1ccccc(F)(' for input: 'C(c3ccsO))c1)n1ccccccc1cc(cccc(c(C)c1ccccccc2ccnccn2)nn1ccc(oc)cc1)(c1cccccc)c1)n1ccccnc1)n1ccccc(F)('\n",
      " 78%|███████████████████████████████▏        | 780/1000 [08:15<02:55,  1.25it/s][19:55:42] SMILES Parse Error: syntax error while parsing: C@@]1(CCCN=[C@H]2c1cccccn1)c1ccccccc1)n1nccnc1)c1ncccc(nccccc2c1cc(C)ncnc1)c1ncc(Br)cc(NS(N)(=O)=O)nc\n",
      "[19:55:42] SMILES Parse Error: Failed parsing SMILES 'C@@]1(CCCN=[C@H]2c1cccccn1)c1ccccccc1)n1nccnc1)c1ncccc(nccccc2c1cc(C)ncnc1)c1ncc(Br)cc(NS(N)(=O)=O)nc' for input: 'C@@]1(CCCN=[C@H]2c1cccccn1)c1ccccccc1)n1nccnc1)c1ncccc(nccccc2c1cc(C)ncnc1)c1ncc(Br)cc(NS(N)(=O)=O)nc'\n",
      " 78%|███████████████████████████████▏        | 781/1000 [08:15<02:35,  1.41it/s][19:55:43] SMILES Parse Error: extra close parentheses while parsing: C(=S)N=C(=S)NC1ccc(Br)ccc1)N2\n",
      "CCC(c1cccc(C)n1C)c1ccccnn(C)c1ccccccc1)nc1nccccc2c1ccccnc2)CC(=O)O)(c1c\n",
      "[19:55:43] SMILES Parse Error: Failed parsing SMILES 'C(=S)N=C(=S)NC1ccc(Br)ccc1)N2\n",
      "CCC(c1cccc(C)n1C)c1ccccnn(C)c1ccccccc1)nc1nccccc2c1ccccnc2)CC(=O)O)(c1c' for input: 'C(=S)N=C(=S)NC1ccc(Br)ccc1)N2\n",
      "CCC(c1cccc(C)n1C)c1ccccnn(C)c1ccccccc1)nc1nccccc2c1ccccnc2)CC(=O)O)(c1c'\n",
      " 78%|███████████████████████████████▎        | 782/1000 [08:16<02:29,  1.46it/s][19:55:43] SMILES Parse Error: syntax error while parsing: CC#=O)N1(NCCc2c[nH]cn2)S1\n",
      "CCC(c1(F)(C(=O)O)C(=O)CC1c1cccccc1)n1cccc(c)Cn1)c1ccccc(O)(c)cc1cccccc(O)c1\n",
      "[19:55:43] SMILES Parse Error: Failed parsing SMILES 'CC#=O)N1(NCCc2c[nH]cn2)S1\n",
      "CCC(c1(F)(C(=O)O)C(=O)CC1c1cccccc1)n1cccc(c)Cn1)c1ccccc(O)(c)cc1cccccc(O)c1' for input: 'CC#=O)N1(NCCc2c[nH]cn2)S1\n",
      "CCC(c1(F)(C(=O)O)C(=O)CC1c1cccccc1)n1cccc(c)Cn1)c1ccccc(O)(c)cc1cccccc(O)c1'\n",
      " 78%|███████████████████████████████▎        | 783/1000 [08:17<02:28,  1.46it/s][19:55:44] SMILES Parse Error: extra close parentheses while parsing: CCCCN)C(=O)c1cccc(C)nc1)c1cccccccc1CC)n1cccccc1cccc(F)cc1)nnc1c1cccccsc(c)cc1)N1CC[C@H](c1cccccc1)n1c\n",
      "[19:55:44] SMILES Parse Error: Failed parsing SMILES 'CCCCN)C(=O)c1cccc(C)nc1)c1cccccccc1CC)n1cccccc1cccc(F)cc1)nnc1c1cccccsc(c)cc1)N1CC[C@H](c1cccccc1)n1c' for input: 'CCCCN)C(=O)c1cccc(C)nc1)c1cccccccc1CC)n1cccccc1cccc(F)cc1)nnc1c1cccccsc(c)cc1)N1CC[C@H](c1cccccc1)n1c'\n",
      " 78%|███████████████████████████████▎        | 784/1000 [08:17<02:27,  1.46it/s][19:55:44] SMILES Parse Error: extra close parentheses while parsing: Cs1ccc(O)ccc1)N2n(c2ccc(C(=O)O)(nc3cccc(F)cc1)n1-ccccccnc1)c1cccccc2c(=O)c3ccccc(N3)n2C1)c1ccccc(O)nc\n",
      "[19:55:44] SMILES Parse Error: Failed parsing SMILES 'Cs1ccc(O)ccc1)N2n(c2ccc(C(=O)O)(nc3cccc(F)cc1)n1-ccccccnc1)c1cccccc2c(=O)c3ccccc(N3)n2C1)c1ccccc(O)nc' for input: 'Cs1ccc(O)ccc1)N2n(c2ccc(C(=O)O)(nc3cccc(F)cc1)n1-ccccccnc1)c1cccccc2c(=O)c3ccccc(N3)n2C1)c1ccccc(O)nc'\n",
      " 78%|███████████████████████████████▍        | 785/1000 [08:18<02:17,  1.57it/s][19:55:45] SMILES Parse Error: extra open parentheses for input: 'C(C(=O)CNC(=O)C2C=C(OC)C1\n",
      "CCC(C)C(=O)N1C1CC(c)cc(C)[nH]n1)c1ccccccc1)n1cccccc()n3cccc(C()(S)Sc1nccn1)'\n",
      " 79%|███████████████████████████████▍        | 786/1000 [08:19<02:29,  1.43it/s][19:55:46] SMILES Parse Error: extra close parentheses while parsing: CO2)sccc2c1C(=OC)CC\n",
      "CCC(c1nc2onc(N2CCCC3)c2ccccnc1C(F)=O)n1Cc1cccc(Br)cc1)n1cccnc1)c1cccccc1)c1cccncc\n",
      "[19:55:46] SMILES Parse Error: Failed parsing SMILES 'CO2)sccc2c1C(=OC)CC\n",
      "CCC(c1nc2onc(N2CCCC3)c2ccccnc1C(F)=O)n1Cc1cccc(Br)cc1)n1cccnc1)c1cccccc1)c1cccncc' for input: 'CO2)sccc2c1C(=OC)CC\n",
      "CCC(c1nc2onc(N2CCCC3)c2ccccnc1C(F)=O)n1Cc1cccc(Br)cc1)n1cccnc1)c1cccccc1)c1cccncc'\n",
      " 79%|███████████████████████████████▍        | 787/1000 [08:20<02:51,  1.24it/s][19:55:47] SMILES Parse Error: syntax error while parsing: Ccoc(F)c(N2CCc3c([noH]3)[C@H]2Ccc2ccccc2)c1cccc(O)cc1)CC\n",
      "CC(=OF1)N[C1(C(=O)O)C(=O)s1)S1C\n",
      "CCN(CC)S(=O)\n",
      "[19:55:47] SMILES Parse Error: Failed parsing SMILES 'Ccoc(F)c(N2CCc3c([noH]3)[C@H]2Ccc2ccccc2)c1cccc(O)cc1)CC\n",
      "CC(=OF1)N[C1(C(=O)O)C(=O)s1)S1C\n",
      "CCN(CC)S(=O)' for input: 'Ccoc(F)c(N2CCc3c([noH]3)[C@H]2Ccc2ccccc2)c1cccc(O)cc1)CC\n",
      "CC(=OF1)N[C1(C(=O)O)C(=O)s1)S1C\n",
      "CCN(CC)S(=O)'\n",
      " 79%|███████████████████████████████▌        | 788/1000 [08:20<02:55,  1.21it/s][19:55:48] SMILES Parse Error: syntax error while parsing: C@@]2(c3cccoF)(F)cc2N1CCO)C(=O)C1C\n",
      "CC(=O)/C(=C/c3ccco(F)c3)C[C@H]2F)=C(=O)C1)c1cccccc(F)cc1)n1ccccc(c\n",
      "[19:55:48] SMILES Parse Error: Failed parsing SMILES 'C@@]2(c3cccoF)(F)cc2N1CCO)C(=O)C1C\n",
      "CC(=O)/C(=C/c3ccco(F)c3)C[C@H]2F)=C(=O)C1)c1cccccc(F)cc1)n1ccccc(c' for input: 'C@@]2(c3cccoF)(F)cc2N1CCO)C(=O)C1C\n",
      "CC(=O)/C(=C/c3ccco(F)c3)C[C@H]2F)=C(=O)C1)c1cccccc(F)cc1)n1ccccc(c'\n",
      " 79%|███████████████████████████████▌        | 789/1000 [08:21<02:45,  1.27it/s][19:55:49] SMILES Parse Error: syntax error while parsing: CCC(=O)C[C@H]1[C@@H](F)CC1(S((=O)(=O)CCC(c1cccccn1)n1ccccc(O)n1)C(=O)Cc1ccc(Br)cc(Br)c1)N2\n",
      "CC(=O)C1=N\n",
      "[19:55:49] SMILES Parse Error: Failed parsing SMILES 'CCC(=O)C[C@H]1[C@@H](F)CC1(S((=O)(=O)CCC(c1cccccn1)n1ccccc(O)n1)C(=O)Cc1ccc(Br)cc(Br)c1)N2\n",
      "CC(=O)C1=N' for input: 'CCC(=O)C[C@H]1[C@@H](F)CC1(S((=O)(=O)CCC(c1cccccn1)n1ccccc(O)n1)C(=O)Cc1ccc(Br)cc(Br)c1)N2\n",
      "CC(=O)C1=N'\n",
      " 79%|███████████████████████████████▌        | 790/1000 [08:22<02:38,  1.33it/s][19:55:49] SMILES Parse Error: extra close parentheses while parsing: CCCNC(=O)Cc1cccncc1)c1cccccc()(c)c1)n1ccccc()c1)(C)=C(nncccsc(O)n1)c1cccccc1)(c1(cHccccc1)(c1)(C(=O)O\n",
      "[19:55:49] SMILES Parse Error: Failed parsing SMILES 'CCCNC(=O)Cc1cccncc1)c1cccccc()(c)c1)n1ccccc()c1)(C)=C(nncccsc(O)n1)c1cccccc1)(c1(cHccccc1)(c1)(C(=O)O' for input: 'CCCNC(=O)Cc1cccncc1)c1cccccc()(c)c1)n1ccccc()c1)(C)=C(nncccsc(O)n1)c1cccccc1)(c1(cHccccc1)(c1)(C(=O)O'\n",
      " 79%|███████████████████████████████▋        | 791/1000 [08:23<02:33,  1.36it/s][19:55:50] SMILES Parse Error: unclosed ring for input: 'C1\n",
      "CCC(C)C(S(=O)(=O)NC1Cc1ccc(O)nc1)c1ccc(ncccc2c1ccccccO)n1)n1cccncc2c)n(C)c1cccc[nn1)c1ccccs1Cc1ncc'\n",
      " 79%|███████████████████████████████▋        | 792/1000 [08:23<02:23,  1.45it/s][19:55:50] SMILES Parse Error: extra close parentheses while parsing: C3(CC[C@H]3C1)[nH]c)c1ncccc(Br)c(Br)cc1c1cccccc1)S(n1nc1ccc(Br)c(Br)cn1)c1ccc(Br)cccc12\n",
      "CC(c1cccc(N)n\n",
      "[19:55:50] SMILES Parse Error: Failed parsing SMILES 'C3(CC[C@H]3C1)[nH]c)c1ncccc(Br)c(Br)cc1c1cccccc1)S(n1nc1ccc(Br)c(Br)cn1)c1ccc(Br)cccc12\n",
      "CC(c1cccc(N)n' for input: 'C3(CC[C@H]3C1)[nH]c)c1ncccc(Br)c(Br)cc1c1cccccc1)S(n1nc1ccc(Br)c(Br)cn1)c1ccc(Br)cccc12\n",
      "CC(c1cccc(N)n'\n",
      " 79%|███████████████████████████████▋        | 793/1000 [08:24<02:16,  1.52it/s][19:55:51] SMILES Parse Error: syntax error while parsing: C@H](F)C1=O\n",
      "CC[C@H](N)C(=O)N1C(=C/c3ccc(Br)ncn1)1c1ccc(Br)ccs1)N2\n",
      "CC(=O)C1=C(C2O)CC1)c1ccc(O)ncc1n1cc\n",
      "[19:55:51] SMILES Parse Error: Failed parsing SMILES 'C@H](F)C1=O\n",
      "CC[C@H](N)C(=O)N1C(=C/c3ccc(Br)ncn1)1c1ccc(Br)ccs1)N2\n",
      "CC(=O)C1=C(C2O)CC1)c1ccc(O)ncc1n1cc' for input: 'C@H](F)C1=O\n",
      "CC[C@H](N)C(=O)N1C(=C/c3ccc(Br)ncn1)1c1ccc(Br)ccs1)N2\n",
      "CC(=O)C1=C(C2O)CC1)c1ccc(O)ncc1n1cc'\n",
      " 79%|███████████████████████████████▊        | 794/1000 [08:24<02:16,  1.51it/s][19:55:52] SMILES Parse Error: extra close parentheses while parsing: Cl)(c2cccccc2)nn(C)c1cccncn1)cccc1CC(S)=O\n",
      "CCO[C@@H](c1cccc(F)c1)C(=O)C1c1cccncc1\n",
      "CCS(=O)(n3ccc(F)cc(C\n",
      "[19:55:52] SMILES Parse Error: Failed parsing SMILES 'Cl)(c2cccccc2)nn(C)c1cccncn1)cccc1CC(S)=O\n",
      "CCO[C@@H](c1cccc(F)c1)C(=O)C1c1cccncc1\n",
      "CCS(=O)(n3ccc(F)cc(C' for input: 'Cl)(c2cccccc2)nn(C)c1cccncn1)cccc1CC(S)=O\n",
      "CCO[C@@H](c1cccc(F)c1)C(=O)C1c1cccncc1\n",
      "CCS(=O)(n3ccc(F)cc(C'\n",
      " 80%|███████████████████████████████▊        | 795/1000 [08:25<02:13,  1.54it/s][19:55:52] SMILES Parse Error: extra close parentheses while parsing: C)C)CC[C@H]1c1cccc(O)c1F\n",
      "CCc1csc(C(F)()C(=O)O)(=N=O)(=O)c2nccnc2n1cccc(Br)cc2N2C[C@@H]3c2ccccn1)n1ccc\n",
      "[19:55:52] SMILES Parse Error: Failed parsing SMILES 'C)C)CC[C@H]1c1cccc(O)c1F\n",
      "CCc1csc(C(F)()C(=O)O)(=N=O)(=O)c2nccnc2n1cccc(Br)cc2N2C[C@@H]3c2ccccn1)n1ccc' for input: 'C)C)CC[C@H]1c1cccc(O)c1F\n",
      "CCc1csc(C(F)()C(=O)O)(=N=O)(=O)c2nccnc2n1cccc(Br)cc2N2C[C@@H]3c2ccccn1)n1ccc'\n",
      " 80%|███████████████████████████████▊        | 796/1000 [08:26<02:11,  1.55it/s][19:55:53] SMILES Parse Error: syntax error while parsing: C(c3cc(F)ncc3ccccc3O)nH(c3cccc(Br)c3)c2n1nc(-c2cc([nH]n3)cc2[nH]cscc2F)=N1\n",
      "CC(=O)CN1C=C(F)(F)C(=O)C(S\n",
      "[19:55:53] SMILES Parse Error: Failed parsing SMILES 'C(c3cc(F)ncc3ccccc3O)nH(c3cccc(Br)c3)c2n1nc(-c2cc([nH]n3)cc2[nH]cscc2F)=N1\n",
      "CC(=O)CN1C=C(F)(F)C(=O)C(S' for input: 'C(c3cc(F)ncc3ccccc3O)nH(c3cccc(Br)c3)c2n1nc(-c2cc([nH]n3)cc2[nH]cscc2F)=N1\n",
      "CC(=O)CN1C=C(F)(F)C(=O)C(S'\n",
      " 80%|███████████████████████████████▉        | 797/1000 [08:26<02:21,  1.44it/s][19:55:54] SMILES Parse Error: syntax error while parsing: C1=C(C2=O)/C(=C@H]/c2ccc(F)cc2F)CC1ccccn1)C(=O)CC(F)(F)F)C(c1cccccnc1)n1c\n",
      "CCc1cccc2C(=O)CC(=O)OC)C1c1\n",
      "[19:55:54] SMILES Parse Error: Failed parsing SMILES 'C1=C(C2=O)/C(=C@H]/c2ccc(F)cc2F)CC1ccccn1)C(=O)CC(F)(F)F)C(c1cccccnc1)n1c\n",
      "CCc1cccc2C(=O)CC(=O)OC)C1c1' for input: 'C1=C(C2=O)/C(=C@H]/c2ccc(F)cc2F)CC1ccccn1)C(=O)CC(F)(F)F)C(c1cccccnc1)n1c\n",
      "CCc1cccc2C(=O)CC(=O)OC)C1c1'\n",
      " 80%|███████████████████████████████▉        | 798/1000 [08:27<02:13,  1.51it/s][19:55:54] SMILES Parse Error: syntax error while parsing: CN1C[C@@H](CNC(=O)[C@@oo1)c1cccc(Br)ccc1ncccc(O)n1ccccnc1)c1cccccc2c(=O)n1Cc1cccccc1)n1cccnc(F)c1)c1c\n",
      "[19:55:54] SMILES Parse Error: Failed parsing SMILES 'CN1C[C@@H](CNC(=O)[C@@oo1)c1cccc(Br)ccc1ncccc(O)n1ccccnc1)c1cccccc2c(=O)n1Cc1cccccc1)n1cccnc(F)c1)c1c' for input: 'CN1C[C@@H](CNC(=O)[C@@oo1)c1cccc(Br)ccc1ncccc(O)n1ccccnc1)c1cccccc2c(=O)n1Cc1cccccc1)n1cccnc(F)c1)c1c'\n",
      " 80%|███████████████████████████████▉        | 799/1000 [08:28<02:11,  1.52it/s][19:55:55] SMILES Parse Error: syntax error while parsing: C(=/CiC(=O)C1=C(C)(C)c1cccccc1nncncc1)sc(nc(F)cc1)c1ccc(Br)cco1)n1ccc(Cn2ccc(Br)ccc2cc4cc3cccccO)(c44\n",
      "[19:55:55] SMILES Parse Error: Failed parsing SMILES 'C(=/CiC(=O)C1=C(C)(C)c1cccccc1nncncc1)sc(nc(F)cc1)c1ccc(Br)cco1)n1ccc(Cn2ccc(Br)ccc2cc4cc3cccccO)(c44' for input: 'C(=/CiC(=O)C1=C(C)(C)c1cccccc1nncncc1)sc(nc(F)cc1)c1ccc(Br)cco1)n1ccc(Cn2ccc(Br)ccc2cc4cc3cccccO)(c44'\n",
      " 80%|████████████████████████████████        | 800/1000 [08:28<02:04,  1.60it/s][19:55:56] SMILES Parse Error: extra close parentheses while parsing: CN2c3ccc(Cl)cc3)S2)C1=O\n",
      "CCC(c2ccccnc2)S2)S1\n",
      "CC+(](C)(c)ccccc1)OCc1ccccc2c1CCO(iC(C)CC2)cc1ccccccc1)n1\n",
      "[19:55:56] SMILES Parse Error: Failed parsing SMILES 'CN2c3ccc(Cl)cc3)S2)C1=O\n",
      "CCC(c2ccccnc2)S2)S1\n",
      "CC+(](C)(c)ccccc1)OCc1ccccc2c1CCO(iC(C)CC2)cc1ccccccc1)n1' for input: 'CN2c3ccc(Cl)cc3)S2)C1=O\n",
      "CCC(c2ccccnc2)S2)S1\n",
      "CC+(](C)(c)ccccc1)OCc1ccccc2c1CCO(iC(C)CC2)cc1ccccccc1)n1'\n",
      " 80%|████████████████████████████████        | 801/1000 [08:29<02:03,  1.61it/s][19:55:56] SMILES Parse Error: extra close parentheses while parsing: CN1CCC(F)(F)C1)c1cccccc1)n1ccccccccn()N)(C1)c1cccsc(F)c1)NC(=O)OC)F1c1ccc(F)ccc1)nn1(c1ccccccc1nccncc\n",
      "[19:55:56] SMILES Parse Error: Failed parsing SMILES 'CN1CCC(F)(F)C1)c1cccccc1)n1ccccccccn()N)(C1)c1cccsc(F)c1)NC(=O)OC)F1c1ccc(F)ccc1)nn1(c1ccccccc1nccncc' for input: 'CN1CCC(F)(F)C1)c1cccccc1)n1ccccccccn()N)(C1)c1cccsc(F)c1)NC(=O)OC)F1c1ccc(F)ccc1)nn1(c1ccccccc1nccncc'\n",
      " 80%|████████████████████████████████        | 802/1000 [08:29<01:56,  1.70it/s][19:55:57] SMILES Parse Error: syntax error while parsing: C@H]21\n",
      "CCC(=O)C(=O)c1ccc(-c2cnccnn2C)c1ccccccc1)(C)c1ccccc(C)c1)n1cccc(Br)ccccn2)nc1nccc(B)cc1ncccncc\n",
      "[19:55:57] SMILES Parse Error: Failed parsing SMILES 'C@H]21\n",
      "CCC(=O)C(=O)c1ccc(-c2cnccnn2C)c1ccccccc1)(C)c1ccccc(C)c1)n1cccc(Br)ccccn2)nc1nccc(B)cc1ncccncc' for input: 'C@H]21\n",
      "CCC(=O)C(=O)c1ccc(-c2cnccnn2C)c1ccccccc1)(C)c1ccccc(C)c1)n1cccc(Br)ccccn2)nc1nccc(B)cc1ncccncc'\n",
      " 80%|████████████████████████████████        | 803/1000 [08:30<02:26,  1.35it/s][19:55:58] SMILES Parse Error: extra close parentheses while parsing: C)(=O)=)C(=O)C1CNC(=O)NC1=cNcccc(-)c1nccnc1)c1sccc(Br)cc1)(=O)c1ccccccccc1c1ccccccc1ncccnc1)c1scccc3c\n",
      "[19:55:58] SMILES Parse Error: Failed parsing SMILES 'C)(=O)=)C(=O)C1CNC(=O)NC1=cNcccc(-)c1nccnc1)c1sccc(Br)cc1)(=O)c1ccccccccc1c1ccccccc1ncccnc1)c1scccc3c' for input: 'C)(=O)=)C(=O)C1CNC(=O)NC1=cNcccc(-)c1nccnc1)c1sccc(Br)cc1)(=O)c1ccccccccc1c1ccccccc1ncccnc1)c1scccc3c'\n",
      " 80%|████████████████████████████████▏       | 804/1000 [08:31<02:29,  1.31it/s][19:55:58] SMILES Parse Error: extra close parentheses while parsing: C)C(=O)N1CC(N(C(=O)c2cccnc(O)c2c1cccc(O)nn2)c1ccccc(O)cc1C\n",
      "CC1=CC[C@@H](F)Co2)c1ccccc(C)nc1)c1ccccccc\n",
      "[19:55:58] SMILES Parse Error: Failed parsing SMILES 'C)C(=O)N1CC(N(C(=O)c2cccnc(O)c2c1cccc(O)nn2)c1ccccc(O)cc1C\n",
      "CC1=CC[C@@H](F)Co2)c1ccccc(C)nc1)c1ccccccc' for input: 'C)C(=O)N1CC(N(C(=O)c2cccnc(O)c2c1cccc(O)nn2)c1ccccc(O)cc1C\n",
      "CC1=CC[C@@H](F)Co2)c1ccccc(C)nc1)c1ccccccc'\n",
      " 80%|████████████████████████████████▏       | 805/1000 [08:32<02:12,  1.47it/s][19:55:59] SMILES Parse Error: extra close parentheses while parsing: C1c1cccsc1)N2CCOC(c1(F)[C@@H]2OCC1\n",
      "CCCc1ccc2c(nccnc3)n2ccnc()n2)c2cccsc3c(=O)no1)c1ccccccc1)n1ccccccc\n",
      "[19:55:59] SMILES Parse Error: Failed parsing SMILES 'C1c1cccsc1)N2CCOC(c1(F)[C@@H]2OCC1\n",
      "CCCc1ccc2c(nccnc3)n2ccnc()n2)c2cccsc3c(=O)no1)c1ccccccc1)n1ccccccc' for input: 'C1c1cccsc1)N2CCOC(c1(F)[C@@H]2OCC1\n",
      "CCCc1ccc2c(nccnc3)n2ccnc()n2)c2cccsc3c(=O)no1)c1ccccccc1)n1ccccccc'\n",
      " 81%|████████████████████████████████▏       | 806/1000 [08:32<02:06,  1.53it/s][19:56:00] SMILES Parse Error: extra close parentheses while parsing: C/c3cccs3)n2)N1C(=O)CCc1ccccc(O)n1c1cccc(Br)cc(F)c1CC\n",
      "CC1=C(C(=O)C2=CC(C#=C(F)C[C@H]1c1ccc(OC(C)=O)nc\n",
      "[19:56:00] SMILES Parse Error: Failed parsing SMILES 'C/c3cccs3)n2)N1C(=O)CCc1ccccc(O)n1c1cccc(Br)cc(F)c1CC\n",
      "CC1=C(C(=O)C2=CC(C#=C(F)C[C@H]1c1ccc(OC(C)=O)nc' for input: 'C/c3cccs3)n2)N1C(=O)CCc1ccccc(O)n1c1cccc(Br)cc(F)c1CC\n",
      "CC1=C(C(=O)C2=CC(C#=C(F)C[C@H]1c1ccc(OC(C)=O)nc'\n",
      " 81%|████████████████████████████████▎       | 807/1000 [08:33<02:01,  1.59it/s][19:56:00] SMILES Parse Error: extra close parentheses while parsing: C[C@H]1ccccn1)C(=O)C1CC1(CCOr)c1ccccccc2c1cccccc1)ncn1)C1(C)c1csccn1)c1ccc(F)ccc1nccc(O)cc1nccncn1)c1\n",
      "[19:56:00] SMILES Parse Error: Failed parsing SMILES 'C[C@H]1ccccn1)C(=O)C1CC1(CCOr)c1ccccccc2c1cccccc1)ncn1)C1(C)c1csccn1)c1ccc(F)ccc1nccc(O)cc1nccncn1)c1' for input: 'C[C@H]1ccccn1)C(=O)C1CC1(CCOr)c1ccccccc2c1cccccc1)ncn1)C1(C)c1csccn1)c1ccc(F)ccc1nccc(O)cc1nccncn1)c1'\n",
      " 81%|████████████████████████████████▎       | 808/1000 [08:34<01:58,  1.62it/s][19:56:01] SMILES Parse Error: extra close parentheses while parsing: C[C@H]1c1ccccn1)\n",
      "CCCr[C@@H](c1ccc(F)ccc1)N(Cc1ccccc(F)(Cn2ccco2)n1ccccno1)c1nccnc2c(=O)CC1)c1ccccc1)O\n",
      "[19:56:01] SMILES Parse Error: Failed parsing SMILES 'C[C@H]1c1ccccn1)\n",
      "CCCr[C@@H](c1ccc(F)ccc1)N(Cc1ccccc(F)(Cn2ccco2)n1ccccno1)c1nccnc2c(=O)CC1)c1ccccc1)O' for input: 'C[C@H]1c1ccccn1)\n",
      "CCCr[C@@H](c1ccc(F)ccc1)N(Cc1ccccc(F)(Cn2ccco2)n1ccccno1)c1nccnc2c(=O)CC1)c1ccccc1)O'\n",
      " 81%|████████████████████████████████▎       | 809/1000 [08:34<01:54,  1.66it/s][19:56:01] SMILES Parse Error: unclosed ring for input: 'C[C@H]2(c3ccsc4)S1\n",
      "CCc1csc(NC(=O)C(C)(C)C)c(=O)n1Cc1ccccn1)c1nccccn1)C(=O)CF)c1ccccc(O)(=O)n1Cc1ccccc'\n",
      " 81%|████████████████████████████████▍       | 811/1000 [08:35<01:47,  1.76it/s][19:56:02] SMILES Parse Error: extra close parentheses while parsing: C1(CCCN)c1cccccc(O)n1ccnc(C)c1cccc(F)cc1)n1cccccc1cccccc1)cccc1cccccc1)n1ccccc2ccccccc2cc1c(O)ncnc(C)\n",
      "[19:56:02] SMILES Parse Error: Failed parsing SMILES 'C1(CCCN)c1cccccc(O)n1ccnc(C)c1cccc(F)cc1)n1cccccc1cccccc1)cccc1cccccc1)n1ccccc2ccccccc2cc1c(O)ncnc(C)' for input: 'C1(CCCN)c1cccccc(O)n1ccnc(C)c1cccc(F)cc1)n1cccccc1cccccc1)cccc1cccccc1)n1ccccc2ccccccc2cc1c(O)ncnc(C)'\n",
      " 81%|████████████████████████████████▍       | 812/1000 [08:36<01:48,  1.74it/s][19:56:03] SMILES Parse Error: syntax error while parsing: C1[C@H]2Cc3cc(F)ncc3nccc2c(s/c1ccoc)c()(=O)C(=O)=N)(C)C)cc1)n1cccc(F)ccc1)nHc(=N(=N)=O)C(=O)[n1Cc+ncc\n",
      "[19:56:03] SMILES Parse Error: Failed parsing SMILES 'C1[C@H]2Cc3cc(F)ncc3nccc2c(s/c1ccoc)c()(=O)C(=O)=N)(C)C)cc1)n1cccc(F)ccc1)nHc(=N(=N)=O)C(=O)[n1Cc+ncc' for input: 'C1[C@H]2Cc3cc(F)ncc3nccc2c(s/c1ccoc)c()(=O)C(=O)=N)(C)C)cc1)n1cccc(F)ccc1)nHc(=N(=N)=O)C(=O)[n1Cc+ncc'\n",
      " 81%|████████████████████████████████▌       | 813/1000 [08:36<01:47,  1.74it/s][19:56:04] SMILES Parse Error: extra close parentheses while parsing: CCc3cccsc3)S2)SC1(C)(c1ccccccn1)c1nccnccc3c1)N[C@H]2c1cccccn(C)(C)c1nccncc2)n1cccccc2)n1ccc(cc2)ncc(-\n",
      "[19:56:04] SMILES Parse Error: Failed parsing SMILES 'CCc3cccsc3)S2)SC1(C)(c1ccccccn1)c1nccnccc3c1)N[C@H]2c1cccccn(C)(C)c1nccncc2)n1cccccc2)n1ccc(cc2)ncc(-' for input: 'CCc3cccsc3)S2)SC1(C)(c1ccccccn1)c1nccnccc3c1)N[C@H]2c1cccccn(C)(C)c1nccncc2)n1cccccc2)n1ccc(cc2)ncc(-'\n",
      " 81%|████████████████████████████████▌       | 814/1000 [08:37<01:47,  1.74it/s][19:56:04] SMILES Parse Error: extra close parentheses while parsing: C)(=O)=C#F)/C(=C\\C)C(=O)C1CCNCOC=C(\\C(N=[c@@H]3c2cncs2)C(=O\n",
      "CC(=O)C(C)(C)C\n",
      "CC1=CCC(=O)C1NC(=O)c1ccccc\n",
      "[19:56:04] SMILES Parse Error: Failed parsing SMILES 'C)(=O)=C#F)/C(=C\\C)C(=O)C1CCNCOC=C(\\C(N=[c@@H]3c2cncs2)C(=O\n",
      "CC(=O)C(C)(C)C\n",
      "CC1=CCC(=O)C1NC(=O)c1ccccc' for input: 'C)(=O)=C#F)/C(=C\\C)C(=O)C1CCNCOC=C(\\C(N=[c@@H]3c2cncs2)C(=O\n",
      "CC(=O)C(C)(C)C\n",
      "CC1=CCC(=O)C1NC(=O)c1ccccc'\n",
      " 82%|████████████████████████████████▌       | 815/1000 [08:37<01:41,  1.82it/s][19:56:05] SMILES Parse Error: extra close parentheses while parsing: CO)n1Cc1ccnn(C)c1)c1ncccc(C)c1ncco1)c1ccc(F)cc(Br)c1)C(=O)c1ccscn1)c1ccccc(N)(=O)C(=O)OC(=O)n1)c1cccc\n",
      "[19:56:05] SMILES Parse Error: Failed parsing SMILES 'CO)n1Cc1ccnn(C)c1)c1ncccc(C)c1ncco1)c1ccc(F)cc(Br)c1)C(=O)c1ccscn1)c1ccccc(N)(=O)C(=O)OC(=O)n1)c1cccc' for input: 'CO)n1Cc1ccnn(C)c1)c1ncccc(C)c1ncco1)c1ccc(F)cc(Br)c1)C(=O)c1ccscn1)c1ccccc(N)(=O)C(=O)OC(=O)n1)c1cccc'\n",
      " 82%|████████████████████████████████▋       | 816/1000 [08:38<01:43,  1.77it/s][19:56:05] SMILES Parse Error: extra close parentheses while parsing: Cl)CC1c1ccccc(OC)n1)c1ccccc1)n1ccccnc2c(=O)n1)c1cccc(Br)(l)ccnc1)c1ccccccn1)C1(C)C\n",
      "CC(=O)C1=NN(c2cc(C\n",
      "[19:56:05] SMILES Parse Error: Failed parsing SMILES 'Cl)CC1c1ccccc(OC)n1)c1ccccc1)n1ccccnc2c(=O)n1)c1cccc(Br)(l)ccnc1)c1ccccccn1)C1(C)C\n",
      "CC(=O)C1=NN(c2cc(C' for input: 'Cl)CC1c1ccccc(OC)n1)c1ccccc1)n1ccccnc2c(=O)n1)c1cccc(Br)(l)ccnc1)c1ccccccn1)C1(C)C\n",
      "CC(=O)C1=NN(c2cc(C'\n",
      " 82%|████████████████████████████████▋       | 817/1000 [08:39<01:42,  1.79it/s][19:56:06] SMILES Parse Error: extra close parentheses while parsing: C(=S)NS[C@H]1OcCc1ccccc(F)c1)C(=O)c1nc2ccc(C)cc(F)c1)=C1CC(c1ccccnc2)n1)c1ccccc(O)nc1)c2cccncc2c1CC(=\n",
      "[19:56:06] SMILES Parse Error: Failed parsing SMILES 'C(=S)NS[C@H]1OcCc1ccccc(F)c1)C(=O)c1nc2ccc(C)cc(F)c1)=C1CC(c1ccccnc2)n1)c1ccccc(O)nc1)c2cccncc2c1CC(=' for input: 'C(=S)NS[C@H]1OcCc1ccccc(F)c1)C(=O)c1nc2ccc(C)cc(F)c1)=C1CC(c1ccccnc2)n1)c1ccccc(O)nc1)c2cccncc2c1CC(='\n",
      " 82%|████████████████████████████████▋       | 818/1000 [08:39<01:42,  1.78it/s][19:56:06] SMILES Parse Error: syntax error while parsing: C(=O)C1=NN(C()o2ccc(F)nc2)S1)c1cccccc(O)(C)C(=O)Cc1ncccnn1C\n",
      "CCC(c1cccnccO)(c1)ccccc1)nc1)c1ccccc(F)cc\n",
      "[19:56:06] SMILES Parse Error: Failed parsing SMILES 'C(=O)C1=NN(C()o2ccc(F)nc2)S1)c1cccccc(O)(C)C(=O)Cc1ncccnn1C\n",
      "CCC(c1cccnccO)(c1)ccccc1)nc1)c1ccccc(F)cc' for input: 'C(=O)C1=NN(C()o2ccc(F)nc2)S1)c1cccccc(O)(C)C(=O)Cc1ncccnn1C\n",
      "CCC(c1cccnccO)(c1)ccccc1)nc1)c1ccccc(F)cc'\n",
      " 82%|████████████████████████████████▊       | 819/1000 [08:40<01:36,  1.87it/s][19:56:07] SMILES Parse Error: extra close parentheses while parsing: C1=NN(c3cc(F)ccc3)N2CC(=O)C1=NN(C(=O)CCC(=O)C(c1cccccc1)n1ccccc(F)cc1)C(=O)=C)c1ccsccc1)s1cccccccncc1\n",
      "[19:56:07] SMILES Parse Error: Failed parsing SMILES 'C1=NN(c3cc(F)ccc3)N2CC(=O)C1=NN(C(=O)CCC(=O)C(c1cccccc1)n1ccccc(F)cc1)C(=O)=C)c1ccsccc1)s1cccccccncc1' for input: 'C1=NN(c3cc(F)ccc3)N2CC(=O)C1=NN(C(=O)CCC(=O)C(c1cccccc1)n1ccccc(F)cc1)C(=O)=C)c1ccsccc1)s1cccccccncc1'\n",
      " 82%|████████████████████████████████▊       | 820/1000 [08:40<01:39,  1.81it/s][19:56:07] SMILES Parse Error: syntax error while parsing: CCCc2scnc()(=O)=O)c3cccsc2)N1C(=O)CC1[C@H]1c1nccccn1)\n",
      "CC(=O)C1Cc[n[nH]c1)c1ccccc1)N2C[C@H]1OCCC[C@H]1\n",
      "[19:56:07] SMILES Parse Error: Failed parsing SMILES 'CCCc2scnc()(=O)=O)c3cccsc2)N1C(=O)CC1[C@H]1c1nccccn1)\n",
      "CC(=O)C1Cc[n[nH]c1)c1ccccc1)N2C[C@H]1OCCC[C@H]1' for input: 'CCCc2scnc()(=O)=O)c3cccsc2)N1C(=O)CC1[C@H]1c1nccccn1)\n",
      "CC(=O)C1Cc[n[nH]c1)c1ccccc1)N2C[C@H]1OCCC[C@H]1'\n",
      " 82%|████████████████████████████████▊       | 821/1000 [08:41<01:40,  1.78it/s][19:56:08] SMILES Parse Error: syntax error while parsing: C=s1BcH]nc(C(=O)O)nc1C1)c1ccccc(=O)nc1)n1cccccc(C)(O)n1cccccc(c1)c1ccccncc1)c1cccc(F)(c1)ns1c(ccccc1)\n",
      "[19:56:08] SMILES Parse Error: Failed parsing SMILES 'C=s1BcH]nc(C(=O)O)nc1C1)c1ccccc(=O)nc1)n1cccccc(C)(O)n1cccccc(c1)c1ccccncc1)c1cccc(F)(c1)ns1c(ccccc1)' for input: 'C=s1BcH]nc(C(=O)O)nc1C1)c1ccccc(=O)nc1)n1cccccc(C)(O)n1cccccc(c1)c1ccccncc1)c1cccc(F)(c1)ns1c(ccccc1)'\n",
      " 82%|████████████████████████████████▉       | 822/1000 [08:41<01:35,  1.86it/s][19:56:09] SMILES Parse Error: ring closure 1 duplicates bond between atom 1 and atom 2 for input: 'CN1c1cccccc1\n",
      "CCC(c1cccncc1)n1ccc(NS(=O)(=O)c2cccoc2)c1cccnccc1)C(C)(=O)O\n",
      "CCC(c1ccnccnc1C(=O)(=O)C(=O)'\n",
      " 82%|████████████████████████████████▉       | 823/1000 [08:42<01:38,  1.80it/s][19:56:09] SMILES Parse Error: extra close parentheses while parsing: Cc1cccc2c1CCOC(C(=O)N1)[nH]c1cccc(F)c1)N2\n",
      "CC(=C/c3c([nH]n4)Cl)CC1)c1ccccs1C(=O)C[C@@]1(N)C=C(C1)=N1Cc\n",
      "[19:56:09] SMILES Parse Error: Failed parsing SMILES 'Cc1cccc2c1CCOC(C(=O)N1)[nH]c1cccc(F)c1)N2\n",
      "CC(=C/c3c([nH]n4)Cl)CC1)c1ccccs1C(=O)C[C@@]1(N)C=C(C1)=N1Cc' for input: 'Cc1cccc2c1CCOC(C(=O)N1)[nH]c1cccc(F)c1)N2\n",
      "CC(=C/c3c([nH]n4)Cl)CC1)c1ccccs1C(=O)C[C@@]1(N)C=C(C1)=N1Cc'\n",
      " 82%|████████████████████████████████▉       | 824/1000 [08:42<01:37,  1.80it/s][19:56:10] SMILES Parse Error: extra close parentheses while parsing: C[C@H]2[C@H]1c1ccncc1)c1nccccnc1)c1cccncc1)(c1)C(=O)CC=C(C)(F)(C)(O)O1)c1cccccc1CC\n",
      "CCC(c1nc2ccsc[nH(c\n",
      "[19:56:10] SMILES Parse Error: Failed parsing SMILES 'C[C@H]2[C@H]1c1ccncc1)c1nccccnc1)c1cccncc1)(c1)C(=O)CC=C(C)(F)(C)(O)O1)c1cccccc1CC\n",
      "CCC(c1nc2ccsc[nH(c' for input: 'C[C@H]2[C@H]1c1ccncc1)c1nccccnc1)c1cccncc1)(c1)C(=O)CC=C(C)(F)(C)(O)O1)c1cccccc1CC\n",
      "CCC(c1nc2ccsc[nH(c'\n",
      " 82%|█████████████████████████████████       | 825/1000 [08:43<01:33,  1.87it/s][19:56:10] SMILES Parse Error: extra close parentheses while parsing: Cc1ccccnc1)N(C(=O)C(=O)N[C@@H](c1cccccc1)n1cccc(n1)c1nccccccc2c1C(F)=O1)NC1(CS(C)(=O)=O)=NN(C(=O)c1cc\n",
      "[19:56:10] SMILES Parse Error: Failed parsing SMILES 'Cc1ccccnc1)N(C(=O)C(=O)N[C@@H](c1cccccc1)n1cccc(n1)c1nccccccc2c1C(F)=O1)NC1(CS(C)(=O)=O)=NN(C(=O)c1cc' for input: 'Cc1ccccnc1)N(C(=O)C(=O)N[C@@H](c1cccccc1)n1cccc(n1)c1nccccccc2c1C(F)=O1)NC1(CS(C)(=O)=O)=NN(C(=O)c1cc'\n",
      " 83%|█████████████████████████████████       | 826/1000 [08:43<01:34,  1.84it/s][19:56:11] SMILES Parse Error: extra close parentheses while parsing: C2=NC(=O)/C(=O)c1cccncOc1ccc(C(=O)O)ccc2nccnc(c)cc1)nccn1C)C(=O)C1S(=O)(=O)C(=O)c1cccc(F)ccc1)n1cccnc\n",
      "[19:56:11] SMILES Parse Error: Failed parsing SMILES 'C2=NC(=O)/C(=O)c1cccncOc1ccc(C(=O)O)ccc2nccnc(c)cc1)nccn1C)C(=O)C1S(=O)(=O)C(=O)c1cccc(F)ccc1)n1cccnc' for input: 'C2=NC(=O)/C(=O)c1cccncOc1ccc(C(=O)O)ccc2nccnc(c)cc1)nccn1C)C(=O)C1S(=O)(=O)C(=O)c1cccc(F)ccc1)n1cccnc'\n",
      " 83%|█████████████████████████████████       | 827/1000 [08:44<01:35,  1.82it/s][19:56:11] SMILES Parse Error: extra close parentheses while parsing: C(=O)CSC(C)(=O)=NN(C(=O)C1=C(CC1F)c1ccccnc1CCN[C@@H]2c1cccccc1)n1cccccc2cc(C)n1ccccc2c1Cccoc1)n1ccc(=\n",
      "[19:56:11] SMILES Parse Error: Failed parsing SMILES 'C(=O)CSC(C)(=O)=NN(C(=O)C1=C(CC1F)c1ccccnc1CCN[C@@H]2c1cccccc1)n1cccccc2cc(C)n1ccccc2c1Cccoc1)n1ccc(=' for input: 'C(=O)CSC(C)(=O)=NN(C(=O)C1=C(CC1F)c1ccccnc1CCN[C@@H]2c1cccccc1)n1cccccc2cc(C)n1ccccc2c1Cccoc1)n1ccc(='\n",
      " 83%|█████████████████████████████████       | 828/1000 [08:44<01:33,  1.85it/s][19:56:12] SMILES Parse Error: extra open parentheses for input: 'COC=1/C(=C(o)C(=O)C1=C(C1(=O)C(C)C1=NC(=O)c1ccccc1C\n",
      "CCS(=O)(C)CCN=[C@H]1c1cccccO1)c1ccc(Br)cccc1nnH]c'\n",
      " 83%|█████████████████████████████████▏      | 830/1000 [08:46<01:30,  1.87it/s][19:56:13] SMILES Parse Error: extra close parentheses while parsing: C1CCc2nccn2C)n1Cc1ccccn1)c1ccccc(Br)cc1)N2\n",
      "CC(CCC(=O)N[C@@H]2C(c1ccccc(F)c[nH]n1)C(=O)C1COc2ccccn1C)n\n",
      "[19:56:13] SMILES Parse Error: Failed parsing SMILES 'C1CCc2nccn2C)n1Cc1ccccn1)c1ccccc(Br)cc1)N2\n",
      "CC(CCC(=O)N[C@@H]2C(c1ccccc(F)c[nH]n1)C(=O)C1COc2ccccn1C)n' for input: 'C1CCc2nccn2C)n1Cc1ccccn1)c1ccccc(Br)cc1)N2\n",
      "CC(CCC(=O)N[C@@H]2C(c1ccccc(F)c[nH]n1)C(=O)C1COc2ccccn1C)n'\n",
      " 83%|█████████████████████████████████▏      | 831/1000 [08:46<01:32,  1.83it/s][19:56:13] SMILES Parse Error: extra close parentheses while parsing: Cl)cc1\n",
      "CC1=NN(C(=O)C(C)(=O)C(=O)C2=O\n",
      "CC1=C(C(=C/c3ccco1C)nc1cccccc2c(nic1)c1ccsc(=O)nc1)c1ccc(Br)cncc\n",
      "[19:56:13] SMILES Parse Error: Failed parsing SMILES 'Cl)cc1\n",
      "CC1=NN(C(=O)C(C)(=O)C(=O)C2=O\n",
      "CC1=C(C(=C/c3ccco1C)nc1cccccc2c(nic1)c1ccsc(=O)nc1)c1ccc(Br)cncc' for input: 'Cl)cc1\n",
      "CC1=NN(C(=O)C(C)(=O)C(=O)C2=O\n",
      "CC1=C(C(=C/c3ccco1C)nc1cccccc2c(nic1)c1ccsc(=O)nc1)c1ccc(Br)cncc'\n",
      " 83%|█████████████████████████████████▎      | 833/1000 [08:47<01:31,  1.83it/s][19:56:14] SMILES Parse Error: extra close parentheses while parsing: C(=S)N1=C(c2cc(F)ccc3F)Cc2csc(Br)nc2)(S1\n",
      "CCc1ccc(-c2ccn(-c3ccco2)n1)1c1ccc(O)ncc(o)c1)n1nccnc(C)c1ccc\n",
      "[19:56:14] SMILES Parse Error: Failed parsing SMILES 'C(=S)N1=C(c2cc(F)ccc3F)Cc2csc(Br)nc2)(S1\n",
      "CCc1ccc(-c2ccn(-c3ccco2)n1)1c1ccc(O)ncc(o)c1)n1nccnc(C)c1ccc' for input: 'C(=S)N1=C(c2cc(F)ccc3F)Cc2csc(Br)nc2)(S1\n",
      "CCc1ccc(-c2ccn(-c3ccco2)n1)1c1ccc(O)ncc(o)c1)n1nccnc(C)c1ccc'\n",
      " 83%|█████████████████████████████████▎      | 834/1000 [08:48<01:26,  1.91it/s][19:56:15] SMILES Parse Error: extra close parentheses while parsing: CCc1ccc(C(=O)O)cc1)N2C1=C(C(=O)NC1c1cccccn1)CC1ccccc(c1)c1cccncc1)nc1C1(C)CCc1cnccc(F)c1\n",
      "CCC(c1cccccc\n",
      "[19:56:15] SMILES Parse Error: Failed parsing SMILES 'CCc1ccc(C(=O)O)cc1)N2C1=C(C(=O)NC1c1cccccn1)CC1ccccc(c1)c1cccncc1)nc1C1(C)CCc1cnccc(F)c1\n",
      "CCC(c1cccccc' for input: 'CCc1ccc(C(=O)O)cc1)N2C1=C(C(=O)NC1c1cccccn1)CC1ccccc(c1)c1cccncc1)nc1C1(C)CCc1cnccc(F)c1\n",
      "CCC(c1cccccc'\n",
      " 84%|█████████████████████████████████▍      | 835/1000 [08:48<01:29,  1.85it/s][19:56:15] SMILES Parse Error: extra close parentheses while parsing: C(F)=F)F)N1\n",
      "CCC(c1ccccc(O)n1)c1ccccccc1)n1ccccc(c2)n2ccccc1)nc(=O)n1ccccc2c1ccccc(n)c1)c1cccccc(H()(O\n",
      "[19:56:15] SMILES Parse Error: Failed parsing SMILES 'C(F)=F)F)N1\n",
      "CCC(c1ccccc(O)n1)c1ccccccc1)n1ccccc(c2)n2ccccc1)nc(=O)n1ccccc2c1ccccc(n)c1)c1cccccc(H()(O' for input: 'C(F)=F)F)N1\n",
      "CCC(c1ccccc(O)n1)c1ccccccc1)n1ccccc(c2)n2ccccc1)nc(=O)n1ccccc2c1ccccc(n)c1)c1cccccc(H()(O'\n",
      " 84%|█████████████████████████████████▍      | 836/1000 [08:49<01:25,  1.91it/s][19:56:16] SMILES Parse Error: extra close parentheses while parsing: C1)c1ccccccc(-c3cccon)n2)nn1ncnc(N2CC(OC(C)COc3cccc(O)cc3)n1Cc1cc(C)non1)c1ccccnc2ccsccc2c1CCC(OC)(c2\n",
      "[19:56:16] SMILES Parse Error: Failed parsing SMILES 'C1)c1ccccccc(-c3cccon)n2)nn1ncnc(N2CC(OC(C)COc3cccc(O)cc3)n1Cc1cc(C)non1)c1ccccnc2ccsccc2c1CCC(OC)(c2' for input: 'C1)c1ccccccc(-c3cccon)n2)nn1ncnc(N2CC(OC(C)COc3cccc(O)cc3)n1Cc1cc(C)non1)c1ccccnc2ccsccc2c1CCC(OC)(c2'\n",
      " 84%|█████████████████████████████████▍      | 837/1000 [08:49<01:28,  1.85it/s][19:56:17] SMILES Parse Error: extra close parentheses while parsing: C2=C(C)Cc1ccncc2n1Cc1cccc(O)nc1)c1nccc(c2csccc(N)cc2c(=O)n1Cc1ccccc(F)c1)S(=)(=O)=O\n",
      "CCC(c1c(F)ncc2ccc\n",
      "[19:56:17] SMILES Parse Error: Failed parsing SMILES 'C2=C(C)Cc1ccncc2n1Cc1cccc(O)nc1)c1nccc(c2csccc(N)cc2c(=O)n1Cc1ccccc(F)c1)S(=)(=O)=O\n",
      "CCC(c1c(F)ncc2ccc' for input: 'C2=C(C)Cc1ccncc2n1Cc1cccc(O)nc1)c1nccc(c2csccc(N)cc2c(=O)n1Cc1ccccc(F)c1)S(=)(=O)=O\n",
      "CCC(c1c(F)ncc2ccc'\n",
      " 84%|█████████████████████████████████▌      | 838/1000 [08:50<01:24,  1.92it/s][19:56:17] SMILES Parse Error: syntax error while parsing: C1c[nH]cHc1cccc(O)nc1)N(CC(C)=O)c1cccccccn1)c1cccccc(nc()CCn1ccccc2c1CC(F)(C(=O)O)Cc1ccc(C(=O)O)cc1)c\n",
      "[19:56:17] SMILES Parse Error: Failed parsing SMILES 'C1c[nH]cHc1cccc(O)nc1)N(CC(C)=O)c1cccccccn1)c1cccccc(nc()CCn1ccccc2c1CC(F)(C(=O)O)Cc1ccc(C(=O)O)cc1)c' for input: 'C1c[nH]cHc1cccc(O)nc1)N(CC(C)=O)c1cccccccn1)c1cccccc(nc()CCn1ccccc2c1CC(F)(C(=O)O)Cc1ccc(C(=O)O)cc1)c'\n",
      " 84%|█████████████████████████████████▌      | 839/1000 [08:50<01:27,  1.85it/s][19:56:18] SMILES Parse Error: extra close parentheses while parsing: COC)C(=O)C1CCN(CCCN2c2scc(C)cc(o)sc2c(c)ccsc1n1ccccccnc1)ncc(c(c2)(=O)c1ccccccc2cccn(C)n1)c1ccccc(S(N\n",
      "[19:56:18] SMILES Parse Error: Failed parsing SMILES 'COC)C(=O)C1CCN(CCCN2c2scc(C)cc(o)sc2c(c)ccsc1n1ccccccnc1)ncc(c(c2)(=O)c1ccccccc2cccn(C)n1)c1ccccc(S(N' for input: 'COC)C(=O)C1CCN(CCCN2c2scc(C)cc(o)sc2c(c)ccsc1n1ccccccnc1)ncc(c(c2)(=O)c1ccccccc2cccn(C)n1)c1ccccc(S(N'\n",
      " 84%|█████████████████████████████████▌      | 840/1000 [08:51<01:22,  1.94it/s][19:56:18] SMILES Parse Error: extra close parentheses while parsing: Cs([nH]c3cc(Br)ncc(Br)c2cc(Br)ccnc2ncNcccc2c(=O)n3Cc4ccccc3OC)oo2)n2c(ncsc(C)(c2)nc4cc[nH]c4)nc2ccnc(\n",
      "[19:56:18] SMILES Parse Error: Failed parsing SMILES 'Cs([nH]c3cc(Br)ncc(Br)c2cc(Br)ccnc2ncNcccc2c(=O)n3Cc4ccccc3OC)oo2)n2c(ncsc(C)(c2)nc4cc[nH]c4)nc2ccnc(' for input: 'Cs([nH]c3cc(Br)ncc(Br)c2cc(Br)ccnc2ncNcccc2c(=O)n3Cc4ccccc3OC)oo2)n2c(ncsc(C)(c2)nc4cc[nH]c4)nc2ccnc('\n",
      " 84%|█████████████████████████████████▋      | 841/1000 [08:51<01:28,  1.81it/s][19:56:19] SMILES Parse Error: extra close parentheses while parsing: C(=O)C1=O)[nH]1ccccnc1)(c1nccccc2)S(=O)(=O)CC1)c1nccsc1C)n1ccc(O)ccc3c2cccsc1)n1cc(c)ccc1)n1ccccc(O)=\n",
      "[19:56:19] SMILES Parse Error: Failed parsing SMILES 'C(=O)C1=O)[nH]1ccccnc1)(c1nccccc2)S(=O)(=O)CC1)c1nccsc1C)n1ccc(O)ccc3c2cccsc1)n1cc(c)ccc1)n1ccccc(O)=' for input: 'C(=O)C1=O)[nH]1ccccnc1)(c1nccccc2)S(=O)(=O)CC1)c1nccsc1C)n1ccc(O)ccc3c2cccsc1)n1cc(c)ccc1)n1ccccc(O)='\n",
      " 84%|█████████████████████████████████▋      | 842/1000 [08:52<01:27,  1.80it/s][19:56:19] SMILES Parse Error: extra close parentheses while parsing: C/c3ccncc3)S2)S1)[nH]nc(O)n1ccc(=O)ncHHc1)c1ccccc(O)(=Oc)cc1)s1nccncc(C)c1nc2ccsc2c(=O)C1c1cccccn1)c1\n",
      "[19:56:19] SMILES Parse Error: Failed parsing SMILES 'C/c3ccncc3)S2)S1)[nH]nc(O)n1ccc(=O)ncHHc1)c1ccccc(O)(=Oc)cc1)s1nccncc(C)c1nc2ccsc2c(=O)C1c1cccccn1)c1' for input: 'C/c3ccncc3)S2)S1)[nH]nc(O)n1ccc(=O)ncHHc1)c1ccccc(O)(=Oc)cc1)s1nccncc(C)c1nc2ccsc2c(=O)C1c1cccccn1)c1'\n",
      " 84%|█████████████████████████████████▋      | 843/1000 [08:53<01:28,  1.78it/s][19:56:20] SMILES Parse Error: extra close parentheses while parsing: CN)C(=O)C1CCc1ccccc(F)n1)c1cccccc1)c1cccccc2c1cc(O)nc(Br)ccc2c1sccc(F)(c1)noc1)C1Cc1cccccc(O)c1)c1ccc\n",
      "[19:56:20] SMILES Parse Error: Failed parsing SMILES 'CN)C(=O)C1CCc1ccccc(F)n1)c1cccccc1)c1cccccc2c1cc(O)nc(Br)ccc2c1sccc(F)(c1)noc1)C1Cc1cccccc(O)c1)c1ccc' for input: 'CN)C(=O)C1CCc1ccccc(F)n1)c1cccccc1)c1cccccc2c1cc(O)nc(Br)ccc2c1sccc(F)(c1)noc1)C1Cc1cccccc(O)c1)c1ccc'\n",
      " 84%|█████████████████████████████████▊      | 844/1000 [08:53<01:23,  1.86it/s][19:56:21] SMILES Parse Error: extra close parentheses while parsing: CNN1C(=O)C(c1cccccnc1)c1cccccc1)(F)(F)=c1ccccnn1)c1nccncc2)ncc(-c3cccc[n3c4ccccc34)n1)[nH]n1ccc(OC(F)\n",
      "[19:56:21] SMILES Parse Error: Failed parsing SMILES 'CNN1C(=O)C(c1cccccnc1)c1cccccc1)(F)(F)=c1ccccnn1)c1nccncc2)ncc(-c3cccc[n3c4ccccc34)n1)[nH]n1ccc(OC(F)' for input: 'CNN1C(=O)C(c1cccccnc1)c1cccccc1)(F)(F)=c1ccccnn1)c1nccncc2)ncc(-c3cccc[n3c4ccccc34)n1)[nH]n1ccc(OC(F)'\n",
      " 84%|█████████████████████████████████▊      | 845/1000 [08:54<01:29,  1.74it/s][19:56:21] SMILES Parse Error: extra close parentheses while parsing: C[C@H]2[C@@]1(CNCCO[C@@H]1)c1cccccc1)nnc1)C(=O)CC1c1ccccc(O)cc1)c1ccccc(F)(F)cc1)C1CC1c1ccccc(O)n(c1c\n",
      "[19:56:21] SMILES Parse Error: Failed parsing SMILES 'C[C@H]2[C@@]1(CNCCO[C@@H]1)c1cccccc1)nnc1)C(=O)CC1c1ccccc(O)cc1)c1ccccc(F)(F)cc1)C1CC1c1ccccc(O)n(c1c' for input: 'C[C@H]2[C@@]1(CNCCO[C@@H]1)c1cccccc1)nnc1)C(=O)CC1c1ccccc(O)cc1)c1ccccc(F)(F)cc1)C1CC1c1ccccc(O)n(c1c'\n",
      " 85%|█████████████████████████████████▊      | 846/1000 [08:54<01:24,  1.83it/s][19:56:21] SMILES Parse Error: extra close parentheses while parsing: CCC(c3c(O)nccns3)c1cccccO)c(O)c1C=O\n",
      "CCC(c1cc\\cccnc)n2)C1)C(=O)NC1c1ccccc1c1cccc(O)cccic1)n1c[nH]cc1)C\n",
      "[19:56:21] SMILES Parse Error: Failed parsing SMILES 'CCC(c3c(O)nccns3)c1cccccO)c(O)c1C=O\n",
      "CCC(c1cc\\cccnc)n2)C1)C(=O)NC1c1ccccc1c1cccc(O)cccic1)n1c[nH]cc1)C' for input: 'CCC(c3c(O)nccns3)c1cccccO)c(O)c1C=O\n",
      "CCC(c1cc\\cccnc)n2)C1)C(=O)NC1c1ccccc1c1cccc(O)cccic1)n1c[nH]cc1)C'\n",
      " 85%|█████████████████████████████████▉      | 847/1000 [08:55<01:19,  1.92it/s][19:56:22] SMILES Parse Error: extra close parentheses while parsing: CCN(C)CC1=C(Cc1ccc(F(F)(F)cF)nc1)[nH]1#c1ccccc1)n1cccccc1ncccc1)nnc1)c1ccccc(C)(SC)c1nncnc(O)(=O)c1cc\n",
      "[19:56:22] SMILES Parse Error: Failed parsing SMILES 'CCN(C)CC1=C(Cc1ccc(F(F)(F)cF)nc1)[nH]1#c1ccccc1)n1cccccc1ncccc1)nnc1)c1ccccc(C)(SC)c1nncnc(O)(=O)c1cc' for input: 'CCN(C)CC1=C(Cc1ccc(F(F)(F)cF)nc1)[nH]1#c1ccccc1)n1cccccc1ncccc1)nnc1)c1ccccc(C)(SC)c1nncnc(O)(=O)c1cc'\n",
      " 85%|█████████████████████████████████▉      | 848/1000 [08:55<01:21,  1.86it/s][19:56:22] SMILES Parse Error: syntax error while parsing: C[C@H](\n",
      "CC1=C(C(=OBN)C1Cc3c(ccc(Br)(c)cc3ccn(O)cc3)c(C)no1)S(=O)(=O)C1=C(C)COC(=O)C1c1ccccc(F)c1)NC(=\n",
      "[19:56:22] SMILES Parse Error: Failed parsing SMILES 'C[C@H](\n",
      "CC1=C(C(=OBN)C1Cc3c(ccc(Br)(c)cc3ccn(O)cc3)c(C)no1)S(=O)(=O)C1=C(C)COC(=O)C1c1ccccc(F)c1)NC(=' for input: 'C[C@H](\n",
      "CC1=C(C(=OBN)C1Cc3c(ccc(Br)(c)cc3ccn(O)cc3)c(C)no1)S(=O)(=O)C1=C(C)COC(=O)C1c1ccccc(F)c1)NC(='\n",
      " 85%|█████████████████████████████████▉      | 849/1000 [08:56<01:17,  1.95it/s][19:56:23] SMILES Parse Error: extra close parentheses while parsing: C)SC1c1ccccnc1)n1ccncccccc1)c1cccc(F)ccc1)c1ncccncn1)n1cccccc1c1cccc(F)cc1)(=O)c1cccnccc1C)c1ncccnc(C\n",
      "[19:56:23] SMILES Parse Error: Failed parsing SMILES 'C)SC1c1ccccnc1)n1ccncccccc1)c1cccc(F)ccc1)c1ncccncn1)n1cccccc1c1cccc(F)cc1)(=O)c1cccnccc1C)c1ncccnc(C' for input: 'C)SC1c1ccccnc1)n1ccncccccc1)c1cccc(F)ccc1)c1ncccncn1)n1cccccc1c1cccc(F)cc1)(=O)c1cccnccc1C)c1ncccnc(C'\n",
      " 85%|██████████████████████████████████      | 850/1000 [08:56<01:18,  1.92it/s][19:56:24] SMILES Parse Error: extra close parentheses while parsing: C=C(o)C(F)(F)C1)1CN(C(C)=O)C1=C(C)CCc1ccccn1)n1ccc(ncccc2c(cr)cccc(Br)(c1)ccc(F)ccc1)c1cccccc2c1CCCO(\n",
      "[19:56:24] SMILES Parse Error: Failed parsing SMILES 'C=C(o)C(F)(F)C1)1CN(C(C)=O)C1=C(C)CCc1ccccn1)n1ccc(ncccc2c(cr)cccc(Br)(c1)ccc(F)ccc1)c1cccccc2c1CCCO(' for input: 'C=C(o)C(F)(F)C1)1CN(C(C)=O)C1=C(C)CCc1ccccn1)n1ccc(ncccc2c(cr)cccc(Br)(c1)ccc(F)ccc1)c1cccccc2c1CCCO('\n",
      " 85%|██████████████████████████████████      | 851/1000 [08:57<01:19,  1.87it/s][19:56:24] SMILES Parse Error: extra close parentheses while parsing: CC)c1ccccc1nn(n2ccnc(-c3ccc(Br)cc4cc3scccc2nccnnnc3c\n",
      "n1cccccn1)C(=O)C(C)(C)C)C(=O)C1(COc1ccccc(F)cc1)\n",
      "[19:56:24] SMILES Parse Error: Failed parsing SMILES 'CC)c1ccccc1nn(n2ccnc(-c3ccc(Br)cc4cc3scccc2nccnnnc3c\n",
      "n1cccccn1)C(=O)C(C)(C)C)C(=O)C1(COc1ccccc(F)cc1)' for input: 'CC)c1ccccc1nn(n2ccnc(-c3ccc(Br)cc4cc3scccc2nccnnnc3c\n",
      "n1cccccn1)C(=O)C(C)(C)C)C(=O)C1(COc1ccccc(F)cc1)'\n",
      " 85%|██████████████████████████████████      | 852/1000 [08:57<01:16,  1.93it/s][19:56:25] SMILES Parse Error: extra close parentheses while parsing: Cl)c1ccncc(F)cc1\n",
      "CCC(=O)c1ccc2nccnc(C)c1)n1ccc(c(=O)c2ncn(C)n2)c1cccs(C)c1nccccn2c(=O)n1ccccc(c2)ncnc\n",
      "[19:56:25] SMILES Parse Error: Failed parsing SMILES 'Cl)c1ccncc(F)cc1\n",
      "CCC(=O)c1ccc2nccnc(C)c1)n1ccc(c(=O)c2ncn(C)n2)c1cccs(C)c1nccccn2c(=O)n1ccccc(c2)ncnc' for input: 'Cl)c1ccncc(F)cc1\n",
      "CCC(=O)c1ccc2nccnc(C)c1)n1ccc(c(=O)c2ncn(C)n2)c1cccs(C)c1nccccn2c(=O)n1ccccc(c2)ncnc'\n",
      " 85%|██████████████████████████████████      | 853/1000 [08:58<01:17,  1.89it/s][19:56:25] SMILES Parse Error: extra close parentheses while parsing: C(C)=NOc3cc(Brccc(S(F)(F)cc3S)NC(=S)N)C1c1ccccccc1)c1cccc(Brc(ncccc(S(C)(c2]c1cccccc(O)cc2n=c(nccnc(c\n",
      "[19:56:25] SMILES Parse Error: Failed parsing SMILES 'C(C)=NOc3cc(Brccc(S(F)(F)cc3S)NC(=S)N)C1c1ccccccc1)c1cccc(Brc(ncccc(S(C)(c2]c1cccccc(O)cc2n=c(nccnc(c' for input: 'C(C)=NOc3cc(Brccc(S(F)(F)cc3S)NC(=S)N)C1c1ccccccc1)c1cccc(Brc(ncccc(S(C)(c2]c1cccccc(O)cc2n=c(nccnc(c'\n",
      " 85%|██████████████████████████████████▏     | 854/1000 [08:58<01:19,  1.84it/s][19:56:26] SMILES Parse Error: syntax error while parsing: C1=N+](=O)[O-])n1cnccc2nncn1c1(CC(F)(F)F)C(c1ccccc1)(O)C(=O)C(C)(C)C\n",
      "CCC(c1ccc(F)ccc1)C1CCNC=C(=O)C2c\n",
      "[19:56:26] SMILES Parse Error: Failed parsing SMILES 'C1=N+](=O)[O-])n1cnccc2nncn1c1(CC(F)(F)F)C(c1ccccc1)(O)C(=O)C(C)(C)C\n",
      "CCC(c1ccc(F)ccc1)C1CCNC=C(=O)C2c' for input: 'C1=N+](=O)[O-])n1cnccc2nncn1c1(CC(F)(F)F)C(c1ccccc1)(O)C(=O)C(C)(C)C\n",
      "CCC(c1ccc(F)ccc1)C1CCNC=C(=O)C2c'\n",
      " 86%|██████████████████████████████████▏     | 855/1000 [08:59<01:20,  1.79it/s][19:56:26] SMILES Parse Error: extra close parentheses while parsing: CN)C(=O)C(=O)/C(=O)c1sccnc2n1ccc(c(F)cc1)cnccc1)c1cccc(F)cc1n(S)nc2ccnc(sS)nc2onc(n2)c1cccc(F)ccc1CC)\n",
      "[19:56:26] SMILES Parse Error: Failed parsing SMILES 'CN)C(=O)C(=O)/C(=O)c1sccnc2n1ccc(c(F)cc1)cnccc1)c1cccc(F)cc1n(S)nc2ccnc(sS)nc2onc(n2)c1cccc(F)ccc1CC)' for input: 'CN)C(=O)C(=O)/C(=O)c1sccnc2n1ccc(c(F)cc1)cnccc1)c1cccc(F)cc1n(S)nc2ccnc(sS)nc2onc(n2)c1cccc(F)ccc1CC)'\n",
      " 86%|██████████████████████████████████▏     | 856/1000 [09:00<01:22,  1.75it/s][19:56:27] SMILES Parse Error: extra close parentheses while parsing: CC(=O)(c1ccccnn1)c1ccccc(F)cc1)[nH]n1)c1cccncc(O)(c2cccccc1)nc1cccccccc1)N(=O)C\n",
      "CC(=O)N1Cc2c(ccc(C(C)\n",
      "[19:56:27] SMILES Parse Error: Failed parsing SMILES 'CC(=O)(c1ccccnn1)c1ccccc(F)cc1)[nH]n1)c1cccncc(O)(c2cccccc1)nc1cccccccc1)N(=O)C\n",
      "CC(=O)N1Cc2c(ccc(C(C)' for input: 'CC(=O)(c1ccccnn1)c1ccccc(F)cc1)[nH]n1)c1cccncc(O)(c2cccccc1)nc1cccccccc1)N(=O)C\n",
      "CC(=O)N1Cc2c(ccc(C(C)'\n",
      " 86%|██████████████████████████████████▎     | 857/1000 [09:00<01:17,  1.85it/s][19:56:27] SMILES Parse Error: extra close parentheses while parsing: CO1)c1c1ccccc(F)cc1)c1ccccn2c1cccc(O)(c)ccc1)nn1)[C@H](F)c1cccccc1)1c1cccccn1)c1nccnccc2c(=O)O)nc1c(c\n",
      "[19:56:27] SMILES Parse Error: Failed parsing SMILES 'CO1)c1c1ccccc(F)cc1)c1ccccn2c1cccc(O)(c)ccc1)nn1)[C@H](F)c1cccccc1)1c1cccccn1)c1nccnccc2c(=O)O)nc1c(c' for input: 'CO1)c1c1ccccc(F)cc1)c1ccccn2c1cccc(O)(c)ccc1)nn1)[C@H](F)c1cccccc1)1c1cccccn1)c1nccnccc2c(=O)O)nc1c(c'\n",
      " 86%|██████████████████████████████████▎     | 858/1000 [09:01<01:19,  1.79it/s][19:56:28] SMILES Parse Error: syntax error while parsing: Cn@H]c1ccc(C(=O)O)ccc1nHnnc1)c1cccc(Br)c1)(c1cccccccc)cc1)n1ccc(Br)ccc(F)(F)(F)c1)[nH]c1ccc(Br)ccc1)N\n",
      "[19:56:28] SMILES Parse Error: Failed parsing SMILES 'Cn@H]c1ccc(C(=O)O)ccc1nHnnc1)c1cccc(Br)c1)(c1cccccccc)cc1)n1ccc(Br)ccc(F)(F)(F)c1)[nH]c1ccc(Br)ccc1)N' for input: 'Cn@H]c1ccc(C(=O)O)ccc1nHnnc1)c1cccc(Br)c1)(c1cccccccc)cc1)n1ccc(Br)ccc(F)(F)(F)c1)[nH]c1ccc(Br)ccc1)N'\n",
      " 86%|██████████████████████████████████▎     | 859/1000 [09:01<01:14,  1.89it/s][19:56:28] SMILES Parse Error: extra close parentheses while parsing: CC2)c2cccccc12\n",
      "CC(=O)N1c1cccc(F)C(=O)c1ccnF\n",
      "CC(=O)c1cccncn1)c1ccc(Br)ccn1)C1c[nH]c1Nc1ccc(O)ncc1)c1cc\n",
      "[19:56:28] SMILES Parse Error: Failed parsing SMILES 'CC2)c2cccccc12\n",
      "CC(=O)N1c1cccc(F)C(=O)c1ccnF\n",
      "CC(=O)c1cccncn1)c1ccc(Br)ccn1)C1c[nH]c1Nc1ccc(O)ncc1)c1cc' for input: 'CC2)c2cccccc12\n",
      "CC(=O)N1c1cccc(F)C(=O)c1ccnF\n",
      "CC(=O)c1cccncn1)c1ccc(Br)ccn1)C1c[nH]c1Nc1ccc(O)ncc1)c1cc'\n",
      " 86%|██████████████████████████████████▍     | 860/1000 [09:02<01:14,  1.87it/s][19:56:29] SMILES Parse Error: extra close parentheses while parsing: Cn2cc(Br)ccc34)nn2)NC(=S)N1\n",
      "CCC1=C(C(c1ccc2O)CC1c1cccsc1)n(c1cccc(c)c1)C1CCOC2\n",
      "CCC(c1ccccc(S(NC((=)S(\n",
      "[19:56:29] SMILES Parse Error: Failed parsing SMILES 'Cn2cc(Br)ccc34)nn2)NC(=S)N1\n",
      "CCC1=C(C(c1ccc2O)CC1c1cccsc1)n(c1cccc(c)c1)C1CCOC2\n",
      "CCC(c1ccccc(S(NC((=)S(' for input: 'Cn2cc(Br)ccc34)nn2)NC(=S)N1\n",
      "CCC1=C(C(c1ccc2O)CC1c1cccsc1)n(c1cccc(c)c1)C1CCOC2\n",
      "CCC(c1ccccc(S(NC((=)S('\n",
      " 86%|██████████████████████████████████▍     | 861/1000 [09:02<01:11,  1.95it/s][19:56:30] SMILES Parse Error: unclosed ring for input: 'C2\n",
      "CCC(=O)C1=C(F)C(C@H]1[C@@H](c1ccccc(F)c1)OCO2\n",
      "CCC(=O)C1CN=[C@@H](C1c1ccccn1)c1Cc1ccccc1)(c1)S(=O)('\n",
      " 86%|██████████████████████████████████▍     | 862/1000 [09:03<01:12,  1.89it/s][19:56:30] SMILES Parse Error: syntax error while parsing: CC(=O)C1=O-H]nc(Nc2ccccc(O)nn2c(=O)noc2ccc(F)cc1)n1nccccc2c)c1ccccc1sncccc1O)c1nccnc(c)(4)no1)n1cccoc\n",
      "[19:56:30] SMILES Parse Error: Failed parsing SMILES 'CC(=O)C1=O-H]nc(Nc2ccccc(O)nn2c(=O)noc2ccc(F)cc1)n1nccccc2c)c1ccccc1sncccc1O)c1nccnc(c)(4)no1)n1cccoc' for input: 'CC(=O)C1=O-H]nc(Nc2ccccc(O)nn2c(=O)noc2ccc(F)cc1)n1nccccc2c)c1ccccc1sncccc1O)c1nccnc(c)(4)no1)n1cccoc'\n",
      " 86%|██████████████████████████████████▌     | 863/1000 [09:03<01:13,  1.86it/s][19:56:31] SMILES Parse Error: extra close parentheses while parsing: Cc3c(F)cccc3)C2)ccc1ncsc(C)no1)c1ccccc(O)(=O)n1)c1cccccc1c1cccc(=O)n1Cc1ccccc1)n1c(ccccc(cc2ccccc)cc1\n",
      "[19:56:31] SMILES Parse Error: Failed parsing SMILES 'Cc3c(F)cccc3)C2)ccc1ncsc(C)no1)c1ccccc(O)(=O)n1)c1cccccc1c1cccc(=O)n1Cc1ccccc1)n1c(ccccc(cc2ccccc)cc1' for input: 'Cc3c(F)cccc3)C2)ccc1ncsc(C)no1)c1ccccc(O)(=O)n1)c1cccccc1c1cccc(=O)n1Cc1ccccc1)n1c(ccccc(cc2ccccc)cc1'\n",
      " 86%|██████████████████████████████████▌     | 864/1000 [09:04<01:13,  1.85it/s][19:56:31] SMILES Parse Error: syntax error while parsing: C-)C[C@@H]1c1cccnc1)c1nc(n2cccnc3c(S(i)(=O)OC)ccnc2)c1Cc1cccc(F)cn1)\n",
      "CC(=O)C1(c1cccccn1)n1ccccc(C)n1C\n",
      "[19:56:31] SMILES Parse Error: Failed parsing SMILES 'C-)C[C@@H]1c1cccnc1)c1nc(n2cccnc3c(S(i)(=O)OC)ccnc2)c1Cc1cccc(F)cn1)\n",
      "CC(=O)C1(c1cccccn1)n1ccccc(C)n1C' for input: 'C-)C[C@@H]1c1cccnc1)c1nc(n2cccnc3c(S(i)(=O)OC)ccnc2)c1Cc1cccc(F)cn1)\n",
      "CC(=O)C1(c1cccccn1)n1ccccc(C)n1C'\n",
      " 86%|██████████████████████████████████▌     | 865/1000 [09:04<01:09,  1.94it/s][19:56:32] SMILES Parse Error: syntax error while parsing: C(=S)NC1=[N+]nH]n1Cc1ccccOC)n1Cc1cc(OC)(cccc(O)c1)n1nccnc(O)(c2cccccc2)cc1)=N(C[C)C)=C\n",
      "CCC(c1cccco1)n\n",
      "[19:56:32] SMILES Parse Error: Failed parsing SMILES 'C(=S)NC1=[N+]nH]n1Cc1ccccOC)n1Cc1cc(OC)(cccc(O)c1)n1nccnc(O)(c2cccccc2)cc1)=N(C[C)C)=C\n",
      "CCC(c1cccco1)n' for input: 'C(=S)NC1=[N+]nH]n1Cc1ccccOC)n1Cc1cc(OC)(cccc(O)c1)n1nccnc(O)(c2cccccc2)cc1)=N(C[C)C)=C\n",
      "CCC(c1cccco1)n'\n",
      " 87%|██████████████████████████████████▋     | 866/1000 [09:05<01:11,  1.88it/s][19:56:32] SMILES Parse Error: extra close parentheses while parsing: CC(=O)C(=O)C2=C(C(=O)/C(=O)/C(=O)C1OC1CCSC(Br)=O)n1)c1ccc(Br)ccc(Br)cc1)C1Cc1ccccc(O)nc1)(=O)Cc1ccccc\n",
      "[19:56:32] SMILES Parse Error: Failed parsing SMILES 'CC(=O)C(=O)C2=C(C(=O)/C(=O)/C(=O)C1OC1CCSC(Br)=O)n1)c1ccc(Br)ccc(Br)cc1)C1Cc1ccccc(O)nc1)(=O)Cc1ccccc' for input: 'CC(=O)C(=O)C2=C(C(=O)/C(=O)/C(=O)C1OC1CCSC(Br)=O)n1)c1ccc(Br)ccc(Br)cc1)C1Cc1ccccc(O)nc1)(=O)Cc1ccccc'\n",
      " 87%|██████████████████████████████████▋     | 867/1000 [09:05<01:09,  1.92it/s][19:56:33] SMILES Parse Error: extra close parentheses while parsing: Cc1ccccc1)N(C[C@@]1(CO)CC\n",
      "CCC(c1cc2nccc(O)nc2s1)C(=O)[C@@H]1CCc2sc2c(nccccc2c(=O)C1)c1ccccc(O)nc1c1cc\n",
      "[19:56:33] SMILES Parse Error: Failed parsing SMILES 'Cc1ccccc1)N(C[C@@]1(CO)CC\n",
      "CCC(c1cc2nccc(O)nc2s1)C(=O)[C@@H]1CCc2sc2c(nccccc2c(=O)C1)c1ccccc(O)nc1c1cc' for input: 'Cc1ccccc1)N(C[C@@]1(CO)CC\n",
      "CCC(c1cc2nccc(O)nc2s1)C(=O)[C@@H]1CCc2sc2c(nccccc2c(=O)C1)c1ccccc(O)nc1c1cc'\n",
      " 87%|██████████████████████████████████▋     | 868/1000 [09:06<01:16,  1.72it/s][19:56:33] SMILES Parse Error: extra close parentheses while parsing: C/c3cccs3)S2)S1\n",
      "CCC(c1C)CC(=O)C2=C(C1)c1nc(-c2cc(F)cc(Br)cc2Br)CC1cccnc1)C1CNC(=O)C1c1ccccc\n",
      "n1)c1cccc\n",
      "[19:56:33] SMILES Parse Error: Failed parsing SMILES 'C/c3cccs3)S2)S1\n",
      "CCC(c1C)CC(=O)C2=C(C1)c1nc(-c2cc(F)cc(Br)cc2Br)CC1cccnc1)C1CNC(=O)C1c1ccccc\n",
      "n1)c1cccc' for input: 'C/c3cccs3)S2)S1\n",
      "CCC(c1C)CC(=O)C2=C(C1)c1nc(-c2cc(F)cc(Br)cc2Br)CC1cccnc1)C1CNC(=O)C1c1ccccc\n",
      "n1)c1cccc'\n",
      " 87%|██████████████████████████████████▊     | 869/1000 [09:07<01:18,  1.68it/s][19:56:34] SMILES Parse Error: extra open parentheses for input: 'C([C@H](O)C(=O)N1CC(NC(=O)C(C)C\n",
      "CC1=CCCN(C(C)[C@H]1O)C[C@H](F)CCc1cccc1\n",
      "CCC(C)(c1nccnc2c(C)nonc3c1)c2'\n",
      " 87%|██████████████████████████████████▊     | 870/1000 [09:07<01:13,  1.76it/s][19:56:35] SMILES Parse Error: extra close parentheses while parsing: C(=O)C(=O)C1=C(CNc1ccc(Br)ncc(n)c(=O)c1ccccccc1)n1cccccc2c(C)CS(=O)(=O)CC1)c1cccnccc1)n1cccc(c)c1nccc\n",
      "[19:56:35] SMILES Parse Error: Failed parsing SMILES 'C(=O)C(=O)C1=C(CNc1ccc(Br)ncc(n)c(=O)c1ccccccc1)n1cccccc2c(C)CS(=O)(=O)CC1)c1cccnccc1)n1cccc(c)c1nccc' for input: 'C(=O)C(=O)C1=C(CNc1ccc(Br)ncc(n)c(=O)c1ccccccc1)n1cccccc2c(C)CS(=O)(=O)CC1)c1cccnccc1)n1cccc(c)c1nccc'\n",
      " 87%|██████████████████████████████████▊     | 871/1000 [09:08<01:13,  1.75it/s][19:56:35] SMILES Parse Error: extra close parentheses while parsing: CC1)OC\n",
      "CC1=C(C(C)(C)C2=C(=O)C1=NN[C@H](c1ccncc(O)n1)c1cccccno1)n1ccccc4ccccc2c(=O)n1Cc1ccccc1)c1ncncc\n",
      "[19:56:35] SMILES Parse Error: Failed parsing SMILES 'CC1)OC\n",
      "CC1=C(C(C)(C)C2=C(=O)C1=NN[C@H](c1ccncc(O)n1)c1cccccno1)n1ccccc4ccccc2c(=O)n1Cc1ccccc1)c1ncncc' for input: 'CC1)OC\n",
      "CC1=C(C(C)(C)C2=C(=O)C1=NN[C@H](c1ccncc(O)n1)c1cccccno1)n1ccccc4ccccc2c(=O)n1Cc1ccccc1)c1ncncc'\n",
      " 87%|██████████████████████████████████▉     | 872/1000 [09:08<01:09,  1.84it/s][19:56:36] SMILES Parse Error: extra close parentheses while parsing: CS(C)(=O)NC1=C(CN(C)CC1c1cccccn1)[nH]1Cc1cccc(O)n1)c1cccccc1)(n1cccc()cc1(=O)OCn1cccc(F)nc1C)C(c1cccc\n",
      "[19:56:36] SMILES Parse Error: Failed parsing SMILES 'CS(C)(=O)NC1=C(CN(C)CC1c1cccccn1)[nH]1Cc1cccc(O)n1)c1cccccc1)(n1cccc()cc1(=O)OCn1cccc(F)nc1C)C(c1cccc' for input: 'CS(C)(=O)NC1=C(CN(C)CC1c1cccccn1)[nH]1Cc1cccc(O)n1)c1cccccc1)(n1cccc()cc1(=O)OCn1cccc(F)nc1C)C(c1cccc'\n",
      " 87%|██████████████████████████████████▉     | 873/1000 [09:09<01:11,  1.79it/s][19:56:36] SMILES Parse Error: syntax error while parsing: C@@]1(c1ccccc1)c1ccc(C(F)(F)F)ccc1(C)C1(c1scc(O)cc(N)o1\n",
      "CCN(CC)C(=O)C1=C(C)C(=O)c1ccccc(-c2cccc(F)(c1\n",
      "[19:56:36] SMILES Parse Error: Failed parsing SMILES 'C@@]1(c1ccccc1)c1ccc(C(F)(F)F)ccc1(C)C1(c1scc(O)cc(N)o1\n",
      "CCN(CC)C(=O)C1=C(C)C(=O)c1ccccc(-c2cccc(F)(c1' for input: 'C@@]1(c1ccccc1)c1ccc(C(F)(F)F)ccc1(C)C1(c1scc(O)cc(N)o1\n",
      "CCN(CC)C(=O)C1=C(C)C(=O)c1ccccc(-c2cccc(F)(c1'\n",
      " 87%|██████████████████████████████████▉     | 874/1000 [09:09<01:11,  1.76it/s][19:56:37] SMILES Parse Error: syntax error while parsing: C@3)c1c[nH]c2cccccc2c)c1\n",
      "CCC(c1cnc2cc(C(F)(F)F)cn1C)=C1nn[C2(/CCC(=3OC/c3cccc(C)n3(C)C)cns1)C1c1cccc(\n",
      "[19:56:37] SMILES Parse Error: Failed parsing SMILES 'C@3)c1c[nH]c2cccccc2c)c1\n",
      "CCC(c1cnc2cc(C(F)(F)F)cn1C)=C1nn[C2(/CCC(=3OC/c3cccc(C)n3(C)C)cns1)C1c1cccc(' for input: 'C@3)c1c[nH]c2cccccc2c)c1\n",
      "CCC(c1cnc2cc(C(F)(F)F)cn1C)=C1nn[C2(/CCC(=3OC/c3cccc(C)n3(C)C)cns1)C1c1cccc('\n",
      " 88%|███████████████████████████████████     | 875/1000 [09:10<01:06,  1.87it/s][19:56:37] SMILES Parse Error: extra close parentheses while parsing: C[C@@H]1c1cccccc1C)C(=O)n1ccccnc1C(CC)C[C@@]1(c1cccccc2)nc1)C(=O)OC)n1ccccc(F)(C)c1ccccsc1)c1ccccc(F)\n",
      "[19:56:37] SMILES Parse Error: Failed parsing SMILES 'C[C@@H]1c1cccccc1C)C(=O)n1ccccnc1C(CC)C[C@@]1(c1cccccc2)nc1)C(=O)OC)n1ccccc(F)(C)c1ccccsc1)c1ccccc(F)' for input: 'C[C@@H]1c1cccccc1C)C(=O)n1ccccnc1C(CC)C[C@@]1(c1cccccc2)nc1)C(=O)OC)n1ccccc(F)(C)c1ccccsc1)c1ccccc(F)'\n",
      " 88%|███████████████████████████████████     | 876/1000 [09:11<01:08,  1.81it/s][19:56:38] SMILES Parse Error: extra close parentheses while parsing: C(=S)Nc2nc(N)cnc2C(=O)CC1)c1ccccccc1CC)n1ccc(C)cnc()c1)c1ccccccc(n1)=c1ccncccc1)(c1cccccc(O)c1)n1Cc1c\n",
      "[19:56:38] SMILES Parse Error: Failed parsing SMILES 'C(=S)Nc2nc(N)cnc2C(=O)CC1)c1ccccccc1CC)n1ccc(C)cnc()c1)c1ccccccc(n1)=c1ccncccc1)(c1cccccc(O)c1)n1Cc1c' for input: 'C(=S)Nc2nc(N)cnc2C(=O)CC1)c1ccccccc1CC)n1ccc(C)cnc()c1)c1ccccccc(n1)=c1ccncccc1)(c1cccccc(O)c1)n1Cc1c'\n",
      " 88%|███████████████████████████████████     | 877/1000 [09:11<01:05,  1.89it/s][19:56:38] SMILES Parse Error: extra close parentheses while parsing: C)(c2ccscnc2)c1cccccc1)nc1cccccc2c1sccccn1)n1ccc[nH]1)c1ccc(Br)cc(F)c1)n1cccc(nH]1)c1cccccc1)(C)nn1)c\n",
      "[19:56:38] SMILES Parse Error: Failed parsing SMILES 'C)(c2ccscnc2)c1cccccc1)nc1cccccc2c1sccccn1)n1ccc[nH]1)c1ccc(Br)cc(F)c1)n1cccc(nH]1)c1cccccc1)(C)nn1)c' for input: 'C)(c2ccscnc2)c1cccccc1)nc1cccccc2c1sccccn1)n1ccc[nH]1)c1ccc(Br)cc(F)c1)n1cccc(nH]1)c1cccccc1)(C)nn1)c'\n",
      " 88%|███████████████████████████████████     | 878/1000 [09:12<01:06,  1.82it/s][19:56:39] SMILES Parse Error: extra close parentheses while parsing: C1Sn1ccc(Br)cc(=O)n1Cc1ccccc(F)c1)(=O)n1ccc(F)cc1)C[C@@]1(C[C@H]1Oc1ccccc1)C(=O)c1ccccnc1)(nc1cccncc1\n",
      "[19:56:39] SMILES Parse Error: Failed parsing SMILES 'C1Sn1ccc(Br)cc(=O)n1Cc1ccccc(F)c1)(=O)n1ccc(F)cc1)C[C@@]1(C[C@H]1Oc1ccccc1)C(=O)c1ccccnc1)(nc1cccncc1' for input: 'C1Sn1ccc(Br)cc(=O)n1Cc1ccccc(F)c1)(=O)n1ccc(F)cc1)C[C@@]1(C[C@H]1Oc1ccccc1)C(=O)c1ccccnc1)(nc1cccncc1'\n",
      " 88%|███████████████████████████████████▏    | 879/1000 [09:12<01:03,  1.90it/s][19:56:39] SMILES Parse Error: extra close parentheses while parsing: CC(F)(F)C=C1(c1ccccsc1)C(=O)CC1SCN(CCCO)C1)c1cccccc(F)(c1)ccccnc1)n1ncccccc2cccccc1)nc1ccccccc1nocccc\n",
      "[19:56:39] SMILES Parse Error: Failed parsing SMILES 'CC(F)(F)C=C1(c1ccccsc1)C(=O)CC1SCN(CCCO)C1)c1cccccc(F)(c1)ccccnc1)n1ncccccc2cccccc1)nc1ccccccc1nocccc' for input: 'CC(F)(F)C=C1(c1ccccsc1)C(=O)CC1SCN(CCCO)C1)c1cccccc(F)(c1)ccccnc1)n1ncccccc2cccccc1)nc1ccccccc1nocccc'\n",
      " 88%|███████████████████████████████████▏    | 880/1000 [09:13<01:05,  1.83it/s][19:56:40] SMILES Parse Error: extra close parentheses while parsing: Cc1ccc(NS(=O)(=O)/C(=O4CCOC2)c1[nH]nc1cccccc1)n1ccccc2ccccccc1)c1nccccn2)c1nccc(Br)ccc12\n",
      "CC(=C)C1(c2c\n",
      "[19:56:40] SMILES Parse Error: Failed parsing SMILES 'Cc1ccc(NS(=O)(=O)/C(=O4CCOC2)c1[nH]nc1cccccc1)n1ccccc2ccccccc1)c1nccccn2)c1nccc(Br)ccc12\n",
      "CC(=C)C1(c2c' for input: 'Cc1ccc(NS(=O)(=O)/C(=O4CCOC2)c1[nH]nc1cccccc1)n1ccccc2ccccccc1)c1nccccn2)c1nccc(Br)ccc12\n",
      "CC(=C)C1(c2c'\n",
      " 88%|███████████████████████████████████▏    | 881/1000 [09:13<01:04,  1.83it/s][19:56:41] SMILES Parse Error: extra close parentheses while parsing: C(=O)CC3c3ccc(OC(C)\\C(=O)O)(=O)ns2c1Cc(c3ccc(F)cc(C)(C)O)S)SC(=O)(=O)=N(C)(c3ccccc(O)ncc3)S2)S(=)(=O)\n",
      "[19:56:41] SMILES Parse Error: Failed parsing SMILES 'C(=O)CC3c3ccc(OC(C)\\C(=O)O)(=O)ns2c1Cc(c3ccc(F)cc(C)(C)O)S)SC(=O)(=O)=N(C)(c3ccccc(O)ncc3)S2)S(=)(=O)' for input: 'C(=O)CC3c3ccc(OC(C)\\C(=O)O)(=O)ns2c1Cc(c3ccc(F)cc(C)(C)O)S)SC(=O)(=O)=N(C)(c3ccccc(O)ncc3)S2)S(=)(=O)'\n",
      " 88%|███████████████████████████████████▎    | 882/1000 [09:14<01:08,  1.73it/s][19:56:41] SMILES Parse Error: unclosed ring for input: 'C(=O)C2\n",
      "CC(=O)C1=NN2c3cc(F)ccc3OC(=O)C2(c1ccccnc2)n2ccc(C)cc(F)cc1)n1ccccc(nc3cccon2)c1ccccc(n1)n1ccc'\n",
      " 88%|███████████████████████████████████▎    | 883/1000 [09:14<01:04,  1.83it/s][19:56:42] SMILES Parse Error: extra close parentheses while parsing: C(=O)C1CC1Cc1ccccc(O)n1c1cccnc(O)n1Cc1ccccn1)(c2ccccc(F)(c1)=n2ccccc2c(O)[nH]nc1nc)ccnc()c1)c1ccccc(O\n",
      "[19:56:42] SMILES Parse Error: Failed parsing SMILES 'C(=O)C1CC1Cc1ccccc(O)n1c1cccnc(O)n1Cc1ccccn1)(c2ccccc(F)(c1)=n2ccccc2c(O)[nH]nc1nc)ccnc()c1)c1ccccc(O' for input: 'C(=O)C1CC1Cc1ccccc(O)n1c1cccnc(O)n1Cc1ccccn1)(c2ccccc(F)(c1)=n2ccccc2c(O)[nH]nc1nc)ccnc()c1)c1ccccc(O'\n",
      " 88%|███████████████████████████████████▎    | 884/1000 [09:15<01:04,  1.80it/s][19:56:42] SMILES Parse Error: extra close parentheses while parsing: CO2)S1\n",
      "CC(=O)C1=NN(CO()C(=O)C(C)(=)C1(Nc1cccc(O)ccc1)c1cccccc(F)c1)c1ccccccc1)n1cccc(cH(c1)ncc1)c1ccc\n",
      "[19:56:42] SMILES Parse Error: Failed parsing SMILES 'CO2)S1\n",
      "CC(=O)C1=NN(CO()C(=O)C(C)(=)C1(Nc1cccc(O)ccc1)c1cccccc(F)c1)c1ccccccc1)n1cccc(cH(c1)ncc1)c1ccc' for input: 'CO2)S1\n",
      "CC(=O)C1=NN(CO()C(=O)C(C)(=)C1(Nc1cccc(O)ccc1)c1cccccc(F)c1)c1ccccccc1)n1cccc(cH(c1)ncc1)c1ccc'\n",
      " 88%|███████████████████████████████████▍    | 885/1000 [09:15<01:01,  1.86it/s][19:56:43] SMILES Parse Error: extra close parentheses while parsing: C)(c2ncoc3cc[nH]c3)c21\n",
      "CCC(c1cccccs1)=N2c2cccHnc(F)(c1)c1ccccc(O)nc1)c1cccccc(O)n1c1cccc(Br)ccc(F)c1)\n",
      "[19:56:43] SMILES Parse Error: Failed parsing SMILES 'C)(c2ncoc3cc[nH]c3)c21\n",
      "CCC(c1cccccs1)=N2c2cccHnc(F)(c1)c1ccccc(O)nc1)c1cccccc(O)n1c1cccc(Br)ccc(F)c1)' for input: 'C)(c2ncoc3cc[nH]c3)c21\n",
      "CCC(c1cccccs1)=N2c2cccHnc(F)(c1)c1ccccc(O)nc1)c1cccccc(O)n1c1cccc(Br)ccc(F)c1)'\n",
      " 89%|███████████████████████████████████▍    | 886/1000 [09:16<01:03,  1.80it/s][19:56:43] SMILES Parse Error: extra close parentheses while parsing: C2=O)S1\n",
      "CC(=O)N1CCc2c(C(S)CC[C@@H]12CCOc3cccsc21\n",
      "CC(=C1)C(=O)C1Cc1cccc(F)cc1)CCn2cccnc2)n1ccc(nccc1)c\n",
      "[19:56:43] SMILES Parse Error: Failed parsing SMILES 'C2=O)S1\n",
      "CC(=O)N1CCc2c(C(S)CC[C@@H]12CCOc3cccsc21\n",
      "CC(=C1)C(=O)C1Cc1cccc(F)cc1)CCn2cccnc2)n1ccc(nccc1)c' for input: 'C2=O)S1\n",
      "CC(=O)N1CCc2c(C(S)CC[C@@H]12CCOc3cccsc21\n",
      "CC(=C1)C(=O)C1Cc1cccc(F)cc1)CCn2cccnc2)n1ccc(nccc1)c'\n",
      " 89%|███████████████████████████████████▍    | 887/1000 [09:16<00:59,  1.88it/s][19:56:44] SMILES Parse Error: extra close parentheses while parsing: C1c1cccccOn1)c1cccccccc1)c1ncc/c(nccHncc4)cc2)l2)S1(=O)=C1=C(CF)C1)n1ccccnc1)c1ccccc2c(N1CC(F)OC(C)(C\n",
      "[19:56:44] SMILES Parse Error: Failed parsing SMILES 'C1c1cccccOn1)c1cccccccc1)c1ncc/c(nccHncc4)cc2)l2)S1(=O)=C1=C(CF)C1)n1ccccnc1)c1ccccc2c(N1CC(F)OC(C)(C' for input: 'C1c1cccccOn1)c1cccccccc1)c1ncc/c(nccHncc4)cc2)l2)S1(=O)=C1=C(CF)C1)n1ccccnc1)c1ccccc2c(N1CC(F)OC(C)(C'\n",
      " 89%|███████████████████████████████████▌    | 888/1000 [09:17<01:02,  1.79it/s][19:56:44] SMILES Parse Error: unclosed ring for input: 'CC(=O)C(=O)CC2\n",
      "CCC(C1\n",
      "CC1=C(C(=O)N[C@H]1c1cccncc1)C(=O)C(C)(C)n1cccccc1cccc(F)nc1)C1c1cccccc1nncccn2)'\n",
      " 89%|███████████████████████████████████▌    | 889/1000 [09:18<01:02,  1.78it/s][19:56:45] SMILES Parse Error: unclosed ring for input: 'C2=N\n",
      "CC(=O)C1=NN(o2C(=O)CC/C=C=C/c3ccccc3OC[C@H]2F)s1)c1ccccc((=O)(F)(F)cc1)C\n",
      "CC(=O)C1=NN(c2cc(Br)ccc'\n",
      " 89%|███████████████████████████████████▌    | 890/1000 [09:18<01:04,  1.71it/s][19:56:46] SMILES Parse Error: extra close parentheses while parsing: C3)c2)C1=O\n",
      "CC(=O)C1CC1(S)NC(=O)=C1)c1ccccc(n)cc(nc)cc1)c1cccccc(F)cn1)n1ccccc(B)(=O)nc1ccccccc1)c1ncc\n",
      "[19:56:46] SMILES Parse Error: Failed parsing SMILES 'C3)c2)C1=O\n",
      "CC(=O)C1CC1(S)NC(=O)=C1)c1ccccc(n)cc(nc)cc1)c1cccccc(F)cn1)n1ccccc(B)(=O)nc1ccccccc1)c1ncc' for input: 'C3)c2)C1=O\n",
      "CC(=O)C1CC1(S)NC(=O)=C1)c1ccccc(n)cc(nc)cc1)c1cccccc(F)cn1)n1ccccc(B)(=O)nc1ccccccc1)c1ncc'\n",
      " 89%|███████████████████████████████████▋    | 891/1000 [09:19<01:02,  1.74it/s][19:56:46] SMILES Parse Error: extra close parentheses while parsing: CCn2c(ncnc3cc(C)O[nH]c3cc(OC)ccn3)S2)SC1(S)=c1nc[nH]nc1)c1nc(-c2cconc2)c1ccccc(O)(=O)C1c1ccccc(F)cc1)\n",
      "[19:56:46] SMILES Parse Error: Failed parsing SMILES 'CCn2c(ncnc3cc(C)O[nH]c3cc(OC)ccn3)S2)SC1(S)=c1nc[nH]nc1)c1nc(-c2cconc2)c1ccccc(O)(=O)C1c1ccccc(F)cc1)' for input: 'CCn2c(ncnc3cc(C)O[nH]c3cc(OC)ccn3)S2)SC1(S)=c1nc[nH]nc1)c1nc(-c2cconc2)c1ccccc(O)(=O)C1c1ccccc(F)cc1)'\n",
      " 89%|███████████████████████████████████▋    | 892/1000 [09:20<01:08,  1.58it/s][19:56:47] SMILES Parse Error: syntax error while parsing: CC[C@@H](N(C)C(=O)N1Cc2C@@H](F)C[C@]1(CCO)c1ccccccc(O)c1)N2\n",
      "CCCC(OC)CC(=O)N1C(=O)CC1)c1cccccc1\n",
      "CC1=C(\n",
      "[19:56:47] SMILES Parse Error: Failed parsing SMILES 'CC[C@@H](N(C)C(=O)N1Cc2C@@H](F)C[C@]1(CCO)c1ccccccc(O)c1)N2\n",
      "CCCC(OC)CC(=O)N1C(=O)CC1)c1cccccc1\n",
      "CC1=C(' for input: 'CC[C@@H](N(C)C(=O)N1Cc2C@@H](F)C[C@]1(CCO)c1ccccccc(O)c1)N2\n",
      "CCCC(OC)CC(=O)N1C(=O)CC1)c1cccccc1\n",
      "CC1=C('\n",
      " 89%|███████████████████████████████████▋    | 893/1000 [09:20<01:11,  1.49it/s][19:56:48] SMILES Parse Error: extra close parentheses while parsing: C(=O)C(c3cscnn)c3)S2)S1(=O)=O\n",
      "CCC(c1ccccc(F)c1)OCCO[C@@H]1CCOCC1(CO)CC1c1cccccc(F)c(c2)n1)(c1ccccc(O)\n",
      "[19:56:48] SMILES Parse Error: Failed parsing SMILES 'C(=O)C(c3cscnn)c3)S2)S1(=O)=O\n",
      "CCC(c1ccccc(F)c1)OCCO[C@@H]1CCOCC1(CO)CC1c1cccccc(F)c(c2)n1)(c1ccccc(O)' for input: 'C(=O)C(c3cscnn)c3)S2)S1(=O)=O\n",
      "CCC(c1ccccc(F)c1)OCCO[C@@H]1CCOCC1(CO)CC1c1cccccc(F)c(c2)n1)(c1ccccc(O)'\n",
      " 89%|███████████████████████████████████▊    | 894/1000 [09:21<01:05,  1.61it/s][19:56:48] SMILES Parse Error: extra close parentheses while parsing: C)F)n1Cc1ccc(O)nc()c1)N2\n",
      "CC(C)c1cccc(nC)nc1C)nc1cccc(F)cc2c)ccc1n1cccnc2)n1Cc1ccccccc1)NC(=S)NC[C@H]1\n",
      "[19:56:48] SMILES Parse Error: Failed parsing SMILES 'C)F)n1Cc1ccc(O)nc()c1)N2\n",
      "CC(C)c1cccc(nC)nc1C)nc1cccc(F)cc2c)ccc1n1cccnc2)n1Cc1ccccccc1)NC(=S)NC[C@H]1' for input: 'C)F)n1Cc1ccc(O)nc()c1)N2\n",
      "CC(C)c1cccc(nC)nc1C)nc1cccc(F)cc2c)ccc1n1cccnc2)n1Cc1ccccccc1)NC(=S)NC[C@H]1'\n",
      " 90%|███████████████████████████████████▊    | 895/1000 [09:22<01:04,  1.63it/s][19:56:49] SMILES Parse Error: extra close parentheses while parsing: C[C@H](N)C(=O)c1ccc(Br)cc(F)c1)(O)C(C(=O)C1c1cccncc1)n1cccccncc1)c1ccccccc1)nc1nccccccc1ncc(F)cc1)N2@\n",
      "[19:56:49] SMILES Parse Error: Failed parsing SMILES 'C[C@H](N)C(=O)c1ccc(Br)cc(F)c1)(O)C(C(=O)C1c1cccncc1)n1cccccncc1)c1ccccccc1)nc1nccccccc1ncc(F)cc1)N2@' for input: 'C[C@H](N)C(=O)c1ccc(Br)cc(F)c1)(O)C(C(=O)C1c1cccncc1)n1cccccncc1)c1ccccccc1)nc1nccccccc1ncc(F)cc1)N2@'\n",
      " 90%|███████████████████████████████████▊    | 896/1000 [09:22<01:02,  1.66it/s][19:56:49] SMILES Parse Error: extra close parentheses while parsing: CC(C)[C@H]2c2cccoc2)c2nccncnc2)c1cccccc2c1nccco1)n1ccccccc2cc1cccccc)c1)nnc1)c1cccccc1)(nn12cccccc()c\n",
      "[19:56:49] SMILES Parse Error: Failed parsing SMILES 'CC(C)[C@H]2c2cccoc2)c2nccncnc2)c1cccccc2c1nccco1)n1ccccccc2cc1cccccc)c1)nnc1)c1cccccc1)(nn12cccccc()c' for input: 'CC(C)[C@H]2c2cccoc2)c2nccncnc2)c1cccccc2c1nccco1)n1ccccccc2cc1cccccc)c1)nnc1)c1cccccc1)(nn12cccccc()c'\n",
      " 90%|███████████████████████████████████▉    | 897/1000 [09:23<00:58,  1.75it/s][19:56:50] SMILES Parse Error: extra close parentheses while parsing: C2)c1-c1cccnc(F)c1c(cccccc2cccccc2c1)n(CC)(c1nccoc1)n1cccnc(C)c1cccc(C)c(/nH]c1)c1ccccccc1)(n2c(ncccc\n",
      "[19:56:50] SMILES Parse Error: Failed parsing SMILES 'C2)c1-c1cccnc(F)c1c(cccccc2cccccc2c1)n(CC)(c1nccoc1)n1cccnc(C)c1cccc(C)c(/nH]c1)c1ccccccc1)(n2c(ncccc' for input: 'C2)c1-c1cccnc(F)c1c(cccccc2cccccc2c1)n(CC)(c1nccoc1)n1cccnc(C)c1cccc(C)c(/nH]c1)c1ccccccc1)(n2c(ncccc'\n",
      " 90%|███████████████████████████████████▉    | 898/1000 [09:23<01:00,  1.68it/s][19:56:51] SMILES Parse Error: extra close parentheses while parsing: C)C)C(=O)c1cccc(Br)cc1-c1ccnccc1\n",
      "CC[C@H](N)C(=O)C1Cc1ccccn1)N(C)CCO\n",
      "CCC(c1ccccn1C[C@](C)C(=O)OCCOC[C@\n",
      "[19:56:51] SMILES Parse Error: Failed parsing SMILES 'C)C)C(=O)c1cccc(Br)cc1-c1ccnccc1\n",
      "CC[C@H](N)C(=O)C1Cc1ccccn1)N(C)CCO\n",
      "CCC(c1ccccn1C[C@](C)C(=O)OCCOC[C@' for input: 'C)C)C(=O)c1cccc(Br)cc1-c1ccnccc1\n",
      "CC[C@H](N)C(=O)C1Cc1ccccn1)N(C)CCO\n",
      "CCC(c1ccccn1C[C@](C)C(=O)OCCOC[C@'\n",
      " 90%|███████████████████████████████████▉    | 899/1000 [09:24<01:03,  1.60it/s][19:56:51] SMILES Parse Error: extra close parentheses while parsing: C)S1\n",
      "CC(=S)Nc1cccc(-c2nc[nH]nc2C)scc1n1ccc(F)cc1)(c1ccccccc1)(nc1cccccc(S(C1)c2cccc(O)nc2)n1cccc(F)cc\n",
      "[19:56:51] SMILES Parse Error: Failed parsing SMILES 'C)S1\n",
      "CC(=S)Nc1cccc(-c2nc[nH]nc2C)scc1n1ccc(F)cc1)(c1ccccccc1)(nc1cccccc(S(C1)c2cccc(O)nc2)n1cccc(F)cc' for input: 'C)S1\n",
      "CC(=S)Nc1cccc(-c2nc[nH]nc2C)scc1n1ccc(F)cc1)(c1ccccccc1)(nc1cccccc(S(C1)c2cccc(O)nc2)n1cccc(F)cc'\n",
      " 90%|████████████████████████████████████    | 900/1000 [09:25<01:01,  1.61it/s][19:56:52] SMILES Parse Error: extra open parentheses for input: 'Cc1ccccc1n-c1cccnc(-c3cc(F)cn(C)c3ccsc3cc(c2s3)n1Cc1cccc(F)c1)n1ccc(nccccn2)n1cccccc2c1nc(c(=O)n2cccc'\n",
      " 90%|████████████████████████████████████    | 901/1000 [09:25<01:06,  1.49it/s][19:56:53] SMILES Parse Error: unclosed ring for input: 'C1\n",
      "CCC(=C/c3ccc(Br)cc(F))n1)C1=[Os2C@@H]2[C=C@H]2OCO2)c1c[nH]ccn1)c1cccccc1)n1ccccccnc1)c1cccc(F)ccc1'\n",
      " 90%|████████████████████████████████████    | 902/1000 [09:26<01:03,  1.55it/s][19:56:53] SMILES Parse Error: syntax error while parsing: C@]1(C[C@H]2CC1=O)[C@H]1c1cccc(O)ccc1c1c1ccc(O)ccc(F)c1)C1CC1(F)(C)C(=O)Oc1cccncc1)c1ccc(O)nnc2c(C)nn\n",
      "[19:56:53] SMILES Parse Error: Failed parsing SMILES 'C@]1(C[C@H]2CC1=O)[C@H]1c1cccc(O)ccc1c1c1ccc(O)ccc(F)c1)C1CC1(F)(C)C(=O)Oc1cccncc1)c1ccc(O)nnc2c(C)nn' for input: 'C@]1(C[C@H]2CC1=O)[C@H]1c1cccc(O)ccc1c1c1ccc(O)ccc(F)c1)C1CC1(F)(C)C(=O)Oc1cccncc1)c1ccc(O)nnc2c(C)nn'\n",
      " 90%|████████████████████████████████████    | 903/1000 [09:27<01:05,  1.48it/s][19:56:54] SMILES Parse Error: extra close parentheses while parsing: C)=O))C1=NN(C(=O)CCN(C(C)C(F)(F@)c1ccccc(F)cc1)nnc(nc()c1cccncc1)c1ccc(Br)cccn1)c1cccccc2cccccc1)nncc\n",
      "[19:56:54] SMILES Parse Error: Failed parsing SMILES 'C)=O))C1=NN(C(=O)CCN(C(C)C(F)(F@)c1ccccc(F)cc1)nnc(nc()c1cccncc1)c1ccc(Br)cccn1)c1cccccc2cccccc1)nncc' for input: 'C)=O))C1=NN(C(=O)CCN(C(C)C(F)(F@)c1ccccc(F)cc1)nnc(nc()c1cccncc1)c1ccc(Br)cccn1)c1cccccc2cccccc1)nncc'\n",
      " 90%|████████████████████████████████████▏   | 904/1000 [09:27<01:00,  1.58it/s][19:56:55] SMILES Parse Error: extra close parentheses while parsing: C)(C)C1)[C@@H]2CCc3c([nH]4ccccc4)#O4)CC1)c1ccscc2c1CCOC)=c1cccncc1)n1ccccccnnc1)c1ccccc(Br)([OS)n1)(N\n",
      "[19:56:55] SMILES Parse Error: Failed parsing SMILES 'C)(C)C1)[C@@H]2CCc3c([nH]4ccccc4)#O4)CC1)c1ccscc2c1CCOC)=c1cccncc1)n1ccccccnnc1)c1ccccc(Br)([OS)n1)(N' for input: 'C)(C)C1)[C@@H]2CCc3c([nH]4ccccc4)#O4)CC1)c1ccscc2c1CCOC)=c1cccncc1)n1ccccccnnc1)c1ccccc(Br)([OS)n1)(N'\n",
      " 90%|████████████████████████████████████▏   | 905/1000 [09:28<01:00,  1.58it/s][19:56:55] SMILES Parse Error: extra close parentheses while parsing: Cc3c(c2)nCC1(=O)cCc1cccnc1)n1ccccc(c2c2ccc(O)n(C)cc1)c1cccccc3n1)CCOc1ncccnc2c(=O)n1c(c2ccccc(S(N)(=O\n",
      "[19:56:55] SMILES Parse Error: Failed parsing SMILES 'Cc3c(c2)nCC1(=O)cCc1cccnc1)n1ccccc(c2c2ccc(O)n(C)cc1)c1cccccc3n1)CCOc1ncccnc2c(=O)n1c(c2ccccc(S(N)(=O' for input: 'Cc3c(c2)nCC1(=O)cCc1cccnc1)n1ccccc(c2c2ccc(O)n(C)cc1)c1cccccc3n1)CCOc1ncccnc2c(=O)n1c(c2ccccc(S(N)(=O'\n",
      " 91%|████████████████████████████████████▏   | 906/1000 [09:28<01:00,  1.56it/s][19:56:56] SMILES Parse Error: extra close parentheses while parsing: Cc2cncsc2n1)c1ccccccc1c(C)C)c1ncccnnc2c1)c1cccccccc(n1)cnc(-c)c1)[nH]nc1Nc1ncc(Br)cc(O)n1)[C@@H]2Cc3c\n",
      "[19:56:56] SMILES Parse Error: Failed parsing SMILES 'Cc2cncsc2n1)c1ccccccc1c(C)C)c1ncccnnc2c1)c1cccccccc(n1)cnc(-c)c1)[nH]nc1Nc1ncc(Br)cc(O)n1)[C@@H]2Cc3c' for input: 'Cc2cncsc2n1)c1ccccccc1c(C)C)c1ncccnnc2c1)c1cccccccc(n1)cnc(-c)c1)[nH]nc1Nc1ncc(Br)cc(O)n1)[C@@H]2Cc3c'\n",
      " 91%|████████████████████████████████████▎   | 907/1000 [09:29<01:02,  1.49it/s][19:56:57] SMILES Parse Error: extra close parentheses while parsing: C(F)CC)cc1\n",
      "CCN(C)C(=O)[C@H](c1nccsc1)C(=O)(c1cccccnc1)c1ncc(F)(F)cnnc1)c1ccccncn1)c1cc(cnccc2cccccc1)\n",
      "[19:56:57] SMILES Parse Error: Failed parsing SMILES 'C(F)CC)cc1\n",
      "CCN(C)C(=O)[C@H](c1nccsc1)C(=O)(c1cccccnc1)c1ncc(F)(F)cnnc1)c1ccccncn1)c1cc(cnccc2cccccc1)' for input: 'C(F)CC)cc1\n",
      "CCN(C)C(=O)[C@H](c1nccsc1)C(=O)(c1cccccnc1)c1ncc(F)(F)cnnc1)c1ccccncn1)c1cc(cnccc2cccccc1)'\n",
      " 91%|████████████████████████████████████▎   | 908/1000 [09:30<00:58,  1.57it/s][19:56:57] SMILES Parse Error: extra close parentheses while parsing: Cl)CC1)c1ccccc(F)c(I)cc1\n",
      "CC(=O)[C@F(F)(F)c1ccccnc1C\n",
      "CC[C@H](cF)C1c1cccoc1)n1Cc1ccc(O)ncc1)c1cccccc(S)\n",
      "[19:56:57] SMILES Parse Error: Failed parsing SMILES 'Cl)CC1)c1ccccc(F)c(I)cc1\n",
      "CC(=O)[C@F(F)(F)c1ccccnc1C\n",
      "CC[C@H](cF)C1c1cccoc1)n1Cc1ccc(O)ncc1)c1cccccc(S)' for input: 'Cl)CC1)c1ccccc(F)c(I)cc1\n",
      "CC(=O)[C@F(F)(F)c1ccccnc1C\n",
      "CC[C@H](cF)C1c1cccoc1)n1Cc1ccc(O)ncc1)c1cccccc(S)'\n",
      " 91%|████████████████████████████████████▎   | 909/1000 [09:30<00:58,  1.56it/s][19:56:58] SMILES Parse Error: extra close parentheses while parsing: C)NC(=S)NC2c1c=cccc(O)(nccc()c#cccccccc1)c1cccccc(c1)cccccc1ccccccc1)cc1cc1ccccc1)c1cccccccnc1)(nH]cc\n",
      "[19:56:58] SMILES Parse Error: Failed parsing SMILES 'C)NC(=S)NC2c1c=cccc(O)(nccc()c#cccccccc1)c1cccccc(c1)cccccc1ccccccc1)cc1cc1ccccc1)c1cccccccnc1)(nH]cc' for input: 'C)NC(=S)NC2c1c=cccc(O)(nccc()c#cccccccc1)c1cccccc(c1)cccccc1ccccccc1)cc1cc1ccccc1)c1cccccccnc1)(nH]cc'\n",
      " 91%|████████████████████████████████████▍   | 910/1000 [09:31<00:54,  1.67it/s][19:56:58] SMILES Parse Error: extra open parentheses for input: 'C1=NN(C(=O)[C@@H]2Cc3ccc(OCC(=O)O)(c3)Ss2ncc(nc(S)N(C)(=O)nc2cccscc2)S1\n",
      "CC(=O)CCN(c3cccc(C#N)=O)cc3)S'\n",
      " 91%|████████████████████████████████████▍   | 911/1000 [09:32<00:52,  1.69it/s][19:56:59] SMILES Parse Error: extra close parentheses while parsing: COc2cccsc2)N1C(=O)CC1)c1ccccccc1)c1ncc(O)ncc(C)c1cccnc(N)c1cccccc2c1CC(O)(CS3c1c[nH]cs3)c1nccsc(S(C)(\n",
      "[19:56:59] SMILES Parse Error: Failed parsing SMILES 'COc2cccsc2)N1C(=O)CC1)c1ccccccc1)c1ncc(O)ncc(C)c1cccnc(N)c1cccccc2c1CC(O)(CS3c1c[nH]cs3)c1nccsc(S(C)(' for input: 'COc2cccsc2)N1C(=O)CC1)c1ccccccc1)c1ncc(O)ncc(C)c1cccnc(N)c1cccccc2c1CC(O)(CS3c1c[nH]cs3)c1nccsc(S(C)('\n",
      " 91%|████████████████████████████████████▍   | 912/1000 [09:32<00:49,  1.76it/s][19:56:59] SMILES Parse Error: extra close parentheses while parsing: C(c3ccc(Br)cc3)C2=O)[C@H]1c1cccccc1O)(C)C1=O\n",
      "CC(=O)C1CCC(N(C)(c2ccc(Br)ccccc2cnccncns3)S1)c1ccccncc1)\n",
      "[19:56:59] SMILES Parse Error: Failed parsing SMILES 'C(c3ccc(Br)cc3)C2=O)[C@H]1c1cccccc1O)(C)C1=O\n",
      "CC(=O)C1CCC(N(C)(c2ccc(Br)ccccc2cnccncns3)S1)c1ccccncc1)' for input: 'C(c3ccc(Br)cc3)C2=O)[C@H]1c1cccccc1O)(C)C1=O\n",
      "CC(=O)C1CCC(N(C)(c2ccc(Br)ccccc2cnccncns3)S1)c1ccccncc1)'\n",
      " 91%|████████████████████████████████████▌   | 913/1000 [09:33<00:50,  1.71it/s][19:57:00] SMILES Parse Error: extra close parentheses while parsing: CCC2=O)N1)c1cccccc1)n1c1ccccc(F)(c1cOcccccc2c1ccccc())c1)n1ccccc(B)(O)c1ccccc(O)nc1)c1ccccccc1(C)CO)[\n",
      "[19:57:00] SMILES Parse Error: Failed parsing SMILES 'CCC2=O)N1)c1cccccc1)n1c1ccccc(F)(c1cOcccccc2c1ccccc())c1)n1ccccc(B)(O)c1ccccc(O)nc1)c1ccccccc1(C)CO)[' for input: 'CCC2=O)N1)c1cccccc1)n1c1ccccc(F)(c1cOcccccc2c1ccccc())c1)n1ccccc(B)(O)c1ccccc(O)nc1)c1ccccccc1(C)CO)['\n",
      " 91%|████████████████████████████████████▌   | 914/1000 [09:33<00:48,  1.77it/s][19:57:01] SMILES Parse Error: extra close parentheses while parsing: Cc1ccsc2c/C=C(Br)N3Cc1ccc(O)nc3c)c1\n",
      "CC(=O)C1N(C(=O)Cc2cncc(F)Cl)cc12\n",
      "CCC(C)(c1ccccc(F)cc1)N2CCOC(=O)\n",
      "\n",
      "[19:57:01] SMILES Parse Error: Failed parsing SMILES 'Cc1ccsc2c/C=C(Br)N3Cc1ccc(O)nc3c)c1\n",
      "CC(=O)C1N(C(=O)Cc2cncc(F)Cl)cc12\n",
      "CCC(C)(c1ccccc(F)cc1)N2CCOC(=O)\n",
      "' for input: 'Cc1ccsc2c/C=C(Br)N3Cc1ccc(O)nc3c)c1\n",
      "CC(=O)C1N(C(=O)Cc2cncc(F)Cl)cc12\n",
      "CCC(C)(c1ccccc(F)cc1)N2CCOC(=O)\n",
      "'\n",
      " 92%|████████████████████████████████████▌   | 915/1000 [09:34<00:57,  1.47it/s][19:57:01] SMILES Parse Error: extra close parentheses while parsing: COc3cccc(F)c3)n2ncncnc2c1)c1ccc(F)ccc1)c1ccccccc(=O)n1Cc1cccccc1)1c1ccc(O)nc(c2cccccc2c1Cc(F)(F)F)n1n\n",
      "[19:57:01] SMILES Parse Error: Failed parsing SMILES 'COc3cccc(F)c3)n2ncncnc2c1)c1ccc(F)ccc1)c1ccccccc(=O)n1Cc1cccccc1)1c1ccc(O)nc(c2cccccc2c1Cc(F)(F)F)n1n' for input: 'COc3cccc(F)c3)n2ncncnc2c1)c1ccc(F)ccc1)c1ccccccc(=O)n1Cc1cccccc1)1c1ccc(O)nc(c2cccccc2c1Cc(F)(F)F)n1n'\n",
      " 92%|████████████████████████████████████▋   | 916/1000 [09:35<00:53,  1.56it/s][19:57:02] SMILES Parse Error: extra close parentheses while parsing: C[C@H](N)C(=O)O)(c1ccccccc1)csccc1c1ccccc(C)n1)C1CC\n",
      "CC(=O)C1=NN(c2ccc(OC(F)(F)F)cn2)sc1)Oc1cccccc(Oc(\n",
      "[19:57:02] SMILES Parse Error: Failed parsing SMILES 'C[C@H](N)C(=O)O)(c1ccccccc1)csccc1c1ccccc(C)n1)C1CC\n",
      "CC(=O)C1=NN(c2ccc(OC(F)(F)F)cn2)sc1)Oc1cccccc(Oc(' for input: 'C[C@H](N)C(=O)O)(c1ccccccc1)csccc1c1ccccc(C)n1)C1CC\n",
      "CC(=O)C1=NN(c2ccc(OC(F)(F)F)cn2)sc1)Oc1cccccc(Oc('\n",
      " 92%|████████████████████████████████████▋   | 917/1000 [09:35<00:54,  1.52it/s][19:57:03] SMILES Parse Error: extra close parentheses while parsing: Cc3)S2)SC1(ncccccc2c(=O)n1Cc1ccccc1Cc1ccccc(O)c1)C1CC(OC)(cc1cccccccncc1)c1cccccnc1)c1ncnc(C)(c1)c1cc\n",
      "[19:57:03] SMILES Parse Error: Failed parsing SMILES 'Cc3)S2)SC1(ncccccc2c(=O)n1Cc1ccccc1Cc1ccccc(O)c1)C1CC(OC)(cc1cccccccncc1)c1cccccnc1)c1ncnc(C)(c1)c1cc' for input: 'Cc3)S2)SC1(ncccccc2c(=O)n1Cc1ccccc1Cc1ccccc(O)c1)C1CC(OC)(cc1cccccccncc1)c1cccccnc1)c1ncnc(C)(c1)c1cc'\n",
      " 92%|████████████████████████████████████▋   | 918/1000 [09:36<00:50,  1.61it/s][19:57:03] SMILES Parse Error: syntax error while parsing: C[C@H]1c1cccc(O()c(=O)n1Cc1ccccnc1)c1ccc(C)cc(=O)n1c1ccc(c)cc1)n1cccccnc2C)n1ccccc1)nc1CCOCn1ccc(F)cc\n",
      "[19:57:03] SMILES Parse Error: Failed parsing SMILES 'C[C@H]1c1cccc(O()c(=O)n1Cc1ccccnc1)c1ccc(C)cc(=O)n1c1ccc(c)cc1)n1cccccnc2C)n1ccccc1)nc1CCOCn1ccc(F)cc' for input: 'C[C@H]1c1cccc(O()c(=O)n1Cc1ccccnc1)c1ccc(C)cc(=O)n1c1ccc(c)cc1)n1cccccnc2C)n1ccccc1)nc1CCOCn1ccc(F)cc'\n",
      " 92%|████████████████████████████████████▊   | 919/1000 [09:37<00:50,  1.62it/s][19:57:04] SMILES Parse Error: extra open parentheses for input: 'C(SC[C@@H](F)NC(=O)OCCOC\n",
      "CCC(cH](c1scccnc)n1)n1ccc(Br(F)(cnccccc2c1CCOC2\n",
      "CCCNC(=O)C1=C(C)C[C@H]1(c1cc'\n",
      " 92%|████████████████████████████████████▊   | 920/1000 [09:37<00:46,  1.72it/s][19:57:04] SMILES Parse Error: extra close parentheses while parsing: C\\O)C(=O)c1ccc(Br)ccc1\n",
      "CCC(c1cccsc2c1CCOC(=O)=Nl1ccc(Br)ccc2c(=O)n1Cc1ccccc(F))c1)c1nccncc1)C(=O)c1cc\n",
      "[19:57:04] SMILES Parse Error: Failed parsing SMILES 'C\\O)C(=O)c1ccc(Br)ccc1\n",
      "CCC(c1cccsc2c1CCOC(=O)=Nl1ccc(Br)ccc2c(=O)n1Cc1ccccc(F))c1)c1nccncc1)C(=O)c1cc' for input: 'C\\O)C(=O)c1ccc(Br)ccc1\n",
      "CCC(c1cccsc2c1CCOC(=O)=Nl1ccc(Br)ccc2c(=O)n1Cc1ccccc(F))c1)c1nccncc1)C(=O)c1cc'\n",
      " 92%|████████████████████████████████████▊   | 921/1000 [09:38<00:46,  1.69it/s][19:57:05] SMILES Parse Error: ring closure 1 duplicates bond between atom 0 and atom 1 for input: 'C1c1nc2ncN2CCCC(=O)=N(C(=O)C(=O)CC1C1)[nH]cc1nccc(c(c)c1cccc(O)cc1)N2\n",
      "CCC(c1ccccnc(F)c1)N[C@H](c1cccc'\n",
      " 92%|████████████████████████████████████▉   | 922/1000 [09:38<00:44,  1.77it/s][19:57:06] SMILES Parse Error: syntax error while parsing: C[C@@@]2(cccccO)c1)(nH]c1c(cccccc2nc)ncc(C)(F)c1)(=O)n1cccc(F)(F)S(S)(=O)=(F)(F)F)nc1)C)nc3cccc(-c3cc\n",
      "[19:57:06] SMILES Parse Error: Failed parsing SMILES 'C[C@@@]2(cccccO)c1)(nH]c1c(cccccc2nc)ncc(C)(F)c1)(=O)n1cccc(F)(F)S(S)(=O)=(F)(F)F)nc1)C)nc3cccc(-c3cc' for input: 'C[C@@@]2(cccccO)c1)(nH]c1c(cccccc2nc)ncc(C)(F)c1)(=O)n1cccc(F)(F)S(S)(=O)=(F)(F)F)nc1)C)nc3cccc(-c3cc'\n",
      " 92%|████████████████████████████████████▉   | 923/1000 [09:39<00:47,  1.63it/s][19:57:06] SMILES Parse Error: extra close parentheses while parsing: CCOCC)C2=NC(=O)C3)c1C\n",
      "CCC(c1cccco1)n1ccccnc2c1Cc1cccc(O)c(O)(c1)c1ccccccc(O)cc1)c1sccc(O)(c2ccccc(O)n\n",
      "[19:57:06] SMILES Parse Error: Failed parsing SMILES 'CCOCC)C2=NC(=O)C3)c1C\n",
      "CCC(c1cccco1)n1ccccnc2c1Cc1cccc(O)c(O)(c1)c1ccccccc(O)cc1)c1sccc(O)(c2ccccc(O)n' for input: 'CCOCC)C2=NC(=O)C3)c1C\n",
      "CCC(c1cccco1)n1ccccnc2c1Cc1cccc(O)c(O)(c1)c1ccccccc(O)cc1)c1sccc(O)(c2ccccc(O)n'\n",
      " 92%|████████████████████████████████████▉   | 924/1000 [09:39<00:46,  1.64it/s][19:57:07] SMILES Parse Error: extra close parentheses while parsing: COc3ccco3)n2ncnc()n2c(cS)n(c2)C1=O\n",
      "CCC(c1ccccc(F)(c1)cccsc2cc1nccc(F)cc1)n1Cccc(F)ccc(C)(F)c1)C\n",
      "CC(=O\n",
      "[19:57:07] SMILES Parse Error: Failed parsing SMILES 'COc3ccco3)n2ncnc()n2c(cS)n(c2)C1=O\n",
      "CCC(c1ccccc(F)(c1)cccsc2cc1nccc(F)cc1)n1Cccc(F)ccc(C)(F)c1)C\n",
      "CC(=O' for input: 'COc3ccco3)n2ncnc()n2c(cS)n(c2)C1=O\n",
      "CCC(c1ccccc(F)(c1)cccsc2cc1nccc(F)cc1)n1Cccc(F)ccc(C)(F)c1)C\n",
      "CC(=O'\n",
      " 92%|█████████████████████████████████████   | 925/1000 [09:40<00:48,  1.53it/s][19:57:08] SMILES Parse Error: unclosed ring for input: 'C(=O)NC1=NN(C(=O)[C@@H](C)[C@H]22c1ccccnc1)c1ccccc(O)nc1\n",
      "CC(C)c1cccc(NC(=O)cc2ncc(n)nc3)S1)c1ccccc(O)'\n",
      " 93%|█████████████████████████████████████   | 926/1000 [09:41<00:58,  1.27it/s][19:57:09] SMILES Parse Error: extra close parentheses while parsing: C)n@C(=O)N1CC(c1ccc(Br)ccc1)c1nccccn1)n1ccccc(c()(=O)nc1ccccc1)nc1ccccccnc2c1Sc1ccc(C)no1)c1nccc(Br)c\n",
      "[19:57:09] SMILES Parse Error: Failed parsing SMILES 'C)n@C(=O)N1CC(c1ccc(Br)ccc1)c1nccccn1)n1ccccc(c()(=O)nc1ccccc1)nc1ccccccnc2c1Sc1ccc(C)no1)c1nccc(Br)c' for input: 'C)n@C(=O)N1CC(c1ccc(Br)ccc1)c1nccccn1)n1ccccc(c()(=O)nc1ccccc1)nc1ccccccnc2c1Sc1ccc(C)no1)c1nccc(Br)c'\n",
      " 93%|█████████████████████████████████████   | 927/1000 [09:42<00:51,  1.41it/s][19:57:09] SMILES Parse Error: syntax error while parsing: C(=)CNC[C@@]1(O)CCc2[nH]nc(C)n1c1ccccccc2)n1ccccc2c(=O)n1Cc1ccccc1)n1Cc1cccnc(F)(c1)C\n",
      "CC(=O)C1Cc1ccc(\n",
      "[19:57:09] SMILES Parse Error: Failed parsing SMILES 'C(=)CNC[C@@]1(O)CCc2[nH]nc(C)n1c1ccccccc2)n1ccccc2c(=O)n1Cc1ccccc1)n1Cc1cccnc(F)(c1)C\n",
      "CC(=O)C1Cc1ccc(' for input: 'C(=)CNC[C@@]1(O)CCc2[nH]nc(C)n1c1ccccccc2)n1ccccc2c(=O)n1Cc1ccccc1)n1Cc1cccnc(F)(c1)C\n",
      "CC(=O)C1Cc1ccc('\n",
      " 93%|█████████████████████████████████████   | 928/1000 [09:42<00:49,  1.46it/s][19:57:10] SMILES Parse Error: syntax error while parsing: C@@]1(CNC2(S(=O)(=O)CCSc3ccccn4)SC1(C)c1cccccc1)n1ccccccncc1)c1cccc(F)ccF)n1Cc1cccccc1)n1ccccc()c1ccc\n",
      "[19:57:10] SMILES Parse Error: Failed parsing SMILES 'C@@]1(CNC2(S(=O)(=O)CCSc3ccccn4)SC1(C)c1cccccc1)n1ccccccncc1)c1cccc(F)ccF)n1Cc1cccccc1)n1ccccc()c1ccc' for input: 'C@@]1(CNC2(S(=O)(=O)CCSc3ccccn4)SC1(C)c1cccccc1)n1ccccccncc1)c1cccc(F)ccF)n1Cc1cccccc1)n1ccccc()c1ccc'\n",
      " 93%|█████████████████████████████████████▏  | 929/1000 [09:43<00:46,  1.54it/s][19:57:10] SMILES Parse Error: extra close parentheses while parsing: Cl)c(F)c1cccccc1Cc1ccccncc1)n1cccccc(O)c1)N2\n",
      "CCC(N)C(=O)C1=C(c2cccccc1)n2cccncc2c1ccccc)nc2c1cccc()S(\n",
      "[19:57:10] SMILES Parse Error: Failed parsing SMILES 'Cl)c(F)c1cccccc1Cc1ccccncc1)n1cccccc(O)c1)N2\n",
      "CCC(N)C(=O)C1=C(c2cccccc1)n2cccncc2c1ccccc)nc2c1cccc()S(' for input: 'Cl)c(F)c1cccccc1Cc1ccccncc1)n1cccccc(O)c1)N2\n",
      "CCC(N)C(=O)C1=C(c2cccccc1)n2cccncc2c1ccccc)nc2c1cccc()S('\n",
      " 93%|█████████████████████████████████████▏  | 930/1000 [09:44<00:41,  1.68it/s][19:57:11] SMILES Parse Error: syntax error while parsing: CN1=C/C=C/c3c(c(C)n\\c4nccnc34)sc(-)nc1)C1c1ccccl\n",
      "CCOC(=O)C1nccc(Br)cc1ncHscc(Br)c(Br)(c2cccccc1)nccc1\n",
      "[19:57:11] SMILES Parse Error: Failed parsing SMILES 'CN1=C/C=C/c3c(c(C)n\\c4nccnc34)sc(-)nc1)C1c1ccccl\n",
      "CCOC(=O)C1nccc(Br)cc1ncHscc(Br)c(Br)(c2cccccc1)nccc1' for input: 'CN1=C/C=C/c3c(c(C)n\\c4nccnc34)sc(-)nc1)C1c1ccccl\n",
      "CCOC(=O)C1nccc(Br)cc1ncHscc(Br)c(Br)(c2cccccc1)nccc1'\n",
      " 93%|█████████████████████████████████████▏  | 931/1000 [09:44<00:44,  1.54it/s][19:57:12] SMILES Parse Error: syntax error while parsing: C1=C(C(=O)NC/C=C(C(=O)C1)c1nc(nccc3cc(-cHc4cc(C)c[nH]c2)cc1-c1nc]ccc(O)(nC)c(C)c2c(scccnc2)C=C/c3ccc(\n",
      "[19:57:12] SMILES Parse Error: Failed parsing SMILES 'C1=C(C(=O)NC/C=C(C(=O)C1)c1nc(nccc3cc(-cHc4cc(C)c[nH]c2)cc1-c1nc]ccc(O)(nC)c(C)c2c(scccnc2)C=C/c3ccc(' for input: 'C1=C(C(=O)NC/C=C(C(=O)C1)c1nc(nccc3cc(-cHc4cc(C)c[nH]c2)cc1-c1nc]ccc(O)(nC)c(C)c2c(scccnc2)C=C/c3ccc('\n",
      " 93%|█████████████████████████████████████▎  | 932/1000 [09:46<00:57,  1.18it/s][19:57:13] SMILES Parse Error: syntax error while parsing: Cc3c(ccc(C)c3c3cc(N)C(=O)=\\C)=O)=O)nc3)c2c1=O)C1=NC(=O)C(C)(C)C\n",
      "CCC(c1(c)=O1)Cc1ccccc(F)c1)C1=C(OC)CC\n",
      "[19:57:13] SMILES Parse Error: Failed parsing SMILES 'Cc3c(ccc(C)c3c3cc(N)C(=O)=\\C)=O)=O)nc3)c2c1=O)C1=NC(=O)C(C)(C)C\n",
      "CCC(c1(c)=O1)Cc1ccccc(F)c1)C1=C(OC)CC' for input: 'Cc3c(ccc(C)c3c3cc(N)C(=O)=\\C)=O)=O)nc3)c2c1=O)C1=NC(=O)C(C)(C)C\n",
      "CCC(c1(c)=O1)Cc1ccccc(F)c1)C1=C(OC)CC'\n",
      " 93%|█████████████████████████████████████▎  | 933/1000 [09:46<00:50,  1.34it/s][19:57:13] SMILES Parse Error: extra close parentheses while parsing: C[C@@H]1c1ccccnc1)n1cccc(O)c(C)(c2)C1(CCO)c1ccccccc1)n1ccccc(O)cc1nc(N2CCc3c(csc(O)cc32)C1)c1ccccc(F)\n",
      "[19:57:13] SMILES Parse Error: Failed parsing SMILES 'C[C@@H]1c1ccccnc1)n1cccc(O)c(C)(c2)C1(CCO)c1ccccccc1)n1ccccc(O)cc1nc(N2CCc3c(csc(O)cc32)C1)c1ccccc(F)' for input: 'C[C@@H]1c1ccccnc1)n1cccc(O)c(C)(c2)C1(CCO)c1ccccccc1)n1ccccc(O)cc1nc(N2CCc3c(csc(O)cc32)C1)c1ccccc(F)'\n",
      " 93%|█████████████████████████████████████▎  | 934/1000 [09:47<00:46,  1.41it/s][19:57:14] SMILES Parse Error: extra close parentheses while parsing: CN)c1cccccc1)nc1cc1cccc(F)(F)cc1)n1ccccccccc2c1ccccccc2c(=O)nc1cccccc2c(nc1ccccc2c(n1Cc1ccccc2)n1cccc\n",
      "[19:57:14] SMILES Parse Error: Failed parsing SMILES 'CN)c1cccccc1)nc1cc1cccc(F)(F)cc1)n1ccccccccc2c1ccccccc2c(=O)nc1cccccc2c(nc1ccccc2c(n1Cc1ccccc2)n1cccc' for input: 'CN)c1cccccc1)nc1cc1cccc(F)(F)cc1)n1ccccccccc2c1ccccccc2c(=O)nc1cccccc2c(nc1ccccc2c(n1Cc1ccccc2)n1cccc'\n",
      " 94%|█████████████████████████████████████▍  | 935/1000 [09:47<00:44,  1.45it/s][19:57:15] SMILES Parse Error: syntax error while parsing: Clc2onc(C)c2cHncsncc2)c1ccccc([nH]c2c1CCNC(CC)=N3)n12ccccc(F)c(O)C(=O)n1)c1cccc(Br)cc1)S1(C)(=O)C(=O\n",
      "\n",
      "[19:57:15] SMILES Parse Error: Failed parsing SMILES 'Clc2onc(C)c2cHncsncc2)c1ccccc([nH]c2c1CCNC(CC)=N3)n12ccccc(F)c(O)C(=O)n1)c1cccc(Br)cc1)S1(C)(=O)C(=O\n",
      "' for input: 'Clc2onc(C)c2cHncsncc2)c1ccccc([nH]c2c1CCNC(CC)=N3)n12ccccc(F)c(O)C(=O)n1)c1cccc(Br)cc1)S1(C)(=O)C(=O\n",
      "'\n",
      " 94%|█████████████████████████████████████▍  | 936/1000 [09:48<00:41,  1.54it/s][19:57:15] SMILES Parse Error: unclosed ring for input: 'C1=C(C)c2cnnc(CC)nc2ccsccc2c(n1)c(ncccccc2c1nccccc3c(=O)n1)C(=O)=O\n",
      "CCC(c1cccc(C)C)c1)N(CCCO)Cn3c(C)no'\n",
      " 94%|█████████████████████████████████████▍  | 937/1000 [09:49<00:41,  1.54it/s][19:57:16] SMILES Parse Error: extra close parentheses while parsing: C)[C@@H](F)C(=O)O1)Oncc(c(=O)CCOSC(=O)[nH]1)S1(Nc1ccccc(S()(=O)=O)ccc2scncc(F)c3ccccc3)n2c1Cc(CO)CCCO\n",
      "[19:57:16] SMILES Parse Error: Failed parsing SMILES 'C)[C@@H](F)C(=O)O1)Oncc(c(=O)CCOSC(=O)[nH]1)S1(Nc1ccccc(S()(=O)=O)ccc2scncc(F)c3ccccc3)n2c1Cc(CO)CCCO' for input: 'C)[C@@H](F)C(=O)O1)Oncc(c(=O)CCOSC(=O)[nH]1)S1(Nc1ccccc(S()(=O)=O)ccc2scncc(F)c3ccccc3)n2c1Cc(CO)CCCO'\n",
      " 94%|█████████████████████████████████████▌  | 938/1000 [09:49<00:37,  1.65it/s][19:57:16] SMILES Parse Error: unclosed ring for input: 'C2\n",
      "CC(C)(O)C(=O)N1\n",
      "CCOC(=O)C(=O)C1=NN(Cc2cc(F)cnc(N)c3ccc4c3)nnc2N1\n",
      "CC(=O)C2=C(CC1=O2)[C@H]2Cc3c1cccc'\n",
      " 94%|█████████████████████████████████████▌  | 939/1000 [09:50<00:37,  1.65it/s][19:57:17] SMILES Parse Error: extra close parentheses while parsing: CCC[C@H]1[C@H](c1ccccc3c1CCCCN3CC(=O)C1)c1cccccnc1)n1cc(c2cccccccc(O)(c1)nc1()c1ccccc(F)cc1)(=O)/c1nc\n",
      "[19:57:17] SMILES Parse Error: Failed parsing SMILES 'CCC[C@H]1[C@H](c1ccccc3c1CCCCN3CC(=O)C1)c1cccccnc1)n1cc(c2cccccccc(O)(c1)nc1()c1ccccc(F)cc1)(=O)/c1nc' for input: 'CCC[C@H]1[C@H](c1ccccc3c1CCCCN3CC(=O)C1)c1cccccnc1)n1cc(c2cccccccc(O)(c1)nc1()c1ccccc(F)cc1)(=O)/c1nc'\n",
      " 94%|█████████████████████████████████████▌  | 940/1000 [09:50<00:35,  1.71it/s][19:57:18] SMILES Parse Error: extra close parentheses while parsing: CF)F2)S1\n",
      "CC(=O)NC1(c1scccc(F)(F)c1)(C)C\n",
      "CC(=O)C1CC2(NC(=O)C(O)(C)C)=C(CC1=N[N+](3(c1C)ccc[nH]1)S2\n",
      "CC=\n",
      "[19:57:18] SMILES Parse Error: Failed parsing SMILES 'CF)F2)S1\n",
      "CC(=O)NC1(c1scccc(F)(F)c1)(C)C\n",
      "CC(=O)C1CC2(NC(=O)C(O)(C)C)=C(CC1=N[N+](3(c1C)ccc[nH]1)S2\n",
      "CC=' for input: 'CF)F2)S1\n",
      "CC(=O)NC1(c1scccc(F)(F)c1)(C)C\n",
      "CC(=O)C1CC2(NC(=O)C(O)(C)C)=C(CC1=N[N+](3(c1C)ccc[nH]1)S2\n",
      "CC='\n",
      " 94%|█████████████████████████████████████▋  | 941/1000 [09:51<00:34,  1.70it/s][19:57:18] SMILES Parse Error: extra close parentheses while parsing: CC#N)ccc(F)c1)OC\n",
      "CCC(c1ccccnc2)C(=O)CC1c1ccccc(O)c1)N(CCC2=O)C1nccnc(=O)c1)NC(=O)o1)c1ccccc(O)n1ccccc\n",
      "[19:57:18] SMILES Parse Error: Failed parsing SMILES 'CC#N)ccc(F)c1)OC\n",
      "CCC(c1ccccnc2)C(=O)CC1c1ccccc(O)c1)N(CCC2=O)C1nccnc(=O)c1)NC(=O)o1)c1ccccc(O)n1ccccc' for input: 'CC#N)ccc(F)c1)OC\n",
      "CCC(c1ccccnc2)C(=O)CC1c1ccccc(O)c1)N(CCC2=O)C1nccnc(=O)c1)NC(=O)o1)c1ccccc(O)n1ccccc'\n",
      " 94%|█████████████████████████████████████▋  | 942/1000 [09:51<00:32,  1.80it/s][19:57:19] SMILES Parse Error: unclosed ring for input: 'C1\n",
      "CCC(c1cccc(Br)cnc1)n1cccsc()c1)c1ccc(Br)ccc(O)n1)c1cccnc()(O)cc1nc2ccc(s)c#c1)C(=O)OC)=C12c1ccccc('\n",
      " 94%|█████████████████████████████████████▋  | 943/1000 [09:52<00:31,  1.80it/s][19:57:19] SMILES Parse Error: extra close parentheses while parsing: C/c3ccc(OCC)cc(O)c3c2C[C@@]3(c3ccco)c3)S2)nc1C\n",
      "CCC(c1nc2ccscc2c(=O)n1CCNC(=O)c1c[nH]c(c)cc1)c1ccccc(F\n",
      "[19:57:19] SMILES Parse Error: Failed parsing SMILES 'C/c3ccc(OCC)cc(O)c3c2C[C@@]3(c3ccco)c3)S2)nc1C\n",
      "CCC(c1nc2ccscc2c(=O)n1CCNC(=O)c1c[nH]c(c)cc1)c1ccccc(F' for input: 'C/c3ccc(OCC)cc(O)c3c2C[C@@]3(c3ccco)c3)S2)nc1C\n",
      "CCC(c1nc2ccscc2c(=O)n1CCNC(=O)c1c[nH]c(c)cc1)c1ccccc(F'\n",
      " 94%|█████████████████████████████████████▊  | 944/1000 [09:52<00:29,  1.89it/s][19:57:20] SMILES Parse Error: extra close parentheses while parsing: C(C)=O)[C@]l1c1ccccc(O)c1)(=O)[C@H]1CCc2cn2ccccco2)S1(C)=O\n",
      "CCOc1ccc2c(cccc2c(n1)CC(=O)C(c1cscnc()n1)c\n",
      "[19:57:20] SMILES Parse Error: Failed parsing SMILES 'C(C)=O)[C@]l1c1ccccc(O)c1)(=O)[C@H]1CCc2cn2ccccco2)S1(C)=O\n",
      "CCOc1ccc2c(cccc2c(n1)CC(=O)C(c1cscnc()n1)c' for input: 'C(C)=O)[C@]l1c1ccccc(O)c1)(=O)[C@H]1CCc2cn2ccccco2)S1(C)=O\n",
      "CCOc1ccc2c(cccc2c(n1)CC(=O)C(c1cscnc()n1)c'\n",
      " 94%|█████████████████████████████████████▊  | 945/1000 [09:53<00:29,  1.84it/s][19:57:20] SMILES Parse Error: syntax error while parsing: C@H]1c1cccc(O)nc1)NC\n",
      "CC(=O)C1=C(C)NC(=S(N)(=O)=[nCCc1cccnc1)(c1cccc(F)ccc4cc(=Or)n1)N(CC(=O)O)C(=O\n",
      "CC\n",
      "[19:57:20] SMILES Parse Error: Failed parsing SMILES 'C@H]1c1cccc(O)nc1)NC\n",
      "CC(=O)C1=C(C)NC(=S(N)(=O)=[nCCc1cccnc1)(c1cccc(F)ccc4cc(=Or)n1)N(CC(=O)O)C(=O\n",
      "CC' for input: 'C@H]1c1cccc(O)nc1)NC\n",
      "CC(=O)C1=C(C)NC(=S(N)(=O)=[nCCc1cccnc1)(c1cccc(F)ccc4cc(=Or)n1)N(CC(=O)O)C(=O\n",
      "CC'\n",
      " 95%|█████████████████████████████████████▊  | 946/1000 [09:53<00:28,  1.87it/s][19:57:21] SMILES Parse Error: unclosed ring for input: 'C(c2cconc2)S1(=O)=CC(=O)C1CC1C\n",
      "CCC1(CCCCO)c1ccccc2nc4cccccc)cc1)nc1ccncc(F)(C)c1ccccsc1)(c1)nsc(C)n1c'\n",
      " 95%|█████████████████████████████████████▉  | 947/1000 [09:54<00:29,  1.82it/s][19:57:21] SMILES Parse Error: extra close parentheses while parsing: Cc1cn(C(=O)O)ccc2nn(C)Cc1ccsc(N(C)=O)nc2c1)c1cccccc1)n1cccc(F)cc1)S(=O)(=O)CC1c1ccccc(O)n1Cc1ccccc(F)\n",
      "[19:57:21] SMILES Parse Error: Failed parsing SMILES 'Cc1cn(C(=O)O)ccc2nn(C)Cc1ccsc(N(C)=O)nc2c1)c1cccccc1)n1cccc(F)cc1)S(=O)(=O)CC1c1ccccc(O)n1Cc1ccccc(F)' for input: 'Cc1cn(C(=O)O)ccc2nn(C)Cc1ccsc(N(C)=O)nc2c1)c1cccccc1)n1cccc(F)cc1)S(=O)(=O)CC1c1ccccc(O)n1Cc1ccccc(F)'\n",
      " 95%|█████████████████████████████████████▉  | 948/1000 [09:55<00:30,  1.68it/s][19:57:22] SMILES Parse Error: extra close parentheses while parsing: C/c3cccs3)CO[C@H]2)cc1\n",
      "CCC(=O)C1=C(C)NC(=O)NC[C@H]1c2cccc(O)cc2nc(n2)c(c(=O)nnccc1)c1cc(Br)cccc1)c1nc\n",
      "[19:57:22] SMILES Parse Error: Failed parsing SMILES 'C/c3cccs3)CO[C@H]2)cc1\n",
      "CCC(=O)C1=C(C)NC(=O)NC[C@H]1c2cccc(O)cc2nc(n2)c(c(=O)nnccc1)c1cc(Br)cccc1)c1nc' for input: 'C/c3cccs3)CO[C@H]2)cc1\n",
      "CCC(=O)C1=C(C)NC(=O)NC[C@H]1c2cccc(O)cc2nc(n2)c(c(=O)nnccc1)c1cc(Br)cccc1)c1nc'\n",
      " 95%|█████████████████████████████████████▉  | 949/1000 [09:55<00:29,  1.76it/s][19:57:23] SMILES Parse Error: extra close parentheses while parsing: C)[O-])n1Cc1ccccc1CCCO2\n",
      "CCCCO1)C(=O)C1Cc1cccccc1)n1c(ccccccc1(C)c1ccncc1)c1ccc(F)ccc1)n1Cccnc(O)nn1)c\n",
      "[19:57:23] SMILES Parse Error: Failed parsing SMILES 'C)[O-])n1Cc1ccccc1CCCO2\n",
      "CCCCO1)C(=O)C1Cc1cccccc1)n1c(ccccccc1(C)c1ccncc1)c1ccc(F)ccc1)n1Cccnc(O)nn1)c' for input: 'C)[O-])n1Cc1ccccc1CCCO2\n",
      "CCCCO1)C(=O)C1Cc1cccccc1)n1c(ccccccc1(C)c1ccncc1)c1ccc(F)ccc1)n1Cccnc(O)nn1)c'\n",
      " 95%|██████████████████████████████████████  | 950/1000 [09:56<00:29,  1.70it/s][19:57:23] SMILES Parse Error: extra close parentheses while parsing: COC3)n1C\n",
      "CC1=C(C(=O3)CC[SC@H]1c1cccccBr)nc2c1Cc2sc(O)nc(Br)cc1F)c1cccsc1\n",
      "CC(=O)SCN1CCCC1)=N=C(C=C/C=C\n",
      "[19:57:23] SMILES Parse Error: Failed parsing SMILES 'COC3)n1C\n",
      "CC1=C(C(=O3)CC[SC@H]1c1cccccBr)nc2c1Cc2sc(O)nc(Br)cc1F)c1cccsc1\n",
      "CC(=O)SCN1CCCC1)=N=C(C=C/C=C' for input: 'COC3)n1C\n",
      "CC1=C(C(=O3)CC[SC@H]1c1cccccBr)nc2c1Cc2sc(O)nc(Br)cc1F)c1cccsc1\n",
      "CC(=O)SCN1CCCC1)=N=C(C=C/C=C'\n",
      " 95%|██████████████████████████████████████  | 951/1000 [09:56<00:28,  1.74it/s][19:57:24] SMILES Parse Error: extra close parentheses while parsing: C(c1ccccnn1)c1ncc(Br)ccn1)CCc1sccn(C)c2cccc(O)cc1n1Cc1ccc(Br)ccn1)N(C)Oc2cnc(C)coc2c(=O)CC1cccnc1C)C(\n",
      "[19:57:24] SMILES Parse Error: Failed parsing SMILES 'C(c1ccccnn1)c1ncc(Br)ccn1)CCc1sccn(C)c2cccc(O)cc1n1Cc1ccc(Br)ccn1)N(C)Oc2cnc(C)coc2c(=O)CC1cccnc1C)C(' for input: 'C(c1ccccnn1)c1ncc(Br)ccn1)CCc1sccn(C)c2cccc(O)cc1n1Cc1ccc(Br)ccn1)N(C)Oc2cnc(C)coc2c(=O)CC1cccnc1C)C('\n",
      " 95%|██████████████████████████████████████  | 952/1000 [09:57<00:28,  1.70it/s][19:57:24] SMILES Parse Error: extra close parentheses while parsing: C(=O)C1=N(C(=O)Cc1cccnc1)n1ccccc(c2)c1ccccncc12CCCc1cncc(C)(S)nn2)c1ccc(F)cncc1)c1ccccc(O)cc1)c1ncccc\n",
      "[19:57:24] SMILES Parse Error: Failed parsing SMILES 'C(=O)C1=N(C(=O)Cc1cccnc1)n1ccccc(c2)c1ccccncc12CCCc1cncc(C)(S)nn2)c1ccc(F)cncc1)c1ccccc(O)cc1)c1ncccc' for input: 'C(=O)C1=N(C(=O)Cc1cccnc1)n1ccccc(c2)c1ccccncc12CCCc1cncc(C)(S)nn2)c1ccc(F)cncc1)c1ccccc(O)cc1)c1ncccc'\n",
      " 95%|██████████████████████████████████████  | 953/1000 [09:57<00:25,  1.81it/s][19:57:25] SMILES Parse Error: extra close parentheses while parsing: CcN2c(ccnc2)S(=O)n1ccccc1)C1c1cccc(O)n1)c1cccccc1)n1ccc(n-c2ccc(Br)nc(N)c2ccscc2Cl)CC1CCO\n",
      "CC1=NN2c3cc\n",
      "[19:57:25] SMILES Parse Error: Failed parsing SMILES 'CcN2c(ccnc2)S(=O)n1ccccc1)C1c1cccc(O)n1)c1cccccc1)n1ccc(n-c2ccc(Br)nc(N)c2ccscc2Cl)CC1CCO\n",
      "CC1=NN2c3cc' for input: 'CcN2c(ccnc2)S(=O)n1ccccc1)C1c1cccc(O)n1)c1cccccc1)n1ccc(n-c2ccc(Br)nc(N)c2ccscc2Cl)CC1CCO\n",
      "CC1=NN2c3cc'\n",
      " 95%|██████████████████████████████████████▏ | 954/1000 [09:58<00:26,  1.73it/s][19:57:25] SMILES Parse Error: syntax error while parsing: C(=O)C1=NN(4(C)C)C1C)(c1cccccc1))n1Cc1cccc(F)cc1)n1cccc(F)cc(F)c1)S1(C)=O\n",
      "CCCCN1CCc2c2cccc(F)c2onc(C)\n",
      "[19:57:25] SMILES Parse Error: Failed parsing SMILES 'C(=O)C1=NN(4(C)C)C1C)(c1cccccc1))n1Cc1cccc(F)cc1)n1cccc(F)cc(F)c1)S1(C)=O\n",
      "CCCCN1CCc2c2cccc(F)c2onc(C)' for input: 'C(=O)C1=NN(4(C)C)C1C)(c1cccccc1))n1Cc1cccc(F)cc1)n1cccc(F)cc(F)c1)S1(C)=O\n",
      "CCCCN1CCc2c2cccc(F)c2onc(C)'\n",
      " 96%|██████████████████████████████████████▏ | 955/1000 [09:59<00:24,  1.81it/s][19:57:26] SMILES Parse Error: syntax error while parsing: C\\CN(C)C1=NN(C(=O)C(C)(c2cccccc3O)nH1\n",
      "CCC(=O)N1NC=C(c2c(O)ncnc()()c2ccc(=O)no2)n1)=c1cccc(Br)cccc1ncn\n",
      "[19:57:26] SMILES Parse Error: Failed parsing SMILES 'C\\CN(C)C1=NN(C(=O)C(C)(c2cccccc3O)nH1\n",
      "CCC(=O)N1NC=C(c2c(O)ncnc()()c2ccc(=O)no2)n1)=c1cccc(Br)cccc1ncn' for input: 'C\\CN(C)C1=NN(C(=O)C(C)(c2cccccc3O)nH1\n",
      "CCC(=O)N1NC=C(c2c(O)ncnc()()c2ccc(=O)no2)n1)=c1cccc(Br)cccc1ncn'\n",
      " 96%|██████████████████████████████████████▏ | 956/1000 [09:59<00:24,  1.78it/s][19:57:26] SMILES Parse Error: extra close parentheses while parsing: C)c(c1)N[C@H]2c1cccccc(O)c(C1)n1ccccc()c1)n1ncc(O)c(N)=ccc(=O)no1)cccc1C\n",
      "CC1scccc3c2c(C(C)=O)CC1=O)C1\n",
      "[19:57:26] SMILES Parse Error: Failed parsing SMILES 'C)c(c1)N[C@H]2c1cccccc(O)c(C1)n1ccccc()c1)n1ncc(O)c(N)=ccc(=O)no1)cccc1C\n",
      "CC1scccc3c2c(C(C)=O)CC1=O)C1' for input: 'C)c(c1)N[C@H]2c1cccccc(O)c(C1)n1ccccc()c1)n1ncc(O)c(N)=ccc(=O)no1)cccc1C\n",
      "CC1scccc3c2c(C(C)=O)CC1=O)C1'\n",
      " 96%|██████████████████████████████████████▎ | 957/1000 [10:00<00:23,  1.87it/s][19:57:27] SMILES Parse Error: extra close parentheses while parsing: C[C@@]1(c)c[nH]c1cccccc1)SC(C(F)(F)=O)[C@H]1c1ccccn1C\n",
      "CCC(c1nccncc2c1)C(=O)=C1Cc1ccccc(F)c1)[nH]c1ccc\n",
      "[19:57:27] SMILES Parse Error: Failed parsing SMILES 'C[C@@]1(c)c[nH]c1cccccc1)SC(C(F)(F)=O)[C@H]1c1ccccn1C\n",
      "CCC(c1nccncc2c1)C(=O)=C1Cc1ccccc(F)c1)[nH]c1ccc' for input: 'C[C@@]1(c)c[nH]c1cccccc1)SC(C(F)(F)=O)[C@H]1c1ccccn1C\n",
      "CCC(c1nccncc2c1)C(=O)=C1Cc1ccccc(F)c1)[nH]c1ccc'\n",
      " 96%|██████████████████████████████████████▎ | 958/1000 [10:00<00:23,  1.83it/s][19:57:28] SMILES Parse Error: extra close parentheses while parsing: C#NC(=O)/C(=S)=CCC1=NN(c2ccc(C)cc3cccccn3)C2=O)nsc2c1cccccc2c1cccccccncc1)(c1(S)n2cc(C)ncc2nc(CCc3c(c\n",
      "[19:57:28] SMILES Parse Error: Failed parsing SMILES 'C#NC(=O)/C(=S)=CCC1=NN(c2ccc(C)cc3cccccn3)C2=O)nsc2c1cccccc2c1cccccccncc1)(c1(S)n2cc(C)ncc2nc(CCc3c(c' for input: 'C#NC(=O)/C(=S)=CCC1=NN(c2ccc(C)cc3cccccn3)C2=O)nsc2c1cccccc2c1cccccccncc1)(c1(S)n2cc(C)ncc2nc(CCc3c(c'\n",
      " 96%|██████████████████████████████████████▎ | 959/1000 [10:01<00:22,  1.82it/s][19:57:28] SMILES Parse Error: extra close parentheses while parsing: Co1)C(=O)c1ccc(OC(F)(F)F)ccc1)n1cccnccc(nc1)c1ccccc(F)cc1)N(CCCCO)C\n",
      "CCC(c1cccc(O)c3)CC2)n1cccc(ssc(F)\n",
      "[19:57:28] SMILES Parse Error: Failed parsing SMILES 'Co1)C(=O)c1ccc(OC(F)(F)F)ccc1)n1cccnccc(nc1)c1ccccc(F)cc1)N(CCCCO)C\n",
      "CCC(c1cccc(O)c3)CC2)n1cccc(ssc(F)' for input: 'Co1)C(=O)c1ccc(OC(F)(F)F)ccc1)n1cccnccc(nc1)c1ccccc(F)cc1)N(CCCCO)C\n",
      "CCC(c1cccc(O)c3)CC2)n1cccc(ssc(F)'\n",
      " 96%|██████████████████████████████████████▍ | 960/1000 [10:01<00:21,  1.84it/s][19:57:29] SMILES Parse Error: extra close parentheses while parsing: C1CCC(O1)c1ccccc(Cl)cn1)C1c1cccccOc1)c1nccc(F)cc1nncncn1)c1ccccc(I)C(F)(F)F)n1c1cccncc1)nc1ccccccc2c1\n",
      "[19:57:29] SMILES Parse Error: Failed parsing SMILES 'C1CCC(O1)c1ccccc(Cl)cn1)C1c1cccccOc1)c1nccc(F)cc1nncncn1)c1ccccc(I)C(F)(F)F)n1c1cccncc1)nc1ccccccc2c1' for input: 'C1CCC(O1)c1ccccc(Cl)cn1)C1c1cccccOc1)c1nccc(F)cc1nncncn1)c1ccccc(I)C(F)(F)F)n1c1cccncc1)nc1ccccccc2c1'\n",
      " 96%|██████████████████████████████████████▍ | 961/1000 [10:02<00:22,  1.77it/s][19:57:29] SMILES Parse Error: extra close parentheses while parsing: C)=O)CC1)c1ccccc(N)n1cccc(Br)(F)ccc1)n1cccc(B)(F)cc1)n1ccccc(c((F)(C)(O)nc1)c1ccccccc1ncc(c1)nc1cccc(\n",
      "[19:57:29] SMILES Parse Error: Failed parsing SMILES 'C)=O)CC1)c1ccccc(N)n1cccc(Br)(F)ccc1)n1cccc(B)(F)cc1)n1ccccc(c((F)(C)(O)nc1)c1ccccccc1ncc(c1)nc1cccc(' for input: 'C)=O)CC1)c1ccccc(N)n1cccc(Br)(F)ccc1)n1cccc(B)(F)cc1)n1ccccc(c((F)(C)(O)nc1)c1ccccccc1ncc(c1)nc1cccc('\n",
      " 96%|██████████████████████████████████████▍ | 962/1000 [10:03<00:23,  1.61it/s][19:57:30] SMILES Parse Error: extra close parentheses while parsing: C(Br)(c3csccc4c1)NC[C@H]1c1ccccc(O)n1Cc1cccsc1)n1ccc(Br)ccc1)c1cccc(F)(c1cncc(O)nc2c(c(O)(=O)[nH]1)c1\n",
      "[19:57:30] SMILES Parse Error: Failed parsing SMILES 'C(Br)(c3csccc4c1)NC[C@H]1c1ccccc(O)n1Cc1cccsc1)n1ccc(Br)ccc1)c1cccc(F)(c1cncc(O)nc2c(c(O)(=O)[nH]1)c1' for input: 'C(Br)(c3csccc4c1)NC[C@H]1c1ccccc(O)n1Cc1cccsc1)n1ccc(Br)ccc1)c1cccc(F)(c1cncc(O)nc2c(c(O)(=O)[nH]1)c1'\n",
      " 96%|██████████████████████████████████████▌ | 963/1000 [10:03<00:21,  1.70it/s][19:57:31] SMILES Parse Error: extra close parentheses while parsing: C(F)C1)c1cccc-c1nccnc()c1)[nH]1)[nH]n12)[(nH]1c1ccc(O)ccc1O)c1cccc(O)nc1)c1cccc(F)(F)ccc1)c1nc[nH]n1)\n",
      "[19:57:31] SMILES Parse Error: Failed parsing SMILES 'C(F)C1)c1cccc-c1nccnc()c1)[nH]1)[nH]n12)[(nH]1c1ccc(O)ccc1O)c1cccc(O)nc1)c1cccc(F)(F)ccc1)c1nc[nH]n1)' for input: 'C(F)C1)c1cccc-c1nccnc()c1)[nH]1)[nH]n12)[(nH]1c1ccc(O)ccc1O)c1cccc(O)nc1)c1cccc(F)(F)ccc1)c1nc[nH]n1)'\n",
      " 96%|██████████████████████████████████████▌ | 964/1000 [10:04<00:27,  1.33it/s][19:57:32] SMILES Parse Error: extra close parentheses while parsing: C(=O)NCCOC1=NN(C(=O)c1nccsc1)N2CC(NC(=O)C(C)(C)C)c(c1ncccc(F)c1)n1nccc(Br)cc1)c1cccccc(c(F)(C)(C)(F)F\n",
      "[19:57:32] SMILES Parse Error: Failed parsing SMILES 'C(=O)NCCOC1=NN(C(=O)c1nccsc1)N2CC(NC(=O)C(C)(C)C)c(c1ncccc(F)c1)n1nccc(Br)cc1)c1cccccc(c(F)(C)(C)(F)F' for input: 'C(=O)NCCOC1=NN(C(=O)c1nccsc1)N2CC(NC(=O)C(C)(C)C)c(c1ncccc(F)c1)n1nccc(Br)cc1)c1cccccc(c(F)(C)(C)(F)F'\n",
      " 96%|██████████████████████████████████████▌ | 965/1000 [10:05<00:27,  1.28it/s][19:57:32] SMILES Parse Error: extra close parentheses while parsing: CCOc2cccc(Cl)c2)CC(c2cccccc2)noc1)c1ccccccc2c1CC(C)(C)Oc1cccccc1CC\n",
      "CC1=C[C@@H](N)C(=O)C1)(=O)C=C(C(=O\n",
      "[19:57:32] SMILES Parse Error: Failed parsing SMILES 'CCOc2cccc(Cl)c2)CC(c2cccccc2)noc1)c1ccccccc2c1CC(C)(C)Oc1cccccc1CC\n",
      "CC1=C[C@@H](N)C(=O)C1)(=O)C=C(C(=O' for input: 'CCOc2cccc(Cl)c2)CC(c2cccccc2)noc1)c1ccccccc2c1CC(C)(C)Oc1cccccc1CC\n",
      "CC1=C[C@@H](N)C(=O)C1)(=O)C=C(C(=O'\n",
      " 97%|██████████████████████████████████████▋ | 966/1000 [10:06<00:24,  1.38it/s][19:57:33] SMILES Parse Error: unclosed ring for input: 'C1=NN(C(=O)C(C)(C)C)C(=O)C(=O)c1cccN(C)cc1C\n",
      "CC1=CCC(c2ccccc2)nnc1Cc1ncc[nH]1)c1cccc-c1)c1cccccc1)n1cc'\n",
      " 97%|██████████████████████████████████████▋ | 967/1000 [10:06<00:21,  1.51it/s][19:57:34] SMILES Parse Error: extra close parentheses while parsing: Cl(NC(=O)C(F)(F)C)c1Cc1ccccc(F)cc1)n1cccc(F)(cc1cccccc2)(cc1cccccc)c1)Cc1nccncnn1)c1cccnccc2)ncc(=O)n\n",
      "[19:57:34] SMILES Parse Error: Failed parsing SMILES 'Cl(NC(=O)C(F)(F)C)c1Cc1ccccc(F)cc1)n1cccc(F)(cc1cccccc2)(cc1cccccc)c1)Cc1nccncnn1)c1cccnccc2)ncc(=O)n' for input: 'Cl(NC(=O)C(F)(F)C)c1Cc1ccccc(F)cc1)n1cccc(F)(cc1cccccc2)(cc1cccccc)c1)Cc1nccncnn1)c1cccnccc2)ncc(=O)n'\n",
      " 97%|██████████████████████████████████████▋ | 968/1000 [10:07<00:20,  1.58it/s][19:57:35] SMILES Parse Error: extra close parentheses while parsing: C(c1ccccc(F)(c1)[nH]nc1ccccnc2)n1ccccc2)n1)c1cccccn1)C1(C)CCOc1cccnc1)n1ccccccc2cnc(s2)ncnc(nH)n1)c1c\n",
      "[19:57:35] SMILES Parse Error: Failed parsing SMILES 'C(c1ccccc(F)(c1)[nH]nc1ccccnc2)n1ccccc2)n1)c1cccccn1)C1(C)CCOc1cccnc1)n1ccccccc2cnc(s2)ncnc(nH)n1)c1c' for input: 'C(c1ccccc(F)(c1)[nH]nc1ccccnc2)n1ccccc2)n1)c1cccccn1)C1(C)CCOc1cccnc1)n1ccccccc2cnc(s2)ncnc(nH)n1)c1c'\n",
      " 97%|██████████████████████████████████████▊ | 969/1000 [10:08<00:23,  1.34it/s][19:57:35] SMILES Parse Error: extra close parentheses while parsing: COCCNS(=O)(=O)c1cccc(C)cc1)n1ccc(ncccc2c(=O)n1)c1ccccn1)c1ccccnccc(=O)c1cccc(N)/c(c3ccccc1)nnc(S1)c1c\n",
      "[19:57:35] SMILES Parse Error: Failed parsing SMILES 'COCCNS(=O)(=O)c1cccc(C)cc1)n1ccc(ncccc2c(=O)n1)c1ccccn1)c1ccccnccc(=O)c1cccc(N)/c(c3ccccc1)nnc(S1)c1c' for input: 'COCCNS(=O)(=O)c1cccc(C)cc1)n1ccc(ncccc2c(=O)n1)c1ccccn1)c1ccccnccc(=O)c1cccc(N)/c(c3ccccc1)nnc(S1)c1c'\n",
      " 97%|██████████████████████████████████████▊ | 970/1000 [10:09<00:21,  1.37it/s][19:57:37] SMILES Parse Error: extra close parentheses while parsing: C2)c1-c1cccccc1nccccccc1)c1nccccc1)c1nccc2cccnsc2c1CC(F)(F)C[C@H]1c1ccccc(O)c1F)C(=O)[C@](C)(c1cncc(F\n",
      "[19:57:37] SMILES Parse Error: Failed parsing SMILES 'C2)c1-c1cccccc1nccccccc1)c1nccccc1)c1nccc2cccnsc2c1CC(F)(F)C[C@H]1c1ccccc(O)c1F)C(=O)[C@](C)(c1cncc(F' for input: 'C2)c1-c1cccccc1nccccccc1)c1nccccc1)c1nccc2cccnsc2c1CC(F)(F)C[C@H]1c1ccccc(O)c1F)C(=O)[C@](C)(c1cncc(F'\n",
      " 97%|██████████████████████████████████████▊ | 971/1000 [10:10<00:25,  1.14it/s][19:57:37] SMILES Parse Error: extra close parentheses while parsing: CC)c1cccc(-c1ncncnccNS)ncc1)N(Cc1ccccnc1)c1cccnc(O)nc1)c1ccc(F)cccc1)n1cccccc(cn2ccncc(4)ncc1ccccc1)n\n",
      "[19:57:37] SMILES Parse Error: Failed parsing SMILES 'CC)c1cccc(-c1ncncnccNS)ncc1)N(Cc1ccccnc1)c1cccnc(O)nc1)c1ccc(F)cccc1)n1cccccc(cn2ccncc(4)ncc1ccccc1)n' for input: 'CC)c1cccc(-c1ncncnccNS)ncc1)N(Cc1ccccnc1)c1cccnc(O)nc1)c1ccc(F)cccc1)n1cccccc(cn2ccncc(4)ncc1ccccc1)n'\n",
      " 97%|██████████████████████████████████████▉ | 972/1000 [10:10<00:21,  1.29it/s][19:57:38] SMILES Parse Error: extra close parentheses while parsing: CN)=O)CC1)C1c1cccccc1)nc1cccccccc1ccccc(F)c1)n1cccccc(c)cc1)c1ccc(Br)ccc1)c1ncc(-cFccncc1)c1cccccc(F)\n",
      "[19:57:38] SMILES Parse Error: Failed parsing SMILES 'CN)=O)CC1)C1c1cccccc1)nc1cccccccc1ccccc(F)c1)n1cccccc(c)cc1)c1ccc(Br)ccc1)c1ncc(-cFccncc1)c1cccccc(F)' for input: 'CN)=O)CC1)C1c1cccccc1)nc1cccccccc1ccccc(F)c1)n1cccccc(c)cc1)c1ccc(Br)ccc1)c1ncc(-cFccncc1)c1cccccc(F)'\n",
      " 97%|██████████████████████████████████████▉ | 974/1000 [10:11<00:16,  1.53it/s][19:57:39] SMILES Parse Error: syntax error while parsing: C1ccc(-c2ccn[nH]c2)c1cccHc1ccccc1c1cccccc1)n1cccc(Scncc2c1ncc[nH]2c1)C1(F)C\n",
      "CC(=O)1(c3ccnoc4)cS2)S1(=\n",
      "[19:57:39] SMILES Parse Error: Failed parsing SMILES 'C1ccc(-c2ccn[nH]c2)c1cccHc1ccccc1c1cccccc1)n1cccc(Scncc2c1ncc[nH]2c1)C1(F)C\n",
      "CC(=O)1(c3ccnoc4)cS2)S1(=' for input: 'C1ccc(-c2ccn[nH]c2)c1cccHc1ccccc1c1cccccc1)n1cccc(Scncc2c1ncc[nH]2c1)C1(F)C\n",
      "CC(=O)1(c3ccnoc4)cS2)S1(='\n",
      " 98%|███████████████████████████████████████ | 975/1000 [10:12<00:15,  1.61it/s][19:57:39] SMILES Parse Error: syntax error while parsing: CC@H]2[C@@]1(CO)C(=O)O)C[C@1(C)c1ccccc(F)(F)ccc1)c1ccccc(F)ccc1ncccccc(c1)ccc(cc1)c1nccoc1C)C1ncc(NS(\n",
      "[19:57:39] SMILES Parse Error: Failed parsing SMILES 'CC@H]2[C@@]1(CO)C(=O)O)C[C@1(C)c1ccccc(F)(F)ccc1)c1ccccc(F)ccc1ncccccc(c1)ccc(cc1)c1nccoc1C)C1ncc(NS(' for input: 'CC@H]2[C@@]1(CO)C(=O)O)C[C@1(C)c1ccccc(F)(F)ccc1)c1ccccc(F)ccc1ncccccc(c1)ccc(cc1)c1nccoc1C)C1ncc(NS('\n",
      " 98%|███████████████████████████████████████ | 976/1000 [10:12<00:13,  1.73it/s][19:57:40] SMILES Parse Error: extra close parentheses while parsing: C3)n1)c1nc2ccscc1)n1ccc(=O)nn2C1)c1nccnc(-c)cc1)c1cccncc(F)(F)cc1)c1cccccc(n2)cncc1)c1cccccc(F)Hn1)c1\n",
      "[19:57:40] SMILES Parse Error: Failed parsing SMILES 'C3)n1)c1nc2ccscc1)n1ccc(=O)nn2C1)c1nccnc(-c)cc1)c1cccncc(F)(F)cc1)c1cccccc(n2)cncc1)c1cccccc(F)Hn1)c1' for input: 'C3)n1)c1nc2ccscc1)n1ccc(=O)nn2C1)c1nccnc(-c)cc1)c1cccncc(F)(F)cc1)c1cccccc(n2)cncc1)c1cccccc(F)Hn1)c1'\n",
      " 98%|███████████████████████████████████████ | 977/1000 [10:13<00:13,  1.71it/s][19:57:40] SMILES Parse Error: extra close parentheses while parsing: C)[C@H](O)C(=O)Nc1ccnc(-c2cccnc()n2)n1ccccc(c1)c1cccccc1)(=O)n1cccccc(F)c1)C(=O\n",
      "CCC(c1ccc(N(C)C)sc(O)\n",
      "[19:57:40] SMILES Parse Error: Failed parsing SMILES 'C)[C@H](O)C(=O)Nc1ccnc(-c2cccnc()n2)n1ccccc(c1)c1cccccc1)(=O)n1cccccc(F)c1)C(=O\n",
      "CCC(c1ccc(N(C)C)sc(O)' for input: 'C)[C@H](O)C(=O)Nc1ccnc(-c2cccnc()n2)n1ccccc(c1)c1cccccc1)(=O)n1cccccc(F)c1)C(=O\n",
      "CCC(c1ccc(N(C)C)sc(O)'\n",
      " 98%|███████████████████████████████████████ | 978/1000 [10:14<00:12,  1.73it/s][19:57:41] SMILES Parse Error: extra close parentheses while parsing: CN)C[C@@H]1C1)c1ccccnc1)n1Cc1cccccc1CC\n",
      "CC(C=)Oc1ccc(F)ccc1nc1nccccc2cccc(F)c2nc(n)ccn2)nnc1CC)c1cccc(\n",
      "[19:57:41] SMILES Parse Error: Failed parsing SMILES 'CN)C[C@@H]1C1)c1ccccnc1)n1Cc1cccccc1CC\n",
      "CC(C=)Oc1ccc(F)ccc1nc1nccccc2cccc(F)c2nc(n)ccn2)nnc1CC)c1cccc(' for input: 'CN)C[C@@H]1C1)c1ccccnc1)n1Cc1cccccc1CC\n",
      "CC(C=)Oc1ccc(F)ccc1nc1nccccc2cccc(F)c2nc(n)ccn2)nnc1CC)c1cccc('\n",
      " 98%|███████████████████████████████████████▏| 979/1000 [10:14<00:12,  1.71it/s][19:57:41] SMILES Parse Error: extra close parentheses while parsing: CNC[C@H]1F)C(=O)C1C)c1cccccc1\n",
      "CCC(c1cccccn1)Sn1ccccnc(O)nc1)c1ccccccc1)CC(F)(F)F)C(=O)=1\n",
      "CC1=C(C(=O)C\n",
      "[19:57:41] SMILES Parse Error: Failed parsing SMILES 'CNC[C@H]1F)C(=O)C1C)c1cccccc1\n",
      "CCC(c1cccccn1)Sn1ccccnc(O)nc1)c1ccccccc1)CC(F)(F)F)C(=O)=1\n",
      "CC1=C(C(=O)C' for input: 'CNC[C@H]1F)C(=O)C1C)c1cccccc1\n",
      "CCC(c1cccccn1)Sn1ccccnc(O)nc1)c1ccccccc1)CC(F)(F)F)C(=O)=1\n",
      "CC1=C(C(=O)C'\n",
      " 98%|███████████████████████████████████████▏| 980/1000 [10:15<00:11,  1.73it/s][19:57:42] SMILES Parse Error: extra close parentheses while parsing: C1=N[C@@H]2C[C@@H]1c1ccccn1)C(=O)c1cccc(O)cc1)C(F)(F)=O)n1-c1ccccc(S(N)(=O)=O)c1)N2Cc1cc(F)ccc1)(nccc\n",
      "[19:57:42] SMILES Parse Error: Failed parsing SMILES 'C1=N[C@@H]2C[C@@H]1c1ccccn1)C(=O)c1cccc(O)cc1)C(F)(F)=O)n1-c1ccccc(S(N)(=O)=O)c1)N2Cc1cc(F)ccc1)(nccc' for input: 'C1=N[C@@H]2C[C@@H]1c1ccccn1)C(=O)c1cccc(O)cc1)C(F)(F)=O)n1-c1ccccc(S(N)(=O)=O)c1)N2Cc1cc(F)ccc1)(nccc'\n",
      " 98%|███████████████████████████████████████▏| 981/1000 [10:15<00:11,  1.70it/s][19:57:43] SMILES Parse Error: syntax error while parsing: C@]2(c3ccccc4)O)nc2)n3ccccc3nC3NC(C)=O)ncs2)n1Cc1ccccc1)(n1)c1ncc(C)ccc(S)nH]1)c1nnccnc2c3ccc(F)cc(F)\n",
      "[19:57:43] SMILES Parse Error: Failed parsing SMILES 'C@]2(c3ccccc4)O)nc2)n3ccccc3nC3NC(C)=O)ncs2)n1Cc1ccccc1)(n1)c1ncc(C)ccc(S)nH]1)c1nnccnc2c3ccc(F)cc(F)' for input: 'C@]2(c3ccccc4)O)nc2)n3ccccc3nC3NC(C)=O)ncs2)n1Cc1ccccc1)(n1)c1ncc(C)ccc(S)nH]1)c1nnccnc2c3ccc(F)cc(F)'\n",
      " 98%|███████████████████████████████████████▎| 982/1000 [10:16<00:10,  1.69it/s][19:57:43] SMILES Parse Error: extra close parentheses while parsing: COc2cccc(N3CCOCC3)nc2C)Cc2ccc(ncnc()nc2)c1S(C)(=O)=O\n",
      "CCC(c1cccscn1)n1nc(-c3cc(F)ccc3OC[C@H](O)c2ccccc\n",
      "[19:57:43] SMILES Parse Error: Failed parsing SMILES 'COc2cccc(N3CCOCC3)nc2C)Cc2ccc(ncnc()nc2)c1S(C)(=O)=O\n",
      "CCC(c1cccscn1)n1nc(-c3cc(F)ccc3OC[C@H](O)c2ccccc' for input: 'COc2cccc(N3CCOCC3)nc2C)Cc2ccc(ncnc()nc2)c1S(C)(=O)=O\n",
      "CCC(c1cccscn1)n1nc(-c3cc(F)ccc3OC[C@H](O)c2ccccc'\n",
      " 98%|███████████████████████████████████████▎| 983/1000 [10:16<00:09,  1.77it/s][19:57:44] SMILES Parse Error: extra close parentheses while parsing: C(=O)CC1)c1ccccccc1)C(=O)c1sccnn1Cc1ccccccc1ccccc1)c1)c1nccc(N(C)C)nc1)(c1ccccccc1)n1cccnc1)n1cccccc1\n",
      "[19:57:44] SMILES Parse Error: Failed parsing SMILES 'C(=O)CC1)c1ccccccc1)C(=O)c1sccnn1Cc1ccccccc1ccccc1)c1)c1nccc(N(C)C)nc1)(c1ccccccc1)n1cccnc1)n1cccccc1' for input: 'C(=O)CC1)c1ccccccc1)C(=O)c1sccnn1Cc1ccccccc1ccccc1)c1)c1nccc(N(C)C)nc1)(c1ccccccc1)n1cccnc1)n1cccccc1'\n",
      " 98%|███████████████████████████████████████▎| 984/1000 [10:17<00:08,  1.85it/s][19:57:44] SMILES Parse Error: syntax error while parsing: C(=1)NC1=NN(C(=O)=O)=N1C(C)=O)C(=O)[C)n1)C1(c1cccccc(F)cc1)c1nscnc(1)c1ccccc(cH(C)CO)cc1ccccccnc1)n1c\n",
      "[19:57:44] SMILES Parse Error: Failed parsing SMILES 'C(=1)NC1=NN(C(=O)=O)=N1C(C)=O)C(=O)[C)n1)C1(c1cccccc(F)cc1)c1nscnc(1)c1ccccc(cH(C)CO)cc1ccccccnc1)n1c' for input: 'C(=1)NC1=NN(C(=O)=O)=N1C(C)=O)C(=O)[C)n1)C1(c1cccccc(F)cc1)c1nscnc(1)c1ccccc(cH(C)CO)cc1ccccccnc1)n1c'\n",
      " 98%|███████████████████████████████████████▍| 985/1000 [10:17<00:08,  1.82it/s][19:57:45] SMILES Parse Error: extra close parentheses while parsing: C)(c3ccc(OC(C)(C)C)ccHnc2)nc2c)=c1nccnc(n)c1)(c1cccc(O)nc(\\)CO)n1)c1cccccc1)(c1ccccccc(O)(c2)CC1)c1cc\n",
      "[19:57:45] SMILES Parse Error: Failed parsing SMILES 'C)(c3ccc(OC(C)(C)C)ccHnc2)nc2c)=c1nccnc(n)c1)(c1cccc(O)nc(\\)CO)n1)c1cccccc1)(c1ccccccc(O)(c2)CC1)c1cc' for input: 'C)(c3ccc(OC(C)(C)C)ccHnc2)nc2c)=c1nccnc(n)c1)(c1cccc(O)nc(\\)CO)n1)c1cccccc1)(c1ccccccc(O)(c2)CC1)c1cc'\n",
      " 99%|███████████████████████████████████████▍| 986/1000 [10:18<00:07,  1.79it/s][19:57:45] SMILES Parse Error: ring closure 1 duplicates bond between atom 1 and atom 2 for input: 'C[C@H]1c1\n",
      "CCC(c1cccccn1)C(=O)c1cccco1)c1ccccc(+(nH(C)c1nccnc()c(c1)n[nH]1)c1cccccc(()(O)c1ccccs1)ncc1'\n",
      " 99%|███████████████████████████████████████▍| 987/1000 [10:19<00:07,  1.84it/s][19:57:46] SMILES Parse Error: syntax error while parsing: C@H](O1)c1cccc(O)nc2c1=NS[CCOc1ccccnc1)c1ccccc(O)c3cc(Br)cccncn1)c1cccc(F)ccc2n1Cc1cccnc(O)c3c(c)ccc[\n",
      "[19:57:46] SMILES Parse Error: Failed parsing SMILES 'C@H](O1)c1cccc(O)nc2c1=NS[CCOc1ccccnc1)c1ccccc(O)c3cc(Br)cccncn1)c1cccc(F)ccc2n1Cc1cccnc(O)c3c(c)ccc[' for input: 'C@H](O1)c1cccc(O)nc2c1=NS[CCOc1ccccnc1)c1ccccc(O)c3cc(Br)cccncn1)c1cccc(F)ccc2n1Cc1cccnc(O)c3c(c)ccc['\n",
      " 99%|███████████████████████████████████████▌| 988/1000 [10:19<00:06,  1.88it/s][19:57:46] SMILES Parse Error: extra close parentheses while parsing: C(=O)C(C)(C)[C@H]2Cc3c(F)CCC3(c3ccOCCOC)=O)ccc21)CC(F)(F)F)N1C(C)=C(=O)C(CC)c1cccccc1)n1cccccc(c1)n1c\n",
      "[19:57:46] SMILES Parse Error: Failed parsing SMILES 'C(=O)C(C)(C)[C@H]2Cc3c(F)CCC3(c3ccOCCOC)=O)ccc21)CC(F)(F)F)N1C(C)=C(=O)C(CC)c1cccccc1)n1cccccc(c1)n1c' for input: 'C(=O)C(C)(C)[C@H]2Cc3c(F)CCC3(c3ccOCCOC)=O)ccc21)CC(F)(F)F)N1C(C)=C(=O)C(CC)c1cccccc1)n1cccccc(c1)n1c'\n",
      " 99%|███████████████████████████████████████▌| 989/1000 [10:20<00:05,  1.92it/s][19:57:47] SMILES Parse Error: extra close parentheses while parsing: CCO2)c2=N\n",
      "CC(=O)C1=N(C(=O)Nc2ccc(F)c(Cl)c2)C(C)(F)C\n",
      "CC(=O)C1=N[C@@H]2c1ccccn1)c1ncnc(C)(c2ccccc()c2N1\n",
      "[19:57:47] SMILES Parse Error: Failed parsing SMILES 'CCO2)c2=N\n",
      "CC(=O)C1=N(C(=O)Nc2ccc(F)c(Cl)c2)C(C)(F)C\n",
      "CC(=O)C1=N[C@@H]2c1ccccn1)c1ncnc(C)(c2ccccc()c2N1' for input: 'CCO2)c2=N\n",
      "CC(=O)C1=N(C(=O)Nc2ccc(F)c(Cl)c2)C(C)(F)C\n",
      "CC(=O)C1=N[C@@H]2c1ccccn1)c1ncnc(C)(c2ccccc()c2N1'\n",
      " 99%|███████████████████████████████████████▌| 990/1000 [10:20<00:05,  1.96it/s][19:57:47] SMILES Parse Error: extra close parentheses while parsing: C)=O)C1=C(C)[C@H](c1ccnc)n1)c1cccccc1F)n1ccc(=O)nccc1)c1ccccc(F)cc1)n1cccc(Br)cc(Br)cn1)c1cccccc1)n1c\n",
      "[19:57:47] SMILES Parse Error: Failed parsing SMILES 'C)=O)C1=C(C)[C@H](c1ccnc)n1)c1cccccc1F)n1ccc(=O)nccc1)c1ccccc(F)cc1)n1cccc(Br)cc(Br)cn1)c1cccccc1)n1c' for input: 'C)=O)C1=C(C)[C@H](c1ccnc)n1)c1cccccc1F)n1ccc(=O)nccc1)c1ccccc(F)cc1)n1cccc(Br)cc(Br)cn1)c1cccccc1)n1c'\n",
      " 99%|███████████████████████████████████████▋| 991/1000 [10:21<00:04,  1.97it/s][19:57:48] SMILES Parse Error: extra close parentheses while parsing: C1c1cccccc1)N[C@@H]1c1cccnc1C)CCO2\n",
      "CCC(c1c2ccccc2nnnc1)c1ccccc(F)cc1)c1cccc(O)(cC)ccF)c1)(=O)C(=O)n1c\n",
      "[19:57:48] SMILES Parse Error: Failed parsing SMILES 'C1c1cccccc1)N[C@@H]1c1cccnc1C)CCO2\n",
      "CCC(c1c2ccccc2nnnc1)c1ccccc(F)cc1)c1cccc(O)(cC)ccF)c1)(=O)C(=O)n1c' for input: 'C1c1cccccc1)N[C@@H]1c1cccnc1C)CCO2\n",
      "CCC(c1c2ccccc2nnnc1)c1ccccc(F)cc1)c1cccc(O)(cC)ccF)c1)(=O)C(=O)n1c'\n",
      " 99%|███████████████████████████████████████▋| 992/1000 [10:21<00:04,  1.99it/s][19:57:48] SMILES Parse Error: extra close parentheses while parsing: C/c3ccc(C)ccn34)ncc2=c[nH]nc1nc(NC(OC(C)=O)sc1ccccc(C)Oc1)ncc(()(F)(C)O)ccc1)nnc1c(=O)CCc1cccccc1)ccc\n",
      "[19:57:48] SMILES Parse Error: Failed parsing SMILES 'C/c3ccc(C)ccn34)ncc2=c[nH]nc1nc(NC(OC(C)=O)sc1ccccc(C)Oc1)ncc(()(F)(C)O)ccc1)nnc1c(=O)CCc1cccccc1)ccc' for input: 'C/c3ccc(C)ccn34)ncc2=c[nH]nc1nc(NC(OC(C)=O)sc1ccccc(C)Oc1)ncc(()(F)(C)O)ccc1)nnc1c(=O)CCc1cccccc1)ccc'\n",
      " 99%|███████████████████████████████████████▋| 993/1000 [10:22<00:03,  1.95it/s][19:57:49] SMILES Parse Error: extra close parentheses while parsing: C(=O)C1=C(C)CCO1)NC(=O)c1cc(Br)cccc1C)C(=O)n1Cc(ccc(Br)ccc1)(F)(C)OC\n",
      "CCC(c1c1)C(=O)C(=O)C(=O)c1ccc(-c\n",
      "[19:57:49] SMILES Parse Error: Failed parsing SMILES 'C(=O)C1=C(C)CCO1)NC(=O)c1cc(Br)cccc1C)C(=O)n1Cc(ccc(Br)ccc1)(F)(C)OC\n",
      "CCC(c1c1)C(=O)C(=O)C(=O)c1ccc(-c' for input: 'C(=O)C1=C(C)CCO1)NC(=O)c1cc(Br)cccc1C)C(=O)n1Cc(ccc(Br)ccc1)(F)(C)OC\n",
      "CCC(c1c1)C(=O)C(=O)C(=O)c1ccc(-c'\n",
      " 99%|███████████████████████████████████████▊| 994/1000 [10:22<00:03,  1.64it/s][19:57:50] SMILES Parse Error: syntax error while parsing: C(=O)S1CC(=OCCOC=)[C@@]1(c1cccc2)n1ccccc(F)cc1)N(C[C@@H]3OCCCC1n1ccccnc1)n1ncc(-c)cc(NS()(=O)=O)nc2C)\n",
      "[19:57:50] SMILES Parse Error: Failed parsing SMILES 'C(=O)S1CC(=OCCOC=)[C@@]1(c1cccc2)n1ccccc(F)cc1)N(C[C@@H]3OCCCC1n1ccccnc1)n1ncc(-c)cc(NS()(=O)=O)nc2C)' for input: 'C(=O)S1CC(=OCCOC=)[C@@]1(c1cccc2)n1ccccc(F)cc1)N(C[C@@H]3OCCCC1n1ccccnc1)n1ncc(-c)cc(NS()(=O)=O)nc2C)'\n",
      "100%|███████████████████████████████████████▊| 995/1000 [10:23<00:03,  1.63it/s][19:57:50] SMILES Parse Error: extra close parentheses while parsing: C21c1cccc(O)c1ccccc(O)n1)c1cccccc(O)c1)c1ccccc(O)(C)c1ccccc(Br)cc1nccccc1cccccc1c(cccccc2c1(C)(=O)OC(\n",
      "[19:57:50] SMILES Parse Error: Failed parsing SMILES 'C21c1cccc(O)c1ccccc(O)n1)c1cccccc(O)c1)c1ccccc(O)(C)c1ccccc(Br)cc1nccccc1cccccc1c(cccccc2c1(C)(=O)OC(' for input: 'C21c1cccc(O)c1ccccc(O)n1)c1cccccc(O)c1)c1ccccc(O)(C)c1ccccc(Br)cc1nccccc1cccccc1c(cccccc2c1(C)(=O)OC('\n",
      "100%|███████████████████████████████████████▊| 996/1000 [10:24<00:02,  1.73it/s][19:57:51] SMILES Parse Error: unclosed ring for input: 'C(=S)N1C\n",
      "CCC(c1ccccc1Cn2cccccc2)N(C)CC\n",
      "C1=C(C(=O)C2=C(=OF)CC1)c1ccccnc2)n1cccccccc1ccccc1)nc1cccccccc'\n",
      "100%|███████████████████████████████████████▉| 997/1000 [10:24<00:01,  1.81it/s][19:57:51] SMILES Parse Error: extra close parentheses while parsing: C(c2cc(F)ccc2F)[C@@]2(c3cccc(O)c3)CC1c1ccccc(O)c3cccnc2)c1ncccc(O)n1nc2ccc(F)ccc2c(=O)n1)[nHo1ccc(C)c\n",
      "[19:57:51] SMILES Parse Error: Failed parsing SMILES 'C(c2cc(F)ccc2F)[C@@]2(c3cccc(O)c3)CC1c1ccccc(O)c3cccnc2)c1ncccc(O)n1nc2ccc(F)ccc2c(=O)n1)[nHo1ccc(C)c' for input: 'C(c2cc(F)ccc2F)[C@@]2(c3cccc(O)c3)CC1c1ccccc(O)c3cccnc2)c1ncccc(O)n1nc2ccc(F)ccc2c(=O)n1)[nHo1ccc(C)c'\n",
      "100%|███████████████████████████████████████▉| 998/1000 [10:24<00:01,  1.91it/s][19:57:52] SMILES Parse Error: extra close parentheses while parsing: Cl)c3)CS1\n",
      "CCS(=O)(=O)C1=[N-CCNCCC#c1ccccc(O)c1)N2\n",
      "CC1=C(C(=O)C(C)(C)C(=O)C1=NN(C(=O)C(=O)C(=O)/C(=C/c\n",
      "[19:57:52] SMILES Parse Error: Failed parsing SMILES 'Cl)c3)CS1\n",
      "CCS(=O)(=O)C1=[N-CCNCCC#c1ccccc(O)c1)N2\n",
      "CC1=C(C(=O)C(C)(C)C(=O)C1=NN(C(=O)C(=O)C(=O)/C(=C/c' for input: 'Cl)c3)CS1\n",
      "CCS(=O)(=O)C1=[N-CCNCCC#c1ccccc(O)c1)N2\n",
      "CC1=C(C(=O)C(C)(C)C(=O)C1=NN(C(=O)C(=O)C(=O)/C(=C/c'\n",
      "100%|███████████████████████████████████████▉| 999/1000 [10:25<00:00,  1.97it/s][19:57:52] SMILES Parse Error: extra close parentheses while parsing: C1NC(=O)C(=O)c1ccccnc1)c1cc1cccccc1)n1ncc(c)ccc1)n1cccc(C)(C)c1cccc(F)(F)cc1)c1cccc(F)ccc1)n2ccccc3c2\n",
      "[19:57:52] SMILES Parse Error: Failed parsing SMILES 'C1NC(=O)C(=O)c1ccccnc1)c1cc1cccccc1)n1ncc(c)ccc1)n1cccc(C)(C)c1cccc(F)(F)cc1)c1cccc(F)ccc1)n2ccccc3c2' for input: 'C1NC(=O)C(=O)c1ccccnc1)c1cc1cccccc1)n1ncc(c)ccc1)n1cccc(C)(C)c1cccc(F)(F)cc1)c1cccc(F)ccc1)n2ccccc3c2'\n",
      "100%|███████████████████████████████████████| 1000/1000 [10:25<00:00,  1.60it/s]"
     ]
    },
    {
     "name": "stdout",
     "output_type": "stream",
     "text": [
      "Total SMILES Generated: 1000\n",
      "Valid SMILES Ratio: 0.04\n",
      "Desired SMILES Ratio (2-3 Cl atoms): 0.00\n"
     ]
    },
    {
     "name": "stderr",
     "output_type": "stream",
     "text": [
      "\n"
     ]
    }
   ],
   "source": [
    "# Example usage\n",
    "torch.manual_seed(1)\n",
    "valid_smiles_ratio, desired_smiles_ratio = evaluate_model(finetunemodel, starting_str=\"C\", num_samples=1000, scale_factor=0.5)\n"
   ]
  },
  {
   "cell_type": "code",
   "execution_count": 23,
   "id": "4bcf0108-eb0a-47b1-b3b2-7863db1144ba",
   "metadata": {},
   "outputs": [],
   "source": [
    "torch.save(finetunemodel.state_dict(), \"finetunedmodel_RL.pt\")"
   ]
  },
  {
   "cell_type": "code",
   "execution_count": 19,
   "id": "7c0233f8-f9a6-4620-8a34-fb4d3edb6760",
   "metadata": {},
   "outputs": [
    {
     "data": {
      "text/plain": [
       "0.035"
      ]
     },
     "execution_count": 19,
     "metadata": {},
     "output_type": "execute_result"
    }
   ],
   "source": [
    "valid_smiles_ratio"
   ]
  },
  {
   "cell_type": "code",
   "execution_count": 20,
   "id": "beab5d52-3e95-4c08-92ca-56d71c5cf20d",
   "metadata": {},
   "outputs": [
    {
     "data": {
      "text/plain": [
       "0.0"
      ]
     },
     "execution_count": 20,
     "metadata": {},
     "output_type": "execute_result"
    }
   ],
   "source": [
    "desired_smiles_ratio"
   ]
  },
  {
   "cell_type": "code",
   "execution_count": null,
   "id": "50518208-f1c8-4ee6-a7f5-747bc464df5d",
   "metadata": {},
   "outputs": [],
   "source": []
  }
 ],
 "metadata": {
  "kernelspec": {
   "display_name": "Python 3 (ipykernel)",
   "language": "python",
   "name": "python3"
  },
  "language_info": {
   "codemirror_mode": {
    "name": "ipython",
    "version": 3
   },
   "file_extension": ".py",
   "mimetype": "text/x-python",
   "name": "python",
   "nbconvert_exporter": "python",
   "pygments_lexer": "ipython3",
   "version": "3.12.2"
  }
 },
 "nbformat": 4,
 "nbformat_minor": 5
}
